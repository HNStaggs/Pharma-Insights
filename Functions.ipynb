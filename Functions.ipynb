{
 "cells": [
  {
   "cell_type": "code",
   "execution_count": 1,
   "id": "7b1043dd-2ead-4793-a0db-0b84973ac47d",
   "metadata": {},
   "outputs": [],
   "source": [
    "from string import punctuation\n",
    "from nltk.stem import WordNetLemmatizer\n",
    "\n",
    "\n",
    "def process_text(text):\n",
    "    # Function to remove stopwords\n",
    "    def remove_stopwords(tokens):\n",
    "        sw = stopwords.words(\"english\")\n",
    "        return [token for token in tokens if token not in sw]\n",
    "    \n",
    "    # Function to tokenize text\n",
    "    def tokenize(text):\n",
    "        return text.split()\n",
    "    \n",
    "    # Function to remove punctuation\n",
    "    def remove_punctuation(text):\n",
    "        return \"\".join([ch if ch not in punctuation else \" \" for ch in text])\n",
    "    \n",
    "    # Function to convert tokens to lowercase\n",
    "    def lowercase_tokens(tokens):\n",
    "        return [token.lower() for token in tokens]\n",
    "    \n",
    "    # Function to remove numerical tokens\n",
    "    def remove_numerical_tokens(tokens):\n",
    "        return [token for token in tokens if not token.isdigit()]\n",
    "    \n",
    "    # Function to lemmatize tokens\n",
    "    def lemmatize_tokens(tokens):\n",
    "        lemmatizer = WordNetLemmatizer()\n",
    "        return [lemmatizer.lemmatize(token) for token in tokens]\n",
    "    \n",
    "    # Function to remove duplicate tokens\n",
    "    def remove_duplicate_tokens(tokens):\n",
    "        return list(OrderedDict.fromkeys(tokens))\n",
    "    \n",
    "    # Function to strip extra spaces\n",
    "    def strip_extra_spaces(text):\n",
    "        return \" \".join(text.split())\n",
    "    \n",
    "    # Pipeline of text processing steps\n",
    "    pipeline = [\n",
    "        remove_punctuation,\n",
    "        strip_extra_spaces,\n",
    "        tokenize,\n",
    "        lowercase_tokens,\n",
    "        remove_numerical_tokens,\n",
    "        lemmatize_tokens,\n",
    "        remove_stopwords,\n",
    "        remove_duplicate_tokens\n",
    "    ]\n",
    "    \n",
    "    # Apply the pipeline to the text\n",
    "    processed_text = text\n",
    "    for function in pipeline:\n",
    "        processed_text = function(processed_text)\n",
    "    \n",
    "    return processed_text"
   ]
  },
  {
   "cell_type": "code",
   "execution_count": null,
   "id": "ffb3a327-fbdf-487c-8a13-72f2387d5cfe",
   "metadata": {},
   "outputs": [],
   "source": []
  }
 ],
 "metadata": {
  "kernelspec": {
   "display_name": "Python 3 (ipykernel)",
   "language": "python",
   "name": "python3"
  },
  "language_info": {
   "codemirror_mode": {
    "name": "ipython",
    "version": 3
   },
   "file_extension": ".py",
   "mimetype": "text/x-python",
   "name": "python",
   "nbconvert_exporter": "python",
   "pygments_lexer": "ipython3",
   "version": "3.8.8"
  }
 },
 "nbformat": 4,
 "nbformat_minor": 5
}
