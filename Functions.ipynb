{
 "cells": [
  {
   "cell_type": "code",
   "execution_count": 4,
   "id": "7b1043dd-2ead-4793-a0db-0b84973ac47d",
   "metadata": {},
   "outputs": [],
   "source": [
    "import nltk\n",
    "from nltk.tokenize import word_tokenize\n",
    "from nltk.stem import WordNetLemmatizer\n",
    "from nltk.corpus import stopwords\n",
    "import string\n",
    "import pandas as pd\n",
    "from string import punctuation\n",
    "punctuation = set(punctuation)\n",
    "from nltk.stem import PorterStemmer\n",
    "\n",
    "\n",
    "\n",
    "def process_text(text):\n",
    "    '''Function to process text fields.\n",
    "    Involves removing punctuation, tokenizing text, removing stopwords, lemmatizing tokens, folding to lowercase.'''\n",
    "    # Define punctuation set\n",
    "    punctuation = set(string.punctuation)\n",
    "    # Add additional punctuation character\n",
    "    punctuation.update({'‘'})\n",
    "\n",
    "    # Tokenize text using NLTK's word_tokenize\n",
    "    tokens = word_tokenize(text)\n",
    "    \n",
    "    # Remove stopwords and punctuation, and lemmatize tokens\n",
    "    sw = set(stopwords.words(\"english\"))\n",
    "    lemmatizer = WordNetLemmatizer()\n",
    "    tokens = [\n",
    "        lemmatizer.lemmatize(token.lower())\n",
    "        for token in tokens\n",
    "        if token.lower() not in sw and all(char not in punctuation for char in token)\n",
    "    ]\n",
    "    \n",
    "    return tokens"
   ]
  },
  {
   "cell_type": "code",
   "execution_count": 5,
   "id": "9974f395-74cc-452f-9e12-9c3da91a6fd0",
   "metadata": {},
   "outputs": [],
   "source": [
    "# Define the text processing function\n",
    "def process_label_text(text):\n",
    "    if isinstance(text, str):  # Check if the input is a string\n",
    "        # Define punctuation set\n",
    "        punctuation = set(string.punctuation)\n",
    "        \n",
    "        # Replace punctuation with spaces\n",
    "        for p in punctuation:\n",
    "            text = text.replace(p, ' ')\n",
    "        \n",
    "        # Tokenize text using NLTK's word_tokenize\n",
    "        tokens = word_tokenize(text)\n",
    "\n",
    "        # Remove stopwords and lemmatize tokens\n",
    "        sw = set(stopwords.words(\"english\"))\n",
    "        lemmatizer = WordNetLemmatizer()\n",
    "        tokens = [\n",
    "            lemmatizer.lemmatize(token.lower())\n",
    "            for token in tokens\n",
    "            if token.lower() not in sw\n",
    "        ]\n",
    "\n",
    "        # Remove duplicate tokens while maintaining order\n",
    "        seen = set()\n",
    "        unique_tokens = []\n",
    "        for token in tokens:\n",
    "            if token not in seen:\n",
    "                seen.add(token)\n",
    "                unique_tokens.append(token)\n",
    "        \n",
    "        return unique_tokens  # Return the list of tokens\n",
    "    else:\n",
    "        return text  # Return the original value if it's not a string\n"
   ]
  },
  {
   "cell_type": "code",
   "execution_count": 6,
   "id": "e955a249-e302-4ecc-9550-5100d4894b65",
   "metadata": {},
   "outputs": [],
   "source": [
    "def add_sequential_index(df, index_col_name):\n",
    "    \"\"\"\n",
    "    Add sequential index column to dataframe table. Inputs are the dataframe, and desired name of index column. \n",
    "    \"\"\"\n",
    "    # Reset the index and rename the index column to input index_col_name\n",
    "    df = df.reset_index().rename(columns={\"index\": index_col_name})\n",
    "    \n",
    "    # Add 1 to index to start index from 1 instead of 0\n",
    "    df[index_col_name] = df[index_col_name] + 1\n",
    "    \n",
    "    return df"
   ]
  },
  {
   "cell_type": "code",
   "execution_count": 3,
   "id": "86d695e3-5511-472b-880d-e859e451f9e3",
   "metadata": {},
   "outputs": [],
   "source": [
    "# Missing values to null for now (simplifies type conversions & plotting)\n",
    "def na_to_null(df, column):\n",
    "    df[column] = df[column].replace('N/A', np.nan)\n",
    "    return df"
   ]
  },
  {
   "cell_type": "code",
   "execution_count": null,
   "id": "8e7e2a7c-45e0-453f-999f-9350eafb3e02",
   "metadata": {},
   "outputs": [],
   "source": []
  }
 ],
 "metadata": {
  "kernelspec": {
   "display_name": "Python 3 (ipykernel)",
   "language": "python",
   "name": "python3"
  },
  "language_info": {
   "codemirror_mode": {
    "name": "ipython",
    "version": 3
   },
   "file_extension": ".py",
   "mimetype": "text/x-python",
   "name": "python",
   "nbconvert_exporter": "python",
   "pygments_lexer": "ipython3",
   "version": "3.9.18"
  }
 },
 "nbformat": 4,
 "nbformat_minor": 5
}
