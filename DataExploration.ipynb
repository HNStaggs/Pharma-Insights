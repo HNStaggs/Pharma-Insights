{
 "cells": [
  {
   "cell_type": "code",
   "execution_count": null,
   "id": "5c86a165-dc49-4f80-94c9-1835a6b3de2b",
   "metadata": {},
   "outputs": [],
   "source": [
    "# comment"
   ]
  }
 ],
 "metadata": {
  "kernelspec": {
   "display_name": "Python 3 (ipykernel)",
   "language": "python",
   "name": "python3"
  },
  "language_info": {
   "codemirror_mode": {
    "name": "ipython",
    "version": 3
   },
   "file_extension": ".py",
   "mimetype": "text/x-python",
   "name": "python",
   "nbconvert_exporter": "python",
   "pygments_lexer": "ipython3",
   "version": "3.9.18"
  }
 },
 "nbformat": 4,
 "nbformat_minor": 5
}
