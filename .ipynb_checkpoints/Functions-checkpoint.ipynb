{
 "cells": [
  {
   "cell_type": "code",
   "execution_count": 33,
   "id": "7b1043dd-2ead-4793-a0db-0b84973ac47d",
   "metadata": {},
   "outputs": [
    {
     "name": "stdout",
     "output_type": "stream",
     "text": [
      "['food', 'drug', 'administration']\n"
     ]
    }
   ],
   "source": [
    "import nltk\n",
    "from nltk.tokenize import word_tokenize\n",
    "from nltk.stem import WordNetLemmatizer\n",
    "from nltk.corpus import stopwords\n",
    "import string\n",
    "import pandas as pd\n",
    "from string import punctuation\n",
    "punctuation = set(punctuation)\n",
    "\n",
    "\n",
    "\n",
    "def process_text(document):\n",
    "    # Define punctuation set\n",
    "    punctuation = set(string.punctuation)\n",
    "    punctuation.update({'_', '-','‘'})\n",
    "\n",
    "    # Tokenize document using NLTK's word_tokenize\n",
    "    tokens = word_tokenize(document)\n",
    "    \n",
    "    # Remove stopwords and punctuation, and lemmatize tokens\n",
    "    sw = set(stopwords.words(\"english\"))\n",
    "    lemmatizer = WordNetLemmatizer()\n",
    "    tokens = [\n",
    "        lemmatizer.lemmatize(token.lower())\n",
    "        for token in tokens\n",
    "        if token.lower() not in sw and all(char not in punctuation for char in token)\n",
    "    ]\n",
    "    \n",
    "    return tokens\n",
    "\n",
    "# Example usage\n",
    "document = \"I FOOD _-AND DRUG ADMINISTRATION ‘ 'i\\nU. S. D...\"\n",
    "processed_tokens = process_text(document)\n",
    "print(processed_tokens)\n",
    "\n",
    "\n",
    "\n",
    "def add_sequential_index(df, index_col_name):\n",
    "    \"\"\"\n",
    "    Add sequential index column to dataframe table. Inputs are the dataframe, and desired name of index column. \n",
    "    \"\"\"\n",
    "    # Reset the index and rename the index column to input index_col_name\n",
    "    df = df.reset_index().rename(columns={\"index\": index_col_name})\n",
    "    \n",
    "    # Add 1 to index to start index from 1 instead of 0\n",
    "    df[index_col_name] = df[index_col_name] + 1\n",
    "    \n",
    "    return df"
   ]
  },
  {
   "cell_type": "code",
   "execution_count": null,
   "id": "86d695e3-5511-472b-880d-e859e451f9e3",
   "metadata": {},
   "outputs": [],
   "source": []
  }
 ],
 "metadata": {
  "kernelspec": {
   "display_name": "Python 3 (ipykernel)",
   "language": "python",
   "name": "python3"
  },
  "language_info": {
   "codemirror_mode": {
    "name": "ipython",
    "version": 3
   },
   "file_extension": ".py",
   "mimetype": "text/x-python",
   "name": "python",
   "nbconvert_exporter": "python",
   "pygments_lexer": "ipython3",
   "version": "3.8.8"
  }
 },
 "nbformat": 4,
 "nbformat_minor": 5
}
