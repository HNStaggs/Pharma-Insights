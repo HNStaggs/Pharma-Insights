{
 "cells": [
  {
   "cell_type": "code",
   "execution_count": 325,
   "id": "05ff8559-6d5e-4ef1-a907-2fb2e5d79441",
   "metadata": {},
   "outputs": [],
   "source": [
    "import os\n",
    "import requests\n",
    "import pandas as pd\n",
    "import json\n",
    "import time\n",
    "import random\n",
    "from datetime import datetime, timedelta\n",
    "import numpy as np \n",
    "import xml.etree.ElementTree as ET\n",
    "\n",
    "import pymysql as mysql\n",
    "import mysql.connector\n",
    "import warnings\n",
    "import matplotlib.pyplot as plt\n",
    "import csv\n",
    "from nltk.tokenize import word_tokenize\n",
    "\n",
    "import pyodbc\n",
    "import sqlite3\n",
    "import sqlalchemy\n",
    "from sqlalchemy import create_engine\n",
    "from sqlalchemy import event\n",
    "from tabulate import tabulate\n",
    "import plotly.express as px\n",
    "import seaborn as sns\n",
    "from string import punctuation\n",
    "import string\n",
    "import nltk\n",
    "from collections import OrderedDict\n",
    "from nltk.tokenize import word_tokenize\n",
    "from pandas import json_normalize  \n",
    "\n",
    "\n",
    "#nltk.download('punkt')\n",
    "#nltk.download('stopwords')\n",
    "warnings.filterwarnings('ignore')\n",
    "\n",
    "\n",
    "from nltk.stem import WordNetLemmatizer\n",
    "lemmatizer = WordNetLemmatizer()\n",
    "from nltk.util import ngrams\n",
    "\n",
    "from nltk.corpus import stopwords\n",
    "from string import punctuation\n",
    "punctuation = set(punctuation)\n",
    "punctuation.update({'_', '-','‘'})\n",
    "\n",
    "\n",
    "# mysql password\n",
    "PASSWORD = \"password\"\n",
    "\n",
    "import nbimporter\n",
    "from Functions import process_text, add_sequential_index, process_label_text, remove_duplicates,classify_product_type, nan_info"
   ]
  },
  {
   "cell_type": "markdown",
   "id": "6ab5deb8-b58b-4467-9d41-e932713b15ec",
   "metadata": {},
   "source": [
    "# FDA Data"
   ]
  },
  {
   "cell_type": "markdown",
   "id": "f8914c2b-c2b1-4a5a-9283-a64859e3bc55",
   "metadata": {},
   "source": [
    "### API Request for Historical Text Documents"
   ]
  },
  {
   "cell_type": "markdown",
   "id": "7db161d9-9254-46be-8958-b43e089a41a9",
   "metadata": {},
   "source": [
    "https://open.fda.gov/apis/other/historicaldocument/"
   ]
  },
  {
   "cell_type": "code",
   "execution_count": 289,
   "id": "99271241-e99f-4868-b6e1-fe8ed7177bd6",
   "metadata": {},
   "outputs": [
    {
     "name": "stdout",
     "output_type": "stream",
     "text": [
      "Requesting data with params: {'limit': 1000, 'skip': 0}\n",
      "Response status code: 200\n"
     ]
    },
    {
     "data": {
      "text/html": [
       "<div>\n",
       "<style scoped>\n",
       "    .dataframe tbody tr th:only-of-type {\n",
       "        vertical-align: middle;\n",
       "    }\n",
       "\n",
       "    .dataframe tbody tr th {\n",
       "        vertical-align: top;\n",
       "    }\n",
       "\n",
       "    .dataframe thead th {\n",
       "        text-align: right;\n",
       "    }\n",
       "</style>\n",
       "<table border=\"1\" class=\"dataframe\">\n",
       "  <thead>\n",
       "    <tr style=\"text-align: right;\">\n",
       "      <th></th>\n",
       "      <th>doc_type</th>\n",
       "      <th>year</th>\n",
       "      <th>text</th>\n",
       "    </tr>\n",
       "  </thead>\n",
       "  <tbody>\n",
       "    <tr>\n",
       "      <th>0</th>\n",
       "      <td>pr</td>\n",
       "      <td>2006</td>\n",
       "      <td>FDA NEWS RELEASE\\nFOR IMMEDIATE RELEASE\\n\\nFebruary 9, 2006\\n\\nReport Demonstrates Benefits of Earlier Meetings with FDA to Make Drug Review Process More\\nEfficient\\n\\nThe Food and Drug Administration (FDA) released a report that takes an in-depth look at the way the\\nagency reviews applications for drugs and biologics that have not previously been approved by FDA. The\\nreport was commissioned to look at differences in applications approved by the agency during the first\\nround of review (first-cycle) compared to those applications that took multiple reviews (multi-cycle)\\nbefore approval. One of the most compelling findings was the positive impact \"milestone meetings\"\\nheld between a product sponsor and the FDA can have in making the drug review process more efficient\\nby improving the quality of initial applications.\\n\\nThe report, entitled Independent Evaluation of FDA's First Cycle Review Performance--Retrospective\\nAnalysis, showed the positive impact consulting with the FDA before beginning the final phase of human\\ntesting (end of Phase 2) can have on first-cycle approval rates. Fifty-two percent of companies that held\\na meeting with the FDA at the end of Phase 2 trials received approval during the first review cycle.\\nHowever, only 29 percent of sponsors that did not have consultation meetings in this phase gained\\napproval during the first review cycle for their product. In addition, the report also noted a positive link\\nbetween a first-cycle approval and an earlier consultation before the application is even submitted -- of\\n58 products with these types of meetings, almost half received first cycle approval.\\n\\n\"These meetings have become one of the most valuable aspects of the drug development process,\" said\\nActing FDA Commissioner Andrew von Eschenbach, MD. \"Earlier consultation and feedback from FDA on\\nthe sponsor's development program is critical to ensuring safe and effective study designs and\\nincreasing the probability that the resulting marketing application will meet regulatory requirements.\\nThese meetings are a unique aspect of FDA's review program, but they are very labor intensive and\\nrequire adequate Agency resources in order to sustain the current success.\"\\n\\nMost products with multiple cycles had major deficiencies identified in only one or two areas.\\nDeficiencies in safety assessment were the most common reason for FDA requesting additional cycles,\\nfollowed by efficacy and chemistry/manufacturing related issues.\\n\\nThe report also showed, however, that consulting with the FDA prior to application submission does not\\nalways prevent the need for multiple review cycles prior to approval. The report notes that even when\\nmajor issues with an application are identified by FDA in milestone meetings, the sponsor did not always\\nadequately address them prior to submission of the application. In fact, 71 percent of applications\\nwhere key issues were identified by FDA during pre-submission meetings were not adequately resolved\\nby the sponsor by the time of first action.\\n\\nAs a result of this independent analysis the report recommends that in order to further improve first-\\ncycle approval rates FDA should play a \"much more proactive role\" throughout the development\\n\\n\\nprocess. The report suggests that this will help the agency to better work with the sponsor to identify\\nand communicate issues and potential deficiencies earlier on in the review process. The report also\\nrecommended that the agency actively follow up with sponsors after milestone meetings to ensure the\\nsponsor has adequately addressed issues identified during the meetings. The report notes, however,\\nthat implementing the recommendations would have significant resource implications for FDA given\\ncurrent workload and staffing in the reviewing divisions.\\n\\n\"There has been dramatic growth in the number of meetings with sponsors in the past several years.\\nThe additional workload for meetings is going to have to be supported by additional staffing,\" said Dr.\\nJohn Jenkins, Director of the FDA's Office of New Drugs in FDA's Center for Drug Evaluation and\\nResearch.\\n\\nMore and more companies are seeking early advice from FDA. The independent report shows that\\nincreased communication with the FDA often results in a more informed and efficient drug development\\nprocess, especially for products that represent a major innovation and have significant public health\\nimpact. Requests for consultations to review clinical milestones and next steps in the development\\nprocess are up more than 60 percent over the past few years under PDUFA III. In fiscal year 2005, FDA\\nreceived over 2,400 requests for formal meetings with industry on PDU FA products in development.\\n\\nThe independent study was conducted by Booz, Allen Hamilton in relation to the Prescription Drug User\\nFee Amendments of 2002 (PDUFA III). This assessment includes a detailed evaluation of the events that\\noccurred during the review process of new molecular entities for new drug applications (NMEs for\\nNDAs), and biological license applications (BLAs) submitted in fiscal years 2002 to 2004.\\n\\nThe study may be accessed on FDA's web site at: www.fda.gov/oc/pdufa/.\\n\\n</td>\n",
       "    </tr>\n",
       "    <tr>\n",
       "      <th>1</th>\n",
       "      <td>pr</td>\n",
       "      <td>2006</td>\n",
       "      <td>FDA NEWS RELEASE\\nFOR IMMEDIATE RELEASE\\n\\nFebruary 17, 2006\\n\\nU.S. Marshals Seize Food Items from DC Company\\n\\nAt the request ofthe U.S. Food and Drug Administration (FDA), the U.S. District Court for the District of\\nColumbia issued a warrant on February 17, 2006, to seize various foods at Happy Valley Food, Inc.,\\nlocated in the District of Columbia. The seizure action was initiated by the U.S. Attorney for the District\\nof Columbia and FDA after FDA found extensive evidence of rodent infestation, rodent-defiled food,\\novercrowded storage conditions, and harborage areas for various pests throughout the firm’s\\nwarehouse facility during a recent inspection. The FDA inspection was conducted upon notification of\\ninsanitary conditions at the firm by the U.S. Department of Agriculture’s Food Safety and Inspection\\nService and with the cooperation and assistance of the District of Columbia’s Department of Health.\\n\\nThe U.S. Marshals seized a” FDA-regulated food susceptible to rodent and pest contamination. The\\nseized products violate the Federal Food, Drug, and Cosmetic Act because they were held under\\ninsanitary conditions. Happy Valley Food, Inc. warehouses food and paper items for the restaurant\\nindustry including rice, Japanese bread crumbs, flour, corn starch, dried mushrooms, soy sauce, duck\\nsauce, dried beans, and spices.\\n\\nFDA previously brought a seizure action against Happy Valley Food, Inc. in 1996 and issued a Warning\\nLetter outlining unacceptable storage conditions in 2001. The agency also conducted inspections in\\n2003, 2005, and 2006. Despite these previous actions, the company has failed to adequately correct the\\nviolations.\\n\\nThe FDA has initiated this action to promote and protect the public health by enforcing the Federal\\nFood, Drug, and Cosmetic Act. FDA’s mission includes ensuring the safety or safety and effectiveness of\\na broad spectrum of regulated products, including food, human and animal drugs, vaccines, blood\\nproducts, medical devices, electronic products that emit radiation, and cosmetics.\\n\\n</td>\n",
       "    </tr>\n",
       "    <tr>\n",
       "      <th>2</th>\n",
       "      <td>talk</td>\n",
       "      <td>1991</td>\n",
       "      <td>I FOOD _-AND DRUG ADMINISTRATION ‘ 'i\\nU. S. Dc partmcnt of Health and Human Services °\\nPublic Health Service 5600 _Fishe'ts Ianc' Rockville. Maryland 20857.\\n\\n\"“FDATilkPapctsaxepzepmedbyanmOﬁicemgmchDApesonmlmmpondmgmﬂncommmyandmmym\\nqucsdonsﬁomdicpubﬁconmbjeus ufcunent mount. Talkhpexsuembjecttodiangeasmoreinfomtion becomes\\n\\navaithe. Talk Papers an: not intended for gonna! disuibution outside FDA, but all information an them is public. and\\nfull texts are tclcasablc upon request.\\n\\n{91—48 , . Mike Shaffer\\nAug. 2, 1991 . (301) 443-3285\\n\\nKessler Names Investigations Advisor\\n\\nas Special Assistant for Investigations in the Office of the Commissioner.\\n'In this :apacity Phillips will provide advice to the Commissioner on ongoing\\n\\ninvestigations and suspected violations of laws and regulations in\\nconnection with the expanded agencygwide enforcement activities announced\\nearlier this year. He is scheduled to report to FDA on Adgust 12.\\n\\nPhillips has been Chief Minority Investigator since 1987 for the 0.5.\\nSenate Labor and Human Resources Committee and Director of Oversight and\\nInvestigations for the committee from 1981 to l§87.\\n\\nHe lives with his wife and two children in iairfax, Virginia.\\n\\nI\\nFDA CommiSsioner David A. Kessler, H.D., has appointed James 6. Phillips\\n#### ‘\\n\\n</td>\n",
       "    </tr>\n",
       "    <tr>\n",
       "      <th>3</th>\n",
       "      <td>pr</td>\n",
       "      <td>1934</td>\n",
       "      <td>iNFORMATION FOR THE PRESS\\n\\nu 8. DEPARTMENT OF AGRICULTURE\\nOffice of Information\\n\\nW OS— » »\\ va,\\n\\nJuly 18, 1954\\n'3 DINITROPHENOL DANGEROUS\\n-- “ . IN \"REDUCING\" NOSTRUMS\\n‘ 1’\\nM‘ﬁlg 1 _\\n\\nThe Breducing racket\" has a group of new and\\n\\n \\n  \\n  \\n\\n   \\n \\n\\n \\n\\na\\n\\ndangerous drugs, dinitrophenol and related compounds. Racketeers are selling\\nthese drugs in fat reducers in spite of reports of deaths caused by their com—\\npounds, says W. G. Campbell, Chief of the Food and Drug Administration. \"Reducing\\nagents Containing these drugs,\" says Mr. Campbell, '\"have sprung up like mushrooms\\nall over the country, and are endangering the lives of patrons. The Federal Food\\nand Drugs Act has no jurisdiction over products of this type, dangerous though\\nthey may be. All that the Food and Drug Administration can do is to warn the\\npublic that these compounds are dangerous.\"\\n\\nClinical evidence shows, Mr. Campbell said, that these drugs act by\\nincreasing the metabolic rate. This amounts to a speeding up of the body\\nvprocesses, resulting in a destruction of the tissues, including fat, to provide\\nfuel for the accelerated metabolism. Common symptoms are increased temperature,\\npulse or respiration, or conious sweating. In particular, Mr. Campbell warned,\\nthese drugs should not be used by individuals suffering from chronic rheumatism.\\nalcoholism, tuberculosis or diseases of the heart, liver or kidneys, as Poisonous\\nand otherwise harmful effects are even more likely to manifest themselves. There\\n\\nis also some evidence that they may cause profound disturbance of the blood—\\nforming organs.\\n\\nThese drugs, in common with many others, may serve a useful purpose when\\nthe dosage is preperly adapted to the needs of the individual patient, provided\\nthere are no contrarindications to its use, he says. Proper dosage and indications\\nfor use, however, as well as prompt discovery of toxic effects, can be determined\\nonly by a skilled physician. Furthermore, there may be unexpected harmful effects\\nthat are not disclosed by the first tests. Such effects can be determined con—\\nclusively only after extensive trial and use, in addition to the tests which should\\nin all cases be made before the preparation is offered to the public. 135~35\\n\\n_—c.....\\n\\n5.\\n\\n</td>\n",
       "    </tr>\n",
       "    <tr>\n",
       "      <th>4</th>\n",
       "      <td>pr</td>\n",
       "      <td>1975</td>\n",
       "      <td>\\n\\nU. S. DEPARTMENT OF HEALTH. EDUCATION. AND WELFARE\\n\\n(Food and Drug Administration)\\n\\n75-29\\nFOR IMMEDIATE RELEASE NIDA--(301)--443-3285\\n(Home)——(30l)--365-4574\\n\\nAugust 7, l975\\n\\nThe entire inventory of a new and different type of contact lenses,\\n\\ntogether with instructions for their use, were seized today from the Rynco\\n\\nrequest of the Food and Drug Administration.\\n\\nAbout 7,000 Rynco RX—56 lenses, materials for several thousand more,\\n\\nand all accompanying literature were seized on court order after the firm\\n\\nhad been told to stop the manufacture and sale of lenses that FDA said were\\n\\nmade from a type of plastic that has not been shown to be safe and effective.\\n\\nFDA policy is that only hard contact lenses made from one type of plastic,\\n\\npolymethylmethacrylate (PMMA), are generally regarded as safe and effective\\n\\nfor correcting vision. Contact lenses made from any other plastic must be\\n\\napproved by FDA prior to marketing.\\n\\nThe Agency charged that Rynco's labeling is false and misleading in that\\n\\nit claims that the lenses meet current Federal regulations. FDA also charged\\n\\nthat the labeling is false and misleading in that no valid scientific studies\\n\\nexist to demonstrate the lenses' safety and effectiveness, as suggested by\\n\\nthe firm's claims. The lenses are not generally recognized as safe and\\n\\neffective by qualified experts for use under conditions recommended in the\\n\\nlabeling, FDA said.\\n-MORE—\\n\\n\\nPage 2\\n\\nIn l974, FDA became aware that Rynco Scientific Corporation was marketing\\na non—PMMA, gas—permeable contact lens without New Drug Application (NDA)\\napproval. Based on past policy and a medical review by FDA's Bureau of Drugs,\\n\\na regulatory letter was issued to Rynco on August l4, 1974, declaring the RX—56\\ncontact lens to be a \"new drug.\"\\n\\nSubsequently, meetings were held between Rynco and FDA on Sept. ll, 1974,\\nMarch 31, 1975, and April 28, 1975, which resulted in additional regulatory letters\\nbeing issued on March 14, l975, and June 23, 1975. The firm consistently was ‘\\nadvised that its product is a \"new drug,” and that production and marketing should\\nbe discontinued and stocks recalled from Opticians. physicians, and optometrists.\\nFDA recommended seizure because the firm chose to disregard these letters and\\ncontinued to market the product. The firm disputes FDA's position that the\\n.lenses require FDA approval before marketing.\\n\\n####\\n\\n</td>\n",
       "    </tr>\n",
       "  </tbody>\n",
       "</table>\n",
       "</div>"
      ],
      "text/plain": [
       "  doc_type  year  \\\n",
       "0       pr  2006   \n",
       "1       pr  2006   \n",
       "2     talk  1991   \n",
       "3       pr  1934   \n",
       "4       pr  1975   \n",
       "\n",
       "                                                                                                                                                                                                                                                                                                                                                                                                                                                                                                                                                                                                                                                                                                                                                                                                                                                                                                                                                                                                                                                                                                                                                                                                                                                                                                                                                                                                                                                                                                                                                                                                                                                                                                                                                                                                                                                                                                                                                                                                                                                                                                                                                                                                                                                                                                                                                                                                                                                                                                                                                                                                                                                                                                                                                                                                                                                                                                                                                                                                                                                                                                                                                                                                                                                                                                                                                                                                                                                                                                                                                                                                                                                                                                                                                                                                                                                                                                                                                                                                                                                                                                                                                                                                                                                                                                                                                                                                                                                                                                                                                                                                                                                                                                                                                                                                                                                                                                                                                                                                                                                                                                                                                                                                                                                                                                                                                                                                                            text  \n",
       "0  FDA NEWS RELEASE\\nFOR IMMEDIATE RELEASE\\n\\nFebruary 9, 2006\\n\\nReport Demonstrates Benefits of Earlier Meetings with FDA to Make Drug Review Process More\\nEfficient\\n\\nThe Food and Drug Administration (FDA) released a report that takes an in-depth look at the way the\\nagency reviews applications for drugs and biologics that have not previously been approved by FDA. The\\nreport was commissioned to look at differences in applications approved by the agency during the first\\nround of review (first-cycle) compared to those applications that took multiple reviews (multi-cycle)\\nbefore approval. One of the most compelling findings was the positive impact \"milestone meetings\"\\nheld between a product sponsor and the FDA can have in making the drug review process more efficient\\nby improving the quality of initial applications.\\n\\nThe report, entitled Independent Evaluation of FDA's First Cycle Review Performance--Retrospective\\nAnalysis, showed the positive impact consulting with the FDA before beginning the final phase of human\\ntesting (end of Phase 2) can have on first-cycle approval rates. Fifty-two percent of companies that held\\na meeting with the FDA at the end of Phase 2 trials received approval during the first review cycle.\\nHowever, only 29 percent of sponsors that did not have consultation meetings in this phase gained\\napproval during the first review cycle for their product. In addition, the report also noted a positive link\\nbetween a first-cycle approval and an earlier consultation before the application is even submitted -- of\\n58 products with these types of meetings, almost half received first cycle approval.\\n\\n\"These meetings have become one of the most valuable aspects of the drug development process,\" said\\nActing FDA Commissioner Andrew von Eschenbach, MD. \"Earlier consultation and feedback from FDA on\\nthe sponsor's development program is critical to ensuring safe and effective study designs and\\nincreasing the probability that the resulting marketing application will meet regulatory requirements.\\nThese meetings are a unique aspect of FDA's review program, but they are very labor intensive and\\nrequire adequate Agency resources in order to sustain the current success.\"\\n\\nMost products with multiple cycles had major deficiencies identified in only one or two areas.\\nDeficiencies in safety assessment were the most common reason for FDA requesting additional cycles,\\nfollowed by efficacy and chemistry/manufacturing related issues.\\n\\nThe report also showed, however, that consulting with the FDA prior to application submission does not\\nalways prevent the need for multiple review cycles prior to approval. The report notes that even when\\nmajor issues with an application are identified by FDA in milestone meetings, the sponsor did not always\\nadequately address them prior to submission of the application. In fact, 71 percent of applications\\nwhere key issues were identified by FDA during pre-submission meetings were not adequately resolved\\nby the sponsor by the time of first action.\\n\\nAs a result of this independent analysis the report recommends that in order to further improve first-\\ncycle approval rates FDA should play a \"much more proactive role\" throughout the development\\n\\n\\nprocess. The report suggests that this will help the agency to better work with the sponsor to identify\\nand communicate issues and potential deficiencies earlier on in the review process. The report also\\nrecommended that the agency actively follow up with sponsors after milestone meetings to ensure the\\nsponsor has adequately addressed issues identified during the meetings. The report notes, however,\\nthat implementing the recommendations would have significant resource implications for FDA given\\ncurrent workload and staffing in the reviewing divisions.\\n\\n\"There has been dramatic growth in the number of meetings with sponsors in the past several years.\\nThe additional workload for meetings is going to have to be supported by additional staffing,\" said Dr.\\nJohn Jenkins, Director of the FDA's Office of New Drugs in FDA's Center for Drug Evaluation and\\nResearch.\\n\\nMore and more companies are seeking early advice from FDA. The independent report shows that\\nincreased communication with the FDA often results in a more informed and efficient drug development\\nprocess, especially for products that represent a major innovation and have significant public health\\nimpact. Requests for consultations to review clinical milestones and next steps in the development\\nprocess are up more than 60 percent over the past few years under PDUFA III. In fiscal year 2005, FDA\\nreceived over 2,400 requests for formal meetings with industry on PDU FA products in development.\\n\\nThe independent study was conducted by Booz, Allen Hamilton in relation to the Prescription Drug User\\nFee Amendments of 2002 (PDUFA III). This assessment includes a detailed evaluation of the events that\\noccurred during the review process of new molecular entities for new drug applications (NMEs for\\nNDAs), and biological license applications (BLAs) submitted in fiscal years 2002 to 2004.\\n\\nThe study may be accessed on FDA's web site at: www.fda.gov/oc/pdufa/.\\n\\n  \n",
       "1                                                                                                                                                                                                                                                                                                                                                                                                                                                                                                                                                                                                                                                                                                                                                                                                                                                                                                                                                                                                                                                                                                                                                                                                                                                                                                                                                                                                                                                                                                                                                                                                                                                                                                                                                                                                                                                                                                                                                                                                                                                                                                                                                                                                                                                                                                                                                                                                                                                                                                                                                                                                                                                                                                                                                                                                                                                                                                                                                                                                                                                                                                                                                                                                                                                                          FDA NEWS RELEASE\\nFOR IMMEDIATE RELEASE\\n\\nFebruary 17, 2006\\n\\nU.S. Marshals Seize Food Items from DC Company\\n\\nAt the request ofthe U.S. Food and Drug Administration (FDA), the U.S. District Court for the District of\\nColumbia issued a warrant on February 17, 2006, to seize various foods at Happy Valley Food, Inc.,\\nlocated in the District of Columbia. The seizure action was initiated by the U.S. Attorney for the District\\nof Columbia and FDA after FDA found extensive evidence of rodent infestation, rodent-defiled food,\\novercrowded storage conditions, and harborage areas for various pests throughout the firm’s\\nwarehouse facility during a recent inspection. The FDA inspection was conducted upon notification of\\ninsanitary conditions at the firm by the U.S. Department of Agriculture’s Food Safety and Inspection\\nService and with the cooperation and assistance of the District of Columbia’s Department of Health.\\n\\nThe U.S. Marshals seized a” FDA-regulated food susceptible to rodent and pest contamination. The\\nseized products violate the Federal Food, Drug, and Cosmetic Act because they were held under\\ninsanitary conditions. Happy Valley Food, Inc. warehouses food and paper items for the restaurant\\nindustry including rice, Japanese bread crumbs, flour, corn starch, dried mushrooms, soy sauce, duck\\nsauce, dried beans, and spices.\\n\\nFDA previously brought a seizure action against Happy Valley Food, Inc. in 1996 and issued a Warning\\nLetter outlining unacceptable storage conditions in 2001. The agency also conducted inspections in\\n2003, 2005, and 2006. Despite these previous actions, the company has failed to adequately correct the\\nviolations.\\n\\nThe FDA has initiated this action to promote and protect the public health by enforcing the Federal\\nFood, Drug, and Cosmetic Act. FDA’s mission includes ensuring the safety or safety and effectiveness of\\na broad spectrum of regulated products, including food, human and animal drugs, vaccines, blood\\nproducts, medical devices, electronic products that emit radiation, and cosmetics.\\n\\n  \n",
       "2                                                                                                                                                                                                                                                                                                                                                                                                                                                                                                                                                                                                                                                                                                                                                                                                                                                                                                                                                                                                                                                                                                                                                                                                                                                                                                                                                                                                                                                                                                                                                                                                                                                                                                                                                                                                                                                                                                                                                                                                                                                                                                                                                                                                                                                                                                                                                                                                                                                                                                                                                                                                                                                                                                                                                                                                                                                                                                                                                                                                                                                                                                                                                                                                                                                                                                                                                                                                                                                                                                                                                                                                                                                                                                                                                                                                                                                                                                                                                                                                                                                              I FOOD _-AND DRUG ADMINISTRATION ‘ 'i\\nU. S. Dc partmcnt of Health and Human Services °\\nPublic Health Service 5600 _Fishe'ts Ianc' Rockville. Maryland 20857.\\n\\n\"“FDATilkPapctsaxepzepmedbyanmOﬁicemgmchDApesonmlmmpondmgmﬂncommmyandmmym\\nqucsdonsﬁomdicpubﬁconmbjeus ufcunent mount. Talkhpexsuembjecttodiangeasmoreinfomtion becomes\\n\\navaithe. Talk Papers an: not intended for gonna! disuibution outside FDA, but all information an them is public. and\\nfull texts are tclcasablc upon request.\\n\\n{91—48 , . Mike Shaffer\\nAug. 2, 1991 . (301) 443-3285\\n\\nKessler Names Investigations Advisor\\n\\nas Special Assistant for Investigations in the Office of the Commissioner.\\n'In this :apacity Phillips will provide advice to the Commissioner on ongoing\\n\\ninvestigations and suspected violations of laws and regulations in\\nconnection with the expanded agencygwide enforcement activities announced\\nearlier this year. He is scheduled to report to FDA on Adgust 12.\\n\\nPhillips has been Chief Minority Investigator since 1987 for the 0.5.\\nSenate Labor and Human Resources Committee and Director of Oversight and\\nInvestigations for the committee from 1981 to l§87.\\n\\nHe lives with his wife and two children in iairfax, Virginia.\\n\\nI\\nFDA CommiSsioner David A. Kessler, H.D., has appointed James 6. Phillips\\n#### ‘\\n\\n  \n",
       "3                                                                                                                                                                                                                                                                                                                                                                                                                                                                                                                                                                                                                                                                                                                                                                                                                                                                                                                                                                                                                                                                                                                                                                                                                                                                                                                                                                                                                                                                                                                                                                                                                                                                                                                                                                                                                                                                                                                                                                                                                                                                                                                                                                                                                                                                                                                                                                                                                                                                                                                                                                                                                                                                                                                                                                                                                                                                                                                                                                                                                                             iNFORMATION FOR THE PRESS\\n\\nu 8. DEPARTMENT OF AGRICULTURE\\nOffice of Information\\n\\nW OS— » »\\ va,\\n\\nJuly 18, 1954\\n'3 DINITROPHENOL DANGEROUS\\n-- “ . IN \"REDUCING\" NOSTRUMS\\n‘ 1’\\nM‘ﬁlg 1 _\\n\\nThe Breducing racket\" has a group of new and\\n\\n \\n  \\n  \\n\\n   \\n \\n\\n \\n\\na\\n\\ndangerous drugs, dinitrophenol and related compounds. Racketeers are selling\\nthese drugs in fat reducers in spite of reports of deaths caused by their com—\\npounds, says W. G. Campbell, Chief of the Food and Drug Administration. \"Reducing\\nagents Containing these drugs,\" says Mr. Campbell, '\"have sprung up like mushrooms\\nall over the country, and are endangering the lives of patrons. The Federal Food\\nand Drugs Act has no jurisdiction over products of this type, dangerous though\\nthey may be. All that the Food and Drug Administration can do is to warn the\\npublic that these compounds are dangerous.\"\\n\\nClinical evidence shows, Mr. Campbell said, that these drugs act by\\nincreasing the metabolic rate. This amounts to a speeding up of the body\\nvprocesses, resulting in a destruction of the tissues, including fat, to provide\\nfuel for the accelerated metabolism. Common symptoms are increased temperature,\\npulse or respiration, or conious sweating. In particular, Mr. Campbell warned,\\nthese drugs should not be used by individuals suffering from chronic rheumatism.\\nalcoholism, tuberculosis or diseases of the heart, liver or kidneys, as Poisonous\\nand otherwise harmful effects are even more likely to manifest themselves. There\\n\\nis also some evidence that they may cause profound disturbance of the blood—\\nforming organs.\\n\\nThese drugs, in common with many others, may serve a useful purpose when\\nthe dosage is preperly adapted to the needs of the individual patient, provided\\nthere are no contrarindications to its use, he says. Proper dosage and indications\\nfor use, however, as well as prompt discovery of toxic effects, can be determined\\nonly by a skilled physician. Furthermore, there may be unexpected harmful effects\\nthat are not disclosed by the first tests. Such effects can be determined con—\\nclusively only after extensive trial and use, in addition to the tests which should\\nin all cases be made before the preparation is offered to the public. 135~35\\n\\n_—c.....\\n\\n5.\\n\\n  \n",
       "4                                                                                                                                                                                                                                                                                                                                                                                                                                                                                                                                                                                                                                                                                                                                                                                                                                                                                                                                                                                                                                                                                                                                                                                                                                                                                                                                                                                                                                                                                                                                                                                                                                                                                                                                                                                                                                                                                                                                                                                                                                                                                                                                                                                                                                                                                                                                                                                                                                                                                                                                                                                                                                                                                                                                                                                                                                                                                 \\n\\nU. S. DEPARTMENT OF HEALTH. EDUCATION. AND WELFARE\\n\\n(Food and Drug Administration)\\n\\n75-29\\nFOR IMMEDIATE RELEASE NIDA--(301)--443-3285\\n(Home)——(30l)--365-4574\\n\\nAugust 7, l975\\n\\nThe entire inventory of a new and different type of contact lenses,\\n\\ntogether with instructions for their use, were seized today from the Rynco\\n\\nrequest of the Food and Drug Administration.\\n\\nAbout 7,000 Rynco RX—56 lenses, materials for several thousand more,\\n\\nand all accompanying literature were seized on court order after the firm\\n\\nhad been told to stop the manufacture and sale of lenses that FDA said were\\n\\nmade from a type of plastic that has not been shown to be safe and effective.\\n\\nFDA policy is that only hard contact lenses made from one type of plastic,\\n\\npolymethylmethacrylate (PMMA), are generally regarded as safe and effective\\n\\nfor correcting vision. Contact lenses made from any other plastic must be\\n\\napproved by FDA prior to marketing.\\n\\nThe Agency charged that Rynco's labeling is false and misleading in that\\n\\nit claims that the lenses meet current Federal regulations. FDA also charged\\n\\nthat the labeling is false and misleading in that no valid scientific studies\\n\\nexist to demonstrate the lenses' safety and effectiveness, as suggested by\\n\\nthe firm's claims. The lenses are not generally recognized as safe and\\n\\neffective by qualified experts for use under conditions recommended in the\\n\\nlabeling, FDA said.\\n-MORE—\\n\\n\\nPage 2\\n\\nIn l974, FDA became aware that Rynco Scientific Corporation was marketing\\na non—PMMA, gas—permeable contact lens without New Drug Application (NDA)\\napproval. Based on past policy and a medical review by FDA's Bureau of Drugs,\\n\\na regulatory letter was issued to Rynco on August l4, 1974, declaring the RX—56\\ncontact lens to be a \"new drug.\"\\n\\nSubsequently, meetings were held between Rynco and FDA on Sept. ll, 1974,\\nMarch 31, 1975, and April 28, 1975, which resulted in additional regulatory letters\\nbeing issued on March 14, l975, and June 23, 1975. The firm consistently was ‘\\nadvised that its product is a \"new drug,” and that production and marketing should\\nbe discontinued and stocks recalled from Opticians. physicians, and optometrists.\\nFDA recommended seizure because the firm chose to disregard these letters and\\ncontinued to market the product. The firm disputes FDA's position that the\\n.lenses require FDA approval before marketing.\\n\\n####\\n\\n  "
      ]
     },
     "execution_count": 289,
     "metadata": {},
     "output_type": "execute_result"
    }
   ],
   "source": [
    "# OpenFDA API endpoint for fetching historical documents\n",
    "BASE_URL = 'https://api.fda.gov/other/historicaldocument.json'\n",
    "\n",
    "# Parameters for the API request\n",
    "params = {\n",
    "    'limit': 1000,  # Adjust the limit as needed\n",
    "    'skip': 0      # Starting point for fetching records\n",
    "}\n",
    "\n",
    "# Function to pause execution to avoid overwhelming the server\n",
    "def pause_execution():\n",
    "    time.sleep(5 + 10 * random.random())\n",
    "\n",
    "# Function to fetch data from the OpenFDA API\n",
    "def fetch_data(max_requests):\n",
    "    documents = []\n",
    "    request_count = 0  # Initialize request counter\n",
    "    \n",
    "    while request_count < max_requests:\n",
    "        response = requests.get(BASE_URL, params=params)\n",
    "        print(f\"Requesting data with params: {params}\")  # Debugging statement\n",
    "        print(f\"Response status code: {response.status_code}\")  # Debugging statement\n",
    "\n",
    "        if response.status_code != 200:\n",
    "            print(f\"Failed to fetch data: {response.status_code}\")  # Debugging statement\n",
    "            break\n",
    "        \n",
    "        data = response.json()\n",
    "        results = data.get('results', [])\n",
    "        if not results:\n",
    "            print(\"No more results found.\")  # Debugging statement\n",
    "            break\n",
    "\n",
    "        for item in results:\n",
    "            doc_type = item.get('doc_type', 'N/A')\n",
    "            year = item.get('year', 'N/A')\n",
    "            text = item.get('text', 'N/A')\n",
    "            document = {'doc_type': doc_type, 'year': year, 'text': text}\n",
    "            if document not in documents:\n",
    "                documents.append(document)\n",
    "        \n",
    "        params['skip'] += params['limit']\n",
    "        request_count += 1  # Increment request counter\n",
    "        pause_execution()\n",
    "\n",
    "    return documents\n",
    "\n",
    "# Fetch the data\n",
    "documents = fetch_data(max_requests=1)\n",
    "\n",
    "# Save the data to a CSV file\n",
    "documents_df = pd.DataFrame(documents)\n",
    "documents_df.head()"
   ]
  },
  {
   "cell_type": "code",
   "execution_count": 290,
   "id": "30bc1d7b-655c-4b0a-a0c9-47e60d38bf54",
   "metadata": {},
   "outputs": [
    {
     "name": "stdout",
     "output_type": "stream",
     "text": [
      "<class 'pandas.core.frame.DataFrame'>\n",
      "RangeIndex: 1000 entries, 0 to 999\n",
      "Data columns (total 3 columns):\n",
      " #   Column    Non-Null Count  Dtype \n",
      "---  ------    --------------  ----- \n",
      " 0   doc_type  1000 non-null   object\n",
      " 1   year      1000 non-null   int64 \n",
      " 2   text      1000 non-null   object\n",
      "dtypes: int64(1), object(2)\n",
      "memory usage: 23.6+ KB\n"
     ]
    }
   ],
   "source": [
    "documents_df.info()"
   ]
  },
  {
   "cell_type": "code",
   "execution_count": 291,
   "id": "760bafae-a246-4c00-9149-7aa518b4009f",
   "metadata": {},
   "outputs": [],
   "source": [
    "# Save csv file to data library\n",
    "#csv_file_path = 'DataLibrary/raw_documents.csv'\n",
    "#documents_df.to_csv(csv_file_path, index=False)\n",
    "\n",
    "# Save the data to a JSON file\n",
    "#json_file_path = 'DataLibrary/raw_documents.json'\n",
    "#with open(json_file_path, 'w') as json_file:\n",
    "#    json.dump(documents, json_file, indent=4)\n",
    "\n",
    "#print(f\"Data saved to {csv_file_path} and {json_file_path}\")"
   ]
  },
  {
   "cell_type": "markdown",
   "id": "a398846e-acd7-4731-a6c5-48fb2a8cfbbb",
   "metadata": {},
   "source": [
    "### API Request for Adverse Events Data"
   ]
  },
  {
   "cell_type": "markdown",
   "id": "75d63dbe-9698-47e6-aa5a-204e56014108",
   "metadata": {},
   "source": [
    "https://open.fda.gov/apis/drug/event/"
   ]
  },
  {
   "cell_type": "code",
   "execution_count": 292,
   "id": "8a8376e5-8ba0-4490-9ee7-bb2fa04705ae",
   "metadata": {},
   "outputs": [
    {
     "name": "stdout",
     "output_type": "stream",
     "text": [
      "Requesting data with params: {'limit': 1000, 'skip': 0}\n",
      "Response status code: 200\n",
      "Requesting data with params: {'limit': 1000, 'skip': 1000}\n",
      "Response status code: 200\n"
     ]
    },
    {
     "data": {
      "text/html": [
       "<div>\n",
       "<style scoped>\n",
       "    .dataframe tbody tr th:only-of-type {\n",
       "        vertical-align: middle;\n",
       "    }\n",
       "\n",
       "    .dataframe tbody tr th {\n",
       "        vertical-align: top;\n",
       "    }\n",
       "\n",
       "    .dataframe thead th {\n",
       "        text-align: right;\n",
       "    }\n",
       "</style>\n",
       "<table border=\"1\" class=\"dataframe\">\n",
       "  <thead>\n",
       "    <tr style=\"text-align: right;\">\n",
       "      <th></th>\n",
       "      <th>safetyreportid</th>\n",
       "      <th>transmissiondateformat</th>\n",
       "      <th>transmissiondate</th>\n",
       "      <th>serious</th>\n",
       "      <th>seriousnessdeath</th>\n",
       "      <th>receivedateformat</th>\n",
       "      <th>receivedate</th>\n",
       "      <th>receiptdateformat</th>\n",
       "      <th>receiptdate</th>\n",
       "      <th>fulfillexpeditecriteria</th>\n",
       "      <th>...</th>\n",
       "      <th>seriousnessother</th>\n",
       "      <th>occurcountry</th>\n",
       "      <th>patient.patientagegroup</th>\n",
       "      <th>seriousnesshospitalization</th>\n",
       "      <th>patient.summary.narrativeincludeclinical</th>\n",
       "      <th>seriousnesslifethreatening</th>\n",
       "      <th>patient.patientweight</th>\n",
       "      <th>primarysource.literaturereference</th>\n",
       "      <th>seriousnesscongenitalanomali</th>\n",
       "      <th>authoritynumb</th>\n",
       "    </tr>\n",
       "  </thead>\n",
       "  <tbody>\n",
       "    <tr>\n",
       "      <th>0</th>\n",
       "      <td>5801206-7</td>\n",
       "      <td>102</td>\n",
       "      <td>20090109</td>\n",
       "      <td>1</td>\n",
       "      <td>1</td>\n",
       "      <td>102</td>\n",
       "      <td>20080707</td>\n",
       "      <td>102</td>\n",
       "      <td>20080625</td>\n",
       "      <td>1</td>\n",
       "      <td>...</td>\n",
       "      <td>NaN</td>\n",
       "      <td>NaN</td>\n",
       "      <td>NaN</td>\n",
       "      <td>NaN</td>\n",
       "      <td>NaN</td>\n",
       "      <td>NaN</td>\n",
       "      <td>NaN</td>\n",
       "      <td>NaN</td>\n",
       "      <td>NaN</td>\n",
       "      <td>NaN</td>\n",
       "    </tr>\n",
       "    <tr>\n",
       "      <th>1</th>\n",
       "      <td>10003300</td>\n",
       "      <td>102</td>\n",
       "      <td>20141002</td>\n",
       "      <td>1</td>\n",
       "      <td>NaN</td>\n",
       "      <td>102</td>\n",
       "      <td>20140306</td>\n",
       "      <td>102</td>\n",
       "      <td>20140306</td>\n",
       "      <td>2</td>\n",
       "      <td>...</td>\n",
       "      <td>NaN</td>\n",
       "      <td>NaN</td>\n",
       "      <td>NaN</td>\n",
       "      <td>NaN</td>\n",
       "      <td>NaN</td>\n",
       "      <td>NaN</td>\n",
       "      <td>NaN</td>\n",
       "      <td>NaN</td>\n",
       "      <td>NaN</td>\n",
       "      <td>NaN</td>\n",
       "    </tr>\n",
       "    <tr>\n",
       "      <th>2</th>\n",
       "      <td>10003301</td>\n",
       "      <td>102</td>\n",
       "      <td>20141002</td>\n",
       "      <td>1</td>\n",
       "      <td>NaN</td>\n",
       "      <td>102</td>\n",
       "      <td>20140228</td>\n",
       "      <td>102</td>\n",
       "      <td>20140228</td>\n",
       "      <td>2</td>\n",
       "      <td>...</td>\n",
       "      <td>1</td>\n",
       "      <td>NaN</td>\n",
       "      <td>NaN</td>\n",
       "      <td>NaN</td>\n",
       "      <td>NaN</td>\n",
       "      <td>NaN</td>\n",
       "      <td>NaN</td>\n",
       "      <td>NaN</td>\n",
       "      <td>NaN</td>\n",
       "      <td>NaN</td>\n",
       "    </tr>\n",
       "    <tr>\n",
       "      <th>3</th>\n",
       "      <td>10003302</td>\n",
       "      <td>102</td>\n",
       "      <td>20141002</td>\n",
       "      <td>2</td>\n",
       "      <td>NaN</td>\n",
       "      <td>102</td>\n",
       "      <td>20140312</td>\n",
       "      <td>102</td>\n",
       "      <td>20140312</td>\n",
       "      <td>2</td>\n",
       "      <td>...</td>\n",
       "      <td>NaN</td>\n",
       "      <td>US</td>\n",
       "      <td>NaN</td>\n",
       "      <td>NaN</td>\n",
       "      <td>NaN</td>\n",
       "      <td>NaN</td>\n",
       "      <td>NaN</td>\n",
       "      <td>NaN</td>\n",
       "      <td>NaN</td>\n",
       "      <td>NaN</td>\n",
       "    </tr>\n",
       "    <tr>\n",
       "      <th>4</th>\n",
       "      <td>10003304</td>\n",
       "      <td>102</td>\n",
       "      <td>20141212</td>\n",
       "      <td>2</td>\n",
       "      <td>NaN</td>\n",
       "      <td>102</td>\n",
       "      <td>20140312</td>\n",
       "      <td>102</td>\n",
       "      <td>20140424</td>\n",
       "      <td>2</td>\n",
       "      <td>...</td>\n",
       "      <td>NaN</td>\n",
       "      <td>US</td>\n",
       "      <td>NaN</td>\n",
       "      <td>NaN</td>\n",
       "      <td>NaN</td>\n",
       "      <td>NaN</td>\n",
       "      <td>NaN</td>\n",
       "      <td>NaN</td>\n",
       "      <td>NaN</td>\n",
       "      <td>NaN</td>\n",
       "    </tr>\n",
       "  </tbody>\n",
       "</table>\n",
       "<p>5 rows × 42 columns</p>\n",
       "</div>"
      ],
      "text/plain": [
       "  safetyreportid transmissiondateformat transmissiondate serious  \\\n",
       "0      5801206-7                    102         20090109       1   \n",
       "1       10003300                    102         20141002       1   \n",
       "2       10003301                    102         20141002       1   \n",
       "3       10003302                    102         20141002       2   \n",
       "4       10003304                    102         20141212       2   \n",
       "\n",
       "  seriousnessdeath receivedateformat receivedate receiptdateformat  \\\n",
       "0                1               102    20080707               102   \n",
       "1              NaN               102    20140306               102   \n",
       "2              NaN               102    20140228               102   \n",
       "3              NaN               102    20140312               102   \n",
       "4              NaN               102    20140312               102   \n",
       "\n",
       "  receiptdate fulfillexpeditecriteria  ... seriousnessother  occurcountry  \\\n",
       "0    20080625                       1  ...              NaN           NaN   \n",
       "1    20140306                       2  ...              NaN           NaN   \n",
       "2    20140228                       2  ...                1           NaN   \n",
       "3    20140312                       2  ...              NaN            US   \n",
       "4    20140424                       2  ...              NaN            US   \n",
       "\n",
       "  patient.patientagegroup seriousnesshospitalization  \\\n",
       "0                     NaN                        NaN   \n",
       "1                     NaN                        NaN   \n",
       "2                     NaN                        NaN   \n",
       "3                     NaN                        NaN   \n",
       "4                     NaN                        NaN   \n",
       "\n",
       "  patient.summary.narrativeincludeclinical seriousnesslifethreatening  \\\n",
       "0                                      NaN                        NaN   \n",
       "1                                      NaN                        NaN   \n",
       "2                                      NaN                        NaN   \n",
       "3                                      NaN                        NaN   \n",
       "4                                      NaN                        NaN   \n",
       "\n",
       "  patient.patientweight primarysource.literaturereference  \\\n",
       "0                   NaN                               NaN   \n",
       "1                   NaN                               NaN   \n",
       "2                   NaN                               NaN   \n",
       "3                   NaN                               NaN   \n",
       "4                   NaN                               NaN   \n",
       "\n",
       "   seriousnesscongenitalanomali  authoritynumb  \n",
       "0                           NaN            NaN  \n",
       "1                           NaN            NaN  \n",
       "2                           NaN            NaN  \n",
       "3                           NaN            NaN  \n",
       "4                           NaN            NaN  \n",
       "\n",
       "[5 rows x 42 columns]"
      ]
     },
     "execution_count": 292,
     "metadata": {},
     "output_type": "execute_result"
    }
   ],
   "source": [
    "# OpenFDA API endpoint for fetching drug event data\n",
    "BASE_URL = 'https://api.fda.gov/drug/event.json'\n",
    "\n",
    "# Parameters for the API request\n",
    "params = {\n",
    "    'limit': 1000,  # Maximum limit per request\n",
    "    'skip': 0      # Starting point for fetching records\n",
    "}\n",
    "\n",
    "# Function to pause execution to avoid overwhelming the server\n",
    "def pause_execution():\n",
    "    time.sleep(5 + 10 * random.random())\n",
    "\n",
    "# Function to fetch data from the OpenFDA API\n",
    "def fetch_data(max_requests):\n",
    "    events = []\n",
    "    request_count = 0  # Initialize request counter\n",
    "    \n",
    "    while request_count < max_requests:\n",
    "        response = requests.get(BASE_URL, params=params)\n",
    "        print(f\"Requesting data with params: {params}\")  # Debugging statement\n",
    "        print(f\"Response status code: {response.status_code}\")  # Debugging statement\n",
    "\n",
    "        if response.status_code != 200:\n",
    "            print(f\"Failed to fetch data: {response.status_code}\")  # Debugging statement\n",
    "            break\n",
    "        \n",
    "        data = response.json()\n",
    "        results = data.get('results', [])\n",
    "        if not results:\n",
    "            print(\"No more results found.\")  # Debugging statement\n",
    "            break\n",
    "\n",
    "        for item in results:\n",
    "            events.append(item)\n",
    "        \n",
    "        params['skip'] += params['limit']\n",
    "        request_count += 1  # Increment request counter\n",
    "        pause_execution()\n",
    "\n",
    "    return events\n",
    "\n",
    "# Fetch the data\n",
    "events = fetch_data(max_requests=2)\n",
    "\n",
    "# Convert the data to a pandas DataFrame\n",
    "events_df = pd.json_normalize(events)\n",
    "\n",
    "# Display the first few rows of the DataFrame\n",
    "events_df.head()"
   ]
  },
  {
   "cell_type": "code",
   "execution_count": 293,
   "id": "71f5a1e5-8720-4984-9aec-838ffd456d1a",
   "metadata": {},
   "outputs": [
    {
     "name": "stdout",
     "output_type": "stream",
     "text": [
      "<class 'pandas.core.frame.DataFrame'>\n",
      "RangeIndex: 2000 entries, 0 to 1999\n",
      "Data columns (total 42 columns):\n",
      " #   Column                                       Non-Null Count  Dtype  \n",
      "---  ------                                       --------------  -----  \n",
      " 0   safetyreportid                               2000 non-null   object \n",
      " 1   transmissiondateformat                       2000 non-null   object \n",
      " 2   transmissiondate                             2000 non-null   object \n",
      " 3   serious                                      2000 non-null   object \n",
      " 4   seriousnessdeath                             145 non-null    object \n",
      " 5   receivedateformat                            2000 non-null   object \n",
      " 6   receivedate                                  2000 non-null   object \n",
      " 7   receiptdateformat                            2000 non-null   object \n",
      " 8   receiptdate                                  2000 non-null   object \n",
      " 9   fulfillexpeditecriteria                      2000 non-null   object \n",
      " 10  companynumb                                  2000 non-null   object \n",
      " 11  receiver                                     0 non-null      float64\n",
      " 12  primarysource.reportercountry                2000 non-null   object \n",
      " 13  primarysource.qualification                  1992 non-null   object \n",
      " 14  sender.senderorganization                    2000 non-null   object \n",
      " 15  patient.patientonsetage                      1318 non-null   object \n",
      " 16  patient.patientonsetageunit                  1318 non-null   object \n",
      " 17  patient.patientsex                           1988 non-null   object \n",
      " 18  patient.patientdeath.patientdeathdateformat  0 non-null      float64\n",
      " 19  patient.patientdeath.patientdeathdate        0 non-null      float64\n",
      " 20  patient.reaction                             2000 non-null   object \n",
      " 21  patient.drug                                 2000 non-null   object \n",
      " 22  safetyreportversion                          1999 non-null   object \n",
      " 23  primarysourcecountry                         1993 non-null   object \n",
      " 24  reporttype                                   1999 non-null   object \n",
      " 25  seriousnessdisabling                         35 non-null     object \n",
      " 26  duplicate                                    1998 non-null   object \n",
      " 27  reportduplicate.duplicatesource              1998 non-null   object \n",
      " 28  reportduplicate.duplicatenumb                1998 non-null   object \n",
      " 29  sender.sendertype                            1999 non-null   object \n",
      " 30  receiver.receivertype                        1999 non-null   object \n",
      " 31  receiver.receiverorganization                1999 non-null   object \n",
      " 32  seriousnessother                             578 non-null    object \n",
      " 33  occurcountry                                 1997 non-null   object \n",
      " 34  patient.patientagegroup                      452 non-null    object \n",
      " 35  seriousnesshospitalization                   340 non-null    object \n",
      " 36  patient.summary.narrativeincludeclinical     249 non-null    object \n",
      " 37  seriousnesslifethreatening                   28 non-null     object \n",
      " 38  patient.patientweight                        405 non-null    object \n",
      " 39  primarysource.literaturereference            3 non-null      object \n",
      " 40  seriousnesscongenitalanomali                 10 non-null     object \n",
      " 41  authoritynumb                                4 non-null      object \n",
      "dtypes: float64(3), object(39)\n",
      "memory usage: 656.4+ KB\n"
     ]
    }
   ],
   "source": [
    "events_df.info()"
   ]
  },
  {
   "cell_type": "markdown",
   "id": "82ed5d0a-6932-422b-818c-809de3c4aba7",
   "metadata": {},
   "source": [
    "#### Examine Variables of Interest"
   ]
  },
  {
   "cell_type": "code",
   "execution_count": 294,
   "id": "f3b06537-95e2-4c09-9888-894408943aae",
   "metadata": {},
   "outputs": [
    {
     "data": {
      "text/plain": [
       "2    1131\n",
       "1     869\n",
       "Name: fulfillexpeditecriteria, dtype: int64"
      ]
     },
     "execution_count": 294,
     "metadata": {},
     "output_type": "execute_result"
    }
   ],
   "source": [
    "# 2 - Yes, 1 - No\n",
    "events_df['fulfillexpeditecriteria'].value_counts()"
   ]
  },
  {
   "cell_type": "code",
   "execution_count": 295,
   "id": "26d92df4-8c20-4259-a8a4-1fc10b18bd7e",
   "metadata": {},
   "outputs": [
    {
     "data": {
      "text/plain": [
       "5    1084\n",
       "1     412\n",
       "3     288\n",
       "4     151\n",
       "2      57\n",
       "Name: primarysource.qualification, dtype: int64"
      ]
     },
     "execution_count": 295,
     "metadata": {},
     "output_type": "execute_result"
    }
   ],
   "source": [
    "# 5 - Consumer/NonHealth, 4 - Lawyer, 3 - Health Professional, 4 - Pharmacist, 5 - MD\n",
    "events_df['primarysource.qualification'].value_counts()"
   ]
  },
  {
   "cell_type": "code",
   "execution_count": 296,
   "id": "f2cbac3f-98fb-435f-803c-8b88c792ff46",
   "metadata": {},
   "outputs": [
    {
     "data": {
      "image/png": "[encoded data removed]",
      "text/plain": [
       "<Figure size 640x480 with 1 Axes>"
      ]
     },
     "metadata": {},
     "output_type": "display_data"
    }
   ],
   "source": [
    "# Distribution of Age\n",
    "plt.hist(events_df['patient.patientonsetage'].astype('float'))\n",
    "ticks = np.arange(0, 100, 5)  # Customize this range as needed\n",
    "plt.xticks(ticks)\n",
    "plt.xlabel('Age (years)')\n",
    "plt.ylabel('Frequency')\n",
    "plt.title('Age Distribution FAERS')\n",
    "plt.show()"
   ]
  },
  {
   "cell_type": "code",
   "execution_count": 297,
   "id": "84678b73-de8a-4233-b758-f38675279248",
   "metadata": {},
   "outputs": [
    {
     "data": {
      "text/plain": [
       "801    1313\n",
       "804       4\n",
       "802       1\n",
       "Name: patient.patientonsetageunit, dtype: int64"
      ]
     },
     "execution_count": 297,
     "metadata": {},
     "output_type": "execute_result"
    }
   ],
   "source": [
    "# Ages come in different units, need to standardize to years\n",
    "events_df['patient.patientonsetageunit'].value_counts()"
   ]
  },
  {
   "cell_type": "code",
   "execution_count": 298,
   "id": "2aff29e2-2df3-4575-929e-af3e5f0b3235",
   "metadata": {},
   "outputs": [
    {
     "data": {
      "text/plain": [
       "1     1040\n",
       "2      556\n",
       "3      337\n",
       "4       37\n",
       "5       10\n",
       "6        6\n",
       "7        6\n",
       "8        3\n",
       "9        2\n",
       "11       1\n",
       "12       1\n",
       "Name: safetyreportversion, dtype: int64"
      ]
     },
     "execution_count": 298,
     "metadata": {},
     "output_type": "execute_result"
    }
   ],
   "source": [
    "# Some reports have more than one version, retain most recent versions only\n",
    "events_df['safetyreportversion'].value_counts()"
   ]
  },
  {
   "cell_type": "code",
   "execution_count": 299,
   "id": "330c63e1-92ce-43d1-9e84-2c13853daa60",
   "metadata": {},
   "outputs": [
    {
     "data": {
      "text/plain": [
       "GILEAD                  458\n",
       "PFIZER                  320\n",
       "MERCK                   175\n",
       "INCYTE                  166\n",
       "ABBVIE                  160\n",
       "NOVARTIS                139\n",
       "BAXTER                   82\n",
       "GLAXOSMITHKLINE          75\n",
       "TEVA                     51\n",
       "BOEHRINGER INGELHEIM     47\n",
       "BAYER                    45\n",
       "SANDOZ                   32\n",
       "CELGENE                  29\n",
       "MYLAN                    29\n",
       "JANSSEN                  20\n",
       "LUNDBECK                 18\n",
       "WATSON                   18\n",
       "BRISTOL MYERS SQUIBB     15\n",
       "AVENTIS                  11\n",
       "GE HEALTHCARE            11\n",
       "AMGEN                    11\n",
       "ACTAVIS                   8\n",
       "ASTRAZENECA               7\n",
       "ALEXION                   7\n",
       "ROCHE                     6\n",
       "ACTELION                  6\n",
       "EMD SERONO INC            6\n",
       "ACORDA                    6\n",
       "FOREST                    6\n",
       "PURDUE                    4\n",
       "VERTEX                    4\n",
       "OTSUKA                    3\n",
       "CUBIST                    3\n",
       "ETHICON                   3\n",
       "PHARMACYCLICS             2\n",
       "JOHNSON AND JOHNSON       2\n",
       "TAKEDA                    2\n",
       "ELI LILLY AND CO          2\n",
       "ALLERGAN                  1\n",
       "ROXANE                    1\n",
       "EISAI                     1\n",
       "GENENTECH                 1\n",
       "MEDIMMUNE                 1\n",
       "SPECTRUM                  1\n",
       "EXELIXIS                  1\n",
       "VIROPHARMA                1\n",
       "BRACCO                    1\n",
       "Name: reportduplicate.duplicatesource, dtype: int64"
      ]
     },
     "execution_count": 299,
     "metadata": {},
     "output_type": "execute_result"
    }
   ],
   "source": [
    "# Can see manufacturers where most reports were and duplicated\n",
    "events_df['reportduplicate.duplicatesource'].value_counts()"
   ]
  },
  {
   "cell_type": "code",
   "execution_count": 300,
   "id": "35b086b8-eda2-46ac-bb47-19407f674d2b",
   "metadata": {},
   "outputs": [],
   "source": [
    "# Save the data to a JSON file\n",
    "#json_file_path = 'DataLibrary/raw_events.json'\n",
    "#with open(json_file_path, 'w') as json_file:\n",
    "#    json.dump(events, json_file, indent=4)\n",
    "\n",
    "# Save the data to a CSV file\n",
    "#csv_file_path = 'DataLibrary/raw_events.csv'\n",
    "#events_df.to_csv(csv_file_path, index=False)\n",
    "\n",
    "#print(f\"Data saved to {csv_file_path} and {json_file_path}\")"
   ]
  },
  {
   "cell_type": "markdown",
   "id": "e2904da9-a956-49a6-9bed-4c0a411be1e8",
   "metadata": {},
   "source": [
    "## API Request for Drug Labels"
   ]
  },
  {
   "cell_type": "markdown",
   "id": "26df3cbe-f2c2-46cc-b463-579209994d1a",
   "metadata": {},
   "source": [
    "https://open.fda.gov/apis/drug/label/"
   ]
  },
  {
   "cell_type": "code",
   "execution_count": 301,
   "id": "f5caa0e0-ba78-450c-a247-2e777e0a047c",
   "metadata": {},
   "outputs": [
    {
     "name": "stdout",
     "output_type": "stream",
     "text": [
      "Requesting data with params: {'limit': 1000, 'skip': 0}\n",
      "Response status code: 200\n",
      "Requesting data with params: {'limit': 1000, 'skip': 1000}\n",
      "Response status code: 200\n"
     ]
    },
    {
     "data": {
      "text/html": [
       "<div>\n",
       "<style scoped>\n",
       "    .dataframe tbody tr th:only-of-type {\n",
       "        vertical-align: middle;\n",
       "    }\n",
       "\n",
       "    .dataframe tbody tr th {\n",
       "        vertical-align: top;\n",
       "    }\n",
       "\n",
       "    .dataframe thead th {\n",
       "        text-align: right;\n",
       "    }\n",
       "</style>\n",
       "<table border=\"1\" class=\"dataframe\">\n",
       "  <thead>\n",
       "    <tr style=\"text-align: right;\">\n",
       "      <th></th>\n",
       "      <th>effective_time</th>\n",
       "      <th>inactive_ingredient</th>\n",
       "      <th>purpose</th>\n",
       "      <th>keep_out_of_reach_of_children</th>\n",
       "      <th>warnings</th>\n",
       "      <th>questions</th>\n",
       "      <th>spl_product_data_elements</th>\n",
       "      <th>version</th>\n",
       "      <th>dosage_and_administration</th>\n",
       "      <th>pregnancy_or_breast_feeding</th>\n",
       "      <th>...</th>\n",
       "      <th>components</th>\n",
       "      <th>intended_use_of_the_device</th>\n",
       "      <th>mechanism_of_action_table</th>\n",
       "      <th>general_precautions_table</th>\n",
       "      <th>drug_and_or_laboratory_test_interactions_table</th>\n",
       "      <th>accessories</th>\n",
       "      <th>ask_doctor_table</th>\n",
       "      <th>when_using_table</th>\n",
       "      <th>ask_doctor_or_pharmacist_table</th>\n",
       "      <th>do_not_use_table</th>\n",
       "    </tr>\n",
       "  </thead>\n",
       "  <tbody>\n",
       "    <tr>\n",
       "      <th>0</th>\n",
       "      <td>20210902</td>\n",
       "      <td>[INACTIVE INGREDIENTS Sucrose]</td>\n",
       "      <td>[USES USES: Temporary Relief - Acne, Boils* * Claims based on traditional homeopathic practice, not accepted medical evidence. Not FDA evaluated.]</td>\n",
       "      <td>[Keep this and all medication out of reach of children]</td>\n",
       "      <td>[WARNINGS This product is to be used for self-limiting conditions If symptoms do not improve in 4 days, or worsen, discontinue use and seek assistance of health professional. As with any drug, if you are pregnant, or nursing a baby, seek professional advice before taking this product. Keep this and all medication out of reach of children Do not use if capseal is broken or missing. Close the cap tightly after use.]</td>\n",
       "      <td>[QUESTIONS OR COMMENTS www.Rxhomeo.com | 1.888.2796642 | info@rxhomeo.com Rxhomeo, Inc 3200 Commander Dr, Ste 100-W1, Carrollton, TX 75006 USA]</td>\n",
       "      <td>[SILICEA SILICEA SUCROSE SILICON DIOXIDE SILICON DIOXIDE]</td>\n",
       "      <td>2</td>\n",
       "      <td>[DOSAGE Adults- Take 4 or 6 Pellets by mouth, three times daily or as suggested by physician. Children 2 years and older- take 1/2 the adult dose.]</td>\n",
       "      <td>[As with any drug, if you are pregnant, or nursing a baby, seek professional advice before taking this product.]</td>\n",
       "      <td>...</td>\n",
       "      <td>NaN</td>\n",
       "      <td>NaN</td>\n",
       "      <td>NaN</td>\n",
       "      <td>NaN</td>\n",
       "      <td>NaN</td>\n",
       "      <td>NaN</td>\n",
       "      <td>NaN</td>\n",
       "      <td>NaN</td>\n",
       "      <td>NaN</td>\n",
       "      <td>NaN</td>\n",
       "    </tr>\n",
       "    <tr>\n",
       "      <th>1</th>\n",
       "      <td>20150109</td>\n",
       "      <td>[INGREDIENTS: TALC, POLYMETHYL METHACRYLATE, VINYL DIMETHICONE/METHICONE SILSESQUIOXANE CROSSPOLYMER, CALCIUM SILICATE, TRIETHYLHEXANOIN, ALUMINUM HYDROXIDE, LAUROYL LYSINE, METHICONE, PHENOXYETHANOL, DIMETHICONE, ALUMINUM DIMYRISTATE, HYDROXYAPATITIE [+/-: MICA (CI77019), IRON OXIDES (CI 77491/CI 77492/CI 77499)]]</td>\n",
       "      <td>[Purpose Sunscreen]</td>\n",
       "      <td>[Keep out of reach of children If product is swallowed, get medical help or contact a Poison Control Center right away]</td>\n",
       "      <td>[Warnings For external use only.]</td>\n",
       "      <td>NaN</td>\n",
       "      <td>[CHANTECAILLE PROTECTION NATURELLE BRONZE SPF 46 TITANIUM DIOXIDE, OCTINOXATE, ZINC OXIDE TITANIUM DIOXIDE TITANIUM DIOXIDE OCTINOXATE OCTINOXATE ZINC OXIDE ZINC OXIDE TALC CALCIUM SILICATE TRIETHYLHEXANOIN ALUMINUM HYDROXIDE LAUROYL LYSINE PHENOXYETHANOL DIMETHICONE ALUMINUM DIMYRISTATE MICA FERRIC OXIDE RED]</td>\n",
       "      <td>4</td>\n",
       "      <td>[Directions Protection Naturelle SPF 46 PA+++ Powder can be used on clean skin or over makeup. Shake lightly to activate the flow of powder. Sweep the brush all over the face to evenly distribute powder for immediate UVA/UVB protection.]</td>\n",
       "      <td>NaN</td>\n",
       "      <td>...</td>\n",
       "      <td>NaN</td>\n",
       "      <td>NaN</td>\n",
       "      <td>NaN</td>\n",
       "      <td>NaN</td>\n",
       "      <td>NaN</td>\n",
       "      <td>NaN</td>\n",
       "      <td>NaN</td>\n",
       "      <td>NaN</td>\n",
       "      <td>NaN</td>\n",
       "      <td>NaN</td>\n",
       "    </tr>\n",
       "    <tr>\n",
       "      <th>2</th>\n",
       "      <td>20230802</td>\n",
       "      <td>[INACTIVE INGREDIENTS Sucrose/Lactose]</td>\n",
       "      <td>[USES To relieve the symptoms of itching.]</td>\n",
       "      <td>[KEEP OUT OF REACH OF CHILDREN Keep this and all medicines out of reach of children.]</td>\n",
       "      <td>[STOP USE AND ASK DOCTOR If symptoms persist/worsen or if pregnant/nursing, stop use and consult your practitioner.]</td>\n",
       "      <td>NaN</td>\n",
       "      <td>[Mezereum DAPHNE MEZEREUM BARK SUCROSE LACTOSE DAPHNE MEZEREUM BARK DAPHNE MEZEREUM BARK white]</td>\n",
       "      <td>3</td>\n",
       "      <td>[DIRECTIONS Adults: Dissolve 3 to 5 under the tongue three times a day or as directed by Lic. Practitioner. Take at greater intervals as condition subsides. Children: Dissolve 3 to 5 under the tongue three times a day or as directed by Lic. Practitioner. Take at greater intervals as condition subsides.]</td>\n",
       "      <td>NaN</td>\n",
       "      <td>...</td>\n",
       "      <td>NaN</td>\n",
       "      <td>NaN</td>\n",
       "      <td>NaN</td>\n",
       "      <td>NaN</td>\n",
       "      <td>NaN</td>\n",
       "      <td>NaN</td>\n",
       "      <td>NaN</td>\n",
       "      <td>NaN</td>\n",
       "      <td>NaN</td>\n",
       "      <td>NaN</td>\n",
       "    </tr>\n",
       "    <tr>\n",
       "      <th>3</th>\n",
       "      <td>20230905</td>\n",
       "      <td>NaN</td>\n",
       "      <td>NaN</td>\n",
       "      <td>NaN</td>\n",
       "      <td>[WARNINGS NOT FOR INJECTION. Ofloxacin ophthalmic solution should not be injected subconjunctivally, nor should it be introduced directly into the anterior chamber of the eye. There are rare reports of anaphylactic reaction/shock and fatal hypersensitivity reactions in patients receiving systemic quinolones, some following the first dose, including ofloxacin. Some reactions were accompanied by cardiovascular collapse, loss of consciousness, angioedema (including laryngeal, pharyngeal or facial edema), airway obstruction, dyspnea, urticaria, and itching. A rare occurrence of Stevens-Johnson syndrome, which progressed to toxic epidermal necrolysis, has been reported in a patient who was receiving topical ophthalmic ofloxacin. If an allergic reaction to ofloxacin occurs, discontinue the drug. Serious acute hypersensitivity reactions may require immediate emergency treatment. Oxygen and airway management, including intubation should be administered as clinically indicated.]</td>\n",
       "      <td>NaN</td>\n",
       "      <td>[Ofloxacin Ofloxacin OFLOXACIN OFLOXACIN Sodium Chloride Hydrochloric Acid Sodium Hydroxide Water Benzalkonium Chloride]</td>\n",
       "      <td>7</td>\n",
       "      <td>[DOSAGE AND ADMINISTRATION The recommended dosage regimen for the treatment of bacterial conjunctivitis is: Days 1 and 2 Instill one to two drops every two to four hours in the affected eye(s). Days 3 through 7 Instill one to two drops four times daily. The recommended dosage regimen for the treatment of bacterial corneal ulcer is: Days 1 and 2 Instill one to two drops into the affected eye every 30 minutes, while awake. Awaken at approximately four and six hours after retiring and instill one to two drops. Days 3 through 7 to 9 Instill one to two drops hourly, while awake. Days 7 to 9 through treatment completion Instill one to two drops, four times daily.]</td>\n",
       "      <td>NaN</td>\n",
       "      <td>...</td>\n",
       "      <td>NaN</td>\n",
       "      <td>NaN</td>\n",
       "      <td>NaN</td>\n",
       "      <td>NaN</td>\n",
       "      <td>NaN</td>\n",
       "      <td>NaN</td>\n",
       "      <td>NaN</td>\n",
       "      <td>NaN</td>\n",
       "      <td>NaN</td>\n",
       "      <td>NaN</td>\n",
       "    </tr>\n",
       "    <tr>\n",
       "      <th>4</th>\n",
       "      <td>20230403</td>\n",
       "      <td>NaN</td>\n",
       "      <td>NaN</td>\n",
       "      <td>NaN</td>\n",
       "      <td>NaN</td>\n",
       "      <td>NaN</td>\n",
       "      <td>[Naproxen Naproxen NAPROXEN NAPROXEN CROSCARMELLOSE SODIUM POVIDONE, UNSPECIFIED MAGNESIUM STEARATE FERRIC OXIDE RED FERRIC OXIDE YELLOW MICROCRYSTALLINE CELLULOSE Light orange G;32;500]</td>\n",
       "      <td>27</td>\n",
       "      <td>[2 DOSAGE AND ADMINISTRATION Use the lowest effective dosage for shortest duration consistent with individual patient treatment goals. ( 2.1 ) Rheumatoid Arthritis, Osteoarthritis, and Ankylosing Spondylitis Naproxen tablets 250 mg (one-half tablet) 500 mg twice daily Naproxen sodium tablets 275 mg (one-half tablet) 550 mg twice daily The dose may be adjusted up or down depending on the clinical response of the patient. In patients who tolerate lower doses well, the dose may be increased to naproxen 1500 mg/ day for up to 6 months. Polyarticular Juvenile Idiopathic Arthritis Naproxen tablets may not allow for the flexible dose titration needed in pediatric patients with polyarticular juvenile idiopathic arthritis. A liquid formulation may be more appropriate. Recommended total daily dose of naproxen is approximately 10 mg/kg given in 2 divided doses. Dosing with naproxen tablets is not appropriate for children weighing less than 50 kilograms. Management of Pain, Primary Dysmenorrhea, and Acute Tendonitis and Bursitis Recommended starting dose 550 mg of naproxen sodium as naproxen sodium tablets followed by 550 mg every 12 hours or 275 mg every 6 to 8 hours as required. The initial total daily dose should not exceed 1375 mg of naproxen sodium. Thereafter, the total daily dose should not exceed 1100 mg of naproxen sodium. Naproxen sodium tablets are recommended for the management of acute painful conditions when prompt onset of pain relief is desired. Acute Gout Recommended starting dose 750 mg of naproxen tablets followed by 250 mg every 8 hours until the attack has subsided. Naproxen sodium tablets may also be used at a starting dose of 825 mg followed by 275 mg every 8 hours. 2.1 General Dosing Instructions Carefully consider the potential benefits and risks of naproxen tablets and naproxen sodium tablets and other treatment options before deciding to use naproxen tablets and naproxen sodium tablets. Use the lowest effective dose for the shortest duration consistent with individual patient treatment goals [ see Warnings and Precautions ( 5 ) ]. After observing the response to initial therapy with naproxen tablets or naproxen sodium tablets, the dose and frequency should be adjusted to suit an individual patient’s needs. Naproxen-containing products such as naproxen and naproxen sodium tablets, and other naproxen products should not be used concomitantly since they all circulate in the plasma as the naproxen anion. 2.2 Rheumatoid Arthritis, Osteoarthritis and Ankylosing Spondylitis The recommended dosages of naproxen tablets and naproxen sodium tablets are shown in Table 1. Table 1: Recommended dosages for naproxen tablets and naproxen sodium tablets Naproxen tablets 250 mg (one half tablet) 500 mg twice daily Naproxen sodium tablets 275 mg (one half tablet) 550 mg (naproxen 500 mg with 50 mg sodium) twice daily During long-term administration, the dose of naproxen may be adjusted up or down depending on the clinical response of the patient. A lower daily dose may suffice for long-term administration. The morning and evening doses do not have to be equal in size and administration of the drug more frequently than twice daily does not generally make a difference in response. In patients who tolerate lower doses well, the dose may be increased to naproxen 1500 mg/day for limited periods of up to 6 months when a higher level of anti-inflammatory/analgesic activity is required. When treating such patients with naproxen 1500 mg/day, the physician should observe sufficient increased clinical benefits to offset the potential increased risk. 2.3 Polyarticular Juvenile Idiopathic Arthritis Naproxen solid-oral dosage forms may not allow for the flexible dose titration needed in pediatric patients with polyarticular juvenile idiopathic arthritis. A liquid formulation may be more appropriate for weight-based dosing and due to the need for dose flexibility in children. In pediatric patients, doses of 5 mg/kg/day produced plasma levels of naproxen similar to those seen in adults taking 500 mg of naproxen [ see Clinical Pharmacology ( Error! Hyperlink reference not valid. ) ]. The recommended total daily dose of naproxen is approximately 10 mg/kg given in 2 divided doses. Dosing with naproxen tablets is not appropriate for children weighing less than 50 kilograms. 2.4 Management of Pain, Primary Dysmenorrhea, and Acute Tendonitis and Bursitis The recommended starting dose of naproxen sodium tablets is 550 mg followed by 550 mg every 12 hours or 275 mg (one half of a 550 mg tablet) every 6 to 8 hours as required. The initial total daily dose should not exceed 1375 mg (two and one-half tablets) of naproxen sodium. Thereafter, the total daily dose should not exceed 1100 mg of naproxen sodium. Because the sodium salt of naproxen is more rapidly absorbed, naproxen sodium tablets is recommended for the management of acute painful conditions when prompt onset of pain relief is desired. Naproxen tablets may also be used. The recommended starting dose of naproxen tablets is 500 mg followed by 250 mg (one half of a 500 mg naproxen tablet) every 6 to 8 hours as required. The total daily dose should not exceed 1250 mg of naproxen. 2.5 Acute Gout The recommended starting dose is 750 mg (one and one-half tablets) of naproxen tablets followed by 250 mg (one-half tablet) every 8 hours until the attack has subsided. Naproxen sodium tablets may also be used at a starting dose of 825 mg (one and one-half tablets) followed by 275 mg (one-half tablet) every 8 hours. 2.6 Non-Interchangeability with Other Formulations of Naproxen Different dose strengths and formulations (e.g., tablets, suspension) of naproxen are not interchangeable. This difference should be taken into consideration when changing strengths or formulations.]</td>\n",
       "      <td>NaN</td>\n",
       "      <td>...</td>\n",
       "      <td>NaN</td>\n",
       "      <td>NaN</td>\n",
       "      <td>NaN</td>\n",
       "      <td>NaN</td>\n",
       "      <td>NaN</td>\n",
       "      <td>NaN</td>\n",
       "      <td>NaN</td>\n",
       "      <td>NaN</td>\n",
       "      <td>NaN</td>\n",
       "      <td>NaN</td>\n",
       "    </tr>\n",
       "  </tbody>\n",
       "</table>\n",
       "<p>5 rows × 140 columns</p>\n",
       "</div>"
      ],
      "text/plain": [
       "  effective_time  \\\n",
       "0       20210902   \n",
       "1       20150109   \n",
       "2       20230802   \n",
       "3       20230905   \n",
       "4       20230403   \n",
       "\n",
       "                                                                                                                                                                                                                                                                                                            inactive_ingredient  \\\n",
       "0                                                                                                                                                                                                                                                                                                [INACTIVE INGREDIENTS Sucrose]   \n",
       "1  [INGREDIENTS: TALC, POLYMETHYL METHACRYLATE, VINYL DIMETHICONE/METHICONE SILSESQUIOXANE CROSSPOLYMER, CALCIUM SILICATE, TRIETHYLHEXANOIN, ALUMINUM HYDROXIDE, LAUROYL LYSINE, METHICONE, PHENOXYETHANOL, DIMETHICONE, ALUMINUM DIMYRISTATE, HYDROXYAPATITIE [+/-: MICA (CI77019), IRON OXIDES (CI 77491/CI 77492/CI 77499)]]   \n",
       "2                                                                                                                                                                                                                                                                                        [INACTIVE INGREDIENTS Sucrose/Lactose]   \n",
       "3                                                                                                                                                                                                                                                                                                                           NaN   \n",
       "4                                                                                                                                                                                                                                                                                                                           NaN   \n",
       "\n",
       "                                                                                                                                              purpose  \\\n",
       "0  [USES USES: Temporary Relief - Acne, Boils* * Claims based on traditional homeopathic practice, not accepted medical evidence. Not FDA evaluated.]   \n",
       "1                                                                                                                                 [Purpose Sunscreen]   \n",
       "2                                                                                                          [USES To relieve the symptoms of itching.]   \n",
       "3                                                                                                                                                 NaN   \n",
       "4                                                                                                                                                 NaN   \n",
       "\n",
       "                                                                                             keep_out_of_reach_of_children  \\\n",
       "0                                                                  [Keep this and all medication out of reach of children]   \n",
       "1  [Keep out of reach of children If product is swallowed, get medical help or contact a Poison Control Center right away]   \n",
       "2                                    [KEEP OUT OF REACH OF CHILDREN Keep this and all medicines out of reach of children.]   \n",
       "3                                                                                                                      NaN   \n",
       "4                                                                                                                      NaN   \n",
       "\n",
       "                                                                                                                                                                                                                                                                                                                                                                                                                                                                                                                                                                                                                                                                                                                                                                                                                                                                                                                                                                                                                   warnings  \\\n",
       "0                                                                                                                                                                                                                                                                                                                                                                                                                                                                                                                                                                                         [WARNINGS This product is to be used for self-limiting conditions If symptoms do not improve in 4 days, or worsen, discontinue use and seek assistance of health professional. As with any drug, if you are pregnant, or nursing a baby, seek professional advice before taking this product. Keep this and all medication out of reach of children Do not use if capseal is broken or missing. Close the cap tightly after use.]   \n",
       "1                                                                                                                                                                                                                                                                                                                                                                                                                                                                                                                                                                                                                                                                                                                                                                                                                                                                                                                                                                                         [Warnings For external use only.]   \n",
       "2                                                                                                                                                                                                                                                                                                                                                                                                                                                                                                                                                                                                                                                                                                                                                                                                                                                                                                      [STOP USE AND ASK DOCTOR If symptoms persist/worsen or if pregnant/nursing, stop use and consult your practitioner.]   \n",
       "3  [WARNINGS NOT FOR INJECTION. Ofloxacin ophthalmic solution should not be injected subconjunctivally, nor should it be introduced directly into the anterior chamber of the eye. There are rare reports of anaphylactic reaction/shock and fatal hypersensitivity reactions in patients receiving systemic quinolones, some following the first dose, including ofloxacin. Some reactions were accompanied by cardiovascular collapse, loss of consciousness, angioedema (including laryngeal, pharyngeal or facial edema), airway obstruction, dyspnea, urticaria, and itching. A rare occurrence of Stevens-Johnson syndrome, which progressed to toxic epidermal necrolysis, has been reported in a patient who was receiving topical ophthalmic ofloxacin. If an allergic reaction to ofloxacin occurs, discontinue the drug. Serious acute hypersensitivity reactions may require immediate emergency treatment. Oxygen and airway management, including intubation should be administered as clinically indicated.]   \n",
       "4                                                                                                                                                                                                                                                                                                                                                                                                                                                                                                                                                                                                                                                                                                                                                                                                                                                                                                                                                                                                                       NaN   \n",
       "\n",
       "                                                                                                                                         questions  \\\n",
       "0  [QUESTIONS OR COMMENTS www.Rxhomeo.com | 1.888.2796642 | info@rxhomeo.com Rxhomeo, Inc 3200 Commander Dr, Ste 100-W1, Carrollton, TX 75006 USA]   \n",
       "1                                                                                                                                              NaN   \n",
       "2                                                                                                                                              NaN   \n",
       "3                                                                                                                                              NaN   \n",
       "4                                                                                                                                              NaN   \n",
       "\n",
       "                                                                                                                                                                                                                                                                                                 spl_product_data_elements  \\\n",
       "0                                                                                                                                                                                                                                                                [SILICEA SILICEA SUCROSE SILICON DIOXIDE SILICON DIOXIDE]   \n",
       "1  [CHANTECAILLE PROTECTION NATURELLE BRONZE SPF 46 TITANIUM DIOXIDE, OCTINOXATE, ZINC OXIDE TITANIUM DIOXIDE TITANIUM DIOXIDE OCTINOXATE OCTINOXATE ZINC OXIDE ZINC OXIDE TALC CALCIUM SILICATE TRIETHYLHEXANOIN ALUMINUM HYDROXIDE LAUROYL LYSINE PHENOXYETHANOL DIMETHICONE ALUMINUM DIMYRISTATE MICA FERRIC OXIDE RED]   \n",
       "2                                                                                                                                                                                                                          [Mezereum DAPHNE MEZEREUM BARK SUCROSE LACTOSE DAPHNE MEZEREUM BARK DAPHNE MEZEREUM BARK white]   \n",
       "3                                                                                                                                                                                                 [Ofloxacin Ofloxacin OFLOXACIN OFLOXACIN Sodium Chloride Hydrochloric Acid Sodium Hydroxide Water Benzalkonium Chloride]   \n",
       "4                                                                                                                               [Naproxen Naproxen NAPROXEN NAPROXEN CROSCARMELLOSE SODIUM POVIDONE, UNSPECIFIED MAGNESIUM STEARATE FERRIC OXIDE RED FERRIC OXIDE YELLOW MICROCRYSTALLINE CELLULOSE Light orange G;32;500]   \n",
       "\n",
       "  version  \\\n",
       "0       2   \n",
       "1       4   \n",
       "2       3   \n",
       "3       7   \n",
       "4      27   \n",
       "\n",
       "                                                                                                                                                                                                                                                                                                                                                                                                                                                                                                                                                                                                                                                                                                                                                                                                                                                                                                                                                                                                                                                                                                                                                                                                                                                                                                                                                                                                                                                                                                                                                                                                                                                                                                                                                                                                                                                                                                                                                                                                                                                                                                                                                                                                                                                                                                                                                                                                                                                                                                                                                                                                                                                                                                                                                                                                                                                                                                                                                                                                                                                                                                                                                                                                                                                                                                                                                                                                                                                                                                                                                                                                                                                                                                                                                                                                                                                                                                                                                                                                                                                                                                                                                                                                                                                                                                                                                                                                                                                                                                                                                                                                                                                                                                                                                                                                                                                                                                                                                                                                                                                                                                                                                                                                                                                                                                                                                                                                                                                                                                                                                                                                                                                                                                                                                                                                                                                                                                                                                                                                               dosage_and_administration  \\\n",
       "0                                                                                                                                                                                                                                                                                                                                                                                                                                                                                                                                                                                                                                                                                                                                                                                                                                                                                                                                                                                                                                                                                                                                                                                                                                                                                                                                                                                                                                                                                                                                                                                                                                                                                                                                                                                                                                                                                                                                                                                                                                                                                                                                                                                                                                                                                                                                                                                                                                                                                                                                                                                                                                                                                                                                                                                                                                                                                                                                                                                                                                                                                                                                                                                                                                                                                                                                                                                                                                                                                                                                                                                                                                                                                                                                                                                                                                                                                                                                                                                                                                                                                                                                                                                                                                                                                                                                                                                                                                                                                                                                                                                                                                                                                                                                                                                                                                                                                                                                                                                                                                                                                                                                                                                                                                                                                                                                                                                                                                                                                                                                                                                                                                                                                                                                                                                                                                                                                    [DOSAGE Adults- Take 4 or 6 Pellets by mouth, three times daily or as suggested by physician. Children 2 years and older- take 1/2 the adult dose.]   \n",
       "1                                                                                                                                                                                                                                                                                                                                                                                                                                                                                                                                                                                                                                                                                                                                                                                                                                                                                                                                                                                                                                                                                                                                                                                                                                                                                                                                                                                                                                                                                                                                                                                                                                                                                                                                                                                                                                                                                                                                                                                                                                                                                                                                                                                                                                                                                                                                                                                                                                                                                                                                                                                                                                                                                                                                                                                                                                                                                                                                                                                                                                                                                                                                                                                                                                                                                                                                                                                                                                                                                                                                                                                                                                                                                                                                                                                                                                                                                                                                                                                                                                                                                                                                                                                                                                                                                                                                                                                                                                                                                                                                                                                                                                                                                                                                                                                                                                                                                                                                                                                                                                                                                                                                                                                                                                                                                                                                                                                                                                                                                                                                                                                                                                                                                                                                                                                          [Directions Protection Naturelle SPF 46 PA+++ Powder can be used on clean skin or over makeup. Shake lightly to activate the flow of powder. Sweep the brush all over the face to evenly distribute powder for immediate UVA/UVB protection.]   \n",
       "2                                                                                                                                                                                                                                                                                                                                                                                                                                                                                                                                                                                                                                                                                                                                                                                                                                                                                                                                                                                                                                                                                                                                                                                                                                                                                                                                                                                                                                                                                                                                                                                                                                                                                                                                                                                                                                                                                                                                                                                                                                                                                                                                                                                                                                                                                                                                                                                                                                                                                                                                                                                                                                                                                                                                                                                                                                                                                                                                                                                                                                                                                                                                                                                                                                                                                                                                                                                                                                                                                                                                                                                                                                                                                                                                                                                                                                                                                                                                                                                                                                                                                                                                                                                                                                                                                                                                                                                                                                                                                                                                                                                                                                                                                                                                                                                                                                                                                                                                                                                                                                                                                                                                                                                                                                                                                                                                                                                                                                                                                                                                                                                                                                                                                                                       [DIRECTIONS Adults: Dissolve 3 to 5 under the tongue three times a day or as directed by Lic. Practitioner. Take at greater intervals as condition subsides. Children: Dissolve 3 to 5 under the tongue three times a day or as directed by Lic. Practitioner. Take at greater intervals as condition subsides.]   \n",
       "3                                                                                                                                                                                                                                                                                                                                                                                                                                                                                                                                                                                                                                                                                                                                                                                                                                                                                                                                                                                                                                                                                                                                                                                                                                                                                                                                                                                                                                                                                                                                                                                                                                                                                                                                                                                                                                                                                                                                                                                                                                                                                                                                                                                                                                                                                                                                                                                                                                                                                                                                                                                                                                                                                                                                                                                                                                                                                                                                                                                                                                                                                                                                                                                                                                                                                                                                                                                                                                                                                                                                                                                                                                                                                                                                                                                                                                                                                                                                                                                                                                                                                                                                                                                                                                                                                                                                                                                                                                                                                                                                                                                                                                                                                                                                                                                                                                                                                                                                                                                                                                                                                                                                                                                                                                                                                                                                             [DOSAGE AND ADMINISTRATION The recommended dosage regimen for the treatment of bacterial conjunctivitis is: Days 1 and 2 Instill one to two drops every two to four hours in the affected eye(s). Days 3 through 7 Instill one to two drops four times daily. The recommended dosage regimen for the treatment of bacterial corneal ulcer is: Days 1 and 2 Instill one to two drops into the affected eye every 30 minutes, while awake. Awaken at approximately four and six hours after retiring and instill one to two drops. Days 3 through 7 to 9 Instill one to two drops hourly, while awake. Days 7 to 9 through treatment completion Instill one to two drops, four times daily.]   \n",
       "4  [2 DOSAGE AND ADMINISTRATION Use the lowest effective dosage for shortest duration consistent with individual patient treatment goals. ( 2.1 ) Rheumatoid Arthritis, Osteoarthritis, and Ankylosing Spondylitis Naproxen tablets 250 mg (one-half tablet) 500 mg twice daily Naproxen sodium tablets 275 mg (one-half tablet) 550 mg twice daily The dose may be adjusted up or down depending on the clinical response of the patient. In patients who tolerate lower doses well, the dose may be increased to naproxen 1500 mg/ day for up to 6 months. Polyarticular Juvenile Idiopathic Arthritis Naproxen tablets may not allow for the flexible dose titration needed in pediatric patients with polyarticular juvenile idiopathic arthritis. A liquid formulation may be more appropriate. Recommended total daily dose of naproxen is approximately 10 mg/kg given in 2 divided doses. Dosing with naproxen tablets is not appropriate for children weighing less than 50 kilograms. Management of Pain, Primary Dysmenorrhea, and Acute Tendonitis and Bursitis Recommended starting dose 550 mg of naproxen sodium as naproxen sodium tablets followed by 550 mg every 12 hours or 275 mg every 6 to 8 hours as required. The initial total daily dose should not exceed 1375 mg of naproxen sodium. Thereafter, the total daily dose should not exceed 1100 mg of naproxen sodium. Naproxen sodium tablets are recommended for the management of acute painful conditions when prompt onset of pain relief is desired. Acute Gout Recommended starting dose 750 mg of naproxen tablets followed by 250 mg every 8 hours until the attack has subsided. Naproxen sodium tablets may also be used at a starting dose of 825 mg followed by 275 mg every 8 hours. 2.1 General Dosing Instructions Carefully consider the potential benefits and risks of naproxen tablets and naproxen sodium tablets and other treatment options before deciding to use naproxen tablets and naproxen sodium tablets. Use the lowest effective dose for the shortest duration consistent with individual patient treatment goals [ see Warnings and Precautions ( 5 ) ]. After observing the response to initial therapy with naproxen tablets or naproxen sodium tablets, the dose and frequency should be adjusted to suit an individual patient’s needs. Naproxen-containing products such as naproxen and naproxen sodium tablets, and other naproxen products should not be used concomitantly since they all circulate in the plasma as the naproxen anion. 2.2 Rheumatoid Arthritis, Osteoarthritis and Ankylosing Spondylitis The recommended dosages of naproxen tablets and naproxen sodium tablets are shown in Table 1. Table 1: Recommended dosages for naproxen tablets and naproxen sodium tablets Naproxen tablets 250 mg (one half tablet) 500 mg twice daily Naproxen sodium tablets 275 mg (one half tablet) 550 mg (naproxen 500 mg with 50 mg sodium) twice daily During long-term administration, the dose of naproxen may be adjusted up or down depending on the clinical response of the patient. A lower daily dose may suffice for long-term administration. The morning and evening doses do not have to be equal in size and administration of the drug more frequently than twice daily does not generally make a difference in response. In patients who tolerate lower doses well, the dose may be increased to naproxen 1500 mg/day for limited periods of up to 6 months when a higher level of anti-inflammatory/analgesic activity is required. When treating such patients with naproxen 1500 mg/day, the physician should observe sufficient increased clinical benefits to offset the potential increased risk. 2.3 Polyarticular Juvenile Idiopathic Arthritis Naproxen solid-oral dosage forms may not allow for the flexible dose titration needed in pediatric patients with polyarticular juvenile idiopathic arthritis. A liquid formulation may be more appropriate for weight-based dosing and due to the need for dose flexibility in children. In pediatric patients, doses of 5 mg/kg/day produced plasma levels of naproxen similar to those seen in adults taking 500 mg of naproxen [ see Clinical Pharmacology ( Error! Hyperlink reference not valid. ) ]. The recommended total daily dose of naproxen is approximately 10 mg/kg given in 2 divided doses. Dosing with naproxen tablets is not appropriate for children weighing less than 50 kilograms. 2.4 Management of Pain, Primary Dysmenorrhea, and Acute Tendonitis and Bursitis The recommended starting dose of naproxen sodium tablets is 550 mg followed by 550 mg every 12 hours or 275 mg (one half of a 550 mg tablet) every 6 to 8 hours as required. The initial total daily dose should not exceed 1375 mg (two and one-half tablets) of naproxen sodium. Thereafter, the total daily dose should not exceed 1100 mg of naproxen sodium. Because the sodium salt of naproxen is more rapidly absorbed, naproxen sodium tablets is recommended for the management of acute painful conditions when prompt onset of pain relief is desired. Naproxen tablets may also be used. The recommended starting dose of naproxen tablets is 500 mg followed by 250 mg (one half of a 500 mg naproxen tablet) every 6 to 8 hours as required. The total daily dose should not exceed 1250 mg of naproxen. 2.5 Acute Gout The recommended starting dose is 750 mg (one and one-half tablets) of naproxen tablets followed by 250 mg (one-half tablet) every 8 hours until the attack has subsided. Naproxen sodium tablets may also be used at a starting dose of 825 mg (one and one-half tablets) followed by 275 mg (one-half tablet) every 8 hours. 2.6 Non-Interchangeability with Other Formulations of Naproxen Different dose strengths and formulations (e.g., tablets, suspension) of naproxen are not interchangeable. This difference should be taken into consideration when changing strengths or formulations.]   \n",
       "\n",
       "                                                                                        pregnancy_or_breast_feeding  \\\n",
       "0  [As with any drug, if you are pregnant, or nursing a baby, seek professional advice before taking this product.]   \n",
       "1                                                                                                               NaN   \n",
       "2                                                                                                               NaN   \n",
       "3                                                                                                               NaN   \n",
       "4                                                                                                               NaN   \n",
       "\n",
       "   ... components intended_use_of_the_device mechanism_of_action_table  \\\n",
       "0  ...        NaN                        NaN                       NaN   \n",
       "1  ...        NaN                        NaN                       NaN   \n",
       "2  ...        NaN                        NaN                       NaN   \n",
       "3  ...        NaN                        NaN                       NaN   \n",
       "4  ...        NaN                        NaN                       NaN   \n",
       "\n",
       "  general_precautions_table drug_and_or_laboratory_test_interactions_table  \\\n",
       "0                       NaN                                            NaN   \n",
       "1                       NaN                                            NaN   \n",
       "2                       NaN                                            NaN   \n",
       "3                       NaN                                            NaN   \n",
       "4                       NaN                                            NaN   \n",
       "\n",
       "  accessories ask_doctor_table when_using_table  \\\n",
       "0         NaN              NaN              NaN   \n",
       "1         NaN              NaN              NaN   \n",
       "2         NaN              NaN              NaN   \n",
       "3         NaN              NaN              NaN   \n",
       "4         NaN              NaN              NaN   \n",
       "\n",
       "  ask_doctor_or_pharmacist_table do_not_use_table  \n",
       "0                            NaN              NaN  \n",
       "1                            NaN              NaN  \n",
       "2                            NaN              NaN  \n",
       "3                            NaN              NaN  \n",
       "4                            NaN              NaN  \n",
       "\n",
       "[5 rows x 140 columns]"
      ]
     },
     "execution_count": 301,
     "metadata": {},
     "output_type": "execute_result"
    }
   ],
   "source": [
    "# OpenFDA API endpoint for fetching drug label data\n",
    "BASE_URL = 'https://api.fda.gov/drug/label.json'\n",
    "\n",
    "# Parameters for the API request\n",
    "params = {\n",
    "    'limit': 1000,  # Maximum limit per request\n",
    "    'skip': 0      # Starting point for fetching records\n",
    "}\n",
    "\n",
    "# Function to pause execution to avoid overwhelming the server\n",
    "def pause_execution():\n",
    "    time.sleep(5 + 10 * random.random())\n",
    "\n",
    "# Function to fetch data from the OpenFDA API\n",
    "def fetch_data(max_requests):\n",
    "    labels = []\n",
    "    request_count = 0  # Initialize request counter\n",
    "    \n",
    "    while request_count < max_requests:\n",
    "        response = requests.get(BASE_URL, params=params)\n",
    "        print(f\"Requesting data with params: {params}\")  # Debugging statement\n",
    "        print(f\"Response status code: {response.status_code}\")  # Debugging statement\n",
    "\n",
    "        if response.status_code != 200:\n",
    "            print(f\"Failed to fetch data: {response.status_code}\")  # Debugging statement\n",
    "            break\n",
    "        \n",
    "        data = response.json()\n",
    "        results = data.get('results', [])\n",
    "        if not results:\n",
    "            print(\"No more results found.\")  # Debugging statement\n",
    "            break\n",
    "\n",
    "        for item in results:\n",
    "            labels.append(item)\n",
    "        \n",
    "        params['skip'] += params['limit']\n",
    "        request_count += 1  # Increment request counter\n",
    "        pause_execution()\n",
    "\n",
    "    return labels\n",
    "\n",
    "# Fetch the data\n",
    "labels = fetch_data(max_requests=2)\n",
    "\n",
    "# Convert the data to a pandas DataFrame\n",
    "labels_df = pd.json_normalize(labels)\n",
    "\n",
    "# Display the first few rows of the DataFrame\n",
    "labels_df.head()"
   ]
  },
  {
   "cell_type": "code",
   "execution_count": 302,
   "id": "f15f91d0-1643-4031-b87e-3ca6fc549084",
   "metadata": {},
   "outputs": [
    {
     "name": "stdout",
     "output_type": "stream",
     "text": [
      "<class 'pandas.core.frame.DataFrame'>\n",
      "RangeIndex: 2000 entries, 0 to 1999\n",
      "Data columns (total 140 columns):\n",
      " #    Column                                                            Non-Null Count  Dtype \n",
      "---   ------                                                            --------------  ----- \n",
      " 0    effective_time                                                    2000 non-null   object\n",
      " 1    inactive_ingredient                                               1218 non-null   object\n",
      " 2    purpose                                                           1190 non-null   object\n",
      " 3    keep_out_of_reach_of_children                                     1186 non-null   object\n",
      " 4    warnings                                                          1586 non-null   object\n",
      " 5    questions                                                         659 non-null    object\n",
      " 6    spl_product_data_elements                                         1999 non-null   object\n",
      " 7    version                                                           2000 non-null   object\n",
      " 8    dosage_and_administration                                         1933 non-null   object\n",
      " 9    pregnancy_or_breast_feeding                                       382 non-null    object\n",
      " 10   stop_use                                                          685 non-null    object\n",
      " 11   storage_and_handling                                              606 non-null    object\n",
      " 12   do_not_use                                                        524 non-null    object\n",
      " 13   package_label_principal_display_panel                             1998 non-null   object\n",
      " 14   indications_and_usage                                             1942 non-null   object\n",
      " 15   set_id                                                            2000 non-null   object\n",
      " 16   id                                                                2000 non-null   object\n",
      " 17   active_ingredient                                                 1208 non-null   object\n",
      " 18   openfda.brand_name                                                985 non-null    object\n",
      " 19   openfda.generic_name                                              985 non-null    object\n",
      " 20   openfda.manufacturer_name                                         985 non-null    object\n",
      " 21   openfda.product_ndc                                               985 non-null    object\n",
      " 22   openfda.product_type                                              985 non-null    object\n",
      " 23   openfda.route                                                     980 non-null    object\n",
      " 24   openfda.substance_name                                            975 non-null    object\n",
      " 25   openfda.spl_id                                                    985 non-null    object\n",
      " 26   openfda.spl_set_id                                                985 non-null    object\n",
      " 27   openfda.package_ndc                                               985 non-null    object\n",
      " 28   openfda.is_original_packager                                      736 non-null    object\n",
      " 29   openfda.upc                                                       324 non-null    object\n",
      " 30   openfda.unii                                                      975 non-null    object\n",
      " 31   when_using                                                        570 non-null    object\n",
      " 32   spl_unclassified_section                                          802 non-null    object\n",
      " 33   description                                                       791 non-null    object\n",
      " 34   clinical_pharmacology                                             744 non-null    object\n",
      " 35   clinical_pharmacology_table                                       233 non-null    object\n",
      " 36   pharmacokinetics                                                  410 non-null    object\n",
      " 37   microbiology                                                      49 non-null     object\n",
      " 38   microbiology_table                                                13 non-null     object\n",
      " 39   clinical_studies                                                  379 non-null    object\n",
      " 40   spl_unclassified_section_table                                    65 non-null     object\n",
      " 41   contraindications                                                 752 non-null    object\n",
      " 42   precautions                                                       421 non-null    object\n",
      " 43   general_precautions                                               233 non-null    object\n",
      " 44   information_for_patients                                          574 non-null    object\n",
      " 45   drug_interactions                                                 597 non-null    object\n",
      " 46   carcinogenesis_and_mutagenesis_and_impairment_of_fertility        534 non-null    object\n",
      " 47   pregnancy                                                         591 non-null    object\n",
      " 48   nonteratogenic_effects                                            45 non-null     object\n",
      " 49   nursing_mothers                                                   439 non-null    object\n",
      " 50   pediatric_use                                                     588 non-null    object\n",
      " 51   geriatric_use                                                     500 non-null    object\n",
      " 52   adverse_reactions                                                 769 non-null    object\n",
      " 53   dosage_and_administration_table                                   384 non-null    object\n",
      " 54   how_supplied                                                      760 non-null    object\n",
      " 55   recent_major_changes                                              160 non-null    object\n",
      " 56   boxed_warning                                                     300 non-null    object\n",
      " 57   dosage_forms_and_strengths                                        352 non-null    object\n",
      " 58   warnings_and_cautions                                             372 non-null    object\n",
      " 59   drug_interactions_table                                           100 non-null    object\n",
      " 60   use_in_specific_populations                                       342 non-null    object\n",
      " 61   overdosage                                                        707 non-null    object\n",
      " 62   mechanism_of_action                                               348 non-null    object\n",
      " 63   pharmacodynamics                                                  272 non-null    object\n",
      " 64   nonclinical_toxicology                                            326 non-null    object\n",
      " 65   spl_medguide                                                      184 non-null    object\n",
      " 66   spl_medguide_table                                                95 non-null     object\n",
      " 67   openfda.application_number                                        891 non-null    object\n",
      " 68   openfda.rxcui                                                     730 non-null    object\n",
      " 69   openfda.original_packager_product_ndc                             249 non-null    object\n",
      " 70   openfda.nui                                                       292 non-null    object\n",
      " 71   openfda.pharm_class_moa                                           107 non-null    object\n",
      " 72   openfda.pharm_class_cs                                            148 non-null    object\n",
      " 73   openfda.pharm_class_epc                                           275 non-null    object\n",
      " 74   openfda.pharm_class_pe                                            137 non-null    object\n",
      " 75   recent_major_changes_table                                        44 non-null     object\n",
      " 76   adverse_reactions_table                                           355 non-null    object\n",
      " 77   clinical_studies_table                                            227 non-null    object\n",
      " 78   spl_patient_package_insert                                        102 non-null    object\n",
      " 79   spl_patient_package_insert_table                                  41 non-null     object\n",
      " 80   instructions_for_use                                              65 non-null     object\n",
      " 81   instructions_for_use_table                                        13 non-null     object\n",
      " 82   drug_abuse_and_dependence                                         157 non-null    object\n",
      " 83   drug_and_or_laboratory_test_interactions                          83 non-null     object\n",
      " 84   how_supplied_table                                                113 non-null    object\n",
      " 85   laboratory_tests                                                  143 non-null    object\n",
      " 86   warnings_table                                                    44 non-null     object\n",
      " 87   use_in_specific_populations_table                                 15 non-null     object\n",
      " 88   pediatric_use_table                                               9 non-null      object\n",
      " 89   references                                                        130 non-null    object\n",
      " 90   teratogenic_effects                                               126 non-null    object\n",
      " 91   animal_pharmacology_and_or_toxicology                             85 non-null     object\n",
      " 92   ask_doctor                                                        428 non-null    object\n",
      " 93   ask_doctor_or_pharmacist                                          204 non-null    object\n",
      " 94   active_ingredient_table                                           34 non-null     object\n",
      " 95   purpose_table                                                     27 non-null     object\n",
      " 96   references_table                                                  2 non-null      object\n",
      " 97   labor_and_delivery                                                167 non-null    object\n",
      " 98   pharmacokinetics_table                                            132 non-null    object\n",
      " 99   other_safety_information                                          193 non-null    object\n",
      " 100  user_safety_warnings                                              11 non-null     object\n",
      " 101  drug_abuse_and_dependence_table                                   1 non-null      object\n",
      " 102  controlled_substance                                              69 non-null     object\n",
      " 103  dosage_forms_and_strengths_table                                  11 non-null     object\n",
      " 104  description_table                                                 42 non-null     object\n",
      " 105  precautions_table                                                 22 non-null     object\n",
      " 106  abuse                                                             67 non-null     object\n",
      " 107  geriatric_use_table                                               5 non-null      object\n",
      " 108  dependence                                                        71 non-null     object\n",
      " 109  pharmacodynamics_table                                            22 non-null     object\n",
      " 110  pharmacogenomics                                                  2 non-null      object\n",
      " 111  patient_medication_information                                    13 non-null     object\n",
      " 112  safe_handling_warning                                             6 non-null      object\n",
      " 113  route                                                             17 non-null     object\n",
      " 114  warnings_and_cautions_table                                       56 non-null     object\n",
      " 115  risks                                                             7 non-null      object\n",
      " 116  statement_of_identity                                             1 non-null      object\n",
      " 117  inactive_ingredient_table                                         1 non-null      object\n",
      " 118  indications_and_usage_table                                       8 non-null      object\n",
      " 119  animal_pharmacology_and_or_toxicology_table                       2 non-null      object\n",
      " 120  information_for_patients_table                                    11 non-null     object\n",
      " 121  package_label_principal_display_panel_table                       1 non-null      object\n",
      " 122  contraindications_table                                           4 non-null      object\n",
      " 123  nonclinical_toxicology_table                                      4 non-null      object\n",
      " 124  carcinogenesis_and_mutagenesis_and_impairment_of_fertility_table  3 non-null      object\n",
      " 125  information_for_owners_or_caregivers                              1 non-null      object\n",
      " 126  cleaning                                                          3 non-null      object\n",
      " 127  environmental_warning                                             2 non-null      object\n",
      " 128  patient_medication_information_table                              3 non-null      object\n",
      " 129  storage_and_handling_table                                        1 non-null      object\n",
      " 130  components                                                        1 non-null      object\n",
      " 131  intended_use_of_the_device                                        1 non-null      object\n",
      " 132  mechanism_of_action_table                                         1 non-null      object\n",
      " 133  general_precautions_table                                         2 non-null      object\n",
      " 134  drug_and_or_laboratory_test_interactions_table                    3 non-null      object\n",
      " 135  accessories                                                       1 non-null      object\n",
      " 136  ask_doctor_table                                                  1 non-null      object\n",
      " 137  when_using_table                                                  1 non-null      object\n",
      " 138  ask_doctor_or_pharmacist_table                                    1 non-null      object\n",
      " 139  do_not_use_table                                                  1 non-null      object\n",
      "dtypes: object(140)\n",
      "memory usage: 2.1+ MB\n"
     ]
    }
   ],
   "source": [
    "pd.set_option('display.max_info_columns', 140)\n",
    "labels_df.info()"
   ]
  },
  {
   "cell_type": "code",
   "execution_count": 303,
   "id": "4b584d98-b44a-4f41-98e2-236eb814eebe",
   "metadata": {},
   "outputs": [],
   "source": [
    "# Save the data to a JSON file\n",
    "#json_file_path = 'DataLibrary/raw_labels.json'\n",
    "#with open(json_file_path, 'w') as json_file:\n",
    "#    json.dump(labels, json_file, indent=4)\n",
    "\n",
    "# Save the data to a CSV file\n",
    "#csv_file_path = 'DataLibrary/raw_labels.csv'\n",
    "#labels_df.to_csv(csv_file_path, index=False)\n",
    "\n",
    "#print(f\"Data saved to {csv_file_path} and {json_file_path}\")"
   ]
  },
  {
   "cell_type": "markdown",
   "id": "43480a2a-0c5a-4188-9ae7-5c01020bf786",
   "metadata": {},
   "source": [
    "## National Library of Medicine - Standardized Drug Names and Information (maybe not needed)"
   ]
  },
  {
   "cell_type": "markdown",
   "id": "aeba4eaf-88b1-4629-8330-efa1a4877378",
   "metadata": {},
   "source": [
    "https://lhncbc.nlm.nih.gov/RxNav/APIs/RxNormAPIs.html"
   ]
  },
  {
   "cell_type": "markdown",
   "id": "dbe1f239-8f79-49b5-90ad-a94da9cecf8a",
   "metadata": {},
   "source": [
    "## API Request for RxNorm"
   ]
  },
  {
   "cell_type": "code",
   "execution_count": 304,
   "id": "6d03aafd-7f75-4e7d-80f6-61cc120b8524",
   "metadata": {},
   "outputs": [],
   "source": [
    "# Base URL for RxTerms API to get all drug names\n",
    "#BASE_URL = 'https://rxnav.nlm.nih.gov/REST/RxTerms/rxcui'\n",
    "\n",
    "# Function to pause execution to avoid overwhelming the server\n",
    "#def pause_execution():\n",
    "#    time.sleep(1 + 2 * random.random())\n",
    "\n",
    "# Function to fetch data from the RxTerms API\n",
    "#def fetch_data(max_requests):\n",
    "#    drugs = []\n",
    "#    start_rxcui = 1  # Starting RxCUI for the search\n",
    "#    step = 500      # Step size to iterate through RxCUIs\n",
    "#    request_count = 0  # Initialize request counter\n",
    "\n",
    "#    while request_count < max_requests:\n",
    "#        batch_drugs = []\n",
    "#        for i in range(start_rxcui, start_rxcui + step):\n",
    "#            url = f\"{BASE_URL}/{i}/allinfo.json\"\n",
    "#            response = requests.get(url)\n",
    "\n",
    "#            if response.status_code != 200:\n",
    "#                print(f\"Failed to fetch data: {response.status_code}\")  # Debugging statement\n",
    "#                continue\n",
    "\n",
    "#            if response.content.strip():  # Check if the response content is not empty\n",
    "#                data = response.json()\n",
    "#                properties = data.get('rxtermsProperties', {})\n",
    "\n",
    "#                if properties:\n",
    "#                    if properties.get('marketed', '').lower() == 'true':\n",
    "#                        properties['rxcui'] = i\n",
    "#                        batch_drugs.append(properties)\n",
    "\n",
    "#        drugs.extend(batch_drugs)  # Add the batch results to the main list\n",
    "#        print(f\"Processed batch starting with RxCUI: {start_rxcui}\")  # Debugging statement for each batch\n",
    "\n",
    "        # Update the start_rxcui for the next batch\n",
    " #       start_rxcui += step\n",
    "#      request_count += 1  # Increment request counter\n",
    "\n",
    "        # Break condition to stop if no more data in the batch\n",
    "#        if not batch_drugs:\n",
    "#            break\n",
    "\n",
    "#        pause_execution()\n",
    "\n",
    "#    return drugs\n",
    "\n",
    "# Fetch the data\n",
    "#drugs = fetch_data(max_requests=1)\n",
    "\n",
    "# Convert the data to a pandas DataFrame\n",
    "#drugs_df = pd.DataFrame(drugs)\n",
    "\n",
    "# Display the first few rows of the DataFrame\n",
    "#drugs_df.head()"
   ]
  },
  {
   "cell_type": "code",
   "execution_count": 305,
   "id": "1eddf171-e936-4c49-b499-164be604ca8d",
   "metadata": {},
   "outputs": [],
   "source": [
    "# Save the data to a JSON file\n",
    "#json_file_path = 'DataLibrary/rxterms_drugs.json'\n",
    "#with open(json_file_path, 'w') as json_file:\n",
    "#    json.dump(drugs, json_file, indent=4)\n",
    "\n",
    "# Save the data to a CSV file\n",
    "#csv_file_path = 'DataLibrary/rxterms_drugs.csv'\n",
    "#drugs_df.to_csv(csv_file_path, index=False)\n",
    "\n",
    "#print(f\"Data saved to {csv_file_path} and {json_file_path}\")"
   ]
  },
  {
   "cell_type": "markdown",
   "id": "bd3412b1-ecea-46b3-9e33-a5515f19ba13",
   "metadata": {},
   "source": [
    "## ADReCS Database for Standardized Drug and Side Effect Labeling"
   ]
  },
  {
   "cell_type": "code",
   "execution_count": 306,
   "id": "494897fd-c7e4-4746-af65-b72c1d4d1c59",
   "metadata": {},
   "outputs": [],
   "source": [
    "# load in static files, store in github folder or add to database if too large"
   ]
  },
  {
   "cell_type": "code",
   "execution_count": null,
   "id": "3d22ee84-c882-4aa3-8af5-b0d373ac1553",
   "metadata": {},
   "outputs": [],
   "source": []
  },
  {
   "cell_type": "code",
   "execution_count": null,
   "id": "04083ad9-b77c-42d6-bbec-fb49c0b83112",
   "metadata": {},
   "outputs": [],
   "source": []
  },
  {
   "cell_type": "markdown",
   "id": "bd220fd5-7ee8-496c-afd6-78294f2d89f1",
   "metadata": {},
   "source": [
    "## Medicaid Drug Prices - 2024 Report - API \n",
    "\n",
    "https://data.medicaid.gov/dataset/99315a95-37ac-4eee-946a-3c523b4c481e#data-table"
   ]
  },
  {
   "cell_type": "code",
   "execution_count": 307,
   "id": "883e2498-2976-40a6-a6c9-2d5dbef06060",
   "metadata": {},
   "outputs": [
    {
     "name": "stdout",
     "output_type": "stream",
     "text": [
      "Requesting data with offset: 0\n",
      "Response status code: 200\n",
      "Fetched 500 records. Total so far: 500\n",
      "Requesting data with offset: 500\n",
      "Response status code: 200\n",
      "Fetched 500 records. Total so far: 1000\n",
      "Total records fetched: 1000\n"
     ]
    }
   ],
   "source": [
    "# Base URL for the Medicaid API for NADAC data\n",
    "BASE_URL = 'https://data.medicaid.gov/api/1/datastore/sql'\n",
    "\n",
    "# Initial SQL query to fetch data with a limit of 500 and initial offset 0\n",
    "# Queries 2024 Database\n",
    "query_template = '[SELECT * FROM f3b5cf6b-07cc-5f75-8d7b-0a1090b3f7e9][LIMIT 500 OFFSET {}]'\n",
    "\n",
    "# Function to pause execution to avoid overwhelming the server\n",
    "def pause_execution():\n",
    "    # Pause execution for a random time between 1 and 3 seconds to avoid hitting the server too hard\n",
    "    time.sleep(1 + 2 * random.random())\n",
    "\n",
    "# Function to fetch data from the Medicaid API in batches\n",
    "def fetch_nadac_data():\n",
    "    all_data = []  # Initialize an empty list to store all fetched data\n",
    "    offset = 0  # Starting offset for pagination\n",
    "    max_requests = 2  # Maximum number of requests to fetch 1000 records\n",
    "    \n",
    "    for _ in range(max_requests):  # Loop to fetch data in batches\n",
    "        # Modify the query to include the current offset for pagination\n",
    "        query = query_template.format(offset)\n",
    "        params = {'query': query}  # Set the parameters for the API request\n",
    "\n",
    "        response = requests.get(BASE_URL, params=params)  # Send the request to the API\n",
    "        print(f\"Requesting data with offset: {offset}\")  # Debugging statement to show current offset\n",
    "        print(f\"Response status code: {response.status_code}\")  # Debugging statement to show response status\n",
    "\n",
    "        if response.status_code != 200:  # Check if the request was unsuccessful\n",
    "            print(f\"Failed to fetch data: {response.status_code}\")  # Debugging statement for error status\n",
    "            try:\n",
    "                error_details = response.json()\n",
    "                print(f\"Error message: {error_details.get('message', 'No message provided')}\")  # Print the error message\n",
    "                print(f\"Error details: {error_details.get('data', 'No additional data provided')}\")  # Print additional error details\n",
    "            except ValueError:\n",
    "                print(\"Failed to decode JSON error response.\")  # Debugging statement for JSON error\n",
    "            break  # Exit the loop if there was an error\n",
    "\n",
    "        try:\n",
    "            data = response.json()  # Parse the response JSON\n",
    "            #print(f\"Raw response data: {data}\")  # Debugging statement to show raw response data\n",
    "            \n",
    "            if not isinstance(data, list):  # Check if the response is an array\n",
    "                print(\"Expected a list but got a different structure.\")\n",
    "                break\n",
    "\n",
    "            if not data:  # Check if the list is empty\n",
    "                print(\"No more results found.\")  # Debugging statement to indicate no more data\n",
    "                break  # Exit the loop if no more data is found\n",
    "\n",
    "            all_data.extend(data)  # Append the fetched data to the main list\n",
    "            offset += len(data)  # Increment the offset by the number of records fetched\n",
    "            print(f\"Fetched {len(data)} records. Total so far: {len(all_data)}\")  # Debugging statement to show fetched data count\n",
    "        except ValueError:  # Handle any JSON decoding errors\n",
    "            print(\"Failed to decode JSON response.\")  # Debugging statement for JSON error\n",
    "            break  # Exit the loop if there was an error decoding JSON\n",
    "        \n",
    "        pause_execution()  # Pause before the next request to avoid overwhelming the server\n",
    "\n",
    "    return all_data  # Return the collected data\n",
    "\n",
    "# Fetch the data\n",
    "prices = fetch_nadac_data()\n",
    "\n",
    "# Convert the data to a pandas DataFrame\n",
    "prices_df = pd.DataFrame(prices)\n",
    "\n",
    "# Display the first few rows of the DataFrame\n",
    "prices_df.head()\n",
    "print(f\"Total records fetched: {len(prices_df)}\")  # Debugging statement"
   ]
  },
  {
   "cell_type": "code",
   "execution_count": 308,
   "id": "033a2dd3-7137-48b3-b0c9-569a813b121b",
   "metadata": {},
   "outputs": [
    {
     "name": "stdout",
     "output_type": "stream",
     "text": [
      "<class 'pandas.core.frame.DataFrame'>\n",
      "RangeIndex: 1000 entries, 0 to 999\n",
      "Data columns (total 12 columns):\n",
      " #   Column                                     Non-Null Count  Dtype \n",
      "---  ------                                     --------------  ----- \n",
      " 0   NDC Description                            1000 non-null   object\n",
      " 1   NDC                                        1000 non-null   object\n",
      " 2   NADAC_Per_Unit                             1000 non-null   object\n",
      " 3   Effective Date                             1000 non-null   object\n",
      " 4   Pricing_Unit                               1000 non-null   object\n",
      " 5   Pharmacy_Type_Indicator                    1000 non-null   object\n",
      " 6   OTC                                        1000 non-null   object\n",
      " 7   Explanation_Code                           1000 non-null   object\n",
      " 8   Classification_for_Rate_Setting            1000 non-null   object\n",
      " 9   Corresponding_Generic_Drug_NADAC_Per_Unit  1000 non-null   object\n",
      " 10  Corresponding_Generic_Drug_Effective_Date  1000 non-null   object\n",
      " 11  As of Date                                 1000 non-null   object\n",
      "dtypes: object(12)\n",
      "memory usage: 93.9+ KB\n"
     ]
    }
   ],
   "source": [
    "prices_df.info()"
   ]
  },
  {
   "cell_type": "code",
   "execution_count": 309,
   "id": "0819a2a3-896e-48a8-98c7-bf609de957d6",
   "metadata": {},
   "outputs": [
    {
     "data": {
      "text/html": [
       "<div>\n",
       "<style scoped>\n",
       "    .dataframe tbody tr th:only-of-type {\n",
       "        vertical-align: middle;\n",
       "    }\n",
       "\n",
       "    .dataframe tbody tr th {\n",
       "        vertical-align: top;\n",
       "    }\n",
       "\n",
       "    .dataframe thead th {\n",
       "        text-align: right;\n",
       "    }\n",
       "</style>\n",
       "<table border=\"1\" class=\"dataframe\">\n",
       "  <thead>\n",
       "    <tr style=\"text-align: right;\">\n",
       "      <th></th>\n",
       "      <th>NDC Description</th>\n",
       "      <th>NDC</th>\n",
       "      <th>NADAC_Per_Unit</th>\n",
       "      <th>Effective Date</th>\n",
       "      <th>Pricing_Unit</th>\n",
       "      <th>Pharmacy_Type_Indicator</th>\n",
       "      <th>OTC</th>\n",
       "      <th>Explanation_Code</th>\n",
       "      <th>Classification_for_Rate_Setting</th>\n",
       "      <th>Corresponding_Generic_Drug_NADAC_Per_Unit</th>\n",
       "      <th>Corresponding_Generic_Drug_Effective_Date</th>\n",
       "      <th>As of Date</th>\n",
       "    </tr>\n",
       "  </thead>\n",
       "  <tbody>\n",
       "    <tr>\n",
       "      <th>0</th>\n",
       "      <td>12HR NASAL DECONGEST ER 120 MG</td>\n",
       "      <td>24385005452</td>\n",
       "      <td>0.28255</td>\n",
       "      <td>2022-12-21</td>\n",
       "      <td>EA</td>\n",
       "      <td>C/I</td>\n",
       "      <td>Y</td>\n",
       "      <td>1</td>\n",
       "      <td>G</td>\n",
       "      <td></td>\n",
       "      <td></td>\n",
       "      <td>2023-01-04</td>\n",
       "    </tr>\n",
       "    <tr>\n",
       "      <th>1</th>\n",
       "      <td>12HR NASAL DECONGEST ER 120 MG</td>\n",
       "      <td>70000047501</td>\n",
       "      <td>0.28255</td>\n",
       "      <td>2022-12-21</td>\n",
       "      <td>EA</td>\n",
       "      <td>C/I</td>\n",
       "      <td>Y</td>\n",
       "      <td>1</td>\n",
       "      <td>G</td>\n",
       "      <td></td>\n",
       "      <td></td>\n",
       "      <td>2023-01-04</td>\n",
       "    </tr>\n",
       "    <tr>\n",
       "      <th>2</th>\n",
       "      <td>24H NASAL ALLERGY 55 MCG SPRAY</td>\n",
       "      <td>46122038576</td>\n",
       "      <td>0.78326</td>\n",
       "      <td>2022-12-21</td>\n",
       "      <td>ML</td>\n",
       "      <td>C/I</td>\n",
       "      <td>Y</td>\n",
       "      <td>1, 5</td>\n",
       "      <td>G</td>\n",
       "      <td></td>\n",
       "      <td></td>\n",
       "      <td>2023-01-04</td>\n",
       "    </tr>\n",
       "    <tr>\n",
       "      <th>3</th>\n",
       "      <td>24HR ALLERGY(LEVOCETIRZN) 5 MG</td>\n",
       "      <td>70000036201</td>\n",
       "      <td>0.15365</td>\n",
       "      <td>2022-12-21</td>\n",
       "      <td>EA</td>\n",
       "      <td>C/I</td>\n",
       "      <td>Y</td>\n",
       "      <td>1</td>\n",
       "      <td>G</td>\n",
       "      <td></td>\n",
       "      <td></td>\n",
       "      <td>2023-01-04</td>\n",
       "    </tr>\n",
       "    <tr>\n",
       "      <th>4</th>\n",
       "      <td>24HR ALLERGY(LEVOCETIRZN) 5 MG</td>\n",
       "      <td>70000036202</td>\n",
       "      <td>0.15365</td>\n",
       "      <td>2022-12-21</td>\n",
       "      <td>EA</td>\n",
       "      <td>C/I</td>\n",
       "      <td>Y</td>\n",
       "      <td>1</td>\n",
       "      <td>G</td>\n",
       "      <td></td>\n",
       "      <td></td>\n",
       "      <td>2023-01-04</td>\n",
       "    </tr>\n",
       "  </tbody>\n",
       "</table>\n",
       "</div>"
      ],
      "text/plain": [
       "                  NDC Description          NDC NADAC_Per_Unit Effective Date  \\\n",
       "0  12HR NASAL DECONGEST ER 120 MG  24385005452        0.28255     2022-12-21   \n",
       "1  12HR NASAL DECONGEST ER 120 MG  70000047501        0.28255     2022-12-21   \n",
       "2  24H NASAL ALLERGY 55 MCG SPRAY  46122038576        0.78326     2022-12-21   \n",
       "3  24HR ALLERGY(LEVOCETIRZN) 5 MG  70000036201        0.15365     2022-12-21   \n",
       "4  24HR ALLERGY(LEVOCETIRZN) 5 MG  70000036202        0.15365     2022-12-21   \n",
       "\n",
       "  Pricing_Unit Pharmacy_Type_Indicator OTC Explanation_Code  \\\n",
       "0           EA                     C/I   Y                1   \n",
       "1           EA                     C/I   Y                1   \n",
       "2           ML                     C/I   Y             1, 5   \n",
       "3           EA                     C/I   Y                1   \n",
       "4           EA                     C/I   Y                1   \n",
       "\n",
       "  Classification_for_Rate_Setting Corresponding_Generic_Drug_NADAC_Per_Unit  \\\n",
       "0                               G                                             \n",
       "1                               G                                             \n",
       "2                               G                                             \n",
       "3                               G                                             \n",
       "4                               G                                             \n",
       "\n",
       "  Corresponding_Generic_Drug_Effective_Date  As of Date  \n",
       "0                                            2023-01-04  \n",
       "1                                            2023-01-04  \n",
       "2                                            2023-01-04  \n",
       "3                                            2023-01-04  \n",
       "4                                            2023-01-04  "
      ]
     },
     "execution_count": 309,
     "metadata": {},
     "output_type": "execute_result"
    }
   ],
   "source": [
    "prices_df.head()"
   ]
  },
  {
   "cell_type": "markdown",
   "id": "beaa326d-b48f-412a-9384-c4f30938b708",
   "metadata": {},
   "source": [
    "# Preprocess Documents Table"
   ]
  },
  {
   "cell_type": "markdown",
   "id": "7082dd45-8099-4de1-b082-afc342bdb4c6",
   "metadata": {},
   "source": [
    "#### Select Columns"
   ]
  },
  {
   "cell_type": "code",
   "execution_count": 310,
   "id": "be501f18-de78-491f-ba9f-924c56c04f99",
   "metadata": {},
   "outputs": [],
   "source": [
    "documents_table = pd.DataFrame(documents_df, columns=[\"doc_type\", \"year\", \"text\"])"
   ]
  },
  {
   "cell_type": "markdown",
   "id": "a0351f59-ad50-4315-8fd1-25b1778f10d0",
   "metadata": {},
   "source": [
    "#### Fix Dtypes"
   ]
  },
  {
   "cell_type": "code",
   "execution_count": 311,
   "id": "8128f4d3-06b2-45b3-8e2e-68318ea9f020",
   "metadata": {},
   "outputs": [
    {
     "name": "stdout",
     "output_type": "stream",
     "text": [
      "<class 'pandas.core.frame.DataFrame'>\n",
      "RangeIndex: 1000 entries, 0 to 999\n",
      "Data columns (total 4 columns):\n",
      " #   Column    Non-Null Count  Dtype \n",
      "---  ------    --------------  ----- \n",
      " 0   doc_id    1000 non-null   int64 \n",
      " 1   doc_type  1000 non-null   object\n",
      " 2   year      1000 non-null   int64 \n",
      " 3   text      1000 non-null   object\n",
      "dtypes: int64(2), object(2)\n",
      "memory usage: 31.4+ KB\n",
      "['pr' 'talk']\n"
     ]
    },
    {
     "data": {
      "text/html": [
       "<div>\n",
       "<style scoped>\n",
       "    .dataframe tbody tr th:only-of-type {\n",
       "        vertical-align: middle;\n",
       "    }\n",
       "\n",
       "    .dataframe tbody tr th {\n",
       "        vertical-align: top;\n",
       "    }\n",
       "\n",
       "    .dataframe thead th {\n",
       "        text-align: right;\n",
       "    }\n",
       "</style>\n",
       "<table border=\"1\" class=\"dataframe\">\n",
       "  <thead>\n",
       "    <tr style=\"text-align: right;\">\n",
       "      <th></th>\n",
       "      <th>doc_id</th>\n",
       "      <th>doc_type</th>\n",
       "      <th>year</th>\n",
       "      <th>text_processed</th>\n",
       "    </tr>\n",
       "  </thead>\n",
       "  <tbody>\n",
       "    <tr>\n",
       "      <th>0</th>\n",
       "      <td>1</td>\n",
       "      <td>pr</td>\n",
       "      <td>2006</td>\n",
       "      <td>[fda, news, release, immediate, release, february, 9, 2006, report, demonstrates, benefit, earlier, meeting, fda, make, drug, review, process, efficient, food, drug, administration, fda, released, report, take, look, way, agency, review, application, drug, biologics, previously, approved, fda, report, commissioned, look, difference, application, approved, agency, first, round, review, compared, application, took, multiple, review, approval, one, compelling, finding, positive, impact, milestone, meeting, held, product, sponsor, fda, making, drug, review, process, efficient, improving, quality, initial, application, report, entitled, independent, evaluation, fda, first, cycle, review, performance, retrospective, analysis, showed, positive, impact, consulting, fda, beginning, final, phase, human, testing, end, phase, 2, approval, rate, percent, company, ...]</td>\n",
       "    </tr>\n",
       "  </tbody>\n",
       "</table>\n",
       "</div>"
      ],
      "text/plain": [
       "   doc_id doc_type  year  \\\n",
       "0       1       pr  2006   \n",
       "\n",
       "                                                                                                                                                                                                                                                                                                                                                                                                                                                                                                                                                                                                                                                                                                                                                                                                                                                                                        text_processed  \n",
       "0  [fda, news, release, immediate, release, february, 9, 2006, report, demonstrates, benefit, earlier, meeting, fda, make, drug, review, process, efficient, food, drug, administration, fda, released, report, take, look, way, agency, review, application, drug, biologics, previously, approved, fda, report, commissioned, look, difference, application, approved, agency, first, round, review, compared, application, took, multiple, review, approval, one, compelling, finding, positive, impact, milestone, meeting, held, product, sponsor, fda, making, drug, review, process, efficient, improving, quality, initial, application, report, entitled, independent, evaluation, fda, first, cycle, review, performance, retrospective, analysis, showed, positive, impact, consulting, fda, beginning, final, phase, human, testing, end, phase, 2, approval, rate, percent, company, ...]  "
      ]
     },
     "execution_count": 311,
     "metadata": {},
     "output_type": "execute_result"
    }
   ],
   "source": [
    "\n",
    "documents_table = add_sequential_index(documents_table,'doc_id')\n",
    "\n",
    "documents_table.info()\n",
    "\n",
    "print(documents_table['doc_type'].unique())\n",
    "\n",
    "documents_table['text_processed'] = documents_table['text'].apply(lambda x: process_text(x))\n",
    "\n",
    "end_time = time.time()\n",
    "\n",
    "documents_table.drop(columns=['text'], inplace=True)\n",
    "\n",
    "documents_table.head(1)\n"
   ]
  },
  {
   "cell_type": "markdown",
   "id": "ad3a3ca8-fa52-4237-871d-d130534648f8",
   "metadata": {},
   "source": [
    "#### Assess Text Field Lengths"
   ]
  },
  {
   "cell_type": "code",
   "execution_count": 324,
   "id": "5810c185-77d3-4803-a89c-ce3c267013ed",
   "metadata": {},
   "outputs": [
    {
     "name": "stderr",
     "output_type": "stream",
     "text": [
      "/Users/vicky/opt/anaconda3/lib/python3.8/site-packages/seaborn/categorical.py:82: FutureWarning: iteritems is deprecated and will be removed in a future version. Use .items instead.\n",
      "  plot_data = [np.asarray(s, float) for k, s in iter_data]\n"
     ]
    },
    {
     "data": {
      "image/png": "[encoded data removed]",
      "text/plain": [
       "<Figure size 1000x600 with 1 Axes>"
      ]
     },
     "metadata": {},
     "output_type": "display_data"
    },
    {
     "name": "stdout",
     "output_type": "stream",
     "text": [
      "\n",
      "Descriptive Statistics on Text Length:\n",
      "                 count      mean          std    min      25%     50%     75%  \\\n",
      "doc_type        1000.0     2.366     0.773720    2.0     2.00     2.0     2.0   \n",
      "text_processed  1000.0  3645.679  3300.544468  229.0  1966.75  2900.0  4086.5   \n",
      "\n",
      "                    max  \n",
      "doc_type            4.0  \n",
      "text_processed  48812.0  \n"
     ]
    }
   ],
   "source": [
    "documents_table_object_cols = documents_table.select_dtypes(include=['object'])\n",
    "\n",
    "# Step 2: Calculate number of characters in each object column\n",
    "character_counts = documents_table_object_cols.applymap(lambda x: len(str(x)))\n",
    "\n",
    "# Step 3: Create boxplot using Seaborn with pink boxes\n",
    "plt.figure(figsize=(10, 6))  # Adjust figure size if needed\n",
    "sns.boxplot(data=character_counts, color='hotpink')\n",
    "plt.title('Number of Characters in Each Column (Object Columns)')\n",
    "plt.ylabel('Number of Characters')\n",
    "plt.xlabel('Columns')\n",
    "plt.grid(True)\n",
    "plt.show()\n",
    "\n",
    "# Step 4: Print descriptive statistics table\n",
    "stats_table = character_counts.describe().transpose()\n",
    "print(\"\\nDescriptive Statistics on Text Length:\")\n",
    "print(stats_table)"
   ]
  },
  {
   "cell_type": "code",
   "execution_count": 338,
   "id": "beeb2094-ebb3-4af5-a9db-69f18349bc72",
   "metadata": {},
   "outputs": [],
   "source": [
    "# Return boxplot of character length for object columns, as well as descriptive statistics of character length\n",
    "def plot_character_length(df, df_name):\n",
    "    #filter for object columns\n",
    "    documents_table_object_cols = df.select_dtypes(include=['object'])\n",
    "\n",
    "    # Calculate the number of characters in each column\n",
    "    character_counts = documents_table_object_cols.applymap(lambda x: len(str(x)))\n",
    "\n",
    "    # Generate boxplot\n",
    "    plt.figure(figsize=(10, 6))\n",
    "    sns.boxplot(data=character_counts, color='hotpink')\n",
    "    plt.title(f'Number of Characters in Each Object Column - {df_name}')\n",
    "    plt.ylabel('Number of Characters')\n",
    "    plt.xlabel('Columns')\n",
    "    plt.grid(True)\n",
    "    plt.show()\n",
    "\n",
    "    # Statistics Table\n",
    "    stats_table = character_counts.describe().transpose()\n",
    "    print(\"\\nDescriptive Statistics on Character Length:\")\n",
    "    print(stats_table)"
   ]
  },
  {
   "cell_type": "code",
   "execution_count": 339,
   "id": "6baaac81-6268-4739-93ce-1fa1ba4bb3e6",
   "metadata": {},
   "outputs": [
    {
     "data": {
      "image/png": "[encoded data removed]",
      "text/plain": [
       "<Figure size 1000x600 with 1 Axes>"
      ]
     },
     "metadata": {},
     "output_type": "display_data"
    },
    {
     "name": "stdout",
     "output_type": "stream",
     "text": [
      "\n",
      "Descriptive Statistics on Character Length:\n",
      "                 count      mean          std    min      25%     50%     75%  \\\n",
      "doc_type        1000.0     2.366     0.773720    2.0     2.00     2.0     2.0   \n",
      "text_processed  1000.0  3645.679  3300.544468  229.0  1966.75  2900.0  4086.5   \n",
      "\n",
      "                    max  \n",
      "doc_type            4.0  \n",
      "text_processed  48812.0  \n"
     ]
    }
   ],
   "source": [
    "plot_character_length(documents_table, 'documents_table')\n"
   ]
  },
  {
   "cell_type": "markdown",
   "id": "9ae4b044-e8e0-45b2-abb9-3d2d2d69baa3",
   "metadata": {},
   "source": [
    "# PreProcess Events Table"
   ]
  },
  {
   "cell_type": "markdown",
   "id": "43f8b089-fe61-429f-bcaa-e1cf407518ff",
   "metadata": {},
   "source": [
    "#### Select Columns"
   ]
  },
  {
   "cell_type": "code",
   "execution_count": 313,
   "id": "75bc693d-5c4c-4d15-b030-70c62faa0172",
   "metadata": {},
   "outputs": [],
   "source": [
    "events_table = pd.DataFrame(events_df, \n",
    "                            columns = [\"safetyreportid\", #case report number\n",
    "                                        \"transmissiondate\", # date the record was created\n",
    "                                        \"serious\", # seriousness - 1 = result in death, lifethreatening,hospital,etc. 2 = not in the above\n",
    "                                        \"fulfillexpeditecriteria\",  # 1 - Yes, 2 - No\n",
    "                                        \"primarysource.qualification\",  # 1-MD, 2-Pharmacist, 3-Health Prof, 4-Lawyer, 5-Consumer/NonHealth\n",
    "                                        \"safetyreportversion\",  # Indicates updated reports, with 1 being first, and increasing numbers as new \n",
    "                                        \"companynumb\",  # Company making report\n",
    "                                        #\"seriousnessdeath\", # 1 = death, redundant with serious\n",
    "                                        #  \"receivedateformat\", #always YYYYMMDD\n",
    "                                        #  \"receivedate\", #date report received by FDA\n",
    "                                        \"primarysource.reportercountry\", # country of the reporter of this event\n",
    "                                        \"patient.patientonsetage\", # age of patient when event occured\n",
    "                                        \"patient.patientonsetageunit\",  # 801: Y, 802: M, 803: W, 804: D, 805: H \n",
    "                                        \"patient.patientsex\", # sex of patient. 0=unknown, 1=male, 2=female\n",
    "                                        \"patient.reaction\", # Dictionary list - expanded as seperate table\n",
    "                                        \"patient.drug\", # Dictionary list - expanded as separate table\n",
    "                                        # \"patient.patientagegroup\", #1 = neonate, 2 = infant, 3=child, 4=adolescent, 5=adult, 6=elderly\n",
    "                                        # \"patient.patientweight\", # weight in kg\n",
    "                                        # \"seriousnesscongentialanomali\", # 1 if congenital anomaly (fetal abnormality),absent otherwise\n",
    "                                        # \"authoritynumb\", #regulatory authority case #\n",
    "                                        # \"reportduplicate\"\n",
    "                                      ])"
   ]
  },
  {
   "cell_type": "code",
   "execution_count": 314,
   "id": "3b404501-32b7-416a-abd7-1f622369fa18",
   "metadata": {},
   "outputs": [
    {
     "data": {
      "text/html": [
       "<div>\n",
       "<style scoped>\n",
       "    .dataframe tbody tr th:only-of-type {\n",
       "        vertical-align: middle;\n",
       "    }\n",
       "\n",
       "    .dataframe tbody tr th {\n",
       "        vertical-align: top;\n",
       "    }\n",
       "\n",
       "    .dataframe thead th {\n",
       "        text-align: right;\n",
       "    }\n",
       "</style>\n",
       "<table border=\"1\" class=\"dataframe\">\n",
       "  <thead>\n",
       "    <tr style=\"text-align: right;\">\n",
       "      <th></th>\n",
       "      <th>safetyreportid</th>\n",
       "      <th>transmissiondate</th>\n",
       "      <th>serious</th>\n",
       "      <th>fulfillexpeditecriteria</th>\n",
       "      <th>primarysource.qualification</th>\n",
       "      <th>safetyreportversion</th>\n",
       "      <th>companynumb</th>\n",
       "      <th>primarysource.reportercountry</th>\n",
       "      <th>patient.patientonsetage</th>\n",
       "      <th>patient.patientonsetageunit</th>\n",
       "      <th>patient.patientsex</th>\n",
       "      <th>patient.reaction</th>\n",
       "      <th>patient.drug</th>\n",
       "    </tr>\n",
       "  </thead>\n",
       "  <tbody>\n",
       "    <tr>\n",
       "      <th>0</th>\n",
       "      <td>5801206-7</td>\n",
       "      <td>20090109</td>\n",
       "      <td>1</td>\n",
       "      <td>1</td>\n",
       "      <td>3</td>\n",
       "      <td>NaN</td>\n",
       "      <td>JACAN16471</td>\n",
       "      <td>CANADA</td>\n",
       "      <td>26</td>\n",
       "      <td>801</td>\n",
       "      <td>1</td>\n",
       "      <td>[{'reactionmeddrapt': 'DRUG ADMINISTRATION ERROR'}, {'reactionmeddrapt': 'OVERDOSE'}]</td>\n",
       "      <td>[{'drugcharacterization': '1', 'medicinalproduct': 'DURAGESIC-100', 'drugauthorizationnumb': '019813', 'drugadministrationroute': '041', 'drugindication': 'DRUG ABUSE'}]</td>\n",
       "    </tr>\n",
       "  </tbody>\n",
       "</table>\n",
       "</div>"
      ],
      "text/plain": [
       "  safetyreportid transmissiondate serious fulfillexpeditecriteria  \\\n",
       "0      5801206-7         20090109       1                       1   \n",
       "\n",
       "  primarysource.qualification safetyreportversion companynumb  \\\n",
       "0                           3                 NaN  JACAN16471   \n",
       "\n",
       "  primarysource.reportercountry patient.patientonsetage  \\\n",
       "0                        CANADA                      26   \n",
       "\n",
       "  patient.patientonsetageunit patient.patientsex  \\\n",
       "0                         801                  1   \n",
       "\n",
       "                                                                        patient.reaction  \\\n",
       "0  [{'reactionmeddrapt': 'DRUG ADMINISTRATION ERROR'}, {'reactionmeddrapt': 'OVERDOSE'}]   \n",
       "\n",
       "                                                                                                                                                                patient.drug  \n",
       "0  [{'drugcharacterization': '1', 'medicinalproduct': 'DURAGESIC-100', 'drugauthorizationnumb': '019813', 'drugadministrationroute': '041', 'drugindication': 'DRUG ABUSE'}]  "
      ]
     },
     "execution_count": 314,
     "metadata": {},
     "output_type": "execute_result"
    }
   ],
   "source": [
    "events_table.head(1)"
   ]
  },
  {
   "cell_type": "markdown",
   "id": "dc51b3ad-fdd5-47fd-8953-c3771bae341f",
   "metadata": {},
   "source": [
    "#### Fix Dtypes"
   ]
  },
  {
   "cell_type": "code",
   "execution_count": 315,
   "id": "99879ad3-b352-4e1d-8c24-cccf8e6349d1",
   "metadata": {},
   "outputs": [
    {
     "name": "stdout",
     "output_type": "stream",
     "text": [
      "<class 'pandas.core.frame.DataFrame'>\n",
      "RangeIndex: 2000 entries, 0 to 1999\n",
      "Data columns (total 13 columns):\n",
      " #   Column                         Non-Null Count  Dtype         \n",
      "---  ------                         --------------  -----         \n",
      " 0   safetyreportid                 2000 non-null   object        \n",
      " 1   transmissiondate               2000 non-null   datetime64[ns]\n",
      " 2   serious                        2000 non-null   int64         \n",
      " 3   fulfillexpeditecriteria        2000 non-null   int64         \n",
      " 4   primarysource.qualification    1992 non-null   Int64         \n",
      " 5   safetyreportversion            1999 non-null   Int64         \n",
      " 6   companynumb                    2000 non-null   object        \n",
      " 7   primarysource.reportercountry  2000 non-null   object        \n",
      " 8   patient.patientonsetage        1318 non-null   Int64         \n",
      " 9   patient.patientonsetageunit    1318 non-null   Int64         \n",
      " 10  patient.patientsex             1988 non-null   Int64         \n",
      " 11  patient.reaction               2000 non-null   object        \n",
      " 12  patient.drug                   2000 non-null   object        \n",
      "dtypes: Int64(5), datetime64[ns](1), int64(2), object(5)\n",
      "memory usage: 213.0+ KB\n"
     ]
    }
   ],
   "source": [
    "events_table['transmissiondate'] = pd.to_datetime(events_table['transmissiondate'], format='%Y%m%d')\n",
    "events_table['serious'] = events_table['serious'].astype(int)\n",
    "events_table['fulfillexpeditecriteria'] = events_table['fulfillexpeditecriteria'].astype(int)\n",
    "\n",
    "events_table['primarysource.qualification'].replace({np.nan: None}, inplace=True)\n",
    "events_table['primarysource.qualification'] = events_table['primarysource.qualification'].astype(pd.Int64Dtype())\n",
    "\n",
    "events_table['safetyreportversion'].replace({np.nan: None}, inplace=True)\n",
    "events_table['safetyreportversion'] = events_table['safetyreportversion'].astype(pd.Int64Dtype())\n",
    "\n",
    "\n",
    "events_table['patient.patientonsetage'].replace({np.nan: None}, inplace=True)\n",
    "events_table['patient.patientonsetage'] = events_table['patient.patientonsetage'].astype(pd.Int64Dtype())\n",
    "\n",
    "events_table['patient.patientonsetageunit'].replace({np.nan: None}, inplace=True)\n",
    "events_table['patient.patientonsetageunit'] = events_table['patient.patientonsetageunit'].astype(pd.Int64Dtype())\n",
    "\n",
    "events_table['patient.patientsex'].replace({np.nan: None}, inplace=True)\n",
    "events_table['patient.patientsex'] = events_table['patient.patientsex'].astype(pd.Int64Dtype())\n",
    "\n",
    "events_table.info()"
   ]
  },
  {
   "cell_type": "markdown",
   "id": "40e0e6e2-6328-4a67-875a-d08ba2e9f606",
   "metadata": {},
   "source": [
    "#### Standardize Age"
   ]
  },
  {
   "cell_type": "code",
   "execution_count": 316,
   "id": "f99d282f-2088-49d7-af45-b18b21dcf5d3",
   "metadata": {},
   "outputs": [
    {
     "ename": "NameError",
     "evalue": "name 'convert_to_years' is not defined",
     "output_type": "error",
     "traceback": [
      "\u001b[0;31m---------------------------------------------------------------------------\u001b[0m",
      "\u001b[0;31mNameError\u001b[0m                                 Traceback (most recent call last)",
      "Cell \u001b[0;32mIn[316], line 1\u001b[0m\n\u001b[0;32m----> 1\u001b[0m events_table[\u001b[38;5;124m'\u001b[39m\u001b[38;5;124mpatient.patientonsetage\u001b[39m\u001b[38;5;124m'\u001b[39m] \u001b[38;5;241m=\u001b[39m \u001b[43mevents_table\u001b[49m\u001b[38;5;241;43m.\u001b[39;49m\u001b[43mapply\u001b[49m\u001b[43m(\u001b[49m\u001b[38;5;28;43;01mlambda\u001b[39;49;00m\u001b[43m \u001b[49m\u001b[43mrow\u001b[49m\u001b[43m:\u001b[49m\u001b[43m \u001b[49m\u001b[43mconvert_to_years\u001b[49m\u001b[43m(\u001b[49m\u001b[43mrow\u001b[49m\u001b[43m[\u001b[49m\u001b[38;5;124;43m'\u001b[39;49m\u001b[38;5;124;43mpatient.patientonsetage\u001b[39;49m\u001b[38;5;124;43m'\u001b[39;49m\u001b[43m]\u001b[49m\u001b[43m,\u001b[49m\u001b[43m \u001b[49m\u001b[43mrow\u001b[49m\u001b[43m[\u001b[49m\u001b[38;5;124;43m'\u001b[39;49m\u001b[38;5;124;43mpatient.patientonsetageunit\u001b[39;49m\u001b[38;5;124;43m'\u001b[39;49m\u001b[43m]\u001b[49m\u001b[43m)\u001b[49m\u001b[43m,\u001b[49m\u001b[43m \u001b[49m\u001b[43maxis\u001b[49m\u001b[38;5;241;43m=\u001b[39;49m\u001b[38;5;241;43m1\u001b[39;49m\u001b[43m)\u001b[49m\n",
      "File \u001b[0;32m~/opt/anaconda3/lib/python3.8/site-packages/pandas/core/frame.py:9568\u001b[0m, in \u001b[0;36mDataFrame.apply\u001b[0;34m(self, func, axis, raw, result_type, args, **kwargs)\u001b[0m\n\u001b[1;32m   9557\u001b[0m \u001b[38;5;28;01mfrom\u001b[39;00m \u001b[38;5;21;01mpandas\u001b[39;00m\u001b[38;5;21;01m.\u001b[39;00m\u001b[38;5;21;01mcore\u001b[39;00m\u001b[38;5;21;01m.\u001b[39;00m\u001b[38;5;21;01mapply\u001b[39;00m \u001b[38;5;28;01mimport\u001b[39;00m frame_apply\n\u001b[1;32m   9559\u001b[0m op \u001b[38;5;241m=\u001b[39m frame_apply(\n\u001b[1;32m   9560\u001b[0m     \u001b[38;5;28mself\u001b[39m,\n\u001b[1;32m   9561\u001b[0m     func\u001b[38;5;241m=\u001b[39mfunc,\n\u001b[0;32m   (...)\u001b[0m\n\u001b[1;32m   9566\u001b[0m     kwargs\u001b[38;5;241m=\u001b[39mkwargs,\n\u001b[1;32m   9567\u001b[0m )\n\u001b[0;32m-> 9568\u001b[0m \u001b[38;5;28;01mreturn\u001b[39;00m \u001b[43mop\u001b[49m\u001b[38;5;241;43m.\u001b[39;49m\u001b[43mapply\u001b[49m\u001b[43m(\u001b[49m\u001b[43m)\u001b[49m\u001b[38;5;241m.\u001b[39m__finalize__(\u001b[38;5;28mself\u001b[39m, method\u001b[38;5;241m=\u001b[39m\u001b[38;5;124m\"\u001b[39m\u001b[38;5;124mapply\u001b[39m\u001b[38;5;124m\"\u001b[39m)\n",
      "File \u001b[0;32m~/opt/anaconda3/lib/python3.8/site-packages/pandas/core/apply.py:764\u001b[0m, in \u001b[0;36mFrameApply.apply\u001b[0;34m(self)\u001b[0m\n\u001b[1;32m    761\u001b[0m \u001b[38;5;28;01melif\u001b[39;00m \u001b[38;5;28mself\u001b[39m\u001b[38;5;241m.\u001b[39mraw:\n\u001b[1;32m    762\u001b[0m     \u001b[38;5;28;01mreturn\u001b[39;00m \u001b[38;5;28mself\u001b[39m\u001b[38;5;241m.\u001b[39mapply_raw()\n\u001b[0;32m--> 764\u001b[0m \u001b[38;5;28;01mreturn\u001b[39;00m \u001b[38;5;28;43mself\u001b[39;49m\u001b[38;5;241;43m.\u001b[39;49m\u001b[43mapply_standard\u001b[49m\u001b[43m(\u001b[49m\u001b[43m)\u001b[49m\n",
      "File \u001b[0;32m~/opt/anaconda3/lib/python3.8/site-packages/pandas/core/apply.py:891\u001b[0m, in \u001b[0;36mFrameApply.apply_standard\u001b[0;34m(self)\u001b[0m\n\u001b[1;32m    890\u001b[0m \u001b[38;5;28;01mdef\u001b[39;00m \u001b[38;5;21mapply_standard\u001b[39m(\u001b[38;5;28mself\u001b[39m):\n\u001b[0;32m--> 891\u001b[0m     results, res_index \u001b[38;5;241m=\u001b[39m \u001b[38;5;28;43mself\u001b[39;49m\u001b[38;5;241;43m.\u001b[39;49m\u001b[43mapply_series_generator\u001b[49m\u001b[43m(\u001b[49m\u001b[43m)\u001b[49m\n\u001b[1;32m    893\u001b[0m     \u001b[38;5;66;03m# wrap results\u001b[39;00m\n\u001b[1;32m    894\u001b[0m     \u001b[38;5;28;01mreturn\u001b[39;00m \u001b[38;5;28mself\u001b[39m\u001b[38;5;241m.\u001b[39mwrap_results(results, res_index)\n",
      "File \u001b[0;32m~/opt/anaconda3/lib/python3.8/site-packages/pandas/core/apply.py:907\u001b[0m, in \u001b[0;36mFrameApply.apply_series_generator\u001b[0;34m(self)\u001b[0m\n\u001b[1;32m    904\u001b[0m \u001b[38;5;28;01mwith\u001b[39;00m option_context(\u001b[38;5;124m\"\u001b[39m\u001b[38;5;124mmode.chained_assignment\u001b[39m\u001b[38;5;124m\"\u001b[39m, \u001b[38;5;28;01mNone\u001b[39;00m):\n\u001b[1;32m    905\u001b[0m     \u001b[38;5;28;01mfor\u001b[39;00m i, v \u001b[38;5;129;01min\u001b[39;00m \u001b[38;5;28menumerate\u001b[39m(series_gen):\n\u001b[1;32m    906\u001b[0m         \u001b[38;5;66;03m# ignore SettingWithCopy here in case the user mutates\u001b[39;00m\n\u001b[0;32m--> 907\u001b[0m         results[i] \u001b[38;5;241m=\u001b[39m \u001b[38;5;28;43mself\u001b[39;49m\u001b[38;5;241;43m.\u001b[39;49m\u001b[43mf\u001b[49m\u001b[43m(\u001b[49m\u001b[43mv\u001b[49m\u001b[43m)\u001b[49m\n\u001b[1;32m    908\u001b[0m         \u001b[38;5;28;01mif\u001b[39;00m \u001b[38;5;28misinstance\u001b[39m(results[i], ABCSeries):\n\u001b[1;32m    909\u001b[0m             \u001b[38;5;66;03m# If we have a view on v, we need to make a copy because\u001b[39;00m\n\u001b[1;32m    910\u001b[0m             \u001b[38;5;66;03m#  series_generator will swap out the underlying data\u001b[39;00m\n\u001b[1;32m    911\u001b[0m             results[i] \u001b[38;5;241m=\u001b[39m results[i]\u001b[38;5;241m.\u001b[39mcopy(deep\u001b[38;5;241m=\u001b[39m\u001b[38;5;28;01mFalse\u001b[39;00m)\n",
      "Cell \u001b[0;32mIn[316], line 1\u001b[0m, in \u001b[0;36m<lambda>\u001b[0;34m(row)\u001b[0m\n\u001b[0;32m----> 1\u001b[0m events_table[\u001b[38;5;124m'\u001b[39m\u001b[38;5;124mpatient.patientonsetage\u001b[39m\u001b[38;5;124m'\u001b[39m] \u001b[38;5;241m=\u001b[39m events_table\u001b[38;5;241m.\u001b[39mapply(\u001b[38;5;28;01mlambda\u001b[39;00m row: \u001b[43mconvert_to_years\u001b[49m(row[\u001b[38;5;124m'\u001b[39m\u001b[38;5;124mpatient.patientonsetage\u001b[39m\u001b[38;5;124m'\u001b[39m], row[\u001b[38;5;124m'\u001b[39m\u001b[38;5;124mpatient.patientonsetageunit\u001b[39m\u001b[38;5;124m'\u001b[39m]), axis\u001b[38;5;241m=\u001b[39m\u001b[38;5;241m1\u001b[39m)\n",
      "\u001b[0;31mNameError\u001b[0m: name 'convert_to_years' is not defined"
     ]
    }
   ],
   "source": [
    "events_table['patient.patientonsetage'] = events_table.apply(lambda row: convert_to_years(row['patient.patientonsetage'], row['patient.patientonsetageunit']), axis=1)\n"
   ]
  },
  {
   "cell_type": "code",
   "execution_count": null,
   "id": "a32d8ee9-02e4-420c-bfa5-0aadd7c1ff02",
   "metadata": {},
   "outputs": [],
   "source": [
    "events_table.head()\n",
    "\n",
    "# Add an event ID\n",
    "events_table = add_sequential_index(events_table,'event_id')\n",
    "\n",
    "# Check for safety report # duplicates\n",
    "duplicates = events_table.duplicated(subset=['safetyreportid']).sum()\n",
    "\n",
    "print(\"Duplicates: \", duplicates) \n",
    "\n",
    "# Standardize date format\n",
    "\n",
    "# Make variable numeric\n",
    "events_table['serious'] = events_table['serious'].astype(int)\n",
    "# Save 1 as death, life threatening, hospitalization, disability, congenital anomaly, or serious condition, 0 as not that\n",
    "events_table['serious'] = events_table['serious'].replace({1: 0, 2: 1})\n",
    "\n",
    "\n",
    "# Fill null values with 0 to make binary column \n",
    "#events_table['seriousnessdeath'] = events_table['seriousnessdeath'].fillna(0)\n",
    "\n",
    "# Rename some columns\n",
    "events_table = events_table.rename(columns={\n",
    "    'primarysource.reportercountry': 'country',\n",
    "    'patient.patientsex': 'sex',\n",
    "    'patient.reaction': 'reaction',\n",
    "    'patient.drug': 'drug'\n",
    "})\n",
    "\n",
    "# Value counts of sex\n",
    "sex_value_counts = events_table['sex'].value_counts()\n",
    "print(sex_value_counts)\n",
    "\n",
    "#For sex, 0=unknown, 1=male, 2=female. fill missing values with 0.\n",
    "events_table['sex'] = events_table['sex'].fillna(0)\n",
    "\n",
    "\n",
    "# Filter primarysource.qualification to exclude consumer and lawyer reports, only want healthcare professionals\n",
    "#events_table.shape\n",
    "\n",
    "events_table[['event_id', 'safetyreportversion']].head()"
   ]
  },
  {
   "cell_type": "markdown",
   "id": "eda82ff7-e3b8-4f2f-9ad9-62a1a992aa4b",
   "metadata": {},
   "source": [
    "#### Filter Events for Quality Data\n",
    "* Remove events that have consumer and lawyer reports\n",
    "* Keep only latest version of reports - commented out for now, not sure if newer reports override older ones, since there is only one version per event"
   ]
  },
  {
   "cell_type": "code",
   "execution_count": null,
   "id": "f0e085f8-b70c-4847-9ed9-2cf21ab16f0b",
   "metadata": {},
   "outputs": [],
   "source": [
    "# Drop NaN values in 'primarysource.qualification'\n",
    "events_table.dropna(subset=['primarysource.qualification'], inplace=True)\n",
    "\n",
    "# Convert 'primarysource.qualification' to integer\n",
    "events_table['primarysource.qualification'] = events_table['primarysource.qualification'].astype(int)\n",
    "\n",
    "# Filter out values 4 and 5\n",
    "events_table = events_table[~events_table['primarysource.qualification'].isin([4, 5])]\n",
    "\n",
    "events_table.shape"
   ]
  },
  {
   "cell_type": "code",
   "execution_count": null,
   "id": "667db3e7-4612-4681-b66c-89cc8b301743",
   "metadata": {},
   "outputs": [],
   "source": [
    "#Commented this out, since each singular event has one associated report. Not sure if newer reports just override the old ones\n",
    "\n",
    "# Keep latest version of reports only\n",
    "# Group by report_id and get the index of the maximum safetyreportversion for each group\n",
    "# Filter the DataFrame to keep only the rows with the latest version of each report\n",
    "\n",
    "\n",
    "#events_table['safetyreportversion'] = events_table['safetyreportversion'].fillna(0)\n",
    "#events_table['safetyreportversion'] = events_table['safetyreportversion'].astype(int)\n",
    "#events_table = events_table.loc[events_table.groupby('event_id')['safetyreportversion'].idxmax()]\n",
    "#events_table.shape()\n",
    "\n",
    "# Make sure latest report numbers are retained\n",
    "# events_join['safetyreportversion'].head(50)"
   ]
  },
  {
   "cell_type": "markdown",
   "id": "db74d03c-2aec-4999-b2e9-0dacbf65fc6c",
   "metadata": {},
   "source": [
    "### Examine Variables in Reaction Nested Dataframe - Multiple Reaction Reports for Each Symptom for Each Person"
   ]
  },
  {
   "cell_type": "code",
   "execution_count": null,
   "id": "b958d041-3fe3-42cf-94ea-036ae928691d",
   "metadata": {},
   "outputs": [],
   "source": [
    "test_record = events_table['reaction'].loc[events_table['event_id'] == 2000]\n",
    "# Patient Reaction is an array containing:\n",
    "    # reactionmeddrapt: Patient reaction, as a MedDRA term. \n",
    "    # reactionmeddraversionpt: The version of MedDRA from which the term in reactionmeddrapt is drawn.\n",
    "    # reactionoutcome: Outcome of the reaction in reactionmeddrapt at the time of last observation.\n",
    "        # 1= Recovered/resolved, 2=recovering/resolving, 3 = Not recovered/not resolved, 4=Recovered/resolved with consequent health issues\n",
    "        # 5 = fatal, 6 = Unknown\n",
    "\n",
    "# First, want to individualzie these fields. Will actually save these as a NEW table, called PatientReactions"
   ]
  },
  {
   "cell_type": "code",
   "execution_count": null,
   "id": "d19e07bc-fe5e-4952-97f6-de927ebfc89c",
   "metadata": {},
   "outputs": [],
   "source": [
    "# Set pandas option to display full content of columns\n",
    "pd.set_option('display.max_colwidth', None)\n",
    "print(test_record)"
   ]
  },
  {
   "cell_type": "markdown",
   "id": "2ce23bcd-537c-49c3-a164-9f3884f1e6fd",
   "metadata": {},
   "source": [
    "### Make new table for PatientDrugs - nested dataframe"
   ]
  },
  {
   "cell_type": "code",
   "execution_count": null,
   "id": "3db28f0b-8ad9-4d1d-800b-4e7e0ec9ee8b",
   "metadata": {},
   "outputs": [],
   "source": [
    "expanded_patient_drugs = []\n",
    "\n",
    "# Iterate through each row of the original DataFrame\n",
    "for _, row in events_table.iterrows():\n",
    "    event_id = row['event_id']\n",
    "    \n",
    "    # Iterate through each drug entry in 'patient.drug' list\n",
    "    for drug_entry in row['drug']:\n",
    "        # Flatten nested JSON into columns\n",
    "        flattened_entry = json_normalize(drug_entry)\n",
    "        \n",
    "        # Add event_id to the flattened entry\n",
    "        flattened_entry['event_id'] = event_id\n",
    "        \n",
    "        # Append the flattened entry to the list\n",
    "        expanded_patient_drugs.append(flattened_entry)\n",
    "\n",
    "# Concatenate all entries into a new DataFrame\n",
    "patient_drugs_table = pd.concat(expanded_patient_drugs, ignore_index=True)\n",
    "patient_drugs_table = patient_drugs_table[['event_id'] + [col for col in patient_drugs_table.columns if col != 'event_id']]\n",
    "\n",
    "\n",
    "patient_drugs_table.tail()"
   ]
  },
  {
   "cell_type": "markdown",
   "id": "2fbcb0ac-7277-4f55-8da6-6d4972e185a5",
   "metadata": {},
   "source": [
    "### Make new table for PatientReactions"
   ]
  },
  {
   "cell_type": "code",
   "execution_count": 236,
   "id": "34b1c1e5-2ef7-4dfe-8942-10cbbbddbbb4",
   "metadata": {},
   "outputs": [
    {
     "data": {
      "text/html": [
       "<div>\n",
       "<style scoped>\n",
       "    .dataframe tbody tr th:only-of-type {\n",
       "        vertical-align: middle;\n",
       "    }\n",
       "\n",
       "    .dataframe tbody tr th {\n",
       "        vertical-align: top;\n",
       "    }\n",
       "\n",
       "    .dataframe thead th {\n",
       "        text-align: right;\n",
       "    }\n",
       "</style>\n",
       "<table border=\"1\" class=\"dataframe\">\n",
       "  <thead>\n",
       "    <tr style=\"text-align: right;\">\n",
       "      <th></th>\n",
       "      <th>event_id</th>\n",
       "      <th>reactionmeddrapt</th>\n",
       "      <th>reactionmeddraversionpt</th>\n",
       "      <th>reactionoutcome</th>\n",
       "    </tr>\n",
       "  </thead>\n",
       "  <tbody>\n",
       "    <tr>\n",
       "      <th>2208</th>\n",
       "      <td>1997</td>\n",
       "      <td>Disease progression</td>\n",
       "      <td>17.0</td>\n",
       "      <td>6</td>\n",
       "    </tr>\n",
       "    <tr>\n",
       "      <th>2209</th>\n",
       "      <td>1998</td>\n",
       "      <td>Hypokalaemia</td>\n",
       "      <td>17.0</td>\n",
       "      <td>6</td>\n",
       "    </tr>\n",
       "    <tr>\n",
       "      <th>2210</th>\n",
       "      <td>2000</td>\n",
       "      <td>Tremor</td>\n",
       "      <td>17.0</td>\n",
       "      <td>3</td>\n",
       "    </tr>\n",
       "    <tr>\n",
       "      <th>2211</th>\n",
       "      <td>2000</td>\n",
       "      <td>Muscle disorder</td>\n",
       "      <td>17.0</td>\n",
       "      <td>3</td>\n",
       "    </tr>\n",
       "    <tr>\n",
       "      <th>2212</th>\n",
       "      <td>2000</td>\n",
       "      <td>Injection site erythema</td>\n",
       "      <td>17.0</td>\n",
       "      <td>3</td>\n",
       "    </tr>\n",
       "  </tbody>\n",
       "</table>\n",
       "</div>"
      ],
      "text/plain": [
       "      event_id         reactionmeddrapt reactionmeddraversionpt  \\\n",
       "2208      1997      Disease progression                    17.0   \n",
       "2209      1998             Hypokalaemia                    17.0   \n",
       "2210      2000                   Tremor                    17.0   \n",
       "2211      2000          Muscle disorder                    17.0   \n",
       "2212      2000  Injection site erythema                    17.0   \n",
       "\n",
       "     reactionoutcome  \n",
       "2208               6  \n",
       "2209               6  \n",
       "2210               3  \n",
       "2211               3  \n",
       "2212               3  "
      ]
     },
     "execution_count": 236,
     "metadata": {},
     "output_type": "execute_result"
    }
   ],
   "source": [
    "expanded_patient_reaction = []\n",
    "\n",
    "# Iterate through each row of the original DataFrame\n",
    "for _, row in events_table.iterrows():\n",
    "    event_id = row['event_id']\n",
    "    \n",
    "    # Iterate through each drug entry in 'patient.drug' list\n",
    "    for drug_entry in row['reaction']:\n",
    "        # Flatten nested JSON into columns\n",
    "        flattened_entry = json_normalize(drug_entry)\n",
    "        \n",
    "        # Add event_id to the flattened entry\n",
    "        flattened_entry['event_id'] = event_id\n",
    "        \n",
    "        # Append the flattened entry to the list\n",
    "        expanded_patient_reaction.append(flattened_entry)\n",
    "\n",
    "# Concatenate all entries into a new DataFrame\n",
    "patient_reactions_table = pd.concat(expanded_patient_reaction, ignore_index=True)\n",
    "patient_reactions_table = patient_reactions_table[['event_id'] + [col for col in patient_reactions_table.columns if col != 'event_id']]\n",
    "patient_reactions_table.tail()"
   ]
  },
  {
   "cell_type": "markdown",
   "id": "f0802863-c379-4497-9a09-46211dc6072e",
   "metadata": {},
   "source": [
    "# PreProcess Patient Drugs Table"
   ]
  },
  {
   "cell_type": "code",
   "execution_count": 237,
   "id": "21f06a91-4557-4448-be2f-41aabb12a146",
   "metadata": {},
   "outputs": [
    {
     "data": {
      "text/plain": [
       "Index(['event_id', 'drugcharacterization', 'medicinalproduct',\n",
       "       'drugauthorizationnumb', 'drugadministrationroute', 'drugindication',\n",
       "       'drugdosagetext', 'actiondrug', 'openfda.application_number',\n",
       "       'openfda.brand_name', 'openfda.generic_name',\n",
       "       'openfda.manufacturer_name', 'openfda.product_ndc',\n",
       "       'openfda.product_type', 'openfda.route', 'openfda.substance_name',\n",
       "       'openfda.rxcui', 'openfda.spl_id', 'openfda.spl_set_id',\n",
       "       'openfda.package_ndc', 'openfda.unii', 'openfda.nui',\n",
       "       'openfda.pharm_class_epc', 'openfda.pharm_class_cs', 'drugdosageform',\n",
       "       'openfda.pharm_class_moa', 'openfda.pharm_class_pe',\n",
       "       'drugstructuredosagenumb', 'drugstructuredosageunit',\n",
       "       'drugstartdateformat', 'drugstartdate',\n",
       "       'activesubstance.activesubstancename', 'drugrecurreadministration',\n",
       "       'drugenddateformat', 'drugenddate', 'drugbatchnumb',\n",
       "       'drugseparatedosagenumb', 'drugintervaldosageunitnumb',\n",
       "       'drugintervaldosagedefinition', 'drugcumulativedosagenumb',\n",
       "       'drugcumulativedosageunit', 'drugadditional'],\n",
       "      dtype='object')"
      ]
     },
     "execution_count": 237,
     "metadata": {},
     "output_type": "execute_result"
    }
   ],
   "source": [
    "patient_drugs_table\n",
    "\n",
    "patient_drugs_table.head()\n",
    "\n",
    "patient_drugs_table.columns"
   ]
  },
  {
   "cell_type": "markdown",
   "id": "da50ea4b-c335-48f7-bdf0-3fccdcd971ad",
   "metadata": {},
   "source": [
    "#### Select Columns"
   ]
  },
  {
   "cell_type": "code",
   "execution_count": 238,
   "id": "e1aa89b8-15ec-4e62-9e59-87ddd4bae198",
   "metadata": {},
   "outputs": [],
   "source": [
    "patient_drugs_table = pd.DataFrame(patient_drugs_table, \n",
    "                               columns = [\n",
    "                                'patient_drug_id',  # Identifier for patient drug\n",
    "                                'event_id',  # Identifier for the event\n",
    "                                'drugcharacterization',  # Level of detail for the drug in the event report\n",
    "                                'medicinalproduct',  # Name of the drug\n",
    "                                # 'drugauthorizationnumb',  # Marketing authorization number of the drug\n",
    "                                # 'drugadministrationroute',  # Route of administration for the drug\n",
    "                                'drugindication',  # Indication for use of the drug\n",
    "                                # 'drugbatchnumb',  # Batch number for the drug\n",
    "                                # 'drugstructuredosagenumb',  # Structured dosage number of the drug\n",
    "                                # 'drugstructuredosageunit',  # Unit of structured dosage for the drug\n",
    "                                # 'drugdosagetext',  # Textual description of the dosage for the drug\n",
    "                                # 'drugstartdateformat',  # Date format for the start date of drug administration\n",
    "                                # 'drugstartdate',  # Start date of drug administration\n",
    "                                #'drugrecurreadministration',  # Indicator for recurring drug administration\n",
    "                                # 'drugadditional',  # Additional details about the drug\n",
    "                                # 'openfda.application_number',  # FDA application number for the drug\n",
    "                                # 'openfda.brand_name',  # Brand name for the drug\n",
    "                                'openfda.generic_name',  # Generic name for the drug\n",
    "                                'openfda.manufacturer_name',  # Manufacturer name for the drug\n",
    "                                #'openfda.product_ndc',  # NDC (National Drug Code) number for the drug product\n",
    "                                'openfda.product_type',  # Type of drug product (e.g., HUMAN PRESCRIPTION DRUG)\n",
    "                                # 'openfda.route',  # Route of administration for the drug\n",
    "                                # 'openfda.substance_name',  # Substance name associated with the drug\n",
    "                                'openfda.rxcui',  # RxNorm Concept Unique Identifier (RxCUI) for the drug\n",
    "                                # 'openfda.spl_id',  # Structured Product Labeling (SPL) ID for the drug\n",
    "                                # 'openfda.spl_set_id',  # SPL Set ID for the drug\n",
    "                                # 'openfda.package_ndc',  # NDC (National Drug Code) number for the drug package\n",
    "                                # 'openfda.nui',  # NUI (National Uniform Identifier) for the drug\n",
    "                                # 'openfda.pharm_class_moa',  # Pharmacological class (Mechanism of Action) for the drug\n",
    "                                # 'openfda.pharm_class_cs',  # Chemical structure class for the drug\n",
    "                                # 'openfda.pharm_class_epc',  # Pharmacological class (EPC) for the drug\n",
    "                                'openfda.unii',  # Unique Ingredient Identifier (UNII) for the drug substance\n",
    "                                # 'actiondrug',  # Action taken with the drug\n",
    "                                # 'drugdosageform',  # Dosage form of the drug\n",
    "                                # 'openfda.pharm_class_pe',  # Pharmacological class (Physiologic Effect) for the drug\n",
    "                                # 'activesubstance.activesubstancename',  # Name of the active substance in the drug\n",
    "                                # 'drugenddateformat',  # Date format for the end date of drug administration\n",
    "                                # 'drugenddate',  # End date of drug administration\n",
    "                                #'drugseparatedosagenumb',  # Separated dosage number for the drug\n",
    "                                # 'drugintervaldosageunitnumb',  # Interval dosage unit number for the drug\n",
    "                                # 'drugintervaldosagedefinition',  # Definition of interval dosage for the drug\n",
    "                                # 'drugcumulativedosagenumb',  # Cumulative dosage number for the drug\n",
    "                                # 'drugcumulativedosageunit'  # Unit of cumulative dosage for the drug\n",
    "                            ])\n"
   ]
  },
  {
   "cell_type": "markdown",
   "id": "17f581d3-a5cf-47bc-8581-429686a0a9b4",
   "metadata": {},
   "source": [
    "#### Fix Dtypes"
   ]
  },
  {
   "cell_type": "code",
   "execution_count": null,
   "id": "9b84379f-6879-4657-825b-e590ee60a6f1",
   "metadata": {},
   "outputs": [],
   "source": [
    "patient_drugs_table['drugcharacterization'] = patient_drugs_table['drugcharacterization'].astype(int)"
   ]
  },
  {
   "cell_type": "markdown",
   "id": "1f6bd505-54e7-4abb-83aa-9097e505e4fb",
   "metadata": {},
   "source": [
    "#### Filter for Quality Data"
   ]
  },
  {
   "cell_type": "code",
   "execution_count": 258,
   "id": "7bacb7ef-cce8-44b2-a41d-81a8bca11aec",
   "metadata": {},
   "outputs": [],
   "source": [
    "# Keep only primary drug suspects\n",
    "patient_drugs_table = add_sequential_index(patient_drugs_table,'patient_drug_id')\n",
    "patient_drugs_table = patient_drugs_table.loc[patient_drugs_table['drugcharacterization'] == 1]"
   ]
  },
  {
   "cell_type": "markdown",
   "id": "8338d150-31d0-4185-b96b-52c9d6c15b32",
   "metadata": {},
   "source": [
    "#### Examining Variables of Interest\n",
    "* Drugcharacterization: 1-suspect(drug primary cause), 2-concomitant(drug taken with primary cause), 3-interation(drug interact with primary cause)\n",
    "* Medicinalproduct: generic or brand name\n",
    "* Drugindication: official drug purpose\n",
    "* openfda.rxcui : Rx cui code\n",
    "* openfda.unii : unique ingredient identifier"
   ]
  },
  {
   "cell_type": "code",
   "execution_count": 240,
   "id": "6affcc58-6f0a-4dac-809e-e4022ea91463",
   "metadata": {},
   "outputs": [
    {
     "data": {
      "text/plain": [
       "1    1494\n",
       "Name: drugcharacterization, dtype: int64"
      ]
     },
     "execution_count": 240,
     "metadata": {},
     "output_type": "execute_result"
    }
   ],
   "source": [
    "patient_drugs_table['drugcharacterization'].value_counts()"
   ]
  },
  {
   "cell_type": "code",
   "execution_count": 241,
   "id": "6d1a937d-5fb7-4144-b45c-e41455256203",
   "metadata": {},
   "outputs": [
    {
     "data": {
      "text/html": [
       "<div>\n",
       "<style scoped>\n",
       "    .dataframe tbody tr th:only-of-type {\n",
       "        vertical-align: middle;\n",
       "    }\n",
       "\n",
       "    .dataframe tbody tr th {\n",
       "        vertical-align: top;\n",
       "    }\n",
       "\n",
       "    .dataframe thead th {\n",
       "        text-align: right;\n",
       "    }\n",
       "</style>\n",
       "<table border=\"1\" class=\"dataframe\">\n",
       "  <thead>\n",
       "    <tr style=\"text-align: right;\">\n",
       "      <th></th>\n",
       "      <th>column_name</th>\n",
       "      <th>null_count</th>\n",
       "      <th>null_proportion</th>\n",
       "    </tr>\n",
       "  </thead>\n",
       "  <tbody>\n",
       "    <tr>\n",
       "      <th>0</th>\n",
       "      <td>patient_drug_id</td>\n",
       "      <td>0</td>\n",
       "      <td>0.000000</td>\n",
       "    </tr>\n",
       "    <tr>\n",
       "      <th>1</th>\n",
       "      <td>patient_drug_id</td>\n",
       "      <td>1494</td>\n",
       "      <td>100.000000</td>\n",
       "    </tr>\n",
       "    <tr>\n",
       "      <th>2</th>\n",
       "      <td>event_id</td>\n",
       "      <td>0</td>\n",
       "      <td>0.000000</td>\n",
       "    </tr>\n",
       "    <tr>\n",
       "      <th>3</th>\n",
       "      <td>drugcharacterization</td>\n",
       "      <td>0</td>\n",
       "      <td>0.000000</td>\n",
       "    </tr>\n",
       "    <tr>\n",
       "      <th>4</th>\n",
       "      <td>medicinalproduct</td>\n",
       "      <td>0</td>\n",
       "      <td>0.000000</td>\n",
       "    </tr>\n",
       "    <tr>\n",
       "      <th>5</th>\n",
       "      <td>drugindication</td>\n",
       "      <td>417</td>\n",
       "      <td>27.911647</td>\n",
       "    </tr>\n",
       "    <tr>\n",
       "      <th>6</th>\n",
       "      <td>openfda.generic_name</td>\n",
       "      <td>401</td>\n",
       "      <td>26.840696</td>\n",
       "    </tr>\n",
       "    <tr>\n",
       "      <th>7</th>\n",
       "      <td>openfda.manufacturer_name</td>\n",
       "      <td>401</td>\n",
       "      <td>26.840696</td>\n",
       "    </tr>\n",
       "    <tr>\n",
       "      <th>8</th>\n",
       "      <td>openfda.product_type</td>\n",
       "      <td>401</td>\n",
       "      <td>26.840696</td>\n",
       "    </tr>\n",
       "    <tr>\n",
       "      <th>9</th>\n",
       "      <td>openfda.rxcui</td>\n",
       "      <td>416</td>\n",
       "      <td>27.844712</td>\n",
       "    </tr>\n",
       "    <tr>\n",
       "      <th>10</th>\n",
       "      <td>openfda.unii</td>\n",
       "      <td>439</td>\n",
       "      <td>29.384203</td>\n",
       "    </tr>\n",
       "  </tbody>\n",
       "</table>\n",
       "</div>"
      ],
      "text/plain": [
       "                  column_name  null_count  null_proportion\n",
       "0             patient_drug_id           0         0.000000\n",
       "1             patient_drug_id        1494       100.000000\n",
       "2                    event_id           0         0.000000\n",
       "3        drugcharacterization           0         0.000000\n",
       "4            medicinalproduct           0         0.000000\n",
       "5              drugindication         417        27.911647\n",
       "6        openfda.generic_name         401        26.840696\n",
       "7   openfda.manufacturer_name         401        26.840696\n",
       "8        openfda.product_type         401        26.840696\n",
       "9               openfda.rxcui         416        27.844712\n",
       "10               openfda.unii         439        29.384203"
      ]
     },
     "execution_count": 241,
     "metadata": {},
     "output_type": "execute_result"
    }
   ],
   "source": [
    "patient_drugs_table_nan_info = nan_info(patient_drugs_table)\n",
    "patient_drugs_table_nan_info"
   ]
  },
  {
   "cell_type": "markdown",
   "id": "befbc9b8-c178-46ca-a70a-e4b769a38a71",
   "metadata": {},
   "source": [
    "### Processing Text Data"
   ]
  },
  {
   "cell_type": "code",
   "execution_count": 242,
   "id": "85859742-8e16-4831-9034-4f062ceed33d",
   "metadata": {},
   "outputs": [],
   "source": [
    "# Define text columns\n",
    "object_columns = patient_drugs_table.select_dtypes(include=['object']).columns\n",
    "\n",
    "# Exclude columns that should not be tokenized, index codes\n",
    "object_columns = object_columns.drop(['openfda.unii', 'openfda.rxcui'], errors='ignore')\n",
    "patient_drugs_table[object_columns] = patient_drugs_table[object_columns].astype(str)\n",
    "\n",
    "# Apply text processing to the selected text columns and add new processed columns to dataframe\n",
    "for col in object_columns:\n",
    "    new_col_name = col + '_processed'\n",
    "    patient_drugs_table[new_col_name] = patient_drugs_table[col].apply(process_label_text)"
   ]
  },
  {
   "cell_type": "code",
   "execution_count": 243,
   "id": "39d6b09c-7406-40b8-bc4f-d614ebaa6425",
   "metadata": {},
   "outputs": [
    {
     "data": {
      "text/html": [
       "<div>\n",
       "<style scoped>\n",
       "    .dataframe tbody tr th:only-of-type {\n",
       "        vertical-align: middle;\n",
       "    }\n",
       "\n",
       "    .dataframe tbody tr th {\n",
       "        vertical-align: top;\n",
       "    }\n",
       "\n",
       "    .dataframe thead th {\n",
       "        text-align: right;\n",
       "    }\n",
       "</style>\n",
       "<table border=\"1\" class=\"dataframe\">\n",
       "  <thead>\n",
       "    <tr style=\"text-align: right;\">\n",
       "      <th></th>\n",
       "      <th>patient_drug_id</th>\n",
       "      <th>patient_drug_id</th>\n",
       "      <th>event_id</th>\n",
       "      <th>drugcharacterization</th>\n",
       "      <th>medicinalproduct</th>\n",
       "      <th>drugindication</th>\n",
       "      <th>openfda.generic_name</th>\n",
       "      <th>openfda.manufacturer_name</th>\n",
       "      <th>openfda.product_type</th>\n",
       "      <th>openfda.rxcui</th>\n",
       "      <th>openfda.unii</th>\n",
       "      <th>medicinalproduct_processed</th>\n",
       "      <th>drugindication_processed</th>\n",
       "      <th>openfda.generic_name_processed</th>\n",
       "      <th>openfda.manufacturer_name_processed</th>\n",
       "      <th>openfda.product_type_processed</th>\n",
       "    </tr>\n",
       "  </thead>\n",
       "  <tbody>\n",
       "    <tr>\n",
       "      <th>0</th>\n",
       "      <td>1.0</td>\n",
       "      <td>NaN</td>\n",
       "      <td>1</td>\n",
       "      <td>1</td>\n",
       "      <td>DURAGESIC-100</td>\n",
       "      <td>DRUG ABUSE</td>\n",
       "      <td>nan</td>\n",
       "      <td>nan</td>\n",
       "      <td>nan</td>\n",
       "      <td>NaN</td>\n",
       "      <td>NaN</td>\n",
       "      <td>[duragesic, 100]</td>\n",
       "      <td>[drug, abuse]</td>\n",
       "      <td>[nan]</td>\n",
       "      <td>[nan]</td>\n",
       "      <td>[nan]</td>\n",
       "    </tr>\n",
       "    <tr>\n",
       "      <th>1</th>\n",
       "      <td>2.0</td>\n",
       "      <td>NaN</td>\n",
       "      <td>5</td>\n",
       "      <td>1</td>\n",
       "      <td>DOXYCYCLINE HYCLATE</td>\n",
       "      <td>nan</td>\n",
       "      <td>['DOXYCYCLINE HYCLATE', 'DOXYCYCLINE', 'DOXYCLYCLINE HYCLATE']</td>\n",
       "      <td>['Mayne Pharma Commercial LLC', 'Actavis Pharma, Inc.', 'JG Pharma Inc.', 'Chartwell RX, LLC', 'Lupin Pharmaceuticals,Inc.', 'Alembic Pharmaceuticals Limited', 'Ajanta Pharma USA Inc.', 'Epic Pharma, LLC', 'Novel Laboratories, Inc.', 'Acella Pharmaceuticals, LLC', 'Chartwell Governmental &amp; Specialty RX, LLC', 'Alembic Pharmaceuticals Inc.', 'Tris Pharma Inc', 'Chartwell RX LLC', 'Amneal Pharmaceuticals NY LLC', 'EPIC PHARMA, LLC', 'Zydus Lifesciences Limited', 'Journey Medical Corporation', 'PURACAP LABORATORIES LLC DBA BLU PHARMACEUTICALS', 'Pfizer Laboratories Div Pfizer Inc', 'Apotex Corp.', 'Viona Pharmaceuticals Inc', 'Heritage Pharmaceuticals Inc. d/b/a Avet Pharmaceuticals Inc.', 'Hikma Pharmaceuticals USA Inc.', 'Chartwell RX, LLC.', 'Aqua Pharmaceuticals', 'Solco Healthcare US LLC', 'Zydus Pharmaceuticals USA Inc.', 'Lupin Pharmaceuticals, Inc.', 'Larken Laboratories, Inc.', 'Sun Pharmaceutical Industries, Inc.']</td>\n",
       "      <td>['HUMAN PRESCRIPTION DRUG']</td>\n",
       "      <td>[1653433, 2122343, 1650143, 1652674, 283535, 406524, 434018, 799048, 1423080, 1649425, 1650446, 1649405, 1649988, 1650030, 1806948, 205604, 205618, 310026, 702296, 861061, 2099768, 2099769, 1423082, 1653435, 2360884, 1791505, 1791507, 1801138, 1801140, 1801142, 1801144]</td>\n",
       "      <td>[19XTS3T51U, N12000U13O, 8ZL07I20SB]</td>\n",
       "      <td>[doxycycline, hyclate]</td>\n",
       "      <td>[nan]</td>\n",
       "      <td>[doxycycline, hyclate, doxyclycline]</td>\n",
       "      <td>[mayne, pharma, commercial, llc, actavis, inc, jg, chartwell, rx, lupin, pharmaceutical, alembic, limited, ajanta, usa, epic, novel, laboratory, acella, governmental, specialty, tris, amneal, ny, zydus, lifesciences, journey, medical, corporation, puracap, dba, blu, pfizer, div, apotex, corp, viona, heritage, b, avet, hikma, aqua, solco, healthcare, u, larken, sun, industry]</td>\n",
       "      <td>[human, prescription, drug]</td>\n",
       "    </tr>\n",
       "    <tr>\n",
       "      <th>2</th>\n",
       "      <td>3.0</td>\n",
       "      <td>NaN</td>\n",
       "      <td>5</td>\n",
       "      <td>1</td>\n",
       "      <td>TRAMADOL HYDROCHLORIDE</td>\n",
       "      <td>nan</td>\n",
       "      <td>['TRAMADOL HYDROCHLORIDE']</td>\n",
       "      <td>['Amneal Pharmaceuticals NY LLC', 'Zydus Pharmaceuticals USA Inc.', 'Zydus Lifesciences Limited', 'Palmetto Pharmaceuticals, Inc.', 'Amneal Pharmaceuticals LLC', 'Lupin Pharmaceuticals, Inc.', 'Trigen Laboratories, LLC', 'Advagen Pharma Limited', 'Sun Pharmaceutical Industries, Inc.', 'ACI Healthcare USA, Inc.', 'Unichem Pharmaceuticals (USA), Inc.', 'Athena Bioscience, LLC', 'TRUPHARMA LLC', 'Aurobindo Pharma Limited', 'Teva Pharmaceuticals USA, Inc.', 'TruPharma, LLC', 'Rising Pharma Holdings, Inc.', 'Vertical Pharmaceuticals, LLC']</td>\n",
       "      <td>['HUMAN PRESCRIPTION DRUG']</td>\n",
       "      <td>[835603, 2395808, 833709, 833711, 833713, 1148478, 1148485, 1148489, 2179635, 2670390, 1946525, 1946527, 1946529, 2395814, 1148482, 1148487, 1148491]</td>\n",
       "      <td>[9N7R477WCK]</td>\n",
       "      <td>[tramadol, hydrochloride]</td>\n",
       "      <td>[nan]</td>\n",
       "      <td>[tramadol, hydrochloride]</td>\n",
       "      <td>[amneal, pharmaceutical, ny, llc, zydus, usa, inc, lifesciences, limited, palmetto, lupin, trigen, laboratory, advagen, pharma, sun, industry, aci, healthcare, unichem, athena, bioscience, trupharma, aurobindo, teva, rising, holding, vertical]</td>\n",
       "      <td>[human, prescription, drug]</td>\n",
       "    </tr>\n",
       "    <tr>\n",
       "      <th>3</th>\n",
       "      <td>4.0</td>\n",
       "      <td>NaN</td>\n",
       "      <td>5</td>\n",
       "      <td>1</td>\n",
       "      <td>OXYCONTIN</td>\n",
       "      <td>nan</td>\n",
       "      <td>['OXYCODONE HYDROCHLORIDE']</td>\n",
       "      <td>['Purdue Pharma LP']</td>\n",
       "      <td>['HUMAN PRESCRIPTION DRUG']</td>\n",
       "      <td>[1049504, 1049545, 1049565, 1049576, 1049586, 1049595, 1049601, 1860127, 1860129, 1860137, 1860148, 1860151, 1860154, 1860157]</td>\n",
       "      <td>[C1ENJ2TE6C]</td>\n",
       "      <td>[oxycontin]</td>\n",
       "      <td>[nan]</td>\n",
       "      <td>[oxycodone, hydrochloride]</td>\n",
       "      <td>[purdue, pharma, lp]</td>\n",
       "      <td>[human, prescription, drug]</td>\n",
       "    </tr>\n",
       "    <tr>\n",
       "      <th>4</th>\n",
       "      <td>5.0</td>\n",
       "      <td>NaN</td>\n",
       "      <td>5</td>\n",
       "      <td>1</td>\n",
       "      <td>TALWIN</td>\n",
       "      <td>nan</td>\n",
       "      <td>nan</td>\n",
       "      <td>nan</td>\n",
       "      <td>nan</td>\n",
       "      <td>NaN</td>\n",
       "      <td>NaN</td>\n",
       "      <td>[talwin]</td>\n",
       "      <td>[nan]</td>\n",
       "      <td>[nan]</td>\n",
       "      <td>[nan]</td>\n",
       "      <td>[nan]</td>\n",
       "    </tr>\n",
       "  </tbody>\n",
       "</table>\n",
       "</div>"
      ],
      "text/plain": [
       "   patient_drug_id  patient_drug_id  event_id  drugcharacterization  \\\n",
       "0              1.0              NaN         1                     1   \n",
       "1              2.0              NaN         5                     1   \n",
       "2              3.0              NaN         5                     1   \n",
       "3              4.0              NaN         5                     1   \n",
       "4              5.0              NaN         5                     1   \n",
       "\n",
       "         medicinalproduct drugindication  \\\n",
       "0           DURAGESIC-100     DRUG ABUSE   \n",
       "1     DOXYCYCLINE HYCLATE            nan   \n",
       "2  TRAMADOL HYDROCHLORIDE            nan   \n",
       "3               OXYCONTIN            nan   \n",
       "4                  TALWIN            nan   \n",
       "\n",
       "                                             openfda.generic_name  \\\n",
       "0                                                             nan   \n",
       "1  ['DOXYCYCLINE HYCLATE', 'DOXYCYCLINE', 'DOXYCLYCLINE HYCLATE']   \n",
       "2                                      ['TRAMADOL HYDROCHLORIDE']   \n",
       "3                                     ['OXYCODONE HYDROCHLORIDE']   \n",
       "4                                                             nan   \n",
       "\n",
       "                                                                                                                                                                                                                                                                                                                                                                                                                                                                                                                                                                                                                                                                                                                                                                                                                                                                                                                                                 openfda.manufacturer_name  \\\n",
       "0                                                                                                                                                                                                                                                                                                                                                                                                                                                                                                                                                                                                                                                                                                                                                                                                                                                                                                                                                                      nan   \n",
       "1  ['Mayne Pharma Commercial LLC', 'Actavis Pharma, Inc.', 'JG Pharma Inc.', 'Chartwell RX, LLC', 'Lupin Pharmaceuticals,Inc.', 'Alembic Pharmaceuticals Limited', 'Ajanta Pharma USA Inc.', 'Epic Pharma, LLC', 'Novel Laboratories, Inc.', 'Acella Pharmaceuticals, LLC', 'Chartwell Governmental & Specialty RX, LLC', 'Alembic Pharmaceuticals Inc.', 'Tris Pharma Inc', 'Chartwell RX LLC', 'Amneal Pharmaceuticals NY LLC', 'EPIC PHARMA, LLC', 'Zydus Lifesciences Limited', 'Journey Medical Corporation', 'PURACAP LABORATORIES LLC DBA BLU PHARMACEUTICALS', 'Pfizer Laboratories Div Pfizer Inc', 'Apotex Corp.', 'Viona Pharmaceuticals Inc', 'Heritage Pharmaceuticals Inc. d/b/a Avet Pharmaceuticals Inc.', 'Hikma Pharmaceuticals USA Inc.', 'Chartwell RX, LLC.', 'Aqua Pharmaceuticals', 'Solco Healthcare US LLC', 'Zydus Pharmaceuticals USA Inc.', 'Lupin Pharmaceuticals, Inc.', 'Larken Laboratories, Inc.', 'Sun Pharmaceutical Industries, Inc.']   \n",
       "2                                                                                                                                                                                                                                                                                                                                                                                                             ['Amneal Pharmaceuticals NY LLC', 'Zydus Pharmaceuticals USA Inc.', 'Zydus Lifesciences Limited', 'Palmetto Pharmaceuticals, Inc.', 'Amneal Pharmaceuticals LLC', 'Lupin Pharmaceuticals, Inc.', 'Trigen Laboratories, LLC', 'Advagen Pharma Limited', 'Sun Pharmaceutical Industries, Inc.', 'ACI Healthcare USA, Inc.', 'Unichem Pharmaceuticals (USA), Inc.', 'Athena Bioscience, LLC', 'TRUPHARMA LLC', 'Aurobindo Pharma Limited', 'Teva Pharmaceuticals USA, Inc.', 'TruPharma, LLC', 'Rising Pharma Holdings, Inc.', 'Vertical Pharmaceuticals, LLC']   \n",
       "3                                                                                                                                                                                                                                                                                                                                                                                                                                                                                                                                                                                                                                                                                                                                                                                                                                                                                                                                                     ['Purdue Pharma LP']   \n",
       "4                                                                                                                                                                                                                                                                                                                                                                                                                                                                                                                                                                                                                                                                                                                                                                                                                                                                                                                                                                      nan   \n",
       "\n",
       "          openfda.product_type  \\\n",
       "0                          nan   \n",
       "1  ['HUMAN PRESCRIPTION DRUG']   \n",
       "2  ['HUMAN PRESCRIPTION DRUG']   \n",
       "3  ['HUMAN PRESCRIPTION DRUG']   \n",
       "4                          nan   \n",
       "\n",
       "                                                                                                                                                                                                                                                                    openfda.rxcui  \\\n",
       "0                                                                                                                                                                                                                                                                             NaN   \n",
       "1  [1653433, 2122343, 1650143, 1652674, 283535, 406524, 434018, 799048, 1423080, 1649425, 1650446, 1649405, 1649988, 1650030, 1806948, 205604, 205618, 310026, 702296, 861061, 2099768, 2099769, 1423082, 1653435, 2360884, 1791505, 1791507, 1801138, 1801140, 1801142, 1801144]   \n",
       "2                                                                                                                           [835603, 2395808, 833709, 833711, 833713, 1148478, 1148485, 1148489, 2179635, 2670390, 1946525, 1946527, 1946529, 2395814, 1148482, 1148487, 1148491]   \n",
       "3                                                                                                                                                  [1049504, 1049545, 1049565, 1049576, 1049586, 1049595, 1049601, 1860127, 1860129, 1860137, 1860148, 1860151, 1860154, 1860157]   \n",
       "4                                                                                                                                                                                                                                                                             NaN   \n",
       "\n",
       "                           openfda.unii medicinalproduct_processed  \\\n",
       "0                                   NaN           [duragesic, 100]   \n",
       "1  [19XTS3T51U, N12000U13O, 8ZL07I20SB]     [doxycycline, hyclate]   \n",
       "2                          [9N7R477WCK]  [tramadol, hydrochloride]   \n",
       "3                          [C1ENJ2TE6C]                [oxycontin]   \n",
       "4                                   NaN                   [talwin]   \n",
       "\n",
       "  drugindication_processed        openfda.generic_name_processed  \\\n",
       "0            [drug, abuse]                                 [nan]   \n",
       "1                    [nan]  [doxycycline, hyclate, doxyclycline]   \n",
       "2                    [nan]             [tramadol, hydrochloride]   \n",
       "3                    [nan]            [oxycodone, hydrochloride]   \n",
       "4                    [nan]                                 [nan]   \n",
       "\n",
       "                                                                                                                                                                                                                                                                                                                                                         openfda.manufacturer_name_processed  \\\n",
       "0                                                                                                                                                                                                                                                                                                                                                                                      [nan]   \n",
       "1  [mayne, pharma, commercial, llc, actavis, inc, jg, chartwell, rx, lupin, pharmaceutical, alembic, limited, ajanta, usa, epic, novel, laboratory, acella, governmental, specialty, tris, amneal, ny, zydus, lifesciences, journey, medical, corporation, puracap, dba, blu, pfizer, div, apotex, corp, viona, heritage, b, avet, hikma, aqua, solco, healthcare, u, larken, sun, industry]   \n",
       "2                                                                                                                                        [amneal, pharmaceutical, ny, llc, zydus, usa, inc, lifesciences, limited, palmetto, lupin, trigen, laboratory, advagen, pharma, sun, industry, aci, healthcare, unichem, athena, bioscience, trupharma, aurobindo, teva, rising, holding, vertical]   \n",
       "3                                                                                                                                                                                                                                                                                                                                                                       [purdue, pharma, lp]   \n",
       "4                                                                                                                                                                                                                                                                                                                                                                                      [nan]   \n",
       "\n",
       "  openfda.product_type_processed  \n",
       "0                          [nan]  \n",
       "1    [human, prescription, drug]  \n",
       "2    [human, prescription, drug]  \n",
       "3    [human, prescription, drug]  \n",
       "4                          [nan]  "
      ]
     },
     "execution_count": 243,
     "metadata": {},
     "output_type": "execute_result"
    }
   ],
   "source": [
    "patient_drugs_table.head()"
   ]
  },
  {
   "cell_type": "code",
   "execution_count": 244,
   "id": "c002b62f-d5a5-4bd2-8fa4-d58fb6c8422a",
   "metadata": {},
   "outputs": [
    {
     "name": "stdout",
     "output_type": "stream",
     "text": [
      "<class 'pandas.core.frame.DataFrame'>\n",
      "Int64Index: 1494 entries, 0 to 2871\n",
      "Data columns (total 16 columns):\n",
      " #   Column                               Non-Null Count  Dtype  \n",
      "---  ------                               --------------  -----  \n",
      " 0   patient_drug_id                      1494 non-null   float64\n",
      " 1   patient_drug_id                      0 non-null      float64\n",
      " 2   event_id                             1494 non-null   int64  \n",
      " 3   drugcharacterization                 1494 non-null   int64  \n",
      " 4   medicinalproduct                     1494 non-null   object \n",
      " 5   drugindication                       1494 non-null   object \n",
      " 6   openfda.generic_name                 1494 non-null   object \n",
      " 7   openfda.manufacturer_name            1494 non-null   object \n",
      " 8   openfda.product_type                 1494 non-null   object \n",
      " 9   openfda.rxcui                        1078 non-null   object \n",
      " 10  openfda.unii                         1055 non-null   object \n",
      " 11  medicinalproduct_processed           1494 non-null   object \n",
      " 12  drugindication_processed             1494 non-null   object \n",
      " 13  openfda.generic_name_processed       1494 non-null   object \n",
      " 14  openfda.manufacturer_name_processed  1494 non-null   object \n",
      " 15  openfda.product_type_processed       1494 non-null   object \n",
      "dtypes: float64(2), int64(2), object(12)\n",
      "memory usage: 198.4+ KB\n"
     ]
    }
   ],
   "source": [
    "patient_drugs_table.info()"
   ]
  },
  {
   "cell_type": "markdown",
   "id": "82823dd7-8c5c-4e87-a7de-1d3844481ad6",
   "metadata": {},
   "source": [
    "### Final list of features for Patient Drugs Table"
   ]
  },
  {
   "cell_type": "code",
   "execution_count": 245,
   "id": "bead8f1a-000e-4ba9-915f-2021d8b7a37d",
   "metadata": {},
   "outputs": [],
   "source": [
    "patient_drugs_table = patient_drugs_table[['patient_drug_id',\n",
    "                                          'event_id',\n",
    "                                          'drugcharacterization',\n",
    "                                          'medicinalproduct_processed',\n",
    "                                          'openfda.generic_name_processed',\n",
    "                                          'openfda.manufacturer_name_processed',\n",
    "                                          'openfda.product_type_processed',\n",
    "                                          'openfda.rxcui',\n",
    "                                          'openfda.unii'\n",
    "                                          ]]"
   ]
  },
  {
   "cell_type": "markdown",
   "id": "7bdbd9f3-83e0-44f5-88b7-869cf1ddbf69",
   "metadata": {},
   "source": [
    "# PreProcess Patient Reactions Table"
   ]
  },
  {
   "cell_type": "code",
   "execution_count": 246,
   "id": "7e81a44b-5401-48f6-b2be-7a1c2834f948",
   "metadata": {},
   "outputs": [
    {
     "name": "stdout",
     "output_type": "stream",
     "text": [
      "<class 'pandas.core.frame.DataFrame'>\n",
      "RangeIndex: 2213 entries, 0 to 2212\n",
      "Data columns (total 5 columns):\n",
      " #   Column                   Non-Null Count  Dtype \n",
      "---  ------                   --------------  ----- \n",
      " 0   patient_reaction_id      2213 non-null   int64 \n",
      " 1   event_id                 2213 non-null   int64 \n",
      " 2   reactionmeddrapt         2213 non-null   object\n",
      " 3   reactionmeddraversionpt  2211 non-null   object\n",
      " 4   reactionoutcome          2162 non-null   object\n",
      "dtypes: int64(2), object(3)\n",
      "memory usage: 86.6+ KB\n"
     ]
    }
   ],
   "source": [
    "patient_reactions_table\n",
    "\n",
    "patient_reactions_table = add_sequential_index(patient_reactions_table,'patient_reaction_id')\n",
    "\n",
    "patient_reactions_table.info()\n",
    "\n",
    "patient_reactions_table = patient_reactions_table.rename(columns={\n",
    "    'reactionmeddrapt': 'reaction',\n",
    "    'reactionmeddraversionpt': 'version_medDRA',\n",
    "    'reactionoutcome': 'outcome'\n",
    "})\n"
   ]
  },
  {
   "cell_type": "code",
   "execution_count": 247,
   "id": "ad6baa23-2ea7-4d8e-987f-758b03484f51",
   "metadata": {},
   "outputs": [
    {
     "data": {
      "text/html": [
       "<div>\n",
       "<style scoped>\n",
       "    .dataframe tbody tr th:only-of-type {\n",
       "        vertical-align: middle;\n",
       "    }\n",
       "\n",
       "    .dataframe tbody tr th {\n",
       "        vertical-align: top;\n",
       "    }\n",
       "\n",
       "    .dataframe thead th {\n",
       "        text-align: right;\n",
       "    }\n",
       "</style>\n",
       "<table border=\"1\" class=\"dataframe\">\n",
       "  <thead>\n",
       "    <tr style=\"text-align: right;\">\n",
       "      <th></th>\n",
       "      <th>patient_reaction_id</th>\n",
       "      <th>event_id</th>\n",
       "      <th>reaction</th>\n",
       "      <th>version_medDRA</th>\n",
       "      <th>outcome</th>\n",
       "    </tr>\n",
       "  </thead>\n",
       "  <tbody>\n",
       "    <tr>\n",
       "      <th>2208</th>\n",
       "      <td>2209</td>\n",
       "      <td>1997</td>\n",
       "      <td>Disease progression</td>\n",
       "      <td>17.0</td>\n",
       "      <td>6</td>\n",
       "    </tr>\n",
       "    <tr>\n",
       "      <th>2209</th>\n",
       "      <td>2210</td>\n",
       "      <td>1998</td>\n",
       "      <td>Hypokalaemia</td>\n",
       "      <td>17.0</td>\n",
       "      <td>6</td>\n",
       "    </tr>\n",
       "    <tr>\n",
       "      <th>2210</th>\n",
       "      <td>2211</td>\n",
       "      <td>2000</td>\n",
       "      <td>Tremor</td>\n",
       "      <td>17.0</td>\n",
       "      <td>3</td>\n",
       "    </tr>\n",
       "    <tr>\n",
       "      <th>2211</th>\n",
       "      <td>2212</td>\n",
       "      <td>2000</td>\n",
       "      <td>Muscle disorder</td>\n",
       "      <td>17.0</td>\n",
       "      <td>3</td>\n",
       "    </tr>\n",
       "    <tr>\n",
       "      <th>2212</th>\n",
       "      <td>2213</td>\n",
       "      <td>2000</td>\n",
       "      <td>Injection site erythema</td>\n",
       "      <td>17.0</td>\n",
       "      <td>3</td>\n",
       "    </tr>\n",
       "  </tbody>\n",
       "</table>\n",
       "</div>"
      ],
      "text/plain": [
       "      patient_reaction_id  event_id                 reaction version_medDRA  \\\n",
       "2208                 2209      1997      Disease progression           17.0   \n",
       "2209                 2210      1998             Hypokalaemia           17.0   \n",
       "2210                 2211      2000                   Tremor           17.0   \n",
       "2211                 2212      2000          Muscle disorder           17.0   \n",
       "2212                 2213      2000  Injection site erythema           17.0   \n",
       "\n",
       "     outcome  \n",
       "2208       6  \n",
       "2209       6  \n",
       "2210       3  \n",
       "2211       3  \n",
       "2212       3  "
      ]
     },
     "execution_count": 247,
     "metadata": {},
     "output_type": "execute_result"
    }
   ],
   "source": [
    "#map outcomes to text categories\n",
    "outcome_mapping = {\n",
    "    1: 'Recovered/resolved',\n",
    "    2: 'Recovering/resolving',\n",
    "    3: 'Not recovered/not resolved',\n",
    "    4: 'Recovered/resolved with consequent health issues',\n",
    "    5: 'Fatal',\n",
    "    6: 'Unknown'\n",
    "}\n",
    "\n",
    "#patient_reactions_table['outcome'] = patient_reactions_table['outcome'].fillna(0).astype(int).map(outcome_mapping)\n",
    "\n",
    "patient_reactions_table.tail()"
   ]
  },
  {
   "cell_type": "markdown",
   "id": "aefcd297-e09c-48e3-b036-a417d2282234",
   "metadata": {},
   "source": [
    "### Tokenize reactions"
   ]
  },
  {
   "cell_type": "code",
   "execution_count": 248,
   "id": "6d4ba2d3-a875-49e4-89cf-1580531ef2e5",
   "metadata": {},
   "outputs": [],
   "source": [
    "patient_reactions_table['reaction_processed'] = patient_reactions_table['reaction'].apply(process_label_text)"
   ]
  },
  {
   "cell_type": "code",
   "execution_count": 249,
   "id": "0539d1c4-cf95-482e-8e6e-96001b339bee",
   "metadata": {},
   "outputs": [],
   "source": [
    "patient_reactions_table = patient_reactions_table.drop('reaction', axis = 1)"
   ]
  },
  {
   "cell_type": "code",
   "execution_count": null,
   "id": "12135c51-cc86-4740-b08d-7f95ca674958",
   "metadata": {},
   "outputs": [],
   "source": []
  },
  {
   "cell_type": "code",
   "execution_count": 250,
   "id": "858822cc-d588-46f8-9beb-8eb4d72a542d",
   "metadata": {},
   "outputs": [
    {
     "data": {
      "text/html": [
       "<div>\n",
       "<style scoped>\n",
       "    .dataframe tbody tr th:only-of-type {\n",
       "        vertical-align: middle;\n",
       "    }\n",
       "\n",
       "    .dataframe tbody tr th {\n",
       "        vertical-align: top;\n",
       "    }\n",
       "\n",
       "    .dataframe thead th {\n",
       "        text-align: right;\n",
       "    }\n",
       "</style>\n",
       "<table border=\"1\" class=\"dataframe\">\n",
       "  <thead>\n",
       "    <tr style=\"text-align: right;\">\n",
       "      <th></th>\n",
       "      <th>column_name</th>\n",
       "      <th>null_count</th>\n",
       "      <th>null_proportion</th>\n",
       "    </tr>\n",
       "  </thead>\n",
       "  <tbody>\n",
       "    <tr>\n",
       "      <th>0</th>\n",
       "      <td>patient_reaction_id</td>\n",
       "      <td>0</td>\n",
       "      <td>0.000000</td>\n",
       "    </tr>\n",
       "    <tr>\n",
       "      <th>1</th>\n",
       "      <td>event_id</td>\n",
       "      <td>0</td>\n",
       "      <td>0.000000</td>\n",
       "    </tr>\n",
       "    <tr>\n",
       "      <th>2</th>\n",
       "      <td>version_medDRA</td>\n",
       "      <td>2</td>\n",
       "      <td>0.090375</td>\n",
       "    </tr>\n",
       "    <tr>\n",
       "      <th>3</th>\n",
       "      <td>outcome</td>\n",
       "      <td>0</td>\n",
       "      <td>0.000000</td>\n",
       "    </tr>\n",
       "    <tr>\n",
       "      <th>4</th>\n",
       "      <td>reaction_processed</td>\n",
       "      <td>0</td>\n",
       "      <td>0.000000</td>\n",
       "    </tr>\n",
       "  </tbody>\n",
       "</table>\n",
       "</div>"
      ],
      "text/plain": [
       "           column_name  null_count  null_proportion\n",
       "0  patient_reaction_id           0         0.000000\n",
       "1             event_id           0         0.000000\n",
       "2       version_medDRA           2         0.090375\n",
       "3              outcome           0         0.000000\n",
       "4   reaction_processed           0         0.000000"
      ]
     },
     "execution_count": 250,
     "metadata": {},
     "output_type": "execute_result"
    }
   ],
   "source": [
    "patient_reactions_table_nan_info = nan_info(patient_reactions_table)\n",
    "patient_reactions_table_nan_info\n",
    "\n",
    "#fill the missing values in the outcome table with 'Unknown'\n",
    "patient_reactions_table['outcome'] = patient_reactions_table['outcome'].fillna('Unknown')\n",
    "\n",
    "patient_reactions_table_nan_info = nan_info(patient_reactions_table)\n",
    "patient_reactions_table_nan_info\n"
   ]
  },
  {
   "cell_type": "markdown",
   "id": "682681d2-48a1-4f8d-ba96-ad2c1e0d5556",
   "metadata": {},
   "source": [
    "## Combine all Adverse Events Sub-Dataframes on event_id"
   ]
  },
  {
   "cell_type": "code",
   "execution_count": 251,
   "id": "ac3fd3da-d5d8-44b0-8c22-88cafcbacc14",
   "metadata": {},
   "outputs": [],
   "source": [
    "# Drop 'drug' and 'reaction' from main event table\n",
    "\n",
    "\n",
    "# events_table = events_table.drop(['drug', 'reaction'], axis = 1)"
   ]
  },
  {
   "cell_type": "code",
   "execution_count": 252,
   "id": "8bea64a8-ef5b-4268-9c80-ced38f951f83",
   "metadata": {},
   "outputs": [],
   "source": [
    "# Merge events and drugs\n",
    "\n",
    "\n",
    "# events_join = pd.merge(events_table, patient_drugs_table, on='event_id', how='outer')"
   ]
  },
  {
   "cell_type": "code",
   "execution_count": 253,
   "id": "518fde2b-d1f5-46f3-8c71-7715eea70985",
   "metadata": {},
   "outputs": [],
   "source": [
    "# Merge the result with reactions\n",
    "\n",
    "\n",
    "# events_join = pd.merge(events_join, patient_reactions_table, on='event_id', how='outer')\n",
    "# View combined dataframe"
   ]
  },
  {
   "cell_type": "code",
   "execution_count": 254,
   "id": "f1f714c0-8927-4c8c-96a2-32fb2c92b3ed",
   "metadata": {},
   "outputs": [],
   "source": [
    "# View combined dataframe\n",
    "# events_join.info()\n",
    "# events_join.head()"
   ]
  },
  {
   "cell_type": "code",
   "execution_count": 111,
   "id": "d3bdb39c-d2f1-4d5f-a9fe-f98e88086fb4",
   "metadata": {},
   "outputs": [],
   "source": [
    "#events_join = pd.DataFrame(events_join)\n",
    "#events_join.shape()"
   ]
  },
  {
   "cell_type": "code",
   "execution_count": 286,
   "id": "1a4b9b61-f5c5-4b0d-bafa-03e85fc4388d",
   "metadata": {},
   "outputs": [
    {
     "data": {
      "text/plain": [
       "(1494, 11)"
      ]
     },
     "execution_count": 286,
     "metadata": {},
     "output_type": "execute_result"
    }
   ],
   "source": [
    "# Keep only primary drug suspects\n",
    "\n",
    "#events_join = events_join.loc[events_join['drugcharacterization'] == 1]\n",
    "#events_join.shape()\n",
    "\n",
    "patient_drugs_table = patient_drugs_table.loc[patient_drugs_table['drugcharacterization'] == 1]\n",
    "patient_drugs_table.shape"
   ]
  },
  {
   "cell_type": "code",
   "execution_count": null,
   "id": "5dd9c68d-fdfc-4414-b4a7-5159f198a9b8",
   "metadata": {},
   "outputs": [],
   "source": [
    "# Drop unknown reaction outcomes\n",
    "events_join = events_join.loc[events_join['outcome'] != 6]\n",
    "events_join.shape()"
   ]
  },
  {
   "cell_type": "code",
   "execution_count": null,
   "id": "3b3e32da-42a4-4991-aab3-3f86e9c9c687",
   "metadata": {},
   "outputs": [],
   "source": [
    "events_join.info()"
   ]
  },
  {
   "cell_type": "code",
   "execution_count": null,
   "id": "f01a9b37-090a-4a2d-8244-dce838521887",
   "metadata": {},
   "outputs": [],
   "source": [
    "events_join.head()"
   ]
  },
  {
   "cell_type": "markdown",
   "id": "f41fc494-a5df-495c-80d6-cdfcd5190246",
   "metadata": {},
   "source": [
    "# PreProcess Labels Table"
   ]
  },
  {
   "cell_type": "markdown",
   "id": "c0b2344f-410f-4bb7-bd70-6af6a5aa4e59",
   "metadata": {},
   "source": [
    "#### Select Columns"
   ]
  },
  {
   "cell_type": "code",
   "execution_count": 282,
   "id": "281f2dd5-6797-4847-bd40-0f0d635cdc87",
   "metadata": {},
   "outputs": [],
   "source": [
    "labels_table = pd.DataFrame(labels_df, \n",
    "                            columns = [\"effective_time\",\n",
    "                                        #\"inactive_ingredient\",  # Included in spl_product_data_elements\n",
    "                                       \"purpose\",\n",
    "                                       \"warnings\",  # Combine text with contraindications and precautions\n",
    "                                        #\"questions\",  # Too much missing data\n",
    "                                       \"spl_product_data_elements\",  # Contains both active and inactive ingredients\n",
    "                                        #\"version\",  # Label version, not needed since ndc code captures this information\n",
    "                                        #\"package_label_principal_display_panel\",  # Package label text, redundant information\n",
    "                                        #\"active_ingredient\",  # Included in spl_product_data_elements\n",
    "                                        \"openfda.brand_name\",  # Combine into list with generic\n",
    "                                        \"openfda.generic_name\",  # Combine into list with brand\n",
    "                                        \"openfda.manufacturer_name\",  # Company that produces the drug\n",
    "                                        \"openfda.product_type\",  # Denotes whether OTC and prescription, and human or animal\n",
    "                                        \"openfda.substance_name\",  # Combine with brand and generic\n",
    "                                        \"openfda.product_ndc\",  # Do NOT tokenize, NDC Product code, use as database key, already a list\n",
    "                                        #\"openfda.package_ndc\",  # Product NDC code plus one extra number for package type, Redundant\n",
    "                                        \"openfda.rxcui\",  # Do NOT tokenize, normed drug code number, retain for database keys\n",
    "                                        \"contraindications\",  # Combine with warnings and precautions\n",
    "                                        \"precautions\"  # Combine with warnings and contraindications\n",
    "                                        ])"
   ]
  },
  {
   "cell_type": "code",
   "execution_count": 283,
   "id": "3919acc8-d99a-4234-83d8-1ea8966bef97",
   "metadata": {},
   "outputs": [
    {
     "name": "stdout",
     "output_type": "stream",
     "text": [
      "<class 'pandas.core.frame.DataFrame'>\n",
      "RangeIndex: 2000 entries, 0 to 1999\n",
      "Data columns (total 13 columns):\n",
      " #   Column                     Non-Null Count  Dtype \n",
      "---  ------                     --------------  ----- \n",
      " 0   effective_time             2000 non-null   object\n",
      " 1   purpose                    1190 non-null   object\n",
      " 2   warnings                   1586 non-null   object\n",
      " 3   spl_product_data_elements  1999 non-null   object\n",
      " 4   openfda.brand_name         985 non-null    object\n",
      " 5   openfda.generic_name       985 non-null    object\n",
      " 6   openfda.manufacturer_name  985 non-null    object\n",
      " 7   openfda.product_type       985 non-null    object\n",
      " 8   openfda.substance_name     975 non-null    object\n",
      " 9   openfda.product_ndc        985 non-null    object\n",
      " 10  openfda.rxcui              730 non-null    object\n",
      " 11  contraindications          752 non-null    object\n",
      " 12  precautions                421 non-null    object\n",
      "dtypes: object(13)\n",
      "memory usage: 203.2+ KB\n"
     ]
    }
   ],
   "source": [
    "labels_table.info()"
   ]
  },
  {
   "cell_type": "markdown",
   "id": "e170f5d8-23b7-4fa4-9dba-83cd2401b328",
   "metadata": {},
   "source": [
    "#### Fix Dtypes"
   ]
  },
  {
   "cell_type": "code",
   "execution_count": 284,
   "id": "dadb5b47-4cb5-4a67-bf27-d4824df2e7e9",
   "metadata": {},
   "outputs": [],
   "source": [
    "# Define text columns\n",
    "object_columns = labels_table.select_dtypes(include=['object']).columns\n",
    "\n",
    "# Exclude columns that should not be tokenized, index codes\n",
    "object_columns = object_columns.drop(['openfda.product_ndc', 'openfda.rxcui'], errors='ignore')\n",
    "labels_table[object_columns] = labels_table[object_columns].astype(str)\n",
    "\n",
    "# Apply text processing to the selected text columns and add new processed columns to dataframe\n",
    "for col in object_columns:\n",
    "    new_col_name = col + '_processed'\n",
    "    labels_table[new_col_name] = labels_table[col].apply(process_label_text)"
   ]
  },
  {
   "cell_type": "code",
   "execution_count": null,
   "id": "d03e43d7-6d45-4ba5-854f-271befd72b5a",
   "metadata": {},
   "outputs": [],
   "source": [
    "labels_table.head(2)"
   ]
  },
  {
   "cell_type": "markdown",
   "id": "5993cb58-a9e3-42dc-8a01-335e80084819",
   "metadata": {},
   "source": [
    "### Examine all variables for quality, content, and redundancy"
   ]
  },
  {
   "cell_type": "code",
   "execution_count": null,
   "id": "60777dd7-f2b5-490b-9f5b-62b84a2ff441",
   "metadata": {},
   "outputs": [],
   "source": [
    "labels_table['spl_product_data_elements_processed'].head()"
   ]
  },
  {
   "cell_type": "code",
   "execution_count": null,
   "id": "41d25625-d4f7-45f3-b310-60fd031962e0",
   "metadata": {},
   "outputs": [],
   "source": [
    "labels_table['purpose'].head()"
   ]
  },
  {
   "cell_type": "code",
   "execution_count": null,
   "id": "f40cf636-7f5f-4567-bde3-9014c33974da",
   "metadata": {},
   "outputs": [],
   "source": [
    "labels_table['purpose_processed'].head()"
   ]
  },
  {
   "cell_type": "code",
   "execution_count": null,
   "id": "1537e1ac-510e-4b77-85cd-4e20527f2302",
   "metadata": {},
   "outputs": [],
   "source": [
    "labels_table['warnings'].head()"
   ]
  },
  {
   "cell_type": "code",
   "execution_count": null,
   "id": "2fa000b5-e141-4b60-a38c-ad6e28d64271",
   "metadata": {},
   "outputs": [],
   "source": [
    "labels_table['warnings_processed'].head()"
   ]
  },
  {
   "cell_type": "code",
   "execution_count": null,
   "id": "d92fb4c1-cce8-4313-b77f-38ab79cfac95",
   "metadata": {},
   "outputs": [],
   "source": [
    "labels_table['contraindications'].head()"
   ]
  },
  {
   "cell_type": "code",
   "execution_count": null,
   "id": "aab2144a-4f03-4eec-bde6-6655f34f11ce",
   "metadata": {},
   "outputs": [],
   "source": [
    "labels_table['contraindications_processed'].head()"
   ]
  },
  {
   "cell_type": "code",
   "execution_count": null,
   "id": "43d54405-4be6-45b0-b097-013e35cb8376",
   "metadata": {},
   "outputs": [],
   "source": [
    "labels_table['precautions'].head()"
   ]
  },
  {
   "cell_type": "code",
   "execution_count": null,
   "id": "38748622-d0b4-4c12-945a-3592eae6694b",
   "metadata": {},
   "outputs": [],
   "source": [
    "labels_table['precautions_processed'].head()"
   ]
  },
  {
   "cell_type": "code",
   "execution_count": null,
   "id": "8d27f74b-5890-491b-8f13-fdfc41d02f61",
   "metadata": {},
   "outputs": [],
   "source": [
    "labels_table['openfda.brand_name_processed'].head()"
   ]
  },
  {
   "cell_type": "code",
   "execution_count": null,
   "id": "295ba9b3-b8c9-46f5-bc19-14291f871cc7",
   "metadata": {},
   "outputs": [],
   "source": [
    "labels_table['openfda.generic_name_processed'].head()"
   ]
  },
  {
   "cell_type": "code",
   "execution_count": null,
   "id": "0c13d61b-a1f8-4e00-abce-8c42316a667d",
   "metadata": {},
   "outputs": [],
   "source": [
    "labels_table['openfda.manufacturer_name_processed'].head()"
   ]
  },
  {
   "cell_type": "code",
   "execution_count": null,
   "id": "a3636c8f-ca4a-495b-8406-5a974b627ed3",
   "metadata": {},
   "outputs": [],
   "source": [
    "labels_table['openfda.product_type_processed'].head()"
   ]
  },
  {
   "cell_type": "code",
   "execution_count": null,
   "id": "5b25de0a-5ab9-41c6-9abb-03f16cc20e39",
   "metadata": {},
   "outputs": [],
   "source": [
    "labels_table['openfda.substance_name_processed'].head()"
   ]
  },
  {
   "cell_type": "code",
   "execution_count": null,
   "id": "34e2f0ac-8364-4e0e-96e6-2f3a8e4fac79",
   "metadata": {},
   "outputs": [],
   "source": [
    "labels_table['openfda.product_ndc'].head()"
   ]
  },
  {
   "cell_type": "markdown",
   "id": "e25dd26e-cf40-45c6-a831-9dccb233cecd",
   "metadata": {},
   "source": [
    "### Feature Creation for Labels Data"
   ]
  },
  {
   "cell_type": "code",
   "execution_count": null,
   "id": "df46626d-3a5f-49a2-a31d-946b97c41bbe",
   "metadata": {},
   "outputs": [],
   "source": [
    "# Add index column\n",
    "labels_table = add_sequential_index(labels_table,'label_id')\n",
    "\n",
    "# Reformat effective time as date\n",
    "labels_table['effective_time'] = pd.to_datetime(labels_table['effective_time'], format='%Y%m%d')\n",
    "\n",
    "# Combine warnings, contraindications, and precautions text\n",
    "labels_table['all_warnings_processed'] = labels_table['warnings_processed'] + labels_table['contraindications_processed'] + labels_table['precautions_processed']\n",
    "# Remove duplicate tokens from combination list\n",
    "labels_table['all_warnings_processed'] = labels_table['all_warnings_processed'].apply(remove_duplicates)\n",
    " \n",
    "\n",
    "# Combine brand name, generic name, and substance name\n",
    "labels_table['all_name_processed'] = labels_table['openfda.brand_name_processed'] + labels_table['openfda.generic_name_processed'] + labels_table['openfda.substance_name_processed']\n",
    "# Remove duplicate tokens to retain unique descriptors only\n",
    "labels_table['all_name_processed'] = labels_table['all_name_processed'].apply(remove_duplicates)\n",
    "\n",
    "# Create a category variable from the \"openfda.product_type\"\n",
    "labels_table['category'] = labels_table['openfda.product_type_processed'].apply(classify_product_type)\n"
   ]
  },
  {
   "cell_type": "code",
   "execution_count": null,
   "id": "11dc4afc-9d20-48d7-a80c-3cb04ab2b09c",
   "metadata": {},
   "outputs": [],
   "source": [
    "labels_table.columns"
   ]
  },
  {
   "cell_type": "markdown",
   "id": "33b187c1-4705-43d5-9bcc-a56fa81467aa",
   "metadata": {},
   "source": [
    "### Final List of Features for Labels Data"
   ]
  },
  {
   "cell_type": "code",
   "execution_count": null,
   "id": "5a3763ba-162b-46d7-81c8-e7ac5297ae15",
   "metadata": {},
   "outputs": [],
   "source": [
    "labels_table = labels_table[['label_id','openfda.rxcui', 'openfda.product_ndc', 'effective_time',\n",
    "                            'spl_product_data_elements_processed', 'all_warnings_processed', 'all_name_processed',\n",
    "                            'category', 'openfda.manufacturer_name_processed',\n",
    "                            'purpose_processed']]"
   ]
  },
  {
   "cell_type": "code",
   "execution_count": null,
   "id": "6237d36e-3a2e-4215-9953-8266fd194cf3",
   "metadata": {},
   "outputs": [],
   "source": [
    "labels_table.info()"
   ]
  },
  {
   "cell_type": "code",
   "execution_count": null,
   "id": "2148b748-1231-4cfe-a51f-6491facc2709",
   "metadata": {},
   "outputs": [],
   "source": [
    "labels_table.head()"
   ]
  },
  {
   "cell_type": "markdown",
   "id": "ec93225d-e36c-4149-aa61-133473aaf29d",
   "metadata": {},
   "source": [
    "# PreProcess Prices Table"
   ]
  },
  {
   "cell_type": "markdown",
   "id": "4192e542-f927-4d37-bd27-8efcbb10f63f",
   "metadata": {},
   "source": [
    "#### Select Columns"
   ]
  },
  {
   "cell_type": "code",
   "execution_count": 285,
   "id": "6047a92d-b7f9-4166-93eb-8e9dd577bd20",
   "metadata": {},
   "outputs": [],
   "source": [
    "prices_table = pd.DataFrame(prices_df, \n",
    "                            columns = [#\"NDC Description\",  # Identifies the drug name/dosage, Redundant Information with labels_table\n",
    "                                       \"NDC\",  # 11 character FDA code, Do NOT Tokenize, database key\n",
    "                                       \"NADAC_Per_Unit\",  #  The National Average Drug Acquisition Cost per unit, do NOT tokenize\n",
    "                                       \"Effective Date\",  # The effective date of the NADAC Per Unit cost\n",
    "                                        #\"Pricing_Unit\",  # Pricing unit for NDC ('ML', 'GM 'or 'EA'), Not necessary, just use price\n",
    "                                        #\"Pharmacy_Type_Indicator\",  # 'C/I' data from Chain/Independent pharmacies, does not provide helpful info\n",
    "                                        #\"OTC\",  # Indicates whether NDC is over-the-counter (OTC), redundant with labels_table\n",
    "                                        #\"Explanation Code\",  # NADAC Calculation Method, not necessary for this project, too much missing data\n",
    "                                                                       # Code 1: Inform from most recent survey.\n",
    "                                                                       # Code 2: Cost within ± 2%, carried forward from previous\n",
    "                                                                       # Code 3: Published pricing, or help desk inquiry\n",
    "                                                                       # Code 4: Carried forward from previous year\n",
    "                                                                       # Code 5: Based on package size.\n",
    "                                                                       # Code 6: CMS Covered Outpatient Drug Product File drug category \n",
    "                                        \"Classification_for_Rate_Setting\",  # B: brand, \n",
    "                                                                            # G: generic\n",
    "                                                                            # B-ANDA: brand under ANDA\n",
    "                                                                            # B-BIO: biosimilar brand  \n",
    "                                        \"Corresponding_Generic_Drug_NADAC_Per_Unit\",\n",
    "                                        \"Corresponding_Generic_Drug_Effective_Date\"\n",
    "                                        #\"As of Date\"\n",
    "                                      ])"
   ]
  },
  {
   "cell_type": "markdown",
   "id": "9521129b-a470-4e08-8d4f-8aef30f24f64",
   "metadata": {},
   "source": [
    "Fix Dtypes"
   ]
  },
  {
   "cell_type": "markdown",
   "id": "597efcfa-9426-4cd9-8b7d-5e41e62328c0",
   "metadata": {},
   "source": [
    "### Feature Engineering "
   ]
  },
  {
   "cell_type": "code",
   "execution_count": null,
   "id": "59564677-f8c1-4fd1-9fa2-0b56d106bba4",
   "metadata": {},
   "outputs": [],
   "source": [
    "# Reformat dates as dates\n",
    "prices_table['Effective Date'] = pd.to_datetime(prices_table['Effective Date'])\n",
    "prices_table['Corresponding_Generic_Drug_Effective_Date'] = pd.to_datetime(prices_table['Corresponding_Generic_Drug_Effective_Date'])"
   ]
  },
  {
   "cell_type": "code",
   "execution_count": null,
   "id": "76fa6feb-0844-4552-aca3-11370c34e67e",
   "metadata": {},
   "outputs": [],
   "source": [
    "prices_table['Classification_for_Rate_Setting'].value_counts()"
   ]
  },
  {
   "cell_type": "code",
   "execution_count": null,
   "id": "89751cd5-58fd-41cf-b882-79a851fe6724",
   "metadata": {},
   "outputs": [],
   "source": [
    "# Update classification to binary generic/brand, G:1 B:0\n",
    "prices_table['Classification_for_Rate_Setting'] = prices_table['Classification_for_Rate_Setting'].apply(lambda x: 1 if x == 'G' else 0)"
   ]
  },
  {
   "cell_type": "code",
   "execution_count": null,
   "id": "085e23a3-8f1d-4c49-a375-9ae25f4e9eb4",
   "metadata": {},
   "outputs": [],
   "source": [
    "prices_table.head()"
   ]
  },
  {
   "cell_type": "markdown",
   "id": "01eb72cc-1ac5-4e4c-acdf-f3f1714da0ea",
   "metadata": {},
   "source": [
    "### Final list of features for prices data"
   ]
  },
  {
   "cell_type": "code",
   "execution_count": null,
   "id": "6dbd601c-0246-4569-a718-ae4a98ffbcd5",
   "metadata": {},
   "outputs": [],
   "source": [
    "prices_table = prices_table[['NDC', 'NADAC_Per_Unit', 'Effective Date', 'Classification_for_Rate_Setting', \n",
    "                             'Corresponding_Generic_Drug_NADAC_Per_Unit', 'Corresponding_Generic_Drug_Effective_Date']]"
   ]
  },
  {
   "cell_type": "markdown",
   "id": "d2aa8327-4498-40f4-9fc0-3d8e8b18636d",
   "metadata": {},
   "source": [
    "# Standardize/Simplify Variable Name Format Across Tables"
   ]
  },
  {
   "cell_type": "code",
   "execution_count": null,
   "id": "df641269-92de-455a-ba90-8cfbf7535fa9",
   "metadata": {},
   "outputs": [],
   "source": [
    "labels_table = labels_table.rename(columns = {'openfda.rxcui': 'rxcui',\n",
    "                         'openfda.product_ndc': 'ndc',\n",
    "                         'effective_time': 'effect_date',\n",
    "                         'spl_product_data_elements_processed': 'ingredients',\n",
    "                         'all_warnings_processed': 'warnings',\n",
    "                         'all_name_processed': 'drug_names',\n",
    "                         'openfda.product_type_processed': 'product_type',\n",
    "                         'openfda.manufacturer_name_processed': 'manufacturer',\n",
    "                         'purpose_processed': 'purpose'})"
   ]
  },
  {
   "cell_type": "code",
   "execution_count": null,
   "id": "e15ab648-3456-4dfb-9947-48050e94c7d4",
   "metadata": {},
   "outputs": [],
   "source": [
    "labels_table.info()"
   ]
  },
  {
   "cell_type": "code",
   "execution_count": null,
   "id": "63c071fb-480a-4e2a-817d-fd407a4e8341",
   "metadata": {},
   "outputs": [],
   "source": [
    "prices_table = prices_table.rename(columns = {'NDC': 'ndc',\n",
    "                         'NADAC_Per_Unit': 'unit_price',\n",
    "                         'Effective Date': 'effect_date',\n",
    "                         'Classification_for_Rate_Setting': 'generic_brand',\n",
    "                         'Corresponding_Generic_Drug_NADAC_Per_Unit': 'generic_price',\n",
    "                         'Corresponding_Generic_Drug_Effective_Date': 'generic_date'})"
   ]
  },
  {
   "cell_type": "code",
   "execution_count": null,
   "id": "9250d4d4-e511-426f-8051-205332da29a7",
   "metadata": {},
   "outputs": [],
   "source": [
    "prices_table.info()"
   ]
  },
  {
   "cell_type": "code",
   "execution_count": null,
   "id": "b468122a-689c-4e7c-86d4-4e64a4d6018e",
   "metadata": {},
   "outputs": [],
   "source": [
    "events_table = events_merged.rename(columns = {\n",
    "})"
   ]
  },
  {
   "cell_type": "code",
   "execution_count": null,
   "id": "7e216990-10e3-4b91-9d57-82ecb82ebfd4",
   "metadata": {},
   "outputs": [],
   "source": [
    "events_table.info()"
   ]
  },
  {
   "cell_type": "markdown",
   "id": "98cc33cb-7557-4e45-80f6-5910782972d9",
   "metadata": {},
   "source": [
    "# Standardize Drug Names, Side Effects, and Adverse Event Labels across all Table using ADReCS System"
   ]
  },
  {
   "cell_type": "markdown",
   "id": "ebda8a98-292a-4ebd-9801-2d687361ff53",
   "metadata": {},
   "source": [
    "## Allows us to collapse drugs into primary active ingredients/compounds"
   ]
  },
  {
   "cell_type": "code",
   "execution_count": null,
   "id": "3cb50747-9e7a-47ea-ad12-4c4f881966d7",
   "metadata": {},
   "outputs": [],
   "source": [
    "# load in adrecs file\n",
    "# Create mapping dictionaries of names and synonyms\n",
    "# Check if dataframe string contains any terms from dictionary, and update name to standard name"
   ]
  },
  {
   "cell_type": "code",
   "execution_count": null,
   "id": "13d96fda-cc0d-4d29-a675-62c71c330f7c",
   "metadata": {},
   "outputs": [],
   "source": []
  },
  {
   "cell_type": "code",
   "execution_count": null,
   "id": "516a66ab-d3ab-4f27-973d-b4e827fe176a",
   "metadata": {},
   "outputs": [],
   "source": []
  },
  {
   "cell_type": "code",
   "execution_count": null,
   "id": "7a73e8e4-4be6-4eea-9257-97fda165481e",
   "metadata": {},
   "outputs": [],
   "source": []
  },
  {
   "cell_type": "code",
   "execution_count": null,
   "id": "2fca6401-a6d3-4c33-b7b3-74bf9fbedc87",
   "metadata": {},
   "outputs": [],
   "source": []
  },
  {
   "cell_type": "markdown",
   "id": "91118bc7-5879-4623-9217-b0c7125ad73c",
   "metadata": {},
   "source": [
    "# Combining Data into SQL Database Based on Keys"
   ]
  },
  {
   "cell_type": "code",
   "execution_count": null,
   "id": "1c16df0a-de65-428e-9f48-c37bc972e478",
   "metadata": {},
   "outputs": [],
   "source": [
    "# Keys in FDA data = rxcui OR package_ndc\n",
    "# Key in medicaid data = NDC\n",
    "# Key in RxNorm data = rxcui"
   ]
  },
  {
   "cell_type": "markdown",
   "id": "9c19c181-f1de-451e-8025-db80011054df",
   "metadata": {},
   "source": [
    "### Create new database to store data"
   ]
  },
  {
   "cell_type": "code",
   "execution_count": null,
   "id": "8d9fcb45-d27c-48ce-9456-9395792dad3d",
   "metadata": {},
   "outputs": [],
   "source": [
    "# connect to MySQL server\n",
    "connection = mysql.connector.connect(host=\"localhost\", user=\"root\", password=PASSWORD)\n",
    "\n",
    "# Create a cursor object\n",
    "cursor = connection.cursor()\n",
    "\n",
    "# Drop the database if it exists - this is so we can start fresh (at least while developing)\n",
    "cursor.execute(\"DROP DATABASE IF EXISTS pharma_db\")\n",
    "\n",
    "# Create the 'covid_db' database\n",
    "cursor.execute(\"CREATE DATABASE pharma_db\")\n",
    "\n",
    "# Switch to the 'covid_db' database\n",
    "cursor.execute(\"USE pharma_db\")\n",
    "\n",
    "# Commit the changes\n",
    "connection.commit()\n",
    "\n",
    "# Close the cursor and connection\n",
    "cursor.close()\n",
    "connection.close()"
   ]
  },
  {
   "cell_type": "markdown",
   "id": "aa0f7a24-bb48-42ae-ab08-459f262ad559",
   "metadata": {},
   "source": [
    "### Create Read-Only User Access for Public"
   ]
  },
  {
   "cell_type": "code",
   "execution_count": null,
   "id": "d6f89c08-22a9-418f-83bf-c011bd4d27c2",
   "metadata": {},
   "outputs": [],
   "source": [
    "# public username and password"
   ]
  },
  {
   "cell_type": "markdown",
   "id": "2343dcab-d1f6-4112-896e-37fc0dc77d45",
   "metadata": {},
   "source": [
    "### Create Edit Privelages for Us"
   ]
  },
  {
   "cell_type": "code",
   "execution_count": null,
   "id": "8b62420b-c28a-4c30-9e51-11e4df6d3f3d",
   "metadata": {},
   "outputs": [],
   "source": [
    "# private username and password"
   ]
  },
  {
   "cell_type": "markdown",
   "id": "83ea8ce1-a63e-4d3c-99e0-35329958a7ea",
   "metadata": {},
   "source": [
    "### Create dataframes from API request dataframes"
   ]
  },
  {
   "cell_type": "code",
   "execution_count": null,
   "id": "e1f22dba-6b3a-4cbe-bfa2-77609a1daffb",
   "metadata": {},
   "outputs": [],
   "source": [
    "# Connect to the MySQL server\n",
    "connection = mysql.connector.connect(\n",
    "    host=\"localhost\", user=\"root\", password=PASSWORD, database=\"pharma_db\"\n",
    ")\n",
    "\n",
    "# Create a cursor object\n",
    "cursor = connection.cursor()\n",
    "\n",
    "# Create documents table\n",
    "create_documents_table_query = \"\"\"\n",
    "CREATE TABLE IF NOT EXISTS `documents` (\n",
    "  `doc_id` INT NOT NULL,\n",
    "  `doc_type` VARCHAR(4),\n",
    "  `year` INT,\n",
    "  `text_processed` VARCHAR(200),\n",
    "  PRIMARY KEY(`doc_id`)\n",
    ") ENGINE=InnoDB;\n",
    "\"\"\"\n",
    "cursor.execute(create_documents_table_query)\n",
    "\n",
    "# Create adverse events table\n",
    "create_events_query = \"\"\"\n",
    "CREATE TABLE IF NOT EXISTS `adverse_events` (\n",
    "  `event_id` INT NOT NULL,\n",
    "  `safetyreportid` VARCHAR(20),\n",
    "  `transmissiondate` DATE,\n",
    "  `serious` BOOLEAN,\n",
    "  `seriousnessdeath` BOOLEAN,\n",
    "  `country` VARCHAR(45),\n",
    "  `sex` VARCHAR(6),\n",
    "  `reaction` VARCHAR(200),\n",
    "  `drug` VARCHAR(45),\n",
    "  PRIMARY KEY (`event_id`)\n",
    ") ENGINE=InnoDB;\n",
    "\"\"\"\n",
    "cursor.execute(create_events_query)\n",
    "\n",
    "# Create patient_reactions table\n",
    "create_patient_reactions_query = \"\"\"\n",
    "CREATE TABLE IF NOT EXISTS `patient_reactions` (\n",
    " `patient_reaction_id` INT NOT NULL,\n",
    "  `event_id` INT,\n",
    "  `reaction` VARCHAR(50),\n",
    "  `version_medRNA` VARCHAR(50),\n",
    "  `outcome` VARCHAR(50),\n",
    "  PRIMARY KEY(`patient_reaction_id`),\n",
    "  FOREIGN KEY (`event_id`) REFERENCES `adverse_events` (`event_id`)\n",
    "  ON DELETE CASCADE\n",
    "  ) ENGINE=InnoDB;\n",
    "\"\"\"\n",
    "cursor.execute(create_patient_reactions_query)\n",
    "\n",
    "# Create labels table\n",
    "create_labels_query = \"\"\"\n",
    "CREATE TABLE IF NOT EXISTS `labels` (\n",
    "  `label_id` INT NOT NULL AUTO_INCREMENT,\n",
    "  `rxcui` VARCHAR(10),\n",
    "  `ndc` VARCHAR(50), \n",
    "  `effect_date` DATE,\n",
    "  `ingredients` VARCHAR(50),\n",
    "  `warnings` VARCHAR(50),\n",
    "  `drug_names` VARCHAR(50),\n",
    "  `category` BOOLEAN,\n",
    "  `manufacturer` VARCHAR(50),\n",
    "  `purpose` VARCHAR(50),\n",
    "  PRIMARY KEY(`label_id`),\n",
    "  INDEX(`manufacturer`),\n",
    "  INDEX(`ndc`)\n",
    ") ENGINE=InnoDB;\n",
    "\"\"\"\n",
    "cursor.execute(create_labels_query)\n",
    "\n",
    "\n",
    "# Create patient_drugs table\n",
    "create_patient_drugs_query = \"\"\"\n",
    "CREATE TABLE IF NOT EXISTS `patient_drugs` (\n",
    " `patient_drug_id` INT NOT NULL AUTO_INCREMENT,\n",
    "  `event_id` INT,\n",
    "  `generic_name` VARCHAR(50),\n",
    "  `manufacturer` VARCHAR(50),\n",
    "  PRIMARY KEY(`patient_drug_id`),\n",
    "  FOREIGN KEY (`event_id`) REFERENCES `adverse_events` (`event_id`)\n",
    "    ON DELETE CASCADE,\n",
    "  FOREIGN KEY (`manufacturer`) REFERENCES `labels` (`manufacturer`)\n",
    "    ON DELETE CASCADE\n",
    "  ) ENGINE=InnoDB;\n",
    "\"\"\"\n",
    "cursor.execute(create_patient_drugs_query)\n",
    "\n",
    "create_prices_query = \"\"\"\n",
    "CREATE TABLE IF NOT EXISTS `prices` (\n",
    " `price_id` INT NOT NULL AUTO_INCREMENT,\n",
    "  `ndc` VARCHAR(50),\n",
    "  `unit_price` VARCHAR(50),\n",
    "  `effect_date` DATE,\n",
    "  `generic_brand` VARCHAR(50),\n",
    "  `generic_price` VARCHAR(50),\n",
    "  `generic_date` DATE,\n",
    "  PRIMARY KEY(`price_id`),\n",
    "  FOREIGN KEY (`ndc`) REFERENCES `labels` (`ndc`)\n",
    "  ON DELETE CASCADE\n",
    ") ENGINE=InnoDB;\n",
    "\"\"\"\n",
    "cursor.execute(create_prices_query)\n",
    "\n",
    "# show tables below\n",
    "cursor.execute(\"SHOW TABLES\")\n",
    "\n",
    "# Fetch all the rows\n",
    "tables = cursor.fetchall()\n",
    "\n",
    "# Print the list of tables\n",
    "for table in tables:\n",
    "    print(table[0])\n",
    "\n",
    "# Commit the changes\n",
    "connection.commit()\n",
    "\n",
    "# Close the cursor and connection\n",
    "cursor.close()\n",
    "connection.close()"
   ]
  },
  {
   "cell_type": "code",
   "execution_count": null,
   "id": "875ea284-98d6-46af-94b3-03f7b504d023",
   "metadata": {},
   "outputs": [],
   "source": []
  },
  {
   "cell_type": "code",
   "execution_count": null,
   "id": "f81290b5-ee68-49d7-b56d-8f38eff87d35",
   "metadata": {},
   "outputs": [],
   "source": []
  },
  {
   "cell_type": "code",
   "execution_count": null,
   "id": "280124e4-6482-410d-b8c0-299e52713d81",
   "metadata": {},
   "outputs": [],
   "source": []
  },
  {
   "cell_type": "code",
   "execution_count": null,
   "id": "f5c51f36-8660-4cf7-9aa3-b232a021a47a",
   "metadata": {},
   "outputs": [],
   "source": []
  },
  {
   "cell_type": "code",
   "execution_count": null,
   "id": "7cbc6571-ec17-4b72-a6b5-d4eeb0d10ffd",
   "metadata": {},
   "outputs": [],
   "source": []
  },
  {
   "cell_type": "code",
   "execution_count": null,
   "id": "bdea11ea-c9c4-434a-bb79-d4c56ead7298",
   "metadata": {},
   "outputs": [],
   "source": []
  },
  {
   "cell_type": "code",
   "execution_count": null,
   "id": "7caf17cc-e463-4f95-b602-688ef6275c68",
   "metadata": {},
   "outputs": [],
   "source": []
  },
  {
   "cell_type": "code",
   "execution_count": null,
   "id": "16ffa722-f8d2-42ac-85d1-84dd2fb2779b",
   "metadata": {},
   "outputs": [],
   "source": []
  },
  {
   "cell_type": "code",
   "execution_count": null,
   "id": "5ce03922-b4ed-47bd-96b3-7dbc21247446",
   "metadata": {},
   "outputs": [],
   "source": []
  }
 ],
 "metadata": {
  "kernelspec": {
   "display_name": "Python 3 (ipykernel)",
   "language": "python",
   "name": "python3"
  },
  "language_info": {
   "codemirror_mode": {
    "name": "ipython",
    "version": 3
   },
   "file_extension": ".py",
   "mimetype": "text/x-python",
   "name": "python",
   "nbconvert_exporter": "python",
   "pygments_lexer": "ipython3",
   "version": "3.8.8"
  }
 },
 "nbformat": 4,
 "nbformat_minor": 5
}
