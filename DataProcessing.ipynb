{
 "cells": [
  {
   "cell_type": "code",
   "execution_count": 1,
   "id": "05ff8559-6d5e-4ef1-a907-2fb2e5d79441",
   "metadata": {},
   "outputs": [],
   "source": [
    "import os\n",
    "import requests\n",
    "import pandas as pd\n",
    "import json\n",
    "import time\n",
    "import random\n",
    "from datetime import datetime, timedelta\n",
    "import numpy as np \n",
    "import xml.etree.ElementTree as ET\n",
    "\n",
    "import pymysql as mysql\n",
    "import mysql.connector\n",
    "import warnings\n",
    "import matplotlib.pyplot as plt\n",
    "import csv\n",
    "from nltk.tokenize import word_tokenize\n",
    "\n",
    "import pyodbc\n",
    "import sqlite3\n",
    "import sqlalchemy\n",
    "from sqlalchemy import create_engine\n",
    "from sqlalchemy import event\n",
    "from tabulate import tabulate\n",
    "import plotly.express as px\n",
    "import seaborn as sns\n",
    "from string import punctuation\n",
    "import string\n",
    "import nltk\n",
    "from collections import OrderedDict\n",
    "from nltk.tokenize import word_tokenize\n",
    "from pandas import json_normalize  \n",
    "\n",
    "\n",
    "#nltk.download('punkt')\n",
    "#nltk.download('stopwords')\n",
    "warnings.filterwarnings('ignore')\n",
    "\n",
    "\n",
    "from nltk.stem import WordNetLemmatizer\n",
    "lemmatizer = WordNetLemmatizer()\n",
    "from nltk.util import ngrams\n",
    "\n",
    "from nltk.corpus import stopwords\n",
    "from string import punctuation\n",
    "punctuation = set(punctuation)\n",
    "punctuation.update({'_', '-','‘'})\n",
    "\n",
    "\n",
    "# mysql password\n",
    "PASSWORD = \"password\"\n",
    "\n",
    "import nbimporter\n",
    "from Functions import process_text, add_sequential_index, process_label_text, remove_duplicates,classify_product_type, nan_info, plot_character_length, convert_to_years"
   ]
  },
  {
   "cell_type": "markdown",
   "id": "6ab5deb8-b58b-4467-9d41-e932713b15ec",
   "metadata": {},
   "source": [
    "# FDA Data"
   ]
  },
  {
   "cell_type": "markdown",
   "id": "f8914c2b-c2b1-4a5a-9283-a64859e3bc55",
   "metadata": {},
   "source": [
    "### API Request for Historical Text Documents"
   ]
  },
  {
   "cell_type": "markdown",
   "id": "7db161d9-9254-46be-8958-b43e089a41a9",
   "metadata": {},
   "source": [
    "https://open.fda.gov/apis/other/historicaldocument/"
   ]
  },
  {
   "cell_type": "code",
   "execution_count": 2,
   "id": "99271241-e99f-4868-b6e1-fe8ed7177bd6",
   "metadata": {},
   "outputs": [
    {
     "name": "stdout",
     "output_type": "stream",
     "text": [
      "Requesting data with params: {'limit': 1000, 'skip': 0}\n",
      "Response status code: 200\n"
     ]
    },
    {
     "data": {
      "text/html": [
       "<div>\n",
       "<style scoped>\n",
       "    .dataframe tbody tr th:only-of-type {\n",
       "        vertical-align: middle;\n",
       "    }\n",
       "\n",
       "    .dataframe tbody tr th {\n",
       "        vertical-align: top;\n",
       "    }\n",
       "\n",
       "    .dataframe thead th {\n",
       "        text-align: right;\n",
       "    }\n",
       "</style>\n",
       "<table border=\"1\" class=\"dataframe\">\n",
       "  <thead>\n",
       "    <tr style=\"text-align: right;\">\n",
       "      <th></th>\n",
       "      <th>doc_type</th>\n",
       "      <th>year</th>\n",
       "      <th>text</th>\n",
       "    </tr>\n",
       "  </thead>\n",
       "  <tbody>\n",
       "    <tr>\n",
       "      <th>0</th>\n",
       "      <td>pr</td>\n",
       "      <td>2006</td>\n",
       "      <td>FDA NEWS RELEASE\\nFOR IMMEDIATE RELEASE\\n\\nFeb...</td>\n",
       "    </tr>\n",
       "    <tr>\n",
       "      <th>1</th>\n",
       "      <td>pr</td>\n",
       "      <td>2006</td>\n",
       "      <td>FDA NEWS RELEASE\\nFOR IMMEDIATE RELEASE\\n\\nFeb...</td>\n",
       "    </tr>\n",
       "    <tr>\n",
       "      <th>2</th>\n",
       "      <td>talk</td>\n",
       "      <td>1991</td>\n",
       "      <td>I FOOD _-AND DRUG ADMINISTRATION ‘ 'i\\nU. S. D...</td>\n",
       "    </tr>\n",
       "    <tr>\n",
       "      <th>3</th>\n",
       "      <td>pr</td>\n",
       "      <td>1934</td>\n",
       "      <td>iNFORMATION FOR THE PRESS\\n\\nu 8. DEPARTMENT O...</td>\n",
       "    </tr>\n",
       "    <tr>\n",
       "      <th>4</th>\n",
       "      <td>pr</td>\n",
       "      <td>1975</td>\n",
       "      <td>\\n\\nU. S. DEPARTMENT OF HEALTH. EDUCATION. AN...</td>\n",
       "    </tr>\n",
       "  </tbody>\n",
       "</table>\n",
       "</div>"
      ],
      "text/plain": [
       "  doc_type  year                                               text\n",
       "0       pr  2006  FDA NEWS RELEASE\\nFOR IMMEDIATE RELEASE\\n\\nFeb...\n",
       "1       pr  2006  FDA NEWS RELEASE\\nFOR IMMEDIATE RELEASE\\n\\nFeb...\n",
       "2     talk  1991  I FOOD _-AND DRUG ADMINISTRATION ‘ 'i\\nU. S. D...\n",
       "3       pr  1934  iNFORMATION FOR THE PRESS\\n\\nu 8. DEPARTMENT O...\n",
       "4       pr  1975   \\n\\nU. S. DEPARTMENT OF HEALTH. EDUCATION. AN..."
      ]
     },
     "execution_count": 2,
     "metadata": {},
     "output_type": "execute_result"
    }
   ],
   "source": [
    "# OpenFDA API endpoint for fetching historical documents\n",
    "BASE_URL = 'https://api.fda.gov/other/historicaldocument.json'\n",
    "\n",
    "# Parameters for the API request\n",
    "params = {\n",
    "    'limit': 1000,  # Adjust the limit as needed\n",
    "    'skip': 0      # Starting point for fetching records\n",
    "}\n",
    "\n",
    "# Function to pause execution to avoid overwhelming the server\n",
    "def pause_execution():\n",
    "    time.sleep(5 + 10 * random.random())\n",
    "\n",
    "# Function to fetch data from the OpenFDA API\n",
    "def fetch_data(max_requests):\n",
    "    documents = []\n",
    "    request_count = 0  # Initialize request counter\n",
    "    \n",
    "    while request_count < max_requests:\n",
    "        response = requests.get(BASE_URL, params=params)\n",
    "        print(f\"Requesting data with params: {params}\")  # Debugging statement\n",
    "        print(f\"Response status code: {response.status_code}\")  # Debugging statement\n",
    "\n",
    "        if response.status_code != 200:\n",
    "            print(f\"Failed to fetch data: {response.status_code}\")  # Debugging statement\n",
    "            break\n",
    "        \n",
    "        data = response.json()\n",
    "        results = data.get('results', [])\n",
    "        if not results:\n",
    "            print(\"No more results found.\")  # Debugging statement\n",
    "            break\n",
    "\n",
    "        for item in results:\n",
    "            doc_type = item.get('doc_type', 'N/A')\n",
    "            year = item.get('year', 'N/A')\n",
    "            text = item.get('text', 'N/A')\n",
    "            document = {'doc_type': doc_type, 'year': year, 'text': text}\n",
    "            if document not in documents:\n",
    "                documents.append(document)\n",
    "        \n",
    "        params['skip'] += params['limit']\n",
    "        request_count += 1  # Increment request counter\n",
    "        pause_execution()\n",
    "\n",
    "    return documents\n",
    "\n",
    "# Fetch the data\n",
    "documents = fetch_data(max_requests=1)\n",
    "\n",
    "# Save the data to a CSV file\n",
    "documents_df = pd.DataFrame(documents)\n",
    "documents_df.head()"
   ]
  },
  {
   "cell_type": "code",
   "execution_count": 3,
   "id": "30bc1d7b-655c-4b0a-a0c9-47e60d38bf54",
   "metadata": {},
   "outputs": [
    {
     "name": "stdout",
     "output_type": "stream",
     "text": [
      "<class 'pandas.core.frame.DataFrame'>\n",
      "RangeIndex: 1000 entries, 0 to 999\n",
      "Data columns (total 3 columns):\n",
      " #   Column    Non-Null Count  Dtype \n",
      "---  ------    --------------  ----- \n",
      " 0   doc_type  1000 non-null   object\n",
      " 1   year      1000 non-null   int64 \n",
      " 2   text      1000 non-null   object\n",
      "dtypes: int64(1), object(2)\n",
      "memory usage: 23.6+ KB\n"
     ]
    }
   ],
   "source": [
    "documents_df.info()"
   ]
  },
  {
   "cell_type": "code",
   "execution_count": 4,
   "id": "760bafae-a246-4c00-9149-7aa518b4009f",
   "metadata": {},
   "outputs": [],
   "source": [
    "# Save csv file to data library\n",
    "#csv_file_path = 'DataLibrary/raw_documents.csv'\n",
    "#documents_df.to_csv(csv_file_path, index=False)\n",
    "\n",
    "# Save the data to a JSON file\n",
    "#json_file_path = 'DataLibrary/raw_documents.json'\n",
    "#with open(json_file_path, 'w') as json_file:\n",
    "#    json.dump(documents, json_file, indent=4)\n",
    "\n",
    "#print(f\"Data saved to {csv_file_path} and {json_file_path}\")"
   ]
  },
  {
   "cell_type": "markdown",
   "id": "a398846e-acd7-4731-a6c5-48fb2a8cfbbb",
   "metadata": {},
   "source": [
    "### API Request for Adverse Events Data"
   ]
  },
  {
   "cell_type": "markdown",
   "id": "75d63dbe-9698-47e6-aa5a-204e56014108",
   "metadata": {},
   "source": [
    "https://open.fda.gov/apis/drug/event/"
   ]
  },
  {
   "cell_type": "code",
   "execution_count": 5,
   "id": "8a8376e5-8ba0-4490-9ee7-bb2fa04705ae",
   "metadata": {},
   "outputs": [
    {
     "name": "stdout",
     "output_type": "stream",
     "text": [
      "Requesting data with params: {'limit': 1000, 'skip': 0}\n",
      "Response status code: 200\n",
      "Requesting data with params: {'limit': 1000, 'skip': 1000}\n",
      "Response status code: 200\n"
     ]
    },
    {
     "data": {
      "text/html": [
       "<div>\n",
       "<style scoped>\n",
       "    .dataframe tbody tr th:only-of-type {\n",
       "        vertical-align: middle;\n",
       "    }\n",
       "\n",
       "    .dataframe tbody tr th {\n",
       "        vertical-align: top;\n",
       "    }\n",
       "\n",
       "    .dataframe thead th {\n",
       "        text-align: right;\n",
       "    }\n",
       "</style>\n",
       "<table border=\"1\" class=\"dataframe\">\n",
       "  <thead>\n",
       "    <tr style=\"text-align: right;\">\n",
       "      <th></th>\n",
       "      <th>safetyreportid</th>\n",
       "      <th>transmissiondateformat</th>\n",
       "      <th>transmissiondate</th>\n",
       "      <th>serious</th>\n",
       "      <th>seriousnessdeath</th>\n",
       "      <th>receivedateformat</th>\n",
       "      <th>receivedate</th>\n",
       "      <th>receiptdateformat</th>\n",
       "      <th>receiptdate</th>\n",
       "      <th>fulfillexpeditecriteria</th>\n",
       "      <th>...</th>\n",
       "      <th>seriousnessother</th>\n",
       "      <th>occurcountry</th>\n",
       "      <th>patient.patientagegroup</th>\n",
       "      <th>seriousnesshospitalization</th>\n",
       "      <th>patient.summary.narrativeincludeclinical</th>\n",
       "      <th>seriousnesslifethreatening</th>\n",
       "      <th>patient.patientweight</th>\n",
       "      <th>primarysource.literaturereference</th>\n",
       "      <th>seriousnesscongenitalanomali</th>\n",
       "      <th>authoritynumb</th>\n",
       "    </tr>\n",
       "  </thead>\n",
       "  <tbody>\n",
       "    <tr>\n",
       "      <th>0</th>\n",
       "      <td>5801206-7</td>\n",
       "      <td>102</td>\n",
       "      <td>20090109</td>\n",
       "      <td>1</td>\n",
       "      <td>1</td>\n",
       "      <td>102</td>\n",
       "      <td>20080707</td>\n",
       "      <td>102</td>\n",
       "      <td>20080625</td>\n",
       "      <td>1</td>\n",
       "      <td>...</td>\n",
       "      <td>NaN</td>\n",
       "      <td>NaN</td>\n",
       "      <td>NaN</td>\n",
       "      <td>NaN</td>\n",
       "      <td>NaN</td>\n",
       "      <td>NaN</td>\n",
       "      <td>NaN</td>\n",
       "      <td>NaN</td>\n",
       "      <td>NaN</td>\n",
       "      <td>NaN</td>\n",
       "    </tr>\n",
       "    <tr>\n",
       "      <th>1</th>\n",
       "      <td>10003300</td>\n",
       "      <td>102</td>\n",
       "      <td>20141002</td>\n",
       "      <td>1</td>\n",
       "      <td>NaN</td>\n",
       "      <td>102</td>\n",
       "      <td>20140306</td>\n",
       "      <td>102</td>\n",
       "      <td>20140306</td>\n",
       "      <td>2</td>\n",
       "      <td>...</td>\n",
       "      <td>NaN</td>\n",
       "      <td>NaN</td>\n",
       "      <td>NaN</td>\n",
       "      <td>NaN</td>\n",
       "      <td>NaN</td>\n",
       "      <td>NaN</td>\n",
       "      <td>NaN</td>\n",
       "      <td>NaN</td>\n",
       "      <td>NaN</td>\n",
       "      <td>NaN</td>\n",
       "    </tr>\n",
       "    <tr>\n",
       "      <th>2</th>\n",
       "      <td>10003301</td>\n",
       "      <td>102</td>\n",
       "      <td>20141002</td>\n",
       "      <td>1</td>\n",
       "      <td>NaN</td>\n",
       "      <td>102</td>\n",
       "      <td>20140228</td>\n",
       "      <td>102</td>\n",
       "      <td>20140228</td>\n",
       "      <td>2</td>\n",
       "      <td>...</td>\n",
       "      <td>1</td>\n",
       "      <td>NaN</td>\n",
       "      <td>NaN</td>\n",
       "      <td>NaN</td>\n",
       "      <td>NaN</td>\n",
       "      <td>NaN</td>\n",
       "      <td>NaN</td>\n",
       "      <td>NaN</td>\n",
       "      <td>NaN</td>\n",
       "      <td>NaN</td>\n",
       "    </tr>\n",
       "    <tr>\n",
       "      <th>3</th>\n",
       "      <td>10003302</td>\n",
       "      <td>102</td>\n",
       "      <td>20141002</td>\n",
       "      <td>2</td>\n",
       "      <td>NaN</td>\n",
       "      <td>102</td>\n",
       "      <td>20140312</td>\n",
       "      <td>102</td>\n",
       "      <td>20140312</td>\n",
       "      <td>2</td>\n",
       "      <td>...</td>\n",
       "      <td>NaN</td>\n",
       "      <td>US</td>\n",
       "      <td>NaN</td>\n",
       "      <td>NaN</td>\n",
       "      <td>NaN</td>\n",
       "      <td>NaN</td>\n",
       "      <td>NaN</td>\n",
       "      <td>NaN</td>\n",
       "      <td>NaN</td>\n",
       "      <td>NaN</td>\n",
       "    </tr>\n",
       "    <tr>\n",
       "      <th>4</th>\n",
       "      <td>10003304</td>\n",
       "      <td>102</td>\n",
       "      <td>20141212</td>\n",
       "      <td>2</td>\n",
       "      <td>NaN</td>\n",
       "      <td>102</td>\n",
       "      <td>20140312</td>\n",
       "      <td>102</td>\n",
       "      <td>20140424</td>\n",
       "      <td>2</td>\n",
       "      <td>...</td>\n",
       "      <td>NaN</td>\n",
       "      <td>US</td>\n",
       "      <td>NaN</td>\n",
       "      <td>NaN</td>\n",
       "      <td>NaN</td>\n",
       "      <td>NaN</td>\n",
       "      <td>NaN</td>\n",
       "      <td>NaN</td>\n",
       "      <td>NaN</td>\n",
       "      <td>NaN</td>\n",
       "    </tr>\n",
       "  </tbody>\n",
       "</table>\n",
       "<p>5 rows × 42 columns</p>\n",
       "</div>"
      ],
      "text/plain": [
       "  safetyreportid transmissiondateformat transmissiondate serious  \\\n",
       "0      5801206-7                    102         20090109       1   \n",
       "1       10003300                    102         20141002       1   \n",
       "2       10003301                    102         20141002       1   \n",
       "3       10003302                    102         20141002       2   \n",
       "4       10003304                    102         20141212       2   \n",
       "\n",
       "  seriousnessdeath receivedateformat receivedate receiptdateformat  \\\n",
       "0                1               102    20080707               102   \n",
       "1              NaN               102    20140306               102   \n",
       "2              NaN               102    20140228               102   \n",
       "3              NaN               102    20140312               102   \n",
       "4              NaN               102    20140312               102   \n",
       "\n",
       "  receiptdate fulfillexpeditecriteria  ... seriousnessother  occurcountry  \\\n",
       "0    20080625                       1  ...              NaN           NaN   \n",
       "1    20140306                       2  ...              NaN           NaN   \n",
       "2    20140228                       2  ...                1           NaN   \n",
       "3    20140312                       2  ...              NaN            US   \n",
       "4    20140424                       2  ...              NaN            US   \n",
       "\n",
       "  patient.patientagegroup seriousnesshospitalization  \\\n",
       "0                     NaN                        NaN   \n",
       "1                     NaN                        NaN   \n",
       "2                     NaN                        NaN   \n",
       "3                     NaN                        NaN   \n",
       "4                     NaN                        NaN   \n",
       "\n",
       "  patient.summary.narrativeincludeclinical seriousnesslifethreatening  \\\n",
       "0                                      NaN                        NaN   \n",
       "1                                      NaN                        NaN   \n",
       "2                                      NaN                        NaN   \n",
       "3                                      NaN                        NaN   \n",
       "4                                      NaN                        NaN   \n",
       "\n",
       "  patient.patientweight primarysource.literaturereference  \\\n",
       "0                   NaN                               NaN   \n",
       "1                   NaN                               NaN   \n",
       "2                   NaN                               NaN   \n",
       "3                   NaN                               NaN   \n",
       "4                   NaN                               NaN   \n",
       "\n",
       "   seriousnesscongenitalanomali  authoritynumb  \n",
       "0                           NaN            NaN  \n",
       "1                           NaN            NaN  \n",
       "2                           NaN            NaN  \n",
       "3                           NaN            NaN  \n",
       "4                           NaN            NaN  \n",
       "\n",
       "[5 rows x 42 columns]"
      ]
     },
     "execution_count": 5,
     "metadata": {},
     "output_type": "execute_result"
    }
   ],
   "source": [
    "# OpenFDA API endpoint for fetching drug event data\n",
    "BASE_URL = 'https://api.fda.gov/drug/event.json'\n",
    "\n",
    "# Parameters for the API request\n",
    "params = {\n",
    "    'limit': 1000,  # Maximum limit per request\n",
    "    'skip': 0      # Starting point for fetching records\n",
    "}\n",
    "\n",
    "# Function to pause execution to avoid overwhelming the server\n",
    "def pause_execution():\n",
    "    time.sleep(5 + 10 * random.random())\n",
    "\n",
    "# Function to fetch data from the OpenFDA API\n",
    "def fetch_data(max_requests):\n",
    "    events = []\n",
    "    request_count = 0  # Initialize request counter\n",
    "    \n",
    "    while request_count < max_requests:\n",
    "        response = requests.get(BASE_URL, params=params)\n",
    "        print(f\"Requesting data with params: {params}\")  # Debugging statement\n",
    "        print(f\"Response status code: {response.status_code}\")  # Debugging statement\n",
    "\n",
    "        if response.status_code != 200:\n",
    "            print(f\"Failed to fetch data: {response.status_code}\")  # Debugging statement\n",
    "            break\n",
    "        \n",
    "        data = response.json()\n",
    "        results = data.get('results', [])\n",
    "        if not results:\n",
    "            print(\"No more results found.\")  # Debugging statement\n",
    "            break\n",
    "\n",
    "        for item in results:\n",
    "            events.append(item)\n",
    "        \n",
    "        params['skip'] += params['limit']\n",
    "        request_count += 1  # Increment request counter\n",
    "        pause_execution()\n",
    "\n",
    "    return events\n",
    "\n",
    "# Fetch the data\n",
    "events = fetch_data(max_requests=2)\n",
    "\n",
    "# Convert the data to a pandas DataFrame\n",
    "events_df = pd.json_normalize(events)\n",
    "\n",
    "# Display the first few rows of the DataFrame\n",
    "events_df.head()"
   ]
  },
  {
   "cell_type": "code",
   "execution_count": 6,
   "id": "71f5a1e5-8720-4984-9aec-838ffd456d1a",
   "metadata": {},
   "outputs": [
    {
     "name": "stdout",
     "output_type": "stream",
     "text": [
      "<class 'pandas.core.frame.DataFrame'>\n",
      "RangeIndex: 2000 entries, 0 to 1999\n",
      "Data columns (total 42 columns):\n",
      " #   Column                                       Non-Null Count  Dtype  \n",
      "---  ------                                       --------------  -----  \n",
      " 0   safetyreportid                               2000 non-null   object \n",
      " 1   transmissiondateformat                       2000 non-null   object \n",
      " 2   transmissiondate                             2000 non-null   object \n",
      " 3   serious                                      2000 non-null   object \n",
      " 4   seriousnessdeath                             145 non-null    object \n",
      " 5   receivedateformat                            2000 non-null   object \n",
      " 6   receivedate                                  2000 non-null   object \n",
      " 7   receiptdateformat                            2000 non-null   object \n",
      " 8   receiptdate                                  2000 non-null   object \n",
      " 9   fulfillexpeditecriteria                      2000 non-null   object \n",
      " 10  companynumb                                  2000 non-null   object \n",
      " 11  receiver                                     0 non-null      float64\n",
      " 12  primarysource.reportercountry                2000 non-null   object \n",
      " 13  primarysource.qualification                  1992 non-null   object \n",
      " 14  sender.senderorganization                    2000 non-null   object \n",
      " 15  patient.patientonsetage                      1318 non-null   object \n",
      " 16  patient.patientonsetageunit                  1318 non-null   object \n",
      " 17  patient.patientsex                           1988 non-null   object \n",
      " 18  patient.patientdeath.patientdeathdateformat  0 non-null      float64\n",
      " 19  patient.patientdeath.patientdeathdate        0 non-null      float64\n",
      " 20  patient.reaction                             2000 non-null   object \n",
      " 21  patient.drug                                 2000 non-null   object \n",
      " 22  safetyreportversion                          1999 non-null   object \n",
      " 23  primarysourcecountry                         1993 non-null   object \n",
      " 24  reporttype                                   1999 non-null   object \n",
      " 25  seriousnessdisabling                         35 non-null     object \n",
      " 26  duplicate                                    1998 non-null   object \n",
      " 27  reportduplicate.duplicatesource              1998 non-null   object \n",
      " 28  reportduplicate.duplicatenumb                1998 non-null   object \n",
      " 29  sender.sendertype                            1999 non-null   object \n",
      " 30  receiver.receivertype                        1999 non-null   object \n",
      " 31  receiver.receiverorganization                1999 non-null   object \n",
      " 32  seriousnessother                             578 non-null    object \n",
      " 33  occurcountry                                 1997 non-null   object \n",
      " 34  patient.patientagegroup                      452 non-null    object \n",
      " 35  seriousnesshospitalization                   340 non-null    object \n",
      " 36  patient.summary.narrativeincludeclinical     249 non-null    object \n",
      " 37  seriousnesslifethreatening                   28 non-null     object \n",
      " 38  patient.patientweight                        405 non-null    object \n",
      " 39  primarysource.literaturereference            3 non-null      object \n",
      " 40  seriousnesscongenitalanomali                 10 non-null     object \n",
      " 41  authoritynumb                                4 non-null      object \n",
      "dtypes: float64(3), object(39)\n",
      "memory usage: 656.4+ KB\n"
     ]
    }
   ],
   "source": [
    "events_df.info()"
   ]
  },
  {
   "cell_type": "markdown",
   "id": "82ed5d0a-6932-422b-818c-809de3c4aba7",
   "metadata": {},
   "source": [
    "#### Examine Variables of Interest"
   ]
  },
  {
   "cell_type": "code",
   "execution_count": 7,
   "id": "f3b06537-95e2-4c09-9888-894408943aae",
   "metadata": {},
   "outputs": [
    {
     "data": {
      "text/plain": [
       "2    1131\n",
       "1     869\n",
       "Name: fulfillexpeditecriteria, dtype: int64"
      ]
     },
     "execution_count": 7,
     "metadata": {},
     "output_type": "execute_result"
    }
   ],
   "source": [
    "# 2 - Yes, 1 - No\n",
    "events_df['fulfillexpeditecriteria'].value_counts()"
   ]
  },
  {
   "cell_type": "code",
   "execution_count": 8,
   "id": "26d92df4-8c20-4259-a8a4-1fc10b18bd7e",
   "metadata": {},
   "outputs": [
    {
     "data": {
      "text/plain": [
       "5    1084\n",
       "1     412\n",
       "3     288\n",
       "4     151\n",
       "2      57\n",
       "Name: primarysource.qualification, dtype: int64"
      ]
     },
     "execution_count": 8,
     "metadata": {},
     "output_type": "execute_result"
    }
   ],
   "source": [
    "# 5 - Consumer/NonHealth, 4 - Lawyer, 3 - Health Professional, 4 - Pharmacist, 5 - MD\n",
    "events_df['primarysource.qualification'].value_counts()"
   ]
  },
  {
   "cell_type": "code",
   "execution_count": 9,
   "id": "f2cbac3f-98fb-435f-803c-8b88c792ff46",
   "metadata": {},
   "outputs": [
    {
     "data": {
      "image/png": "[encoded data removed]",
      "text/plain": [
       "<Figure size 640x480 with 1 Axes>"
      ]
     },
     "metadata": {},
     "output_type": "display_data"
    }
   ],
   "source": [
    "# Distribution of Age\n",
    "plt.hist(events_df['patient.patientonsetage'].astype('float'))\n",
    "ticks = np.arange(0, 100, 5)  # Customize this range as needed\n",
    "plt.xticks(ticks)\n",
    "plt.xlabel('Age (years)')\n",
    "plt.ylabel('Frequency')\n",
    "plt.title('Age Distribution FAERS')\n",
    "plt.show()"
   ]
  },
  {
   "cell_type": "code",
   "execution_count": 10,
   "id": "84678b73-de8a-4233-b758-f38675279248",
   "metadata": {},
   "outputs": [
    {
     "data": {
      "text/plain": [
       "801    1313\n",
       "804       4\n",
       "802       1\n",
       "Name: patient.patientonsetageunit, dtype: int64"
      ]
     },
     "execution_count": 10,
     "metadata": {},
     "output_type": "execute_result"
    }
   ],
   "source": [
    "# Ages come in different units, need to standardize to years\n",
    "events_df['patient.patientonsetageunit'].value_counts()"
   ]
  },
  {
   "cell_type": "code",
   "execution_count": 11,
   "id": "2aff29e2-2df3-4575-929e-af3e5f0b3235",
   "metadata": {},
   "outputs": [
    {
     "data": {
      "text/plain": [
       "1     1040\n",
       "2      556\n",
       "3      337\n",
       "4       37\n",
       "5       10\n",
       "6        6\n",
       "7        6\n",
       "8        3\n",
       "9        2\n",
       "11       1\n",
       "12       1\n",
       "Name: safetyreportversion, dtype: int64"
      ]
     },
     "execution_count": 11,
     "metadata": {},
     "output_type": "execute_result"
    }
   ],
   "source": [
    "# Some reports have more than one version, retain most recent versions only\n",
    "events_df['safetyreportversion'].value_counts()"
   ]
  },
  {
   "cell_type": "code",
   "execution_count": 12,
   "id": "330c63e1-92ce-43d1-9e84-2c13853daa60",
   "metadata": {},
   "outputs": [
    {
     "data": {
      "text/plain": [
       "GILEAD                  458\n",
       "PFIZER                  320\n",
       "MERCK                   175\n",
       "INCYTE                  166\n",
       "ABBVIE                  160\n",
       "NOVARTIS                139\n",
       "BAXTER                   82\n",
       "GLAXOSMITHKLINE          75\n",
       "TEVA                     51\n",
       "BOEHRINGER INGELHEIM     47\n",
       "BAYER                    45\n",
       "SANDOZ                   32\n",
       "CELGENE                  29\n",
       "MYLAN                    29\n",
       "JANSSEN                  20\n",
       "LUNDBECK                 18\n",
       "WATSON                   18\n",
       "BRISTOL MYERS SQUIBB     15\n",
       "AVENTIS                  11\n",
       "GE HEALTHCARE            11\n",
       "AMGEN                    11\n",
       "ACTAVIS                   8\n",
       "ASTRAZENECA               7\n",
       "ALEXION                   7\n",
       "ROCHE                     6\n",
       "ACTELION                  6\n",
       "EMD SERONO INC            6\n",
       "ACORDA                    6\n",
       "FOREST                    6\n",
       "PURDUE                    4\n",
       "VERTEX                    4\n",
       "OTSUKA                    3\n",
       "CUBIST                    3\n",
       "ETHICON                   3\n",
       "PHARMACYCLICS             2\n",
       "JOHNSON AND JOHNSON       2\n",
       "TAKEDA                    2\n",
       "ELI LILLY AND CO          2\n",
       "ALLERGAN                  1\n",
       "ROXANE                    1\n",
       "EISAI                     1\n",
       "GENENTECH                 1\n",
       "MEDIMMUNE                 1\n",
       "SPECTRUM                  1\n",
       "EXELIXIS                  1\n",
       "VIROPHARMA                1\n",
       "BRACCO                    1\n",
       "Name: reportduplicate.duplicatesource, dtype: int64"
      ]
     },
     "execution_count": 12,
     "metadata": {},
     "output_type": "execute_result"
    }
   ],
   "source": [
    "# Can see manufacturers where most reports were and duplicated\n",
    "events_df['reportduplicate.duplicatesource'].value_counts()"
   ]
  },
  {
   "cell_type": "code",
   "execution_count": 13,
   "id": "35b086b8-eda2-46ac-bb47-19407f674d2b",
   "metadata": {},
   "outputs": [],
   "source": [
    "# Save the data to a JSON file\n",
    "#json_file_path = 'DataLibrary/raw_events.json'\n",
    "#with open(json_file_path, 'w') as json_file:\n",
    "#    json.dump(events, json_file, indent=4)\n",
    "\n",
    "# Save the data to a CSV file\n",
    "#csv_file_path = 'DataLibrary/raw_events.csv'\n",
    "#events_df.to_csv(csv_file_path, index=False)\n",
    "\n",
    "#print(f\"Data saved to {csv_file_path} and {json_file_path}\")"
   ]
  },
  {
   "cell_type": "markdown",
   "id": "e2904da9-a956-49a6-9bed-4c0a411be1e8",
   "metadata": {},
   "source": [
    "## API Request for Drug Labels"
   ]
  },
  {
   "cell_type": "markdown",
   "id": "26df3cbe-f2c2-46cc-b463-579209994d1a",
   "metadata": {},
   "source": [
    "https://open.fda.gov/apis/drug/label/"
   ]
  },
  {
   "cell_type": "code",
   "execution_count": 14,
   "id": "f5caa0e0-ba78-450c-a247-2e777e0a047c",
   "metadata": {},
   "outputs": [
    {
     "name": "stdout",
     "output_type": "stream",
     "text": [
      "Requesting data with params: {'limit': 1000, 'skip': 0}\n",
      "Response status code: 200\n",
      "Requesting data with params: {'limit': 1000, 'skip': 1000}\n",
      "Response status code: 200\n"
     ]
    },
    {
     "data": {
      "text/html": [
       "<div>\n",
       "<style scoped>\n",
       "    .dataframe tbody tr th:only-of-type {\n",
       "        vertical-align: middle;\n",
       "    }\n",
       "\n",
       "    .dataframe tbody tr th {\n",
       "        vertical-align: top;\n",
       "    }\n",
       "\n",
       "    .dataframe thead th {\n",
       "        text-align: right;\n",
       "    }\n",
       "</style>\n",
       "<table border=\"1\" class=\"dataframe\">\n",
       "  <thead>\n",
       "    <tr style=\"text-align: right;\">\n",
       "      <th></th>\n",
       "      <th>effective_time</th>\n",
       "      <th>inactive_ingredient</th>\n",
       "      <th>purpose</th>\n",
       "      <th>keep_out_of_reach_of_children</th>\n",
       "      <th>warnings</th>\n",
       "      <th>questions</th>\n",
       "      <th>spl_product_data_elements</th>\n",
       "      <th>version</th>\n",
       "      <th>dosage_and_administration</th>\n",
       "      <th>pregnancy_or_breast_feeding</th>\n",
       "      <th>...</th>\n",
       "      <th>components</th>\n",
       "      <th>intended_use_of_the_device</th>\n",
       "      <th>mechanism_of_action_table</th>\n",
       "      <th>general_precautions_table</th>\n",
       "      <th>drug_and_or_laboratory_test_interactions_table</th>\n",
       "      <th>accessories</th>\n",
       "      <th>ask_doctor_table</th>\n",
       "      <th>when_using_table</th>\n",
       "      <th>ask_doctor_or_pharmacist_table</th>\n",
       "      <th>do_not_use_table</th>\n",
       "    </tr>\n",
       "  </thead>\n",
       "  <tbody>\n",
       "    <tr>\n",
       "      <th>0</th>\n",
       "      <td>20210902</td>\n",
       "      <td>[INACTIVE INGREDIENTS Sucrose]</td>\n",
       "      <td>[USES USES: Temporary Relief - Acne, Boils* * ...</td>\n",
       "      <td>[Keep this and all medication out of reach of ...</td>\n",
       "      <td>[WARNINGS This product is to be used for self-...</td>\n",
       "      <td>[QUESTIONS OR COMMENTS www.Rxhomeo.com | 1.888...</td>\n",
       "      <td>[SILICEA SILICEA SUCROSE SILICON DIOXIDE SILIC...</td>\n",
       "      <td>2</td>\n",
       "      <td>[DOSAGE Adults- Take 4 or 6 Pellets by mouth, ...</td>\n",
       "      <td>[As with any drug, if you are pregnant, or nur...</td>\n",
       "      <td>...</td>\n",
       "      <td>NaN</td>\n",
       "      <td>NaN</td>\n",
       "      <td>NaN</td>\n",
       "      <td>NaN</td>\n",
       "      <td>NaN</td>\n",
       "      <td>NaN</td>\n",
       "      <td>NaN</td>\n",
       "      <td>NaN</td>\n",
       "      <td>NaN</td>\n",
       "      <td>NaN</td>\n",
       "    </tr>\n",
       "    <tr>\n",
       "      <th>1</th>\n",
       "      <td>20150109</td>\n",
       "      <td>[INGREDIENTS: TALC, POLYMETHYL METHACRYLATE, V...</td>\n",
       "      <td>[Purpose Sunscreen]</td>\n",
       "      <td>[Keep out of reach of children If product is s...</td>\n",
       "      <td>[Warnings For external use only.]</td>\n",
       "      <td>NaN</td>\n",
       "      <td>[CHANTECAILLE PROTECTION NATURELLE BRONZE SPF ...</td>\n",
       "      <td>4</td>\n",
       "      <td>[Directions Protection Naturelle SPF 46 PA+++ ...</td>\n",
       "      <td>NaN</td>\n",
       "      <td>...</td>\n",
       "      <td>NaN</td>\n",
       "      <td>NaN</td>\n",
       "      <td>NaN</td>\n",
       "      <td>NaN</td>\n",
       "      <td>NaN</td>\n",
       "      <td>NaN</td>\n",
       "      <td>NaN</td>\n",
       "      <td>NaN</td>\n",
       "      <td>NaN</td>\n",
       "      <td>NaN</td>\n",
       "    </tr>\n",
       "    <tr>\n",
       "      <th>2</th>\n",
       "      <td>20230802</td>\n",
       "      <td>[INACTIVE INGREDIENTS Sucrose/Lactose]</td>\n",
       "      <td>[USES To relieve the symptoms of itching.]</td>\n",
       "      <td>[KEEP OUT OF REACH OF CHILDREN Keep this and a...</td>\n",
       "      <td>[STOP USE AND ASK DOCTOR If symptoms persist/w...</td>\n",
       "      <td>NaN</td>\n",
       "      <td>[Mezereum DAPHNE MEZEREUM BARK SUCROSE LACTOSE...</td>\n",
       "      <td>3</td>\n",
       "      <td>[DIRECTIONS Adults: Dissolve 3 to 5 under the ...</td>\n",
       "      <td>NaN</td>\n",
       "      <td>...</td>\n",
       "      <td>NaN</td>\n",
       "      <td>NaN</td>\n",
       "      <td>NaN</td>\n",
       "      <td>NaN</td>\n",
       "      <td>NaN</td>\n",
       "      <td>NaN</td>\n",
       "      <td>NaN</td>\n",
       "      <td>NaN</td>\n",
       "      <td>NaN</td>\n",
       "      <td>NaN</td>\n",
       "    </tr>\n",
       "    <tr>\n",
       "      <th>3</th>\n",
       "      <td>20230905</td>\n",
       "      <td>NaN</td>\n",
       "      <td>NaN</td>\n",
       "      <td>NaN</td>\n",
       "      <td>[WARNINGS NOT FOR INJECTION. Ofloxacin ophthal...</td>\n",
       "      <td>NaN</td>\n",
       "      <td>[Ofloxacin Ofloxacin OFLOXACIN OFLOXACIN Sodiu...</td>\n",
       "      <td>7</td>\n",
       "      <td>[DOSAGE AND ADMINISTRATION The recommended dos...</td>\n",
       "      <td>NaN</td>\n",
       "      <td>...</td>\n",
       "      <td>NaN</td>\n",
       "      <td>NaN</td>\n",
       "      <td>NaN</td>\n",
       "      <td>NaN</td>\n",
       "      <td>NaN</td>\n",
       "      <td>NaN</td>\n",
       "      <td>NaN</td>\n",
       "      <td>NaN</td>\n",
       "      <td>NaN</td>\n",
       "      <td>NaN</td>\n",
       "    </tr>\n",
       "    <tr>\n",
       "      <th>4</th>\n",
       "      <td>20230403</td>\n",
       "      <td>NaN</td>\n",
       "      <td>NaN</td>\n",
       "      <td>NaN</td>\n",
       "      <td>NaN</td>\n",
       "      <td>NaN</td>\n",
       "      <td>[Naproxen Naproxen NAPROXEN NAPROXEN CROSCARME...</td>\n",
       "      <td>27</td>\n",
       "      <td>[2 DOSAGE AND ADMINISTRATION Use the lowest ef...</td>\n",
       "      <td>NaN</td>\n",
       "      <td>...</td>\n",
       "      <td>NaN</td>\n",
       "      <td>NaN</td>\n",
       "      <td>NaN</td>\n",
       "      <td>NaN</td>\n",
       "      <td>NaN</td>\n",
       "      <td>NaN</td>\n",
       "      <td>NaN</td>\n",
       "      <td>NaN</td>\n",
       "      <td>NaN</td>\n",
       "      <td>NaN</td>\n",
       "    </tr>\n",
       "  </tbody>\n",
       "</table>\n",
       "<p>5 rows × 140 columns</p>\n",
       "</div>"
      ],
      "text/plain": [
       "  effective_time                                inactive_ingredient  \\\n",
       "0       20210902                     [INACTIVE INGREDIENTS Sucrose]   \n",
       "1       20150109  [INGREDIENTS: TALC, POLYMETHYL METHACRYLATE, V...   \n",
       "2       20230802             [INACTIVE INGREDIENTS Sucrose/Lactose]   \n",
       "3       20230905                                                NaN   \n",
       "4       20230403                                                NaN   \n",
       "\n",
       "                                             purpose  \\\n",
       "0  [USES USES: Temporary Relief - Acne, Boils* * ...   \n",
       "1                                [Purpose Sunscreen]   \n",
       "2         [USES To relieve the symptoms of itching.]   \n",
       "3                                                NaN   \n",
       "4                                                NaN   \n",
       "\n",
       "                       keep_out_of_reach_of_children  \\\n",
       "0  [Keep this and all medication out of reach of ...   \n",
       "1  [Keep out of reach of children If product is s...   \n",
       "2  [KEEP OUT OF REACH OF CHILDREN Keep this and a...   \n",
       "3                                                NaN   \n",
       "4                                                NaN   \n",
       "\n",
       "                                            warnings  \\\n",
       "0  [WARNINGS This product is to be used for self-...   \n",
       "1                  [Warnings For external use only.]   \n",
       "2  [STOP USE AND ASK DOCTOR If symptoms persist/w...   \n",
       "3  [WARNINGS NOT FOR INJECTION. Ofloxacin ophthal...   \n",
       "4                                                NaN   \n",
       "\n",
       "                                           questions  \\\n",
       "0  [QUESTIONS OR COMMENTS www.Rxhomeo.com | 1.888...   \n",
       "1                                                NaN   \n",
       "2                                                NaN   \n",
       "3                                                NaN   \n",
       "4                                                NaN   \n",
       "\n",
       "                           spl_product_data_elements version  \\\n",
       "0  [SILICEA SILICEA SUCROSE SILICON DIOXIDE SILIC...       2   \n",
       "1  [CHANTECAILLE PROTECTION NATURELLE BRONZE SPF ...       4   \n",
       "2  [Mezereum DAPHNE MEZEREUM BARK SUCROSE LACTOSE...       3   \n",
       "3  [Ofloxacin Ofloxacin OFLOXACIN OFLOXACIN Sodiu...       7   \n",
       "4  [Naproxen Naproxen NAPROXEN NAPROXEN CROSCARME...      27   \n",
       "\n",
       "                           dosage_and_administration  \\\n",
       "0  [DOSAGE Adults- Take 4 or 6 Pellets by mouth, ...   \n",
       "1  [Directions Protection Naturelle SPF 46 PA+++ ...   \n",
       "2  [DIRECTIONS Adults: Dissolve 3 to 5 under the ...   \n",
       "3  [DOSAGE AND ADMINISTRATION The recommended dos...   \n",
       "4  [2 DOSAGE AND ADMINISTRATION Use the lowest ef...   \n",
       "\n",
       "                         pregnancy_or_breast_feeding  ... components  \\\n",
       "0  [As with any drug, if you are pregnant, or nur...  ...        NaN   \n",
       "1                                                NaN  ...        NaN   \n",
       "2                                                NaN  ...        NaN   \n",
       "3                                                NaN  ...        NaN   \n",
       "4                                                NaN  ...        NaN   \n",
       "\n",
       "  intended_use_of_the_device mechanism_of_action_table  \\\n",
       "0                        NaN                       NaN   \n",
       "1                        NaN                       NaN   \n",
       "2                        NaN                       NaN   \n",
       "3                        NaN                       NaN   \n",
       "4                        NaN                       NaN   \n",
       "\n",
       "  general_precautions_table drug_and_or_laboratory_test_interactions_table  \\\n",
       "0                       NaN                                            NaN   \n",
       "1                       NaN                                            NaN   \n",
       "2                       NaN                                            NaN   \n",
       "3                       NaN                                            NaN   \n",
       "4                       NaN                                            NaN   \n",
       "\n",
       "  accessories ask_doctor_table when_using_table  \\\n",
       "0         NaN              NaN              NaN   \n",
       "1         NaN              NaN              NaN   \n",
       "2         NaN              NaN              NaN   \n",
       "3         NaN              NaN              NaN   \n",
       "4         NaN              NaN              NaN   \n",
       "\n",
       "  ask_doctor_or_pharmacist_table do_not_use_table  \n",
       "0                            NaN              NaN  \n",
       "1                            NaN              NaN  \n",
       "2                            NaN              NaN  \n",
       "3                            NaN              NaN  \n",
       "4                            NaN              NaN  \n",
       "\n",
       "[5 rows x 140 columns]"
      ]
     },
     "execution_count": 14,
     "metadata": {},
     "output_type": "execute_result"
    }
   ],
   "source": [
    "# OpenFDA API endpoint for fetching drug label data\n",
    "BASE_URL = 'https://api.fda.gov/drug/label.json'\n",
    "\n",
    "# Parameters for the API request\n",
    "params = {\n",
    "    'limit': 1000,  # Maximum limit per request\n",
    "    'skip': 0      # Starting point for fetching records\n",
    "}\n",
    "\n",
    "# Function to pause execution to avoid overwhelming the server\n",
    "def pause_execution():\n",
    "    time.sleep(5 + 10 * random.random())\n",
    "\n",
    "# Function to fetch data from the OpenFDA API\n",
    "def fetch_data(max_requests):\n",
    "    labels = []\n",
    "    request_count = 0  # Initialize request counter\n",
    "    \n",
    "    while request_count < max_requests:\n",
    "        response = requests.get(BASE_URL, params=params)\n",
    "        print(f\"Requesting data with params: {params}\")  # Debugging statement\n",
    "        print(f\"Response status code: {response.status_code}\")  # Debugging statement\n",
    "\n",
    "        if response.status_code != 200:\n",
    "            print(f\"Failed to fetch data: {response.status_code}\")  # Debugging statement\n",
    "            break\n",
    "        \n",
    "        data = response.json()\n",
    "        results = data.get('results', [])\n",
    "        if not results:\n",
    "            print(\"No more results found.\")  # Debugging statement\n",
    "            break\n",
    "\n",
    "        for item in results:\n",
    "            labels.append(item)\n",
    "        \n",
    "        params['skip'] += params['limit']\n",
    "        request_count += 1  # Increment request counter\n",
    "        pause_execution()\n",
    "\n",
    "    return labels\n",
    "\n",
    "# Fetch the data\n",
    "labels = fetch_data(max_requests=2)\n",
    "\n",
    "# Convert the data to a pandas DataFrame\n",
    "labels_df = pd.json_normalize(labels)\n",
    "\n",
    "# Display the first few rows of the DataFrame\n",
    "labels_df.head()"
   ]
  },
  {
   "cell_type": "code",
   "execution_count": 15,
   "id": "f15f91d0-1643-4031-b87e-3ca6fc549084",
   "metadata": {},
   "outputs": [
    {
     "name": "stdout",
     "output_type": "stream",
     "text": [
      "<class 'pandas.core.frame.DataFrame'>\n",
      "RangeIndex: 2000 entries, 0 to 1999\n",
      "Data columns (total 140 columns):\n",
      " #    Column                                                            Non-Null Count  Dtype \n",
      "---   ------                                                            --------------  ----- \n",
      " 0    effective_time                                                    2000 non-null   object\n",
      " 1    inactive_ingredient                                               1218 non-null   object\n",
      " 2    purpose                                                           1190 non-null   object\n",
      " 3    keep_out_of_reach_of_children                                     1186 non-null   object\n",
      " 4    warnings                                                          1586 non-null   object\n",
      " 5    questions                                                         659 non-null    object\n",
      " 6    spl_product_data_elements                                         1999 non-null   object\n",
      " 7    version                                                           2000 non-null   object\n",
      " 8    dosage_and_administration                                         1933 non-null   object\n",
      " 9    pregnancy_or_breast_feeding                                       382 non-null    object\n",
      " 10   stop_use                                                          685 non-null    object\n",
      " 11   storage_and_handling                                              606 non-null    object\n",
      " 12   do_not_use                                                        524 non-null    object\n",
      " 13   package_label_principal_display_panel                             1998 non-null   object\n",
      " 14   indications_and_usage                                             1942 non-null   object\n",
      " 15   set_id                                                            2000 non-null   object\n",
      " 16   id                                                                2000 non-null   object\n",
      " 17   active_ingredient                                                 1208 non-null   object\n",
      " 18   openfda.brand_name                                                985 non-null    object\n",
      " 19   openfda.generic_name                                              985 non-null    object\n",
      " 20   openfda.manufacturer_name                                         985 non-null    object\n",
      " 21   openfda.product_ndc                                               985 non-null    object\n",
      " 22   openfda.product_type                                              985 non-null    object\n",
      " 23   openfda.route                                                     980 non-null    object\n",
      " 24   openfda.substance_name                                            975 non-null    object\n",
      " 25   openfda.spl_id                                                    985 non-null    object\n",
      " 26   openfda.spl_set_id                                                985 non-null    object\n",
      " 27   openfda.package_ndc                                               985 non-null    object\n",
      " 28   openfda.is_original_packager                                      736 non-null    object\n",
      " 29   openfda.upc                                                       324 non-null    object\n",
      " 30   openfda.unii                                                      975 non-null    object\n",
      " 31   when_using                                                        570 non-null    object\n",
      " 32   spl_unclassified_section                                          802 non-null    object\n",
      " 33   description                                                       791 non-null    object\n",
      " 34   clinical_pharmacology                                             744 non-null    object\n",
      " 35   clinical_pharmacology_table                                       233 non-null    object\n",
      " 36   pharmacokinetics                                                  410 non-null    object\n",
      " 37   microbiology                                                      49 non-null     object\n",
      " 38   microbiology_table                                                13 non-null     object\n",
      " 39   clinical_studies                                                  379 non-null    object\n",
      " 40   spl_unclassified_section_table                                    65 non-null     object\n",
      " 41   contraindications                                                 752 non-null    object\n",
      " 42   precautions                                                       421 non-null    object\n",
      " 43   general_precautions                                               233 non-null    object\n",
      " 44   information_for_patients                                          574 non-null    object\n",
      " 45   drug_interactions                                                 597 non-null    object\n",
      " 46   carcinogenesis_and_mutagenesis_and_impairment_of_fertility        534 non-null    object\n",
      " 47   pregnancy                                                         591 non-null    object\n",
      " 48   nonteratogenic_effects                                            45 non-null     object\n",
      " 49   nursing_mothers                                                   439 non-null    object\n",
      " 50   pediatric_use                                                     588 non-null    object\n",
      " 51   geriatric_use                                                     500 non-null    object\n",
      " 52   adverse_reactions                                                 769 non-null    object\n",
      " 53   dosage_and_administration_table                                   384 non-null    object\n",
      " 54   how_supplied                                                      760 non-null    object\n",
      " 55   recent_major_changes                                              160 non-null    object\n",
      " 56   boxed_warning                                                     300 non-null    object\n",
      " 57   dosage_forms_and_strengths                                        352 non-null    object\n",
      " 58   warnings_and_cautions                                             372 non-null    object\n",
      " 59   drug_interactions_table                                           100 non-null    object\n",
      " 60   use_in_specific_populations                                       342 non-null    object\n",
      " 61   overdosage                                                        707 non-null    object\n",
      " 62   mechanism_of_action                                               348 non-null    object\n",
      " 63   pharmacodynamics                                                  272 non-null    object\n",
      " 64   nonclinical_toxicology                                            326 non-null    object\n",
      " 65   spl_medguide                                                      184 non-null    object\n",
      " 66   spl_medguide_table                                                95 non-null     object\n",
      " 67   openfda.application_number                                        891 non-null    object\n",
      " 68   openfda.rxcui                                                     730 non-null    object\n",
      " 69   openfda.original_packager_product_ndc                             249 non-null    object\n",
      " 70   openfda.nui                                                       292 non-null    object\n",
      " 71   openfda.pharm_class_moa                                           107 non-null    object\n",
      " 72   openfda.pharm_class_cs                                            148 non-null    object\n",
      " 73   openfda.pharm_class_epc                                           275 non-null    object\n",
      " 74   openfda.pharm_class_pe                                            137 non-null    object\n",
      " 75   recent_major_changes_table                                        44 non-null     object\n",
      " 76   adverse_reactions_table                                           355 non-null    object\n",
      " 77   clinical_studies_table                                            227 non-null    object\n",
      " 78   spl_patient_package_insert                                        102 non-null    object\n",
      " 79   spl_patient_package_insert_table                                  41 non-null     object\n",
      " 80   instructions_for_use                                              65 non-null     object\n",
      " 81   instructions_for_use_table                                        13 non-null     object\n",
      " 82   drug_abuse_and_dependence                                         157 non-null    object\n",
      " 83   drug_and_or_laboratory_test_interactions                          83 non-null     object\n",
      " 84   how_supplied_table                                                113 non-null    object\n",
      " 85   laboratory_tests                                                  143 non-null    object\n",
      " 86   warnings_table                                                    44 non-null     object\n",
      " 87   use_in_specific_populations_table                                 15 non-null     object\n",
      " 88   pediatric_use_table                                               9 non-null      object\n",
      " 89   references                                                        130 non-null    object\n",
      " 90   teratogenic_effects                                               126 non-null    object\n",
      " 91   animal_pharmacology_and_or_toxicology                             85 non-null     object\n",
      " 92   ask_doctor                                                        428 non-null    object\n",
      " 93   ask_doctor_or_pharmacist                                          204 non-null    object\n",
      " 94   active_ingredient_table                                           34 non-null     object\n",
      " 95   purpose_table                                                     27 non-null     object\n",
      " 96   references_table                                                  2 non-null      object\n",
      " 97   labor_and_delivery                                                167 non-null    object\n",
      " 98   pharmacokinetics_table                                            132 non-null    object\n",
      " 99   other_safety_information                                          193 non-null    object\n",
      " 100  user_safety_warnings                                              11 non-null     object\n",
      " 101  drug_abuse_and_dependence_table                                   1 non-null      object\n",
      " 102  controlled_substance                                              69 non-null     object\n",
      " 103  dosage_forms_and_strengths_table                                  11 non-null     object\n",
      " 104  description_table                                                 42 non-null     object\n",
      " 105  precautions_table                                                 22 non-null     object\n",
      " 106  abuse                                                             67 non-null     object\n",
      " 107  geriatric_use_table                                               5 non-null      object\n",
      " 108  dependence                                                        71 non-null     object\n",
      " 109  pharmacodynamics_table                                            22 non-null     object\n",
      " 110  pharmacogenomics                                                  2 non-null      object\n",
      " 111  patient_medication_information                                    13 non-null     object\n",
      " 112  safe_handling_warning                                             6 non-null      object\n",
      " 113  route                                                             17 non-null     object\n",
      " 114  warnings_and_cautions_table                                       56 non-null     object\n",
      " 115  risks                                                             7 non-null      object\n",
      " 116  statement_of_identity                                             1 non-null      object\n",
      " 117  inactive_ingredient_table                                         1 non-null      object\n",
      " 118  indications_and_usage_table                                       8 non-null      object\n",
      " 119  animal_pharmacology_and_or_toxicology_table                       2 non-null      object\n",
      " 120  information_for_patients_table                                    11 non-null     object\n",
      " 121  package_label_principal_display_panel_table                       1 non-null      object\n",
      " 122  contraindications_table                                           4 non-null      object\n",
      " 123  nonclinical_toxicology_table                                      4 non-null      object\n",
      " 124  carcinogenesis_and_mutagenesis_and_impairment_of_fertility_table  3 non-null      object\n",
      " 125  information_for_owners_or_caregivers                              1 non-null      object\n",
      " 126  cleaning                                                          3 non-null      object\n",
      " 127  environmental_warning                                             2 non-null      object\n",
      " 128  patient_medication_information_table                              3 non-null      object\n",
      " 129  storage_and_handling_table                                        1 non-null      object\n",
      " 130  components                                                        1 non-null      object\n",
      " 131  intended_use_of_the_device                                        1 non-null      object\n",
      " 132  mechanism_of_action_table                                         1 non-null      object\n",
      " 133  general_precautions_table                                         2 non-null      object\n",
      " 134  drug_and_or_laboratory_test_interactions_table                    3 non-null      object\n",
      " 135  accessories                                                       1 non-null      object\n",
      " 136  ask_doctor_table                                                  1 non-null      object\n",
      " 137  when_using_table                                                  1 non-null      object\n",
      " 138  ask_doctor_or_pharmacist_table                                    1 non-null      object\n",
      " 139  do_not_use_table                                                  1 non-null      object\n",
      "dtypes: object(140)\n",
      "memory usage: 2.1+ MB\n"
     ]
    }
   ],
   "source": [
    "pd.set_option('display.max_info_columns', 140)\n",
    "labels_df.info()"
   ]
  },
  {
   "cell_type": "code",
   "execution_count": 16,
   "id": "4b584d98-b44a-4f41-98e2-236eb814eebe",
   "metadata": {},
   "outputs": [],
   "source": [
    "# Save the data to a JSON file\n",
    "#json_file_path = 'DataLibrary/raw_labels.json'\n",
    "#with open(json_file_path, 'w') as json_file:\n",
    "#    json.dump(labels, json_file, indent=4)\n",
    "\n",
    "# Save the data to a CSV file\n",
    "#csv_file_path = 'DataLibrary/raw_labels.csv'\n",
    "#labels_df.to_csv(csv_file_path, index=False)\n",
    "\n",
    "#print(f\"Data saved to {csv_file_path} and {json_file_path}\")"
   ]
  },
  {
   "cell_type": "markdown",
   "id": "43480a2a-0c5a-4188-9ae7-5c01020bf786",
   "metadata": {},
   "source": [
    "## National Library of Medicine - Standardized Drug Names and Information (maybe not needed)"
   ]
  },
  {
   "cell_type": "markdown",
   "id": "aeba4eaf-88b1-4629-8330-efa1a4877378",
   "metadata": {},
   "source": [
    "https://lhncbc.nlm.nih.gov/RxNav/APIs/RxNormAPIs.html"
   ]
  },
  {
   "cell_type": "markdown",
   "id": "dbe1f239-8f79-49b5-90ad-a94da9cecf8a",
   "metadata": {},
   "source": [
    "## API Request for RxNorm"
   ]
  },
  {
   "cell_type": "code",
   "execution_count": 17,
   "id": "6d03aafd-7f75-4e7d-80f6-61cc120b8524",
   "metadata": {},
   "outputs": [],
   "source": [
    "# Base URL for RxTerms API to get all drug names\n",
    "#BASE_URL = 'https://rxnav.nlm.nih.gov/REST/RxTerms/rxcui'\n",
    "\n",
    "# Function to pause execution to avoid overwhelming the server\n",
    "#def pause_execution():\n",
    "#    time.sleep(1 + 2 * random.random())\n",
    "\n",
    "# Function to fetch data from the RxTerms API\n",
    "#def fetch_data(max_requests):\n",
    "#    drugs = []\n",
    "#    start_rxcui = 1  # Starting RxCUI for the search\n",
    "#    step = 500      # Step size to iterate through RxCUIs\n",
    "#    request_count = 0  # Initialize request counter\n",
    "\n",
    "#    while request_count < max_requests:\n",
    "#        batch_drugs = []\n",
    "#        for i in range(start_rxcui, start_rxcui + step):\n",
    "#            url = f\"{BASE_URL}/{i}/allinfo.json\"\n",
    "#            response = requests.get(url)\n",
    "\n",
    "#            if response.status_code != 200:\n",
    "#                print(f\"Failed to fetch data: {response.status_code}\")  # Debugging statement\n",
    "#                continue\n",
    "\n",
    "#            if response.content.strip():  # Check if the response content is not empty\n",
    "#                data = response.json()\n",
    "#                properties = data.get('rxtermsProperties', {})\n",
    "\n",
    "#                if properties:\n",
    "#                    if properties.get('marketed', '').lower() == 'true':\n",
    "#                        properties['rxcui'] = i\n",
    "#                        batch_drugs.append(properties)\n",
    "\n",
    "#        drugs.extend(batch_drugs)  # Add the batch results to the main list\n",
    "#        print(f\"Processed batch starting with RxCUI: {start_rxcui}\")  # Debugging statement for each batch\n",
    "\n",
    "        # Update the start_rxcui for the next batch\n",
    " #       start_rxcui += step\n",
    "#      request_count += 1  # Increment request counter\n",
    "\n",
    "        # Break condition to stop if no more data in the batch\n",
    "#        if not batch_drugs:\n",
    "#            break\n",
    "\n",
    "#        pause_execution()\n",
    "\n",
    "#    return drugs\n",
    "\n",
    "# Fetch the data\n",
    "#drugs = fetch_data(max_requests=1)\n",
    "\n",
    "# Convert the data to a pandas DataFrame\n",
    "#drugs_df = pd.DataFrame(drugs)\n",
    "\n",
    "# Display the first few rows of the DataFrame\n",
    "#drugs_df.head()"
   ]
  },
  {
   "cell_type": "code",
   "execution_count": 18,
   "id": "1eddf171-e936-4c49-b499-164be604ca8d",
   "metadata": {},
   "outputs": [],
   "source": [
    "# Save the data to a JSON file\n",
    "#json_file_path = 'DataLibrary/rxterms_drugs.json'\n",
    "#with open(json_file_path, 'w') as json_file:\n",
    "#    json.dump(drugs, json_file, indent=4)\n",
    "\n",
    "# Save the data to a CSV file\n",
    "#csv_file_path = 'DataLibrary/rxterms_drugs.csv'\n",
    "#drugs_df.to_csv(csv_file_path, index=False)\n",
    "\n",
    "#print(f\"Data saved to {csv_file_path} and {json_file_path}\")"
   ]
  },
  {
   "cell_type": "markdown",
   "id": "bd3412b1-ecea-46b3-9e33-a5515f19ba13",
   "metadata": {},
   "source": [
    "## ADReCS Database for Standardized Drug and Side Effect Labeling"
   ]
  },
  {
   "cell_type": "code",
   "execution_count": 19,
   "id": "494897fd-c7e4-4746-af65-b72c1d4d1c59",
   "metadata": {},
   "outputs": [],
   "source": [
    "# load in static files, store in github folder or add to database if too large"
   ]
  },
  {
   "cell_type": "markdown",
   "id": "bd220fd5-7ee8-496c-afd6-78294f2d89f1",
   "metadata": {},
   "source": [
    "## Medicaid Drug Prices - 2024 Report - API \n",
    "\n",
    "https://data.medicaid.gov/dataset/99315a95-37ac-4eee-946a-3c523b4c481e#data-table"
   ]
  },
  {
   "cell_type": "code",
   "execution_count": 20,
   "id": "883e2498-2976-40a6-a6c9-2d5dbef06060",
   "metadata": {},
   "outputs": [
    {
     "name": "stdout",
     "output_type": "stream",
     "text": [
      "Requesting data with offset: 0\n",
      "Response status code: 200\n",
      "Fetched 500 records. Total so far: 500\n",
      "Requesting data with offset: 500\n",
      "Response status code: 200\n",
      "Fetched 500 records. Total so far: 1000\n",
      "Total records fetched: 1000\n"
     ]
    }
   ],
   "source": [
    "# Base URL for the Medicaid API for NADAC data\n",
    "BASE_URL = 'https://data.medicaid.gov/api/1/datastore/sql'\n",
    "\n",
    "# Initial SQL query to fetch data with a limit of 500 and initial offset 0\n",
    "# Queries 2024 Database\n",
    "query_template = '[SELECT * FROM f3b5cf6b-07cc-5f75-8d7b-0a1090b3f7e9][LIMIT 500 OFFSET {}]'\n",
    "\n",
    "# Function to pause execution to avoid overwhelming the server\n",
    "def pause_execution():\n",
    "    # Pause execution for a random time between 1 and 3 seconds to avoid hitting the server too hard\n",
    "    time.sleep(1 + 2 * random.random())\n",
    "\n",
    "# Function to fetch data from the Medicaid API in batches\n",
    "def fetch_nadac_data():\n",
    "    all_data = []  # Initialize an empty list to store all fetched data\n",
    "    offset = 0  # Starting offset for pagination\n",
    "    max_requests = 2  # Maximum number of requests to fetch 1000 records\n",
    "    \n",
    "    for _ in range(max_requests):  # Loop to fetch data in batches\n",
    "        # Modify the query to include the current offset for pagination\n",
    "        query = query_template.format(offset)\n",
    "        params = {'query': query}  # Set the parameters for the API request\n",
    "\n",
    "        response = requests.get(BASE_URL, params=params)  # Send the request to the API\n",
    "        print(f\"Requesting data with offset: {offset}\")  # Debugging statement to show current offset\n",
    "        print(f\"Response status code: {response.status_code}\")  # Debugging statement to show response status\n",
    "\n",
    "        if response.status_code != 200:  # Check if the request was unsuccessful\n",
    "            print(f\"Failed to fetch data: {response.status_code}\")  # Debugging statement for error status\n",
    "            try:\n",
    "                error_details = response.json()\n",
    "                print(f\"Error message: {error_details.get('message', 'No message provided')}\")  # Print the error message\n",
    "                print(f\"Error details: {error_details.get('data', 'No additional data provided')}\")  # Print additional error details\n",
    "            except ValueError:\n",
    "                print(\"Failed to decode JSON error response.\")  # Debugging statement for JSON error\n",
    "            break  # Exit the loop if there was an error\n",
    "\n",
    "        try:\n",
    "            data = response.json()  # Parse the response JSON\n",
    "            #print(f\"Raw response data: {data}\")  # Debugging statement to show raw response data\n",
    "            \n",
    "            if not isinstance(data, list):  # Check if the response is an array\n",
    "                print(\"Expected a list but got a different structure.\")\n",
    "                break\n",
    "\n",
    "            if not data:  # Check if the list is empty\n",
    "                print(\"No more results found.\")  # Debugging statement to indicate no more data\n",
    "                break  # Exit the loop if no more data is found\n",
    "\n",
    "            all_data.extend(data)  # Append the fetched data to the main list\n",
    "            offset += len(data)  # Increment the offset by the number of records fetched\n",
    "            print(f\"Fetched {len(data)} records. Total so far: {len(all_data)}\")  # Debugging statement to show fetched data count\n",
    "        except ValueError:  # Handle any JSON decoding errors\n",
    "            print(\"Failed to decode JSON response.\")  # Debugging statement for JSON error\n",
    "            break  # Exit the loop if there was an error decoding JSON\n",
    "        \n",
    "        pause_execution()  # Pause before the next request to avoid overwhelming the server\n",
    "\n",
    "    return all_data  # Return the collected data\n",
    "\n",
    "# Fetch the data\n",
    "prices = fetch_nadac_data()\n",
    "\n",
    "# Convert the data to a pandas DataFrame\n",
    "prices_df = pd.DataFrame(prices)\n",
    "\n",
    "# Display the first few rows of the DataFrame\n",
    "prices_df.head()\n",
    "print(f\"Total records fetched: {len(prices_df)}\")  # Debugging statement"
   ]
  },
  {
   "cell_type": "code",
   "execution_count": 21,
   "id": "033a2dd3-7137-48b3-b0c9-569a813b121b",
   "metadata": {},
   "outputs": [
    {
     "name": "stdout",
     "output_type": "stream",
     "text": [
      "<class 'pandas.core.frame.DataFrame'>\n",
      "RangeIndex: 1000 entries, 0 to 999\n",
      "Data columns (total 12 columns):\n",
      " #   Column                                     Non-Null Count  Dtype \n",
      "---  ------                                     --------------  ----- \n",
      " 0   NDC Description                            1000 non-null   object\n",
      " 1   NDC                                        1000 non-null   object\n",
      " 2   NADAC_Per_Unit                             1000 non-null   object\n",
      " 3   Effective Date                             1000 non-null   object\n",
      " 4   Pricing_Unit                               1000 non-null   object\n",
      " 5   Pharmacy_Type_Indicator                    1000 non-null   object\n",
      " 6   OTC                                        1000 non-null   object\n",
      " 7   Explanation_Code                           1000 non-null   object\n",
      " 8   Classification_for_Rate_Setting            1000 non-null   object\n",
      " 9   Corresponding_Generic_Drug_NADAC_Per_Unit  1000 non-null   object\n",
      " 10  Corresponding_Generic_Drug_Effective_Date  1000 non-null   object\n",
      " 11  As of Date                                 1000 non-null   object\n",
      "dtypes: object(12)\n",
      "memory usage: 93.9+ KB\n"
     ]
    }
   ],
   "source": [
    "prices_df.info()"
   ]
  },
  {
   "cell_type": "code",
   "execution_count": 22,
   "id": "0819a2a3-896e-48a8-98c7-bf609de957d6",
   "metadata": {},
   "outputs": [
    {
     "data": {
      "text/html": [
       "<div>\n",
       "<style scoped>\n",
       "    .dataframe tbody tr th:only-of-type {\n",
       "        vertical-align: middle;\n",
       "    }\n",
       "\n",
       "    .dataframe tbody tr th {\n",
       "        vertical-align: top;\n",
       "    }\n",
       "\n",
       "    .dataframe thead th {\n",
       "        text-align: right;\n",
       "    }\n",
       "</style>\n",
       "<table border=\"1\" class=\"dataframe\">\n",
       "  <thead>\n",
       "    <tr style=\"text-align: right;\">\n",
       "      <th></th>\n",
       "      <th>NDC Description</th>\n",
       "      <th>NDC</th>\n",
       "      <th>NADAC_Per_Unit</th>\n",
       "      <th>Effective Date</th>\n",
       "      <th>Pricing_Unit</th>\n",
       "      <th>Pharmacy_Type_Indicator</th>\n",
       "      <th>OTC</th>\n",
       "      <th>Explanation_Code</th>\n",
       "      <th>Classification_for_Rate_Setting</th>\n",
       "      <th>Corresponding_Generic_Drug_NADAC_Per_Unit</th>\n",
       "      <th>Corresponding_Generic_Drug_Effective_Date</th>\n",
       "      <th>As of Date</th>\n",
       "    </tr>\n",
       "  </thead>\n",
       "  <tbody>\n",
       "    <tr>\n",
       "      <th>0</th>\n",
       "      <td>12HR NASAL DECONGEST ER 120 MG</td>\n",
       "      <td>24385005452</td>\n",
       "      <td>0.28255</td>\n",
       "      <td>2022-12-21</td>\n",
       "      <td>EA</td>\n",
       "      <td>C/I</td>\n",
       "      <td>Y</td>\n",
       "      <td>1</td>\n",
       "      <td>G</td>\n",
       "      <td></td>\n",
       "      <td></td>\n",
       "      <td>2023-01-04</td>\n",
       "    </tr>\n",
       "    <tr>\n",
       "      <th>1</th>\n",
       "      <td>12HR NASAL DECONGEST ER 120 MG</td>\n",
       "      <td>70000047501</td>\n",
       "      <td>0.28255</td>\n",
       "      <td>2022-12-21</td>\n",
       "      <td>EA</td>\n",
       "      <td>C/I</td>\n",
       "      <td>Y</td>\n",
       "      <td>1</td>\n",
       "      <td>G</td>\n",
       "      <td></td>\n",
       "      <td></td>\n",
       "      <td>2023-01-04</td>\n",
       "    </tr>\n",
       "    <tr>\n",
       "      <th>2</th>\n",
       "      <td>24H NASAL ALLERGY 55 MCG SPRAY</td>\n",
       "      <td>46122038576</td>\n",
       "      <td>0.78326</td>\n",
       "      <td>2022-12-21</td>\n",
       "      <td>ML</td>\n",
       "      <td>C/I</td>\n",
       "      <td>Y</td>\n",
       "      <td>1, 5</td>\n",
       "      <td>G</td>\n",
       "      <td></td>\n",
       "      <td></td>\n",
       "      <td>2023-01-04</td>\n",
       "    </tr>\n",
       "    <tr>\n",
       "      <th>3</th>\n",
       "      <td>24HR ALLERGY(LEVOCETIRZN) 5 MG</td>\n",
       "      <td>70000036201</td>\n",
       "      <td>0.15365</td>\n",
       "      <td>2022-12-21</td>\n",
       "      <td>EA</td>\n",
       "      <td>C/I</td>\n",
       "      <td>Y</td>\n",
       "      <td>1</td>\n",
       "      <td>G</td>\n",
       "      <td></td>\n",
       "      <td></td>\n",
       "      <td>2023-01-04</td>\n",
       "    </tr>\n",
       "    <tr>\n",
       "      <th>4</th>\n",
       "      <td>24HR ALLERGY(LEVOCETIRZN) 5 MG</td>\n",
       "      <td>70000036202</td>\n",
       "      <td>0.15365</td>\n",
       "      <td>2022-12-21</td>\n",
       "      <td>EA</td>\n",
       "      <td>C/I</td>\n",
       "      <td>Y</td>\n",
       "      <td>1</td>\n",
       "      <td>G</td>\n",
       "      <td></td>\n",
       "      <td></td>\n",
       "      <td>2023-01-04</td>\n",
       "    </tr>\n",
       "  </tbody>\n",
       "</table>\n",
       "</div>"
      ],
      "text/plain": [
       "                  NDC Description          NDC NADAC_Per_Unit Effective Date  \\\n",
       "0  12HR NASAL DECONGEST ER 120 MG  24385005452        0.28255     2022-12-21   \n",
       "1  12HR NASAL DECONGEST ER 120 MG  70000047501        0.28255     2022-12-21   \n",
       "2  24H NASAL ALLERGY 55 MCG SPRAY  46122038576        0.78326     2022-12-21   \n",
       "3  24HR ALLERGY(LEVOCETIRZN) 5 MG  70000036201        0.15365     2022-12-21   \n",
       "4  24HR ALLERGY(LEVOCETIRZN) 5 MG  70000036202        0.15365     2022-12-21   \n",
       "\n",
       "  Pricing_Unit Pharmacy_Type_Indicator OTC Explanation_Code  \\\n",
       "0           EA                     C/I   Y                1   \n",
       "1           EA                     C/I   Y                1   \n",
       "2           ML                     C/I   Y             1, 5   \n",
       "3           EA                     C/I   Y                1   \n",
       "4           EA                     C/I   Y                1   \n",
       "\n",
       "  Classification_for_Rate_Setting Corresponding_Generic_Drug_NADAC_Per_Unit  \\\n",
       "0                               G                                             \n",
       "1                               G                                             \n",
       "2                               G                                             \n",
       "3                               G                                             \n",
       "4                               G                                             \n",
       "\n",
       "  Corresponding_Generic_Drug_Effective_Date  As of Date  \n",
       "0                                            2023-01-04  \n",
       "1                                            2023-01-04  \n",
       "2                                            2023-01-04  \n",
       "3                                            2023-01-04  \n",
       "4                                            2023-01-04  "
      ]
     },
     "execution_count": 22,
     "metadata": {},
     "output_type": "execute_result"
    }
   ],
   "source": [
    "prices_df.head()"
   ]
  },
  {
   "cell_type": "markdown",
   "id": "beaa326d-b48f-412a-9384-c4f30938b708",
   "metadata": {},
   "source": [
    "# Preprocess Documents Table"
   ]
  },
  {
   "cell_type": "markdown",
   "id": "7082dd45-8099-4de1-b082-afc342bdb4c6",
   "metadata": {},
   "source": [
    "### Select Columns"
   ]
  },
  {
   "cell_type": "code",
   "execution_count": 23,
   "id": "be501f18-de78-491f-ba9f-924c56c04f99",
   "metadata": {},
   "outputs": [],
   "source": [
    "documents_table = pd.DataFrame(documents_df, columns=[\"doc_type\", \"year\", \"text\"])"
   ]
  },
  {
   "cell_type": "markdown",
   "id": "a0351f59-ad50-4315-8fd1-25b1778f10d0",
   "metadata": {},
   "source": [
    "### Fix Dtypes"
   ]
  },
  {
   "cell_type": "code",
   "execution_count": 24,
   "id": "933cbb6f-670a-4ee3-ba92-3ba51d7fedc2",
   "metadata": {},
   "outputs": [],
   "source": [
    "#n/a"
   ]
  },
  {
   "cell_type": "markdown",
   "id": "9a732943-9701-4717-a91d-a9673c365481",
   "metadata": {},
   "source": [
    "### Text Processing"
   ]
  },
  {
   "cell_type": "code",
   "execution_count": 25,
   "id": "c4f6621c-3ded-4fe2-b371-121e766d02f8",
   "metadata": {},
   "outputs": [],
   "source": [
    "documents_table['text_processed'] = documents_table['text'].apply(lambda x: process_text(x))\n",
    "documents_table.drop(columns=['text'], inplace=True)"
   ]
  },
  {
   "cell_type": "markdown",
   "id": "d64a9338-a31e-4c98-92e3-7a72e85f879d",
   "metadata": {},
   "source": [
    "### Feature Engineering"
   ]
  },
  {
   "cell_type": "code",
   "execution_count": 65,
   "id": "74bc18aa-9a7f-4ff6-bb1a-36a392d26342",
   "metadata": {},
   "outputs": [],
   "source": [
    "documents_table = add_sequential_index(documents_table,'doc_id')"
   ]
  },
  {
   "cell_type": "markdown",
   "id": "ad3a3ca8-fa52-4237-871d-d130534648f8",
   "metadata": {},
   "source": [
    "### Assess Text Field Lengths"
   ]
  },
  {
   "cell_type": "code",
   "execution_count": 66,
   "id": "6baaac81-6268-4739-93ce-1fa1ba4bb3e6",
   "metadata": {},
   "outputs": [
    {
     "data": {
      "image/png": "[encoded data removed]",
      "text/plain": [
       "<Figure size 800x1200 with 1 Axes>"
      ]
     },
     "metadata": {},
     "output_type": "display_data"
    },
    {
     "name": "stdout",
     "output_type": "stream",
     "text": [
      "\n",
      "Descriptive Statistics on Character Length:\n",
      "                 count      mean          std    min      25%     50%     75%  \\\n",
      "doc_type        1000.0     2.366     0.773720    2.0     2.00     2.0     2.0   \n",
      "text_processed  1000.0  3645.679  3300.544468  229.0  1966.75  2900.0  4086.5   \n",
      "\n",
      "                    max  \n",
      "doc_type            4.0  \n",
      "text_processed  48812.0  \n"
     ]
    }
   ],
   "source": [
    "plot_character_length(documents_table, 'documents_table')"
   ]
  },
  {
   "cell_type": "markdown",
   "id": "9ae4b044-e8e0-45b2-abb9-3d2d2d69baa3",
   "metadata": {},
   "source": [
    "# PreProcess Events Table"
   ]
  },
  {
   "cell_type": "markdown",
   "id": "43f8b089-fe61-429f-bcaa-e1cf407518ff",
   "metadata": {},
   "source": [
    "#### Select Columns"
   ]
  },
  {
   "cell_type": "code",
   "execution_count": 28,
   "id": "75bc693d-5c4c-4d15-b030-70c62faa0172",
   "metadata": {},
   "outputs": [],
   "source": [
    "events_table = pd.DataFrame(events_df, \n",
    "                            columns = [\"safetyreportid\", #case report number\n",
    "                                        \"transmissiondate\", # date the record was created\n",
    "                                        \"serious\", # seriousness - 1 = result in death, lifethreatening,hospital,etc. 2 = not in the above\n",
    "                                        \"fulfillexpeditecriteria\",  # 1 - Yes, 2 - No\n",
    "                                        \"primarysource.qualification\",  # 1-MD, 2-Pharmacist, 3-Health Prof, 4-Lawyer, 5-Consumer/NonHealth\n",
    "                                        \"safetyreportversion\",  # Indicates updated reports, with 1 being first, and increasing numbers as new \n",
    "                                        \"companynumb\",  # Company making report\n",
    "                                        #\"seriousnessdeath\", # 1 = death, redundant with serious\n",
    "                                        #  \"receivedateformat\", #always YYYYMMDD\n",
    "                                        #  \"receivedate\", #date report received by FDA\n",
    "                                        \"primarysource.reportercountry\", # country of the reporter of this event\n",
    "                                        \"patient.patientonsetage\", # age of patient when event occured\n",
    "                                        \"patient.patientonsetageunit\",  # 801: Y, 802: M, 803: W, 804: D, 805: H \n",
    "                                        \"patient.patientsex\", # sex of patient. 0=unknown, 1=male, 2=female\n",
    "                                        \"patient.reaction\", # Dictionary list - expanded as seperate table\n",
    "                                        \"patient.drug\", # Dictionary list - expanded as separate table\n",
    "                                        # \"patient.patientagegroup\", #1 = neonate, 2 = infant, 3=child, 4=adolescent, 5=adult, 6=elderly\n",
    "                                        # \"patient.patientweight\", # weight in kg\n",
    "                                        # \"seriousnesscongentialanomali\", # 1 if congenital anomaly (fetal abnormality),absent otherwise\n",
    "                                        # \"authoritynumb\", #regulatory authority case #\n",
    "                                        # \"reportduplicate\"\n",
    "                                      ])"
   ]
  },
  {
   "cell_type": "code",
   "execution_count": 29,
   "id": "3b404501-32b7-416a-abd7-1f622369fa18",
   "metadata": {},
   "outputs": [
    {
     "data": {
      "text/html": [
       "<div>\n",
       "<style scoped>\n",
       "    .dataframe tbody tr th:only-of-type {\n",
       "        vertical-align: middle;\n",
       "    }\n",
       "\n",
       "    .dataframe tbody tr th {\n",
       "        vertical-align: top;\n",
       "    }\n",
       "\n",
       "    .dataframe thead th {\n",
       "        text-align: right;\n",
       "    }\n",
       "</style>\n",
       "<table border=\"1\" class=\"dataframe\">\n",
       "  <thead>\n",
       "    <tr style=\"text-align: right;\">\n",
       "      <th></th>\n",
       "      <th>safetyreportid</th>\n",
       "      <th>transmissiondate</th>\n",
       "      <th>serious</th>\n",
       "      <th>fulfillexpeditecriteria</th>\n",
       "      <th>primarysource.qualification</th>\n",
       "      <th>safetyreportversion</th>\n",
       "      <th>companynumb</th>\n",
       "      <th>primarysource.reportercountry</th>\n",
       "      <th>patient.patientonsetage</th>\n",
       "      <th>patient.patientonsetageunit</th>\n",
       "      <th>patient.patientsex</th>\n",
       "      <th>patient.reaction</th>\n",
       "      <th>patient.drug</th>\n",
       "    </tr>\n",
       "  </thead>\n",
       "  <tbody>\n",
       "    <tr>\n",
       "      <th>0</th>\n",
       "      <td>5801206-7</td>\n",
       "      <td>20090109</td>\n",
       "      <td>1</td>\n",
       "      <td>1</td>\n",
       "      <td>3</td>\n",
       "      <td>NaN</td>\n",
       "      <td>JACAN16471</td>\n",
       "      <td>CANADA</td>\n",
       "      <td>26</td>\n",
       "      <td>801</td>\n",
       "      <td>1</td>\n",
       "      <td>[{'reactionmeddrapt': 'DRUG ADMINISTRATION ERR...</td>\n",
       "      <td>[{'drugcharacterization': '1', 'medicinalprodu...</td>\n",
       "    </tr>\n",
       "  </tbody>\n",
       "</table>\n",
       "</div>"
      ],
      "text/plain": [
       "  safetyreportid transmissiondate serious fulfillexpeditecriteria  \\\n",
       "0      5801206-7         20090109       1                       1   \n",
       "\n",
       "  primarysource.qualification safetyreportversion companynumb  \\\n",
       "0                           3                 NaN  JACAN16471   \n",
       "\n",
       "  primarysource.reportercountry patient.patientonsetage  \\\n",
       "0                        CANADA                      26   \n",
       "\n",
       "  patient.patientonsetageunit patient.patientsex  \\\n",
       "0                         801                  1   \n",
       "\n",
       "                                    patient.reaction  \\\n",
       "0  [{'reactionmeddrapt': 'DRUG ADMINISTRATION ERR...   \n",
       "\n",
       "                                        patient.drug  \n",
       "0  [{'drugcharacterization': '1', 'medicinalprodu...  "
      ]
     },
     "execution_count": 29,
     "metadata": {},
     "output_type": "execute_result"
    }
   ],
   "source": [
    "events_table.head(1)"
   ]
  },
  {
   "cell_type": "markdown",
   "id": "dc51b3ad-fdd5-47fd-8953-c3771bae341f",
   "metadata": {},
   "source": [
    "#### Fix Dtypes"
   ]
  },
  {
   "cell_type": "code",
   "execution_count": 30,
   "id": "99879ad3-b352-4e1d-8c24-cccf8e6349d1",
   "metadata": {},
   "outputs": [
    {
     "name": "stdout",
     "output_type": "stream",
     "text": [
      "<class 'pandas.core.frame.DataFrame'>\n",
      "RangeIndex: 2000 entries, 0 to 1999\n",
      "Data columns (total 13 columns):\n",
      " #   Column                         Non-Null Count  Dtype         \n",
      "---  ------                         --------------  -----         \n",
      " 0   safetyreportid                 2000 non-null   object        \n",
      " 1   transmissiondate               2000 non-null   datetime64[ns]\n",
      " 2   serious                        2000 non-null   int64         \n",
      " 3   fulfillexpeditecriteria        2000 non-null   int64         \n",
      " 4   primarysource.qualification    1992 non-null   Int64         \n",
      " 5   safetyreportversion            1999 non-null   Int64         \n",
      " 6   companynumb                    2000 non-null   object        \n",
      " 7   primarysource.reportercountry  2000 non-null   object        \n",
      " 8   patient.patientonsetage        1318 non-null   Int64         \n",
      " 9   patient.patientonsetageunit    1318 non-null   Int64         \n",
      " 10  patient.patientsex             1988 non-null   Int64         \n",
      " 11  patient.reaction               2000 non-null   object        \n",
      " 12  patient.drug                   2000 non-null   object        \n",
      "dtypes: Int64(5), datetime64[ns](1), int64(2), object(5)\n",
      "memory usage: 213.0+ KB\n"
     ]
    }
   ],
   "source": [
    "events_table['transmissiondate'] = pd.to_datetime(events_table['transmissiondate'], format='%Y%m%d')\n",
    "events_table['serious'] = events_table['serious'].astype(int)\n",
    "events_table['fulfillexpeditecriteria'] = events_table['fulfillexpeditecriteria'].astype(int)\n",
    "\n",
    "events_table['primarysource.qualification'].replace({np.nan: None}, inplace=True)\n",
    "events_table['primarysource.qualification'] = events_table['primarysource.qualification'].astype(pd.Int64Dtype())\n",
    "\n",
    "events_table['safetyreportversion'].replace({np.nan: None}, inplace=True)\n",
    "events_table['safetyreportversion'] = events_table['safetyreportversion'].astype(pd.Int64Dtype())\n",
    "\n",
    "\n",
    "events_table['patient.patientonsetage'].replace({np.nan: None}, inplace=True)\n",
    "events_table['patient.patientonsetage'] = events_table['patient.patientonsetage'].astype(pd.Int64Dtype())\n",
    "\n",
    "events_table['patient.patientonsetageunit'].replace({np.nan: None}, inplace=True)\n",
    "events_table['patient.patientonsetageunit'] = events_table['patient.patientonsetageunit'].astype(pd.Int64Dtype())\n",
    "\n",
    "events_table['patient.patientsex'].replace({np.nan: None}, inplace=True)\n",
    "events_table['patient.patientsex'] = events_table['patient.patientsex'].astype(pd.Int64Dtype())\n",
    "\n",
    "events_table.info()"
   ]
  },
  {
   "cell_type": "markdown",
   "id": "40e0e6e2-6328-4a67-875a-d08ba2e9f606",
   "metadata": {},
   "source": [
    "### Standardize Age"
   ]
  },
  {
   "cell_type": "code",
   "execution_count": 31,
   "id": "f99d282f-2088-49d7-af45-b18b21dcf5d3",
   "metadata": {},
   "outputs": [
    {
     "data": {
      "text/html": [
       "<div>\n",
       "<style scoped>\n",
       "    .dataframe tbody tr th:only-of-type {\n",
       "        vertical-align: middle;\n",
       "    }\n",
       "\n",
       "    .dataframe tbody tr th {\n",
       "        vertical-align: top;\n",
       "    }\n",
       "\n",
       "    .dataframe thead th {\n",
       "        text-align: right;\n",
       "    }\n",
       "</style>\n",
       "<table border=\"1\" class=\"dataframe\">\n",
       "  <thead>\n",
       "    <tr style=\"text-align: right;\">\n",
       "      <th></th>\n",
       "      <th>safetyreportid</th>\n",
       "      <th>transmissiondate</th>\n",
       "      <th>serious</th>\n",
       "      <th>fulfillexpeditecriteria</th>\n",
       "      <th>primarysource.qualification</th>\n",
       "      <th>safetyreportversion</th>\n",
       "      <th>companynumb</th>\n",
       "      <th>primarysource.reportercountry</th>\n",
       "      <th>patient.patientonsetage</th>\n",
       "      <th>patient.patientonsetageunit</th>\n",
       "      <th>patient.patientsex</th>\n",
       "      <th>patient.reaction</th>\n",
       "      <th>patient.drug</th>\n",
       "    </tr>\n",
       "  </thead>\n",
       "  <tbody>\n",
       "    <tr>\n",
       "      <th>0</th>\n",
       "      <td>5801206-7</td>\n",
       "      <td>2009-01-09</td>\n",
       "      <td>1</td>\n",
       "      <td>1</td>\n",
       "      <td>3</td>\n",
       "      <td>&lt;NA&gt;</td>\n",
       "      <td>JACAN16471</td>\n",
       "      <td>CANADA</td>\n",
       "      <td>26.0</td>\n",
       "      <td>801</td>\n",
       "      <td>1</td>\n",
       "      <td>[{'reactionmeddrapt': 'DRUG ADMINISTRATION ERR...</td>\n",
       "      <td>[{'drugcharacterization': '1', 'medicinalprodu...</td>\n",
       "    </tr>\n",
       "  </tbody>\n",
       "</table>\n",
       "</div>"
      ],
      "text/plain": [
       "  safetyreportid transmissiondate  serious  fulfillexpeditecriteria  \\\n",
       "0      5801206-7       2009-01-09        1                        1   \n",
       "\n",
       "   primarysource.qualification  safetyreportversion companynumb  \\\n",
       "0                            3                 <NA>  JACAN16471   \n",
       "\n",
       "  primarysource.reportercountry  patient.patientonsetage  \\\n",
       "0                        CANADA                     26.0   \n",
       "\n",
       "   patient.patientonsetageunit  patient.patientsex  \\\n",
       "0                          801                   1   \n",
       "\n",
       "                                    patient.reaction  \\\n",
       "0  [{'reactionmeddrapt': 'DRUG ADMINISTRATION ERR...   \n",
       "\n",
       "                                        patient.drug  \n",
       "0  [{'drugcharacterization': '1', 'medicinalprodu...  "
      ]
     },
     "execution_count": 31,
     "metadata": {},
     "output_type": "execute_result"
    }
   ],
   "source": [
    "events_table['patient.patientonsetage'] = events_table.apply(lambda row: convert_to_years(row['patient.patientonsetage'], row['patient.patientonsetageunit']), axis=1)\n",
    "events_table.head(1)"
   ]
  },
  {
   "cell_type": "markdown",
   "id": "afe872e4-f779-4aa5-b5f3-7170c75b7da1",
   "metadata": {},
   "source": [
    "### Feature Engineering"
   ]
  },
  {
   "cell_type": "code",
   "execution_count": 64,
   "id": "63cc3bfd-3f50-4d50-b7cc-b4f702fd46d0",
   "metadata": {},
   "outputs": [],
   "source": [
    "events_table = add_sequential_index(events_table,'event_id')\n",
    "\n",
    "# Save 1 as death, life threatening, hospitalization, disability, congenital anomaly, or serious condition, 0 as not that\n",
    "events_table['serious'] = events_table['serious'].replace({1: 0, 2: 1})"
   ]
  },
  {
   "cell_type": "markdown",
   "id": "61d411c8-3356-40b9-a89a-9f711aad9892",
   "metadata": {},
   "source": [
    "### Check for Report Duplicates"
   ]
  },
  {
   "cell_type": "code",
   "execution_count": 67,
   "id": "63f0f14b-3072-4570-a8b7-3e087107fa04",
   "metadata": {},
   "outputs": [
    {
     "name": "stdout",
     "output_type": "stream",
     "text": [
      "Duplicates:  0\n"
     ]
    }
   ],
   "source": [
    "# Check for safety report # duplicates\n",
    "duplicates = events_table.duplicated(subset=['safetyreportid']).sum()\n",
    "\n",
    "print(\"Duplicates: \", duplicates) "
   ]
  },
  {
   "cell_type": "markdown",
   "id": "3736f0bd-b15e-476c-bce1-0ec92333f97c",
   "metadata": {},
   "source": [
    "### Examine and Handle Nulls"
   ]
  },
  {
   "cell_type": "code",
   "execution_count": 69,
   "id": "a80b313c-d99f-42e2-8467-7b0df8f2bc07",
   "metadata": {},
   "outputs": [
    {
     "data": {
      "text/html": [
       "<div>\n",
       "<style scoped>\n",
       "    .dataframe tbody tr th:only-of-type {\n",
       "        vertical-align: middle;\n",
       "    }\n",
       "\n",
       "    .dataframe tbody tr th {\n",
       "        vertical-align: top;\n",
       "    }\n",
       "\n",
       "    .dataframe thead th {\n",
       "        text-align: right;\n",
       "    }\n",
       "</style>\n",
       "<table border=\"1\" class=\"dataframe\">\n",
       "  <thead>\n",
       "    <tr style=\"text-align: right;\">\n",
       "      <th></th>\n",
       "      <th>column_name</th>\n",
       "      <th>null_count</th>\n",
       "      <th>null_proportion</th>\n",
       "    </tr>\n",
       "  </thead>\n",
       "  <tbody>\n",
       "    <tr>\n",
       "      <th>0</th>\n",
       "      <td>event_id</td>\n",
       "      <td>0</td>\n",
       "      <td>0.000000</td>\n",
       "    </tr>\n",
       "    <tr>\n",
       "      <th>1</th>\n",
       "      <td>event_id</td>\n",
       "      <td>0</td>\n",
       "      <td>0.000000</td>\n",
       "    </tr>\n",
       "    <tr>\n",
       "      <th>2</th>\n",
       "      <td>safetyreportid</td>\n",
       "      <td>0</td>\n",
       "      <td>0.000000</td>\n",
       "    </tr>\n",
       "    <tr>\n",
       "      <th>3</th>\n",
       "      <td>transmissiondate</td>\n",
       "      <td>0</td>\n",
       "      <td>0.000000</td>\n",
       "    </tr>\n",
       "    <tr>\n",
       "      <th>4</th>\n",
       "      <td>serious</td>\n",
       "      <td>0</td>\n",
       "      <td>0.000000</td>\n",
       "    </tr>\n",
       "    <tr>\n",
       "      <th>5</th>\n",
       "      <td>fulfillexpeditecriteria</td>\n",
       "      <td>0</td>\n",
       "      <td>0.000000</td>\n",
       "    </tr>\n",
       "    <tr>\n",
       "      <th>6</th>\n",
       "      <td>primarysource.qualification</td>\n",
       "      <td>0</td>\n",
       "      <td>0.000000</td>\n",
       "    </tr>\n",
       "    <tr>\n",
       "      <th>7</th>\n",
       "      <td>safetyreportversion</td>\n",
       "      <td>1</td>\n",
       "      <td>0.132100</td>\n",
       "    </tr>\n",
       "    <tr>\n",
       "      <th>8</th>\n",
       "      <td>companynumb</td>\n",
       "      <td>0</td>\n",
       "      <td>0.000000</td>\n",
       "    </tr>\n",
       "    <tr>\n",
       "      <th>9</th>\n",
       "      <td>country</td>\n",
       "      <td>0</td>\n",
       "      <td>0.000000</td>\n",
       "    </tr>\n",
       "    <tr>\n",
       "      <th>10</th>\n",
       "      <td>patient.patientonsetage</td>\n",
       "      <td>232</td>\n",
       "      <td>30.647292</td>\n",
       "    </tr>\n",
       "    <tr>\n",
       "      <th>11</th>\n",
       "      <td>patient.patientonsetageunit</td>\n",
       "      <td>232</td>\n",
       "      <td>30.647292</td>\n",
       "    </tr>\n",
       "    <tr>\n",
       "      <th>12</th>\n",
       "      <td>sex</td>\n",
       "      <td>0</td>\n",
       "      <td>0.000000</td>\n",
       "    </tr>\n",
       "    <tr>\n",
       "      <th>13</th>\n",
       "      <td>reaction</td>\n",
       "      <td>0</td>\n",
       "      <td>0.000000</td>\n",
       "    </tr>\n",
       "    <tr>\n",
       "      <th>14</th>\n",
       "      <td>drug</td>\n",
       "      <td>0</td>\n",
       "      <td>0.000000</td>\n",
       "    </tr>\n",
       "  </tbody>\n",
       "</table>\n",
       "</div>"
      ],
      "text/plain": [
       "                    column_name  null_count  null_proportion\n",
       "0                      event_id           0         0.000000\n",
       "1                      event_id           0         0.000000\n",
       "2                safetyreportid           0         0.000000\n",
       "3              transmissiondate           0         0.000000\n",
       "4                       serious           0         0.000000\n",
       "5       fulfillexpeditecriteria           0         0.000000\n",
       "6   primarysource.qualification           0         0.000000\n",
       "7           safetyreportversion           1         0.132100\n",
       "8                   companynumb           0         0.000000\n",
       "9                       country           0         0.000000\n",
       "10      patient.patientonsetage         232        30.647292\n",
       "11  patient.patientonsetageunit         232        30.647292\n",
       "12                          sex           0         0.000000\n",
       "13                     reaction           0         0.000000\n",
       "14                         drug           0         0.000000"
      ]
     },
     "execution_count": 69,
     "metadata": {},
     "output_type": "execute_result"
    }
   ],
   "source": [
    "events_nan = nan_info(events_table)\n",
    "events_nan\n",
    "\n",
    "sex_value_counts = events_table['sex'].value_counts()\n",
    "print(sex_value_counts)\n",
    "\n",
    "#For sex, 0=unknown, 1=male, 2=female. fill missing values with 0.\n",
    "events_table['sex'] = events_table['sex'].fillna(0)"
   ]
  },
  {
   "cell_type": "markdown",
   "id": "fe478661-d70f-4123-9288-0a4221fa7ba3",
   "metadata": {},
   "source": [
    "### Rename Columns"
   ]
  },
  {
   "cell_type": "code",
   "execution_count": 32,
   "id": "a32d8ee9-02e4-420c-bfa5-0aadd7c1ff02",
   "metadata": {},
   "outputs": [
    {
     "name": "stdout",
     "output_type": "stream",
     "text": [
      "Duplicates:  0\n",
      "2    1184\n",
      "1     618\n",
      "0     186\n",
      "Name: sex, dtype: Int64\n"
     ]
    },
    {
     "data": {
      "text/html": [
       "<div>\n",
       "<style scoped>\n",
       "    .dataframe tbody tr th:only-of-type {\n",
       "        vertical-align: middle;\n",
       "    }\n",
       "\n",
       "    .dataframe tbody tr th {\n",
       "        vertical-align: top;\n",
       "    }\n",
       "\n",
       "    .dataframe thead th {\n",
       "        text-align: right;\n",
       "    }\n",
       "</style>\n",
       "<table border=\"1\" class=\"dataframe\">\n",
       "  <thead>\n",
       "    <tr style=\"text-align: right;\">\n",
       "      <th></th>\n",
       "      <th>event_id</th>\n",
       "      <th>safetyreportversion</th>\n",
       "    </tr>\n",
       "  </thead>\n",
       "  <tbody>\n",
       "    <tr>\n",
       "      <th>0</th>\n",
       "      <td>1</td>\n",
       "      <td>&lt;NA&gt;</td>\n",
       "    </tr>\n",
       "    <tr>\n",
       "      <th>1</th>\n",
       "      <td>2</td>\n",
       "      <td>1</td>\n",
       "    </tr>\n",
       "    <tr>\n",
       "      <th>2</th>\n",
       "      <td>3</td>\n",
       "      <td>1</td>\n",
       "    </tr>\n",
       "    <tr>\n",
       "      <th>3</th>\n",
       "      <td>4</td>\n",
       "      <td>1</td>\n",
       "    </tr>\n",
       "    <tr>\n",
       "      <th>4</th>\n",
       "      <td>5</td>\n",
       "      <td>2</td>\n",
       "    </tr>\n",
       "  </tbody>\n",
       "</table>\n",
       "</div>"
      ],
      "text/plain": [
       "   event_id  safetyreportversion\n",
       "0         1                 <NA>\n",
       "1         2                    1\n",
       "2         3                    1\n",
       "3         4                    1\n",
       "4         5                    2"
      ]
     },
     "execution_count": 32,
     "metadata": {},
     "output_type": "execute_result"
    }
   ],
   "source": [
    "\n",
    "# Rename some columns\n",
    "events_table = events_table.rename(columns={\n",
    "    'primarysource.reportercountry': 'country',\n",
    "    'patient.patientsex': 'sex',\n",
    "    'patient.reaction': 'reaction',\n",
    "    'patient.drug': 'drug'\n",
    "})\n"
   ]
  },
  {
   "cell_type": "markdown",
   "id": "eda82ff7-e3b8-4f2f-9ad9-62a1a992aa4b",
   "metadata": {},
   "source": [
    "### Filter Events for Quality Data\n",
    "* Remove events that have consumer and lawyer reports\n",
    "* Keep only latest version of reports - commented out for now, not sure if newer reports override older ones, since there is only one version per event"
   ]
  },
  {
   "cell_type": "code",
   "execution_count": 33,
   "id": "f0e085f8-b70c-4847-9ed9-2cf21ab16f0b",
   "metadata": {},
   "outputs": [
    {
     "data": {
      "text/plain": [
       "(757, 14)"
      ]
     },
     "execution_count": 33,
     "metadata": {},
     "output_type": "execute_result"
    }
   ],
   "source": [
    "# Drop NaN values in 'primarysource.qualification'\n",
    "events_table.dropna(subset=['primarysource.qualification'], inplace=True)\n",
    "\n",
    "# Convert 'primarysource.qualification' to integer\n",
    "events_table['primarysource.qualification'] = events_table['primarysource.qualification'].astype(int)\n",
    "\n",
    "# Filter out values 4 and 5\n",
    "events_table = events_table[~events_table['primarysource.qualification'].isin([4, 5])]\n",
    "\n",
    "events_table.shape"
   ]
  },
  {
   "cell_type": "code",
   "execution_count": 34,
   "id": "667db3e7-4612-4681-b66c-89cc8b301743",
   "metadata": {},
   "outputs": [],
   "source": [
    "#Commented this out, since each singular event has one associated report. Not sure if newer reports just override the old ones\n",
    "\n",
    "# Keep latest version of reports only\n",
    "# Group by report_id and get the index of the maximum safetyreportversion for each group\n",
    "# Filter the DataFrame to keep only the rows with the latest version of each report\n",
    "\n",
    "\n",
    "#events_table['safetyreportversion'] = events_table['safetyreportversion'].fillna(0)\n",
    "#events_table['safetyreportversion'] = events_table['safetyreportversion'].astype(int)\n",
    "#events_table = events_table.loc[events_table.groupby('event_id')['safetyreportversion'].idxmax()]\n",
    "#events_table.shape()\n",
    "\n",
    "# Make sure latest report numbers are retained\n",
    "# events_join['safetyreportversion'].head(50)"
   ]
  },
  {
   "cell_type": "markdown",
   "id": "db74d03c-2aec-4999-b2e9-0dacbf65fc6c",
   "metadata": {},
   "source": [
    "### Examine Variables in Reaction Nested Dataframe - Multiple Reaction Reports for Each Symptom for Each Person"
   ]
  },
  {
   "cell_type": "code",
   "execution_count": 35,
   "id": "b958d041-3fe3-42cf-94ea-036ae928691d",
   "metadata": {},
   "outputs": [],
   "source": [
    "test_record = events_table['reaction'].loc[events_table['event_id'] == 2000]\n",
    "# Patient Reaction is an array containing:\n",
    "    # reactionmeddrapt: Patient reaction, as a MedDRA term. \n",
    "    # reactionmeddraversionpt: The version of MedDRA from which the term in reactionmeddrapt is drawn.\n",
    "    # reactionoutcome: Outcome of the reaction in reactionmeddrapt at the time of last observation.\n",
    "        # 1= Recovered/resolved, 2=recovering/resolving, 3 = Not recovered/not resolved, 4=Recovered/resolved with consequent health issues\n",
    "        # 5 = fatal, 6 = Unknown\n",
    "\n",
    "# First, want to individualzie these fields. Will actually save these as a NEW table, called PatientReactions"
   ]
  },
  {
   "cell_type": "code",
   "execution_count": 36,
   "id": "d19e07bc-fe5e-4952-97f6-de927ebfc89c",
   "metadata": {},
   "outputs": [
    {
     "name": "stdout",
     "output_type": "stream",
     "text": [
      "1999    [{'reactionmeddraversionpt': '17.0', 'reactionmeddrapt': 'Tremor', 'reactionoutcome': '3'}, {'reactionmeddraversionpt': '17.0', 'reactionmeddrapt': 'Muscle disorder', 'reactionoutcome': '3'}, {'reactionmeddraversionpt': '17.0', 'reactionmeddrapt': 'Injection site erythema', 'reactionoutcome': '3'}]\n",
      "Name: reaction, dtype: object\n"
     ]
    }
   ],
   "source": [
    "# Set pandas option to display full content of columns\n",
    "pd.set_option('display.max_colwidth', None)\n",
    "print(test_record)"
   ]
  },
  {
   "cell_type": "markdown",
   "id": "2ce23bcd-537c-49c3-a164-9f3884f1e6fd",
   "metadata": {},
   "source": [
    "### Make new table for PatientDrugs - nested dataframe"
   ]
  },
  {
   "cell_type": "code",
   "execution_count": 37,
   "id": "3db28f0b-8ad9-4d1d-800b-4e7e0ec9ee8b",
   "metadata": {},
   "outputs": [
    {
     "data": {
      "text/html": [
       "<div>\n",
       "<style scoped>\n",
       "    .dataframe tbody tr th:only-of-type {\n",
       "        vertical-align: middle;\n",
       "    }\n",
       "\n",
       "    .dataframe tbody tr th {\n",
       "        vertical-align: top;\n",
       "    }\n",
       "\n",
       "    .dataframe thead th {\n",
       "        text-align: right;\n",
       "    }\n",
       "</style>\n",
       "<table border=\"1\" class=\"dataframe\">\n",
       "  <thead>\n",
       "    <tr style=\"text-align: right;\">\n",
       "      <th></th>\n",
       "      <th>event_id</th>\n",
       "      <th>drugcharacterization</th>\n",
       "      <th>medicinalproduct</th>\n",
       "      <th>drugauthorizationnumb</th>\n",
       "      <th>drugadministrationroute</th>\n",
       "      <th>drugindication</th>\n",
       "      <th>drugdosagetext</th>\n",
       "      <th>actiondrug</th>\n",
       "      <th>openfda.application_number</th>\n",
       "      <th>openfda.brand_name</th>\n",
       "      <th>...</th>\n",
       "      <th>drugrecurreadministration</th>\n",
       "      <th>drugenddateformat</th>\n",
       "      <th>drugenddate</th>\n",
       "      <th>drugbatchnumb</th>\n",
       "      <th>drugseparatedosagenumb</th>\n",
       "      <th>drugintervaldosageunitnumb</th>\n",
       "      <th>drugintervaldosagedefinition</th>\n",
       "      <th>drugcumulativedosagenumb</th>\n",
       "      <th>drugcumulativedosageunit</th>\n",
       "      <th>drugadditional</th>\n",
       "    </tr>\n",
       "  </thead>\n",
       "  <tbody>\n",
       "    <tr>\n",
       "      <th>2867</th>\n",
       "      <td>1997</td>\n",
       "      <td>1</td>\n",
       "      <td>OXALIPLATIN</td>\n",
       "      <td>NaN</td>\n",
       "      <td>065</td>\n",
       "      <td>COLORECTAL CANCER</td>\n",
       "      <td>NaN</td>\n",
       "      <td>5</td>\n",
       "      <td>[ANDA207325, ANDA203869, ANDA207474, ANDA204616, ANDA217348, ANDA078803, ANDA204368, ANDA078817, ANDA078813, ANDA091358, NDA021759, NDA022160, ANDA207562, ANDA078811, ANDA205529, ANDA207385]</td>\n",
       "      <td>[OXALIPLATIN]</td>\n",
       "      <td>...</td>\n",
       "      <td>NaN</td>\n",
       "      <td>NaN</td>\n",
       "      <td>NaN</td>\n",
       "      <td>NaN</td>\n",
       "      <td>NaN</td>\n",
       "      <td>NaN</td>\n",
       "      <td>NaN</td>\n",
       "      <td>NaN</td>\n",
       "      <td>NaN</td>\n",
       "      <td>NaN</td>\n",
       "    </tr>\n",
       "    <tr>\n",
       "      <th>2868</th>\n",
       "      <td>1998</td>\n",
       "      <td>1</td>\n",
       "      <td>ENDOXAN-1G</td>\n",
       "      <td>012142</td>\n",
       "      <td>065</td>\n",
       "      <td>PLASMA CELL MYELOMA</td>\n",
       "      <td>3 TO 4 G/M2 ON DAY 0</td>\n",
       "      <td>NaN</td>\n",
       "      <td>NaN</td>\n",
       "      <td>NaN</td>\n",
       "      <td>...</td>\n",
       "      <td>NaN</td>\n",
       "      <td>NaN</td>\n",
       "      <td>NaN</td>\n",
       "      <td>NaN</td>\n",
       "      <td>NaN</td>\n",
       "      <td>NaN</td>\n",
       "      <td>NaN</td>\n",
       "      <td>NaN</td>\n",
       "      <td>NaN</td>\n",
       "      <td>NaN</td>\n",
       "    </tr>\n",
       "    <tr>\n",
       "      <th>2869</th>\n",
       "      <td>1998</td>\n",
       "      <td>1</td>\n",
       "      <td>GRANULOCYTE COLONY-STIMULATING FACTOR NOS</td>\n",
       "      <td>NaN</td>\n",
       "      <td>065</td>\n",
       "      <td>PLASMA CELL MYELOMA</td>\n",
       "      <td>STARTING ON DAY 5 AND ADMINISTER UNTIL END OF STEM CELL COLLECTION</td>\n",
       "      <td>NaN</td>\n",
       "      <td>NaN</td>\n",
       "      <td>NaN</td>\n",
       "      <td>...</td>\n",
       "      <td>NaN</td>\n",
       "      <td>NaN</td>\n",
       "      <td>NaN</td>\n",
       "      <td>NaN</td>\n",
       "      <td>1</td>\n",
       "      <td>1</td>\n",
       "      <td>804</td>\n",
       "      <td>NaN</td>\n",
       "      <td>NaN</td>\n",
       "      <td>NaN</td>\n",
       "    </tr>\n",
       "    <tr>\n",
       "      <th>2870</th>\n",
       "      <td>1998</td>\n",
       "      <td>1</td>\n",
       "      <td>GRANULOCYTE COLONY-STIMULATING FACTOR NOS</td>\n",
       "      <td>NaN</td>\n",
       "      <td>065</td>\n",
       "      <td>NaN</td>\n",
       "      <td>12 HOURS LATER</td>\n",
       "      <td>NaN</td>\n",
       "      <td>NaN</td>\n",
       "      <td>NaN</td>\n",
       "      <td>...</td>\n",
       "      <td>NaN</td>\n",
       "      <td>NaN</td>\n",
       "      <td>NaN</td>\n",
       "      <td>NaN</td>\n",
       "      <td>NaN</td>\n",
       "      <td>NaN</td>\n",
       "      <td>NaN</td>\n",
       "      <td>NaN</td>\n",
       "      <td>NaN</td>\n",
       "      <td>NaN</td>\n",
       "    </tr>\n",
       "    <tr>\n",
       "      <th>2871</th>\n",
       "      <td>2000</td>\n",
       "      <td>1</td>\n",
       "      <td>REBIF</td>\n",
       "      <td>103780</td>\n",
       "      <td>NaN</td>\n",
       "      <td>PRODUCT USED FOR UNKNOWN INDICATION</td>\n",
       "      <td>NaN</td>\n",
       "      <td>4</td>\n",
       "      <td>[BLA103780]</td>\n",
       "      <td>[REBIF]</td>\n",
       "      <td>...</td>\n",
       "      <td>NaN</td>\n",
       "      <td>NaN</td>\n",
       "      <td>NaN</td>\n",
       "      <td>AU007689</td>\n",
       "      <td>3</td>\n",
       "      <td>1</td>\n",
       "      <td>803</td>\n",
       "      <td>NaN</td>\n",
       "      <td>NaN</td>\n",
       "      <td>NaN</td>\n",
       "    </tr>\n",
       "  </tbody>\n",
       "</table>\n",
       "<p>5 rows × 42 columns</p>\n",
       "</div>"
      ],
      "text/plain": [
       "      event_id drugcharacterization  \\\n",
       "2867      1997                    1   \n",
       "2868      1998                    1   \n",
       "2869      1998                    1   \n",
       "2870      1998                    1   \n",
       "2871      2000                    1   \n",
       "\n",
       "                               medicinalproduct drugauthorizationnumb  \\\n",
       "2867                                OXALIPLATIN                   NaN   \n",
       "2868                                 ENDOXAN-1G                012142   \n",
       "2869  GRANULOCYTE COLONY-STIMULATING FACTOR NOS                   NaN   \n",
       "2870  GRANULOCYTE COLONY-STIMULATING FACTOR NOS                   NaN   \n",
       "2871                                      REBIF                103780   \n",
       "\n",
       "     drugadministrationroute                       drugindication  \\\n",
       "2867                     065                    COLORECTAL CANCER   \n",
       "2868                     065                  PLASMA CELL MYELOMA   \n",
       "2869                     065                  PLASMA CELL MYELOMA   \n",
       "2870                     065                                  NaN   \n",
       "2871                     NaN  PRODUCT USED FOR UNKNOWN INDICATION   \n",
       "\n",
       "                                                          drugdosagetext  \\\n",
       "2867                                                                 NaN   \n",
       "2868                                                3 TO 4 G/M2 ON DAY 0   \n",
       "2869  STARTING ON DAY 5 AND ADMINISTER UNTIL END OF STEM CELL COLLECTION   \n",
       "2870                                                      12 HOURS LATER   \n",
       "2871                                                                 NaN   \n",
       "\n",
       "     actiondrug  \\\n",
       "2867          5   \n",
       "2868        NaN   \n",
       "2869        NaN   \n",
       "2870        NaN   \n",
       "2871          4   \n",
       "\n",
       "                                                                                                                                                                          openfda.application_number  \\\n",
       "2867  [ANDA207325, ANDA203869, ANDA207474, ANDA204616, ANDA217348, ANDA078803, ANDA204368, ANDA078817, ANDA078813, ANDA091358, NDA021759, NDA022160, ANDA207562, ANDA078811, ANDA205529, ANDA207385]   \n",
       "2868                                                                                                                                                                                             NaN   \n",
       "2869                                                                                                                                                                                             NaN   \n",
       "2870                                                                                                                                                                                             NaN   \n",
       "2871                                                                                                                                                                                     [BLA103780]   \n",
       "\n",
       "     openfda.brand_name  ... drugrecurreadministration drugenddateformat  \\\n",
       "2867      [OXALIPLATIN]  ...                       NaN               NaN   \n",
       "2868                NaN  ...                       NaN               NaN   \n",
       "2869                NaN  ...                       NaN               NaN   \n",
       "2870                NaN  ...                       NaN               NaN   \n",
       "2871            [REBIF]  ...                       NaN               NaN   \n",
       "\n",
       "     drugenddate drugbatchnumb drugseparatedosagenumb  \\\n",
       "2867         NaN           NaN                    NaN   \n",
       "2868         NaN           NaN                    NaN   \n",
       "2869         NaN           NaN                      1   \n",
       "2870         NaN           NaN                    NaN   \n",
       "2871         NaN      AU007689                      3   \n",
       "\n",
       "     drugintervaldosageunitnumb drugintervaldosagedefinition  \\\n",
       "2867                        NaN                          NaN   \n",
       "2868                        NaN                          NaN   \n",
       "2869                          1                          804   \n",
       "2870                        NaN                          NaN   \n",
       "2871                          1                          803   \n",
       "\n",
       "     drugcumulativedosagenumb drugcumulativedosageunit drugadditional  \n",
       "2867                      NaN                      NaN            NaN  \n",
       "2868                      NaN                      NaN            NaN  \n",
       "2869                      NaN                      NaN            NaN  \n",
       "2870                      NaN                      NaN            NaN  \n",
       "2871                      NaN                      NaN            NaN  \n",
       "\n",
       "[5 rows x 42 columns]"
      ]
     },
     "execution_count": 37,
     "metadata": {},
     "output_type": "execute_result"
    }
   ],
   "source": [
    "expanded_patient_drugs = []\n",
    "\n",
    "# Iterate through each row of the original DataFrame\n",
    "for _, row in events_table.iterrows():\n",
    "    event_id = row['event_id']\n",
    "    \n",
    "    # Iterate through each drug entry in 'patient.drug' list\n",
    "    for drug_entry in row['drug']:\n",
    "        # Flatten nested JSON into columns\n",
    "        flattened_entry = json_normalize(drug_entry)\n",
    "        \n",
    "        # Add event_id to the flattened entry\n",
    "        flattened_entry['event_id'] = event_id\n",
    "        \n",
    "        # Append the flattened entry to the list\n",
    "        expanded_patient_drugs.append(flattened_entry)\n",
    "\n",
    "# Concatenate all entries into a new DataFrame\n",
    "patient_drugs_table = pd.concat(expanded_patient_drugs, ignore_index=True)\n",
    "patient_drugs_table = patient_drugs_table[['event_id'] + [col for col in patient_drugs_table.columns if col != 'event_id']]\n",
    "\n",
    "\n",
    "patient_drugs_table.tail()"
   ]
  },
  {
   "cell_type": "markdown",
   "id": "2fbcb0ac-7277-4f55-8da6-6d4972e185a5",
   "metadata": {},
   "source": [
    "### Make new table for PatientReactions"
   ]
  },
  {
   "cell_type": "code",
   "execution_count": 38,
   "id": "34b1c1e5-2ef7-4dfe-8942-10cbbbddbbb4",
   "metadata": {},
   "outputs": [
    {
     "data": {
      "text/html": [
       "<div>\n",
       "<style scoped>\n",
       "    .dataframe tbody tr th:only-of-type {\n",
       "        vertical-align: middle;\n",
       "    }\n",
       "\n",
       "    .dataframe tbody tr th {\n",
       "        vertical-align: top;\n",
       "    }\n",
       "\n",
       "    .dataframe thead th {\n",
       "        text-align: right;\n",
       "    }\n",
       "</style>\n",
       "<table border=\"1\" class=\"dataframe\">\n",
       "  <thead>\n",
       "    <tr style=\"text-align: right;\">\n",
       "      <th></th>\n",
       "      <th>event_id</th>\n",
       "      <th>reactionmeddrapt</th>\n",
       "      <th>reactionmeddraversionpt</th>\n",
       "      <th>reactionoutcome</th>\n",
       "    </tr>\n",
       "  </thead>\n",
       "  <tbody>\n",
       "    <tr>\n",
       "      <th>2208</th>\n",
       "      <td>1997</td>\n",
       "      <td>Disease progression</td>\n",
       "      <td>17.0</td>\n",
       "      <td>6</td>\n",
       "    </tr>\n",
       "    <tr>\n",
       "      <th>2209</th>\n",
       "      <td>1998</td>\n",
       "      <td>Hypokalaemia</td>\n",
       "      <td>17.0</td>\n",
       "      <td>6</td>\n",
       "    </tr>\n",
       "    <tr>\n",
       "      <th>2210</th>\n",
       "      <td>2000</td>\n",
       "      <td>Tremor</td>\n",
       "      <td>17.0</td>\n",
       "      <td>3</td>\n",
       "    </tr>\n",
       "    <tr>\n",
       "      <th>2211</th>\n",
       "      <td>2000</td>\n",
       "      <td>Muscle disorder</td>\n",
       "      <td>17.0</td>\n",
       "      <td>3</td>\n",
       "    </tr>\n",
       "    <tr>\n",
       "      <th>2212</th>\n",
       "      <td>2000</td>\n",
       "      <td>Injection site erythema</td>\n",
       "      <td>17.0</td>\n",
       "      <td>3</td>\n",
       "    </tr>\n",
       "  </tbody>\n",
       "</table>\n",
       "</div>"
      ],
      "text/plain": [
       "      event_id         reactionmeddrapt reactionmeddraversionpt  \\\n",
       "2208      1997      Disease progression                    17.0   \n",
       "2209      1998             Hypokalaemia                    17.0   \n",
       "2210      2000                   Tremor                    17.0   \n",
       "2211      2000          Muscle disorder                    17.0   \n",
       "2212      2000  Injection site erythema                    17.0   \n",
       "\n",
       "     reactionoutcome  \n",
       "2208               6  \n",
       "2209               6  \n",
       "2210               3  \n",
       "2211               3  \n",
       "2212               3  "
      ]
     },
     "execution_count": 38,
     "metadata": {},
     "output_type": "execute_result"
    }
   ],
   "source": [
    "expanded_patient_reaction = []\n",
    "\n",
    "# Iterate through each row of the original DataFrame\n",
    "for _, row in events_table.iterrows():\n",
    "    event_id = row['event_id']\n",
    "    \n",
    "    # Iterate through each drug entry in 'patient.drug' list\n",
    "    for drug_entry in row['reaction']:\n",
    "        # Flatten nested JSON into columns\n",
    "        flattened_entry = json_normalize(drug_entry)\n",
    "        \n",
    "        # Add event_id to the flattened entry\n",
    "        flattened_entry['event_id'] = event_id\n",
    "        \n",
    "        # Append the flattened entry to the list\n",
    "        expanded_patient_reaction.append(flattened_entry)\n",
    "\n",
    "# Concatenate all entries into a new DataFrame\n",
    "patient_reactions_table = pd.concat(expanded_patient_reaction, ignore_index=True)\n",
    "patient_reactions_table = patient_reactions_table[['event_id'] + [col for col in patient_reactions_table.columns if col != 'event_id']]\n",
    "patient_reactions_table.tail()"
   ]
  },
  {
   "cell_type": "markdown",
   "id": "56e72607-a805-4f6b-8a9a-b9e234364a1f",
   "metadata": {},
   "source": [
    "### Assess Text Field Lengths"
   ]
  },
  {
   "cell_type": "code",
   "execution_count": 39,
   "id": "58afd347-219e-400f-ab3d-fd32cf688619",
   "metadata": {},
   "outputs": [
    {
     "data": {
      "image/png": "[encoded data removed]",
      "text/plain": [
       "<Figure size 800x1200 with 1 Axes>"
      ]
     },
     "metadata": {},
     "output_type": "display_data"
    },
    {
     "name": "stdout",
     "output_type": "stream",
     "text": [
      "\n",
      "Descriptive Statistics on Character Length:\n",
      "                count          mean           std    min     25%     50%  \\\n",
      "safetyreportid  757.0      8.001321      0.036346    8.0     8.0     8.0   \n",
      "companynumb     757.0     25.376486      7.424194   10.0    22.0    24.0   \n",
      "country         757.0      2.733157      3.651139    2.0     2.0     2.0   \n",
      "reaction        757.0    291.813738    358.902045   85.0   102.0   195.0   \n",
      "drug            757.0  16107.867900  41365.070401  164.0  1255.0  2329.0   \n",
      "\n",
      "                   75%       max  \n",
      "safetyreportid     8.0       9.0  \n",
      "companynumb       28.0      55.0  \n",
      "country            2.0      21.0  \n",
      "reaction         328.0    5267.0  \n",
      "drug            9032.0  508656.0  \n"
     ]
    }
   ],
   "source": [
    "plot_character_length(events_table, 'events_table')"
   ]
  },
  {
   "cell_type": "markdown",
   "id": "f0802863-c379-4497-9a09-46211dc6072e",
   "metadata": {},
   "source": [
    "# PreProcess Patient Drugs Table"
   ]
  },
  {
   "cell_type": "code",
   "execution_count": 40,
   "id": "21f06a91-4557-4448-be2f-41aabb12a146",
   "metadata": {},
   "outputs": [
    {
     "data": {
      "text/plain": [
       "Index(['event_id', 'drugcharacterization', 'medicinalproduct',\n",
       "       'drugauthorizationnumb', 'drugadministrationroute', 'drugindication',\n",
       "       'drugdosagetext', 'actiondrug', 'openfda.application_number',\n",
       "       'openfda.brand_name', 'openfda.generic_name',\n",
       "       'openfda.manufacturer_name', 'openfda.product_ndc',\n",
       "       'openfda.product_type', 'openfda.route', 'openfda.substance_name',\n",
       "       'openfda.rxcui', 'openfda.spl_id', 'openfda.spl_set_id',\n",
       "       'openfda.package_ndc', 'openfda.unii', 'openfda.nui',\n",
       "       'openfda.pharm_class_epc', 'openfda.pharm_class_cs', 'drugdosageform',\n",
       "       'openfda.pharm_class_moa', 'openfda.pharm_class_pe',\n",
       "       'drugstructuredosagenumb', 'drugstructuredosageunit',\n",
       "       'drugstartdateformat', 'drugstartdate',\n",
       "       'activesubstance.activesubstancename', 'drugrecurreadministration',\n",
       "       'drugenddateformat', 'drugenddate', 'drugbatchnumb',\n",
       "       'drugseparatedosagenumb', 'drugintervaldosageunitnumb',\n",
       "       'drugintervaldosagedefinition', 'drugcumulativedosagenumb',\n",
       "       'drugcumulativedosageunit', 'drugadditional'],\n",
       "      dtype='object')"
      ]
     },
     "execution_count": 40,
     "metadata": {},
     "output_type": "execute_result"
    }
   ],
   "source": [
    "patient_drugs_table\n",
    "\n",
    "patient_drugs_table.head()\n",
    "\n",
    "patient_drugs_table.columns"
   ]
  },
  {
   "cell_type": "markdown",
   "id": "da50ea4b-c335-48f7-bdf0-3fccdcd971ad",
   "metadata": {},
   "source": [
    "#### Select Columns"
   ]
  },
  {
   "cell_type": "code",
   "execution_count": 41,
   "id": "e1aa89b8-15ec-4e62-9e59-87ddd4bae198",
   "metadata": {},
   "outputs": [],
   "source": [
    "patient_drugs_table = pd.DataFrame(patient_drugs_table, \n",
    "                               columns = [\n",
    "                                'patient_drug_id',  # Identifier for patient drug\n",
    "                                'event_id',  # Identifier for the event\n",
    "                                'drugcharacterization',  # Level of detail for the drug in the event report\n",
    "                                'medicinalproduct',  # Name of the drug\n",
    "                                # 'drugauthorizationnumb',  # Marketing authorization number of the drug\n",
    "                                # 'drugadministrationroute',  # Route of administration for the drug\n",
    "                                'drugindication',  # Indication for use of the drug\n",
    "                                # 'drugbatchnumb',  # Batch number for the drug\n",
    "                                # 'drugstructuredosagenumb',  # Structured dosage number of the drug\n",
    "                                # 'drugstructuredosageunit',  # Unit of structured dosage for the drug\n",
    "                                # 'drugdosagetext',  # Textual description of the dosage for the drug\n",
    "                                # 'drugstartdateformat',  # Date format for the start date of drug administration\n",
    "                                # 'drugstartdate',  # Start date of drug administration\n",
    "                                #'drugrecurreadministration',  # Indicator for recurring drug administration\n",
    "                                # 'drugadditional',  # Additional details about the drug\n",
    "                                # 'openfda.application_number',  # FDA application number for the drug\n",
    "                                # 'openfda.brand_name',  # Brand name for the drug\n",
    "                                'openfda.generic_name',  # Generic name for the drug\n",
    "                                'openfda.manufacturer_name',  # Manufacturer name for the drug\n",
    "                                #'openfda.product_ndc',  # NDC (National Drug Code) number for the drug product\n",
    "                                'openfda.product_type',  # Type of drug product (e.g., HUMAN PRESCRIPTION DRUG)\n",
    "                                # 'openfda.route',  # Route of administration for the drug\n",
    "                                # 'openfda.substance_name',  # Substance name associated with the drug\n",
    "                                'openfda.rxcui',  # RxNorm Concept Unique Identifier (RxCUI) for the drug\n",
    "                                # 'openfda.spl_id',  # Structured Product Labeling (SPL) ID for the drug\n",
    "                                # 'openfda.spl_set_id',  # SPL Set ID for the drug\n",
    "                                # 'openfda.package_ndc',  # NDC (National Drug Code) number for the drug package\n",
    "                                # 'openfda.nui',  # NUI (National Uniform Identifier) for the drug\n",
    "                                # 'openfda.pharm_class_moa',  # Pharmacological class (Mechanism of Action) for the drug\n",
    "                                # 'openfda.pharm_class_cs',  # Chemical structure class for the drug\n",
    "                                # 'openfda.pharm_class_epc',  # Pharmacological class (EPC) for the drug\n",
    "                                'openfda.unii',  # Unique Ingredient Identifier (UNII) for the drug substance\n",
    "                                # 'actiondrug',  # Action taken with the drug\n",
    "                                # 'drugdosageform',  # Dosage form of the drug\n",
    "                                # 'openfda.pharm_class_pe',  # Pharmacological class (Physiologic Effect) for the drug\n",
    "                                # 'activesubstance.activesubstancename',  # Name of the active substance in the drug\n",
    "                                # 'drugenddateformat',  # Date format for the end date of drug administration\n",
    "                                # 'drugenddate',  # End date of drug administration\n",
    "                                #'drugseparatedosagenumb',  # Separated dosage number for the drug\n",
    "                                # 'drugintervaldosageunitnumb',  # Interval dosage unit number for the drug\n",
    "                                # 'drugintervaldosagedefinition',  # Definition of interval dosage for the drug\n",
    "                                # 'drugcumulativedosagenumb',  # Cumulative dosage number for the drug\n",
    "                                # 'drugcumulativedosageunit'  # Unit of cumulative dosage for the drug\n",
    "                            ])\n"
   ]
  },
  {
   "cell_type": "markdown",
   "id": "17f581d3-a5cf-47bc-8581-429686a0a9b4",
   "metadata": {},
   "source": [
    "#### Fix Dtypes"
   ]
  },
  {
   "cell_type": "code",
   "execution_count": 42,
   "id": "9b84379f-6879-4657-825b-e590ee60a6f1",
   "metadata": {},
   "outputs": [],
   "source": [
    "patient_drugs_table['drugcharacterization'] = patient_drugs_table['drugcharacterization'].astype(int)"
   ]
  },
  {
   "cell_type": "markdown",
   "id": "1f6bd505-54e7-4abb-83aa-9097e505e4fb",
   "metadata": {},
   "source": [
    "#### Filter for Quality Data"
   ]
  },
  {
   "cell_type": "code",
   "execution_count": 43,
   "id": "7bacb7ef-cce8-44b2-a41d-81a8bca11aec",
   "metadata": {},
   "outputs": [],
   "source": [
    "# Keep only primary drug suspects\n",
    "patient_drugs_table = add_sequential_index(patient_drugs_table,'patient_drug_id')\n",
    "patient_drugs_table = patient_drugs_table.loc[patient_drugs_table['drugcharacterization'] == 1]"
   ]
  },
  {
   "cell_type": "markdown",
   "id": "8338d150-31d0-4185-b96b-52c9d6c15b32",
   "metadata": {},
   "source": [
    "#### Examining Variables of Interest\n",
    "* Drugcharacterization: 1-suspect(drug primary cause), 2-concomitant(drug taken with primary cause), 3-interation(drug interact with primary cause)\n",
    "* Medicinalproduct: generic or brand name\n",
    "* Drugindication: official drug purpose\n",
    "* openfda.rxcui : Rx cui code\n",
    "* openfda.unii : unique ingredient identifier"
   ]
  },
  {
   "cell_type": "code",
   "execution_count": 44,
   "id": "6affcc58-6f0a-4dac-809e-e4022ea91463",
   "metadata": {},
   "outputs": [
    {
     "data": {
      "text/plain": [
       "1    1494\n",
       "Name: drugcharacterization, dtype: int64"
      ]
     },
     "execution_count": 44,
     "metadata": {},
     "output_type": "execute_result"
    }
   ],
   "source": [
    "patient_drugs_table['drugcharacterization'].value_counts()"
   ]
  },
  {
   "cell_type": "code",
   "execution_count": 45,
   "id": "6d1a937d-5fb7-4144-b45c-e41455256203",
   "metadata": {},
   "outputs": [
    {
     "data": {
      "text/html": [
       "<div>\n",
       "<style scoped>\n",
       "    .dataframe tbody tr th:only-of-type {\n",
       "        vertical-align: middle;\n",
       "    }\n",
       "\n",
       "    .dataframe tbody tr th {\n",
       "        vertical-align: top;\n",
       "    }\n",
       "\n",
       "    .dataframe thead th {\n",
       "        text-align: right;\n",
       "    }\n",
       "</style>\n",
       "<table border=\"1\" class=\"dataframe\">\n",
       "  <thead>\n",
       "    <tr style=\"text-align: right;\">\n",
       "      <th></th>\n",
       "      <th>column_name</th>\n",
       "      <th>null_count</th>\n",
       "      <th>null_proportion</th>\n",
       "    </tr>\n",
       "  </thead>\n",
       "  <tbody>\n",
       "    <tr>\n",
       "      <th>0</th>\n",
       "      <td>patient_drug_id</td>\n",
       "      <td>0</td>\n",
       "      <td>0.000000</td>\n",
       "    </tr>\n",
       "    <tr>\n",
       "      <th>1</th>\n",
       "      <td>patient_drug_id</td>\n",
       "      <td>1494</td>\n",
       "      <td>100.000000</td>\n",
       "    </tr>\n",
       "    <tr>\n",
       "      <th>2</th>\n",
       "      <td>event_id</td>\n",
       "      <td>0</td>\n",
       "      <td>0.000000</td>\n",
       "    </tr>\n",
       "    <tr>\n",
       "      <th>3</th>\n",
       "      <td>drugcharacterization</td>\n",
       "      <td>0</td>\n",
       "      <td>0.000000</td>\n",
       "    </tr>\n",
       "    <tr>\n",
       "      <th>4</th>\n",
       "      <td>medicinalproduct</td>\n",
       "      <td>0</td>\n",
       "      <td>0.000000</td>\n",
       "    </tr>\n",
       "    <tr>\n",
       "      <th>5</th>\n",
       "      <td>drugindication</td>\n",
       "      <td>417</td>\n",
       "      <td>27.911647</td>\n",
       "    </tr>\n",
       "    <tr>\n",
       "      <th>6</th>\n",
       "      <td>openfda.generic_name</td>\n",
       "      <td>401</td>\n",
       "      <td>26.840696</td>\n",
       "    </tr>\n",
       "    <tr>\n",
       "      <th>7</th>\n",
       "      <td>openfda.manufacturer_name</td>\n",
       "      <td>401</td>\n",
       "      <td>26.840696</td>\n",
       "    </tr>\n",
       "    <tr>\n",
       "      <th>8</th>\n",
       "      <td>openfda.product_type</td>\n",
       "      <td>401</td>\n",
       "      <td>26.840696</td>\n",
       "    </tr>\n",
       "    <tr>\n",
       "      <th>9</th>\n",
       "      <td>openfda.rxcui</td>\n",
       "      <td>416</td>\n",
       "      <td>27.844712</td>\n",
       "    </tr>\n",
       "    <tr>\n",
       "      <th>10</th>\n",
       "      <td>openfda.unii</td>\n",
       "      <td>439</td>\n",
       "      <td>29.384203</td>\n",
       "    </tr>\n",
       "  </tbody>\n",
       "</table>\n",
       "</div>"
      ],
      "text/plain": [
       "                  column_name  null_count  null_proportion\n",
       "0             patient_drug_id           0         0.000000\n",
       "1             patient_drug_id        1494       100.000000\n",
       "2                    event_id           0         0.000000\n",
       "3        drugcharacterization           0         0.000000\n",
       "4            medicinalproduct           0         0.000000\n",
       "5              drugindication         417        27.911647\n",
       "6        openfda.generic_name         401        26.840696\n",
       "7   openfda.manufacturer_name         401        26.840696\n",
       "8        openfda.product_type         401        26.840696\n",
       "9               openfda.rxcui         416        27.844712\n",
       "10               openfda.unii         439        29.384203"
      ]
     },
     "execution_count": 45,
     "metadata": {},
     "output_type": "execute_result"
    }
   ],
   "source": [
    "patient_drugs_table_nan_info = nan_info(patient_drugs_table)\n",
    "patient_drugs_table_nan_info"
   ]
  },
  {
   "cell_type": "markdown",
   "id": "befbc9b8-c178-46ca-a70a-e4b769a38a71",
   "metadata": {},
   "source": [
    "### Text Processing"
   ]
  },
  {
   "cell_type": "code",
   "execution_count": 46,
   "id": "85859742-8e16-4831-9034-4f062ceed33d",
   "metadata": {},
   "outputs": [],
   "source": [
    "# Define text columns\n",
    "object_columns = patient_drugs_table.select_dtypes(include=['object']).columns\n",
    "\n",
    "# Exclude columns that should not be tokenized, index codes\n",
    "object_columns = object_columns.drop(['openfda.unii', 'openfda.rxcui'], errors='ignore')\n",
    "patient_drugs_table[object_columns] = patient_drugs_table[object_columns].astype(str)\n",
    "\n",
    "# Apply text processing to the selected text columns and add new processed columns to dataframe\n",
    "for col in object_columns:\n",
    "    new_col_name = col + '_processed'\n",
    "    patient_drugs_table[new_col_name] = patient_drugs_table[col].apply(process_label_text)"
   ]
  },
  {
   "cell_type": "markdown",
   "id": "82823dd7-8c5c-4e87-a7de-1d3844481ad6",
   "metadata": {},
   "source": [
    "### Final list of features for Patient Drugs Table"
   ]
  },
  {
   "cell_type": "code",
   "execution_count": 49,
   "id": "bead8f1a-000e-4ba9-915f-2021d8b7a37d",
   "metadata": {},
   "outputs": [],
   "source": [
    "patient_drugs_table = patient_drugs_table[['patient_drug_id',\n",
    "                                          'event_id',\n",
    "                                          'drugcharacterization',\n",
    "                                          'medicinalproduct_processed',\n",
    "                                          'openfda.generic_name_processed',\n",
    "                                          'openfda.manufacturer_name_processed',\n",
    "                                          'openfda.product_type_processed',\n",
    "                                          'openfda.rxcui',\n",
    "                                          'openfda.unii'\n",
    "                                          ]]"
   ]
  },
  {
   "cell_type": "markdown",
   "id": "fbdf50c5-c56f-4803-ab61-a2fd5209de1b",
   "metadata": {},
   "source": [
    "### Assess Text Field Lengths"
   ]
  },
  {
   "cell_type": "code",
   "execution_count": 50,
   "id": "b9e8d262-17bb-4936-a6db-c2c7361759a2",
   "metadata": {},
   "outputs": [
    {
     "data": {
      "image/png": "[encoded data removed]",
      "text/plain": [
       "<Figure size 800x1200 with 1 Axes>"
      ]
     },
     "metadata": {},
     "output_type": "display_data"
    },
    {
     "name": "stdout",
     "output_type": "stream",
     "text": [
      "\n",
      "Descriptive Statistics on Character Length:\n",
      "                                      count        mean         std  min  \\\n",
      "medicinalproduct_processed           1494.0   14.979920    9.008049  7.0   \n",
      "openfda.generic_name_processed       1494.0   16.774431   13.170350  7.0   \n",
      "openfda.manufacturer_name_processed  1494.0  112.434404  464.363176  7.0   \n",
      "openfda.product_type_processed       1494.0   26.169344   11.707651  7.0   \n",
      "openfda.rxcui                        1494.0   80.630522  121.363983  3.0   \n",
      "openfda.unii                         1494.0   12.388889   10.676170  3.0   \n",
      "\n",
      "                                      25%   50%     75%     max  \n",
      "medicinalproduct_processed           11.0  12.0   15.00    96.0  \n",
      "openfda.generic_name_processed        7.0  15.0   16.00   103.0  \n",
      "openfda.manufacturer_name_processed   7.0  27.0   41.75  8721.0  \n",
      "openfda.product_type_processed        7.0  33.0   33.00    40.0  \n",
      "openfda.rxcui                         3.0  40.0  110.00  1461.0  \n",
      "openfda.unii                          3.0  14.0   14.00   126.0  \n"
     ]
    }
   ],
   "source": [
    "plot_character_length(patient_drugs_table, 'patient_drugs_table')"
   ]
  },
  {
   "cell_type": "markdown",
   "id": "7bdbd9f3-83e0-44f5-88b7-869cf1ddbf69",
   "metadata": {},
   "source": [
    "# PreProcess Patient Reactions Table"
   ]
  },
  {
   "cell_type": "markdown",
   "id": "6c6bca90-f2af-41ca-9910-6b1920836948",
   "metadata": {},
   "source": [
    "### Rename Columns"
   ]
  },
  {
   "cell_type": "code",
   "execution_count": 70,
   "id": "e298356f-7e42-4263-86cb-f6cc7fa40c1b",
   "metadata": {},
   "outputs": [],
   "source": [
    "patient_reactions_table = patient_reactions_table.rename(columns={\n",
    "    'reactionmeddrapt': 'reaction',\n",
    "    'reactionmeddraversionpt': 'version_medDRA',\n",
    "    'reactionoutcome': 'outcome'\n",
    "})"
   ]
  },
  {
   "cell_type": "markdown",
   "id": "79e80a0e-59a1-4528-a9d7-05f1fbe22bf0",
   "metadata": {},
   "source": [
    "### Fix Dtypes"
   ]
  },
  {
   "cell_type": "code",
   "execution_count": 73,
   "id": "7e81a44b-5401-48f6-b2be-7a1c2834f948",
   "metadata": {},
   "outputs": [
    {
     "data": {
      "text/html": [
       "<div>\n",
       "<style scoped>\n",
       "    .dataframe tbody tr th:only-of-type {\n",
       "        vertical-align: middle;\n",
       "    }\n",
       "\n",
       "    .dataframe tbody tr th {\n",
       "        vertical-align: top;\n",
       "    }\n",
       "\n",
       "    .dataframe thead th {\n",
       "        text-align: right;\n",
       "    }\n",
       "</style>\n",
       "<table border=\"1\" class=\"dataframe\">\n",
       "  <thead>\n",
       "    <tr style=\"text-align: right;\">\n",
       "      <th></th>\n",
       "      <th>patient_reaction_id</th>\n",
       "      <th>event_id</th>\n",
       "      <th>version_medDRA</th>\n",
       "      <th>outcome</th>\n",
       "      <th>reaction_processed</th>\n",
       "    </tr>\n",
       "  </thead>\n",
       "  <tbody>\n",
       "    <tr>\n",
       "      <th>0</th>\n",
       "      <td>1</td>\n",
       "      <td>1</td>\n",
       "      <td>NaN</td>\n",
       "      <td>Unknown</td>\n",
       "      <td>[drug, administration, error]</td>\n",
       "    </tr>\n",
       "    <tr>\n",
       "      <th>1</th>\n",
       "      <td>2</td>\n",
       "      <td>1</td>\n",
       "      <td>NaN</td>\n",
       "      <td>Unknown</td>\n",
       "      <td>[overdose]</td>\n",
       "    </tr>\n",
       "    <tr>\n",
       "      <th>2</th>\n",
       "      <td>3</td>\n",
       "      <td>5</td>\n",
       "      <td>17.0</td>\n",
       "      <td>6</td>\n",
       "      <td>[drug, hypersensitivity]</td>\n",
       "    </tr>\n",
       "    <tr>\n",
       "      <th>3</th>\n",
       "      <td>4</td>\n",
       "      <td>6</td>\n",
       "      <td>17.0</td>\n",
       "      <td>6</td>\n",
       "      <td>[drug, hypersensitivity]</td>\n",
       "    </tr>\n",
       "    <tr>\n",
       "      <th>4</th>\n",
       "      <td>5</td>\n",
       "      <td>8</td>\n",
       "      <td>18.1</td>\n",
       "      <td>6</td>\n",
       "      <td>[rhinorrhoea]</td>\n",
       "    </tr>\n",
       "    <tr>\n",
       "      <th>5</th>\n",
       "      <td>6</td>\n",
       "      <td>9</td>\n",
       "      <td>18.1</td>\n",
       "      <td>6</td>\n",
       "      <td>[unevaluable, event]</td>\n",
       "    </tr>\n",
       "    <tr>\n",
       "      <th>6</th>\n",
       "      <td>7</td>\n",
       "      <td>9</td>\n",
       "      <td>18.1</td>\n",
       "      <td>6</td>\n",
       "      <td>[malaise]</td>\n",
       "    </tr>\n",
       "    <tr>\n",
       "      <th>7</th>\n",
       "      <td>8</td>\n",
       "      <td>14</td>\n",
       "      <td>18.1</td>\n",
       "      <td>6</td>\n",
       "      <td>[swelling]</td>\n",
       "    </tr>\n",
       "    <tr>\n",
       "      <th>8</th>\n",
       "      <td>9</td>\n",
       "      <td>14</td>\n",
       "      <td>18.1</td>\n",
       "      <td>6</td>\n",
       "      <td>[jaundice]</td>\n",
       "    </tr>\n",
       "    <tr>\n",
       "      <th>9</th>\n",
       "      <td>10</td>\n",
       "      <td>18</td>\n",
       "      <td>17.0</td>\n",
       "      <td>1</td>\n",
       "      <td>[angioedema]</td>\n",
       "    </tr>\n",
       "  </tbody>\n",
       "</table>\n",
       "</div>"
      ],
      "text/plain": [
       "   patient_reaction_id  event_id version_medDRA  outcome  \\\n",
       "0                    1         1            NaN  Unknown   \n",
       "1                    2         1            NaN  Unknown   \n",
       "2                    3         5           17.0        6   \n",
       "3                    4         6           17.0        6   \n",
       "4                    5         8           18.1        6   \n",
       "5                    6         9           18.1        6   \n",
       "6                    7         9           18.1        6   \n",
       "7                    8        14           18.1        6   \n",
       "8                    9        14           18.1        6   \n",
       "9                   10        18           17.0        1   \n",
       "\n",
       "              reaction_processed  \n",
       "0  [drug, administration, error]  \n",
       "1                     [overdose]  \n",
       "2       [drug, hypersensitivity]  \n",
       "3       [drug, hypersensitivity]  \n",
       "4                  [rhinorrhoea]  \n",
       "5           [unevaluable, event]  \n",
       "6                      [malaise]  \n",
       "7                     [swelling]  \n",
       "8                     [jaundice]  \n",
       "9                   [angioedema]  "
      ]
     },
     "execution_count": 73,
     "metadata": {},
     "output_type": "execute_result"
    }
   ],
   "source": [
    "\n",
    "#n/a\n",
    "\n",
    "patient_reactions_table.head(10)\n",
    "\n",
    "#patient_reactions_table.info()"
   ]
  },
  {
   "cell_type": "markdown",
   "id": "f9957025-08d4-4168-bb69-b4e823711cfd",
   "metadata": {},
   "source": [
    "### Feature Engineering"
   ]
  },
  {
   "cell_type": "code",
   "execution_count": null,
   "id": "286c977e-a662-4db4-b99c-b97455e13a01",
   "metadata": {},
   "outputs": [],
   "source": [
    "patient_reactions_table = add_sequential_index(patient_reactions_table,'patient_reaction_id')\n"
   ]
  },
  {
   "cell_type": "markdown",
   "id": "53497aa9-171f-4d52-a3e5-b01e6de9d18e",
   "metadata": {},
   "source": [
    "### Map Features"
   ]
  },
  {
   "cell_type": "code",
   "execution_count": 75,
   "id": "ad6baa23-2ea7-4d8e-987f-758b03484f51",
   "metadata": {},
   "outputs": [
    {
     "data": {
      "text/html": [
       "<div>\n",
       "<style scoped>\n",
       "    .dataframe tbody tr th:only-of-type {\n",
       "        vertical-align: middle;\n",
       "    }\n",
       "\n",
       "    .dataframe tbody tr th {\n",
       "        vertical-align: top;\n",
       "    }\n",
       "\n",
       "    .dataframe thead th {\n",
       "        text-align: right;\n",
       "    }\n",
       "</style>\n",
       "<table border=\"1\" class=\"dataframe\">\n",
       "  <thead>\n",
       "    <tr style=\"text-align: right;\">\n",
       "      <th></th>\n",
       "      <th>patient_reaction_id</th>\n",
       "      <th>event_id</th>\n",
       "      <th>version_medDRA</th>\n",
       "      <th>outcome</th>\n",
       "      <th>reaction_processed</th>\n",
       "    </tr>\n",
       "  </thead>\n",
       "  <tbody>\n",
       "    <tr>\n",
       "      <th>2208</th>\n",
       "      <td>2209</td>\n",
       "      <td>1997</td>\n",
       "      <td>17.0</td>\n",
       "      <td>Unknown</td>\n",
       "      <td>[disease, progression]</td>\n",
       "    </tr>\n",
       "    <tr>\n",
       "      <th>2209</th>\n",
       "      <td>2210</td>\n",
       "      <td>1998</td>\n",
       "      <td>17.0</td>\n",
       "      <td>Unknown</td>\n",
       "      <td>[hypokalaemia]</td>\n",
       "    </tr>\n",
       "    <tr>\n",
       "      <th>2210</th>\n",
       "      <td>2211</td>\n",
       "      <td>2000</td>\n",
       "      <td>17.0</td>\n",
       "      <td>Not recovered/not resolved</td>\n",
       "      <td>[tremor]</td>\n",
       "    </tr>\n",
       "    <tr>\n",
       "      <th>2211</th>\n",
       "      <td>2212</td>\n",
       "      <td>2000</td>\n",
       "      <td>17.0</td>\n",
       "      <td>Not recovered/not resolved</td>\n",
       "      <td>[muscle, disorder]</td>\n",
       "    </tr>\n",
       "    <tr>\n",
       "      <th>2212</th>\n",
       "      <td>2213</td>\n",
       "      <td>2000</td>\n",
       "      <td>17.0</td>\n",
       "      <td>Not recovered/not resolved</td>\n",
       "      <td>[injection, site, erythema]</td>\n",
       "    </tr>\n",
       "  </tbody>\n",
       "</table>\n",
       "</div>"
      ],
      "text/plain": [
       "      patient_reaction_id  event_id version_medDRA  \\\n",
       "2208                 2209      1997           17.0   \n",
       "2209                 2210      1998           17.0   \n",
       "2210                 2211      2000           17.0   \n",
       "2211                 2212      2000           17.0   \n",
       "2212                 2213      2000           17.0   \n",
       "\n",
       "                         outcome           reaction_processed  \n",
       "2208                     Unknown       [disease, progression]  \n",
       "2209                     Unknown               [hypokalaemia]  \n",
       "2210  Not recovered/not resolved                     [tremor]  \n",
       "2211  Not recovered/not resolved           [muscle, disorder]  \n",
       "2212  Not recovered/not resolved  [injection, site, erythema]  "
      ]
     },
     "execution_count": 75,
     "metadata": {},
     "output_type": "execute_result"
    }
   ],
   "source": [
    "#map outcomes to text categories\n",
    "\n",
    "outcome_mapping = {\n",
    "    1: 'Recovered/resolved',\n",
    "    2: 'Recovering/resolving',\n",
    "    3: 'Not recovered/not resolved',\n",
    "    4: 'Recovered/resolved with consequent health issues',\n",
    "    5: 'Fatal',\n",
    "    6: 'Unknown'\n",
    "}\n",
    "\n",
    "# if outcome is 'Unknown', change to 6 (which will map to unknown again). Necessary that this column is int for mapping\n",
    "patient_reactions_table.loc[patient_reactions_table['outcome'] == 'Unknown', 'outcome'] = 6\n",
    "\n",
    "# Perform mapping by outcome mapping\n",
    "patient_reactions_table['outcome'] = patient_reactions_table['outcome'].fillna(0).astype(int).map(outcome_mapping)\n",
    "\n",
    "patient_reactions_table.tail()"
   ]
  },
  {
   "cell_type": "markdown",
   "id": "aefcd297-e09c-48e3-b036-a417d2282234",
   "metadata": {},
   "source": [
    "### Text Processing"
   ]
  },
  {
   "cell_type": "code",
   "execution_count": 54,
   "id": "6d4ba2d3-a875-49e4-89cf-1580531ef2e5",
   "metadata": {},
   "outputs": [],
   "source": [
    "patient_reactions_table['reaction_processed'] = patient_reactions_table['reaction'].apply(process_label_text)\n",
    "patient_reactions_table = patient_reactions_table.drop('reaction', axis = 1)"
   ]
  },
  {
   "cell_type": "markdown",
   "id": "8997ef9f-d1b1-4314-9bb3-d87280a87090",
   "metadata": {},
   "source": [
    "### Examine Nulls"
   ]
  },
  {
   "cell_type": "code",
   "execution_count": 56,
   "id": "858822cc-d588-46f8-9beb-8eb4d72a542d",
   "metadata": {},
   "outputs": [
    {
     "data": {
      "text/html": [
       "<div>\n",
       "<style scoped>\n",
       "    .dataframe tbody tr th:only-of-type {\n",
       "        vertical-align: middle;\n",
       "    }\n",
       "\n",
       "    .dataframe tbody tr th {\n",
       "        vertical-align: top;\n",
       "    }\n",
       "\n",
       "    .dataframe thead th {\n",
       "        text-align: right;\n",
       "    }\n",
       "</style>\n",
       "<table border=\"1\" class=\"dataframe\">\n",
       "  <thead>\n",
       "    <tr style=\"text-align: right;\">\n",
       "      <th></th>\n",
       "      <th>column_name</th>\n",
       "      <th>null_count</th>\n",
       "      <th>null_proportion</th>\n",
       "    </tr>\n",
       "  </thead>\n",
       "  <tbody>\n",
       "    <tr>\n",
       "      <th>0</th>\n",
       "      <td>patient_reaction_id</td>\n",
       "      <td>0</td>\n",
       "      <td>0.000000</td>\n",
       "    </tr>\n",
       "    <tr>\n",
       "      <th>1</th>\n",
       "      <td>event_id</td>\n",
       "      <td>0</td>\n",
       "      <td>0.000000</td>\n",
       "    </tr>\n",
       "    <tr>\n",
       "      <th>2</th>\n",
       "      <td>version_medDRA</td>\n",
       "      <td>2</td>\n",
       "      <td>0.090375</td>\n",
       "    </tr>\n",
       "    <tr>\n",
       "      <th>3</th>\n",
       "      <td>outcome</td>\n",
       "      <td>0</td>\n",
       "      <td>0.000000</td>\n",
       "    </tr>\n",
       "    <tr>\n",
       "      <th>4</th>\n",
       "      <td>reaction_processed</td>\n",
       "      <td>0</td>\n",
       "      <td>0.000000</td>\n",
       "    </tr>\n",
       "  </tbody>\n",
       "</table>\n",
       "</div>"
      ],
      "text/plain": [
       "           column_name  null_count  null_proportion\n",
       "0  patient_reaction_id           0         0.000000\n",
       "1             event_id           0         0.000000\n",
       "2       version_medDRA           2         0.090375\n",
       "3              outcome           0         0.000000\n",
       "4   reaction_processed           0         0.000000"
      ]
     },
     "execution_count": 56,
     "metadata": {},
     "output_type": "execute_result"
    }
   ],
   "source": [
    "patient_reactions_table_nan_info = nan_info(patient_reactions_table)\n",
    "patient_reactions_table_nan_info\n",
    "\n",
    "#fill the missing values in the outcome table with 'Unknown'\n",
    "patient_reactions_table['outcome'] = patient_reactions_table['outcome'].fillna('Unknown')\n",
    "\n",
    "patient_reactions_table_nan_info = nan_info(patient_reactions_table)\n",
    "patient_reactions_table_nan_info\n"
   ]
  },
  {
   "cell_type": "markdown",
   "id": "682681d2-48a1-4f8d-ba96-ad2c1e0d5556",
   "metadata": {},
   "source": [
    "## Combine all Adverse Events Sub-Dataframes on event_id"
   ]
  },
  {
   "cell_type": "code",
   "execution_count": 57,
   "id": "ac3fd3da-d5d8-44b0-8c22-88cafcbacc14",
   "metadata": {},
   "outputs": [],
   "source": [
    "# Drop 'drug' and 'reaction' from main event table\n",
    "\n",
    "\n",
    "# events_table = events_table.drop(['drug', 'reaction'], axis = 1)"
   ]
  },
  {
   "cell_type": "code",
   "execution_count": 58,
   "id": "8bea64a8-ef5b-4268-9c80-ced38f951f83",
   "metadata": {},
   "outputs": [],
   "source": [
    "# Merge events and drugs\n",
    "\n",
    "\n",
    "# events_join = pd.merge(events_table, patient_drugs_table, on='event_id', how='outer')"
   ]
  },
  {
   "cell_type": "code",
   "execution_count": 59,
   "id": "518fde2b-d1f5-46f3-8c71-7715eea70985",
   "metadata": {},
   "outputs": [],
   "source": [
    "# Merge the result with reactions\n",
    "\n",
    "\n",
    "# events_join = pd.merge(events_join, patient_reactions_table, on='event_id', how='outer')\n",
    "# View combined dataframe"
   ]
  },
  {
   "cell_type": "code",
   "execution_count": 60,
   "id": "f1f714c0-8927-4c8c-96a2-32fb2c92b3ed",
   "metadata": {},
   "outputs": [],
   "source": [
    "# View combined dataframe\n",
    "# events_join.info()\n",
    "# events_join.head()"
   ]
  },
  {
   "cell_type": "code",
   "execution_count": 61,
   "id": "d3bdb39c-d2f1-4d5f-a9fe-f98e88086fb4",
   "metadata": {},
   "outputs": [],
   "source": [
    "#events_join = pd.DataFrame(events_join)\n",
    "#events_join.shape()"
   ]
  },
  {
   "cell_type": "code",
   "execution_count": 62,
   "id": "1a4b9b61-f5c5-4b0d-bafa-03e85fc4388d",
   "metadata": {},
   "outputs": [
    {
     "data": {
      "text/plain": [
       "(1494, 10)"
      ]
     },
     "execution_count": 62,
     "metadata": {},
     "output_type": "execute_result"
    }
   ],
   "source": [
    "# Keep only primary drug suspects\n",
    "\n",
    "#events_join = events_join.loc[events_join['drugcharacterization'] == 1]\n",
    "#events_join.shape()\n",
    "\n",
    "patient_drugs_table = patient_drugs_table.loc[patient_drugs_table['drugcharacterization'] == 1]\n",
    "patient_drugs_table.shape"
   ]
  },
  {
   "cell_type": "code",
   "execution_count": 63,
   "id": "5dd9c68d-fdfc-4414-b4a7-5159f198a9b8",
   "metadata": {},
   "outputs": [
    {
     "ename": "NameError",
     "evalue": "name 'events_join' is not defined",
     "output_type": "error",
     "traceback": [
      "\u001b[0;31m---------------------------------------------------------------------------\u001b[0m",
      "\u001b[0;31mNameError\u001b[0m                                 Traceback (most recent call last)",
      "Cell \u001b[0;32mIn[63], line 2\u001b[0m\n\u001b[1;32m      1\u001b[0m \u001b[38;5;66;03m# Drop unknown reaction outcomes\u001b[39;00m\n\u001b[0;32m----> 2\u001b[0m events_join \u001b[38;5;241m=\u001b[39m \u001b[43mevents_join\u001b[49m\u001b[38;5;241m.\u001b[39mloc[events_join[\u001b[38;5;124m'\u001b[39m\u001b[38;5;124moutcome\u001b[39m\u001b[38;5;124m'\u001b[39m] \u001b[38;5;241m!=\u001b[39m \u001b[38;5;241m6\u001b[39m]\n\u001b[1;32m      3\u001b[0m events_join\u001b[38;5;241m.\u001b[39mshape()\n",
      "\u001b[0;31mNameError\u001b[0m: name 'events_join' is not defined"
     ]
    }
   ],
   "source": [
    "# Drop unknown reaction outcomes\n",
    "events_join = events_join.loc[events_join['outcome'] != 6]\n",
    "events_join.shape()"
   ]
  },
  {
   "cell_type": "code",
   "execution_count": null,
   "id": "3b3e32da-42a4-4991-aab3-3f86e9c9c687",
   "metadata": {},
   "outputs": [],
   "source": [
    "events_join.info()"
   ]
  },
  {
   "cell_type": "code",
   "execution_count": null,
   "id": "f01a9b37-090a-4a2d-8244-dce838521887",
   "metadata": {},
   "outputs": [],
   "source": [
    "events_join.head()"
   ]
  },
  {
   "cell_type": "markdown",
   "id": "f41fc494-a5df-495c-80d6-cdfcd5190246",
   "metadata": {},
   "source": [
    "# PreProcess Labels Table"
   ]
  },
  {
   "cell_type": "markdown",
   "id": "c0b2344f-410f-4bb7-bd70-6af6a5aa4e59",
   "metadata": {},
   "source": [
    "#### Select Columns"
   ]
  },
  {
   "cell_type": "code",
   "execution_count": null,
   "id": "281f2dd5-6797-4847-bd40-0f0d635cdc87",
   "metadata": {},
   "outputs": [],
   "source": [
    "labels_table = pd.DataFrame(labels_df, \n",
    "                            columns = [\"effective_time\",\n",
    "                                        #\"inactive_ingredient\",  # Included in spl_product_data_elements\n",
    "                                       \"purpose\",\n",
    "                                       \"warnings\",  # Combine text with contraindications and precautions\n",
    "                                        #\"questions\",  # Too much missing data\n",
    "                                       \"spl_product_data_elements\",  # Contains both active and inactive ingredients\n",
    "                                        #\"version\",  # Label version, not needed since ndc code captures this information\n",
    "                                        #\"package_label_principal_display_panel\",  # Package label text, redundant information\n",
    "                                        #\"active_ingredient\",  # Included in spl_product_data_elements\n",
    "                                        \"openfda.brand_name\",  # Combine into list with generic\n",
    "                                        \"openfda.generic_name\",  # Combine into list with brand\n",
    "                                        \"openfda.manufacturer_name\",  # Company that produces the drug\n",
    "                                        \"openfda.product_type\",  # Denotes whether OTC and prescription, and human or animal\n",
    "                                        \"openfda.substance_name\",  # Combine with brand and generic\n",
    "                                        \"openfda.product_ndc\",  # Do NOT tokenize, NDC Product code, use as database key, already a list\n",
    "                                        #\"openfda.package_ndc\",  # Product NDC code plus one extra number for package type, Redundant\n",
    "                                        \"openfda.rxcui\",  # Do NOT tokenize, normed drug code number, retain for database keys\n",
    "                                        \"contraindications\",  # Combine with warnings and precautions\n",
    "                                        \"precautions\"  # Combine with warnings and contraindications\n",
    "                                        ])"
   ]
  },
  {
   "cell_type": "code",
   "execution_count": null,
   "id": "3919acc8-d99a-4234-83d8-1ea8966bef97",
   "metadata": {},
   "outputs": [],
   "source": [
    "labels_table.info()"
   ]
  },
  {
   "cell_type": "markdown",
   "id": "8099e495-afa1-499f-bec8-311e2d47bb31",
   "metadata": {},
   "source": [
    "### Examine Nulls"
   ]
  },
  {
   "cell_type": "code",
   "execution_count": null,
   "id": "a3c55c7a-4b6c-45e7-95cd-1fc83aa11776",
   "metadata": {},
   "outputs": [],
   "source": [
    "labels_nan = nan_info(labels_table)\n",
    "labels_nan"
   ]
  },
  {
   "cell_type": "markdown",
   "id": "e170f5d8-23b7-4fa4-9dba-83cd2401b328",
   "metadata": {},
   "source": [
    "### Fix Dtypes"
   ]
  },
  {
   "cell_type": "code",
   "execution_count": null,
   "id": "1ce816ca-fd78-4b12-8fee-bac2bf333c68",
   "metadata": {},
   "outputs": [],
   "source": [
    "labels_table['effective_time'] = pd.to_datetime(labels_table['effective_time'], format='%Y%m%d')"
   ]
  },
  {
   "cell_type": "markdown",
   "id": "95ae036d-366d-4f74-b1f4-3b3601ccf0a4",
   "metadata": {},
   "source": [
    "### Process Text Columns"
   ]
  },
  {
   "cell_type": "code",
   "execution_count": null,
   "id": "dadb5b47-4cb5-4a67-bf27-d4824df2e7e9",
   "metadata": {},
   "outputs": [],
   "source": [
    "# Define text columns\n",
    "object_columns = labels_table.select_dtypes(include=['object']).columns\n",
    "\n",
    "# Exclude columns that should not be tokenized, index codes\n",
    "object_columns = object_columns.drop(['openfda.product_ndc', 'openfda.rxcui'], errors='ignore')\n",
    "labels_table[object_columns] = labels_table[object_columns].astype(str)\n",
    "\n",
    "# Apply text processing to the selected text columns and add new processed columns to dataframe\n",
    "\n",
    "for col in object_columns:\n",
    "    new_col_name = col + '_processed'\n",
    "    \n",
    "    def process_label_text(x):\n",
    "        #if null, return null value instead of preprocessing as [nan]\n",
    "        if pd.isna(x):  \n",
    "            return None   \n",
    "        else:\n",
    "            return x\n",
    "    \n",
    "    labels_table[new_col_name] = labels_table[col].apply(process_label_text)\n"
   ]
  },
  {
   "cell_type": "code",
   "execution_count": null,
   "id": "d03e43d7-6d45-4ba5-854f-271befd72b5a",
   "metadata": {},
   "outputs": [],
   "source": [
    "labels_table.head(2)"
   ]
  },
  {
   "cell_type": "markdown",
   "id": "5993cb58-a9e3-42dc-8a01-335e80084819",
   "metadata": {},
   "source": [
    "### Examine all variables for quality, content, and redundancy"
   ]
  },
  {
   "cell_type": "code",
   "execution_count": null,
   "id": "60777dd7-f2b5-490b-9f5b-62b84a2ff441",
   "metadata": {},
   "outputs": [],
   "source": [
    "labels_table['spl_product_data_elements_processed'].head()"
   ]
  },
  {
   "cell_type": "code",
   "execution_count": null,
   "id": "41d25625-d4f7-45f3-b310-60fd031962e0",
   "metadata": {},
   "outputs": [],
   "source": [
    "labels_table['purpose'].head()"
   ]
  },
  {
   "cell_type": "code",
   "execution_count": null,
   "id": "f40cf636-7f5f-4567-bde3-9014c33974da",
   "metadata": {},
   "outputs": [],
   "source": [
    "labels_table['purpose_processed'].head()"
   ]
  },
  {
   "cell_type": "code",
   "execution_count": null,
   "id": "1537e1ac-510e-4b77-85cd-4e20527f2302",
   "metadata": {},
   "outputs": [],
   "source": [
    "labels_table['warnings'].head()"
   ]
  },
  {
   "cell_type": "code",
   "execution_count": null,
   "id": "2fa000b5-e141-4b60-a38c-ad6e28d64271",
   "metadata": {},
   "outputs": [],
   "source": [
    "labels_table['warnings_processed'].head()"
   ]
  },
  {
   "cell_type": "code",
   "execution_count": null,
   "id": "d92fb4c1-cce8-4313-b77f-38ab79cfac95",
   "metadata": {},
   "outputs": [],
   "source": [
    "labels_table['contraindications'].head()"
   ]
  },
  {
   "cell_type": "code",
   "execution_count": null,
   "id": "aab2144a-4f03-4eec-bde6-6655f34f11ce",
   "metadata": {},
   "outputs": [],
   "source": [
    "labels_table['contraindications_processed'].head()"
   ]
  },
  {
   "cell_type": "code",
   "execution_count": null,
   "id": "43d54405-4be6-45b0-b097-013e35cb8376",
   "metadata": {},
   "outputs": [],
   "source": [
    "labels_table['precautions'].head()"
   ]
  },
  {
   "cell_type": "code",
   "execution_count": null,
   "id": "38748622-d0b4-4c12-945a-3592eae6694b",
   "metadata": {},
   "outputs": [],
   "source": [
    "labels_table['precautions_processed'].head()"
   ]
  },
  {
   "cell_type": "code",
   "execution_count": null,
   "id": "8d27f74b-5890-491b-8f13-fdfc41d02f61",
   "metadata": {},
   "outputs": [],
   "source": [
    "labels_table['openfda.brand_name_processed'].head()"
   ]
  },
  {
   "cell_type": "code",
   "execution_count": null,
   "id": "295ba9b3-b8c9-46f5-bc19-14291f871cc7",
   "metadata": {},
   "outputs": [],
   "source": [
    "labels_table['openfda.generic_name_processed'].head()"
   ]
  },
  {
   "cell_type": "code",
   "execution_count": null,
   "id": "0c13d61b-a1f8-4e00-abce-8c42316a667d",
   "metadata": {},
   "outputs": [],
   "source": [
    "labels_table['openfda.manufacturer_name_processed'].head()"
   ]
  },
  {
   "cell_type": "code",
   "execution_count": null,
   "id": "a3636c8f-ca4a-495b-8406-5a974b627ed3",
   "metadata": {},
   "outputs": [],
   "source": [
    "labels_table['openfda.product_type_processed'].head()"
   ]
  },
  {
   "cell_type": "code",
   "execution_count": null,
   "id": "5b25de0a-5ab9-41c6-9abb-03f16cc20e39",
   "metadata": {},
   "outputs": [],
   "source": [
    "labels_table['openfda.substance_name_processed'].head()"
   ]
  },
  {
   "cell_type": "code",
   "execution_count": null,
   "id": "34e2f0ac-8364-4e0e-96e6-2f3a8e4fac79",
   "metadata": {},
   "outputs": [],
   "source": [
    "labels_table['openfda.product_ndc'].head()"
   ]
  },
  {
   "cell_type": "markdown",
   "id": "e25dd26e-cf40-45c6-a831-9dccb233cecd",
   "metadata": {},
   "source": [
    "### Feature Creation for Labels Data"
   ]
  },
  {
   "cell_type": "code",
   "execution_count": null,
   "id": "df46626d-3a5f-49a2-a31d-946b97c41bbe",
   "metadata": {},
   "outputs": [],
   "source": [
    "# Add index column\n",
    "labels_table = add_sequential_index(labels_table,'label_id')\n",
    "\n",
    "# Combine warnings, contraindications, and precautions text\n",
    "labels_table['all_warnings_processed'] = labels_table['warnings_processed'] + labels_table['contraindications_processed'] + labels_table['precautions_processed']\n",
    "# Remove duplicate tokens from combination list\n",
    "labels_table['all_warnings_processed'] = labels_table['all_warnings_processed'].apply(remove_duplicates)\n",
    " \n",
    "\n",
    "# Combine brand name, generic name, and substance name\n",
    "labels_table['all_name_processed'] = labels_table['openfda.brand_name_processed'] + labels_table['openfda.generic_name_processed'] + labels_table['openfda.substance_name_processed']\n",
    "# Remove duplicate tokens to retain unique descriptors only\n",
    "labels_table['all_name_processed'] = labels_table['all_name_processed'].apply(remove_duplicates)\n",
    "\n",
    "# Create a category variable from the \"openfda.product_type\"\n",
    "labels_table['category'] = labels_table['openfda.product_type_processed'].apply(classify_product_type)\n"
   ]
  },
  {
   "cell_type": "code",
   "execution_count": null,
   "id": "11dc4afc-9d20-48d7-a80c-3cb04ab2b09c",
   "metadata": {},
   "outputs": [],
   "source": [
    "labels_table.columns"
   ]
  },
  {
   "cell_type": "markdown",
   "id": "33b187c1-4705-43d5-9bcc-a56fa81467aa",
   "metadata": {},
   "source": [
    "### Final List of Features for Labels Data"
   ]
  },
  {
   "cell_type": "code",
   "execution_count": null,
   "id": "5a3763ba-162b-46d7-81c8-e7ac5297ae15",
   "metadata": {},
   "outputs": [],
   "source": [
    "labels_table = labels_table[['label_id','openfda.rxcui', 'openfda.product_ndc', 'effective_time',\n",
    "                            'spl_product_data_elements_processed', 'all_warnings_processed', 'all_name_processed',\n",
    "                            'category', 'openfda.manufacturer_name_processed',\n",
    "                            'purpose_processed']]"
   ]
  },
  {
   "cell_type": "code",
   "execution_count": null,
   "id": "6237d36e-3a2e-4215-9953-8266fd194cf3",
   "metadata": {},
   "outputs": [],
   "source": [
    "labels_table.info()"
   ]
  },
  {
   "cell_type": "code",
   "execution_count": null,
   "id": "2148b748-1231-4cfe-a51f-6491facc2709",
   "metadata": {},
   "outputs": [],
   "source": [
    "labels_table.head()"
   ]
  },
  {
   "cell_type": "markdown",
   "id": "a92c2795-5d6a-49cb-a427-caf3c6cb4071",
   "metadata": {},
   "source": [
    "### Assess Text Field Lengths"
   ]
  },
  {
   "cell_type": "code",
   "execution_count": null,
   "id": "a9046e4b-1be2-41c8-8ad6-d5780edb2a87",
   "metadata": {},
   "outputs": [],
   "source": [
    "plot_character_length(labels_table, 'labels_table')"
   ]
  },
  {
   "cell_type": "markdown",
   "id": "ec93225d-e36c-4149-aa61-133473aaf29d",
   "metadata": {},
   "source": [
    "# PreProcess Prices Table"
   ]
  },
  {
   "cell_type": "markdown",
   "id": "4192e542-f927-4d37-bd27-8efcbb10f63f",
   "metadata": {},
   "source": [
    "#### Select Columns"
   ]
  },
  {
   "cell_type": "code",
   "execution_count": null,
   "id": "6047a92d-b7f9-4166-93eb-8e9dd577bd20",
   "metadata": {},
   "outputs": [],
   "source": [
    "prices_table = pd.DataFrame(prices_df, \n",
    "                            columns = [#\"NDC Description\",  # Identifies the drug name/dosage, Redundant Information with labels_table\n",
    "                                       \"NDC\",  # 11 character FDA code, Do NOT Tokenize, database key\n",
    "                                       \"NADAC_Per_Unit\",  #  The National Average Drug Acquisition Cost per unit, do NOT tokenize\n",
    "                                       \"Effective Date\",  # The effective date of the NADAC Per Unit cost\n",
    "                                        #\"Pricing_Unit\",  # Pricing unit for NDC ('ML', 'GM 'or 'EA'), Not necessary, just use price\n",
    "                                        #\"Pharmacy_Type_Indicator\",  # 'C/I' data from Chain/Independent pharmacies, does not provide helpful info\n",
    "                                        #\"OTC\",  # Indicates whether NDC is over-the-counter (OTC), redundant with labels_table\n",
    "                                        #\"Explanation Code\",  # NADAC Calculation Method, not necessary for this project, too much missing data\n",
    "                                                                       # Code 1: Inform from most recent survey.\n",
    "                                                                       # Code 2: Cost within ± 2%, carried forward from previous\n",
    "                                                                       # Code 3: Published pricing, or help desk inquiry\n",
    "                                                                       # Code 4: Carried forward from previous year\n",
    "                                                                       # Code 5: Based on package size.\n",
    "                                                                       # Code 6: CMS Covered Outpatient Drug Product File drug category \n",
    "                                        \"Classification_for_Rate_Setting\",  # B: brand, \n",
    "                                                                            # G: generic\n",
    "                                                                            # B-ANDA: brand under ANDA\n",
    "                                                                            # B-BIO: biosimilar brand  \n",
    "                                        \"Corresponding_Generic_Drug_NADAC_Per_Unit\",\n",
    "                                        \"Corresponding_Generic_Drug_Effective_Date\"\n",
    "                                        #\"As of Date\"\n",
    "                                      ])\n",
    "\n",
    "#prices_table = prices_table[['NDC', 'NADAC_Per_Unit', 'Effective Date', 'Classification_for_Rate_Setting', \n",
    "#                             'Corresponding_Generic_Drug_NADAC_Per_Unit', 'Corresponding_Generic_Drug_Effective_Date']]\n"
   ]
  },
  {
   "cell_type": "markdown",
   "id": "9521129b-a470-4e08-8d4f-8aef30f24f64",
   "metadata": {},
   "source": [
    "### Fix Dtypes"
   ]
  },
  {
   "cell_type": "code",
   "execution_count": null,
   "id": "25a40b41-ae0b-439b-b220-a8500c3af4c5",
   "metadata": {},
   "outputs": [],
   "source": [
    "prices_table['Effective Date'] = pd.to_datetime(prices_table['Effective Date'])\n",
    "#prices_table['Corresponding_Generic_Drug_Effective_Date'] = pd.to_datetime(prices_table['Corresponding_Generic_Drug_Effective_Date'])\n",
    "prices_table['NADAC_Per_Unit'] = prices_table['NADAC_Per_Unit'].astype(float)"
   ]
  },
  {
   "cell_type": "markdown",
   "id": "fcb944a0-8337-433f-a0ba-4ce924f3e953",
   "metadata": {},
   "source": [
    "### Examine Nulls"
   ]
  },
  {
   "cell_type": "code",
   "execution_count": null,
   "id": "58ba4cbf-e376-4391-b794-045b93d6ea45",
   "metadata": {},
   "outputs": [],
   "source": [
    "# replace empty strings with nan\n",
    "prices_table = prices_table.replace(r'^\\s*$', np.nan, regex=True)\n",
    "\n",
    "prices_nan = nan_info(prices_table_)\n",
    "prices_nan"
   ]
  },
  {
   "cell_type": "markdown",
   "id": "597efcfa-9426-4cd9-8b7d-5e41e62328c0",
   "metadata": {},
   "source": [
    "### Feature Engineering "
   ]
  },
  {
   "cell_type": "code",
   "execution_count": null,
   "id": "76fa6feb-0844-4552-aca3-11370c34e67e",
   "metadata": {},
   "outputs": [],
   "source": [
    "prices_table['Classification_for_Rate_Setting'].value_counts()"
   ]
  },
  {
   "cell_type": "code",
   "execution_count": null,
   "id": "89751cd5-58fd-41cf-b882-79a851fe6724",
   "metadata": {},
   "outputs": [],
   "source": [
    "# Update classification to binary generic/brand, G:1 B:0\n",
    "prices_table['Classification_for_Rate_Setting'] = prices_table['Classification_for_Rate_Setting'].apply(lambda x: 1 if x == 'G' else 0)"
   ]
  },
  {
   "cell_type": "markdown",
   "id": "675fd4c3-0fd7-47e6-9e1d-50c49cafd604",
   "metadata": {},
   "source": [
    "### Assess Text Field Lengths"
   ]
  },
  {
   "cell_type": "code",
   "execution_count": null,
   "id": "0db7bc71-dd9d-4fbf-851d-78220926ffc1",
   "metadata": {},
   "outputs": [],
   "source": [
    "plot_character_length(prices_table, 'prices_table')"
   ]
  },
  {
   "cell_type": "markdown",
   "id": "d2aa8327-4498-40f4-9fc0-3d8e8b18636d",
   "metadata": {},
   "source": [
    "# Standardize/Simplify Variable Name Format Across Tables"
   ]
  },
  {
   "cell_type": "code",
   "execution_count": null,
   "id": "df641269-92de-455a-ba90-8cfbf7535fa9",
   "metadata": {},
   "outputs": [],
   "source": [
    "labels_table = labels_table.rename(columns = {'openfda.rxcui': 'rxcui',\n",
    "                         'openfda.product_ndc': 'ndc',\n",
    "                         'effective_time': 'effect_date',\n",
    "                         'spl_product_data_elements_processed': 'ingredients',\n",
    "                         'all_warnings_processed': 'warnings',\n",
    "                         'all_name_processed': 'drug_names',\n",
    "                         'openfda.product_type_processed': 'product_type',\n",
    "                         'openfda.manufacturer_name_processed': 'manufacturer',\n",
    "                         'purpose_processed': 'purpose'})"
   ]
  },
  {
   "cell_type": "code",
   "execution_count": null,
   "id": "e15ab648-3456-4dfb-9947-48050e94c7d4",
   "metadata": {},
   "outputs": [],
   "source": [
    "labels_table.info()"
   ]
  },
  {
   "cell_type": "code",
   "execution_count": null,
   "id": "63c071fb-480a-4e2a-817d-fd407a4e8341",
   "metadata": {},
   "outputs": [],
   "source": [
    "prices_table = prices_table.rename(columns = {'NDC': 'ndc',\n",
    "                         'NADAC_Per_Unit': 'unit_price',\n",
    "                         'Effective Date': 'effect_date',\n",
    "                         'Classification_for_Rate_Setting': 'generic_brand',\n",
    "                         'Corresponding_Generic_Drug_NADAC_Per_Unit': 'generic_price',\n",
    "                         'Corresponding_Generic_Drug_Effective_Date': 'generic_date'})"
   ]
  },
  {
   "cell_type": "code",
   "execution_count": null,
   "id": "9250d4d4-e511-426f-8051-205332da29a7",
   "metadata": {},
   "outputs": [],
   "source": [
    "prices_table.info()"
   ]
  },
  {
   "cell_type": "code",
   "execution_count": null,
   "id": "b468122a-689c-4e7c-86d4-4e64a4d6018e",
   "metadata": {},
   "outputs": [],
   "source": [
    "events_table = events_merged.rename(columns = {\n",
    "})"
   ]
  },
  {
   "cell_type": "code",
   "execution_count": null,
   "id": "7e216990-10e3-4b91-9d57-82ecb82ebfd4",
   "metadata": {},
   "outputs": [],
   "source": [
    "events_table.info()"
   ]
  },
  {
   "cell_type": "markdown",
   "id": "98cc33cb-7557-4e45-80f6-5910782972d9",
   "metadata": {},
   "source": [
    "# Standardize Drug Names, Side Effects, and Adverse Event Labels across all Table using ADReCS System"
   ]
  },
  {
   "cell_type": "markdown",
   "id": "ebda8a98-292a-4ebd-9801-2d687361ff53",
   "metadata": {},
   "source": [
    "## Allows us to collapse drugs into primary active ingredients/compounds"
   ]
  },
  {
   "cell_type": "code",
   "execution_count": null,
   "id": "3cb50747-9e7a-47ea-ad12-4c4f881966d7",
   "metadata": {},
   "outputs": [],
   "source": [
    "# load in adrecs file\n",
    "# Create mapping dictionaries of names and synonyms\n",
    "# Check if dataframe string contains any terms from dictionary, and update name to standard name"
   ]
  },
  {
   "cell_type": "code",
   "execution_count": null,
   "id": "13d96fda-cc0d-4d29-a675-62c71c330f7c",
   "metadata": {},
   "outputs": [],
   "source": []
  },
  {
   "cell_type": "code",
   "execution_count": null,
   "id": "516a66ab-d3ab-4f27-973d-b4e827fe176a",
   "metadata": {},
   "outputs": [],
   "source": []
  },
  {
   "cell_type": "code",
   "execution_count": null,
   "id": "7a73e8e4-4be6-4eea-9257-97fda165481e",
   "metadata": {},
   "outputs": [],
   "source": []
  },
  {
   "cell_type": "code",
   "execution_count": null,
   "id": "2fca6401-a6d3-4c33-b7b3-74bf9fbedc87",
   "metadata": {},
   "outputs": [],
   "source": []
  },
  {
   "cell_type": "markdown",
   "id": "91118bc7-5879-4623-9217-b0c7125ad73c",
   "metadata": {},
   "source": [
    "# Combining Data into SQL Database Based on Keys"
   ]
  },
  {
   "cell_type": "code",
   "execution_count": null,
   "id": "1c16df0a-de65-428e-9f48-c37bc972e478",
   "metadata": {},
   "outputs": [],
   "source": [
    "# Keys in FDA data = rxcui OR package_ndc\n",
    "# Key in medicaid data = NDC\n",
    "# Key in RxNorm data = rxcui"
   ]
  },
  {
   "cell_type": "markdown",
   "id": "9c19c181-f1de-451e-8025-db80011054df",
   "metadata": {},
   "source": [
    "### Create new database to store data"
   ]
  },
  {
   "cell_type": "code",
   "execution_count": null,
   "id": "8d9fcb45-d27c-48ce-9456-9395792dad3d",
   "metadata": {},
   "outputs": [],
   "source": [
    "# connect to MySQL server\n",
    "connection = mysql.connector.connect(host=\"localhost\", user=\"root\", password=PASSWORD)\n",
    "\n",
    "# Create a cursor object\n",
    "cursor = connection.cursor()\n",
    "\n",
    "# Drop the database if it exists - this is so we can start fresh (at least while developing)\n",
    "cursor.execute(\"DROP DATABASE IF EXISTS pharma_db\")\n",
    "\n",
    "# Create the 'covid_db' database\n",
    "cursor.execute(\"CREATE DATABASE pharma_db\")\n",
    "\n",
    "# Switch to the 'covid_db' database\n",
    "cursor.execute(\"USE pharma_db\")\n",
    "\n",
    "# Commit the changes\n",
    "connection.commit()\n",
    "\n",
    "# Close the cursor and connection\n",
    "cursor.close()\n",
    "connection.close()"
   ]
  },
  {
   "cell_type": "markdown",
   "id": "aa0f7a24-bb48-42ae-ab08-459f262ad559",
   "metadata": {},
   "source": [
    "### Create Read-Only User Access for Public"
   ]
  },
  {
   "cell_type": "code",
   "execution_count": null,
   "id": "d6f89c08-22a9-418f-83bf-c011bd4d27c2",
   "metadata": {},
   "outputs": [],
   "source": [
    "# public username and password"
   ]
  },
  {
   "cell_type": "markdown",
   "id": "2343dcab-d1f6-4112-896e-37fc0dc77d45",
   "metadata": {},
   "source": [
    "### Create Edit Privelages for Us"
   ]
  },
  {
   "cell_type": "code",
   "execution_count": null,
   "id": "8b62420b-c28a-4c30-9e51-11e4df6d3f3d",
   "metadata": {},
   "outputs": [],
   "source": [
    "# private username and password"
   ]
  },
  {
   "cell_type": "markdown",
   "id": "83ea8ce1-a63e-4d3c-99e0-35329958a7ea",
   "metadata": {},
   "source": [
    "### Create dataframes from API request dataframes"
   ]
  },
  {
   "cell_type": "code",
   "execution_count": null,
   "id": "e1f22dba-6b3a-4cbe-bfa2-77609a1daffb",
   "metadata": {},
   "outputs": [],
   "source": [
    "# Connect to the MySQL server\n",
    "connection = mysql.connector.connect(\n",
    "    host=\"localhost\", user=\"root\", password=PASSWORD, database=\"pharma_db\"\n",
    ")\n",
    "\n",
    "# Create a cursor object\n",
    "cursor = connection.cursor()\n",
    "\n",
    "# Create documents table\n",
    "create_documents_table_query = \"\"\"\n",
    "CREATE TABLE IF NOT EXISTS `documents` (\n",
    "  `doc_id` INT NOT NULL,\n",
    "  `doc_type` VARCHAR(4),\n",
    "  `year` INT,\n",
    "  `text_processed` VARCHAR(200),\n",
    "  PRIMARY KEY(`doc_id`)\n",
    ") ENGINE=InnoDB;\n",
    "\"\"\"\n",
    "cursor.execute(create_documents_table_query)\n",
    "\n",
    "# Create adverse events table\n",
    "create_events_query = \"\"\"\n",
    "CREATE TABLE IF NOT EXISTS `adverse_events` (\n",
    "  `event_id` INT NOT NULL,\n",
    "  `safetyreportid` VARCHAR(20),\n",
    "  `transmissiondate` DATE,\n",
    "  `serious` BOOLEAN,\n",
    "  `seriousnessdeath` BOOLEAN,\n",
    "  `country` VARCHAR(45),\n",
    "  `sex` VARCHAR(6),\n",
    "  `reaction` VARCHAR(200),\n",
    "  `drug` VARCHAR(45),\n",
    "  PRIMARY KEY (`event_id`)\n",
    ") ENGINE=InnoDB;\n",
    "\"\"\"\n",
    "cursor.execute(create_events_query)\n",
    "\n",
    "# Create patient_reactions table\n",
    "create_patient_reactions_query = \"\"\"\n",
    "CREATE TABLE IF NOT EXISTS `patient_reactions` (\n",
    " `patient_reaction_id` INT NOT NULL,\n",
    "  `event_id` INT,\n",
    "  `reaction` VARCHAR(50),\n",
    "  `version_medRNA` VARCHAR(50),\n",
    "  `outcome` VARCHAR(50),\n",
    "  PRIMARY KEY(`patient_reaction_id`),\n",
    "  FOREIGN KEY (`event_id`) REFERENCES `adverse_events` (`event_id`)\n",
    "  ON DELETE CASCADE\n",
    "  ) ENGINE=InnoDB;\n",
    "\"\"\"\n",
    "cursor.execute(create_patient_reactions_query)\n",
    "\n",
    "# Create labels table\n",
    "create_labels_query = \"\"\"\n",
    "CREATE TABLE IF NOT EXISTS `labels` (\n",
    "  `label_id` INT NOT NULL AUTO_INCREMENT,\n",
    "  `rxcui` VARCHAR(10),\n",
    "  `ndc` VARCHAR(50), \n",
    "  `effect_date` DATE,\n",
    "  `ingredients` VARCHAR(50),\n",
    "  `warnings` VARCHAR(50),\n",
    "  `drug_names` VARCHAR(50),\n",
    "  `category` BOOLEAN,\n",
    "  `manufacturer` VARCHAR(50),\n",
    "  `purpose` VARCHAR(50),\n",
    "  PRIMARY KEY(`label_id`),\n",
    "  INDEX(`manufacturer`),\n",
    "  INDEX(`ndc`)\n",
    ") ENGINE=InnoDB;\n",
    "\"\"\"\n",
    "cursor.execute(create_labels_query)\n",
    "\n",
    "\n",
    "# Create patient_drugs table\n",
    "create_patient_drugs_query = \"\"\"\n",
    "CREATE TABLE IF NOT EXISTS `patient_drugs` (\n",
    " `patient_drug_id` INT NOT NULL AUTO_INCREMENT,\n",
    "  `event_id` INT,\n",
    "  `generic_name` VARCHAR(50),\n",
    "  `manufacturer` VARCHAR(50),\n",
    "  PRIMARY KEY(`patient_drug_id`),\n",
    "  FOREIGN KEY (`event_id`) REFERENCES `adverse_events` (`event_id`)\n",
    "    ON DELETE CASCADE,\n",
    "  FOREIGN KEY (`manufacturer`) REFERENCES `labels` (`manufacturer`)\n",
    "    ON DELETE CASCADE\n",
    "  ) ENGINE=InnoDB;\n",
    "\"\"\"\n",
    "cursor.execute(create_patient_drugs_query)\n",
    "\n",
    "create_prices_query = \"\"\"\n",
    "CREATE TABLE IF NOT EXISTS `prices` (\n",
    " `price_id` INT NOT NULL AUTO_INCREMENT,\n",
    "  `ndc` VARCHAR(50),\n",
    "  `unit_price` VARCHAR(50),\n",
    "  `effect_date` DATE,\n",
    "  `generic_brand` VARCHAR(50),\n",
    "  `generic_price` VARCHAR(50),\n",
    "  `generic_date` DATE,\n",
    "  PRIMARY KEY(`price_id`),\n",
    "  FOREIGN KEY (`ndc`) REFERENCES `labels` (`ndc`)\n",
    "  ON DELETE CASCADE\n",
    ") ENGINE=InnoDB;\n",
    "\"\"\"\n",
    "cursor.execute(create_prices_query)\n",
    "\n",
    "# show tables below\n",
    "cursor.execute(\"SHOW TABLES\")\n",
    "\n",
    "# Fetch all the rows\n",
    "tables = cursor.fetchall()\n",
    "\n",
    "# Print the list of tables\n",
    "for table in tables:\n",
    "    print(table[0])\n",
    "\n",
    "# Commit the changes\n",
    "connection.commit()\n",
    "\n",
    "# Close the cursor and connection\n",
    "cursor.close()\n",
    "connection.close()"
   ]
  },
  {
   "cell_type": "code",
   "execution_count": null,
   "id": "875ea284-98d6-46af-94b3-03f7b504d023",
   "metadata": {},
   "outputs": [],
   "source": []
  },
  {
   "cell_type": "code",
   "execution_count": null,
   "id": "f81290b5-ee68-49d7-b56d-8f38eff87d35",
   "metadata": {},
   "outputs": [],
   "source": []
  },
  {
   "cell_type": "code",
   "execution_count": null,
   "id": "280124e4-6482-410d-b8c0-299e52713d81",
   "metadata": {},
   "outputs": [],
   "source": []
  },
  {
   "cell_type": "code",
   "execution_count": null,
   "id": "f5c51f36-8660-4cf7-9aa3-b232a021a47a",
   "metadata": {},
   "outputs": [],
   "source": []
  },
  {
   "cell_type": "code",
   "execution_count": null,
   "id": "7cbc6571-ec17-4b72-a6b5-d4eeb0d10ffd",
   "metadata": {},
   "outputs": [],
   "source": []
  },
  {
   "cell_type": "code",
   "execution_count": null,
   "id": "bdea11ea-c9c4-434a-bb79-d4c56ead7298",
   "metadata": {},
   "outputs": [],
   "source": []
  },
  {
   "cell_type": "code",
   "execution_count": null,
   "id": "7caf17cc-e463-4f95-b602-688ef6275c68",
   "metadata": {},
   "outputs": [],
   "source": []
  },
  {
   "cell_type": "code",
   "execution_count": null,
   "id": "16ffa722-f8d2-42ac-85d1-84dd2fb2779b",
   "metadata": {},
   "outputs": [],
   "source": []
  },
  {
   "cell_type": "code",
   "execution_count": null,
   "id": "5ce03922-b4ed-47bd-96b3-7dbc21247446",
   "metadata": {},
   "outputs": [],
   "source": []
  }
 ],
 "metadata": {
  "kernelspec": {
   "display_name": "Python 3 (ipykernel)",
   "language": "python",
   "name": "python3"
  },
  "language_info": {
   "codemirror_mode": {
    "name": "ipython",
    "version": 3
   },
   "file_extension": ".py",
   "mimetype": "text/x-python",
   "name": "python",
   "nbconvert_exporter": "python",
   "pygments_lexer": "ipython3",
   "version": "3.8.8"
  }
 },
 "nbformat": 4,
 "nbformat_minor": 5
}
