{
 "cells": [
  {
   "cell_type": "markdown",
   "id": "636c2b90-391a-4584-af98-0f3339248d5c",
   "metadata": {},
   "source": [
    "# Load Libraries and Functions"
   ]
  },
  {
   "cell_type": "code",
   "execution_count": 1,
   "id": "05ff8559-6d5e-4ef1-a907-2fb2e5d79441",
   "metadata": {},
   "outputs": [],
   "source": [
    "# System, Data, Time, and Spec Libraries\n",
    "import os\n",
    "import pandas as pd\n",
    "import time\n",
    "import random\n",
    "from datetime import datetime, timedelta\n",
    "import numpy as np \n",
    "from line_profiler import LineProfiler  # Code peformance\n",
    "profiler = LineProfiler()\n",
    "import warnings\n",
    "warnings.filterwarnings('ignore')\n",
    "import csv\n",
    "#pd.set_option('display.max_colwidth', None)\n",
    "import multiprocess as mp\n",
    "num_cores = mp.cpu_count()\n",
    "\n",
    "# Data Visualization Libraries\n",
    "import matplotlib.pyplot as plt\n",
    "from tabulate import tabulate\n",
    "import plotly.express as px\n",
    "import seaborn as sns\n",
    "#from pandas.io.json import json_normalize  # Older version\n",
    "from pandas import json_normalize  # Newer version\n",
    "\n",
    "\n",
    "# Natural Language Processing Libraries\n",
    "import json\n",
    "import requests\n",
    "import xml.etree.ElementTree as ET\n",
    "import nltk\n",
    "import re\n",
    "from nltk.tokenize import word_tokenize\n",
    "from nltk.corpus import words\n",
    "import string\n",
    "import nltk\n",
    "from collections import OrderedDict\n",
    "from nltk.tokenize import word_tokenize\n",
    "from pandas import json_normalize\n",
    "from nltk.stem import WordNetLemmatizer\n",
    "lemmatizer = WordNetLemmatizer()\n",
    "from nltk.util import ngrams\n",
    "from nltk.corpus import stopwords\n",
    "from string import punctuation\n",
    "punctuation = set(punctuation)\n",
    "punctuation.update({'_', '-','‘'})\n",
    "english_words = set(words.words())\n",
    "from fuzzywuzzy import process\n",
    "#nltk.download('words')\n",
    "#nltk.download('punkt')\n",
    "#nltk.download('stopwords')\n",
    "\n",
    "# SQL Interface Libraries\n",
    "import pymysql as mysql\n",
    "import mysql.connector\n",
    "import pyodbc\n",
    "import sqlite3\n",
    "import sqlalchemy\n",
    "from sqlalchemy import create_engine\n",
    "from sqlalchemy import event\n",
    "from string import punctuation\n",
    "\n",
    "# Importing Custom Functions\n",
    "import nbimporter\n",
    "from Functions import process_text, add_sequential_index, process_label_text, remove_duplicates_nan\n",
    "from Functions import classify_product_type, nan_info, plot_character_length, convert_to_years, examine_text_outliers\n",
    "from Functions import process_company_text, clean_manufacturer_text, clean_data\n"
   ]
  },
  {
   "cell_type": "markdown",
   "id": "0b318ddf",
   "metadata": {},
   "source": [
    "### Test Multiprocessing with Script"
   ]
  },
  {
   "cell_type": "code",
   "execution_count": null,
   "id": "4bb34c48",
   "metadata": {},
   "outputs": [],
   "source": [
    "def f(x):\n",
    "    return x*x\n",
    "\n",
    "# should add if __name__ == '__main__': protection to protect against infinite process creation\n",
    "if __name__ == '__main__':\n",
    "    with mp.Pool(5) as pool:\n",
    "        print(pool.map(f, [1, 2, 3, 4, 5]))"
   ]
  },
  {
   "cell_type": "markdown",
   "id": "65fa2a97-814f-4389-847b-f40e0ed0119d",
   "metadata": {},
   "source": [
    "# API Keys and Passwords"
   ]
  },
  {
   "cell_type": "code",
   "execution_count": 2,
   "id": "36ce6eba-081e-4163-96d1-f68ddbf64500",
   "metadata": {},
   "outputs": [],
   "source": [
    "# MySQL password\n",
    "PASSWORD = \"PASSWORD\"  # Your Password\n",
    "\n",
    "# openFDA API Key\n",
    "openFDAAPI = \"E9AA90Q9ntbRnUu0MuXGVPchoquUCFgNhbmZ8pOk\"  # Halee\n",
    "\n",
    "# Data.Medicaid API Key"
   ]
  },
  {
   "cell_type": "code",
   "execution_count": null,
   "id": "81e451ef-02fa-473e-99fb-536edfdfba67",
   "metadata": {},
   "outputs": [],
   "source": [
    "# Code to assess performance\n",
    "# Still need to implement\n",
    "#from line_profiler import LineProfiler\n",
    "\n",
    "#def your_function():\n",
    "    # Your code here\n",
    "\n",
    "\n",
    "#profiler.add_function(your_function)\n",
    "#profiler.run('your_function()')\n",
    "#profiler.print_stats()"
   ]
  },
  {
   "cell_type": "markdown",
   "id": "6ab5deb8-b58b-4467-9d41-e932713b15ec",
   "metadata": {},
   "source": [
    "# FDA Data"
   ]
  },
  {
   "cell_type": "markdown",
   "id": "f8914c2b-c2b1-4a5a-9283-a64859e3bc55",
   "metadata": {},
   "source": [
    "## API Request for Historical Text Documents\n",
    "* From Year of FAERS Inception until Most Recent"
   ]
  },
  {
   "cell_type": "markdown",
   "id": "7db161d9-9254-46be-8958-b43e089a41a9",
   "metadata": {},
   "source": [
    "https://open.fda.gov/apis/other/historicaldocument/"
   ]
  },
  {
   "cell_type": "code",
   "execution_count": 48,
   "id": "99271241-e99f-4868-b6e1-fe8ed7177bd6",
   "metadata": {},
   "outputs": [
    {
     "name": "stdout",
     "output_type": "stream",
     "text": [
      ".Failed to fetch data: 404\n",
      "\n",
      "Request Time: 2.182504415512085\n"
     ]
    }
   ],
   "source": [
    "# Time API call\n",
    "start_time = time.time() \n",
    "\n",
    "# OpenFDA API endpoint for fetching historical documents\n",
    "BASE_URL = 'https://api.fda.gov/other/historicaldocument.json'\n",
    "\n",
    "# API Key for authentication\n",
    "API_KEY = openFDAAPI\n",
    "\n",
    "# Parameters for the API request\n",
    "params = {\n",
    "    'limit': 1000,  # Adjust the limit as needed\n",
    "    'skip': 0,       # Starting point for fetching records\n",
    "    'search': \"year:2012 + year:2013 + year:2014\"\n",
    "}\n",
    "\n",
    "# Function to pause execution to avoid overwhelming the server\n",
    "def pause_execution():\n",
    "    time.sleep(0.2727 + 0.1 * random.random())\n",
    "\n",
    "# Function to fetch data from the OpenFDA API\n",
    "def fetch_data():\n",
    "    documents = []\n",
    "    \n",
    "    while True:\n",
    "        headers = {\n",
    "            'Authorization': f'Bearer {API_KEY}'\n",
    "        }\n",
    "        response = requests.get(BASE_URL, params=params, headers=headers)\n",
    "\n",
    "        if response.status_code != 200:\n",
    "            print(f\"Failed to fetch data: {response.status_code}\")\n",
    "            break\n",
    "        \n",
    "        data = response.json()\n",
    "        results = data.get('results', [])\n",
    "        if not results:\n",
    "            print(\"No more results found.\")\n",
    "            break\n",
    "\n",
    "        for item in results:\n",
    "            doc_type = item.get('doc_type', 'N/A')\n",
    "            year = item.get('year', 'N/A')\n",
    "            text = item.get('text', 'N/A')\n",
    "            document = {'doc_type': doc_type, 'year': year, 'text': text}\n",
    "            if document not in documents:\n",
    "                documents.append(document)\n",
    "        \n",
    "        params['skip'] += params['limit']\n",
    "        pause_execution()\n",
    "\n",
    "        print('.', end='', flush=True)\n",
    "\n",
    "    return documents\n",
    "\n",
    "# Fetch the data\n",
    "documents = fetch_data()\n",
    "\n",
    "# Calculate Processing Time to Get All Data\n",
    "end_time = time.time()\n",
    "execution_time = end_time - start_time\n",
    "print(f\"\\nRequest Time: {execution_time}\")\n"
   ]
  },
  {
   "cell_type": "code",
   "execution_count": 49,
   "id": "40de418a",
   "metadata": {},
   "outputs": [
    {
     "data": {
      "text/html": [
       "<div>\n",
       "<style scoped>\n",
       "    .dataframe tbody tr th:only-of-type {\n",
       "        vertical-align: middle;\n",
       "    }\n",
       "\n",
       "    .dataframe tbody tr th {\n",
       "        vertical-align: top;\n",
       "    }\n",
       "\n",
       "    .dataframe thead th {\n",
       "        text-align: right;\n",
       "    }\n",
       "</style>\n",
       "<table border=\"1\" class=\"dataframe\">\n",
       "  <thead>\n",
       "    <tr style=\"text-align: right;\">\n",
       "      <th></th>\n",
       "      <th>doc_type</th>\n",
       "      <th>year</th>\n",
       "      <th>text</th>\n",
       "    </tr>\n",
       "  </thead>\n",
       "  <tbody>\n",
       "    <tr>\n",
       "      <th>0</th>\n",
       "      <td>pr</td>\n",
       "      <td>2014</td>\n",
       "      <td>FDA NEWS RELEASE\\nFor Immediate Release: April...</td>\n",
       "    </tr>\n",
       "    <tr>\n",
       "      <th>1</th>\n",
       "      <td>pr</td>\n",
       "      <td>2014</td>\n",
       "      <td>FDA NEWS RELEASE\\n\\nFor Immediate Release: Apr...</td>\n",
       "    </tr>\n",
       "    <tr>\n",
       "      <th>2</th>\n",
       "      <td>pr</td>\n",
       "      <td>2013</td>\n",
       "      <td>FDA NEWS RELEASE\\n\\nFor Immediate Release: Jul...</td>\n",
       "    </tr>\n",
       "    <tr>\n",
       "      <th>3</th>\n",
       "      <td>pr</td>\n",
       "      <td>2013</td>\n",
       "      <td>FDA NEWS RELEASE\\n\\nFor Immediate Release: Jul...</td>\n",
       "    </tr>\n",
       "    <tr>\n",
       "      <th>4</th>\n",
       "      <td>pr</td>\n",
       "      <td>2014</td>\n",
       "      <td>FDA NEWS RELEASE\\n\\nFor Immediate Release: Apr...</td>\n",
       "    </tr>\n",
       "  </tbody>\n",
       "</table>\n",
       "</div>"
      ],
      "text/plain": [
       "  doc_type  year                                               text\n",
       "0       pr  2014  FDA NEWS RELEASE\\nFor Immediate Release: April...\n",
       "1       pr  2014  FDA NEWS RELEASE\\n\\nFor Immediate Release: Apr...\n",
       "2       pr  2013  FDA NEWS RELEASE\\n\\nFor Immediate Release: Jul...\n",
       "3       pr  2013  FDA NEWS RELEASE\\n\\nFor Immediate Release: Jul...\n",
       "4       pr  2014  FDA NEWS RELEASE\\n\\nFor Immediate Release: Apr..."
      ]
     },
     "execution_count": 49,
     "metadata": {},
     "output_type": "execute_result"
    }
   ],
   "source": [
    "# Save the data to a dataframe\n",
    "documents_df = pd.DataFrame(documents)\n",
    "documents_df.head()"
   ]
  },
  {
   "cell_type": "code",
   "execution_count": 27,
   "id": "30bc1d7b-655c-4b0a-a0c9-47e60d38bf54",
   "metadata": {},
   "outputs": [
    {
     "name": "stdout",
     "output_type": "stream",
     "text": [
      "<class 'pandas.core.frame.DataFrame'>\n",
      "RangeIndex: 484 entries, 0 to 483\n",
      "Data columns (total 3 columns):\n",
      " #   Column    Non-Null Count  Dtype \n",
      "---  ------    --------------  ----- \n",
      " 0   doc_type  484 non-null    object\n",
      " 1   year      484 non-null    int64 \n",
      " 2   text      484 non-null    object\n",
      "dtypes: int64(1), object(2)\n",
      "memory usage: 11.5+ KB\n"
     ]
    }
   ],
   "source": [
    "# 8854 documents at time of project creation\n",
    "documents_df.info()"
   ]
  },
  {
   "cell_type": "code",
   "execution_count": null,
   "id": "760bafae-a246-4c00-9149-7aa518b4009f",
   "metadata": {},
   "outputs": [],
   "source": [
    "# Save csv file to data library\n",
    "#csv_file_path = 'DataLibrary/raw_documents.csv'\n",
    "#documents_df.to_csv(csv_file_path, index=False)"
   ]
  },
  {
   "cell_type": "markdown",
   "id": "a398846e-acd7-4731-a6c5-48fb2a8cfbbb",
   "metadata": {},
   "source": [
    "## API Request for Adverse Events Data"
   ]
  },
  {
   "cell_type": "markdown",
   "id": "75d63dbe-9698-47e6-aa5a-204e56014108",
   "metadata": {},
   "source": [
    "https://open.fda.gov/apis/drug/event/"
   ]
  },
  {
   "cell_type": "code",
   "execution_count": null,
   "id": "21a16507",
   "metadata": {},
   "outputs": [
    {
     "name": "stdout",
     "output_type": "stream",
     "text": [
      ".................................................................................................................................................................................................................................................................................................................................................................................................................................................................................................................................................................................................................................................................................................................................................................................................................................................................................................................................................................................................................................................................................................................................................................................................................................................................................................................................................................................................................................................................................................................................................................................................................................................................................................................................................................................................................................................................................................................................................................................................................................................................................................................................................................................................................................................................................................................................................................................................................................................................................................................................................................................................................................................................................................................................................................................................................................................................................................................................................................................................................................................................................................................................................................................."
     ]
    }
   ],
   "source": [
    "# Time the API call\n",
    "start_time = time.time()\n",
    "\n",
    "# OpenFDA API endpoint for fetching drug event data\n",
    "BASE_URL = 'https://api.fda.gov/drug/event.json'\n",
    "\n",
    "# API Key for authentication\n",
    "API_KEY = openFDAAPI\n",
    "\n",
    "# Parameters for the initial API request\n",
    "params = {\n",
    "    'limit': 100,  # Maximum limit per request\n",
    "    'search': 'patient.reaction.reactionoutcome:<6 AND _exists_:patient.patientweight AND receiptdate:[2018-01-01 TO 2024-04-23]',\n",
    "    'sort': 'receivedate:asc'\n",
    "}\n",
    "\n",
    "# Output file path outside of GitHub due to large file size\n",
    "OUTPUT_FILE = os.path.join(os.environ['USERPROFILE'], 'Downloads', 'drug_events.csv')\n",
    "\n",
    "\n",
    "# Function to pause execution to avoid overwhelming the server\n",
    "def pause_execution():\n",
    "    time.sleep(0.2727 + 0.1 * random.random())\n",
    "\n",
    "\n",
    "# Function to fetch data from the OpenFDA API using the Search-After mechanism\n",
    "def fetch_data():\n",
    "    next_url = None\n",
    "    count = 0\n",
    "\n",
    "    # Open the file in write mode and write the header\n",
    "    with open(OUTPUT_FILE, mode='w') as file:\n",
    "        first_chunk = True\n",
    "\n",
    "        while True:\n",
    "            headers = {\n",
    "                'Authorization': f'Bearer {API_KEY}'\n",
    "            }\n",
    "\n",
    "            if next_url:\n",
    "                response = requests.get(next_url, headers=headers)\n",
    "            else:\n",
    "                response = requests.get(BASE_URL, params=params, headers=headers)\n",
    "\n",
    "            if response.status_code != 200:\n",
    "                print(f\"Failed to fetch data: {response.status_code}\")\n",
    "                break\n",
    "\n",
    "            data = response.json()\n",
    "            results = data.get('results', [])\n",
    "            if not results:\n",
    "                print(\"No more results found.\")\n",
    "                break\n",
    "\n",
    "            # Convert the results to a DataFrame\n",
    "            df = pd.DataFrame(results)\n",
    "\n",
    "            # Write the data to CSV incrementally\n",
    "            if first_chunk:\n",
    "                df.to_csv(file, index=False, mode='a')\n",
    "                first_chunk = False\n",
    "            else:\n",
    "                df.to_csv(file, index=False, header=False, mode='a')\n",
    "\n",
    "            count += len(results)\n",
    "\n",
    "            # Extract the next URL from the Link header\n",
    "            next_url = None\n",
    "            link_header = response.headers.get('Link')\n",
    "            if link_header:\n",
    "                links = link_header.split(',')\n",
    "                for link in links:\n",
    "                    if 'rel=\"next\"' in link:\n",
    "                        next_url = link[link.find('<') + 1:link.find('>')]\n",
    "                        break\n",
    "\n",
    "            if not next_url:\n",
    "                print(\"No more pages found.\")\n",
    "                break\n",
    "\n",
    "            pause_execution()\n",
    "            print('.', end='', flush=True)\n",
    "\n",
    "    print(f\"\\nTotal records fetched: {count}\")\n",
    "    return OUTPUT_FILE\n",
    "\n",
    "\n",
    "# Fetch the data and save it incrementally to a CSV file\n",
    "fetch_data()\n",
    "\n",
    "# Calculate Processing Time to Get All Data\n",
    "end_time = time.time()\n",
    "execution_time = end_time - start_time\n",
    "print(f\"\\nRequest Time: {execution_time} seconds\")"
   ]
  },
  {
   "cell_type": "code",
   "execution_count": null,
   "id": "2116e5ad",
   "metadata": {},
   "outputs": [],
   "source": [
    "events_df = pd.read_csv('C://Halee/Downloads/drug_events.csv')"
   ]
  },
  {
   "cell_type": "code",
   "execution_count": 68,
   "id": "5619c970",
   "metadata": {},
   "outputs": [
    {
     "data": {
      "text/html": [
       "<div>\n",
       "<style scoped>\n",
       "    .dataframe tbody tr th:only-of-type {\n",
       "        vertical-align: middle;\n",
       "    }\n",
       "\n",
       "    .dataframe tbody tr th {\n",
       "        vertical-align: top;\n",
       "    }\n",
       "\n",
       "    .dataframe thead th {\n",
       "        text-align: right;\n",
       "    }\n",
       "</style>\n",
       "<table border=\"1\" class=\"dataframe\">\n",
       "  <thead>\n",
       "    <tr style=\"text-align: right;\">\n",
       "      <th></th>\n",
       "      <th>safetyreportversion</th>\n",
       "      <th>safetyreportid</th>\n",
       "      <th>primarysourcecountry</th>\n",
       "      <th>occurcountry</th>\n",
       "      <th>transmissiondateformat</th>\n",
       "      <th>transmissiondate</th>\n",
       "      <th>reporttype</th>\n",
       "      <th>serious</th>\n",
       "      <th>seriousnessdeath</th>\n",
       "      <th>seriousnesslifethreatening</th>\n",
       "      <th>...</th>\n",
       "      <th>receiptdate</th>\n",
       "      <th>fulfillexpeditecriteria</th>\n",
       "      <th>companynumb</th>\n",
       "      <th>duplicate</th>\n",
       "      <th>reportduplicate</th>\n",
       "      <th>primarysource</th>\n",
       "      <th>sender</th>\n",
       "      <th>receiver</th>\n",
       "      <th>patient</th>\n",
       "      <th>authoritynumb</th>\n",
       "    </tr>\n",
       "  </thead>\n",
       "  <tbody>\n",
       "    <tr>\n",
       "      <th>0</th>\n",
       "      <td>4</td>\n",
       "      <td>3670355</td>\n",
       "      <td>BE</td>\n",
       "      <td>BE</td>\n",
       "      <td>102</td>\n",
       "      <td>20190205</td>\n",
       "      <td>1</td>\n",
       "      <td>1</td>\n",
       "      <td>1</td>\n",
       "      <td>1</td>\n",
       "      <td>...</td>\n",
       "      <td>20181001</td>\n",
       "      <td>1</td>\n",
       "      <td>PHBS2001BE05505</td>\n",
       "      <td>1</td>\n",
       "      <td>{'duplicatesource': 'NOVARTIS', 'duplicatenumb...</td>\n",
       "      <td>{'reportercountry': 'CA', 'qualification': '3'}</td>\n",
       "      <td>{'sendertype': '2', 'senderorganization': 'FDA...</td>\n",
       "      <td>{'receivertype': '6', 'receiverorganization': ...</td>\n",
       "      <td>{'patientonsetage': '1', 'patientonsetageunit'...</td>\n",
       "      <td>NaN</td>\n",
       "    </tr>\n",
       "    <tr>\n",
       "      <th>1</th>\n",
       "      <td>10</td>\n",
       "      <td>3761426</td>\n",
       "      <td>JP</td>\n",
       "      <td>JP</td>\n",
       "      <td>102</td>\n",
       "      <td>20181010</td>\n",
       "      <td>1</td>\n",
       "      <td>1</td>\n",
       "      <td>1</td>\n",
       "      <td>NaN</td>\n",
       "      <td>...</td>\n",
       "      <td>20180918</td>\n",
       "      <td>1</td>\n",
       "      <td>PHBS2001JP13073</td>\n",
       "      <td>1</td>\n",
       "      <td>{'duplicatesource': 'NOVARTIS', 'duplicatenumb...</td>\n",
       "      <td>{'reportercountry': 'JP', 'qualification': '1'}</td>\n",
       "      <td>{'sendertype': '2', 'senderorganization': 'FDA...</td>\n",
       "      <td>{'receivertype': '6', 'receiverorganization': ...</td>\n",
       "      <td>{'patientonsetage': '49', 'patientonsetageunit...</td>\n",
       "      <td>NaN</td>\n",
       "    </tr>\n",
       "    <tr>\n",
       "      <th>2</th>\n",
       "      <td>6</td>\n",
       "      <td>3761713</td>\n",
       "      <td>JP</td>\n",
       "      <td>JP</td>\n",
       "      <td>102</td>\n",
       "      <td>20190205</td>\n",
       "      <td>1</td>\n",
       "      <td>1</td>\n",
       "      <td>NaN</td>\n",
       "      <td>NaN</td>\n",
       "      <td>...</td>\n",
       "      <td>20181116</td>\n",
       "      <td>1</td>\n",
       "      <td>PHBS2002JP00714</td>\n",
       "      <td>1</td>\n",
       "      <td>{'duplicatesource': 'NOVARTIS', 'duplicatenumb...</td>\n",
       "      <td>{'reportercountry': 'JP', 'qualification': '1'}</td>\n",
       "      <td>{'sendertype': '2', 'senderorganization': 'FDA...</td>\n",
       "      <td>{'receivertype': '6', 'receiverorganization': ...</td>\n",
       "      <td>{'patientonsetage': '58', 'patientonsetageunit...</td>\n",
       "      <td>NaN</td>\n",
       "    </tr>\n",
       "    <tr>\n",
       "      <th>3</th>\n",
       "      <td>9</td>\n",
       "      <td>3757539</td>\n",
       "      <td>JP</td>\n",
       "      <td>JP</td>\n",
       "      <td>102</td>\n",
       "      <td>20180711</td>\n",
       "      <td>1</td>\n",
       "      <td>1</td>\n",
       "      <td>1</td>\n",
       "      <td>NaN</td>\n",
       "      <td>...</td>\n",
       "      <td>20180415</td>\n",
       "      <td>1</td>\n",
       "      <td>PHBS2002JP01027</td>\n",
       "      <td>1</td>\n",
       "      <td>{'duplicatesource': 'NOVARTIS', 'duplicatenumb...</td>\n",
       "      <td>{'reportercountry': 'JP', 'qualification': '5'}</td>\n",
       "      <td>{'sendertype': '2', 'senderorganization': 'FDA...</td>\n",
       "      <td>{'receivertype': '6', 'receiverorganization': ...</td>\n",
       "      <td>{'patientonsetage': '76', 'patientonsetageunit...</td>\n",
       "      <td>NaN</td>\n",
       "    </tr>\n",
       "    <tr>\n",
       "      <th>4</th>\n",
       "      <td>5</td>\n",
       "      <td>3792669</td>\n",
       "      <td>JP</td>\n",
       "      <td>JP</td>\n",
       "      <td>102</td>\n",
       "      <td>20180711</td>\n",
       "      <td>1</td>\n",
       "      <td>1</td>\n",
       "      <td>NaN</td>\n",
       "      <td>NaN</td>\n",
       "      <td>...</td>\n",
       "      <td>20180415</td>\n",
       "      <td>1</td>\n",
       "      <td>PHBS2002JP05309</td>\n",
       "      <td>1</td>\n",
       "      <td>{'duplicatesource': 'NOVARTIS', 'duplicatenumb...</td>\n",
       "      <td>{'reportercountry': 'JP', 'qualification': '3'}</td>\n",
       "      <td>{'sendertype': '2', 'senderorganization': 'FDA...</td>\n",
       "      <td>{'receivertype': '6', 'receiverorganization': ...</td>\n",
       "      <td>{'patientonsetage': '79', 'patientonsetageunit...</td>\n",
       "      <td>NaN</td>\n",
       "    </tr>\n",
       "  </tbody>\n",
       "</table>\n",
       "<p>5 rows × 27 columns</p>\n",
       "</div>"
      ],
      "text/plain": [
       "  safetyreportversion safetyreportid primarysourcecountry occurcountry  \\\n",
       "0                   4        3670355                   BE           BE   \n",
       "1                  10        3761426                   JP           JP   \n",
       "2                   6        3761713                   JP           JP   \n",
       "3                   9        3757539                   JP           JP   \n",
       "4                   5        3792669                   JP           JP   \n",
       "\n",
       "  transmissiondateformat transmissiondate reporttype serious seriousnessdeath  \\\n",
       "0                    102         20190205          1       1                1   \n",
       "1                    102         20181010          1       1                1   \n",
       "2                    102         20190205          1       1              NaN   \n",
       "3                    102         20180711          1       1                1   \n",
       "4                    102         20180711          1       1              NaN   \n",
       "\n",
       "  seriousnesslifethreatening  ... receiptdate fulfillexpeditecriteria  \\\n",
       "0                          1  ...    20181001                       1   \n",
       "1                        NaN  ...    20180918                       1   \n",
       "2                        NaN  ...    20181116                       1   \n",
       "3                        NaN  ...    20180415                       1   \n",
       "4                        NaN  ...    20180415                       1   \n",
       "\n",
       "       companynumb duplicate  \\\n",
       "0  PHBS2001BE05505         1   \n",
       "1  PHBS2001JP13073         1   \n",
       "2  PHBS2002JP00714         1   \n",
       "3  PHBS2002JP01027         1   \n",
       "4  PHBS2002JP05309         1   \n",
       "\n",
       "                                     reportduplicate  \\\n",
       "0  {'duplicatesource': 'NOVARTIS', 'duplicatenumb...   \n",
       "1  {'duplicatesource': 'NOVARTIS', 'duplicatenumb...   \n",
       "2  {'duplicatesource': 'NOVARTIS', 'duplicatenumb...   \n",
       "3  {'duplicatesource': 'NOVARTIS', 'duplicatenumb...   \n",
       "4  {'duplicatesource': 'NOVARTIS', 'duplicatenumb...   \n",
       "\n",
       "                                     primarysource  \\\n",
       "0  {'reportercountry': 'CA', 'qualification': '3'}   \n",
       "1  {'reportercountry': 'JP', 'qualification': '1'}   \n",
       "2  {'reportercountry': 'JP', 'qualification': '1'}   \n",
       "3  {'reportercountry': 'JP', 'qualification': '5'}   \n",
       "4  {'reportercountry': 'JP', 'qualification': '3'}   \n",
       "\n",
       "                                              sender  \\\n",
       "0  {'sendertype': '2', 'senderorganization': 'FDA...   \n",
       "1  {'sendertype': '2', 'senderorganization': 'FDA...   \n",
       "2  {'sendertype': '2', 'senderorganization': 'FDA...   \n",
       "3  {'sendertype': '2', 'senderorganization': 'FDA...   \n",
       "4  {'sendertype': '2', 'senderorganization': 'FDA...   \n",
       "\n",
       "                                            receiver  \\\n",
       "0  {'receivertype': '6', 'receiverorganization': ...   \n",
       "1  {'receivertype': '6', 'receiverorganization': ...   \n",
       "2  {'receivertype': '6', 'receiverorganization': ...   \n",
       "3  {'receivertype': '6', 'receiverorganization': ...   \n",
       "4  {'receivertype': '6', 'receiverorganization': ...   \n",
       "\n",
       "                                             patient authoritynumb  \n",
       "0  {'patientonsetage': '1', 'patientonsetageunit'...           NaN  \n",
       "1  {'patientonsetage': '49', 'patientonsetageunit...           NaN  \n",
       "2  {'patientonsetage': '58', 'patientonsetageunit...           NaN  \n",
       "3  {'patientonsetage': '76', 'patientonsetageunit...           NaN  \n",
       "4  {'patientonsetage': '79', 'patientonsetageunit...           NaN  \n",
       "\n",
       "[5 rows x 27 columns]"
      ]
     },
     "execution_count": 68,
     "metadata": {},
     "output_type": "execute_result"
    }
   ],
   "source": [
    "events_df.head()"
   ]
  },
  {
   "cell_type": "code",
   "execution_count": 69,
   "id": "052b822c",
   "metadata": {},
   "outputs": [
    {
     "data": {
      "text/plain": [
       "(200, 27)"
      ]
     },
     "execution_count": 69,
     "metadata": {},
     "output_type": "execute_result"
    }
   ],
   "source": [
    "events_df.shape"
   ]
  },
  {
   "cell_type": "code",
   "execution_count": null,
   "id": "71f5a1e5-8720-4984-9aec-838ffd456d1a",
   "metadata": {},
   "outputs": [],
   "source": [
    "events_df.info()"
   ]
  },
  {
   "cell_type": "markdown",
   "id": "82ed5d0a-6932-422b-818c-809de3c4aba7",
   "metadata": {},
   "source": [
    "#### Examine Variables of Interest"
   ]
  },
  {
   "cell_type": "code",
   "execution_count": null,
   "id": "f3b06537-95e2-4c09-9888-894408943aae",
   "metadata": {},
   "outputs": [],
   "source": [
    "# 2 - Yes, 1 - No\n",
    "events_df['fulfillexpeditecriteria'].value_counts()"
   ]
  },
  {
   "cell_type": "code",
   "execution_count": null,
   "id": "26d92df4-8c20-4259-a8a4-1fc10b18bd7e",
   "metadata": {},
   "outputs": [],
   "source": [
    "# 5 - Consumer/NonHealth, 4 - Lawyer, 3 - Health Professional, 4 - Pharmacist, 5 - MD\n",
    "events_df['primarysource.qualification'].value_counts()"
   ]
  },
  {
   "cell_type": "code",
   "execution_count": null,
   "id": "0a487559",
   "metadata": {},
   "outputs": [],
   "source": [
    "# 1 - Yes (death/hospitalization/lifethreatening/other/birthdefect), 2 - No\n",
    "events_df['serious'].value_counts()"
   ]
  },
  {
   "cell_type": "code",
   "execution_count": null,
   "id": "770372fd",
   "metadata": {},
   "outputs": [],
   "source": [
    "# 1 - Death, 2 - Other \n",
    "events_df['seriousnessdeath'].value_counts()"
   ]
  },
  {
   "cell_type": "code",
   "execution_count": null,
   "id": "f2cbac3f-98fb-435f-803c-8b88c792ff46",
   "metadata": {},
   "outputs": [],
   "source": [
    "# Distribution of Age\n",
    "plt.hist(events_df['patient.patientonsetage'].astype('float'))\n",
    "ticks = np.arange(0, 100, 5)  # Customize this range as needed\n",
    "plt.xticks(ticks)\n",
    "plt.xlabel('Age (years)')\n",
    "plt.ylabel('Frequency')\n",
    "plt.title('Age Distribution FAERS')\n",
    "plt.show()"
   ]
  },
  {
   "cell_type": "code",
   "execution_count": null,
   "id": "84678b73-de8a-4233-b758-f38675279248",
   "metadata": {},
   "outputs": [],
   "source": [
    "# Ages come in different units, need to standardize to years\n",
    "events_df['patient.patientonsetageunit'].value_counts()"
   ]
  },
  {
   "cell_type": "code",
   "execution_count": null,
   "id": "2aff29e2-2df3-4575-929e-af3e5f0b3235",
   "metadata": {},
   "outputs": [],
   "source": [
    "# Some reports have more than one version, retain most recent versions only\n",
    "events_df['safetyreportversion'].value_counts()"
   ]
  },
  {
   "cell_type": "code",
   "execution_count": null,
   "id": "330c63e1-92ce-43d1-9e84-2c13853daa60",
   "metadata": {},
   "outputs": [],
   "source": [
    "# Can see manufacturers where most reports were duplicated\n",
    "events_df['reportduplicate.duplicatesource'].value_counts()"
   ]
  },
  {
   "cell_type": "code",
   "execution_count": null,
   "id": "35b086b8-eda2-46ac-bb47-19407f674d2b",
   "metadata": {},
   "outputs": [],
   "source": [
    "# Save the data to a CSV file\n",
    "#csv_file_path = 'DataLibrary/raw_events.csv'\n",
    "#events_df.to_csv(csv_file_path, index=False)\n",
    "\n",
    "#print(f\"Data saved to {csv_file_path} and {json_file_path}\")"
   ]
  },
  {
   "cell_type": "markdown",
   "id": "e2904da9-a956-49a6-9bed-4c0a411be1e8",
   "metadata": {},
   "source": [
    "## API Request for Drug Labels"
   ]
  },
  {
   "cell_type": "markdown",
   "id": "26df3cbe-f2c2-46cc-b463-579209994d1a",
   "metadata": {},
   "source": [
    "https://open.fda.gov/apis/drug/label/"
   ]
  },
  {
   "cell_type": "code",
   "execution_count": 63,
   "id": "f5caa0e0-ba78-450c-a247-2e777e0a047c",
   "metadata": {},
   "outputs": [
    {
     "name": "stdout",
     "output_type": "stream",
     "text": [
      ".........."
     ]
    },
    {
     "ename": "MemoryError",
     "evalue": "",
     "output_type": "error",
     "traceback": [
      "\u001b[1;31m---------------------------------------------------------------------------\u001b[0m",
      "\u001b[1;31mMemoryError\u001b[0m                               Traceback (most recent call last)",
      "Cell \u001b[1;32mIn[63], line 57\u001b[0m\n\u001b[0;32m     54\u001b[0m     \u001b[38;5;28;01mreturn\u001b[39;00m labels\n\u001b[0;32m     56\u001b[0m \u001b[38;5;66;03m# Fetch the data\u001b[39;00m\n\u001b[1;32m---> 57\u001b[0m labels \u001b[38;5;241m=\u001b[39m \u001b[43mfetch_all_data\u001b[49m\u001b[43m(\u001b[49m\u001b[43m)\u001b[49m\n\u001b[0;32m     59\u001b[0m \u001b[38;5;66;03m# Calculate Processing Time to Get All Data\u001b[39;00m\n\u001b[0;32m     60\u001b[0m end_time \u001b[38;5;241m=\u001b[39m time\u001b[38;5;241m.\u001b[39mtime()\n",
      "Cell \u001b[1;32mIn[63], line 39\u001b[0m, in \u001b[0;36mfetch_all_data\u001b[1;34m()\u001b[0m\n\u001b[0;32m     36\u001b[0m     \u001b[38;5;28mprint\u001b[39m(\u001b[38;5;124mf\u001b[39m\u001b[38;5;124m\"\u001b[39m\u001b[38;5;124mFailed to fetch data: \u001b[39m\u001b[38;5;132;01m{\u001b[39;00mresponse\u001b[38;5;241m.\u001b[39mstatus_code\u001b[38;5;132;01m}\u001b[39;00m\u001b[38;5;124m\"\u001b[39m)  \u001b[38;5;66;03m# Debugging statement\u001b[39;00m\n\u001b[0;32m     37\u001b[0m     \u001b[38;5;28;01mbreak\u001b[39;00m\n\u001b[1;32m---> 39\u001b[0m data \u001b[38;5;241m=\u001b[39m \u001b[43mresponse\u001b[49m\u001b[38;5;241;43m.\u001b[39;49m\u001b[43mjson\u001b[49m\u001b[43m(\u001b[49m\u001b[43m)\u001b[49m\n\u001b[0;32m     40\u001b[0m results \u001b[38;5;241m=\u001b[39m data\u001b[38;5;241m.\u001b[39mget(\u001b[38;5;124m'\u001b[39m\u001b[38;5;124mresults\u001b[39m\u001b[38;5;124m'\u001b[39m, [])\n\u001b[0;32m     41\u001b[0m \u001b[38;5;28;01mif\u001b[39;00m \u001b[38;5;129;01mnot\u001b[39;00m results:\n",
      "File \u001b[1;32m~\\anaconda3\\lib\\site-packages\\requests\\models.py:971\u001b[0m, in \u001b[0;36mResponse.json\u001b[1;34m(self, **kwargs)\u001b[0m\n\u001b[0;32m    968\u001b[0m             \u001b[38;5;28;01mraise\u001b[39;00m RequestsJSONDecodeError(e\u001b[38;5;241m.\u001b[39mmsg, e\u001b[38;5;241m.\u001b[39mdoc, e\u001b[38;5;241m.\u001b[39mpos)\n\u001b[0;32m    970\u001b[0m \u001b[38;5;28;01mtry\u001b[39;00m:\n\u001b[1;32m--> 971\u001b[0m     \u001b[38;5;28;01mreturn\u001b[39;00m complexjson\u001b[38;5;241m.\u001b[39mloads(\u001b[38;5;28;43mself\u001b[39;49m\u001b[38;5;241;43m.\u001b[39;49m\u001b[43mtext\u001b[49m, \u001b[38;5;241m*\u001b[39m\u001b[38;5;241m*\u001b[39mkwargs)\n\u001b[0;32m    972\u001b[0m \u001b[38;5;28;01mexcept\u001b[39;00m JSONDecodeError \u001b[38;5;28;01mas\u001b[39;00m e:\n\u001b[0;32m    973\u001b[0m     \u001b[38;5;66;03m# Catch JSON-related errors and raise as requests.JSONDecodeError\u001b[39;00m\n\u001b[0;32m    974\u001b[0m     \u001b[38;5;66;03m# This aliases json.JSONDecodeError and simplejson.JSONDecodeError\u001b[39;00m\n\u001b[0;32m    975\u001b[0m     \u001b[38;5;28;01mraise\u001b[39;00m RequestsJSONDecodeError(e\u001b[38;5;241m.\u001b[39mmsg, e\u001b[38;5;241m.\u001b[39mdoc, e\u001b[38;5;241m.\u001b[39mpos)\n",
      "File \u001b[1;32m~\\anaconda3\\lib\\site-packages\\requests\\models.py:932\u001b[0m, in \u001b[0;36mResponse.text\u001b[1;34m(self)\u001b[0m\n\u001b[0;32m    930\u001b[0m \u001b[38;5;66;03m# Decode unicode from given encoding.\u001b[39;00m\n\u001b[0;32m    931\u001b[0m \u001b[38;5;28;01mtry\u001b[39;00m:\n\u001b[1;32m--> 932\u001b[0m     content \u001b[38;5;241m=\u001b[39m \u001b[38;5;28;43mstr\u001b[39;49m\u001b[43m(\u001b[49m\u001b[38;5;28;43mself\u001b[39;49m\u001b[38;5;241;43m.\u001b[39;49m\u001b[43mcontent\u001b[49m\u001b[43m,\u001b[49m\u001b[43m \u001b[49m\u001b[43mencoding\u001b[49m\u001b[43m,\u001b[49m\u001b[43m \u001b[49m\u001b[43merrors\u001b[49m\u001b[38;5;241;43m=\u001b[39;49m\u001b[38;5;124;43m\"\u001b[39;49m\u001b[38;5;124;43mreplace\u001b[39;49m\u001b[38;5;124;43m\"\u001b[39;49m\u001b[43m)\u001b[49m\n\u001b[0;32m    933\u001b[0m \u001b[38;5;28;01mexcept\u001b[39;00m (\u001b[38;5;167;01mLookupError\u001b[39;00m, \u001b[38;5;167;01mTypeError\u001b[39;00m):\n\u001b[0;32m    934\u001b[0m     \u001b[38;5;66;03m# A LookupError is raised if the encoding was not found which could\u001b[39;00m\n\u001b[0;32m    935\u001b[0m     \u001b[38;5;66;03m# indicate a misspelling or similar mistake.\u001b[39;00m\n\u001b[1;32m   (...)\u001b[0m\n\u001b[0;32m    938\u001b[0m     \u001b[38;5;66;03m#\u001b[39;00m\n\u001b[0;32m    939\u001b[0m     \u001b[38;5;66;03m# So we try blindly encoding.\u001b[39;00m\n\u001b[0;32m    940\u001b[0m     content \u001b[38;5;241m=\u001b[39m \u001b[38;5;28mstr\u001b[39m(\u001b[38;5;28mself\u001b[39m\u001b[38;5;241m.\u001b[39mcontent, errors\u001b[38;5;241m=\u001b[39m\u001b[38;5;124m\"\u001b[39m\u001b[38;5;124mreplace\u001b[39m\u001b[38;5;124m\"\u001b[39m)\n",
      "\u001b[1;31mMemoryError\u001b[0m: "
     ]
    }
   ],
   "source": [
    "# Time API call\n",
    "start_time = time.time()\n",
    "\n",
    "# OpenFDA API endpoint for fetching drug data\n",
    "BASE_URL = 'https://api.fda.gov/drug/label.json'\n",
    "\n",
    "# API Key for authentication\n",
    "API_KEY = openFDAAPI\n",
    "\n",
    "# Parameters for the API request\n",
    "params = {\n",
    "    'limit': 1000,  # Maximum limit per request\n",
    "    'skip': 0,      # Starting point for fetching records\n",
    "    'search': 'effective_time:[2023-01-01 TO 2023-12-31]'\n",
    "}\n",
    "\n",
    "# Function to pause execution to avoid overwhelming the server\n",
    "def pause_execution():\n",
    "    time.sleep(0.2727 + 0.1 * random.random())\n",
    "\n",
    "# Function to fetch data from the OpenFDA API\n",
    "def fetch_all_data():\n",
    "    labels = []\n",
    "    request_count = 0  # Initialize request counter\n",
    "    \n",
    "    while True:\n",
    "        headers = {\n",
    "            'Authorization': f'Bearer {API_KEY}'\n",
    "        }\n",
    "        response = requests.get(BASE_URL, params=params, headers=headers)\n",
    "  \n",
    "        print(f\"Requesting data with params: {params}\")  # Debugging statement\n",
    "        print(f\"Response status code: {response.status_code}\")  # Debugging statement\n",
    "\n",
    "        if response.status_code != 200:\n",
    "            print(f\"Failed to fetch data: {response.status_code}\")  # Debugging statement\n",
    "            break\n",
    "        \n",
    "        data = response.json()\n",
    "        results = data.get('results', [])\n",
    "        if not results:\n",
    "            print(\"No more results found.\")  # Debugging statement\n",
    "            break\n",
    "\n",
    "        for item in results:\n",
    "            labels.append(item)\n",
    "        \n",
    "        params['skip'] += params['limit']\n",
    "        request_count += 1  # Increment request counter\n",
    "        pause_execution()\n",
    "        \n",
    "        print('.', end='', flush=True)\n",
    "\n",
    "    return labels\n",
    "\n",
    "# Fetch the data\n",
    "labels = fetch_all_data()\n",
    "\n",
    "# Calculate Processing Time to Get All Data\n",
    "end_time = time.time()\n",
    "execution_time = end_time - start_time\n",
    "print(f\"Request Time: {execution_time}\")\n",
    "print(f\"Total records fetched: {len(labels)}\")"
   ]
  },
  {
   "cell_type": "code",
   "execution_count": 64,
   "id": "f48690f6",
   "metadata": {},
   "outputs": [
    {
     "data": {
      "text/html": [
       "<div>\n",
       "<style scoped>\n",
       "    .dataframe tbody tr th:only-of-type {\n",
       "        vertical-align: middle;\n",
       "    }\n",
       "\n",
       "    .dataframe tbody tr th {\n",
       "        vertical-align: top;\n",
       "    }\n",
       "\n",
       "    .dataframe thead th {\n",
       "        text-align: right;\n",
       "    }\n",
       "</style>\n",
       "<table border=\"1\" class=\"dataframe\">\n",
       "  <thead>\n",
       "    <tr style=\"text-align: right;\">\n",
       "      <th></th>\n",
       "    </tr>\n",
       "  </thead>\n",
       "  <tbody>\n",
       "  </tbody>\n",
       "</table>\n",
       "</div>"
      ],
      "text/plain": [
       "Empty DataFrame\n",
       "Columns: []\n",
       "Index: []"
      ]
     },
     "execution_count": 64,
     "metadata": {},
     "output_type": "execute_result"
    }
   ],
   "source": [
    "# Convert the data to a pandas DataFrame\n",
    "labels_df = pd.json_normalize(labels)\n",
    "\n",
    "# Display the first few rows of the DataFrame\n",
    "labels_df.head()"
   ]
  },
  {
   "cell_type": "code",
   "execution_count": null,
   "id": "f15f91d0-1643-4031-b87e-3ca6fc549084",
   "metadata": {},
   "outputs": [],
   "source": [
    "pd.set_option('display.max_info_columns', 160)\n",
    "labels_df.info()"
   ]
  },
  {
   "cell_type": "code",
   "execution_count": null,
   "id": "4b584d98-b44a-4f41-98e2-236eb814eebe",
   "metadata": {},
   "outputs": [],
   "source": [
    "# Save the data to a CSV file\n",
    "#csv_file_path = 'DataLibrary/raw_labels.csv'\n",
    "#labels_df.to_csv(csv_file_path, index=False)\n",
    "\n",
    "#print(f\"Data saved to {csv_file_path} and {json_file_path}\")"
   ]
  },
  {
   "cell_type": "markdown",
   "id": "ba0e9d8c-fcd6-49b5-9487-418a4e590ad1",
   "metadata": {},
   "source": [
    "## API Request for Manufacturer Information (NDC)"
   ]
  },
  {
   "cell_type": "code",
   "execution_count": null,
   "id": "6b49090b",
   "metadata": {},
   "outputs": [],
   "source": [
    "# Time API call\n",
    "start_time = time.time()\n",
    "\n",
    "# OpenFDA API endpoint for fetching drug data\n",
    "BASE_URL = 'https://api.fda.gov/drug/ndc.json'\n",
    "\n",
    "# API Key for authentication\n",
    "API_KEY = openFDAAPI\n",
    "\n",
    "# Parameters for the API request\n",
    "params = {\n",
    "    'limit': 1000,  # Maximum limit per request\n",
    "    'skip': 0      # Starting point for fetching records\n",
    "}\n",
    "\n",
    "# Function to pause execution to avoid overwhelming the server\n",
    "def pause_execution():\n",
    "    time.sleep(0.2727 + 0.1 * random.random())\n",
    "\n",
    "# Function to fetch data from the OpenFDA API\n",
    "def fetch_data():\n",
    "    manus = []\n",
    "    \n",
    "    while True:\n",
    "        headers = {\n",
    "            'Authorization': f'Bearer {API_KEY}'\n",
    "        }\n",
    "        response = requests.get(BASE_URL, params=params, headers=headers)\n",
    "        #print(f\"Requesting data with params: {params}\")  # Debugging statement\n",
    "        #print(f\"Response status code: {response.status_code}\")  # Debugging statement\n",
    "\n",
    "        if response.status_code != 200:\n",
    "            print(f\"Failed to fetch data: {response.status_code}\")  # Debugging statement\n",
    "            break\n",
    "        \n",
    "        data = response.json()\n",
    "        results = data.get('results', [])\n",
    "        if not results:\n",
    "            print(\"No more results found.\")  # Debugging statement\n",
    "            break\n",
    "\n",
    "        for item in results:\n",
    "            manus.append(item)\n",
    "        \n",
    "        params['skip'] += params['limit']\n",
    "        pause_execution()\n",
    "        \n",
    "        print('.', end='', flush=True)\n",
    "\n",
    "    return manus\n",
    "\n",
    "# Fetch the data\n",
    "manus = fetch_data()\n",
    "\n",
    "# Calculate Processing Time to Get All Data\n",
    "end_time = time.time()\n",
    "execution_time = end_time - start_time\n",
    "print(f\"\\nRequest Time: {execution_time}\")"
   ]
  },
  {
   "cell_type": "code",
   "execution_count": null,
   "id": "159cb74d",
   "metadata": {},
   "outputs": [],
   "source": [
    "# Convert the data to a pandas DataFrame\n",
    "manus_df = pd.json_normalize(manus)\n",
    "\n",
    "# Display the first few rows of the DataFrame\n",
    "manus_df.head()"
   ]
  },
  {
   "cell_type": "code",
   "execution_count": null,
   "id": "6a662cd8-a164-497c-a7d6-f1a85855628f",
   "metadata": {},
   "outputs": [],
   "source": [
    "pd.set_option('display.max_info_columns', 40)\n",
    "manus_df.info()"
   ]
  },
  {
   "cell_type": "code",
   "execution_count": null,
   "id": "a5ae7bb8-1e70-4dc6-9a0c-6d5ca62b6078",
   "metadata": {},
   "outputs": [],
   "source": [
    "manus_df.shape"
   ]
  },
  {
   "cell_type": "markdown",
   "id": "961f6084",
   "metadata": {},
   "source": [
    "## Historical Drug Record - not useful"
   ]
  },
  {
   "cell_type": "code",
   "execution_count": null,
   "id": "c055434c",
   "metadata": {},
   "outputs": [],
   "source": [
    "# Time API call\n",
    "start_time = time.time()\n",
    "\n",
    "# OpenFDA API endpoint for fetching dru data\n",
    "BASE_URL = 'https://api.fda.gov/drug/drugsfda.json'\n",
    "\n",
    "# API Key for authentication\n",
    "API_KEY = openFDAAPI\n",
    "\n",
    "# Parameters for the API request\n",
    "params = {\n",
    "    'limit': 1000,  # Maximum limit per request\n",
    "    'skip': 0      # Starting point for fetching records\n",
    "}\n",
    "\n",
    "# Function to pause execution to avoid overwhelming the server\n",
    "def pause_execution():\n",
    "    time.sleep(0.2727 + 0.1 * random.random())\n",
    "\n",
    "# Function to fetch data from the OpenFDA API\n",
    "def fetch_data():\n",
    "    hist_drugs = []\n",
    "    \n",
    "    while True:\n",
    "        headers = {\n",
    "            'Authorization': f'Bearer {API_KEY}'\n",
    "        }\n",
    "        response = requests.get(BASE_URL, params=params, headers=headers)\n",
    "        #print(f\"Requesting data with params: {params}\")  # Debugging statement\n",
    "        #print(f\"Response status code: {response.status_code}\")  # Debugging statement\n",
    "\n",
    "        if response.status_code != 200:\n",
    "            print(f\"Failed to fetch data: {response.status_code}\")  # Debugging statement\n",
    "            break\n",
    "        \n",
    "        data = response.json()\n",
    "        results = data.get('results', [])\n",
    "        if not results:\n",
    "            print(\"No more results found.\")  # Debugging statement\n",
    "            break\n",
    "\n",
    "        for item in results:\n",
    "            hist_drugs.append(item)\n",
    "        \n",
    "        params['skip'] += params['limit']\n",
    "        pause_execution()\n",
    "        \n",
    "        print('.', end='', flush=True)\n",
    "\n",
    "    return hist_drugs\n",
    "\n",
    "# Fetch the data\n",
    "hist_drugs = fetch_data()\n",
    "\n",
    "# Calculate Processing Time to Get All Data\n",
    "end_time = time.time()\n",
    "execution_time = end_time - start_time\n",
    "print(f\"\\nRequest Time: {execution_time}\")"
   ]
  },
  {
   "cell_type": "code",
   "execution_count": null,
   "id": "5d12ed7e",
   "metadata": {},
   "outputs": [],
   "source": [
    "# Convert the data to a pandas DataFrame\n",
    "hist_df = pd.json_normalize(hist_drugs)\n",
    "\n",
    "# Display the first few rows of the DataFrame\n",
    "hist_df.head()"
   ]
  },
  {
   "cell_type": "code",
   "execution_count": null,
   "id": "b94e09a2",
   "metadata": {},
   "outputs": [],
   "source": [
    "hist_df.info()"
   ]
  },
  {
   "cell_type": "code",
   "execution_count": null,
   "id": "e7be86a8",
   "metadata": {},
   "outputs": [],
   "source": []
  },
  {
   "cell_type": "markdown",
   "id": "43480a2a-0c5a-4188-9ae7-5c01020bf786",
   "metadata": {},
   "source": [
    "# National Library of Medicine - Standardized Drug Names and Information"
   ]
  },
  {
   "cell_type": "markdown",
   "id": "dbe1f239-8f79-49b5-90ad-a94da9cecf8a",
   "metadata": {},
   "source": [
    "## API Request for RxNorm"
   ]
  },
  {
   "cell_type": "markdown",
   "id": "aeba4eaf-88b1-4629-8330-efa1a4877378",
   "metadata": {},
   "source": [
    "https://lhncbc.nlm.nih.gov/RxNav/APIs/RxNormAPIs.html"
   ]
  },
  {
   "cell_type": "code",
   "execution_count": null,
   "id": "6d03aafd-7f75-4e7d-80f6-61cc120b8524",
   "metadata": {},
   "outputs": [],
   "source": [
    "# Function to fetch NDC properties one at a time\n",
    "def fetch_ndc_properties(var_list):\n",
    "    url = \"https://rxnav.nlm.nih.gov/REST/ndcproperties.json\"\n",
    "    headers = {\"Accept\": \"application/json\"}\n",
    "\n",
    "    ndc_properties = []\n",
    "    rxcui_result = []\n",
    "    processed_rxcuis = set()  # Set to track processed rxcuis\n",
    "\n",
    "    for var in var_list:\n",
    "        if var in processed_rxcuis:\n",
    "            #print(f\"Skipping already processed rxcui: {var}\")\n",
    "            continue  # Skip if already processed\n",
    "\n",
    "        params = {\"id\": var}  # Single code\n",
    "\n",
    "        try:\n",
    "            response = requests.get(url, params=params, headers=headers)\n",
    "            response.raise_for_status()  # Raise an error for bad status codes\n",
    "            data = response.json()\n",
    "            properties = data.get(\"ndcPropertyList\", {}).get(\"ndcProperty\", [])\n",
    "\n",
    "            if not properties:\n",
    "                continue\n",
    "                #print(f\"No properties found for rxcui: {var}\")\n",
    "\n",
    "            # Filter the required fields\n",
    "            for item in properties:\n",
    "                filtered_property = {\n",
    "                    'ndcItem': item.get('ndcItem'),\n",
    "                    'ndc9': item.get('ndc9'),\n",
    "                    'ndc10': item.get('ndc10'),\n",
    "                    'rxcui': item.get('rxcui'),\n",
    "                    'splSetIdItem': item.get('splSetIdItem')\n",
    "                }\n",
    "                ndc_properties.append(filtered_property)\n",
    "                rxcui_result.append(item.get('rxcui'))\n",
    "\n",
    "            # Mark the rxcui as processed\n",
    "            processed_rxcuis.add(var)\n",
    "\n",
    "            # Adding a delay to respect the rate limit with randomness\n",
    "            time.sleep(1 / 18 + 0.1 * random.random())  # 18 requests per second with additional randomness\n",
    "\n",
    "        except requests.exceptions.RequestException as e:\n",
    "            #print(f\"Request failed for rxcui: {var}, Error: {e}\")\n",
    "            continue  # Skip to the next rxcui if there's an error\n",
    "\n",
    "        #print(f\"Processed rxcui: {var}\")\n",
    "\n",
    "    # Convert to DataFrame\n",
    "    df_ndc_properties = pd.json_normalize(ndc_properties)\n",
    "    # Retain only the first instance of each ndc9\n",
    "    df_cleaned = df_ndc_properties.drop_duplicates(subset='ndc9', keep='first')\n",
    "    return df_cleaned, rxcui_result"
   ]
  },
  {
   "cell_type": "code",
   "execution_count": null,
   "id": "dc776e04",
   "metadata": {},
   "outputs": [],
   "source": [
    "# Step 1: Using function above, fetch NDC properties and list of rxcui values from RxNorm API\n",
    "# Make sure list is unique values only in output\n",
    "# Test first 10 entries\n",
    "\n",
    "#Time\n",
    "start_time = time.time()\n",
    "ndc_properties_df, rxcui_result = fetch_ndc_properties(manus_df['product_ndc'].iloc[0:10,])\n",
    "\n",
    "# Calculate Processing Time to Get All Data\n",
    "end_time = time.time()\n",
    "execution_time = end_time - start_time\n",
    "print(f\"\\nRequest Time: {execution_time}\")\n",
    "\n",
    "# Step 2: Fetch DRUGBANK codes\n",
    "#drugbank_codes_df = fetch_drugbank_codes(rxcui_result)\n",
    "    \n",
    "# Step 3: Merge both DataFrames on 'rxcui'\n",
    "#merged_df = pd.merge(ndc_properties_df, drugbank_codes_df, on='rxcui', how='inner')"
   ]
  },
  {
   "cell_type": "code",
   "execution_count": null,
   "id": "ab5cfc47",
   "metadata": {},
   "outputs": [],
   "source": [
    "nan_info(ndc_properties_df)"
   ]
  },
  {
   "cell_type": "code",
   "execution_count": null,
   "id": "c77f3bf7",
   "metadata": {},
   "outputs": [],
   "source": [
    "ndc_properties_df.shape"
   ]
  },
  {
   "cell_type": "code",
   "execution_count": null,
   "id": "ea4bdae9",
   "metadata": {},
   "outputs": [],
   "source": [
    "ndc_properties_df.head()"
   ]
  },
  {
   "cell_type": "code",
   "execution_count": null,
   "id": "1eddf171-e936-4c49-b499-164be604ca8d",
   "metadata": {},
   "outputs": [],
   "source": [
    "# Save the data to a JSON file\n",
    "#json_file_path = 'DataLibrary/rxterms_drugs.json'\n",
    "#with open(json_file_path, 'w') as json_file:\n",
    "#    json.dump(drugs, json_file, indent=4)\n",
    "\n",
    "# Save the data to a CSV file\n",
    "#csv_file_path = 'DataLibrary/rxterms_drugs.csv'\n",
    "#drugs_df.to_csv(csv_file_path, index=False)\n",
    "\n",
    "#print(f\"Data saved to {csv_file_path} and {json_file_path}\")"
   ]
  },
  {
   "cell_type": "markdown",
   "id": "bd3412b1-ecea-46b3-9e33-a5515f19ba13",
   "metadata": {},
   "source": [
    "# ADReCS Database for Standardized Drug and ADR Term Labeling"
   ]
  },
  {
   "cell_type": "code",
   "execution_count": null,
   "id": "494897fd-c7e4-4746-af65-b72c1d4d1c59",
   "metadata": {},
   "outputs": [],
   "source": [
    "# load in static files\n",
    "adrecs_drug = pd.read_excel('ADReCS/Drug_information_v3.3.xlsx')\n",
    "adrecs_drug.head()"
   ]
  },
  {
   "cell_type": "code",
   "execution_count": null,
   "id": "c491ac9d-c97a-4da3-ac16-77669c6b5e4d",
   "metadata": {},
   "outputs": [],
   "source": [
    "adrecs_ont = pd.read_excel('ADReCS/ADR_ontology_v3.3.xlsx')\n",
    "adrecs_ont.head()"
   ]
  },
  {
   "cell_type": "code",
   "execution_count": null,
   "id": "c0e1e01d-76d7-4f8b-8739-9b255c117300",
   "metadata": {},
   "outputs": [],
   "source": [
    "# 2601 drugs, and 15317 ADR terms\n",
    "adrecs_drug.shape, adrecs_ont.shape"
   ]
  },
  {
   "cell_type": "markdown",
   "id": "bd220fd5-7ee8-496c-afd6-78294f2d89f1",
   "metadata": {},
   "source": [
    "# Medicaid "
   ]
  },
  {
   "cell_type": "markdown",
   "id": "22e2e9f0-7c35-4abf-af14-a945ed4e7091",
   "metadata": {},
   "source": [
    "## API Drug Prices - NADAC - 2024 Report \n",
    "\n",
    "https://data.medicaid.gov/dataset/99315a95-37ac-4eee-946a-3c523b4c481e#data-table"
   ]
  },
  {
   "cell_type": "code",
   "execution_count": null,
   "id": "883e2498-2976-40a6-a6c9-2d5dbef06060",
   "metadata": {},
   "outputs": [],
   "source": [
    "# Time API Call\n",
    "start_time = time.time()\n",
    "\n",
    "# Base URL for the Medicaid API for NADAC data\n",
    "BASE_URL = 'https://data.medicaid.gov/api/1/datastore/sql'\n",
    "\n",
    "# Initial SQL query to fetch data with a limit of 500 and initial offset 0\n",
    "# Queries 2024 Database\n",
    "query_template = '[SELECT * FROM f3b5cf6b-07cc-5f75-8d7b-0a1090b3f7e9][LIMIT 500 OFFSET {}]'\n",
    "\n",
    "# Function to pause execution to avoid overwhelming the server\n",
    "def pause_execution():\n",
    "    # Pause execution for a random time \n",
    "    time.sleep(1/10 + 0.1 * random.random())\n",
    "\n",
    "# Function to fetch data from the Medicaid API in batches\n",
    "def fetch_nadac_data():\n",
    "    all_data = []  # Initialize an empty list to store all fetched data\n",
    "    offset = 0  # Starting offset for pagination\n",
    "    \n",
    "    while True:  # Loop to fetch data in batches\n",
    "        # Modify the query to include the current offset for pagination\n",
    "        query = query_template.format(offset)\n",
    "        params = {'query': query}  # Set the parameters for the API request\n",
    "\n",
    "        response = requests.get(BASE_URL, params=params)  # Send the request to the API\n",
    "        #print(f\"Requesting data with offset: {offset}\")  # Debugging statement to show current offset\n",
    "        #print(f\"Response status code: {response.status_code}\")  # Debugging statement to show response status\n",
    "\n",
    "        if response.status_code != 200:  # Check if the request was unsuccessful\n",
    "            print(f\"Failed to fetch data: {response.status_code}\")  # Debugging statement for error status\n",
    "            try:\n",
    "                error_details = response.json()\n",
    "                print(f\"Error message: {error_details.get('message', 'No message provided')}\")  # Print the error message\n",
    "                print(f\"Error details: {error_details.get('data', 'No additional data provided')}\")  # Print additional error details\n",
    "            except ValueError:\n",
    "                print(\"Failed to decode JSON error response.\")  # Debugging statement for JSON error\n",
    "            break  # Exit the loop if there was an error\n",
    "\n",
    "        try:\n",
    "            data = response.json()  # Parse the response JSON\n",
    "            #print(f\"Raw response data: {data}\")  # Debugging statement to show raw response data\n",
    "            \n",
    "            if not isinstance(data, list):  # Check if the response is an array\n",
    "                print(\"Expected a list but got a different structure.\")\n",
    "                break\n",
    "\n",
    "            if not data:  # Check if the list is empty\n",
    "                print(\"No more results found.\")  # Debugging statement to indicate no more data\n",
    "                break  # Exit the loop if no more data is found\n",
    "\n",
    "            all_data.extend(data)  # Append the fetched data to the main list\n",
    "            offset += len(data)  # Increment the offset by the number of records fetched\n",
    "            #print(f\"Fetched {len(data)} records. Total so far: {len(all_data)}\")  # Debugging statement to show fetched data count\n",
    "            print('.', end='', flush=True)\n",
    "        except ValueError:  # Handle any JSON decoding errors\n",
    "            print(\"Failed to decode JSON response.\")  # Debugging statement for JSON error\n",
    "            break  # Exit the loop if there was an error decoding JSON\n",
    "        \n",
    "        pause_execution()  # Pause before the next request to avoid overwhelming the server\n",
    "\n",
    "    return all_data  # Return the collected data\n",
    "\n",
    "# Fetch the data\n",
    "prices = fetch_nadac_data()\n",
    "\n",
    "# Calculate Processing Time to Get All Data\n",
    "end_time = time.time()\n",
    "execution_time = end_time - start_time\n",
    "print(f\"Request Time: {execution_time}\")"
   ]
  },
  {
   "cell_type": "code",
   "execution_count": null,
   "id": "96d01287",
   "metadata": {},
   "outputs": [],
   "source": [
    "# 2023"
   ]
  },
  {
   "cell_type": "code",
   "execution_count": null,
   "id": "7469b033",
   "metadata": {},
   "outputs": [],
   "source": [
    "# 2022"
   ]
  },
  {
   "cell_type": "code",
   "execution_count": null,
   "id": "9a940e61",
   "metadata": {},
   "outputs": [],
   "source": [
    "# 2021"
   ]
  },
  {
   "cell_type": "code",
   "execution_count": null,
   "id": "c2aa6733",
   "metadata": {},
   "outputs": [],
   "source": [
    "# 2020"
   ]
  },
  {
   "cell_type": "code",
   "execution_count": null,
   "id": "d070d040",
   "metadata": {},
   "outputs": [],
   "source": [
    "# 2019"
   ]
  },
  {
   "cell_type": "code",
   "execution_count": null,
   "id": "5137fcfb",
   "metadata": {},
   "outputs": [],
   "source": [
    "# 2018"
   ]
  },
  {
   "cell_type": "code",
   "execution_count": null,
   "id": "10623c8b",
   "metadata": {},
   "outputs": [],
   "source": [
    "# Convert the data to a pandas DataFrame\n",
    "prices_df = pd.DataFrame(prices)\n",
    "\n",
    "# Display the first few rows of the DataFrame\n",
    "prices_df.head()"
   ]
  },
  {
   "cell_type": "code",
   "execution_count": null,
   "id": "033a2dd3-7137-48b3-b0c9-569a813b121b",
   "metadata": {},
   "outputs": [],
   "source": [
    "prices_df.info()"
   ]
  },
  {
   "cell_type": "markdown",
   "id": "9143a717-8e91-4004-b3ae-2adb0bf94122",
   "metadata": {},
   "source": [
    "# Preprocessing"
   ]
  },
  {
   "cell_type": "markdown",
   "id": "d01774b7-0fc0-4ba2-aa6e-f65514226e82",
   "metadata": {},
   "source": [
    "## PreProcess Labels Table"
   ]
  },
  {
   "cell_type": "markdown",
   "id": "585add60-4561-428d-8baf-f142d498f59d",
   "metadata": {},
   "source": [
    "#### Select Columns"
   ]
  },
  {
   "cell_type": "code",
   "execution_count": null,
   "id": "581268fd-d98f-4632-9dc6-575b3472b6e3",
   "metadata": {},
   "outputs": [],
   "source": [
    "labels_table = pd.DataFrame(labels_df, \n",
    "                            columns = [\"set_id\",  # globally unique identifier (GUID) for the labeling\n",
    "                                       \"effective_time\",\n",
    "                                       #\"inactive_ingredient\",  # Included in spl_product_data_elements\n",
    "                                       \"purpose\",\n",
    "                                       \"warnings\",  # Combine text with contraindications and precautions\n",
    "                                        #\"questions\",  # Too much missing data\n",
    "                                       \"spl_product_data_elements\",  # Contains both active and inactive ingredients\n",
    "                                        #\"version\",  # Label version, not needed since ndc code captures this information\n",
    "                                        #\"package_label_principal_display_panel\",  # Package label text, redundant information\n",
    "                                        #\"active_ingredient\",  # Included in spl_product_data_elements\n",
    "                                        \"openfda.brand_name\",  # Combine into list with generic\n",
    "                                        \"openfda.generic_name\",  # Combine into list with brand\n",
    "                                        \"openfda.manufacturer_name\",  # Company that produces the drug\n",
    "                                        #\"openfda.product_type\",  # Denotes whether OTC and prescription, and human or animal, redundant with events\n",
    "                                        \"openfda.substance_name\",  # Combine with brand and generic\n",
    "                                        \"openfda.unii\",  # Unique ingredient, do not tokenize\n",
    "                                        \"openfda.product_ndc\",  # Do NOT tokenize, NDC Product code, use as database key, already a list\n",
    "                                        #\"openfda.package_ndc\",  # Product NDC code plus one extra number for package type, Redundant\n",
    "                                        \"openfda.rxcui\",  # Do NOT tokenize, normed drug code number, retain for database keys\n",
    "                                        \"contraindications\",  # Combine with warnings and precautions\n",
    "                                        \"precautions\"  # Combine with warnings and contraindications\n",
    "                                        ])"
   ]
  },
  {
   "cell_type": "code",
   "execution_count": null,
   "id": "07ac7a6d-4b5d-4db8-b2e5-08ab6083c197",
   "metadata": {},
   "outputs": [],
   "source": [
    "labels_table.head()"
   ]
  },
  {
   "cell_type": "markdown",
   "id": "fe23934b-7c8c-4d4e-82ea-673ae5f10696",
   "metadata": {},
   "source": [
    "## LIST OF UNIQUE DRUG NAMES"
   ]
  },
  {
   "cell_type": "code",
   "execution_count": null,
   "id": "9bae158e-608c-46a7-b683-e1814312aae9",
   "metadata": {},
   "outputs": [],
   "source": [
    "# ADDED TO FUNCTIONS file\n",
    "\n",
    "# drugs are currently in list format, clean to work with\n",
    "def clean_data(x):\n",
    "    if isinstance(x, list):\n",
    "        return ','.join(x)\n",
    "    elif isinstance(x, str):\n",
    "        return x  # Handle strings as needed\n",
    "    else:\n",
    "        return x  # Handle other types as needed\n",
    "\n",
    "# match text\n",
    "def contains_unique_value(text, unique_values_lower):\n",
    "    matched_texts = []\n",
    "    text_lower = text.lower()\n",
    "    for value in unique_values_lower:\n",
    "        if value in text_lower:\n",
    "            matched_texts.append(value)\n",
    "    return matched_texts"
   ]
  },
  {
   "cell_type": "markdown",
   "id": "5dbe3c5a-605d-42fb-b265-fea786a96c1f",
   "metadata": {},
   "source": [
    "### No multiprocessing"
   ]
  },
  {
   "cell_type": "code",
   "execution_count": null,
   "id": "6d6a365c-e1fa-4acc-90f3-35b5e6736b54",
   "metadata": {},
   "outputs": [],
   "source": [
    "start_time = time.time() \n",
    "labels_table['openfda.brand_name'] = clean_data(labels_table['openfda.brand_name'])\n",
    "labels_table['openfda.generic_name'] = clean_data(labels_table['openfda.generic_name'])\n",
    "end_time = time.time()\n",
    "execution_time = end_time - start_time\n",
    "print(execution_time)"
   ]
  },
  {
   "cell_type": "markdown",
   "id": "f723e733-b6af-40c5-89e5-18f975dbab4c",
   "metadata": {},
   "source": [
    "### Use multiprocessing"
   ]
  },
  {
   "cell_type": "code",
   "execution_count": null,
   "id": "cc2b9078-7092-4e27-a104-3b657081d442",
   "metadata": {},
   "outputs": [],
   "source": [
    "start_time = time.time() \n",
    "\n",
    "if __name__ == '__main__':\n",
    "    with mp.Pool(num_cores) as pool:\n",
    "        openfda_brand_name = pool.map(clean_data, labels_table['openfda.brand_name'])\n",
    "        openfda_generic_name = pool.map(clean_data, labels_table['openfda.generic_name'])\n",
    "    labels_table['openfda.brand_name'] = openfda_brand_name\n",
    "    labels_table['openfda.generic_name'] = openfda_generic_name\n",
    "\n",
    "end_time = time.time()\n",
    "execution_time = end_time - start_time\n",
    "print(execution_time)"
   ]
  },
  {
   "cell_type": "code",
   "execution_count": null,
   "id": "67b65f61-674c-4ef7-aff1-14f597e5ce56",
   "metadata": {},
   "outputs": [],
   "source": [
    "labels_table.head()"
   ]
  },
  {
   "cell_type": "markdown",
   "id": "16515125-0514-4f53-8caf-83afd46c7918",
   "metadata": {},
   "source": [
    "Extract unique list values"
   ]
  },
  {
   "cell_type": "code",
   "execution_count": null,
   "id": "5fb0c7a8-e5a6-4b63-a61b-752fd34b53b9",
   "metadata": {},
   "outputs": [],
   "source": [
    "# extract unique list values\n",
    "unique_brand_names = labels_table['openfda.brand_name'].dropna().unique()\n",
    "unique_generic_names = labels_table['openfda.generic_name'].dropna().unique()\n",
    "\n",
    "# combine the brand and generic columns to account for all possibl enames\n",
    "unique_drug_names = set(unique_brand_names).union(set(unique_generic_names))\n",
    "\n",
    "# convert to lowercase, could probably just add to clean data function\n",
    "unique_drug_names = [str(value).lower() for value in unique_drug_names]"
   ]
  },
  {
   "cell_type": "markdown",
   "id": "92c0019a-d199-433e-961b-421d1e93c912",
   "metadata": {},
   "source": [
    "### Examine Nulls"
   ]
  },
  {
   "cell_type": "code",
   "execution_count": null,
   "id": "19b644da-111c-4db1-b5fc-704a94f9de50",
   "metadata": {},
   "outputs": [],
   "source": [
    "labels_nan = nan_info(labels_table)\n",
    "labels_nan"
   ]
  },
  {
   "cell_type": "markdown",
   "id": "2a184b90-0cd3-4a28-bad6-1c357423ae71",
   "metadata": {},
   "source": [
    "### Fix Dtypes"
   ]
  },
  {
   "cell_type": "code",
   "execution_count": null,
   "id": "92c79508-a1aa-4d62-a4e7-da83df76a6b6",
   "metadata": {},
   "outputs": [],
   "source": [
    "# Update label date\n",
    "labels_table['effective_time'] = pd.to_datetime(labels_table['effective_time'], format='%Y%m%d')\n",
    "\n",
    "# Add year column\n",
    "labels_table['year'] = labels_table['effective_time'].dt.year"
   ]
  },
  {
   "cell_type": "markdown",
   "id": "81c531f9-948e-498b-9b9f-4f94032ddc79",
   "metadata": {},
   "source": [
    "### Process Text Columns"
   ]
  },
  {
   "cell_type": "code",
   "execution_count": null,
   "id": "96942942-aa70-4efb-a5bc-69d092161156",
   "metadata": {},
   "outputs": [],
   "source": [
    "# Define text columns\n",
    "object_columns = labels_table.select_dtypes(include=['object']).columns\n",
    "\n",
    "# Exclude columns that should not be tokenized, index codes\n",
    "object_columns = object_columns.drop(['label_id', 'set_id',\n",
    "                                      'openfda.product_ndc', \n",
    "                                      'openfda.rxcui', \n",
    "                                      'openfda.unii'], \n",
    "                                     errors='ignore')\n",
    "labels_table[object_columns] = labels_table[object_columns].astype(str)"
   ]
  },
  {
   "cell_type": "markdown",
   "id": "d32eb7c1-bd5e-4c42-8017-9e6ff305dcaa",
   "metadata": {},
   "source": [
    "## No MultiProcessing"
   ]
  },
  {
   "cell_type": "code",
   "execution_count": null,
   "id": "4850a8b1-e15c-4f52-b42b-cf5cbc6af555",
   "metadata": {},
   "outputs": [],
   "source": [
    "# Apply text processing to the selected text columns and add new processed columns to dataframe\n",
    "start_time = time.time()\n",
    "\n",
    "for col in object_columns:\n",
    "    new_col_name = col + '_processed'\n",
    "    labels_table[new_col_name] = labels_table[col].apply(process_label_text)\n",
    "\n",
    "end_time = time.time()\n",
    "execution_time = end_time - start_time\n",
    "print(execution_time)"
   ]
  },
  {
   "cell_type": "markdown",
   "id": "552739ea-c405-4546-bd26-336475b648b9",
   "metadata": {},
   "source": [
    "## MultiProcessing"
   ]
  },
  {
   "cell_type": "code",
   "execution_count": null,
   "id": "f5089910-dd07-4186-906c-71d9ae4d5c4f",
   "metadata": {},
   "outputs": [],
   "source": [
    "start_time = time.time()\n",
    "\n",
    "if __name__ == '__main__':\n",
    "     with mp.Pool(num_cores) as pool:\n",
    "        for col in object_columns:\n",
    "            new_col_name = col + '_processed'\n",
    "            labels_table[new_col_name] = pool.map(process_label_text, labels_table[col])\n",
    "\n",
    "end_time = time.time()\n",
    "execution_time = end_time - start_time\n",
    "print(execution_time)"
   ]
  },
  {
   "cell_type": "markdown",
   "id": "577068ab-f113-4788-8d21-6cb9ddd73ea3",
   "metadata": {},
   "source": [
    "### Examine all variables for quality, content, and redundancy"
   ]
  },
  {
   "cell_type": "code",
   "execution_count": null,
   "id": "db34c299-72c6-4759-849b-892eecc4b667",
   "metadata": {},
   "outputs": [],
   "source": [
    "#labels_table['spl_product_data_elements_processed'].head(5)"
   ]
  },
  {
   "cell_type": "code",
   "execution_count": null,
   "id": "8b7e6caf-7316-4c84-9a30-bb66edff4804",
   "metadata": {},
   "outputs": [],
   "source": [
    "#labels_table['purpose'].head()"
   ]
  },
  {
   "cell_type": "code",
   "execution_count": null,
   "id": "f2e3ffed-b40b-45ff-a20e-ca3554f6d8ce",
   "metadata": {},
   "outputs": [],
   "source": [
    "#labels_table['purpose_processed'].info()"
   ]
  },
  {
   "cell_type": "code",
   "execution_count": null,
   "id": "3ce47173-7682-4aef-a94e-38fd405e3fd5",
   "metadata": {},
   "outputs": [],
   "source": [
    "#labels_table['purpose_processed'].head(5)"
   ]
  },
  {
   "cell_type": "code",
   "execution_count": null,
   "id": "a5d1a078-e543-4036-9754-9f2cd4b8f4fd",
   "metadata": {},
   "outputs": [],
   "source": [
    "#labels_table['warnings'].head()"
   ]
  },
  {
   "cell_type": "code",
   "execution_count": null,
   "id": "894c82c9-cc63-4ada-b1bf-d7ac5cd04ebc",
   "metadata": {},
   "outputs": [],
   "source": [
    "#labels_table['warnings_processed'].head()"
   ]
  },
  {
   "cell_type": "code",
   "execution_count": null,
   "id": "b4e9d5d3-1032-440e-8030-80fdd8769886",
   "metadata": {},
   "outputs": [],
   "source": [
    "#labels_table['contraindications'].head()"
   ]
  },
  {
   "cell_type": "code",
   "execution_count": null,
   "id": "e03f6be9-3277-431c-88e9-3c8e62f58c61",
   "metadata": {},
   "outputs": [],
   "source": [
    "#labels_table['contraindications_processed'].head()"
   ]
  },
  {
   "cell_type": "code",
   "execution_count": null,
   "id": "f92f971e-f933-4591-a6fa-06189f1b34e8",
   "metadata": {},
   "outputs": [],
   "source": [
    "#labels_table['precautions'].head()"
   ]
  },
  {
   "cell_type": "code",
   "execution_count": null,
   "id": "4fd41024-b7da-4f0e-bc60-f759c5d78365",
   "metadata": {},
   "outputs": [],
   "source": [
    "#labels_table['precautions_processed'].head()"
   ]
  },
  {
   "cell_type": "code",
   "execution_count": null,
   "id": "18369ea2-e18c-45fd-9101-e0ae61fcc4aa",
   "metadata": {},
   "outputs": [],
   "source": [
    "#labels_table['openfda.brand_name_processed'].head()"
   ]
  },
  {
   "cell_type": "code",
   "execution_count": null,
   "id": "ec70dc04-f578-4f44-bdd2-1f51270e3728",
   "metadata": {},
   "outputs": [],
   "source": [
    "#labels_table['openfda.generic_name_processed'].head()"
   ]
  },
  {
   "cell_type": "code",
   "execution_count": null,
   "id": "52410717-0977-4154-8352-5fbefdef1182",
   "metadata": {},
   "outputs": [],
   "source": [
    "#labels_table['openfda.manufacturer_name_processed'].head()"
   ]
  },
  {
   "cell_type": "code",
   "execution_count": null,
   "id": "016454b9-156b-4c9d-98cb-70a78892b0e2",
   "metadata": {},
   "outputs": [],
   "source": [
    "#labels_table['openfda.product_type_processed'].head()"
   ]
  },
  {
   "cell_type": "code",
   "execution_count": null,
   "id": "2d28cb18-8a53-4eaf-b117-eb4f563f3903",
   "metadata": {},
   "outputs": [],
   "source": [
    "#labels_table['openfda.substance_name_processed'].head()"
   ]
  },
  {
   "cell_type": "code",
   "execution_count": null,
   "id": "134e7d9a-adb2-4797-b2f1-0041e7a7f83e",
   "metadata": {},
   "outputs": [],
   "source": [
    "#labels_table['openfda.product_ndc'].head()"
   ]
  },
  {
   "cell_type": "markdown",
   "id": "9297339d-f4fe-4175-992d-17f426a00f9e",
   "metadata": {},
   "source": [
    "### Feature Creation for Labels Data"
   ]
  },
  {
   "cell_type": "code",
   "execution_count": null,
   "id": "ff8ab2ac-5a96-4916-aad6-b719a3d9edae",
   "metadata": {},
   "outputs": [],
   "source": [
    "# Add index column\n",
    "labels_table = add_sequential_index(labels_table,'label_id')\n",
    "\n",
    "# Combine warnings, contraindications, and precautions text\n",
    "labels_table['all_warnings_processed'] = labels_table['warnings_processed'] + labels_table['contraindications_processed'] + labels_table['precautions_processed']\n",
    "# Remove duplicate tokens from combination list\n",
    "labels_table['all_warnings_processed'] = labels_table['all_warnings_processed'].apply(remove_duplicates_nan)\n",
    " \n",
    "# Combine brand name, generic name, and substance name\n",
    "labels_table['all_name_processed'] = labels_table['openfda.brand_name_processed'] + labels_table['openfda.generic_name_processed'] + labels_table['openfda.substance_name_processed']\n",
    "# Remove duplicate tokens to retain unique descriptors only\n",
    "labels_table['all_name_processed'] = labels_table['all_name_processed'].apply(remove_duplicates_nan)"
   ]
  },
  {
   "cell_type": "code",
   "execution_count": null,
   "id": "af5ae647",
   "metadata": {},
   "outputs": [],
   "source": [
    "# Remove duplicates from purpose text\n",
    "labels_table['purpose_processed'] = labels_table['purpose_processed'].apply(remove_duplicates_nan)"
   ]
  },
  {
   "cell_type": "markdown",
   "id": "88a24842-450c-44a1-8f26-dccad9a99cb8",
   "metadata": {},
   "source": [
    "### Final List of Features for Labels Data"
   ]
  },
  {
   "cell_type": "code",
   "execution_count": null,
   "id": "58d4787e-b241-485b-891b-cbf591de28cb",
   "metadata": {},
   "outputs": [],
   "source": [
    "labels_table = labels_table[['set_id',\n",
    "                             'label_id',\n",
    "                             'year',\n",
    "                             'openfda.product_ndc',\n",
    "                             'openfda.rxcui',\n",
    "                             'openfda.unii',\n",
    "                            'spl_product_data_elements_processed', \n",
    "                             'all_warnings_processed', \n",
    "                             'all_name_processed', \n",
    "                            'purpose_processed']]"
   ]
  },
  {
   "cell_type": "markdown",
   "id": "659c6aed-8a92-42a3-9f46-ece321d968d4",
   "metadata": {},
   "source": [
    "### Assess Text Field Lengths"
   ]
  },
  {
   "cell_type": "code",
   "execution_count": null,
   "id": "ce4b4cc6-263c-4467-9249-3f73930c8c5a",
   "metadata": {},
   "outputs": [],
   "source": [
    "plot_character_length(labels_table, 'labels_table')"
   ]
  },
  {
   "cell_type": "markdown",
   "id": "b909fe7e-2f9d-4d68-bd85-066fe4438aec",
   "metadata": {},
   "source": [
    "### Examine Outlier Text Lengths to Help with VARCHAR Limits"
   ]
  },
  {
   "cell_type": "code",
   "execution_count": null,
   "id": "d7d48e32",
   "metadata": {},
   "outputs": [],
   "source": [
    "labels_table_text_processed_outliers = examine_text_outliers(labels_table['all_warnings_processed'])\n",
    "print(labels_table_text_processed_outliers.iloc[2])"
   ]
  },
  {
   "cell_type": "markdown",
   "id": "ff3419fd-e588-4500-a109-dcaee61ee30d",
   "metadata": {},
   "source": [
    "### Rename Columns"
   ]
  },
  {
   "cell_type": "code",
   "execution_count": null,
   "id": "b9a0ae6d-6576-4f65-8104-f85d917f0b71",
   "metadata": {},
   "outputs": [],
   "source": [
    "labels_table = labels_table.rename(columns = {'openfda.product_ndc': 'ndc',\n",
    "                                              'openfda.rxcui': 'rxcui',\n",
    "                                              'openfda.unii': 'unii',\n",
    "                         'spl_product_data_elements_processed': 'ingredients',\n",
    "                         'all_warnings_processed': 'warnings',\n",
    "                         'all_name_processed': 'drug_names',\n",
    "                         'openfda.manufacturer_name_processed': 'manufacturer',\n",
    "                         'purpose_processed': 'purpose'})"
   ]
  },
  {
   "cell_type": "code",
   "execution_count": null,
   "id": "d61ccb7d",
   "metadata": {},
   "outputs": [],
   "source": [
    "labels_table.head()"
   ]
  },
  {
   "cell_type": "code",
   "execution_count": null,
   "id": "81e0ea93-25de-48e9-a31b-3bcf200eab29",
   "metadata": {
    "scrolled": true
   },
   "outputs": [],
   "source": [
    "labels_table.info()"
   ]
  },
  {
   "cell_type": "code",
   "execution_count": null,
   "id": "afc941b2-1234-4a04-b5f2-09864d3b4869",
   "metadata": {},
   "outputs": [],
   "source": [
    "# Write the DataFrame to a CSV file\n",
    "#labels_table.to_csv('DataLibrary/labels_table.csv', index=False)"
   ]
  },
  {
   "cell_type": "markdown",
   "id": "9ae4b044-e8e0-45b2-abb9-3d2d2d69baa3",
   "metadata": {},
   "source": [
    "## PreProcess Events Table"
   ]
  },
  {
   "cell_type": "code",
   "execution_count": null,
   "id": "e0c7c14b",
   "metadata": {},
   "outputs": [],
   "source": [
    "events_df.info()"
   ]
  },
  {
   "cell_type": "markdown",
   "id": "43f8b089-fe61-429f-bcaa-e1cf407518ff",
   "metadata": {},
   "source": [
    "#### Select Columns"
   ]
  },
  {
   "cell_type": "code",
   "execution_count": null,
   "id": "75bc693d-5c4c-4d15-b030-70c62faa0172",
   "metadata": {},
   "outputs": [],
   "source": [
    "events_table = pd.DataFrame(events_df, \n",
    "                            columns = [\"safetyreportid\", #case report number\n",
    "                                        \"transmissiondate\", # date the record was created\n",
    "                                        \"serious\", # seriousness - 1 = result in death, lifethreatening,hospital,etc. 2 = not in the above\n",
    "                                        \"fulfillexpeditecriteria\",  # 1 - Yes, 2 - No\n",
    "                                        \"primarysource.qualification\",  # 1-MD, 2-Pharmacist, 3-Health Prof, 4-Lawyer, 5-Consumer/NonHealth\n",
    "                                        \"safetyreportversion\",  # Indicates updated reports, with 1 being first, and increasing numbers as new \n",
    "                                        \"companynumb\",  # Company making report\n",
    "                                        \"seriousnessdeath\", # 1 = death,\n",
    "                                       \"seriousnessdisabling\",  # 1 = disabled\n",
    "                                       \"seriousnessother\",  # 1 = other\n",
    "                                       \"seriousnesshospitalization\",  # 1 = hospitalized\n",
    "                                       \"seriousnesslifethreatening\",  # 1 = life threatening\n",
    "                                       \"duplicate\",  # Duplicate status\n",
    "                                       \"reportduplicate.duplicatesource\",  # source of duplicate report\n",
    "                                        #  \"receivedateformat\", #always YYYYMMDD\n",
    "                                        #  \"receivedate\", #date report received by FDA\n",
    "                                        \"primarysource.reportercountry\", # country of the reporter of this event\n",
    "                                        \"patient.patientonsetage\", # age of patient when event occured\n",
    "                                        \"patient.patientonsetageunit\",  # 801: Y, 802: M, 803: W, 804: D, 805: H \n",
    "                                        \"patient.patientsex\", # sex of patient. 0=unknown, 1=male, 2=female\n",
    "                                        \"patient.reaction\", # Dictionary list - expanded as seperate table\n",
    "                                        \"patient.drug\"]) # Dictionary list - expanded as separate table\n",
    "                                        # \"patient.patientagegroup\", #1 = neonate, 2 = infant, 3=child, 4=adolescent, 5=adult, 6=elderly\n",
    "                                        # \"patient.patientweight\", # weight in kg\n",
    "                                        # \"seriousnesscongentialanomali\", # 1 if congenital anomaly (fetal abnormality),absent otherwise\n",
    "                                        # \"authoritynumb\", #regulatory authority case #\n",
    "                                        # \"reportduplicate\"\n",
    "                                      "
   ]
  },
  {
   "cell_type": "code",
   "execution_count": null,
   "id": "782529ae",
   "metadata": {},
   "outputs": [],
   "source": []
  },
  {
   "cell_type": "markdown",
   "id": "dc51b3ad-fdd5-47fd-8953-c3771bae341f",
   "metadata": {},
   "source": [
    "#### Fix Dtypes"
   ]
  },
  {
   "cell_type": "code",
   "execution_count": null,
   "id": "99879ad3-b352-4e1d-8c24-cccf8e6349d1",
   "metadata": {},
   "outputs": [],
   "source": [
    "events_table['transmissiondate'] = pd.to_datetime(events_table['transmissiondate'], format='%Y%m%d')\n",
    "\n",
    "#events_table['fulfillexpeditecriteria'] = events_table['fulfillexpeditecriteria'].astype(int)\n",
    "\n",
    "events_table['duplicate'].replace({np.nan: None}, inplace=True)\n",
    "events_table['duplicate'] = events_table['duplicate'].astype(pd.Int64Dtype())\n",
    "\n",
    "events_table['primarysource.qualification'].replace({np.nan: None}, inplace=True)\n",
    "events_table['primarysource.qualification'] = events_table['primarysource.qualification'].astype(pd.Int64Dtype())\n",
    "\n",
    "events_table['patient.patientonsetage'].replace({np.nan: None}, inplace=True)\n",
    "events_table['patient.patientonsetage'] = events_table['patient.patientonsetage'].astype(pd.Int64Dtype())\n",
    "\n",
    "events_table['patient.patientonsetageunit'].replace({np.nan: None}, inplace=True)\n",
    "events_table['patient.patientonsetageunit'] = events_table['patient.patientonsetageunit'].astype(pd.Int64Dtype())\n",
    "\n",
    "events_table['patient.patientsex'].replace({np.nan: None}, inplace=True)\n",
    "events_table['patient.patientsex'] = events_table['patient.patientsex'].astype(pd.Int64Dtype())\n"
   ]
  },
  {
   "cell_type": "markdown",
   "id": "40e0e6e2-6328-4a67-875a-d08ba2e9f606",
   "metadata": {},
   "source": [
    "### Standardize Age"
   ]
  },
  {
   "cell_type": "code",
   "execution_count": null,
   "id": "f99d282f-2088-49d7-af45-b18b21dcf5d3",
   "metadata": {},
   "outputs": [],
   "source": [
    "events_table['patient.patientonsetage'] = events_table.apply(lambda row: convert_to_years(row['patient.patientonsetage'], row['patient.patientonsetageunit']), axis=1)\n",
    "events_table.drop(columns=['patient.patientonsetageunit'], inplace=True)\n",
    "events_table.head(1)"
   ]
  },
  {
   "cell_type": "markdown",
   "id": "afe872e4-f779-4aa5-b5f3-7170c75b7da1",
   "metadata": {},
   "source": [
    "### Feature Engineering"
   ]
  },
  {
   "cell_type": "code",
   "execution_count": null,
   "id": "3b404501-32b7-416a-abd7-1f622369fa18",
   "metadata": {},
   "outputs": [],
   "source": [
    "events_table = add_sequential_index(events_table,'event_id')"
   ]
  },
  {
   "cell_type": "markdown",
   "id": "2571c25e",
   "metadata": {},
   "source": [
    "#### Combining Levels of Seriousness into 3-Level Variable (death, serious, non-serious)"
   ]
  },
  {
   "cell_type": "code",
   "execution_count": null,
   "id": "2541253c-3b0a-4063-b146-a007dba6597d",
   "metadata": {},
   "outputs": [],
   "source": [
    "# Serious prior to mapping\n",
    "events_table['serious'].value_counts()"
   ]
  },
  {
   "cell_type": "code",
   "execution_count": null,
   "id": "63cc3bfd-3f50-4d50-b7cc-b4f702fd46d0",
   "metadata": {},
   "outputs": [],
   "source": [
    "# Update seriousness categories into three levels\n",
    "events_table['seriousnessdeath']=events_table['seriousnessdeath'].replace({'2': '0'}).fillna('0').astype(str)\n",
    "events_table['seriousnessdisabling']=events_table['seriousnessdisabling'].replace({'2': '0', '1': '2'}).fillna('0').astype(str)\n",
    "events_table['seriousnesshospitalization']=events_table['seriousnesshospitalization'].replace({'2': '0', '1': '3'}).fillna('0').astype(str)\n",
    "events_table['seriousnesslifethreatening']=events_table['seriousnesslifethreatening'].replace({'2': '0', '1': '4'}).fillna('0').astype(str)\n",
    "events_table['seriousnessother']=events_table['seriousnessother'].replace({'2': '0', '1': '5'}).fillna('0').astype(str)\n",
    "events_table['serious'] = events_table['serious'].replace({'2': '6', '1': '0'}).astype(str)"
   ]
  },
  {
   "cell_type": "code",
   "execution_count": null,
   "id": "d0deb95c",
   "metadata": {},
   "outputs": [],
   "source": [
    "events_table['seriousnessdeath'].value_counts()"
   ]
  },
  {
   "cell_type": "code",
   "execution_count": null,
   "id": "c3696937",
   "metadata": {},
   "outputs": [],
   "source": [
    "events_table['seriousnessdisabling'].value_counts()"
   ]
  },
  {
   "cell_type": "code",
   "execution_count": null,
   "id": "b734e856",
   "metadata": {},
   "outputs": [],
   "source": [
    "events_table['seriousnesshospitalization'].value_counts()"
   ]
  },
  {
   "cell_type": "code",
   "execution_count": null,
   "id": "cb85518a",
   "metadata": {},
   "outputs": [],
   "source": [
    "events_table['seriousnesslifethreatening'].value_counts()"
   ]
  },
  {
   "cell_type": "code",
   "execution_count": null,
   "id": "145ea83e",
   "metadata": {},
   "outputs": [],
   "source": [
    "events_table['seriousnessother'].value_counts()"
   ]
  },
  {
   "cell_type": "code",
   "execution_count": null,
   "id": "b21e33a7",
   "metadata": {},
   "outputs": [],
   "source": [
    "events_table['serious'].value_counts()"
   ]
  },
  {
   "cell_type": "code",
   "execution_count": null,
   "id": "c5a2d05a",
   "metadata": {},
   "outputs": [],
   "source": [
    "# String pattern denoting outcome\n",
    "events_table['serious_outcome'] = events_table[['seriousnessdeath',\n",
    "                                                'seriousnessdisabling',\n",
    "                                                'seriousnesshospitalization',\n",
    "                                                'seriousnesslifethreatening',\n",
    "                                               'seriousnessother',\n",
    "                                               'serious']].sum(axis=1)"
   ]
  },
  {
   "cell_type": "code",
   "execution_count": null,
   "id": "f54b52a1",
   "metadata": {},
   "outputs": [],
   "source": [
    "# If string contains \"1\" - ultimately death, if any number 2-5 - serious, else non-serious\n",
    "events_table['serious_outcome'] = events_table['serious_outcome'].apply(lambda x: 0 if x == \"000006\" else 2 if \"1\" in x else 1)"
   ]
  },
  {
   "cell_type": "code",
   "execution_count": null,
   "id": "61dd4939",
   "metadata": {},
   "outputs": [],
   "source": [
    "events_table['serious_outcome'] = events_table['serious_outcome'].replace({2: 'Death', 1: 'Serious', 0: 'NonSerious'})"
   ]
  },
  {
   "cell_type": "code",
   "execution_count": null,
   "id": "58289b49",
   "metadata": {},
   "outputs": [],
   "source": [
    "events_table['serious_outcome'].value_counts()"
   ]
  },
  {
   "cell_type": "code",
   "execution_count": null,
   "id": "c0070da5",
   "metadata": {},
   "outputs": [],
   "source": [
    "events_table['serious_outcome'].value_counts(normalize = True)"
   ]
  },
  {
   "cell_type": "code",
   "execution_count": null,
   "id": "3ee65490-b099-4669-912d-fbec90be1ede",
   "metadata": {},
   "outputs": [],
   "source": [
    "# Convert Date to Year\n",
    "#events_table['transmissiondate'] = events_table['transmissiondate'].dt.year\n",
    "events_table['year'] = events_table['transmissiondate'].dt.year"
   ]
  },
  {
   "cell_type": "markdown",
   "id": "61d411c8-3356-40b9-a89a-9f711aad9892",
   "metadata": {},
   "source": [
    "### Check for Report Duplicates - openFDA return only most recent report"
   ]
  },
  {
   "cell_type": "code",
   "execution_count": null,
   "id": "63f0f14b-3072-4570-a8b7-3e087107fa04",
   "metadata": {},
   "outputs": [],
   "source": [
    "# Check for safety report # duplicates\n",
    "duplicates = events_table.duplicated(subset=['safetyreportid']).sum()\n",
    "\n",
    "print(\"Duplicates: \", duplicates) "
   ]
  },
  {
   "cell_type": "code",
   "execution_count": null,
   "id": "c3f3e289",
   "metadata": {},
   "outputs": [],
   "source": [
    "events_table[['safetyreportid', 'safetyreportversion', 'duplicate', 'reportduplicate.duplicatesource']].head(5)"
   ]
  },
  {
   "cell_type": "code",
   "execution_count": null,
   "id": "64de106a",
   "metadata": {},
   "outputs": [],
   "source": []
  },
  {
   "cell_type": "markdown",
   "id": "3736f0bd-b15e-476c-bce1-0ec92333f97c",
   "metadata": {},
   "source": [
    "### Examine and Handle Nulls"
   ]
  },
  {
   "cell_type": "code",
   "execution_count": null,
   "id": "a80b313c-d99f-42e2-8467-7b0df8f2bc07",
   "metadata": {},
   "outputs": [],
   "source": [
    "events_nan = nan_info(events_table)\n",
    "events_nan"
   ]
  },
  {
   "cell_type": "code",
   "execution_count": null,
   "id": "ddac0f57-f52d-428a-8af9-171ccc0525f9",
   "metadata": {},
   "outputs": [],
   "source": [
    "sex_value_counts = events_table['patient.patientsex'].value_counts()\n",
    "print(sex_value_counts)\n",
    "\n",
    "#For sex, 0=unknown, 1=male, 2=female. fill missing values with 0.\n",
    "events_table['patient.patientsex'] = events_table['patient.patientsex'].fillna(0)"
   ]
  },
  {
   "cell_type": "markdown",
   "id": "eda82ff7-e3b8-4f2f-9ad9-62a1a992aa4b",
   "metadata": {},
   "source": [
    "### Filter Events for Quality Data\n",
    "* Remove events that have consumer and lawyer reports\n",
    "* Verify that API called only most recent version of reports"
   ]
  },
  {
   "cell_type": "code",
   "execution_count": null,
   "id": "f0e085f8-b70c-4847-9ed9-2cf21ab16f0b",
   "metadata": {},
   "outputs": [],
   "source": [
    "# Drop NaN values in 'primarysource.qualification'\n",
    "events_table.dropna(subset=['primarysource.qualification'], inplace=True)\n",
    "\n",
    "# Convert 'primarysource.qualification' to integer\n",
    "events_table['primarysource.qualification'] = events_table['primarysource.qualification'].astype(int)\n",
    "\n",
    "# Filter out values 4 and 5\n",
    "events_table = events_table[~events_table['primarysource.qualification'].isin([4, 5])]\n",
    "\n",
    "events_table.shape"
   ]
  },
  {
   "cell_type": "code",
   "execution_count": null,
   "id": "ca704ca6-d0c0-4fbe-8249-418eb503442c",
   "metadata": {},
   "outputs": [],
   "source": [
    "# Verified that version control exists in API request\n",
    "events_table[['safetyreportid', 'safetyreportversion']].head(10)"
   ]
  },
  {
   "cell_type": "markdown",
   "id": "f32cd922-1b17-4fd9-873e-11052e4f5462",
   "metadata": {},
   "source": [
    "### Rename Columns"
   ]
  },
  {
   "cell_type": "code",
   "execution_count": null,
   "id": "96fc848f-494c-437c-84f4-1bea80eb2391",
   "metadata": {},
   "outputs": [],
   "source": [
    "# Rename some columns\n",
    "events_table = events_table.rename(columns={\n",
    "    'primarysource.reportercountry': 'country',\n",
    "    'patient.patientsex': 'sex',\n",
    "    'patient.patientonsetage': 'age',\n",
    "    'patient.reaction': 'reaction',\n",
    "    'patient.drug': 'drug',\n",
    "    'transmissiondate': 'event_year',\n",
    "    'fulfillexpeditecriteria': 'expedited',\n",
    "    'primarysource.qualification': 'report_source',\n",
    "    'companynumb': 'company'\n",
    "})"
   ]
  },
  {
   "cell_type": "code",
   "execution_count": null,
   "id": "808efe58-481f-410d-860e-0dd216eb9fc1",
   "metadata": {},
   "outputs": [],
   "source": [
    "#pd.reset_option('display.max_colwidth')\n",
    "events_table.head()"
   ]
  },
  {
   "cell_type": "code",
   "execution_count": null,
   "id": "7cda6d2b",
   "metadata": {},
   "outputs": [],
   "source": [
    "events_table.info()"
   ]
  },
  {
   "cell_type": "markdown",
   "id": "2ce23bcd-537c-49c3-a164-9f3884f1e6fd",
   "metadata": {},
   "source": [
    "### Make new table for PatientDrugs - nested dataframe"
   ]
  },
  {
   "cell_type": "markdown",
   "id": "174a6b14-1544-49cf-991d-41d03d55b163",
   "metadata": {},
   "source": [
    "#### Without MultiProcessing"
   ]
  },
  {
   "cell_type": "code",
   "execution_count": null,
   "id": "7a2ff8db-52d0-4688-8a62-a0ca47748f14",
   "metadata": {},
   "outputs": [],
   "source": [
    "start_time = time.time()\n",
    "\n",
    "expanded_patient_drugs = []\n",
    "\n",
    "# Iterate through each row of the original DataFrame\n",
    "for _, row in events_table.iterrows():\n",
    "    event_id = row['event_id']\n",
    "    \n",
    "    # Iterate through each drug entry in 'patient.drug' list\n",
    "    for drug_entry in row['drug']:\n",
    "        # Flatten nested JSON into columns\n",
    "        flattened_entry = json_normalize(drug_entry)\n",
    "        \n",
    "        # Add event_id to the flattened entry\n",
    "        flattened_entry['event_id'] = event_id\n",
    "        \n",
    "        # Append the flattened entry to the list\n",
    "        expanded_patient_drugs.append(flattened_entry)\n",
    "\n",
    "# Concatenate all entries into a new DataFrame\n",
    "patient_drugs_table = pd.concat(expanded_patient_drugs, ignore_index=True)\n",
    "patient_drugs_table = patient_drugs_table[['event_id'] + [col for col in patient_drugs_table.columns if col != 'event_id']]\n",
    "\n",
    "\n",
    "end_time = time.time()\n",
    "execution_time = end_time - start_time\n",
    "print(execution_time)"
   ]
  },
  {
   "cell_type": "markdown",
   "id": "b7704b4a-182c-4959-8310-13eee5990357",
   "metadata": {},
   "source": [
    "#### With MultiProcessing"
   ]
  },
  {
   "cell_type": "code",
   "execution_count": null,
   "id": "039323dd-4606-44b0-87a8-b204e56fef28",
   "metadata": {},
   "outputs": [],
   "source": [
    "start_time = time.time()\n",
    "expanded_patient_drugs = []\n",
    "def process_row(row):\n",
    "    expanded_patient_drugs = []\n",
    "    event_id = row['event_id']\n",
    "    \n",
    "    # Iterate through each drug entry in 'drug' list\n",
    "    for drug_entry in row['drug']:\n",
    "        flattened_entry = json_normalize(drug_entry)\n",
    "        flattened_entry['event_id'] = event_id\n",
    "        expanded_patient_drugs.append(flattened_entry)\n",
    "    \n",
    "    return pd.concat(expanded_patient_drugs, ignore_index=True)\n",
    "\n",
    "if __name__ == '__main__':\n",
    "    num_cores = mp.cpu_count()  # Number of CPU cores\n",
    "    with mp.Pool(num_cores) as pool:\n",
    "        patient_drugs_list = pool.map(process_row, events_table.to_dict('records'))\n",
    "\n",
    "    # Concatenate all entries into a new DataFrame\n",
    "    patient_drugs_table = pd.concat(patient_drugs_list, ignore_index=True)\n",
    "    patient_drugs_table = patient_drugs_table[['event_id'] + [col for col in patient_drugs_table.columns if col != 'event_id']]\n",
    "\n",
    "end_time = time.time()\n",
    "execution_time = end_time - start_time\n",
    "print(execution_time)"
   ]
  },
  {
   "cell_type": "markdown",
   "id": "2fbcb0ac-7277-4f55-8da6-6d4972e185a5",
   "metadata": {},
   "source": [
    "### Make new table for PatientReactions"
   ]
  },
  {
   "cell_type": "markdown",
   "id": "8204f963-3aa8-42d3-b886-008ae995525c",
   "metadata": {},
   "source": [
    "#### Without MultiProcessing"
   ]
  },
  {
   "cell_type": "code",
   "execution_count": null,
   "id": "34b1c1e5-2ef7-4dfe-8942-10cbbbddbbb4",
   "metadata": {},
   "outputs": [],
   "source": [
    "start_time = time.time()\n",
    "\n",
    "expanded_patient_reaction = []\n",
    "\n",
    "# Iterate through each row of the original DataFrame\n",
    "for _, row in events_table.iterrows():\n",
    "    event_id = row['event_id']\n",
    "    \n",
    "    # Iterate through each drug entry in 'patient.drug' list\n",
    "    for drug_entry in row['reaction']:\n",
    "        # Flatten nested JSON into columns\n",
    "        flattened_entry = json_normalize(drug_entry)\n",
    "        \n",
    "        # Add event_id to the flattened entry\n",
    "        flattened_entry['event_id'] = event_id\n",
    "        \n",
    "        # Append the flattened entry to the list\n",
    "        expanded_patient_reaction.append(flattened_entry)\n",
    "\n",
    "# Concatenate all entries into a new DataFrame\n",
    "patient_reactions_df = pd.concat(expanded_patient_reaction, ignore_index=True)\n",
    "patient_reactions_df = patient_reactions_df[['event_id'] + [col for col in patient_reactions_df.columns if col != 'event_id']]\n",
    "\n",
    "end_time = time.time()\n",
    "execution_time = end_time - start_time\n",
    "print(execution_time)"
   ]
  },
  {
   "cell_type": "markdown",
   "id": "eba539a7-7051-4d93-b507-0c968788d94b",
   "metadata": {},
   "source": [
    "#### With MultiProcessing"
   ]
  },
  {
   "cell_type": "code",
   "execution_count": null,
   "id": "c994faff-9384-4fad-8234-3daaf009b0e0",
   "metadata": {},
   "outputs": [],
   "source": [
    "start_time = time.time()\n",
    "\n",
    "def process_row(row):\n",
    "    expanded_patient_reaction = []\n",
    "    event_id = row['event_id']\n",
    "    \n",
    "    # Iterate through each reaction entry in 'reaction' list\n",
    "    for reaction_entry in row['reaction']:\n",
    "        flattened_entry = json_normalize(reaction_entry)\n",
    "        flattened_entry['event_id'] = event_id\n",
    "        expanded_patient_reaction.append(flattened_entry)\n",
    "    \n",
    "    return pd.concat(expanded_patient_reaction, ignore_index=True)\n",
    "\n",
    "if __name__ == '__main__':\n",
    "    num_cores = mp.cpu_count()  # Number of CPU cores\n",
    "\n",
    "    with mp.Pool(num_cores) as pool:\n",
    "        # Use pool.map to process each row in parallel\n",
    "        patient_reactions_list = pool.map(process_row, events_table.to_dict('records'))\n",
    "\n",
    "    # Concatenate all entries into a new DataFrame\n",
    "    patient_reactions_df = pd.concat(patient_reactions_list, ignore_index=True)\n",
    "    patient_reactions_df = patient_reactions_df[['event_id'] + [col for col in patient_reactions_df.columns if col != 'event_id']]\n",
    "    \n",
    "end_time = time.time()\n",
    "execution_time = end_time - start_time\n",
    "print(execution_time)"
   ]
  },
  {
   "cell_type": "markdown",
   "id": "dc86cbee-90e1-4fab-bc01-61c5017f59c3",
   "metadata": {},
   "source": [
    "### Remove Drug and Reaction Columns as they are in new tables"
   ]
  },
  {
   "cell_type": "code",
   "execution_count": null,
   "id": "0593c8a1-3896-485c-b6d9-d9470d409a68",
   "metadata": {},
   "outputs": [],
   "source": [
    "events_table.drop(['drug', 'reaction'], axis=1, inplace=True)"
   ]
  },
  {
   "cell_type": "markdown",
   "id": "56e72607-a805-4f6b-8a9a-b9e234364a1f",
   "metadata": {},
   "source": [
    "### Assess Text Field Lengths"
   ]
  },
  {
   "cell_type": "code",
   "execution_count": null,
   "id": "58afd347-219e-400f-ab3d-fd32cf688619",
   "metadata": {},
   "outputs": [],
   "source": [
    "plot_character_length(events_table, 'events_table')"
   ]
  },
  {
   "cell_type": "markdown",
   "id": "242da5b9-3939-4b3a-9f4e-9deef5664bfa",
   "metadata": {},
   "source": [
    "### Examine Outlier Text Lengths to Help with VARCHAR Limits"
   ]
  },
  {
   "cell_type": "code",
   "execution_count": null,
   "id": "68360b11-0cf6-43ce-a493-0edddeff4cc6",
   "metadata": {},
   "outputs": [],
   "source": [
    "events_table_text_processed_outliers = examine_text_outliers(events_table['company'])\n",
    "print(events_table_text_processed_outliers.iloc[2])"
   ]
  },
  {
   "cell_type": "markdown",
   "id": "3522c2c5-88b7-48c4-b21b-c047c1f64f4e",
   "metadata": {},
   "source": [
    "#### Custom Text Processing of Company Information - Retain Name Only"
   ]
  },
  {
   "cell_type": "code",
   "execution_count": null,
   "id": "69eae2a7-d3ac-402d-b5bc-d57e8eb16574",
   "metadata": {},
   "outputs": [],
   "source": [
    "# Creat list of country abbreviations and extra abbreviations to remove from text data\n",
    "country_codes = events_table['country'].unique().tolist()\n",
    "country_codes = [i.lower() for i in country_codes]\n",
    "country_codes = ['cn' if country == 'canada' else country for country in country_codes]\n",
    "country_codes = country_codes+[\"usa\", \"isr\", \"ger\", \"tus\", \"dklu\", \"bp\", \"sp\",\n",
    "                                  \"nj\", \"aus\", \"deuct\", \"ve\", \"pomal\", \"gbr\",\n",
    "                                  \"jacan\", \"fra\", \"deu\", 'deuct', 'ita',\n",
    "                              'gw', 'jet', 'aur', 'aut', 'ml',\n",
    "                              'eut', 'ent', 'sp', 'chn',\n",
    "                              'jpn', 'kor', 'can', 'europe',\n",
    "                              'bw', 'rr', 'eu', 'bl', 'deusp',\n",
    "                              'uki', 'japan', 'teu', 'ind']\n",
    "\n",
    "extra_abv = ['nldsp', 'usasp', 'company', 'bax', 'spo',\n",
    "                'ccaza', 'cinry', 'and', 'cansp', 'oxyc',\n",
    "            'scpr', 'gbrct', 'gbrsp', 'tjp', 'unk',\n",
    "            'frasp', 'brasp', 'sol', 'cbst','pmco',\n",
    "            'jpnct', 'frua', 'espct', 'pre',\n",
    "            'dsu', 'gmbh', 'dse', 'belsp', 'crisp',\n",
    "            'kdl', 'irlsp', 'mpi', 'avee', 'usani', \n",
    "            'sun', 'belct', 'itasp', 'hkgsp', 'argsp']\n",
    "\n",
    "country_codes_df = pd.DataFrame({'codes': country_codes})\n",
    "\n",
    "# save list of country codes\n",
    "country_codes_df.to_csv('DataLibrary/country_codes.csv', index=False)"
   ]
  },
  {
   "cell_type": "markdown",
   "id": "1282fa29-2805-4fc5-ad28-a88db3b81d17",
   "metadata": {},
   "source": [
    "##### No Multiprocessing"
   ]
  },
  {
   "cell_type": "code",
   "execution_count": null,
   "id": "de6958cf-73d5-4d37-90fc-f6b971bfb9af",
   "metadata": {},
   "outputs": [],
   "source": [
    "start_time = time.time() \n",
    "events_table['company_name'] = events_table['company'].astype(str).apply(process_company_text)\n",
    "end_time = time.time()\n",
    "execution_time = end_time - start_time\n",
    "print(execution_time)"
   ]
  },
  {
   "cell_type": "markdown",
   "id": "ef3928cb-9355-4951-a15e-f57cfd357b5a",
   "metadata": {},
   "source": [
    "##### With Multiprocessing"
   ]
  },
  {
   "cell_type": "code",
   "execution_count": null,
   "id": "e00626ea-3ed9-438d-91db-fa7ea6883bec",
   "metadata": {},
   "outputs": [],
   "source": [
    "# Create a pool with the same number of workers as CPU cores\n",
    "start_time = time.time() \n",
    "if __name__ == '__main__':\n",
    "    with mp.Pool(num_cores) as pool:\n",
    "        company_name = pool.map(process_company_text, events_table['company'])\n",
    "        events_table['company_name'] = company_name\n",
    "    # Apply the process_company_row function to each element in the 'company' column in parallel\n",
    "end_time = time.time()\n",
    "execution_time = end_time - start_time\n",
    "print(execution_time)"
   ]
  },
  {
   "cell_type": "code",
   "execution_count": null,
   "id": "9475f6dc-9fd6-43ad-8d2e-b6b5b5553226",
   "metadata": {},
   "outputs": [],
   "source": [
    "events_table[['company', 'company_name', 'country']].head(20) "
   ]
  },
  {
   "cell_type": "code",
   "execution_count": null,
   "id": "7536d0be-b4aa-45b0-9536-d3c4b85ba5f3",
   "metadata": {},
   "outputs": [],
   "source": [
    "# Set display option to show the full list without truncation\n",
    "pd.set_option('display.max_rows', None)\n",
    "events_table['company_name'].value_counts()\n",
    "# Reset display option to default\n",
    "#pd.reset_option('display.max_rows')"
   ]
  },
  {
   "cell_type": "markdown",
   "id": "8222e563-3594-4a80-92fb-83c185c818d4",
   "metadata": {},
   "source": [
    "#### Text Processing of Country Name"
   ]
  },
  {
   "cell_type": "code",
   "execution_count": null,
   "id": "43b03940-8cf6-4e9d-bd2d-63693806bbd0",
   "metadata": {},
   "outputs": [],
   "source": [
    "# Replace category missing label with NA and Canada\n",
    "events_table['country'] = events_table['country'].replace({\"COUNTRY NOT SPECIFIED\": pd.NA, \"CANADA\": 'CN'})\n",
    "\n",
    "# Lower case country code text\n",
    "events_table['country'] = events_table['country'].apply(lambda x: x.lower() if pd.notna(x) else x)"
   ]
  },
  {
   "cell_type": "code",
   "execution_count": null,
   "id": "d79b5bcf-0f6d-40ff-9906-1bb839060d47",
   "metadata": {},
   "outputs": [],
   "source": [
    "events_table['country'].head(20)"
   ]
  },
  {
   "cell_type": "code",
   "execution_count": null,
   "id": "feacb0cf-a0dd-43f0-9bdd-fecc68c4cf89",
   "metadata": {},
   "outputs": [],
   "source": [
    "# Drop Cryptic company information\n",
    "events_table.drop(['company'], axis = 1, inplace = True)"
   ]
  },
  {
   "cell_type": "code",
   "execution_count": null,
   "id": "628f3f7d-f21c-4ecc-8efe-4fee522424e4",
   "metadata": {},
   "outputs": [],
   "source": [
    "events_table[['company_name', 'country']].head(10) "
   ]
  },
  {
   "cell_type": "markdown",
   "id": "2f1ebc19-c903-4f2b-be86-9fad6bb1257d",
   "metadata": {},
   "source": [
    "### Reeaxmine Field Lengths"
   ]
  },
  {
   "cell_type": "code",
   "execution_count": null,
   "id": "9ac480d6-515e-4044-a468-545f8fd7cd6b",
   "metadata": {},
   "outputs": [],
   "source": [
    "plot_character_length(events_table, 'events_table')"
   ]
  },
  {
   "cell_type": "code",
   "execution_count": null,
   "id": "14f402c9-0a85-4538-b506-b3e0a07ca51c",
   "metadata": {},
   "outputs": [],
   "source": [
    "examine_text_outliers(events_table['company_name']).iloc[0:10]"
   ]
  },
  {
   "cell_type": "markdown",
   "id": "dadff06f",
   "metadata": {},
   "source": [
    "#### Choose Final List of Features"
   ]
  },
  {
   "cell_type": "code",
   "execution_count": null,
   "id": "20790ef0",
   "metadata": {},
   "outputs": [],
   "source": [
    "events_table = events_table[['event_id',\n",
    "                            'year',\n",
    "                            'expedited',\n",
    "                            'report_source',\n",
    "                            'country',\n",
    "                            'age',\n",
    "                            'sex',\n",
    "                            'serious_outcome',\n",
    "                            'company_name']]"
   ]
  },
  {
   "cell_type": "code",
   "execution_count": null,
   "id": "012e005e",
   "metadata": {},
   "outputs": [],
   "source": [
    "# Write the DataFrame to a CSV file\n",
    "events_table.to_csv('DataLibrary/events_table.csv', index=False)"
   ]
  },
  {
   "cell_type": "markdown",
   "id": "f0802863-c379-4497-9a09-46211dc6072e",
   "metadata": {},
   "source": [
    "## PreProcess Patient Drugs Table"
   ]
  },
  {
   "cell_type": "code",
   "execution_count": null,
   "id": "21f06a91-4557-4448-be2f-41aabb12a146",
   "metadata": {},
   "outputs": [],
   "source": [
    "patient_drugs_table.head()\n",
    "patient_drugs_table.columns"
   ]
  },
  {
   "cell_type": "markdown",
   "id": "da50ea4b-c335-48f7-bdf0-3fccdcd971ad",
   "metadata": {},
   "source": [
    "#### Select Columns"
   ]
  },
  {
   "cell_type": "code",
   "execution_count": null,
   "id": "e1aa89b8-15ec-4e62-9e59-87ddd4bae198",
   "metadata": {},
   "outputs": [],
   "source": [
    "patient_drugs_table = pd.DataFrame(patient_drugs_table, \n",
    "                               columns = [\n",
    "                                'event_id',  # Identifier for the event\n",
    "                                'drugcharacterization',  # Level of detail for the drug in the event report\n",
    "                                'medicinalproduct',  # Name of the drug\n",
    "                                # 'drugauthorizationnumb',  # Marketing authorization number of the drug\n",
    "                                # 'drugadministrationroute',  # Route of administration for the drug\n",
    "                                'drugindication',  # Indication for use of the drug\n",
    "                                # 'drugbatchnumb',  # Batch number for the drug\n",
    "                                # 'drugstructuredosagenumb',  # Structured dosage number of the drug\n",
    "                                # 'drugstructuredosageunit',  # Unit of structured dosage for the drug\n",
    "                                # 'drugdosagetext',  # Textual description of the dosage for the drug\n",
    "                                # 'drugstartdateformat',  # Date format for the start date of drug administration\n",
    "                                # 'drugstartdate',  # Start date of drug administration\n",
    "                                #'drugrecurreadministration',  # Indicator for recurring drug administration\n",
    "                                # 'drugadditional',  # Additional details about the drug\n",
    "                                # 'openfda.application_number',  # FDA application number for the drug\n",
    "                                # 'openfda.brand_name',  # Brand name for the drug\n",
    "                                'openfda.generic_name',  # Generic name for the drug\n",
    "                                'openfda.manufacturer_name',  # Manufacturer name for the drug\n",
    "                                #'openfda.product_ndc',  # NDC (National Drug Code) number for the drug product\n",
    "                                'openfda.product_type',  # Type of drug product (e.g., HUMAN PRESCRIPTION DRUG)\n",
    "                                # 'openfda.route',  # Route of administration for the drug\n",
    "                                # 'openfda.substance_name',  # Substance name associated with the drug\n",
    "                                'openfda.rxcui',  # RxNorm Concept Unique Identifier (RxCUI) for the drug\n",
    "                                # 'openfda.spl_id',  # Structured Product Labeling (SPL) ID for the drug\n",
    "                                'openfda.spl_set_id',  # SPL Set ID for the drug\n",
    "                                # 'openfda.package_ndc',  # NDC (National Drug Code) number for the drug package\n",
    "                                # 'openfda.nui',  # NUI (National Uniform Identifier) for the drug\n",
    "                                # 'openfda.pharm_class_moa',  # Pharmacological class (Mechanism of Action) for the drug\n",
    "                                # 'openfda.pharm_class_cs',  # Chemical structure class for the drug\n",
    "                                # 'openfda.pharm_class_epc',  # Pharmacological class (EPC) for the drug\n",
    "                                'openfda.unii',  # Unique Ingredient Identifier (UNII) for the drug substance\n",
    "                                # 'actiondrug',  # Action taken with the drug\n",
    "                                # 'drugdosageform',  # Dosage form of the drug\n",
    "                                # 'openfda.pharm_class_pe',  # Pharmacological class (Physiologic Effect) for the drug\n",
    "                                # 'activesubstance.activesubstancename',  # Name of the active substance in the drug\n",
    "                                # 'drugenddateformat',  # Date format for the end date of drug administration\n",
    "                                # 'drugenddate',  # End date of drug administration\n",
    "                                #'drugseparatedosagenumb',  # Separated dosage number for the drug\n",
    "                                # 'drugintervaldosageunitnumb',  # Interval dosage unit number for the drug\n",
    "                                # 'drugintervaldosagedefinition',  # Definition of interval dosage for the drug\n",
    "                                # 'drugcumulativedosagenumb',  # Cumulative dosage number for the drug\n",
    "                                # 'drugcumulativedosageunit'  # Unit of cumulative dosage for the drug\n",
    "                            ])\n"
   ]
  },
  {
   "cell_type": "code",
   "execution_count": null,
   "id": "8f781552-8f74-4098-a514-62e268f0b933",
   "metadata": {},
   "outputs": [],
   "source": [
    "patient_drugs_table.head(5)"
   ]
  },
  {
   "cell_type": "markdown",
   "id": "17f581d3-a5cf-47bc-8581-429686a0a9b4",
   "metadata": {},
   "source": [
    "#### Fix Dtypes"
   ]
  },
  {
   "cell_type": "code",
   "execution_count": null,
   "id": "9b84379f-6879-4657-825b-e590ee60a6f1",
   "metadata": {},
   "outputs": [],
   "source": [
    "patient_drugs_table['drugcharacterization'] = patient_drugs_table['drugcharacterization'].astype(int)"
   ]
  },
  {
   "cell_type": "markdown",
   "id": "1f6bd505-54e7-4abb-83aa-9097e505e4fb",
   "metadata": {},
   "source": [
    "#### Filter for Quality Data"
   ]
  },
  {
   "cell_type": "code",
   "execution_count": null,
   "id": "45fcc807-4957-4448-b1ce-10c2fbc00eb8",
   "metadata": {},
   "outputs": [],
   "source": [
    "patient_drugs_table['drugcharacterization'].value_counts()"
   ]
  },
  {
   "cell_type": "code",
   "execution_count": null,
   "id": "7bacb7ef-cce8-44b2-a41d-81a8bca11aec",
   "metadata": {},
   "outputs": [],
   "source": [
    "# Add unique ID\n",
    "patient_drugs_table = add_sequential_index(patient_drugs_table,'patient_drug_id')\n",
    "\n",
    "# Keep only primary drug suspects\n",
    "patient_drugs_table = patient_drugs_table.loc[patient_drugs_table['drugcharacterization'] == 1]"
   ]
  },
  {
   "cell_type": "markdown",
   "id": "8338d150-31d0-4185-b96b-52c9d6c15b32",
   "metadata": {},
   "source": [
    "#### Examining Variables of Interest\n",
    "* Drugcharacterization: 1-suspect(drug primary cause), 2-concomitant(drug taken with primary cause), 3-interation(drug interact with primary cause)\n",
    "* Medicinalproduct: generic or brand name\n",
    "* Drugindication: official drug purpose\n",
    "* openfda.rxcui : Rx cui code\n",
    "* openfda.unii : unique ingredient identifier"
   ]
  },
  {
   "cell_type": "code",
   "execution_count": null,
   "id": "6affcc58-6f0a-4dac-809e-e4022ea91463",
   "metadata": {},
   "outputs": [],
   "source": [
    "patient_drugs_table['drugcharacterization'].value_counts()"
   ]
  },
  {
   "cell_type": "markdown",
   "id": "0b844dc1-f686-42c1-af53-3290b4131b7e",
   "metadata": {},
   "source": [
    "### Examine Nulls"
   ]
  },
  {
   "cell_type": "code",
   "execution_count": null,
   "id": "6d1a937d-5fb7-4144-b45c-e41455256203",
   "metadata": {},
   "outputs": [],
   "source": [
    "patient_drugs_table_nan_info = nan_info(patient_drugs_table)\n",
    "patient_drugs_table_nan_info"
   ]
  },
  {
   "cell_type": "markdown",
   "id": "befbc9b8-c178-46ca-a70a-e4b769a38a71",
   "metadata": {},
   "source": [
    "### Text Processing"
   ]
  },
  {
   "cell_type": "markdown",
   "id": "4401d10e-77a5-4866-8909-25c393e065e7",
   "metadata": {},
   "source": [
    "#### Without MultiProcessing"
   ]
  },
  {
   "cell_type": "code",
   "execution_count": null,
   "id": "5875fb17-2828-4dba-bc3e-d14f72542062",
   "metadata": {},
   "outputs": [],
   "source": [
    "# Apply the clean_text function\n",
    "start_time = time.time()\n",
    "\n",
    "patient_drugs_table['manu_list'] = patient_drugs_table['openfda.manufacturer_name'].apply(clean_manufacturer_text)\n",
    "\n",
    "end_time = time.time()\n",
    "execution_time = end_time - start_time\n",
    "print(execution_time)"
   ]
  },
  {
   "cell_type": "markdown",
   "id": "13e20573-cb4b-4e95-a39c-7c0adc99aed8",
   "metadata": {},
   "source": [
    "#### With MultiProcessing"
   ]
  },
  {
   "cell_type": "code",
   "execution_count": null,
   "id": "ffc793d3-c0a6-4104-a0e0-32458bce43e9",
   "metadata": {},
   "outputs": [],
   "source": [
    "start_time = time.time()\n",
    "if __name__ == '__main__':    \n",
    "    with mp.Pool(num_cores) as pool:\n",
    "        # Use pool.map to apply clean_manufacturer_text to each element in parallel\n",
    "        patient_drugs_table['manu_list'] = pool.map(clean_manufacturer_text, patient_drugs_table['openfda.manufacturer_name'])\n",
    "end_time = time.time()\n",
    "execution_time = end_time - start_time\n",
    "print(execution_time)"
   ]
  },
  {
   "cell_type": "code",
   "execution_count": null,
   "id": "9621fe89-2f43-4912-b480-004c858c46e8",
   "metadata": {},
   "outputs": [],
   "source": [
    "# Count the number of manufacturers that produce the drug\n",
    "patient_drugs_table['manu_num'] = patient_drugs_table['manu_list'].apply(lambda x: len(x) if np.all(pd.notna(x))==True else 0)"
   ]
  },
  {
   "cell_type": "code",
   "execution_count": null,
   "id": "186c3f29-ae80-48c6-8b32-258e06341955",
   "metadata": {},
   "outputs": [],
   "source": [
    "# Count the number of rxcui associated with drug\n",
    "patient_drugs_table['rxcui_num'] = patient_drugs_table['openfda.rxcui'].apply(lambda x: len(x) if np.all(pd.notna(x))==True else 0)"
   ]
  },
  {
   "cell_type": "code",
   "execution_count": null,
   "id": "2495f28c-c8dc-484b-a367-eaf766ddfc74",
   "metadata": {},
   "outputs": [],
   "source": [
    "patient_drugs_table[['openfda.manufacturer_name', 'manu_list', 'manu_num', 'rxcui_num']].head(10)"
   ]
  },
  {
   "cell_type": "markdown",
   "id": "f462b9fe",
   "metadata": {},
   "source": [
    "### Cleaning Text Columns"
   ]
  },
  {
   "cell_type": "code",
   "execution_count": null,
   "id": "a88aaf8b",
   "metadata": {},
   "outputs": [],
   "source": [
    "# Define text columns\n",
    "object_columns = patient_drugs_table.select_dtypes(include=['object']).columns\n",
    "\n",
    "# Exclude columns that should not be tokenized, index codes\n",
    "object_columns = object_columns.drop(['openfda.unii', \n",
    "                                      'openfda.rxcui', \n",
    "                                      'openfda.manufacturer_name', \n",
    "                                      'manu_list',\n",
    "                                     'openfda.spl_set_id'], errors='ignore')\n",
    "patient_drugs_table[object_columns] = patient_drugs_table[object_columns].astype(str)"
   ]
  },
  {
   "cell_type": "markdown",
   "id": "0c39625a",
   "metadata": {},
   "source": [
    "#### No multiprocessing"
   ]
  },
  {
   "cell_type": "code",
   "execution_count": null,
   "id": "e36df002",
   "metadata": {},
   "outputs": [],
   "source": [
    "# Apply the clean_text function\n",
    "start_time = time.time()\n",
    "\n",
    "for col in object_columns:\n",
    "            new_col_name = col + '_processed'\n",
    "            # Use pool.map to apply process_label_text to each column in parallel\n",
    "            patient_drugs_table[new_col_name] = patient_drugs_table[col].apply(process_label_text)\n",
    "\n",
    "end_time = time.time()\n",
    "execution_time = end_time - start_time\n",
    "print(execution_time)"
   ]
  },
  {
   "cell_type": "markdown",
   "id": "90aa68c0-d544-416f-a7a8-0efa85661642",
   "metadata": {},
   "source": [
    "#### Use multiprocessing to process text columns"
   ]
  },
  {
   "cell_type": "code",
   "execution_count": null,
   "id": "85859742-8e16-4831-9034-4f062ceed33d",
   "metadata": {},
   "outputs": [],
   "source": [
    "# Apply text processing to the selected text columns and add new processed columns to dataframe\n",
    "# Create a pool with the same number of workers as CPU cores\n",
    "\n",
    "if __name__ == '__main__':\n",
    "    with mp.Pool(num_cores) as pool:\n",
    "        for col in object_columns:\n",
    "            new_col_name = col + '_processed'\n",
    "            # Use pool.map to apply process_label_text to each column in parallel\n",
    "            patient_drugs_table[new_col_name] = pool.map(process_label_text, patient_drugs_table[col])\n"
   ]
  },
  {
   "cell_type": "markdown",
   "id": "82823dd7-8c5c-4e87-a7de-1d3844481ad6",
   "metadata": {},
   "source": [
    "### Final list of features for Patient Drugs Table"
   ]
  },
  {
   "cell_type": "code",
   "execution_count": null,
   "id": "bead8f1a-000e-4ba9-915f-2021d8b7a37d",
   "metadata": {},
   "outputs": [],
   "source": [
    "patient_drugs_table = patient_drugs_table[['patient_drug_id',\n",
    "                                          'event_id',\n",
    "                                           'openfda.spl_set_id',\n",
    "                                          #'drugcharacterization',  # Not necessary since table is filtered to value of 1 for all\n",
    "                                          'drugindication_processed',\n",
    "                                          'medicinalproduct_processed',\n",
    "                                          'openfda.generic_name_processed',\n",
    "                                          'manu_list',\n",
    "                                          'manu_num',\n",
    "                                          'openfda.product_type_processed',\n",
    "                                          'openfda.rxcui',\n",
    "                                           'rxcui_num',\n",
    "                                          'openfda.unii'\n",
    "                                          ]]"
   ]
  },
  {
   "cell_type": "markdown",
   "id": "4ec491e1-784b-4545-bc3c-ef815f65b80e",
   "metadata": {},
   "source": [
    "### Rename Columns"
   ]
  },
  {
   "cell_type": "code",
   "execution_count": null,
   "id": "8563df8d-cded-4a28-b751-ae955bd047c0",
   "metadata": {},
   "outputs": [],
   "source": [
    "patient_drugs_table = patient_drugs_table.rename(columns={\n",
    "    'medicinalproduct_processed': 'med_product',\n",
    "    'drugindication_processed': 'indication',\n",
    "    'openfda.generic_name_processed': 'generic_name',\n",
    "    'manu_list': 'manufacturers',\n",
    "    'openfda.product_type_processed': 'product_type',\n",
    "    'openfda.rxcui': 'rxcui',\n",
    "    'openfda.unii': 'unii',\n",
    "    'openfda.spl_set_id': 'spl_set_id'\n",
    "})"
   ]
  },
  {
   "cell_type": "code",
   "execution_count": null,
   "id": "30d19e18-1061-46c8-b364-63338f696b4f",
   "metadata": {},
   "outputs": [],
   "source": [
    "patient_drugs_table.info()"
   ]
  },
  {
   "cell_type": "markdown",
   "id": "fbdf50c5-c56f-4803-ab61-a2fd5209de1b",
   "metadata": {},
   "source": [
    "### Assess Text Field Lengths"
   ]
  },
  {
   "cell_type": "code",
   "execution_count": null,
   "id": "b9e8d262-17bb-4936-a6db-c2c7361759a2",
   "metadata": {},
   "outputs": [],
   "source": [
    "plot_character_length(patient_drugs_table, 'patient_drugs_table')"
   ]
  },
  {
   "cell_type": "markdown",
   "id": "304da575-5eba-4fa8-8a51-e3e2a5846715",
   "metadata": {},
   "source": [
    "### Examine Outlier Text Lengths to Help with VARCHAR Limits"
   ]
  },
  {
   "cell_type": "markdown",
   "id": "46ceb6fc-2f2a-4f02-8aa6-48f6f0c41a59",
   "metadata": {},
   "source": [
    "**Examine 'Manufacturer' Outliers**\n",
    "Reports contain manufacturers, distributors, and retail"
   ]
  },
  {
   "cell_type": "code",
   "execution_count": null,
   "id": "3ed51838-8ff8-4ba6-9689-f838051e8180",
   "metadata": {},
   "outputs": [],
   "source": [
    "patient_drugs_table_manufacturer_outliers = examine_text_outliers(patient_drugs_table['manufacturers'])\n",
    "print(patient_drugs_table_manufacturer_outliers.iloc[2])"
   ]
  },
  {
   "cell_type": "markdown",
   "id": "67aaa29d-7dbc-4a98-9e27-6ea712ebeb2c",
   "metadata": {},
   "source": [
    "**Examine 'rxcui' outliers**"
   ]
  },
  {
   "cell_type": "code",
   "execution_count": null,
   "id": "d18b57f3-0158-403a-9226-afcf804c114f",
   "metadata": {},
   "outputs": [],
   "source": [
    "patient_drugs_table_rxcui_outliers = examine_text_outliers(patient_drugs_table['rxcui'])\n",
    "print(patient_drugs_table_rxcui_outliers.iloc[1])"
   ]
  },
  {
   "cell_type": "code",
   "execution_count": null,
   "id": "b5232500-61a0-4f1c-8e5f-1e255bbd1e78",
   "metadata": {},
   "outputs": [],
   "source": []
  },
  {
   "cell_type": "code",
   "execution_count": null,
   "id": "fe27be3b-4365-49c1-b6f3-e355c81097f1",
   "metadata": {},
   "outputs": [],
   "source": [
    "# Write the DataFrame to a CSV file\n",
    "#patient_drugs_table.to_csv('DataLibrary/drugs_table.csv', index=False)"
   ]
  },
  {
   "cell_type": "code",
   "execution_count": null,
   "id": "87fbf718-03b5-4a4b-b060-e3f09ccbfb10",
   "metadata": {},
   "outputs": [],
   "source": []
  },
  {
   "cell_type": "markdown",
   "id": "7bdbd9f3-83e0-44f5-88b7-869cf1ddbf69",
   "metadata": {},
   "source": [
    "## PreProcess Patient Reactions Table"
   ]
  },
  {
   "cell_type": "markdown",
   "id": "6c6bca90-f2af-41ca-9910-6b1920836948",
   "metadata": {},
   "source": [
    "### Rename Columns"
   ]
  },
  {
   "cell_type": "code",
   "execution_count": null,
   "id": "e298356f-7e42-4263-86cb-f6cc7fa40c1b",
   "metadata": {},
   "outputs": [],
   "source": [
    "patient_reactions_table = patient_reactions_df.rename(columns={\n",
    "    'reactionmeddrapt': 'reaction',\n",
    "    'reactionmeddraversionpt': 'version_medDRA',\n",
    "    'reactionoutcome': 'outcome'\n",
    "})"
   ]
  },
  {
   "cell_type": "markdown",
   "id": "79e80a0e-59a1-4528-a9d7-05f1fbe22bf0",
   "metadata": {},
   "source": [
    "### Fix Dtypes"
   ]
  },
  {
   "cell_type": "code",
   "execution_count": null,
   "id": "7e81a44b-5401-48f6-b2be-7a1c2834f948",
   "metadata": {},
   "outputs": [],
   "source": [
    "#n/a\n",
    "#patient_reactions_table.head(10)\n",
    "#patient_reactions_table.info()"
   ]
  },
  {
   "cell_type": "markdown",
   "id": "f9957025-08d4-4168-bb69-b4e823711cfd",
   "metadata": {},
   "source": [
    "### Feature Engineering"
   ]
  },
  {
   "cell_type": "code",
   "execution_count": null,
   "id": "286c977e-a662-4db4-b99c-b97455e13a01",
   "metadata": {},
   "outputs": [],
   "source": [
    "patient_reactions_table = add_sequential_index(patient_reactions_table,'patient_reaction_id')"
   ]
  },
  {
   "cell_type": "markdown",
   "id": "53497aa9-171f-4d52-a3e5-b01e6de9d18e",
   "metadata": {},
   "source": [
    "### Map Features"
   ]
  },
  {
   "cell_type": "code",
   "execution_count": null,
   "id": "ad6baa23-2ea7-4d8e-987f-758b03484f51",
   "metadata": {},
   "outputs": [],
   "source": [
    "#map outcomes to text categories\n",
    "\n",
    "outcome_mapping = {\n",
    "    1: 'Recovered',\n",
    "    2: 'Recovering',\n",
    "    3: 'NotRecovered',\n",
    "    4: 'RecoveredWithSequelae',\n",
    "    5: 'Fatal',\n",
    "    6: 'Unknown'\n",
    "}\n",
    "\n",
    "# if outcome is 'Unknown', change to 6 (which will map to unknown again). Necessary that this column is int for mapping\n",
    "patient_reactions_table.loc[patient_reactions_table['outcome'] == 'Unknown', 'outcome'] = 6\n",
    "\n",
    "# Perform mapping by outcome mapping\n",
    "patient_reactions_table['outcome'] = patient_reactions_table['outcome'].fillna(0).astype(int).map(outcome_mapping)\n",
    "\n",
    "patient_reactions_table.tail()"
   ]
  },
  {
   "cell_type": "markdown",
   "id": "f9d55851-10ad-4068-8bfc-188fdeb34809",
   "metadata": {},
   "source": [
    "## LIST OF UNIQUE REACTIONS"
   ]
  },
  {
   "cell_type": "code",
   "execution_count": null,
   "id": "4eff870c-5f65-45f7-856e-140c6381001b",
   "metadata": {},
   "outputs": [],
   "source": [
    "# Get unique values from the 'reaction' column\n",
    "unique_reactions = patient_reactions_table['reaction'].unique().tolist()\n",
    "unique_reactions = [reaction.lower() for reaction in unique_reactions]\n",
    "\n",
    "# Display unique values\n",
    "#print(unique_reactions)\n",
    "\n"
   ]
  },
  {
   "cell_type": "markdown",
   "id": "00ec678c-484c-459b-9b1d-e72d44ff5b7a",
   "metadata": {},
   "source": [
    "### Save each reaction as binary column"
   ]
  },
  {
   "cell_type": "code",
   "execution_count": null,
   "id": "ee5c4dc3-86aa-44b3-8d02-e253274a39ca",
   "metadata": {},
   "outputs": [],
   "source": [
    "for reaction in unique_reactions:\n",
    "    patient_reactions_table[reaction] = 0\n",
    "\n",
    "# Set the value to 1 if 'reaction' matches the column name\n",
    "for idx, row in patient_reactions_table.iterrows():\n",
    "    patient_reactions_table.loc[idx, reaction] = 1\n",
    "\n",
    "patient_reactions_table.head()"
   ]
  },
  {
   "cell_type": "code",
   "execution_count": null,
   "id": "d34e9ebf-0b96-4049-91f6-306d84f5b575",
   "metadata": {},
   "outputs": [],
   "source": [
    "patient_reactions_table.shape"
   ]
  },
  {
   "cell_type": "markdown",
   "id": "aefcd297-e09c-48e3-b036-a417d2282234",
   "metadata": {},
   "source": [
    "### Text Processing"
   ]
  },
  {
   "cell_type": "markdown",
   "id": "3cd77d35-0902-4a63-a11e-e94a1e185062",
   "metadata": {},
   "source": [
    "#### Without MultiProcessing"
   ]
  },
  {
   "cell_type": "code",
   "execution_count": null,
   "id": "6d4ba2d3-a875-49e4-89cf-1580531ef2e5",
   "metadata": {},
   "outputs": [],
   "source": [
    "#patient_reactions_table['reaction_processed'] = patient_reactions_table['reaction'].apply(process_label_text)\n",
    "patient_reactions_table['reaction_processed'] = patient_reactions_table['reaction'].apply(process_label_text)"
   ]
  },
  {
   "cell_type": "markdown",
   "id": "02341be7-5452-4193-a67e-95521a1700b0",
   "metadata": {},
   "source": [
    "#### With MultiProcessing"
   ]
  },
  {
   "cell_type": "code",
   "execution_count": null,
   "id": "e505c4a5-c35a-4096-aa65-26f8fb040beb",
   "metadata": {},
   "outputs": [],
   "source": [
    "if __name__ == '__main__':\n",
    "    with mp.Pool(num_cores) as pool:\n",
    "        patient_reactions_table['reaction_processed'] = pool.map(process_label_text, patient_reactions_table['reaction'])"
   ]
  },
  {
   "cell_type": "markdown",
   "id": "f3b0f68b-8cbe-4e20-9c7a-ccdaee333ccf",
   "metadata": {},
   "source": [
    "#### Drop unprocessed reaction columns"
   ]
  },
  {
   "cell_type": "code",
   "execution_count": null,
   "id": "897a8d18-9a4b-43d1-afb8-347a713c30e1",
   "metadata": {},
   "outputs": [],
   "source": [
    "patient_reactions_table = patient_reactions_table.drop('reaction', axis = 1)"
   ]
  },
  {
   "cell_type": "code",
   "execution_count": null,
   "id": "28d0c440-13b9-41c2-9d0b-28f6a7af42fd",
   "metadata": {},
   "outputs": [],
   "source": []
  },
  {
   "cell_type": "markdown",
   "id": "8997ef9f-d1b1-4314-9bb3-d87280a87090",
   "metadata": {},
   "source": [
    "### Examine Nulls"
   ]
  },
  {
   "cell_type": "code",
   "execution_count": null,
   "id": "858822cc-d588-46f8-9beb-8eb4d72a542d",
   "metadata": {},
   "outputs": [],
   "source": [
    "patient_reactions_table_nan_info = nan_info(patient_reactions_table)\n",
    "patient_reactions_table_nan_info\n",
    "\n",
    "#fill the missing values in the outcome table with 'Unknown'\n",
    "patient_reactions_table['outcome'] = patient_reactions_table['outcome'].fillna('Unknown')\n",
    "\n",
    "patient_reactions_table_nan_info = nan_info(patient_reactions_table)\n",
    "patient_reactions_table_nan_info\n"
   ]
  },
  {
   "cell_type": "markdown",
   "id": "bc795e24-b1ac-49bc-8298-566c43a3ad2b",
   "metadata": {},
   "source": [
    "### Filter for Data Quality"
   ]
  },
  {
   "cell_type": "code",
   "execution_count": null,
   "id": "36a708a3",
   "metadata": {},
   "outputs": [],
   "source": [
    "# Count the frequency of each category\n",
    "category_counts = patient_reactions_table['outcome'].value_counts()\n",
    "\n",
    "# Calculate the percentages\n",
    "total = len(patient_reactions_table)\n",
    "percentages = (category_counts / total) * 100\n",
    "\n",
    "# Text size\n",
    "plt.rcParams.update({'font.size': 14})\n",
    "\n",
    "# Plotting the frequency bar plot\n",
    "plt.figure(figsize=(10, 6))\n",
    "bars = percentages.plot(kind='bar', color='skyblue')\n",
    "plt.title('Proportion of Outcome Categories')\n",
    "plt.xlabel('ADR Outcome Category')\n",
    "plt.ylabel('Percentage of Total (%)')\n",
    "plt.ylim(0, 100)\n",
    "plt.xticks(rotation=0)\n",
    "\n",
    "plt.show()"
   ]
  },
  {
   "cell_type": "code",
   "execution_count": null,
   "id": "fe74072e",
   "metadata": {},
   "outputs": [],
   "source": [
    "patient_reactions_table['outcome'].value_counts()"
   ]
  },
  {
   "cell_type": "code",
   "execution_count": null,
   "id": "a28768be",
   "metadata": {},
   "outputs": [],
   "source": [
    "patient_reactions_table['outcome'].value_counts(normalize=True)"
   ]
  },
  {
   "cell_type": "code",
   "execution_count": null,
   "id": "bee1b668-69e3-492f-92a8-ee4fe8d8ec82",
   "metadata": {},
   "outputs": [],
   "source": [
    "# Drop cases with \"unknown\" outcomes\n",
    "patient_reactions_table = patient_reactions_table.loc[patient_reactions_table['outcome'] != 'Unknown']"
   ]
  },
  {
   "cell_type": "code",
   "execution_count": null,
   "id": "8f9e1f2f",
   "metadata": {},
   "outputs": [],
   "source": []
  },
  {
   "cell_type": "markdown",
   "id": "df03593e-fb50-4f4b-9192-446fea9a119a",
   "metadata": {},
   "source": [
    "### Assess Text Field Lengths"
   ]
  },
  {
   "cell_type": "code",
   "execution_count": null,
   "id": "cd256bd2-09dd-49dd-9f0e-71be4d4bcb2f",
   "metadata": {},
   "outputs": [],
   "source": [
    "plot_character_length(patient_reactions_table, 'patient_reactions_table')"
   ]
  },
  {
   "cell_type": "markdown",
   "id": "f9aa8f89-dc57-4ce7-8c72-d3b1129b0c63",
   "metadata": {},
   "source": [
    "### Examine Outlier Text Lengths to Help with VARCHAR Limits"
   ]
  },
  {
   "cell_type": "code",
   "execution_count": null,
   "id": "f5bba430-cd00-495f-b93e-625aad125e5b",
   "metadata": {},
   "outputs": [],
   "source": [
    "reactions_table_text_processed_outliers = examine_text_outliers(patient_reactions_table['reaction_processed'])\n",
    "print(reactions_table_text_processed_outliers)"
   ]
  },
  {
   "cell_type": "code",
   "execution_count": null,
   "id": "cd554c3f-332c-44ae-9a2d-563e88e41d9e",
   "metadata": {},
   "outputs": [],
   "source": []
  },
  {
   "cell_type": "code",
   "execution_count": null,
   "id": "1cae1a4d-e999-4a79-bfc3-a82dc636a6b9",
   "metadata": {},
   "outputs": [],
   "source": [
    "# Write the DataFrame to a CSV file\n",
    "#patient_reactions_table.to_csv('DataLibrary/reactions_table.csv', index=False)"
   ]
  },
  {
   "cell_type": "markdown",
   "id": "ec93225d-e36c-4149-aa61-133473aaf29d",
   "metadata": {},
   "source": [
    "## PreProcess Prices Table"
   ]
  },
  {
   "cell_type": "markdown",
   "id": "4192e542-f927-4d37-bd27-8efcbb10f63f",
   "metadata": {},
   "source": [
    "### Select Columns"
   ]
  },
  {
   "cell_type": "code",
   "execution_count": null,
   "id": "6047a92d-b7f9-4166-93eb-8e9dd577bd20",
   "metadata": {},
   "outputs": [],
   "source": [
    "prices_table = pd.DataFrame(prices_df, \n",
    "                            columns = [#\"NDC Description\",  # Identifies the drug name/dosage, Redundant Information with labels_table\n",
    "                                       \"NDC\",  # 11 character FDA code, Do NOT Tokenize, database key\n",
    "                                       \"NADAC_Per_Unit\",  #  The National Average Drug Acquisition Cost per unit, do NOT tokenize\n",
    "                                       \"Effective Date\",  # The effective date of the NADAC Per Unit cost\n",
    "                                        #\"Pricing_Unit\",  # Pricing unit for NDC ('ML', 'GM 'or 'EA'), Not necessary, just use price\n",
    "                                        #\"Pharmacy_Type_Indicator\",  # 'C/I' data from Chain/Independent pharmacies, does not provide helpful info\n",
    "                                        #\"OTC\",  # Indicates whether NDC is over-the-counter (OTC), redundant with labels_table\n",
    "                                        #\"Explanation Code\",  # NADAC Calculation Method, not necessary for this project, too much missing data\n",
    "                                                                       # Code 1: Inform from most recent survey.\n",
    "                                                                       # Code 2: Cost within ± 2%, carried forward from previous\n",
    "                                                                       # Code 3: Published pricing, or help desk inquiry\n",
    "                                                                       # Code 4: Carried forward from previous year\n",
    "                                                                       # Code 5: Based on package size.\n",
    "                                                                       # Code 6: CMS Covered Outpatient Drug Product File drug category \n",
    "                                        \"Classification_for_Rate_Setting\",  # B: brand, \n",
    "                                                                            # G: generic\n",
    "                                                                            # B-ANDA: brand under ANDA\n",
    "                                                                            # B-BIO: biosimilar brand  \n",
    "                                        #\"Corresponding_Generic_Drug_NADAC_Per_Unit\",\n",
    "                                        #\"Corresponding_Generic_Drug_Effective_Date\"\n",
    "                                        #\"As of Date\"\n",
    "                                      ])\n",
    "\n",
    "#prices_table = prices_table[['NDC', 'NADAC_Per_Unit', 'Effective Date', 'Classification_for_Rate_Setting', \n",
    "#                             'Corresponding_Generic_Drug_NADAC_Per_Unit', 'Corresponding_Generic_Drug_Effective_Date']]\n"
   ]
  },
  {
   "cell_type": "markdown",
   "id": "9521129b-a470-4e08-8d4f-8aef30f24f64",
   "metadata": {},
   "source": [
    "### Fix Dtypes"
   ]
  },
  {
   "cell_type": "code",
   "execution_count": null,
   "id": "25a40b41-ae0b-439b-b220-a8500c3af4c5",
   "metadata": {},
   "outputs": [],
   "source": [
    "prices_table['Effective Date'] = pd.to_datetime(prices_table['Effective Date'])\n",
    "prices_table['year'] = prices_table['Effective Date'].dt.year\n",
    "#prices_table['Corresponding_Generic_Drug_Effective_Date'] = pd.to_datetime(prices_table['Corresponding_Generic_Drug_Effective_Date'])\n",
    "prices_table['NADAC_Per_Unit'] = prices_table['NADAC_Per_Unit'].astype(float)"
   ]
  },
  {
   "cell_type": "markdown",
   "id": "fcb944a0-8337-433f-a0ba-4ce924f3e953",
   "metadata": {},
   "source": [
    "### Examine Nulls"
   ]
  },
  {
   "cell_type": "code",
   "execution_count": null,
   "id": "58ba4cbf-e376-4391-b794-045b93d6ea45",
   "metadata": {},
   "outputs": [],
   "source": [
    "# replace empty strings with nan\n",
    "prices_table = prices_table.replace(r'^\\s*$', np.nan, regex=True)\n",
    "\n",
    "prices_nan = nan_info(prices_table)\n",
    "prices_nan"
   ]
  },
  {
   "cell_type": "markdown",
   "id": "597efcfa-9426-4cd9-8b7d-5e41e62328c0",
   "metadata": {},
   "source": [
    "### Feature Engineering "
   ]
  },
  {
   "cell_type": "code",
   "execution_count": null,
   "id": "76fa6feb-0844-4552-aca3-11370c34e67e",
   "metadata": {},
   "outputs": [],
   "source": [
    "prices_table['Classification_for_Rate_Setting'].value_counts()"
   ]
  },
  {
   "cell_type": "code",
   "execution_count": null,
   "id": "89751cd5-58fd-41cf-b882-79a851fe6724",
   "metadata": {},
   "outputs": [],
   "source": [
    "# Update classification to binary generic/brand, G:1 B:0\n",
    "prices_table['Classification_for_Rate_Setting'] = prices_table['Classification_for_Rate_Setting'].apply(lambda x: 1 if x == 'G' else 0)"
   ]
  },
  {
   "cell_type": "code",
   "execution_count": null,
   "id": "e479843f-10dc-4d8e-a9ea-8a115a7d9b60",
   "metadata": {},
   "outputs": [],
   "source": [
    "# Add index column\n",
    "prices_table = add_sequential_index(prices_table, 'price_id')"
   ]
  },
  {
   "cell_type": "markdown",
   "id": "33329428-f64c-485f-b139-19cae9524203",
   "metadata": {},
   "source": [
    "### Rename Columns"
   ]
  },
  {
   "cell_type": "code",
   "execution_count": null,
   "id": "8e9cfd4d-ab09-4771-b800-025c9101169b",
   "metadata": {},
   "outputs": [],
   "source": [
    "prices_table = prices_table.rename(columns = {'NDC': 'ndc',\n",
    "                         'NADAC_Per_Unit': 'unit_price',\n",
    "                         'Effective Date': 'price_date',\n",
    "                         'Classification_for_Rate_Setting': 'generic_brand',\n",
    "                         'Corresponding_Generic_Drug_NADAC_Per_Unit': 'generic_price',\n",
    "                         'Corresponding_Generic_Drug_Effective_Date': 'generic_date'})"
   ]
  },
  {
   "cell_type": "code",
   "execution_count": null,
   "id": "e16732d8",
   "metadata": {},
   "outputs": [],
   "source": [
    "prices_table = prices_table[['ndc',\n",
    "                            'unit_price',\n",
    "                            'year',\n",
    "                            'generic_brand']]"
   ]
  },
  {
   "cell_type": "code",
   "execution_count": null,
   "id": "cf1add5b-bdf8-4bed-87bf-93f701285bb8",
   "metadata": {},
   "outputs": [],
   "source": [
    "prices_table.info()"
   ]
  },
  {
   "cell_type": "code",
   "execution_count": null,
   "id": "b1d53213-7de1-4611-9b85-c573ce9eff87",
   "metadata": {},
   "outputs": [],
   "source": [
    "# Write the DataFrame to a CSV file\n",
    "#prices_table.to_csv('DataLibrary/prices_table.csv', index=False)"
   ]
  },
  {
   "cell_type": "markdown",
   "id": "e3f7210d-ba69-488f-9ba3-f7ddee6d0dc6",
   "metadata": {},
   "source": [
    "## Preprocess Documents Table"
   ]
  },
  {
   "cell_type": "markdown",
   "id": "b1de154c-b24f-495f-83a3-4fdb8a0026aa",
   "metadata": {},
   "source": [
    "### Select Columns"
   ]
  },
  {
   "cell_type": "code",
   "execution_count": null,
   "id": "c45fa0e9-d061-40c0-8db2-aaaa48ce32dc",
   "metadata": {},
   "outputs": [],
   "source": [
    "documents_table = pd.DataFrame(documents_df, columns=[\"doc_type\", \"year\", \"text\"])\n",
    "\n",
    "documents_table = add_sequential_index(documents_table,'doc_id')\n"
   ]
  },
  {
   "cell_type": "markdown",
   "id": "d5e09f16-f99e-4163-85cb-89a501f26006",
   "metadata": {},
   "source": [
    "### Fix Dtypes"
   ]
  },
  {
   "cell_type": "markdown",
   "id": "d0aa26fb-5fce-4d8f-9baa-03fae29b2b20",
   "metadata": {},
   "source": [
    "### Match Drugs Present in Text"
   ]
  },
  {
   "cell_type": "code",
   "execution_count": null,
   "id": "d0a1024d-6ef7-4363-9b0c-7c5d82dd0ab5",
   "metadata": {},
   "outputs": [],
   "source": [
    "def find_matching_drugs(text, unique_drug_names):\n",
    "    matched_drugs = []\n",
    "    for drug in unique_drug_names:\n",
    "        if drug.lower() in text.lower():\n",
    "            matched_drugs.append(drug)\n",
    "    return matched_drugs\n"
   ]
  },
  {
   "cell_type": "markdown",
   "id": "fd1507e1-7c83-43fe-b713-a0358a52ed87",
   "metadata": {},
   "source": [
    "#### Without MultiProcessing"
   ]
  },
  {
   "cell_type": "code",
   "execution_count": null,
   "id": "1732f70d-73eb-435c-9165-fbbf3a8abfa9",
   "metadata": {},
   "outputs": [],
   "source": [
    "start_time = time.time()\n",
    "# Create 'matching_drugs' column using apply\n",
    "documents_table['matching_drugs'] = documents_table['text'].apply(lambda x: find_matching_drugs(x, unique_drug_names))\n",
    "\n",
    "end_time = time.time()\n",
    "execution_time = end_time - start_time\n",
    "print(execution_time)"
   ]
  },
  {
   "cell_type": "markdown",
   "id": "135e4a73-7a8f-4a5a-b2b1-e3df96c13b2f",
   "metadata": {},
   "source": [
    "#### With MultiProcessing"
   ]
  },
  {
   "cell_type": "code",
   "execution_count": null,
   "id": "4638b1a4-d6e8-4ccf-afc7-332598549cf7",
   "metadata": {},
   "outputs": [],
   "source": [
    "# Figure out how to apply\n",
    "# Create a pool with the same number of workers as CPU cores\n",
    "\n",
    "start_time = time.time()\n",
    "\n",
    "\n",
    "if __name__ == '__main__':\n",
    "    with mp.Pool(num_cores) as pool:\n",
    "        documents_table['matching_drugs'] = pool.starmap(find_matching_drugs, zip(documents_table['text'], [unique_drug_names]*len(documents_table)))\n",
    "\n",
    "end_time = time.time()\n",
    "execution_time = end_time - start_time\n",
    "print(execution_time)"
   ]
  },
  {
   "cell_type": "markdown",
   "id": "7587af59-5d01-435f-9233-0d76234598d6",
   "metadata": {},
   "source": [
    "### Match Reactions Present in Text"
   ]
  },
  {
   "cell_type": "markdown",
   "id": "6e1f346e-b053-490b-a0c1-e51b3bb07f9b",
   "metadata": {},
   "source": [
    "\n"
   ]
  },
  {
   "cell_type": "code",
   "execution_count": null,
   "id": "76567cdf-03fb-4047-a8b8-61794f2bb2ef",
   "metadata": {},
   "outputs": [],
   "source": [
    "# Function to check for matches between text and unique_reactions\n",
    "def check_reactions(text, unique_reactions):\n",
    "    text_lower = text.lower()\n",
    "    matches = [1 if reaction.lower() in text_lower else 0 for reaction in unique_reactions]\n",
    "    return matches"
   ]
  },
  {
   "cell_type": "code",
   "execution_count": null,
   "id": "e49bb9e3-2759-4261-9231-a1c9293dc37c",
   "metadata": {},
   "outputs": [],
   "source": [
    "documents_table.head()"
   ]
  },
  {
   "cell_type": "markdown",
   "id": "8e5f004e-3d2b-4128-a2a2-beb97f994476",
   "metadata": {},
   "source": [
    "### Generate binary column for each reaction"
   ]
  },
  {
   "cell_type": "code",
   "execution_count": null,
   "id": "ef4e49b4-5a04-4b25-ac9d-178b930bfafb",
   "metadata": {},
   "outputs": [],
   "source": [
    "# Apply the function across the dataframe to populate binary columns\n",
    "documents_table[unique_reactions] = documents_table['text'].apply(lambda x: pd.Series(check_reactions(x, unique_reactions)))\n",
    "\n",
    "# Text column no longer needed\n",
    "documents_table.drop(columns=['text'], inplace=True)\n",
    "\n",
    "# Function to return matching reactions as a list\n",
    "def get_matching_reactions(row, unique_reactions):\n",
    "    matching_reactions = [reaction for reaction in unique_reactions if row[reaction] == 1]\n",
    "    return matching_reactions\n",
    "\n",
    "# Create 'all_reactions' column by applying the function row-wise\n",
    "documents_table['all_reactions'] = documents_table.apply(lambda row: get_matching_reactions(row, unique_reactions), axis=1)\n",
    "\n",
    "documents_table.head()"
   ]
  },
  {
   "cell_type": "code",
   "execution_count": null,
   "id": "824c7997-f277-463e-b1a1-520ad8f4b4d1",
   "metadata": {},
   "outputs": [],
   "source": [
    "# apply parallel processing"
   ]
  },
  {
   "cell_type": "markdown",
   "id": "70a9a7a7-b0a8-47e6-b5ff-75844308faca",
   "metadata": {},
   "source": [
    "### Explode Table by Reaction "
   ]
  },
  {
   "cell_type": "code",
   "execution_count": null,
   "id": "49fa44bd-6c03-406a-8b91-7f9291c428b3",
   "metadata": {},
   "outputs": [],
   "source": [
    "# Explode the dataframe based on reaction; makes a new row for each reaction in the list\n",
    "documents_table = documents_table.explode('matching_drugs').reset_index(drop=True)"
   ]
  },
  {
   "cell_type": "markdown",
   "id": "4e0c70a1-039b-4dfa-9092-ffa612b91b22",
   "metadata": {},
   "source": [
    "### Rename columns"
   ]
  },
  {
   "cell_type": "code",
   "execution_count": null,
   "id": "076609eb-e703-42c0-9dd5-ee913bad03b4",
   "metadata": {},
   "outputs": [],
   "source": [
    "documents_table.rename(columns={'matching_drugs': 'drug'}, inplace=True)\n",
    "documents_table.head()"
   ]
  },
  {
   "cell_type": "markdown",
   "id": "e9a884fe-8748-46a0-af33-c46bfd231380",
   "metadata": {},
   "source": [
    "### Fix Dtypes"
   ]
  },
  {
   "cell_type": "code",
   "execution_count": null,
   "id": "df977bd7-a37f-4b39-94cc-2dddb7ac5290",
   "metadata": {},
   "outputs": [],
   "source": [
    "numeric_columns = documents_table.drop(columns=['doc_id', 'doc_type', 'year', 'drug'])\n",
    "numeric_columns = numeric_columns.apply(pd.to_numeric, errors='coerce')  # Convert to numeric, coerce errors to NaN"
   ]
  },
  {
   "cell_type": "code",
   "execution_count": null,
   "id": "1731d4e2-8278-4665-8a86-8a8288801f1f",
   "metadata": {},
   "outputs": [],
   "source": [
    "documents_table.dtypes"
   ]
  },
  {
   "cell_type": "markdown",
   "id": "41eeabf0-fd50-4984-a8e2-d2376c523f1c",
   "metadata": {},
   "source": [
    "### Drop all reactions column"
   ]
  },
  {
   "cell_type": "code",
   "execution_count": null,
   "id": "49876358-47fa-4d38-8b99-74a096c5cba1",
   "metadata": {},
   "outputs": [],
   "source": [
    "documents_table.drop(columns=['all_reactions'], inplace=True)\n"
   ]
  },
  {
   "cell_type": "markdown",
   "id": "fbcf9f53-4a5e-4a4e-a722-24fb0f82cf60",
   "metadata": {},
   "source": [
    "### Add new additional id column"
   ]
  },
  {
   "cell_type": "code",
   "execution_count": null,
   "id": "42cb3ff4-86de-48c0-ac75-8da4520a6d27",
   "metadata": {},
   "outputs": [],
   "source": [
    "documents_table.head()\n",
    "documents_table = add_sequential_index(documents_table, 'id')"
   ]
  },
  {
   "cell_type": "markdown",
   "id": "7e1631ed-89b3-45f6-b135-33393f647f96",
   "metadata": {},
   "source": [
    "### Save as CSV for Data Exploration"
   ]
  },
  {
   "cell_type": "code",
   "execution_count": null,
   "id": "c4a81799-d87f-460e-a4a1-a701157053d8",
   "metadata": {},
   "outputs": [],
   "source": [
    "documents_table.to_csv('documents_table.csv', index=False)\n"
   ]
  },
  {
   "cell_type": "markdown",
   "id": "8a426e9a-43c8-47b8-9b73-dfe0b0a408d0",
   "metadata": {},
   "source": [
    "## Preprocess Manufacturers Table"
   ]
  },
  {
   "cell_type": "code",
   "execution_count": null,
   "id": "0fafd9ac-3b81-4cd0-87f8-569acde5913c",
   "metadata": {},
   "outputs": [],
   "source": [
    "manus_df.columns"
   ]
  },
  {
   "cell_type": "markdown",
   "id": "beb15a0a-b3a6-49d5-bf92-18c8ebcfdf3a",
   "metadata": {},
   "source": [
    "### Select Columns"
   ]
  },
  {
   "cell_type": "code",
   "execution_count": null,
   "id": "e82456bc-ea70-44a0-898f-f5f9ecd0c218",
   "metadata": {},
   "outputs": [],
   "source": [
    "# Choose values to help fill in missing data from other tables\n",
    "manus_table = pd.DataFrame(manus_df, \n",
    "                           columns=[\"product_ndc\",\n",
    "                                    \"generic_name\",\n",
    "                                    \"brand_name\",\n",
    "                                    \"openfda.manufacturer_name\",\n",
    "                                   \"spl_id\",\n",
    "                                   \"openfda.spl_set_id\",\n",
    "                                   \"openfda.unii\",\n",
    "                                   \"marketing_start_date\"])"
   ]
  },
  {
   "cell_type": "markdown",
   "id": "5c037373-f113-46e6-b2f9-7b8208572b4b",
   "metadata": {},
   "source": [
    "### Feature Engineering"
   ]
  },
  {
   "cell_type": "code",
   "execution_count": null,
   "id": "1f511cf2-5bbc-4ffc-903f-155c7499bf8c",
   "metadata": {},
   "outputs": [],
   "source": [
    "manus_table = add_sequential_index(manus_table,'manu_id')"
   ]
  },
  {
   "cell_type": "code",
   "execution_count": null,
   "id": "a9482dcf",
   "metadata": {},
   "outputs": [],
   "source": [
    "manus_table['year'] = pd.to_datetime(manus_table['marketing_start_date']).dt.year"
   ]
  },
  {
   "cell_type": "markdown",
   "id": "89c26344-a069-4d2d-803b-a62050191591",
   "metadata": {},
   "source": [
    "### Examine Nulls"
   ]
  },
  {
   "cell_type": "code",
   "execution_count": null,
   "id": "bdbd6fe2-1ac3-4738-b100-a94bd65934b5",
   "metadata": {},
   "outputs": [],
   "source": [
    "manus_nan = nan_info(manus_table)\n",
    "manus_nan"
   ]
  },
  {
   "cell_type": "markdown",
   "id": "05aa746a-c6c8-437b-a74d-9045d92ddd7f",
   "metadata": {},
   "source": [
    "### Fix Dtypes"
   ]
  },
  {
   "cell_type": "code",
   "execution_count": null,
   "id": "85fadd67-7e69-4fcd-866f-9aa028c35bd7",
   "metadata": {},
   "outputs": [],
   "source": []
  },
  {
   "cell_type": "markdown",
   "id": "3b893ea6-26f5-4c4f-9528-b424b9bfa3e1",
   "metadata": {},
   "source": [
    "### Text Processing"
   ]
  },
  {
   "cell_type": "code",
   "execution_count": null,
   "id": "7866fc70-af94-44c1-9cad-756e1ac31bcd",
   "metadata": {},
   "outputs": [],
   "source": [
    "manus_table['drug_names'] = manus_table['generic_name']+ \" \" + manus_table['brand_name']"
   ]
  },
  {
   "cell_type": "code",
   "execution_count": null,
   "id": "171950ba",
   "metadata": {},
   "outputs": [],
   "source": [
    "manus_table['drug_names_processed'] = manus_table['drug_names'].apply(process_label_text).apply(remove_duplicates_nan)\n",
    "manus_table[['drug_names', 'drug_names_processed']].head(10)"
   ]
  },
  {
   "cell_type": "code",
   "execution_count": null,
   "id": "44f60cdd",
   "metadata": {},
   "outputs": [],
   "source": [
    "manus_table['manufacturers'] = manus_table['openfda.manufacturer_name'].apply(clean_manufacturer_text)\n",
    "manus_table[['openfda.manufacturer_name', 'manufacturers']].head(10)"
   ]
  },
  {
   "cell_type": "code",
   "execution_count": null,
   "id": "2983e02a",
   "metadata": {},
   "outputs": [],
   "source": [
    "manus_table_rxcui_outliers = examine_text_outliers(manus_table['manufacturers'])\n",
    "print(manus_table_rxcui_outliers)"
   ]
  },
  {
   "cell_type": "markdown",
   "id": "47afbac2-e05e-44a4-90d1-49099e3f9af9",
   "metadata": {},
   "source": [
    "### Rename and Select Columns"
   ]
  },
  {
   "cell_type": "code",
   "execution_count": null,
   "id": "f6ddc018-0599-45d2-b23a-cfdc7e163f52",
   "metadata": {},
   "outputs": [],
   "source": [
    "manus_table = manus_table.rename(columns = {'product_ndc': 'ndc',\n",
    "                         'drug_names_processed': 'drug_names',\n",
    "                         'openfda.spl_set_id': 'set_id',\n",
    "                         'openfda.unii': 'unii'})"
   ]
  },
  {
   "cell_type": "code",
   "execution_count": null,
   "id": "2c563dc5",
   "metadata": {},
   "outputs": [],
   "source": [
    "manus_table = manus_table[['manu_id',\n",
    "                           'spl_id',\n",
    "                           'ndc',\n",
    "                           'year',\n",
    "                          'drug_names',\n",
    "                          'set_id',\n",
    "                          'unii',\n",
    "                           'drug_names',\n",
    "                          'manufacturers']]"
   ]
  },
  {
   "cell_type": "markdown",
   "id": "feb13460-6b8f-4145-b3d8-70ea89f474d2",
   "metadata": {},
   "source": [
    "### Assess Text Field Lenghts"
   ]
  },
  {
   "cell_type": "code",
   "execution_count": null,
   "id": "755cda63-9f4d-4364-a18f-6da2bde623d7",
   "metadata": {},
   "outputs": [],
   "source": [
    "plot_character_length(manus_table, 'manus_table')"
   ]
  },
  {
   "cell_type": "code",
   "execution_count": null,
   "id": "94653fdf-5016-40ad-9fd2-071c4206917b",
   "metadata": {},
   "outputs": [],
   "source": [
    "# Write the DataFrame to a CSV file\n",
    "#manus_table.to_csv('DataLibrary/manus_table.csv', index=False)"
   ]
  },
  {
   "cell_type": "markdown",
   "id": "d2aa8327-4498-40f4-9fc0-3d8e8b18636d",
   "metadata": {},
   "source": [
    "# Standardization and Normalization\n",
    "* Use Parallel Processing"
   ]
  },
  {
   "cell_type": "markdown",
   "id": "a5063d3d-e771-4404-84e4-9648248767c0",
   "metadata": {},
   "source": [
    "## Read in ADReCS Files"
   ]
  },
  {
   "cell_type": "code",
   "execution_count": null,
   "id": "47689ac1-b686-4c7b-b8f6-256b363b5dcd",
   "metadata": {},
   "outputs": [],
   "source": [
    "adrecs_drugs = pd.read_excel('ADReCS/Drug_information_v3.3.xlsx')\n",
    "adrecs_drugs.head()"
   ]
  },
  {
   "cell_type": "code",
   "execution_count": null,
   "id": "17ce8a06-8819-49d7-af04-69ee5ceecb35",
   "metadata": {},
   "outputs": [],
   "source": [
    "adrecs_ont = pd.read_excel('ADReCS/ADR_ontology_v3.3.xlsx')\n",
    "adrecs_ont.head()"
   ]
  },
  {
   "cell_type": "markdown",
   "id": "98cc33cb-7557-4e45-80f6-5910782972d9",
   "metadata": {},
   "source": [
    "## Standardize Drug Names into Primary Ingredient Compounds\n",
    "* Based on 90% string match between FAERS reported medicinal product and ADReCS classification data"
   ]
  },
  {
   "cell_type": "code",
   "execution_count": null,
   "id": "2e53f6a3",
   "metadata": {},
   "outputs": [],
   "source": []
  },
  {
   "cell_type": "code",
   "execution_count": null,
   "id": "778a5891",
   "metadata": {},
   "outputs": [],
   "source": [
    "# Reactions table test set\n",
    "drugs_test = pd.read_csv('DataLibrary/drugs_table.csv').iloc[0:80, ]\n",
    "drugs_test"
   ]
  },
  {
   "cell_type": "code",
   "execution_count": null,
   "id": "054b306c",
   "metadata": {},
   "outputs": [],
   "source": [
    "from pathos.multiprocessing import ProcessingPool as Pool\n",
    "import pandas as pd\n",
    "import numpy as np\n",
    "import multiprocessing as mp\n",
    "from fuzzywuzzy import process\n",
    "import time"
   ]
  },
  {
   "cell_type": "code",
   "execution_count": null,
   "id": "9125ce7f",
   "metadata": {},
   "outputs": [],
   "source": [
    "def process_and_normalize_drugs(df_chunk, df2_synonyms, df2_names):\n",
    "    def drug_name_norms(row):\n",
    "        med_product_list = str(row['med_product']).split(' \\, ')\n",
    "        med_product_list = list(set(med_product_list))  # unique values\n",
    "        synonyms_list = list(set(' '.join(df2_synonyms).split(' \\| ')))  # unique values\n",
    "        match = process.extractOne(' '.join(med_product_list), synonyms_list)\n",
    "        if match and match[1] > 90:\n",
    "            original_row_index = df2_synonyms[df2_synonyms.str.contains(match[0], regex=False)].index\n",
    "            if not original_row_index.empty:\n",
    "                return df2_names.iloc[original_row_index[0]]\n",
    "        return None\n",
    "\n",
    "    df_chunk['drug_name_norm'] = df_chunk.apply(drug_name_norms, axis=1)\n",
    "    return df_chunk\n",
    "\n",
    "def parallel_worker(chunk, func, args):\n",
    "    return func(chunk, *args)\n",
    "\n",
    "def apply_parallel(df, func, args):\n",
    "    df_split = np.array_split(df, mp.cpu_count())\n",
    "    with mp.Pool(mp.cpu_count()) as pool:\n",
    "        result = pd.concat(pool.starmap(parallel_worker, [(chunk, func, args) for chunk in df_split]))\n",
    "    return result\n",
    "\n",
    "if __name__ == '__main__':\n",
    "\n",
    "    start_time = time.time()\n",
    "\n",
    "    # Apply the parallel processing\n",
    "    result_table = apply_parallel(drugs_test, process_and_normalize_drugs, (adrecs_drugs['DRUG_SYNONYMS'], adrecs_drugs['DRUG_NAME']))\n",
    "\n",
    "    # Combine the result into a single column in the original table\n",
    "    drugs_test['drug_name_norm'] = result_table['drug_name_norm']\n",
    "\n",
    "    end_time = time.time()\n",
    "    execution_time = end_time - start_time\n",
    "    print(f\"Execution time: {execution_time} seconds\")"
   ]
  },
  {
   "cell_type": "code",
   "execution_count": null,
   "id": "6299b708",
   "metadata": {},
   "outputs": [],
   "source": [
    "drugs_test[['med_product', 'drug_name_norm']].head(10)"
   ]
  },
  {
   "cell_type": "code",
   "execution_count": null,
   "id": "c1c97c5f",
   "metadata": {},
   "outputs": [],
   "source": []
  },
  {
   "cell_type": "code",
   "execution_count": null,
   "id": "fb87c902",
   "metadata": {},
   "outputs": [],
   "source": []
  },
  {
   "cell_type": "markdown",
   "id": "3d7ffea5-d47c-4da4-b7c8-6a94d6b91393",
   "metadata": {},
   "source": [
    "## Standardize Adverse Event Terms\n",
    "* Based on an 80% string match with ADReCS ontology system"
   ]
  },
  {
   "cell_type": "code",
   "execution_count": null,
   "id": "e041dca0",
   "metadata": {},
   "outputs": [],
   "source": [
    "# Reactions table test set\n",
    "#reactions_test = pd.read_csv('DataLibrary/reactions_table.csv').iloc[0:5, ]\n",
    "#reactions_test"
   ]
  },
  {
   "cell_type": "code",
   "execution_count": null,
   "id": "42de7f34-b4aa-400f-82a1-d03128a62112",
   "metadata": {},
   "outputs": [],
   "source": [
    "# Time Processing\n",
    "#start_time = time.time()\n",
    "\n",
    "# Function to find the best match and return the corresponding value\n",
    "#def drug_adr_norms(row, df2_col2, df2_col3):\n",
    "    # Ensure that med_product is a string\n",
    "#    reaction_processed = str(row['reaction_processed'])\n",
    "    # Split the synonyms and create a list\n",
    "#    synonyms_list = df2_col2.str.split(' \\| ').explode().unique()\n",
    "    # Find the best match\n",
    "#    match = process.extractOne(reaction_processed, synonyms_list)\n",
    "#    if match and match[1] > 80:  # 80 is a threshold for matching confidence\n",
    "        # Find the original row in df2_col2\n",
    "#        original_row = df2_col2[df2_col2.str.contains(match[0], regex=False)]\n",
    "#        if not original_row.empty:\n",
    "#            return df2_col3[original_row.index[0]]\n",
    "#    return None\n",
    "\n",
    "\n",
    "# Apply the function to df1 to create the new column\n",
    "#reactions_test['adr_norm'] = reactions_test.apply(drug_adr_norms, \n",
    "#                                                             args=(adrecs_ont['ADR_SYNONYMS'], \n",
    "#                                                                   adrecs_ont['ADR_TERM']), axis=1)\n",
    "\n",
    "#end_time = time.time()\n",
    "#execution_time = end_time - start_time\n",
    "#print(execution_time)"
   ]
  },
  {
   "cell_type": "code",
   "execution_count": null,
   "id": "120cf7d8-93db-4587-aacd-ed46c8bb0e56",
   "metadata": {},
   "outputs": [],
   "source": []
  },
  {
   "cell_type": "markdown",
   "id": "290d7026",
   "metadata": {},
   "source": [
    "## Filling in Missing Data Across Tables"
   ]
  },
  {
   "cell_type": "markdown",
   "id": "31e9d104",
   "metadata": {},
   "source": [
    "#### Create Smaller Samples for Testing "
   ]
  },
  {
   "cell_type": "code",
   "execution_count": null,
   "id": "2cb4e2b2",
   "metadata": {},
   "outputs": [],
   "source": [
    "labels_test = pd.read_csv('DataLibrary/labels_table.csv').iloc[0:50,]\n",
    "drugs_test = pd.read_csv('DataLibrary/drugs_table.csv').iloc[0:50,]"
   ]
  },
  {
   "cell_type": "markdown",
   "id": "a8c9e12f",
   "metadata": {},
   "source": [
    "#### Remove punctuation from set_id, ndc codes, unii, to standardize across tables"
   ]
  },
  {
   "cell_type": "code",
   "execution_count": null,
   "id": "abee57f0",
   "metadata": {},
   "outputs": [],
   "source": [
    "# Function to standardize NDC format\n",
    "def remove_punctuation(s):\n",
    "    return s.translate(str.maketrans('', '', string.punctuation))\n",
    "\n",
    "\n",
    "# Apply to both dataframes\n",
    "labels_test['ndc'] = labels_test['ndc'].astype(str).apply(remove_punctuation)\n",
    "manus_table['ndc'] = manus_table['ndc'].astype(str).apply(remove_punctuation)\n",
    "labels_test['set_id'] = labels_test['set_id'].astype(str).apply(remove_punctuation)\n",
    "manus_table['set_id'] = manus_table['set_id'].astype(str).apply(remove_punctuation)\n"
   ]
  },
  {
   "cell_type": "markdown",
   "id": "c68f21d0",
   "metadata": {},
   "source": [
    "#### Check for matching NDC codes across sources"
   ]
  },
  {
   "cell_type": "code",
   "execution_count": null,
   "id": "f168d2d8",
   "metadata": {},
   "outputs": [],
   "source": [
    "def find_matches(list1, list2):\n",
    "\n",
    "     # Convert inner lists to tuples to make them hashable\n",
    "    set1 = set(tuple(x) if isinstance(x, list) else x for x in list1)\n",
    "    set2 = set(tuple(x) if isinstance(x, list) else x for x in list2)\n",
    "    \n",
    "    # Find the intersection of the two sets\n",
    "    common_elements = set1.intersection(set2)\n",
    "    \n",
    "    # Convert the set back to a list\n",
    "    return list(common_elements)\n",
    "\n",
    "list1 = manus_table['set_id'].tolist()\n",
    "list2 = labels_test['set_id'].tolist()\n",
    "\n",
    "matches = find_matches(list1, list2)\n",
    "matches"
   ]
  },
  {
   "cell_type": "code",
   "execution_count": null,
   "id": "de492045",
   "metadata": {},
   "outputs": [],
   "source": []
  },
  {
   "cell_type": "markdown",
   "id": "f8a48331",
   "metadata": {},
   "source": [
    "### Manufacturer Table Contains 100% of NDC code for all actively marketed drugs\n",
    "* Create dictionary pairs to map and fill in missing data for dictionary method"
   ]
  },
  {
   "cell_type": "code",
   "execution_count": null,
   "id": "ec63b4aa",
   "metadata": {},
   "outputs": [],
   "source": [
    "# Fill in missing unii and spl_set_id with zeros to create dictionaries\n",
    "manus_table['unii'] = manus_table['unii'].fillna(0)\n",
    "manus_table['set_id'] = manus_table['set_id'].fillna(0)"
   ]
  },
  {
   "cell_type": "code",
   "execution_count": null,
   "id": "a6cd1a40",
   "metadata": {},
   "outputs": [],
   "source": [
    "# Dictionary of ndc and spl_id\n",
    "manu_ndc_spl_dict = dict(zip(manus_table['ndc'], manus_table['spl_id']))"
   ]
  },
  {
   "cell_type": "code",
   "execution_count": null,
   "id": "9f10c822",
   "metadata": {},
   "outputs": [],
   "source": [
    "# Dictionary of ndc code and unii\n",
    "manu_ndc_unii_dict = dict(zip(manus_table['ndc'], manus_table['unii']))"
   ]
  },
  {
   "cell_type": "code",
   "execution_count": null,
   "id": "fbb5be88",
   "metadata": {},
   "outputs": [],
   "source": [
    "# Dictionary of ndc code and spl_set_id\n",
    "manu_ndc_set_dict = dict(zip(manus_table['ndc'],manus_table['set_id']))"
   ]
  },
  {
   "cell_type": "markdown",
   "id": "33745589",
   "metadata": {},
   "source": [
    "### Using String Match Function Across DataFrames to Fill in Missing Data "
   ]
  },
  {
   "cell_type": "code",
   "execution_count": null,
   "id": "77e01baf",
   "metadata": {},
   "outputs": [],
   "source": [
    "# Data Prior to matching\n",
    "labels_test.info()"
   ]
  },
  {
   "cell_type": "code",
   "execution_count": null,
   "id": "e4947e62",
   "metadata": {},
   "outputs": [],
   "source": [
    "labels_test"
   ]
  },
  {
   "cell_type": "code",
   "execution_count": null,
   "id": "a0400cdc",
   "metadata": {},
   "outputs": [],
   "source": [
    "# Define string-match function\n",
    "def match_ndc(df1, df2, df1_col1, df1_col2, df2_col1, df2_col2):\n",
    "    def find_match(row):\n",
    "        if row[df1_col1] == 'nan':\n",
    "            set_id = row[df1_col2]\n",
    "            match = process.extractOne(set_id, df2[df2_col2].astype(str).tolist())\n",
    "            if match and match[1] == 90:  # 90 is a threshold for matching confidence\n",
    "                matched_row = df2[df2[df2_col2].astype(str) == match[0]]\n",
    "                if not matched_row.empty:\n",
    "                    ndc_value = matched_row[df2_col1].values[0]\n",
    "                    # If ndc_value is a list, return the first element, otherwise return the string\n",
    "                    if isinstance(ndc_value, list):\n",
    "                        return ndc_value[0]\n",
    "                    else:\n",
    "                        return ndc_value\n",
    "        return row[df1_col1]\n",
    "    \n",
    "    df1[df1_col1] = df1.apply(find_match, axis=1)\n",
    "    return df1\n",
    "\n",
    "# Start timing\n",
    "start_time = time.time()\n",
    "\n",
    "# Using the function to fill in missing ndc values in df1\n",
    "labels_test = match_ndc(labels_test, manus_table, 'ndc', 'set_id', 'ndc', 'set_id')\n",
    "\n",
    "# End timing\n",
    "end_time = time.time()\n",
    "execution_time = end_time - start_time\n",
    "print(\"Execution time:\", execution_time)"
   ]
  },
  {
   "cell_type": "code",
   "execution_count": null,
   "id": "42481497",
   "metadata": {},
   "outputs": [],
   "source": [
    "# Check if data was filled in post-matching\n",
    "labels_test.info()"
   ]
  },
  {
   "cell_type": "code",
   "execution_count": null,
   "id": "e3a7526f",
   "metadata": {},
   "outputs": [],
   "source": [
    "labels_test['ndc'].tolist()"
   ]
  },
  {
   "cell_type": "code",
   "execution_count": null,
   "id": "845a8270",
   "metadata": {},
   "outputs": [],
   "source": [
    "# Look up specific set_ids and ndc in manus_table to confirm proper matching\n"
   ]
  },
  {
   "cell_type": "markdown",
   "id": "35de5ad8",
   "metadata": {},
   "source": [
    "### Using Reverse Dictionary Mapping to Fill in Missing Data"
   ]
  },
  {
   "cell_type": "code",
   "execution_count": null,
   "id": "7449046e",
   "metadata": {},
   "outputs": [],
   "source": []
  },
  {
   "cell_type": "code",
   "execution_count": null,
   "id": "9dca2a58",
   "metadata": {},
   "outputs": [],
   "source": [
    "# Examine data before matching\n",
    "labels_test"
   ]
  },
  {
   "cell_type": "code",
   "execution_count": null,
   "id": "9e76cdd6",
   "metadata": {},
   "outputs": [],
   "source": [
    "# Time it\n",
    "start_time = time.time()\n",
    "\n",
    "# Create reverse mapping from set_id to ndc\n",
    "reverse_mapping = {}\n",
    "for ndc, set_ids in manu_ndc_set_dict.items():\n",
    "    if isinstance(set_ids, list):\n",
    "        for set_id in set_ids:\n",
    "            reverse_mapping[set_id] = ndc\n",
    "\n",
    "# Function to fill NaN values in 'ndc' based on 'set_id'\n",
    "def fillna_ndc_with_setid(row, reverse_dict):\n",
    "    if pd.isna(row['ndc']) and row['set_id'] in reverse_dict:\n",
    "        return reverse_dict[row['set_id']]\n",
    "    return row['ndc']\n",
    "\n",
    "# Apply the function to fill NaN values in 'ndc'\n",
    "labels_test['ndc'] = labels_test.apply(lambda row: fillna_ndc_with_setid(row, reverse_mapping), axis = 1)"
   ]
  },
  {
   "cell_type": "code",
   "execution_count": null,
   "id": "a6ce0ec6",
   "metadata": {},
   "outputs": [],
   "source": [
    "# Check if data was filled in post-matching\n",
    "labels_test.info()"
   ]
  },
  {
   "cell_type": "code",
   "execution_count": null,
   "id": "b98e4a7e",
   "metadata": {},
   "outputs": [],
   "source": [
    "labels_test"
   ]
  },
  {
   "cell_type": "code",
   "execution_count": null,
   "id": "a7639f04",
   "metadata": {},
   "outputs": [],
   "source": [
    "manus_table.head()"
   ]
  },
  {
   "cell_type": "code",
   "execution_count": null,
   "id": "fa9b43ad",
   "metadata": {},
   "outputs": [],
   "source": [
    "# Look up specific set_ids and ndc in manus_table to confirm proper matching\n",
    "ndc_check = manus_table.loc[manus_table['set_id'] == \"000155a8709c44e5a75fcd890f3a7caf\", 'ndc'].values\n",
    "ndc_check"
   ]
  },
  {
   "cell_type": "markdown",
   "id": "57984a4c",
   "metadata": {},
   "source": [
    "### Using a Random Forest Classifier to \"Predict\" Missing Data\n",
    "* Train on Full NDC/SET_ID List, Test Predict Missing"
   ]
  },
  {
   "cell_type": "code",
   "execution_count": null,
   "id": "892bb46d",
   "metadata": {},
   "outputs": [],
   "source": [
    "import pandas as pd\n",
    "import numpy as np\n",
    "from sklearn.model_selection import train_test_split\n",
    "from sklearn.ensemble import RandomForestClassifier\n",
    "from sklearn.preprocessing import LabelEncoder\n",
    "from sklearn.feature_extraction.text import TfidfVectorizer\n"
   ]
  },
  {
   "cell_type": "code",
   "execution_count": null,
   "id": "97f40460",
   "metadata": {},
   "outputs": [],
   "source": [
    "# Time it\n",
    "start_time = time.time()\n",
    "\n",
    "# Ensure all columns are strings\n",
    "manus_table['ndc'] = manus_table['ndc'].astype(str)\n",
    "manus_table['set_id'] = manus_table['set_id'].astype(str)\n",
    "labels_test['set_id'] = labels_test['set_id'].astype(str)\n",
    "labels_test['ndc'] = labels_test['ndc'].astype(str)\n",
    "\n",
    "# Encode ndc in manus_table\n",
    "le = LabelEncoder()\n",
    "manus_table['ndc_encoded'] = le.fit_transform(manus_table['ndc'])\n",
    "\n",
    "# TF-IDF vectorization for set_id\n",
    "vectorizer = TfidfVectorizer()\n",
    "X_train_tfidf = vectorizer.fit_transform(manus_table['set_id'])\n",
    "X_test_tfidf = vectorizer.transform(labels_test['set_id'])\n",
    "\n",
    "# Convert to DataFrame for alignment with other columns\n",
    "X_train_tfidf = pd.DataFrame(X_train_tfidf.toarray(), columns=vectorizer.get_feature_names_out())\n",
    "X_test_tfidf = pd.DataFrame(X_test_tfidf.toarray(), columns=vectorizer.get_feature_names_out())\n",
    "\n",
    "# Align test set with train set\n",
    "X_test_tfidf = X_test_tfidf.reindex(columns=X_train_tfidf.columns, fill_value=0)\n",
    "\n",
    "# Initialize and train the model\n",
    "model = RandomForestClassifier(n_estimators=100, random_state=42)\n",
    "model.fit(X_train_tfidf, manus_table['ndc_encoded'])\n",
    "\n",
    "end_time = time.time()\n",
    "execution_time = end_time - start_time\n",
    "print(execution_time)"
   ]
  },
  {
   "cell_type": "code",
   "execution_count": null,
   "id": "a3e577f4",
   "metadata": {},
   "outputs": [],
   "source": [
    "# Predict missing ndc values\n",
    "start_time = time.time()\n",
    "\n",
    "y_pred_encoded = model.predict(X_test_tfidf)\n",
    "y_pred = le.inverse_transform(y_pred_encoded)\n",
    "\n",
    "# Fill the missing ndc values in the original dataframe\n",
    "labels_test['ndc'] = labels_test.apply(lambda row: y_pred[list(labels_test.index).index(row.name)] if pd.isnull(row['ndc']) else row['ndc'], axis=1)\n",
    "\n",
    "end_time = time.time()\n",
    "execution_time = end_time - start_time\n",
    "print(execution_time)"
   ]
  },
  {
   "cell_type": "code",
   "execution_count": null,
   "id": "96e13b02",
   "metadata": {},
   "outputs": [],
   "source": [
    "# Before\n",
    "labels_test[['set_id', 'ndc']]"
   ]
  },
  {
   "cell_type": "code",
   "execution_count": null,
   "id": "7df06015",
   "metadata": {},
   "outputs": [],
   "source": [
    "# After\n",
    "labels_test[['set_id', 'ndc']]"
   ]
  },
  {
   "cell_type": "code",
   "execution_count": null,
   "id": "97460259",
   "metadata": {},
   "outputs": [],
   "source": [
    "# search manus_table to confirm "
   ]
  },
  {
   "cell_type": "code",
   "execution_count": null,
   "id": "25a1b158",
   "metadata": {},
   "outputs": [],
   "source": []
  },
  {
   "cell_type": "code",
   "execution_count": null,
   "id": "cbd8b478",
   "metadata": {},
   "outputs": [],
   "source": []
  },
  {
   "cell_type": "code",
   "execution_count": null,
   "id": "4cd3d55a",
   "metadata": {},
   "outputs": [],
   "source": []
  },
  {
   "cell_type": "markdown",
   "id": "2c97ca2b-20b1-499d-9b80-b79446954b4d",
   "metadata": {},
   "source": [
    "### Generate Year Helper Table (because tables hold differing years, therefore not allowing for foreign keys! not one table with all years\n"
   ]
  },
  {
   "cell_type": "code",
   "execution_count": null,
   "id": "ca977c8e-6745-44a4-b0a1-ccbd477fbb76",
   "metadata": {},
   "outputs": [],
   "source": [
    "years = list(range(1900, 2051))\n",
    "year_table = pd.DataFrame({'year': years})\n",
    "\n"
   ]
  },
  {
   "cell_type": "markdown",
   "id": "91118bc7-5879-4623-9217-b0c7125ad73c",
   "metadata": {},
   "source": [
    "# Combining Data into SQL Database Based on Keys"
   ]
  },
  {
   "cell_type": "markdown",
   "id": "9c19c181-f1de-451e-8025-db80011054df",
   "metadata": {},
   "source": [
    "## Create new database to store data"
   ]
  },
  {
   "cell_type": "code",
   "execution_count": null,
   "id": "8d9fcb45-d27c-48ce-9456-9395792dad3d",
   "metadata": {},
   "outputs": [],
   "source": [
    "# connect to MySQL server\n",
    "connection = mysql.connector.connect(host=\"localhost\", user=\"root\", password=PASSWORD)\n",
    "\n",
    "# Create a cursor object\n",
    "cursor = connection.cursor()\n",
    "\n",
    "# Drop the database if it exists - this is so we can start fresh (at least while developing)\n",
    "cursor.execute(\"DROP DATABASE IF EXISTS pharma_db\")\n",
    "\n",
    "# Create the 'covid_db' database\n",
    "cursor.execute(\"CREATE DATABASE pharma_db\")\n",
    "\n",
    "# Switch to the 'covid_db' database\n",
    "cursor.execute(\"USE pharma_db\")\n",
    "\n",
    "# Commit the changes\n",
    "connection.commit()\n",
    "\n",
    "# Close the cursor and connection\n",
    "cursor.close()\n",
    "connection.close()"
   ]
  },
  {
   "cell_type": "markdown",
   "id": "aa0f7a24-bb48-42ae-ab08-459f262ad559",
   "metadata": {},
   "source": [
    "### Create Read-Only User Access for Public"
   ]
  },
  {
   "cell_type": "code",
   "execution_count": null,
   "id": "d6f89c08-22a9-418f-83bf-c011bd4d27c2",
   "metadata": {},
   "outputs": [],
   "source": [
    "# public username and password"
   ]
  },
  {
   "cell_type": "markdown",
   "id": "2343dcab-d1f6-4112-896e-37fc0dc77d45",
   "metadata": {},
   "source": [
    "### Create Edit Privelages for Us"
   ]
  },
  {
   "cell_type": "code",
   "execution_count": null,
   "id": "8b62420b-c28a-4c30-9e51-11e4df6d3f3d",
   "metadata": {},
   "outputs": [],
   "source": [
    "# private username and password"
   ]
  },
  {
   "cell_type": "markdown",
   "id": "83ea8ce1-a63e-4d3c-99e0-35329958a7ea",
   "metadata": {},
   "source": [
    "## Create datframes from API request dataframes"
   ]
  },
  {
   "cell_type": "code",
   "execution_count": null,
   "id": "510685a3-e7fa-4d2d-a4f1-3d01df1b846f",
   "metadata": {},
   "outputs": [],
   "source": [
    "documents_table.head()\n"
   ]
  },
  {
   "cell_type": "code",
   "execution_count": null,
   "id": "e1f22dba-6b3a-4cbe-bfa2-77609a1daffb",
   "metadata": {},
   "outputs": [],
   "source": [
    "# Connect to the MySQL server\n",
    "connection = mysql.connector.connect(\n",
    "    host=\"localhost\", user=\"root\", password=PASSWORD, database=\"pharma_db\"\n",
    ")\n",
    "\n",
    "# Create a cursor object\n",
    "cursor = connection.cursor()\n",
    "\n",
    "#--------------------------------------------------------------------------\n",
    "\n",
    "#Create year table\n",
    "create_year_query = \"\"\"\n",
    "CREATE TABLE IF NOT EXISTS `year` (\n",
    "  `year` INT(4),\n",
    "  PRIMARY KEY (`year`)\n",
    ") ENGINE=InnoDB;\n",
    "\"\"\"\n",
    "cursor.execute(create_year_query)\n",
    "\n",
    "\n",
    "# Create documents table\n",
    "\n",
    "# Define specific columns and their data types\n",
    "documents_specific_columns = {\n",
    "    'id': 'INT NOT NULL',\n",
    "    'doc_id': 'INT NOT NULL',\n",
    "    'doc_type': 'VARCHAR(4)',\n",
    "    'year': 'INT(4)',\n",
    "    'drug': 'VARCHAR(100)'\n",
    "}\n",
    "\n",
    "# Generate column definitions for unspecified columns as BOOLEAN\n",
    "column_definitions = [\n",
    "    f\"`{re.sub(r'[^a-zA-Z0-9]', '_', col)}` BOOL\"  # Replace non-alphanumeric characters with underscore\n",
    "    for col in documents_table.columns if col not in documents_specific_columns\n",
    "]\n",
    "\n",
    "# Combine all column definitions into the CREATE TABLE query\n",
    "create_documents_table_query = f\"\"\"\n",
    "CREATE TABLE IF NOT EXISTS `documents` (\n",
    "  {\", \".join([f\"`{col}` {documents_specific_columns.get(col, 'BOOL')}\" for col in documents_table.columns])},\n",
    "  PRIMARY KEY(`id`),\n",
    "  FOREIGN KEY (`year`) REFERENCES `year` (`year`)\n",
    ") ENGINE=InnoDB;\n",
    "\"\"\"\n",
    "\n",
    "cursor.execute(create_documents_table_query)\n",
    "#----------------------------------------------------------------------\n",
    "# Create adverse events table\n",
    "create_events_query = \"\"\"\n",
    "CREATE TABLE IF NOT EXISTS `adverse_events` (\n",
    "  `event_id` INT,\n",
    "  `safetyreportid` VARCHAR(9),\n",
    "  `year` INT(4),\n",
    "  `serious` BOOLEAN,\n",
    "  `expedited` BOOLEAN,\n",
    "  `report_source` INT,\n",
    "  `country` VARCHAR(25),\n",
    "  `age` INT,\n",
    "  `sex` INT,\n",
    "  `company_name` VARCHAR(200),\n",
    "  PRIMARY KEY (`event_id`),\n",
    "  FOREIGN KEY (`year`) REFERENCES `year` (`year`)\n",
    ") ENGINE=InnoDB;\n",
    "\"\"\"\n",
    "cursor.execute(create_events_query)\n",
    "\n",
    "# Create patient_reactions table ------------------------\n",
    "\n",
    "# Define specific columns and their data types\n",
    "\n",
    "patient_reactions_specific_columns = {\n",
    " 'patient_reaction_id': 'INT NOT NULL',\n",
    "  'event_id' : 'INT',\n",
    "  'version_medRNA' : 'VARCHAR(4)',\n",
    "  'outcome': 'VARCHAR(50)'\n",
    "}\n",
    "  \n",
    "#Generate column definitions for unspecified columns as BOOLEAN\n",
    "patient_reactions_column_definitions = [\n",
    "    f\"`{re.sub(r'[^a-zA-Z0-9]', '_', col)}` BOOL\"  # Replace non-alphanumeric characters with underscore\n",
    "    for col in patient_reactions_table.columns if col not in patient_reactions_specific_columns\n",
    "]\n",
    "\n",
    "# Combine all column definitions into the CREATE TABLE query\n",
    "create_patient_reactions_query = f\"\"\"\n",
    "CREATE TABLE IF NOT EXISTS `patient_reactions` (\n",
    "  {\", \".join([f\"`{col}` {patient_reactions_specific_columns.get(col, 'BOOL')}\" for col in patient_reactions_table.columns])},\n",
    "  PRIMARY KEY(`patient_reaction_id`),\n",
    "  FOREIGN KEY (`event_id`) REFERENCES `adverse_events` (`event_id`)\n",
    "  ON DELETE CASCADE,\n",
    "  INDEX(`event_id`)\n",
    "  ) ENGINE=InnoDB;\n",
    "\"\"\"\n",
    "\n",
    "cursor.execute(create_patient_reactions_query)\n",
    "\n",
    "#-------------------------------------------\n",
    "\n",
    "# Create labels table\n",
    "create_labels_query = \"\"\"\n",
    "CREATE TABLE IF NOT EXISTS `labels` (\n",
    "  `label_id` INT NOT NULL AUTO_INCREMENT,\n",
    "  `ndc` VARCHAR(200), \n",
    "  `rxcui` VARCHAR(200),\n",
    "  `label_date` DATE,\n",
    "  `ingredients` VARCHAR(5000),\n",
    "  `warnings` TEXT(20000),\n",
    "  `drug_names` VARCHAR(7500),\n",
    "  `purpose` VARCHAR(2200),\n",
    "  PRIMARY KEY(`label_id`),\n",
    "  INDEX(`ndc`),\n",
    "  INDEX(`rxcui`)\n",
    ") ENGINE=InnoDB;\n",
    "\"\"\"\n",
    "cursor.execute(create_labels_query)\n",
    "\n",
    "# Create patient_drugs table\n",
    "\n",
    "#temporarily removed on delete cascade foreign key constraint for event_id for troubleshooting\n",
    "create_patient_drugs_query = \"\"\"\n",
    "CREATE TABLE IF NOT EXISTS `patient_drugs` (\n",
    " `patient_drug_id` INT NOT NULL AUTO_INCREMENT,\n",
    "  `event_id` INT,\n",
    "  `med_product` VARCHAR(250),\n",
    "  `indication` VARCHAR(150),\n",
    "  `generic_name` VARCHAR(300),\n",
    "  `manufacturers` VARCHAR(5000),\n",
    "  `manu_num` INT,\n",
    "  `product_type` VARCHAR(100),\n",
    "  `rxcui` VARCHAR(760),\n",
    "  `rxcui_num` INT,\n",
    "  `unii` VARCHAR(150),\n",
    "  PRIMARY KEY(`patient_drug_id`),\n",
    "  INDEX(`event_id`),\n",
    "  INDEX(`rxcui`),\n",
    "  FOREIGN KEY (`event_id`) REFERENCES `adverse_events` (`event_id`)\n",
    "  ) ENGINE=InnoDB;\n",
    "\"\"\"\n",
    "cursor.execute(create_patient_drugs_query)\n",
    "\n",
    "create_prices_query = \"\"\"\n",
    "CREATE TABLE IF NOT EXISTS `prices` (\n",
    " `price_id` INT NOT NULL AUTO_INCREMENT,\n",
    "  `ndc` VARCHAR(120),\n",
    "  `unit_price` VARCHAR(20),\n",
    "  `price_date` DATE,\n",
    "  `generic_brand` BOOLEAN,\n",
    "  `year` INT(4),\n",
    "  PRIMARY KEY(`price_id`),\n",
    "  FOREIGN KEY (`year`) REFERENCES `year` (`year`)\n",
    "  ON DELETE CASCADE,\n",
    "  INDEX(`ndc`)\n",
    ") ENGINE=InnoDB;\n",
    "\"\"\"\n",
    "cursor.execute(create_prices_query)\n",
    "\n",
    "\n",
    "# Create drug_names table\n",
    "create_drug_names_query = \"\"\"\n",
    "CREATE TABLE IF NOT EXISTS `drug_names` (\n",
    "  `drug_name_id` INT NOT NULL AUTO_INCREMENT,\n",
    "  `label_id` INT,\n",
    "  `rxcui` VARCHAR(100),\n",
    "  `ndc` VARCHAR(60),\n",
    "  `ingredients` VARCHAR(1000),\n",
    "  PRIMARY KEY(`drug_name_id`),\n",
    "  FOREIGN KEY (`ndc`) REFERENCES `labels` (`ndc`),\n",
    "  FOREIGN KEY (`ndc`) REFERENCES `prices` (`ndc`),\n",
    "  FOREIGN KEY (`rxcui`) REFERENCES `patient_drugs` (`rxcui`)\n",
    "  ) ENGINE=InnoDB;\n",
    "\"\"\"\n",
    "cursor.execute(create_drug_names_query)\n",
    "\n",
    "# show tables below\n",
    "cursor.execute(\"SHOW TABLES\")\n",
    "\n",
    "# Fetch all the rows\n",
    "tables = cursor.fetchall()\n",
    "\n",
    "# Print the list of tables\n",
    "for table in tables:\n",
    "    print(table[0])\n",
    "\n",
    "# Commit the changes\n",
    "connection.commit()\n",
    "\n",
    "# Close the cursor and connection\n",
    "cursor.close()\n",
    "connection.close()"
   ]
  },
  {
   "cell_type": "markdown",
   "id": "7289cb8e-5621-4726-b77a-01e8d7add79e",
   "metadata": {},
   "source": [
    "## Bulk Import Data from Dataframes"
   ]
  },
  {
   "cell_type": "markdown",
   "id": "f643029b-abdc-43a9-8926-b32c7200977c",
   "metadata": {},
   "source": [
    "### Year Table"
   ]
  },
  {
   "cell_type": "markdown",
   "id": "4d0497d8-c4b3-421f-b9c8-e9d5ca6f8b8a",
   "metadata": {},
   "source": [
    "### Import Data"
   ]
  },
  {
   "cell_type": "code",
   "execution_count": null,
   "id": "2215a082-4767-42d9-84b6-2908e6363228",
   "metadata": {},
   "outputs": [],
   "source": [
    "from sqlalchemy import create_engine\n",
    "\n",
    "user = 'root'\n",
    "password = PASSWORD\n",
    "host = 'localhost'\n",
    "database = 'pharma_db'\n",
    "engine = create_engine(f'mysql+mysqlconnector://{user}:{password}@{host}/{database}', echo=False)\n",
    "\n",
    "year_table.to_sql('year', con=engine, if_exists='append', index=False)\n"
   ]
  },
  {
   "cell_type": "markdown",
   "id": "c84aa843-42ac-495a-a539-2cc5970f4947",
   "metadata": {},
   "source": [
    "### Preview Year Table"
   ]
  },
  {
   "cell_type": "code",
   "execution_count": null,
   "id": "90c301f6-cce1-4d19-b548-eac59fcc3abb",
   "metadata": {},
   "outputs": [],
   "source": [
    "connection = mysql.connector.connect(\n",
    "    host=\"localhost\", user=\"root\", password=PASSWORD, database=\"pharma_db\"\n",
    ")\n",
    "\n",
    "cursor = connection.cursor()\n",
    "sql_query = \"\"\"SELECT * FROM year LIMIT 5\"\"\"\n",
    "cursor.execute(sql_query)\n",
    "result = cursor.fetchall()\n",
    "column_names = [i[0] for i in cursor.description]\n",
    "result_query_df = pd.DataFrame(result, columns=column_names)\n",
    "\n",
    "cursor.close()\n",
    "connection.close()\n",
    "\n",
    "result_query_df"
   ]
  },
  {
   "cell_type": "markdown",
   "id": "008a63e3-820b-476a-a25f-ed83d9c1abaf",
   "metadata": {},
   "source": [
    "### Documents Table"
   ]
  },
  {
   "cell_type": "markdown",
   "id": "11677fc1-d85a-4211-9034-336b3a049487",
   "metadata": {},
   "source": [
    "### Import Data"
   ]
  },
  {
   "cell_type": "markdown",
   "id": "d5067d88-7abb-4a53-8d8b-4663392238e6",
   "metadata": {},
   "source": [
    "*ADD DROPPING all_reactions table column to preprocessing*"
   ]
  },
  {
   "cell_type": "code",
   "execution_count": null,
   "id": "14faecad-3655-41ad-9b04-a32dcc74ee56",
   "metadata": {},
   "outputs": [],
   "source": [
    "documents_table.head()"
   ]
  },
  {
   "cell_type": "code",
   "execution_count": null,
   "id": "422eeb0f-3787-48d3-910c-8694bd5c02cb",
   "metadata": {},
   "outputs": [],
   "source": [
    "\n",
    "start_time = time.time()\n",
    "\n",
    "documents_table.to_sql('documents', con=engine, if_exists='append', index=False)\n",
    "\n",
    "end_time = time.time()\n",
    "execution_time = end_time - start_time\n",
    "print(execution_time)\n",
    "#documents_table.to_sql('documents', con=connection, if_exists='append', index=False)"
   ]
  },
  {
   "cell_type": "markdown",
   "id": "d9213946-c2a9-4c8d-a70f-3c5cf004df7f",
   "metadata": {},
   "source": [
    "#### Preview Documents Table"
   ]
  },
  {
   "cell_type": "code",
   "execution_count": null,
   "id": "be0b0bb2-5751-4c5c-95cd-ef432f4ab3e9",
   "metadata": {},
   "outputs": [],
   "source": [
    "connection = mysql.connector.connect(\n",
    "    host=\"localhost\", user=\"root\", password=PASSWORD, database=\"pharma_db\"\n",
    ")\n",
    "\n",
    "cursor = connection.cursor()\n",
    "sql_query = \"\"\"SELECT * FROM documents LIMIT 5\"\"\"\n",
    "cursor.execute(sql_query)\n",
    "result = cursor.fetchall()\n",
    "column_names = [i[0] for i in cursor.description]\n",
    "result_query_df = pd.DataFrame(result, columns=column_names)\n",
    "\n",
    "cursor.close()\n",
    "connection.close()\n",
    "\n",
    "result_query_df"
   ]
  },
  {
   "cell_type": "markdown",
   "id": "d312e6c9-5104-435e-a84b-869c95ef5042",
   "metadata": {},
   "source": [
    "### Events Table"
   ]
  },
  {
   "cell_type": "code",
   "execution_count": null,
   "id": "dd622df9-e791-4815-b660-09cd5139ee3d",
   "metadata": {},
   "outputs": [],
   "source": [
    "\n",
    "events_table.head()"
   ]
  },
  {
   "cell_type": "code",
   "execution_count": null,
   "id": "0a473259-3fe6-4775-83a2-acf0f6f2bc25",
   "metadata": {},
   "outputs": [],
   "source": [
    "# Function to convert list to concatenated string\n",
    "def list_to_string(lst):\n",
    "    if isinstance(lst, list):\n",
    "        return ', '.join(lst)\n",
    "    else:\n",
    "        return lst  # Handle non-list values if any\n",
    "\n",
    "events_table['company_name'] = events_table['company_name'].apply(list_to_string)\n",
    "#events_table = events_table.drop(columns=['safetyreportversion'])\n",
    "\n",
    "\n",
    "events_table = events_table.rename(columns={'event_year': 'year'})\n"
   ]
  },
  {
   "cell_type": "code",
   "execution_count": null,
   "id": "bd60cfa0-7ef2-4c09-b441-7a2815cd0bef",
   "metadata": {},
   "outputs": [],
   "source": [
    "events_table.head()"
   ]
  },
  {
   "cell_type": "code",
   "execution_count": null,
   "id": "d5f6d241-a1fb-482c-a295-f8e57ef4d441",
   "metadata": {},
   "outputs": [],
   "source": [
    "create_events_query = \"\"\"\n",
    "CREATE TABLE IF NOT EXISTS `adverse_events` (\n",
    "  `event_id` INT,\n",
    "  `safetyreportid` VARCHAR(9),\n",
    "  `year` INT(4),\n",
    "  `serious` BOOLEAN,\n",
    "  `expedited` BOOLEAN,\n",
    "  `report_source` INT,\n",
    "  `country` VARCHAR(25),\n",
    "  `age` INT,\n",
    "  `sex` INT,\n",
    "  `company_name` VARCHAR(200),\n",
    "  PRIMARY KEY (`event_id`),\n",
    "  FOREIGN KEY (`year`) REFERENCES `documents` (`year`)\n",
    ") ENGINE=InnoDB;\n",
    "\"\"\""
   ]
  },
  {
   "cell_type": "code",
   "execution_count": null,
   "id": "804ec87f-e336-4451-8104-70dd572f99ec",
   "metadata": {},
   "outputs": [],
   "source": [
    "start_time = time.time()\n",
    "\n",
    "events_table.to_sql('adverse_events', con=engine, if_exists='append', index=False)\n",
    "\n",
    "end_time = time.time()\n",
    "execution_time = end_time - start_time\n",
    "print(execution_time)"
   ]
  },
  {
   "cell_type": "code",
   "execution_count": null,
   "id": "8ff39650-3483-465a-baeb-c55a6202b120",
   "metadata": {},
   "outputs": [],
   "source": [
    "import pandas as pd\n",
    "\n",
    "# Example DataFrames (replace with your actual DataFrames)\n",
    "# Function to perform data integrity check\n",
    "def check_year_integrity(events_df, documents_df):\n",
    "    # Extract unique years from events_df and documents_df\n",
    "    events_years = set(events_df['year'].unique())\n",
    "    documents_years = set(documents_df['year'].unique())\n",
    "\n",
    "    # Check for discrepancies\n",
    "    events_not_in_documents = events_years - documents_years\n",
    "    documents_not_in_events = documents_years - events_years\n",
    "\n",
    "    # Output results\n",
    "    if events_not_in_documents:\n",
    "        print(\"Years in events_df but not in documents_df:\", events_not_in_documents)\n",
    "    \n",
    "    if documents_not_in_events:\n",
    "        print(\"Years in documents_df but not in events_df:\", documents_not_in_events)\n",
    "\n",
    "# Perform the integrity check\n",
    "check_year_integrity(events_df, documents_df)\n"
   ]
  },
  {
   "cell_type": "markdown",
   "id": "4d05cc1f-fc1b-44fc-b5de-ec34614db31a",
   "metadata": {},
   "source": [
    "#### Preview Events Table"
   ]
  },
  {
   "cell_type": "code",
   "execution_count": null,
   "id": "f5c51f36-8660-4cf7-9aa3-b232a021a47a",
   "metadata": {},
   "outputs": [],
   "source": [
    "connection = mysql.connector.connect(\n",
    "    host=\"localhost\", user=\"root\", password=PASSWORD, database=\"pharma_db\"\n",
    ")\n",
    "\n",
    "cursor = connection.cursor()\n",
    "sql_query = \"\"\"SELECT * FROM adverse_events LIMIT 5\"\"\"\n",
    "cursor.execute(sql_query)\n",
    "result = cursor.fetchall()\n",
    "column_names = [i[0] for i in cursor.description]\n",
    "result_query_df = pd.DataFrame(result, columns=column_names)\n",
    "\n",
    "cursor.close()\n",
    "connection.close()\n",
    "\n",
    "result_query_df"
   ]
  },
  {
   "cell_type": "markdown",
   "id": "9e44b829-55e1-44df-b5f2-d4567604f44a",
   "metadata": {},
   "source": [
    "### Patient Drugs Table"
   ]
  },
  {
   "cell_type": "markdown",
   "id": "74c37037-a7b4-4173-a4dc-3c317ced80cf",
   "metadata": {},
   "source": [
    "need to convert all lists to concatenated strings\n",
    "drop manufacturers column"
   ]
  },
  {
   "cell_type": "code",
   "execution_count": null,
   "id": "0ecb1302-7bcf-495e-aa09-7716cd80d8ef",
   "metadata": {},
   "outputs": [],
   "source": [
    "columns_to_convert = ['indication', 'med_product', 'manufacturers','generic_name', 'product_type', 'rxcui', 'unii']\n",
    "\n",
    "# Function to convert list to concatenated string\n",
    "def list_to_string(lst):\n",
    "    if isinstance(lst, list):\n",
    "        return ', '.join(lst)\n",
    "    else:\n",
    "        return lst  # Handle non-list values if any\n",
    "\n",
    "# Apply function to convert lists to strings for each column\n",
    "for col in columns_to_convert:\n",
    "    patient_drugs_table[col] = patient_drugs_table[col].apply(list_to_string)\n",
    "\n",
    "\n",
    "patient_drugs_table['manufacturers'] = patient_drugs_table['manufacturers'].apply(lambda x: x[:5000] if isinstance(x, str) else x)\n",
    "patient_drugs_table['rxcui'] = patient_drugs_table['rxcui'].apply(lambda x: x[:760] if isinstance(x, str) else x)\n"
   ]
  },
  {
   "cell_type": "markdown",
   "id": "3b2810c7-72e2-425c-a0d2-33cd10a7c00f",
   "metadata": {},
   "source": [
    "#### Import data"
   ]
  },
  {
   "cell_type": "code",
   "execution_count": null,
   "id": "1e4bffaa-d96f-43c3-850d-bed5d5f3f054",
   "metadata": {},
   "outputs": [],
   "source": [
    "patient_drugs_table.tail()"
   ]
  },
  {
   "cell_type": "code",
   "execution_count": null,
   "id": "912bb7cc-d60b-42f2-8bcb-ae9d91be49db",
   "metadata": {},
   "outputs": [],
   "source": [
    "\n",
    "patient_drugs_table.to_sql('patient_drugs', con=engine, if_exists='append', index=False)"
   ]
  },
  {
   "cell_type": "markdown",
   "id": "fdb30452-d074-48a1-8bba-020720db4c22",
   "metadata": {},
   "source": [
    "#### Preview Drugs Table"
   ]
  },
  {
   "cell_type": "code",
   "execution_count": null,
   "id": "2b364c6c-24d1-4beb-8eff-f17ba27e28d5",
   "metadata": {},
   "outputs": [],
   "source": [
    "connection = mysql.connector.connect(\n",
    "    host=\"localhost\", user=\"root\", password=PASSWORD, database=\"pharma_db\"\n",
    ")\n",
    "\n",
    "cursor = connection.cursor()\n",
    "sql_query = \"\"\"SELECT * FROM patient_drugs LIMIT 5\"\"\"\n",
    "cursor.execute(sql_query)\n",
    "result = cursor.fetchall()\n",
    "column_names = [i[0] for i in cursor.description]\n",
    "result_query_df = pd.DataFrame(result, columns=column_names)\n",
    "\n",
    "cursor.close()\n",
    "connection.close()\n",
    "\n",
    "result_query_df"
   ]
  },
  {
   "cell_type": "markdown",
   "id": "5486f8eb-23e3-4528-837b-1c1113e1d7fb",
   "metadata": {},
   "source": [
    "### Patient Reactions Table"
   ]
  },
  {
   "cell_type": "code",
   "execution_count": null,
   "id": "1da30cda-7d89-4e50-93ff-19b9ef4cd472",
   "metadata": {},
   "outputs": [],
   "source": [
    "patient_reactions_table.head()\n",
    "#patient_reactions_table = patient_reactions_table.drop(columns=['reaction_processed'])\n"
   ]
  },
  {
   "cell_type": "code",
   "execution_count": null,
   "id": "97f63d01-2849-47a5-aa9f-7b227e4332ad",
   "metadata": {},
   "outputs": [],
   "source": [
    "patient_reactions_table.to_sql('patient_reactions', con=engine, if_exists='append', index=False)"
   ]
  },
  {
   "cell_type": "markdown",
   "id": "403e048c-666c-4414-962a-af933a2e45ab",
   "metadata": {},
   "source": [
    "#### Preview Patient Reactions Table"
   ]
  },
  {
   "cell_type": "code",
   "execution_count": null,
   "id": "ab0d4045-2ef9-44dd-bcf8-bc503e94bf38",
   "metadata": {},
   "outputs": [],
   "source": [
    "connection = mysql.connector.connect(\n",
    "    host=\"localhost\", user=\"root\", password=PASSWORD, database=\"pharma_db\"\n",
    ")\n",
    "\n",
    "cursor = connection.cursor()\n",
    "sql_query = \"\"\"SELECT * FROM patient_reactions LIMIT 5\"\"\"\n",
    "cursor.execute(sql_query)\n",
    "result = cursor.fetchall()\n",
    "column_names = [i[0] for i in cursor.description]\n",
    "result_query_df = pd.DataFrame(result, columns=column_names)\n",
    "\n",
    "cursor.close()\n",
    "connection.close()\n",
    "\n",
    "result_query_df"
   ]
  },
  {
   "cell_type": "markdown",
   "id": "1219c017-df1f-4bbe-934f-c96c01dbc26f",
   "metadata": {},
   "source": [
    "### Labels Table"
   ]
  },
  {
   "cell_type": "code",
   "execution_count": null,
   "id": "e12063e9-6eb8-40dc-9e6b-04edc8d14e80",
   "metadata": {},
   "outputs": [],
   "source": [
    "columns_to_convert = ['ndc', 'rxcui', 'ingredients', 'drug_names', 'purpose', 'warnings']\n",
    "\n",
    "# Function to convert list to concatenated string\n",
    "def list_to_string(lst):\n",
    "    if isinstance(lst, list):\n",
    "        return ', '.join(lst)\n",
    "    else:\n",
    "        return lst  # Handle non-list values if any\n",
    "\n",
    "# Apply function to convert lists to strings for each column\n",
    "for col in columns_to_convert:\n",
    "    labels_table[col] = labels_table[col].apply(list_to_string)\n"
   ]
  },
  {
   "cell_type": "code",
   "execution_count": null,
   "id": "d14bfdca-abc0-47b5-9d4a-96e35ede3dfc",
   "metadata": {},
   "outputs": [],
   "source": [
    "#truncate warnings\n",
    "labels_table['warnings'] = labels_table['warnings'].apply(lambda x: x[:20000] if isinstance(x, str) else x)\n",
    "labels_table['ingredients'] = labels_table['ingredients'].apply(lambda x: x[:5000] if isinstance(x, str) else x)\n"
   ]
  },
  {
   "cell_type": "markdown",
   "id": "ac05e63b-6b62-4249-a560-d7f1fd3dcb16",
   "metadata": {},
   "source": [
    "#### Import Data"
   ]
  },
  {
   "cell_type": "code",
   "execution_count": null,
   "id": "a83843a5-86df-4161-b892-8b6de27ca1fc",
   "metadata": {},
   "outputs": [],
   "source": [
    "start_time = time.time()\n",
    "\n",
    "labels_table.to_sql('labels', con=engine, if_exists='append', index=False)\n",
    "\n",
    "end_time = time.time()\n",
    "execution_time = end_time - start_time\n",
    "print(execution_time)"
   ]
  },
  {
   "cell_type": "markdown",
   "id": "4548eb5b-0a69-4a3f-907a-62cd1a84bd2c",
   "metadata": {},
   "source": [
    "#### Preview Labels Table"
   ]
  },
  {
   "cell_type": "code",
   "execution_count": null,
   "id": "ba821eb3-8f8c-4adc-98ed-48a6ab2ca3ca",
   "metadata": {},
   "outputs": [],
   "source": [
    "connection = mysql.connector.connect(\n",
    "    host=\"localhost\", user=\"root\", password=PASSWORD, database=\"pharma_db\"\n",
    ")\n",
    "\n",
    "cursor = connection.cursor()\n",
    "sql_query = \"\"\"SELECT * FROM labels LIMIT 5\"\"\"\n",
    "cursor.execute(sql_query)\n",
    "result = cursor.fetchall()\n",
    "column_names = [i[0] for i in cursor.description]\n",
    "result_query_df = pd.DataFrame(result, columns=column_names)\n",
    "\n",
    "cursor.close()\n",
    "connection.close()\n",
    "\n",
    "result_query_df"
   ]
  },
  {
   "cell_type": "markdown",
   "id": "7974d059-8377-4557-9a83-010067929bb7",
   "metadata": {},
   "source": [
    "### Prices Table"
   ]
  },
  {
   "cell_type": "code",
   "execution_count": null,
   "id": "44a28381-230c-4275-ba11-187a4b8c0f6f",
   "metadata": {},
   "outputs": [],
   "source": [
    "\n",
    "# Convert 'price_date' column to datetime format if not already\n",
    "prices_table['price_date'] = pd.to_datetime(prices_table['price_date'])\n",
    "\n",
    "# Add a new column 'year' that contains the year extracted from 'price_date'\n",
    "prices_table['year'] = prices_table['price_date'].dt.year\n",
    "\n",
    "prices_table.head()\n"
   ]
  },
  {
   "cell_type": "code",
   "execution_count": null,
   "id": "700f558c-faaa-4560-ab00-4e9c16fc9320",
   "metadata": {},
   "outputs": [],
   "source": [
    "create_prices_query = \"\"\"\n",
    "CREATE TABLE IF NOT EXISTS `prices` (\n",
    " `price_id` INT NOT NULL AUTO_INCREMENT,\n",
    "  `ndc` VARCHAR(120),\n",
    "  `unit_price` VARCHAR(20),\n",
    "  `price_date` DATE,\n",
    "  `generic_brand` BOOLEAN,\n",
    "  PRIMARY KEY(`price_id`),\n",
    "  FOREIGN KEY (`ndc`) REFERENCES `labels` (`ndc`)\n",
    "  ON DELETE CASCADE,\n",
    "  INDEX(`ndc`)\n",
    ") ENGINE=InnoDB;\n",
    "\"\"\""
   ]
  },
  {
   "cell_type": "markdown",
   "id": "6deca94c-2a5a-4a29-9042-8df5280a03e3",
   "metadata": {},
   "source": [
    "#### Import Data"
   ]
  },
  {
   "cell_type": "code",
   "execution_count": null,
   "id": "5ce03922-b4ed-47bd-96b3-7dbc21247446",
   "metadata": {},
   "outputs": [],
   "source": [
    "start_time = time.time()\n",
    "\n",
    "prices_table.to_sql('prices', con=engine, if_exists='append', index=False)\n",
    "\n",
    "end_time = time.time()\n",
    "execution_time = end_time - start_time\n",
    "print(execution_time)"
   ]
  },
  {
   "cell_type": "markdown",
   "id": "08fa5da0-6628-4ba3-ad06-bac589871c10",
   "metadata": {},
   "source": [
    "#### Preview Prices Table"
   ]
  },
  {
   "cell_type": "code",
   "execution_count": null,
   "id": "fd97af83-bfbb-405b-a993-010c0f05584c",
   "metadata": {},
   "outputs": [],
   "source": [
    "connection = mysql.connector.connect(\n",
    "    host=\"localhost\", user=\"root\", password=PASSWORD, database=\"pharma_db\"\n",
    ")\n",
    "\n",
    "cursor = connection.cursor()\n",
    "sql_query = \"\"\"SELECT * FROM prices LIMIT 5\"\"\"\n",
    "cursor.execute(sql_query)\n",
    "result = cursor.fetchall()\n",
    "column_names = [i[0] for i in cursor.description]\n",
    "result_query_df = pd.DataFrame(result, columns=column_names)\n",
    "\n",
    "cursor.close()\n",
    "connection.close()\n",
    "\n",
    "result_query_df"
   ]
  }
 ],
 "metadata": {
  "kernelspec": {
   "display_name": "Python 3 (ipykernel)",
   "language": "python",
   "name": "python3"
  },
  "language_info": {
   "codemirror_mode": {
    "name": "ipython",
    "version": 3
   },
   "file_extension": ".py",
   "mimetype": "text/x-python",
   "name": "python",
   "nbconvert_exporter": "python",
   "pygments_lexer": "ipython3",
   "version": "3.9.18"
  }
 },
 "nbformat": 4,
 "nbformat_minor": 5
}
