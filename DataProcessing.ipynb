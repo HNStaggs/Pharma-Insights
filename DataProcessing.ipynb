{
 "cells": [
  {
   "cell_type": "markdown",
   "id": "636c2b90-391a-4584-af98-0f3339248d5c",
   "metadata": {},
   "source": [
    "# Load Libraries and Functions"
   ]
  },
  {
   "cell_type": "code",
   "execution_count": 1,
   "id": "05ff8559-6d5e-4ef1-a907-2fb2e5d79441",
   "metadata": {},
   "outputs": [],
   "source": [
    "# System, Data, Time, and Spec Libraries\n",
    "import os\n",
    "import pandas as pd\n",
    "import time\n",
    "import random\n",
    "from datetime import datetime, timedelta\n",
    "import numpy as np \n",
    "import multiprocessing\n",
    "num_cores = multiprocessing.cpu_count()  # Define number of cores available\n",
    "from line_profiler import LineProfiler  # Code peformance\n",
    "profiler = LineProfiler()\n",
    "import warnings\n",
    "warnings.filterwarnings('ignore')\n",
    "import csv\n",
    "#pd.set_option('display.max_colwidth', None)\n",
    "\n",
    "# Data Visualization Libraries\n",
    "import matplotlib.pyplot as plt\n",
    "from tabulate import tabulate\n",
    "import plotly.express as px\n",
    "import seaborn as sns\n",
    "\n",
    "# Natural Language Processing Libraries\n",
    "import json\n",
    "import requests\n",
    "import xml.etree.ElementTree as ET\n",
    "import nltk\n",
    "import re\n",
    "from nltk.tokenize import word_tokenize\n",
    "from nltk.corpus import words\n",
    "import string\n",
    "import nltk\n",
    "from collections import OrderedDict\n",
    "from nltk.tokenize import word_tokenize\n",
    "from pandas import json_normalize\n",
    "from nltk.stem import WordNetLemmatizer\n",
    "lemmatizer = WordNetLemmatizer()\n",
    "from nltk.util import ngrams\n",
    "from nltk.corpus import stopwords\n",
    "from string import punctuation\n",
    "punctuation = set(punctuation)\n",
    "punctuation.update({'_', '-','‘'})\n",
    "english_words = set(words.words())\n",
    "#nltk.download('words')\n",
    "#nltk.download('punkt')\n",
    "#nltk.download('stopwords')\n",
    "\n",
    "# SQL Interface Libraries\n",
    "import pymysql as mysql\n",
    "import mysql.connector\n",
    "import pyodbc\n",
    "import sqlite3\n",
    "import sqlalchemy\n",
    "from sqlalchemy import create_engine\n",
    "from sqlalchemy import event\n",
    "from string import punctuation\n",
    "\n",
    "# Importing Custom Functions\n",
    "import nbimporter\n",
    "from Functions import process_text, add_sequential_index, process_label_text, remove_duplicates_nan\n",
    "from Functions import classify_product_type, nan_info, plot_character_length, convert_to_years, examine_text_outliers\n",
    "from Functions import process_company_text, clean_manufacturer_text\n"
   ]
  },
  {
   "cell_type": "markdown",
   "id": "65fa2a97-814f-4389-847b-f40e0ed0119d",
   "metadata": {},
   "source": [
    "# API Keys and Passwords"
   ]
  },
  {
   "cell_type": "code",
   "execution_count": 2,
   "id": "36ce6eba-081e-4163-96d1-f68ddbf64500",
   "metadata": {},
   "outputs": [
    {
     "data": {
      "text/plain": [
       "'E9AA90Q9ntbRnUu0MuXGVPchoquUCFgNhbmZ8pOk'"
      ]
     },
     "execution_count": 2,
     "metadata": {},
     "output_type": "execute_result"
    }
   ],
   "source": [
    "# mysql password\n",
    "PASSWORD = \"schweini\"\n",
    "\n",
    "# openFDA API Key\n",
    "\"E9AA90Q9ntbRnUu0MuXGVPchoquUCFgNhbmZ8pOk\"  # Halee\n",
    "\n",
    "# Data.Medicaid API Key\n",
    "\n",
    "\n"
   ]
  },
  {
   "cell_type": "code",
   "execution_count": 3,
   "id": "81e451ef-02fa-473e-99fb-536edfdfba67",
   "metadata": {},
   "outputs": [
    {
     "name": "stdout",
     "output_type": "stream",
     "text": [
      "Timer unit: 1e-09 s\n",
      "\n",
      "Total time: 0 s\n",
      "File: /var/folders/9n/rvh416ss641f86jq46p9wy380000gn/T/ipykernel_1460/2062560860.py\n",
      "Function: your_function at line 5\n",
      "\n",
      "Line #      Hits         Time  Per Hit   % Time  Line Contents\n",
      "==============================================================\n",
      "     5                                           def your_function():\n",
      "     6                                               # Your code here\n",
      "     7                                           \n",
      "     8                                           \n",
      "     9                                               profiler.add_function(your_function)\n",
      "\n"
     ]
    }
   ],
   "source": [
    "# Code to assess performance\n",
    "# Still need to implement\n",
    "from line_profiler import LineProfiler\n",
    "\n",
    "def your_function():\n",
    "    # Your code here\n",
    "\n",
    "\n",
    "    profiler.add_function(your_function)\n",
    "profiler.run('your_function()')\n",
    "profiler.print_stats()"
   ]
  },
  {
   "cell_type": "markdown",
   "id": "6ab5deb8-b58b-4467-9d41-e932713b15ec",
   "metadata": {},
   "source": [
    "# FDA Data"
   ]
  },
  {
   "cell_type": "markdown",
   "id": "f8914c2b-c2b1-4a5a-9283-a64859e3bc55",
   "metadata": {},
   "source": [
    "## API Request for Historical Text Documents"
   ]
  },
  {
   "cell_type": "markdown",
   "id": "7db161d9-9254-46be-8958-b43e089a41a9",
   "metadata": {},
   "source": [
    "https://open.fda.gov/apis/other/historicaldocument/"
   ]
  },
  {
   "cell_type": "code",
   "execution_count": 4,
   "id": "99271241-e99f-4868-b6e1-fe8ed7177bd6",
   "metadata": {},
   "outputs": [
    {
     "name": "stdout",
     "output_type": "stream",
     "text": [
      ".\n"
     ]
    },
    {
     "data": {
      "text/html": [
       "<div>\n",
       "<style scoped>\n",
       "    .dataframe tbody tr th:only-of-type {\n",
       "        vertical-align: middle;\n",
       "    }\n",
       "\n",
       "    .dataframe tbody tr th {\n",
       "        vertical-align: top;\n",
       "    }\n",
       "\n",
       "    .dataframe thead th {\n",
       "        text-align: right;\n",
       "    }\n",
       "</style>\n",
       "<table border=\"1\" class=\"dataframe\">\n",
       "  <thead>\n",
       "    <tr style=\"text-align: right;\">\n",
       "      <th></th>\n",
       "      <th>doc_type</th>\n",
       "      <th>year</th>\n",
       "      <th>text</th>\n",
       "    </tr>\n",
       "  </thead>\n",
       "  <tbody>\n",
       "    <tr>\n",
       "      <th>0</th>\n",
       "      <td>pr</td>\n",
       "      <td>2006</td>\n",
       "      <td>FDA NEWS RELEASE\\nFOR IMMEDIATE RELEASE\\n\\nFeb...</td>\n",
       "    </tr>\n",
       "    <tr>\n",
       "      <th>1</th>\n",
       "      <td>pr</td>\n",
       "      <td>2006</td>\n",
       "      <td>FDA NEWS RELEASE\\nFOR IMMEDIATE RELEASE\\n\\nFeb...</td>\n",
       "    </tr>\n",
       "    <tr>\n",
       "      <th>2</th>\n",
       "      <td>talk</td>\n",
       "      <td>1991</td>\n",
       "      <td>I FOOD _-AND DRUG ADMINISTRATION ‘ 'i\\nU. S. D...</td>\n",
       "    </tr>\n",
       "    <tr>\n",
       "      <th>3</th>\n",
       "      <td>pr</td>\n",
       "      <td>1934</td>\n",
       "      <td>iNFORMATION FOR THE PRESS\\n\\nu 8. DEPARTMENT O...</td>\n",
       "    </tr>\n",
       "    <tr>\n",
       "      <th>4</th>\n",
       "      <td>pr</td>\n",
       "      <td>1975</td>\n",
       "      <td>\\n\\nU. S. DEPARTMENT OF HEALTH. EDUCATION. AN...</td>\n",
       "    </tr>\n",
       "  </tbody>\n",
       "</table>\n",
       "</div>"
      ],
      "text/plain": [
       "  doc_type  year                                               text\n",
       "0       pr  2006  FDA NEWS RELEASE\\nFOR IMMEDIATE RELEASE\\n\\nFeb...\n",
       "1       pr  2006  FDA NEWS RELEASE\\nFOR IMMEDIATE RELEASE\\n\\nFeb...\n",
       "2     talk  1991  I FOOD _-AND DRUG ADMINISTRATION ‘ 'i\\nU. S. D...\n",
       "3       pr  1934  iNFORMATION FOR THE PRESS\\n\\nu 8. DEPARTMENT O...\n",
       "4       pr  1975   \\n\\nU. S. DEPARTMENT OF HEALTH. EDUCATION. AN..."
      ]
     },
     "execution_count": 4,
     "metadata": {},
     "output_type": "execute_result"
    }
   ],
   "source": [
    "# OpenFDA API endpoint for fetching historical documents\n",
    "BASE_URL = 'https://api.fda.gov/other/historicaldocument.json'\n",
    "\n",
    "# Parameters for the API request\n",
    "params = {\n",
    "    'limit': 1000,  # Adjust the limit as needed\n",
    "    'skip': 0      # Starting point for fetching records\n",
    "}\n",
    "\n",
    "# Function to pause execution to avoid overwhelming the server\n",
    "def pause_execution():\n",
    "    time.sleep(0.2727 + 0.1 * random.random())\n",
    "\n",
    "# Function to fetch data from the OpenFDA API\n",
    "def fetch_data(max_requests):\n",
    "    documents = []\n",
    "    request_count = 0  # Initialize request counter\n",
    "    \n",
    "    while request_count < max_requests:\n",
    "        response = requests.get(BASE_URL, params=params)\n",
    "        #print(f\"Requesting data with params: {params}\")  # Debugging statement\n",
    "        #print(f\"Response status code: {response.status_code}\")  # Debugging statement\n",
    "\n",
    "        if response.status_code != 200:\n",
    "            print(f\"Failed to fetch data: {response.status_code}\")  # Debugging statement\n",
    "            break\n",
    "        \n",
    "        data = response.json()\n",
    "        results = data.get('results', [])\n",
    "        if not results:\n",
    "            print(\"No more results found.\")  # Debugging statement\n",
    "            break\n",
    "\n",
    "        for item in results:\n",
    "            doc_type = item.get('doc_type', 'N/A')\n",
    "            year = item.get('year', 'N/A')\n",
    "            text = item.get('text', 'N/A')\n",
    "            document = {'doc_type': doc_type, 'year': year, 'text': text}\n",
    "            if document not in documents:\n",
    "                documents.append(document)\n",
    "        \n",
    "        params['skip'] += params['limit']\n",
    "        request_count += 1  # Increment request counter\n",
    "        pause_execution()\n",
    "\n",
    "        print(f\".\")\n",
    "\n",
    "    return documents\n",
    "\n",
    "# Fetch the data\n",
    "documents = fetch_data(max_requests=1)\n",
    "\n",
    "# Save the data to a CSV file\n",
    "documents_df = pd.DataFrame(documents)\n",
    "documents_df.head()"
   ]
  },
  {
   "cell_type": "code",
   "execution_count": 5,
   "id": "30bc1d7b-655c-4b0a-a0c9-47e60d38bf54",
   "metadata": {},
   "outputs": [
    {
     "name": "stdout",
     "output_type": "stream",
     "text": [
      "<class 'pandas.core.frame.DataFrame'>\n",
      "RangeIndex: 1000 entries, 0 to 999\n",
      "Data columns (total 3 columns):\n",
      " #   Column    Non-Null Count  Dtype \n",
      "---  ------    --------------  ----- \n",
      " 0   doc_type  1000 non-null   object\n",
      " 1   year      1000 non-null   int64 \n",
      " 2   text      1000 non-null   object\n",
      "dtypes: int64(1), object(2)\n",
      "memory usage: 23.6+ KB\n"
     ]
    }
   ],
   "source": [
    "documents_df.info()"
   ]
  },
  {
   "cell_type": "code",
   "execution_count": 6,
   "id": "760bafae-a246-4c00-9149-7aa518b4009f",
   "metadata": {},
   "outputs": [],
   "source": [
    "# Save csv file to data library\n",
    "#csv_file_path = 'DataLibrary/raw_documents.csv'\n",
    "#documents_df.to_csv(csv_file_path, index=False)\n",
    "\n",
    "# Save the data to a JSON file\n",
    "#json_file_path = 'DataLibrary/raw_documents.json'\n",
    "#with open(json_file_path, 'w') as json_file:\n",
    "#    json.dump(documents, json_file, indent=4)\n",
    "\n",
    "#print(f\"Data saved to {csv_file_path} and {json_file_path}\")"
   ]
  },
  {
   "cell_type": "markdown",
   "id": "a398846e-acd7-4731-a6c5-48fb2a8cfbbb",
   "metadata": {},
   "source": [
    "## API Request for Adverse Events Data"
   ]
  },
  {
   "cell_type": "markdown",
   "id": "75d63dbe-9698-47e6-aa5a-204e56014108",
   "metadata": {},
   "source": [
    "https://open.fda.gov/apis/drug/event/"
   ]
  },
  {
   "cell_type": "code",
   "execution_count": 7,
   "id": "8a8376e5-8ba0-4490-9ee7-bb2fa04705ae",
   "metadata": {},
   "outputs": [
    {
     "name": "stdout",
     "output_type": "stream",
     "text": [
      ".\n",
      ".\n"
     ]
    },
    {
     "data": {
      "text/html": [
       "<div>\n",
       "<style scoped>\n",
       "    .dataframe tbody tr th:only-of-type {\n",
       "        vertical-align: middle;\n",
       "    }\n",
       "\n",
       "    .dataframe tbody tr th {\n",
       "        vertical-align: top;\n",
       "    }\n",
       "\n",
       "    .dataframe thead th {\n",
       "        text-align: right;\n",
       "    }\n",
       "</style>\n",
       "<table border=\"1\" class=\"dataframe\">\n",
       "  <thead>\n",
       "    <tr style=\"text-align: right;\">\n",
       "      <th></th>\n",
       "      <th>safetyreportid</th>\n",
       "      <th>transmissiondateformat</th>\n",
       "      <th>transmissiondate</th>\n",
       "      <th>serious</th>\n",
       "      <th>seriousnessdeath</th>\n",
       "      <th>receivedateformat</th>\n",
       "      <th>receivedate</th>\n",
       "      <th>receiptdateformat</th>\n",
       "      <th>receiptdate</th>\n",
       "      <th>fulfillexpeditecriteria</th>\n",
       "      <th>...</th>\n",
       "      <th>seriousnessother</th>\n",
       "      <th>occurcountry</th>\n",
       "      <th>patient.patientagegroup</th>\n",
       "      <th>seriousnesshospitalization</th>\n",
       "      <th>patient.summary.narrativeincludeclinical</th>\n",
       "      <th>seriousnesslifethreatening</th>\n",
       "      <th>patient.patientweight</th>\n",
       "      <th>primarysource.literaturereference</th>\n",
       "      <th>seriousnesscongenitalanomali</th>\n",
       "      <th>authoritynumb</th>\n",
       "    </tr>\n",
       "  </thead>\n",
       "  <tbody>\n",
       "    <tr>\n",
       "      <th>0</th>\n",
       "      <td>5801206-7</td>\n",
       "      <td>102</td>\n",
       "      <td>20090109</td>\n",
       "      <td>1</td>\n",
       "      <td>1</td>\n",
       "      <td>102</td>\n",
       "      <td>20080707</td>\n",
       "      <td>102</td>\n",
       "      <td>20080625</td>\n",
       "      <td>1</td>\n",
       "      <td>...</td>\n",
       "      <td>NaN</td>\n",
       "      <td>NaN</td>\n",
       "      <td>NaN</td>\n",
       "      <td>NaN</td>\n",
       "      <td>NaN</td>\n",
       "      <td>NaN</td>\n",
       "      <td>NaN</td>\n",
       "      <td>NaN</td>\n",
       "      <td>NaN</td>\n",
       "      <td>NaN</td>\n",
       "    </tr>\n",
       "    <tr>\n",
       "      <th>1</th>\n",
       "      <td>10003300</td>\n",
       "      <td>102</td>\n",
       "      <td>20141002</td>\n",
       "      <td>1</td>\n",
       "      <td>NaN</td>\n",
       "      <td>102</td>\n",
       "      <td>20140306</td>\n",
       "      <td>102</td>\n",
       "      <td>20140306</td>\n",
       "      <td>2</td>\n",
       "      <td>...</td>\n",
       "      <td>NaN</td>\n",
       "      <td>NaN</td>\n",
       "      <td>NaN</td>\n",
       "      <td>NaN</td>\n",
       "      <td>NaN</td>\n",
       "      <td>NaN</td>\n",
       "      <td>NaN</td>\n",
       "      <td>NaN</td>\n",
       "      <td>NaN</td>\n",
       "      <td>NaN</td>\n",
       "    </tr>\n",
       "    <tr>\n",
       "      <th>2</th>\n",
       "      <td>10003301</td>\n",
       "      <td>102</td>\n",
       "      <td>20141002</td>\n",
       "      <td>1</td>\n",
       "      <td>NaN</td>\n",
       "      <td>102</td>\n",
       "      <td>20140228</td>\n",
       "      <td>102</td>\n",
       "      <td>20140228</td>\n",
       "      <td>2</td>\n",
       "      <td>...</td>\n",
       "      <td>1</td>\n",
       "      <td>NaN</td>\n",
       "      <td>NaN</td>\n",
       "      <td>NaN</td>\n",
       "      <td>NaN</td>\n",
       "      <td>NaN</td>\n",
       "      <td>NaN</td>\n",
       "      <td>NaN</td>\n",
       "      <td>NaN</td>\n",
       "      <td>NaN</td>\n",
       "    </tr>\n",
       "    <tr>\n",
       "      <th>3</th>\n",
       "      <td>10003302</td>\n",
       "      <td>102</td>\n",
       "      <td>20141002</td>\n",
       "      <td>2</td>\n",
       "      <td>NaN</td>\n",
       "      <td>102</td>\n",
       "      <td>20140312</td>\n",
       "      <td>102</td>\n",
       "      <td>20140312</td>\n",
       "      <td>2</td>\n",
       "      <td>...</td>\n",
       "      <td>NaN</td>\n",
       "      <td>US</td>\n",
       "      <td>NaN</td>\n",
       "      <td>NaN</td>\n",
       "      <td>NaN</td>\n",
       "      <td>NaN</td>\n",
       "      <td>NaN</td>\n",
       "      <td>NaN</td>\n",
       "      <td>NaN</td>\n",
       "      <td>NaN</td>\n",
       "    </tr>\n",
       "    <tr>\n",
       "      <th>4</th>\n",
       "      <td>10003304</td>\n",
       "      <td>102</td>\n",
       "      <td>20141212</td>\n",
       "      <td>2</td>\n",
       "      <td>NaN</td>\n",
       "      <td>102</td>\n",
       "      <td>20140312</td>\n",
       "      <td>102</td>\n",
       "      <td>20140424</td>\n",
       "      <td>2</td>\n",
       "      <td>...</td>\n",
       "      <td>NaN</td>\n",
       "      <td>US</td>\n",
       "      <td>NaN</td>\n",
       "      <td>NaN</td>\n",
       "      <td>NaN</td>\n",
       "      <td>NaN</td>\n",
       "      <td>NaN</td>\n",
       "      <td>NaN</td>\n",
       "      <td>NaN</td>\n",
       "      <td>NaN</td>\n",
       "    </tr>\n",
       "  </tbody>\n",
       "</table>\n",
       "<p>5 rows × 42 columns</p>\n",
       "</div>"
      ],
      "text/plain": [
       "  safetyreportid transmissiondateformat transmissiondate serious  \\\n",
       "0      5801206-7                    102         20090109       1   \n",
       "1       10003300                    102         20141002       1   \n",
       "2       10003301                    102         20141002       1   \n",
       "3       10003302                    102         20141002       2   \n",
       "4       10003304                    102         20141212       2   \n",
       "\n",
       "  seriousnessdeath receivedateformat receivedate receiptdateformat  \\\n",
       "0                1               102    20080707               102   \n",
       "1              NaN               102    20140306               102   \n",
       "2              NaN               102    20140228               102   \n",
       "3              NaN               102    20140312               102   \n",
       "4              NaN               102    20140312               102   \n",
       "\n",
       "  receiptdate fulfillexpeditecriteria  ... seriousnessother  occurcountry  \\\n",
       "0    20080625                       1  ...              NaN           NaN   \n",
       "1    20140306                       2  ...              NaN           NaN   \n",
       "2    20140228                       2  ...                1           NaN   \n",
       "3    20140312                       2  ...              NaN            US   \n",
       "4    20140424                       2  ...              NaN            US   \n",
       "\n",
       "  patient.patientagegroup seriousnesshospitalization  \\\n",
       "0                     NaN                        NaN   \n",
       "1                     NaN                        NaN   \n",
       "2                     NaN                        NaN   \n",
       "3                     NaN                        NaN   \n",
       "4                     NaN                        NaN   \n",
       "\n",
       "  patient.summary.narrativeincludeclinical seriousnesslifethreatening  \\\n",
       "0                                      NaN                        NaN   \n",
       "1                                      NaN                        NaN   \n",
       "2                                      NaN                        NaN   \n",
       "3                                      NaN                        NaN   \n",
       "4                                      NaN                        NaN   \n",
       "\n",
       "  patient.patientweight primarysource.literaturereference  \\\n",
       "0                   NaN                               NaN   \n",
       "1                   NaN                               NaN   \n",
       "2                   NaN                               NaN   \n",
       "3                   NaN                               NaN   \n",
       "4                   NaN                               NaN   \n",
       "\n",
       "   seriousnesscongenitalanomali  authoritynumb  \n",
       "0                           NaN            NaN  \n",
       "1                           NaN            NaN  \n",
       "2                           NaN            NaN  \n",
       "3                           NaN            NaN  \n",
       "4                           NaN            NaN  \n",
       "\n",
       "[5 rows x 42 columns]"
      ]
     },
     "execution_count": 7,
     "metadata": {},
     "output_type": "execute_result"
    }
   ],
   "source": [
    "# OpenFDA API endpoint for fetching drug event data\n",
    "BASE_URL = 'https://api.fda.gov/drug/event.json'\n",
    "\n",
    "# Parameters for the API request\n",
    "params = {\n",
    "    'limit': 1000,  # Maximum limit per request\n",
    "    'skip': 0      # Starting point for fetching records\n",
    "}\n",
    "\n",
    "# Function to pause execution to avoid overwhelming the server\n",
    "def pause_execution():\n",
    "    time.sleep(0.2727 + 0.1 * random.random())\n",
    "\n",
    "# Function to fetch data from the OpenFDA API\n",
    "def fetch_data(max_requests):\n",
    "    events = []\n",
    "    request_count = 0  # Initialize request counter\n",
    "    \n",
    "    while request_count < max_requests:\n",
    "        response = requests.get(BASE_URL, params=params)\n",
    "        #print(f\"Requesting data with params: {params}\")  # Debugging statement\n",
    "        #print(f\"Response status code: {response.status_code}\")  # Debugging statement\n",
    "\n",
    "        if response.status_code != 200:\n",
    "            print(f\"Failed to fetch data: {response.status_code}\")  # Debugging statement\n",
    "            break\n",
    "        \n",
    "        data = response.json()\n",
    "        results = data.get('results', [])\n",
    "        if not results:\n",
    "            print(\"No more results found.\")  # Debugging statement\n",
    "            break\n",
    "\n",
    "        for item in results:\n",
    "            events.append(item)\n",
    "        \n",
    "        params['skip'] += params['limit']\n",
    "        request_count += 1  # Increment request counter\n",
    "        pause_execution()\n",
    "\n",
    "        print(f\".\")\n",
    "\n",
    "    return events\n",
    "\n",
    "# Fetch the data\n",
    "events = fetch_data(max_requests=2)\n",
    "\n",
    "# Convert the data to a pandas DataFrame\n",
    "events_df = pd.json_normalize(events)\n",
    "\n",
    "# Display the first few rows of the DataFrame\n",
    "events_df.head()"
   ]
  },
  {
   "cell_type": "code",
   "execution_count": 8,
   "id": "71f5a1e5-8720-4984-9aec-838ffd456d1a",
   "metadata": {},
   "outputs": [
    {
     "name": "stdout",
     "output_type": "stream",
     "text": [
      "<class 'pandas.core.frame.DataFrame'>\n",
      "RangeIndex: 2000 entries, 0 to 1999\n",
      "Data columns (total 42 columns):\n",
      " #   Column                                       Non-Null Count  Dtype  \n",
      "---  ------                                       --------------  -----  \n",
      " 0   safetyreportid                               2000 non-null   object \n",
      " 1   transmissiondateformat                       2000 non-null   object \n",
      " 2   transmissiondate                             2000 non-null   object \n",
      " 3   serious                                      2000 non-null   object \n",
      " 4   seriousnessdeath                             145 non-null    object \n",
      " 5   receivedateformat                            2000 non-null   object \n",
      " 6   receivedate                                  2000 non-null   object \n",
      " 7   receiptdateformat                            2000 non-null   object \n",
      " 8   receiptdate                                  2000 non-null   object \n",
      " 9   fulfillexpeditecriteria                      2000 non-null   object \n",
      " 10  companynumb                                  2000 non-null   object \n",
      " 11  receiver                                     0 non-null      float64\n",
      " 12  primarysource.reportercountry                2000 non-null   object \n",
      " 13  primarysource.qualification                  1992 non-null   object \n",
      " 14  sender.senderorganization                    2000 non-null   object \n",
      " 15  patient.patientonsetage                      1318 non-null   object \n",
      " 16  patient.patientonsetageunit                  1318 non-null   object \n",
      " 17  patient.patientsex                           1988 non-null   object \n",
      " 18  patient.patientdeath.patientdeathdateformat  0 non-null      float64\n",
      " 19  patient.patientdeath.patientdeathdate        0 non-null      float64\n",
      " 20  patient.reaction                             2000 non-null   object \n",
      " 21  patient.drug                                 2000 non-null   object \n",
      " 22  safetyreportversion                          1999 non-null   object \n",
      " 23  primarysourcecountry                         1993 non-null   object \n",
      " 24  reporttype                                   1999 non-null   object \n",
      " 25  seriousnessdisabling                         35 non-null     object \n",
      " 26  duplicate                                    1998 non-null   object \n",
      " 27  reportduplicate.duplicatesource              1998 non-null   object \n",
      " 28  reportduplicate.duplicatenumb                1998 non-null   object \n",
      " 29  sender.sendertype                            1999 non-null   object \n",
      " 30  receiver.receivertype                        1999 non-null   object \n",
      " 31  receiver.receiverorganization                1999 non-null   object \n",
      " 32  seriousnessother                             578 non-null    object \n",
      " 33  occurcountry                                 1997 non-null   object \n",
      " 34  patient.patientagegroup                      452 non-null    object \n",
      " 35  seriousnesshospitalization                   340 non-null    object \n",
      " 36  patient.summary.narrativeincludeclinical     249 non-null    object \n",
      " 37  seriousnesslifethreatening                   28 non-null     object \n",
      " 38  patient.patientweight                        405 non-null    object \n",
      " 39  primarysource.literaturereference            3 non-null      object \n",
      " 40  seriousnesscongenitalanomali                 10 non-null     object \n",
      " 41  authoritynumb                                4 non-null      object \n",
      "dtypes: float64(3), object(39)\n",
      "memory usage: 656.4+ KB\n"
     ]
    }
   ],
   "source": [
    "events_df.info()"
   ]
  },
  {
   "cell_type": "markdown",
   "id": "82ed5d0a-6932-422b-818c-809de3c4aba7",
   "metadata": {},
   "source": [
    "#### Examine Variables of Interest"
   ]
  },
  {
   "cell_type": "code",
   "execution_count": 9,
   "id": "f3b06537-95e2-4c09-9888-894408943aae",
   "metadata": {},
   "outputs": [
    {
     "data": {
      "text/plain": [
       "2    1131\n",
       "1     869\n",
       "Name: fulfillexpeditecriteria, dtype: int64"
      ]
     },
     "execution_count": 9,
     "metadata": {},
     "output_type": "execute_result"
    }
   ],
   "source": [
    "# 2 - Yes, 1 - No\n",
    "events_df['fulfillexpeditecriteria'].value_counts()"
   ]
  },
  {
   "cell_type": "code",
   "execution_count": 10,
   "id": "26d92df4-8c20-4259-a8a4-1fc10b18bd7e",
   "metadata": {},
   "outputs": [
    {
     "data": {
      "text/plain": [
       "5    1084\n",
       "1     412\n",
       "3     288\n",
       "4     151\n",
       "2      57\n",
       "Name: primarysource.qualification, dtype: int64"
      ]
     },
     "execution_count": 10,
     "metadata": {},
     "output_type": "execute_result"
    }
   ],
   "source": [
    "# 5 - Consumer/NonHealth, 4 - Lawyer, 3 - Health Professional, 4 - Pharmacist, 5 - MD\n",
    "events_df['primarysource.qualification'].value_counts()"
   ]
  },
  {
   "cell_type": "code",
   "execution_count": 11,
   "id": "f2cbac3f-98fb-435f-803c-8b88c792ff46",
   "metadata": {},
   "outputs": [
    {
     "data": {
      "image/png": "[encoded data removed]",
      "text/plain": [
       "<Figure size 640x480 with 1 Axes>"
      ]
     },
     "metadata": {},
     "output_type": "display_data"
    }
   ],
   "source": [
    "# Distribution of Age\n",
    "plt.hist(events_df['patient.patientonsetage'].astype('float'))\n",
    "ticks = np.arange(0, 100, 5)  # Customize this range as needed\n",
    "plt.xticks(ticks)\n",
    "plt.xlabel('Age (years)')\n",
    "plt.ylabel('Frequency')\n",
    "plt.title('Age Distribution FAERS')\n",
    "plt.show()"
   ]
  },
  {
   "cell_type": "code",
   "execution_count": 12,
   "id": "84678b73-de8a-4233-b758-f38675279248",
   "metadata": {},
   "outputs": [
    {
     "data": {
      "text/plain": [
       "801    1313\n",
       "804       4\n",
       "802       1\n",
       "Name: patient.patientonsetageunit, dtype: int64"
      ]
     },
     "execution_count": 12,
     "metadata": {},
     "output_type": "execute_result"
    }
   ],
   "source": [
    "# Ages come in different units, need to standardize to years\n",
    "events_df['patient.patientonsetageunit'].value_counts()"
   ]
  },
  {
   "cell_type": "code",
   "execution_count": 13,
   "id": "2aff29e2-2df3-4575-929e-af3e5f0b3235",
   "metadata": {},
   "outputs": [
    {
     "data": {
      "text/plain": [
       "1     1040\n",
       "2      556\n",
       "3      337\n",
       "4       37\n",
       "5       10\n",
       "6        6\n",
       "7        6\n",
       "8        3\n",
       "9        2\n",
       "11       1\n",
       "12       1\n",
       "Name: safetyreportversion, dtype: int64"
      ]
     },
     "execution_count": 13,
     "metadata": {},
     "output_type": "execute_result"
    }
   ],
   "source": [
    "# Some reports have more than one version, retain most recent versions only\n",
    "events_df['safetyreportversion'].value_counts()"
   ]
  },
  {
   "cell_type": "code",
   "execution_count": 14,
   "id": "330c63e1-92ce-43d1-9e84-2c13853daa60",
   "metadata": {},
   "outputs": [
    {
     "data": {
      "text/plain": [
       "GILEAD                  458\n",
       "PFIZER                  320\n",
       "MERCK                   175\n",
       "INCYTE                  166\n",
       "ABBVIE                  160\n",
       "NOVARTIS                139\n",
       "BAXTER                   82\n",
       "GLAXOSMITHKLINE          75\n",
       "TEVA                     51\n",
       "BOEHRINGER INGELHEIM     47\n",
       "BAYER                    45\n",
       "SANDOZ                   32\n",
       "CELGENE                  29\n",
       "MYLAN                    29\n",
       "JANSSEN                  20\n",
       "LUNDBECK                 18\n",
       "WATSON                   18\n",
       "BRISTOL MYERS SQUIBB     15\n",
       "AVENTIS                  11\n",
       "GE HEALTHCARE            11\n",
       "AMGEN                    11\n",
       "ACTAVIS                   8\n",
       "ASTRAZENECA               7\n",
       "ALEXION                   7\n",
       "ROCHE                     6\n",
       "ACTELION                  6\n",
       "EMD SERONO INC            6\n",
       "ACORDA                    6\n",
       "FOREST                    6\n",
       "PURDUE                    4\n",
       "VERTEX                    4\n",
       "OTSUKA                    3\n",
       "CUBIST                    3\n",
       "ETHICON                   3\n",
       "PHARMACYCLICS             2\n",
       "JOHNSON AND JOHNSON       2\n",
       "TAKEDA                    2\n",
       "ELI LILLY AND CO          2\n",
       "ALLERGAN                  1\n",
       "ROXANE                    1\n",
       "EISAI                     1\n",
       "GENENTECH                 1\n",
       "MEDIMMUNE                 1\n",
       "SPECTRUM                  1\n",
       "EXELIXIS                  1\n",
       "VIROPHARMA                1\n",
       "BRACCO                    1\n",
       "Name: reportduplicate.duplicatesource, dtype: int64"
      ]
     },
     "execution_count": 14,
     "metadata": {},
     "output_type": "execute_result"
    }
   ],
   "source": [
    "# Can see manufacturers where most reports were duplicated\n",
    "events_df['reportduplicate.duplicatesource'].value_counts()"
   ]
  },
  {
   "cell_type": "code",
   "execution_count": null,
   "id": "35b086b8-eda2-46ac-bb47-19407f674d2b",
   "metadata": {},
   "outputs": [],
   "source": [
    "# Save the data to a JSON file\n",
    "#json_file_path = 'DataLibrary/raw_events.json'\n",
    "#with open(json_file_path, 'w') as json_file:\n",
    "#    json.dump(events, json_file, indent=4)\n",
    "\n",
    "# Save the data to a CSV file\n",
    "#csv_file_path = 'DataLibrary/raw_events.csv'\n",
    "#events_df.to_csv(csv_file_path, index=False)\n",
    "\n",
    "#print(f\"Data saved to {csv_file_path} and {json_file_path}\")"
   ]
  },
  {
   "cell_type": "markdown",
   "id": "e2904da9-a956-49a6-9bed-4c0a411be1e8",
   "metadata": {},
   "source": [
    "## API Request for Drug Labels"
   ]
  },
  {
   "cell_type": "markdown",
   "id": "26df3cbe-f2c2-46cc-b463-579209994d1a",
   "metadata": {},
   "source": [
    "https://open.fda.gov/apis/drug/label/"
   ]
  },
  {
   "cell_type": "code",
   "execution_count": 15,
   "id": "f5caa0e0-ba78-450c-a247-2e777e0a047c",
   "metadata": {},
   "outputs": [
    {
     "name": "stdout",
     "output_type": "stream",
     "text": [
      ".\n",
      ".\n"
     ]
    },
    {
     "data": {
      "text/html": [
       "<div>\n",
       "<style scoped>\n",
       "    .dataframe tbody tr th:only-of-type {\n",
       "        vertical-align: middle;\n",
       "    }\n",
       "\n",
       "    .dataframe tbody tr th {\n",
       "        vertical-align: top;\n",
       "    }\n",
       "\n",
       "    .dataframe thead th {\n",
       "        text-align: right;\n",
       "    }\n",
       "</style>\n",
       "<table border=\"1\" class=\"dataframe\">\n",
       "  <thead>\n",
       "    <tr style=\"text-align: right;\">\n",
       "      <th></th>\n",
       "      <th>effective_time</th>\n",
       "      <th>inactive_ingredient</th>\n",
       "      <th>purpose</th>\n",
       "      <th>keep_out_of_reach_of_children</th>\n",
       "      <th>warnings</th>\n",
       "      <th>questions</th>\n",
       "      <th>spl_product_data_elements</th>\n",
       "      <th>version</th>\n",
       "      <th>dosage_and_administration</th>\n",
       "      <th>pregnancy_or_breast_feeding</th>\n",
       "      <th>...</th>\n",
       "      <th>components</th>\n",
       "      <th>intended_use_of_the_device</th>\n",
       "      <th>mechanism_of_action_table</th>\n",
       "      <th>general_precautions_table</th>\n",
       "      <th>drug_and_or_laboratory_test_interactions_table</th>\n",
       "      <th>accessories</th>\n",
       "      <th>ask_doctor_table</th>\n",
       "      <th>when_using_table</th>\n",
       "      <th>ask_doctor_or_pharmacist_table</th>\n",
       "      <th>do_not_use_table</th>\n",
       "    </tr>\n",
       "  </thead>\n",
       "  <tbody>\n",
       "    <tr>\n",
       "      <th>0</th>\n",
       "      <td>20210902</td>\n",
       "      <td>[INACTIVE INGREDIENTS Sucrose]</td>\n",
       "      <td>[USES USES: Temporary Relief - Acne, Boils* * ...</td>\n",
       "      <td>[Keep this and all medication out of reach of ...</td>\n",
       "      <td>[WARNINGS This product is to be used for self-...</td>\n",
       "      <td>[QUESTIONS OR COMMENTS www.Rxhomeo.com | 1.888...</td>\n",
       "      <td>[SILICEA SILICEA SUCROSE SILICON DIOXIDE SILIC...</td>\n",
       "      <td>2</td>\n",
       "      <td>[DOSAGE Adults- Take 4 or 6 Pellets by mouth, ...</td>\n",
       "      <td>[As with any drug, if you are pregnant, or nur...</td>\n",
       "      <td>...</td>\n",
       "      <td>NaN</td>\n",
       "      <td>NaN</td>\n",
       "      <td>NaN</td>\n",
       "      <td>NaN</td>\n",
       "      <td>NaN</td>\n",
       "      <td>NaN</td>\n",
       "      <td>NaN</td>\n",
       "      <td>NaN</td>\n",
       "      <td>NaN</td>\n",
       "      <td>NaN</td>\n",
       "    </tr>\n",
       "    <tr>\n",
       "      <th>1</th>\n",
       "      <td>20150109</td>\n",
       "      <td>[INGREDIENTS: TALC, POLYMETHYL METHACRYLATE, V...</td>\n",
       "      <td>[Purpose Sunscreen]</td>\n",
       "      <td>[Keep out of reach of children If product is s...</td>\n",
       "      <td>[Warnings For external use only.]</td>\n",
       "      <td>NaN</td>\n",
       "      <td>[CHANTECAILLE PROTECTION NATURELLE BRONZE SPF ...</td>\n",
       "      <td>4</td>\n",
       "      <td>[Directions Protection Naturelle SPF 46 PA+++ ...</td>\n",
       "      <td>NaN</td>\n",
       "      <td>...</td>\n",
       "      <td>NaN</td>\n",
       "      <td>NaN</td>\n",
       "      <td>NaN</td>\n",
       "      <td>NaN</td>\n",
       "      <td>NaN</td>\n",
       "      <td>NaN</td>\n",
       "      <td>NaN</td>\n",
       "      <td>NaN</td>\n",
       "      <td>NaN</td>\n",
       "      <td>NaN</td>\n",
       "    </tr>\n",
       "    <tr>\n",
       "      <th>2</th>\n",
       "      <td>20230802</td>\n",
       "      <td>[INACTIVE INGREDIENTS Sucrose/Lactose]</td>\n",
       "      <td>[USES To relieve the symptoms of itching.]</td>\n",
       "      <td>[KEEP OUT OF REACH OF CHILDREN Keep this and a...</td>\n",
       "      <td>[STOP USE AND ASK DOCTOR If symptoms persist/w...</td>\n",
       "      <td>NaN</td>\n",
       "      <td>[Mezereum DAPHNE MEZEREUM BARK SUCROSE LACTOSE...</td>\n",
       "      <td>3</td>\n",
       "      <td>[DIRECTIONS Adults: Dissolve 3 to 5 under the ...</td>\n",
       "      <td>NaN</td>\n",
       "      <td>...</td>\n",
       "      <td>NaN</td>\n",
       "      <td>NaN</td>\n",
       "      <td>NaN</td>\n",
       "      <td>NaN</td>\n",
       "      <td>NaN</td>\n",
       "      <td>NaN</td>\n",
       "      <td>NaN</td>\n",
       "      <td>NaN</td>\n",
       "      <td>NaN</td>\n",
       "      <td>NaN</td>\n",
       "    </tr>\n",
       "    <tr>\n",
       "      <th>3</th>\n",
       "      <td>20230905</td>\n",
       "      <td>NaN</td>\n",
       "      <td>NaN</td>\n",
       "      <td>NaN</td>\n",
       "      <td>[WARNINGS NOT FOR INJECTION. Ofloxacin ophthal...</td>\n",
       "      <td>NaN</td>\n",
       "      <td>[Ofloxacin Ofloxacin OFLOXACIN OFLOXACIN Sodiu...</td>\n",
       "      <td>7</td>\n",
       "      <td>[DOSAGE AND ADMINISTRATION The recommended dos...</td>\n",
       "      <td>NaN</td>\n",
       "      <td>...</td>\n",
       "      <td>NaN</td>\n",
       "      <td>NaN</td>\n",
       "      <td>NaN</td>\n",
       "      <td>NaN</td>\n",
       "      <td>NaN</td>\n",
       "      <td>NaN</td>\n",
       "      <td>NaN</td>\n",
       "      <td>NaN</td>\n",
       "      <td>NaN</td>\n",
       "      <td>NaN</td>\n",
       "    </tr>\n",
       "    <tr>\n",
       "      <th>4</th>\n",
       "      <td>20230403</td>\n",
       "      <td>NaN</td>\n",
       "      <td>NaN</td>\n",
       "      <td>NaN</td>\n",
       "      <td>NaN</td>\n",
       "      <td>NaN</td>\n",
       "      <td>[Naproxen Naproxen NAPROXEN NAPROXEN CROSCARME...</td>\n",
       "      <td>27</td>\n",
       "      <td>[2 DOSAGE AND ADMINISTRATION Use the lowest ef...</td>\n",
       "      <td>NaN</td>\n",
       "      <td>...</td>\n",
       "      <td>NaN</td>\n",
       "      <td>NaN</td>\n",
       "      <td>NaN</td>\n",
       "      <td>NaN</td>\n",
       "      <td>NaN</td>\n",
       "      <td>NaN</td>\n",
       "      <td>NaN</td>\n",
       "      <td>NaN</td>\n",
       "      <td>NaN</td>\n",
       "      <td>NaN</td>\n",
       "    </tr>\n",
       "  </tbody>\n",
       "</table>\n",
       "<p>5 rows × 140 columns</p>\n",
       "</div>"
      ],
      "text/plain": [
       "  effective_time                                inactive_ingredient  \\\n",
       "0       20210902                     [INACTIVE INGREDIENTS Sucrose]   \n",
       "1       20150109  [INGREDIENTS: TALC, POLYMETHYL METHACRYLATE, V...   \n",
       "2       20230802             [INACTIVE INGREDIENTS Sucrose/Lactose]   \n",
       "3       20230905                                                NaN   \n",
       "4       20230403                                                NaN   \n",
       "\n",
       "                                             purpose  \\\n",
       "0  [USES USES: Temporary Relief - Acne, Boils* * ...   \n",
       "1                                [Purpose Sunscreen]   \n",
       "2         [USES To relieve the symptoms of itching.]   \n",
       "3                                                NaN   \n",
       "4                                                NaN   \n",
       "\n",
       "                       keep_out_of_reach_of_children  \\\n",
       "0  [Keep this and all medication out of reach of ...   \n",
       "1  [Keep out of reach of children If product is s...   \n",
       "2  [KEEP OUT OF REACH OF CHILDREN Keep this and a...   \n",
       "3                                                NaN   \n",
       "4                                                NaN   \n",
       "\n",
       "                                            warnings  \\\n",
       "0  [WARNINGS This product is to be used for self-...   \n",
       "1                  [Warnings For external use only.]   \n",
       "2  [STOP USE AND ASK DOCTOR If symptoms persist/w...   \n",
       "3  [WARNINGS NOT FOR INJECTION. Ofloxacin ophthal...   \n",
       "4                                                NaN   \n",
       "\n",
       "                                           questions  \\\n",
       "0  [QUESTIONS OR COMMENTS www.Rxhomeo.com | 1.888...   \n",
       "1                                                NaN   \n",
       "2                                                NaN   \n",
       "3                                                NaN   \n",
       "4                                                NaN   \n",
       "\n",
       "                           spl_product_data_elements version  \\\n",
       "0  [SILICEA SILICEA SUCROSE SILICON DIOXIDE SILIC...       2   \n",
       "1  [CHANTECAILLE PROTECTION NATURELLE BRONZE SPF ...       4   \n",
       "2  [Mezereum DAPHNE MEZEREUM BARK SUCROSE LACTOSE...       3   \n",
       "3  [Ofloxacin Ofloxacin OFLOXACIN OFLOXACIN Sodiu...       7   \n",
       "4  [Naproxen Naproxen NAPROXEN NAPROXEN CROSCARME...      27   \n",
       "\n",
       "                           dosage_and_administration  \\\n",
       "0  [DOSAGE Adults- Take 4 or 6 Pellets by mouth, ...   \n",
       "1  [Directions Protection Naturelle SPF 46 PA+++ ...   \n",
       "2  [DIRECTIONS Adults: Dissolve 3 to 5 under the ...   \n",
       "3  [DOSAGE AND ADMINISTRATION The recommended dos...   \n",
       "4  [2 DOSAGE AND ADMINISTRATION Use the lowest ef...   \n",
       "\n",
       "                         pregnancy_or_breast_feeding  ... components  \\\n",
       "0  [As with any drug, if you are pregnant, or nur...  ...        NaN   \n",
       "1                                                NaN  ...        NaN   \n",
       "2                                                NaN  ...        NaN   \n",
       "3                                                NaN  ...        NaN   \n",
       "4                                                NaN  ...        NaN   \n",
       "\n",
       "  intended_use_of_the_device mechanism_of_action_table  \\\n",
       "0                        NaN                       NaN   \n",
       "1                        NaN                       NaN   \n",
       "2                        NaN                       NaN   \n",
       "3                        NaN                       NaN   \n",
       "4                        NaN                       NaN   \n",
       "\n",
       "  general_precautions_table drug_and_or_laboratory_test_interactions_table  \\\n",
       "0                       NaN                                            NaN   \n",
       "1                       NaN                                            NaN   \n",
       "2                       NaN                                            NaN   \n",
       "3                       NaN                                            NaN   \n",
       "4                       NaN                                            NaN   \n",
       "\n",
       "  accessories ask_doctor_table when_using_table  \\\n",
       "0         NaN              NaN              NaN   \n",
       "1         NaN              NaN              NaN   \n",
       "2         NaN              NaN              NaN   \n",
       "3         NaN              NaN              NaN   \n",
       "4         NaN              NaN              NaN   \n",
       "\n",
       "  ask_doctor_or_pharmacist_table do_not_use_table  \n",
       "0                            NaN              NaN  \n",
       "1                            NaN              NaN  \n",
       "2                            NaN              NaN  \n",
       "3                            NaN              NaN  \n",
       "4                            NaN              NaN  \n",
       "\n",
       "[5 rows x 140 columns]"
      ]
     },
     "execution_count": 15,
     "metadata": {},
     "output_type": "execute_result"
    }
   ],
   "source": [
    "# OpenFDA API endpoint for fetching drug label data\n",
    "BASE_URL = 'https://api.fda.gov/drug/label.json'\n",
    "\n",
    "# Parameters for the API request\n",
    "params = {\n",
    "    'limit': 1000,  # Maximum limit per request\n",
    "    'skip': 0      # Starting point for fetching records\n",
    "}\n",
    "\n",
    "# Function to pause execution to avoid overwhelming the server\n",
    "def pause_execution():\n",
    "    time.sleep(0.2727 + 0.1 * random.random())\n",
    "\n",
    "# Function to fetch data from the OpenFDA API\n",
    "def fetch_data(max_requests):\n",
    "    labels = []\n",
    "    request_count = 0  # Initialize request counter\n",
    "    \n",
    "    while request_count < max_requests:\n",
    "        response = requests.get(BASE_URL, params=params)\n",
    "        #print(f\"Requesting data with params: {params}\")  # Debugging statement\n",
    "        #print(f\"Response status code: {response.status_code}\")  # Debugging statement\n",
    "\n",
    "        if response.status_code != 200:\n",
    "            print(f\"Failed to fetch data: {response.status_code}\")  # Debugging statement\n",
    "            break\n",
    "        \n",
    "        data = response.json()\n",
    "        results = data.get('results', [])\n",
    "        if not results:\n",
    "            print(\"No more results found.\")  # Debugging statement\n",
    "            break\n",
    "\n",
    "        for item in results:\n",
    "            labels.append(item)\n",
    "        \n",
    "        params['skip'] += params['limit']\n",
    "        request_count += 1  # Increment request counter\n",
    "        pause_execution()\n",
    "        \n",
    "        print(f\".\")\n",
    "\n",
    "    return labels\n",
    "\n",
    "# Fetch the data\n",
    "labels = fetch_data(max_requests=2)\n",
    "\n",
    "# Convert the data to a pandas DataFrame\n",
    "labels_df = pd.json_normalize(labels)\n",
    "\n",
    "# Display the first few rows of the DataFrame\n",
    "labels_df.head()"
   ]
  },
  {
   "cell_type": "code",
   "execution_count": 16,
   "id": "f15f91d0-1643-4031-b87e-3ca6fc549084",
   "metadata": {},
   "outputs": [
    {
     "name": "stdout",
     "output_type": "stream",
     "text": [
      "<class 'pandas.core.frame.DataFrame'>\n",
      "RangeIndex: 2000 entries, 0 to 1999\n",
      "Data columns (total 140 columns):\n",
      " #    Column                                                            Non-Null Count  Dtype \n",
      "---   ------                                                            --------------  ----- \n",
      " 0    effective_time                                                    2000 non-null   object\n",
      " 1    inactive_ingredient                                               1218 non-null   object\n",
      " 2    purpose                                                           1190 non-null   object\n",
      " 3    keep_out_of_reach_of_children                                     1186 non-null   object\n",
      " 4    warnings                                                          1584 non-null   object\n",
      " 5    questions                                                         659 non-null    object\n",
      " 6    spl_product_data_elements                                         1999 non-null   object\n",
      " 7    version                                                           2000 non-null   object\n",
      " 8    dosage_and_administration                                         1933 non-null   object\n",
      " 9    pregnancy_or_breast_feeding                                       382 non-null    object\n",
      " 10   stop_use                                                          686 non-null    object\n",
      " 11   storage_and_handling                                              606 non-null    object\n",
      " 12   do_not_use                                                        524 non-null    object\n",
      " 13   package_label_principal_display_panel                             1998 non-null   object\n",
      " 14   indications_and_usage                                             1942 non-null   object\n",
      " 15   set_id                                                            2000 non-null   object\n",
      " 16   id                                                                2000 non-null   object\n",
      " 17   active_ingredient                                                 1208 non-null   object\n",
      " 18   openfda.brand_name                                                979 non-null    object\n",
      " 19   openfda.generic_name                                              979 non-null    object\n",
      " 20   openfda.manufacturer_name                                         979 non-null    object\n",
      " 21   openfda.product_ndc                                               979 non-null    object\n",
      " 22   openfda.product_type                                              979 non-null    object\n",
      " 23   openfda.route                                                     974 non-null    object\n",
      " 24   openfda.substance_name                                            969 non-null    object\n",
      " 25   openfda.spl_id                                                    979 non-null    object\n",
      " 26   openfda.spl_set_id                                                979 non-null    object\n",
      " 27   openfda.package_ndc                                               979 non-null    object\n",
      " 28   openfda.is_original_packager                                      734 non-null    object\n",
      " 29   openfda.upc                                                       322 non-null    object\n",
      " 30   openfda.unii                                                      969 non-null    object\n",
      " 31   when_using                                                        571 non-null    object\n",
      " 32   spl_unclassified_section                                          803 non-null    object\n",
      " 33   description                                                       791 non-null    object\n",
      " 34   clinical_pharmacology                                             744 non-null    object\n",
      " 35   clinical_pharmacology_table                                       234 non-null    object\n",
      " 36   pharmacokinetics                                                  411 non-null    object\n",
      " 37   microbiology                                                      49 non-null     object\n",
      " 38   microbiology_table                                                13 non-null     object\n",
      " 39   clinical_studies                                                  381 non-null    object\n",
      " 40   spl_unclassified_section_table                                    65 non-null     object\n",
      " 41   contraindications                                                 752 non-null    object\n",
      " 42   precautions                                                       419 non-null    object\n",
      " 43   general_precautions                                               233 non-null    object\n",
      " 44   information_for_patients                                          576 non-null    object\n",
      " 45   drug_interactions                                                 599 non-null    object\n",
      " 46   carcinogenesis_and_mutagenesis_and_impairment_of_fertility        535 non-null    object\n",
      " 47   pregnancy                                                         592 non-null    object\n",
      " 48   nonteratogenic_effects                                            45 non-null     object\n",
      " 49   nursing_mothers                                                   439 non-null    object\n",
      " 50   pediatric_use                                                     589 non-null    object\n",
      " 51   geriatric_use                                                     502 non-null    object\n",
      " 52   adverse_reactions                                                 769 non-null    object\n",
      " 53   dosage_and_administration_table                                   385 non-null    object\n",
      " 54   how_supplied                                                      760 non-null    object\n",
      " 55   recent_major_changes                                              161 non-null    object\n",
      " 56   boxed_warning                                                     301 non-null    object\n",
      " 57   dosage_forms_and_strengths                                        354 non-null    object\n",
      " 58   warnings_and_cautions                                             374 non-null    object\n",
      " 59   drug_interactions_table                                           102 non-null    object\n",
      " 60   use_in_specific_populations                                       344 non-null    object\n",
      " 61   overdosage                                                        707 non-null    object\n",
      " 62   mechanism_of_action                                               350 non-null    object\n",
      " 63   pharmacodynamics                                                  274 non-null    object\n",
      " 64   nonclinical_toxicology                                            328 non-null    object\n",
      " 65   spl_medguide                                                      184 non-null    object\n",
      " 66   spl_medguide_table                                                95 non-null     object\n",
      " 67   openfda.application_number                                        887 non-null    object\n",
      " 68   openfda.rxcui                                                     732 non-null    object\n",
      " 69   openfda.original_packager_product_ndc                             245 non-null    object\n",
      " 70   openfda.nui                                                       287 non-null    object\n",
      " 71   openfda.pharm_class_moa                                           105 non-null    object\n",
      " 72   openfda.pharm_class_cs                                            146 non-null    object\n",
      " 73   openfda.pharm_class_epc                                           270 non-null    object\n",
      " 74   openfda.pharm_class_pe                                            135 non-null    object\n",
      " 75   recent_major_changes_table                                        44 non-null     object\n",
      " 76   adverse_reactions_table                                           356 non-null    object\n",
      " 77   clinical_studies_table                                            228 non-null    object\n",
      " 78   spl_patient_package_insert                                        102 non-null    object\n",
      " 79   spl_patient_package_insert_table                                  41 non-null     object\n",
      " 80   instructions_for_use                                              65 non-null     object\n",
      " 81   instructions_for_use_table                                        13 non-null     object\n",
      " 82   drug_abuse_and_dependence                                         158 non-null    object\n",
      " 83   drug_and_or_laboratory_test_interactions                          83 non-null     object\n",
      " 84   how_supplied_table                                                113 non-null    object\n",
      " 85   laboratory_tests                                                  143 non-null    object\n",
      " 86   warnings_table                                                    44 non-null     object\n",
      " 87   use_in_specific_populations_table                                 15 non-null     object\n",
      " 88   pediatric_use_table                                               9 non-null      object\n",
      " 89   references                                                        131 non-null    object\n",
      " 90   teratogenic_effects                                               125 non-null    object\n",
      " 91   animal_pharmacology_and_or_toxicology                             86 non-null     object\n",
      " 92   ask_doctor                                                        429 non-null    object\n",
      " 93   ask_doctor_or_pharmacist                                          204 non-null    object\n",
      " 94   active_ingredient_table                                           34 non-null     object\n",
      " 95   purpose_table                                                     27 non-null     object\n",
      " 96   references_table                                                  2 non-null      object\n",
      " 97   labor_and_delivery                                                168 non-null    object\n",
      " 98   pharmacokinetics_table                                            133 non-null    object\n",
      " 99   other_safety_information                                          191 non-null    object\n",
      " 100  user_safety_warnings                                              11 non-null     object\n",
      " 101  drug_abuse_and_dependence_table                                   1 non-null      object\n",
      " 102  controlled_substance                                              69 non-null     object\n",
      " 103  dosage_forms_and_strengths_table                                  11 non-null     object\n",
      " 104  description_table                                                 42 non-null     object\n",
      " 105  precautions_table                                                 22 non-null     object\n",
      " 106  abuse                                                             67 non-null     object\n",
      " 107  geriatric_use_table                                               5 non-null      object\n",
      " 108  dependence                                                        71 non-null     object\n",
      " 109  pharmacodynamics_table                                            22 non-null     object\n",
      " 110  pharmacogenomics                                                  2 non-null      object\n",
      " 111  patient_medication_information                                    13 non-null     object\n",
      " 112  safe_handling_warning                                             6 non-null      object\n",
      " 113  route                                                             17 non-null     object\n",
      " 114  warnings_and_cautions_table                                       56 non-null     object\n",
      " 115  risks                                                             7 non-null      object\n",
      " 116  statement_of_identity                                             1 non-null      object\n",
      " 117  inactive_ingredient_table                                         1 non-null      object\n",
      " 118  indications_and_usage_table                                       8 non-null      object\n",
      " 119  animal_pharmacology_and_or_toxicology_table                       2 non-null      object\n",
      " 120  information_for_patients_table                                    11 non-null     object\n",
      " 121  package_label_principal_display_panel_table                       1 non-null      object\n",
      " 122  contraindications_table                                           4 non-null      object\n",
      " 123  nonclinical_toxicology_table                                      4 non-null      object\n",
      " 124  carcinogenesis_and_mutagenesis_and_impairment_of_fertility_table  3 non-null      object\n",
      " 125  information_for_owners_or_caregivers                              1 non-null      object\n",
      " 126  cleaning                                                          3 non-null      object\n",
      " 127  environmental_warning                                             2 non-null      object\n",
      " 128  patient_medication_information_table                              3 non-null      object\n",
      " 129  storage_and_handling_table                                        1 non-null      object\n",
      " 130  components                                                        1 non-null      object\n",
      " 131  intended_use_of_the_device                                        1 non-null      object\n",
      " 132  mechanism_of_action_table                                         1 non-null      object\n",
      " 133  general_precautions_table                                         2 non-null      object\n",
      " 134  drug_and_or_laboratory_test_interactions_table                    3 non-null      object\n",
      " 135  accessories                                                       1 non-null      object\n",
      " 136  ask_doctor_table                                                  1 non-null      object\n",
      " 137  when_using_table                                                  1 non-null      object\n",
      " 138  ask_doctor_or_pharmacist_table                                    1 non-null      object\n",
      " 139  do_not_use_table                                                  1 non-null      object\n",
      "dtypes: object(140)\n",
      "memory usage: 2.1+ MB\n"
     ]
    }
   ],
   "source": [
    "pd.set_option('display.max_info_columns', 140)\n",
    "labels_df.info()"
   ]
  },
  {
   "cell_type": "code",
   "execution_count": 17,
   "id": "4b584d98-b44a-4f41-98e2-236eb814eebe",
   "metadata": {},
   "outputs": [],
   "source": [
    "# Save the data to a JSON file\n",
    "#json_file_path = 'DataLibrary/raw_labels.json'\n",
    "#with open(json_file_path, 'w') as json_file:\n",
    "#    json.dump(labels, json_file, indent=4)\n",
    "\n",
    "# Save the data to a CSV file\n",
    "#csv_file_path = 'DataLibrary/raw_labels.csv'\n",
    "#labels_df.to_csv(csv_file_path, index=False)\n",
    "\n",
    "#print(f\"Data saved to {csv_file_path} and {json_file_path}\")"
   ]
  },
  {
   "cell_type": "markdown",
   "id": "ba0e9d8c-fcd6-49b5-9487-418a4e590ad1",
   "metadata": {},
   "source": [
    "## API Request for Manufacturer Information (NDC)"
   ]
  },
  {
   "cell_type": "code",
   "execution_count": 18,
   "id": "bd4ca09e-a3be-46f5-848b-a6934520f63e",
   "metadata": {},
   "outputs": [
    {
     "name": "stdout",
     "output_type": "stream",
     "text": [
      ".\n",
      ".\n"
     ]
    },
    {
     "data": {
      "text/html": [
       "<div>\n",
       "<style scoped>\n",
       "    .dataframe tbody tr th:only-of-type {\n",
       "        vertical-align: middle;\n",
       "    }\n",
       "\n",
       "    .dataframe tbody tr th {\n",
       "        vertical-align: top;\n",
       "    }\n",
       "\n",
       "    .dataframe thead th {\n",
       "        text-align: right;\n",
       "    }\n",
       "</style>\n",
       "<table border=\"1\" class=\"dataframe\">\n",
       "  <thead>\n",
       "    <tr style=\"text-align: right;\">\n",
       "      <th></th>\n",
       "      <th>product_ndc</th>\n",
       "      <th>generic_name</th>\n",
       "      <th>labeler_name</th>\n",
       "      <th>brand_name</th>\n",
       "      <th>active_ingredients</th>\n",
       "      <th>finished</th>\n",
       "      <th>packaging</th>\n",
       "      <th>listing_expiration_date</th>\n",
       "      <th>marketing_category</th>\n",
       "      <th>dosage_form</th>\n",
       "      <th>...</th>\n",
       "      <th>openfda.nui</th>\n",
       "      <th>openfda.pharm_class_moa</th>\n",
       "      <th>openfda.pharm_class_cs</th>\n",
       "      <th>openfda.pharm_class_epc</th>\n",
       "      <th>openfda.unii</th>\n",
       "      <th>dea_schedule</th>\n",
       "      <th>openfda.is_original_packager</th>\n",
       "      <th>openfda.pharm_class_pe</th>\n",
       "      <th>marketing_end_date</th>\n",
       "      <th>brand_name_suffix</th>\n",
       "    </tr>\n",
       "  </thead>\n",
       "  <tbody>\n",
       "    <tr>\n",
       "      <th>0</th>\n",
       "      <td>72789-186</td>\n",
       "      <td>Ibuprofen</td>\n",
       "      <td>PD-Rx Pharmaceuticals, Inc.</td>\n",
       "      <td>Ibuprofen</td>\n",
       "      <td>[{'name': 'IBUPROFEN', 'strength': '800 mg/1'}]</td>\n",
       "      <td>True</td>\n",
       "      <td>[{'package_ndc': '72789-186-30', 'description'...</td>\n",
       "      <td>20251231</td>\n",
       "      <td>ANDA</td>\n",
       "      <td>TABLET, FILM COATED</td>\n",
       "      <td>...</td>\n",
       "      <td>[N0000000160, M0001335, N0000175722]</td>\n",
       "      <td>[Cyclooxygenase Inhibitors [MoA]]</td>\n",
       "      <td>[Anti-Inflammatory Agents, Non-Steroidal [CS]]</td>\n",
       "      <td>[Nonsteroidal Anti-inflammatory Drug [EPC]]</td>\n",
       "      <td>[WK2XYI10QM]</td>\n",
       "      <td>NaN</td>\n",
       "      <td>NaN</td>\n",
       "      <td>NaN</td>\n",
       "      <td>NaN</td>\n",
       "      <td>NaN</td>\n",
       "    </tr>\n",
       "    <tr>\n",
       "      <th>1</th>\n",
       "      <td>72789-418</td>\n",
       "      <td>Amoxicillin and Clavulanate Potassium</td>\n",
       "      <td>PD-Rx Pharmaceuticals, Inc.</td>\n",
       "      <td>Amoxicillin and Clavulanate Potassium</td>\n",
       "      <td>[{'name': 'AMOXICILLIN', 'strength': '500 mg/1...</td>\n",
       "      <td>True</td>\n",
       "      <td>[{'package_ndc': '72789-418-14', 'description'...</td>\n",
       "      <td>20251231</td>\n",
       "      <td>ANDA</td>\n",
       "      <td>TABLET, FILM COATED</td>\n",
       "      <td>...</td>\n",
       "      <td>NaN</td>\n",
       "      <td>NaN</td>\n",
       "      <td>NaN</td>\n",
       "      <td>NaN</td>\n",
       "      <td>[804826J2HU, Q42OMW3AT8]</td>\n",
       "      <td>NaN</td>\n",
       "      <td>NaN</td>\n",
       "      <td>NaN</td>\n",
       "      <td>NaN</td>\n",
       "      <td>NaN</td>\n",
       "    </tr>\n",
       "    <tr>\n",
       "      <th>2</th>\n",
       "      <td>72865-130</td>\n",
       "      <td>OXYMORPHONE HYDROCHLORIDE</td>\n",
       "      <td>XLCare Pharmaceuticals, Inc.</td>\n",
       "      <td>OXYMORPHONE HYDROCHLORIDE</td>\n",
       "      <td>[{'name': 'OXYMORPHONE HYDROCHLORIDE', 'streng...</td>\n",
       "      <td>True</td>\n",
       "      <td>[{'package_ndc': '72865-130-01', 'description'...</td>\n",
       "      <td>20241231</td>\n",
       "      <td>ANDA</td>\n",
       "      <td>TABLET</td>\n",
       "      <td>...</td>\n",
       "      <td>NaN</td>\n",
       "      <td>NaN</td>\n",
       "      <td>NaN</td>\n",
       "      <td>NaN</td>\n",
       "      <td>[5Y2EI94NBC]</td>\n",
       "      <td>CII</td>\n",
       "      <td>[True]</td>\n",
       "      <td>NaN</td>\n",
       "      <td>NaN</td>\n",
       "      <td>NaN</td>\n",
       "    </tr>\n",
       "    <tr>\n",
       "      <th>3</th>\n",
       "      <td>72888-106</td>\n",
       "      <td>carbidopa and levodopa</td>\n",
       "      <td>Advagen Pharma Ltd.,</td>\n",
       "      <td>Carbidopa-levodopa</td>\n",
       "      <td>[{'name': 'CARBIDOPA', 'strength': '10 mg/1'},...</td>\n",
       "      <td>True</td>\n",
       "      <td>[{'package_ndc': '72888-106-00', 'description'...</td>\n",
       "      <td>20241231</td>\n",
       "      <td>ANDA</td>\n",
       "      <td>TABLET</td>\n",
       "      <td>...</td>\n",
       "      <td>[N0000193220, M0370111, N0000175754, N0000175755]</td>\n",
       "      <td>[DOPA Decarboxylase Inhibitors [MoA]]</td>\n",
       "      <td>[Amino Acids, Aromatic [CS]]</td>\n",
       "      <td>[Aromatic Amino Acid [EPC], Aromatic Amino Aci...</td>\n",
       "      <td>[46627O600J, MNX7R8C5VO]</td>\n",
       "      <td>NaN</td>\n",
       "      <td>[True]</td>\n",
       "      <td>NaN</td>\n",
       "      <td>NaN</td>\n",
       "      <td>NaN</td>\n",
       "    </tr>\n",
       "    <tr>\n",
       "      <th>4</th>\n",
       "      <td>73025-169</td>\n",
       "      <td>ALCOHOL</td>\n",
       "      <td>Shalom International Corp</td>\n",
       "      <td>Spatherapy Antibacterial French Lavender</td>\n",
       "      <td>[{'name': 'ALCOHOL', 'strength': '62 mL/100mL'}]</td>\n",
       "      <td>True</td>\n",
       "      <td>[{'package_ndc': '73025-169-00', 'description'...</td>\n",
       "      <td>20241231</td>\n",
       "      <td>OTC MONOGRAPH DRUG</td>\n",
       "      <td>GEL</td>\n",
       "      <td>...</td>\n",
       "      <td>NaN</td>\n",
       "      <td>NaN</td>\n",
       "      <td>NaN</td>\n",
       "      <td>NaN</td>\n",
       "      <td>[3K9958V90M]</td>\n",
       "      <td>NaN</td>\n",
       "      <td>[True]</td>\n",
       "      <td>NaN</td>\n",
       "      <td>NaN</td>\n",
       "      <td>NaN</td>\n",
       "    </tr>\n",
       "  </tbody>\n",
       "</table>\n",
       "<p>5 rows × 32 columns</p>\n",
       "</div>"
      ],
      "text/plain": [
       "  product_ndc                           generic_name  \\\n",
       "0   72789-186                              Ibuprofen   \n",
       "1   72789-418  Amoxicillin and Clavulanate Potassium   \n",
       "2   72865-130              OXYMORPHONE HYDROCHLORIDE   \n",
       "3   72888-106                 carbidopa and levodopa   \n",
       "4   73025-169                                ALCOHOL   \n",
       "\n",
       "                   labeler_name                                brand_name  \\\n",
       "0   PD-Rx Pharmaceuticals, Inc.                                 Ibuprofen   \n",
       "1   PD-Rx Pharmaceuticals, Inc.     Amoxicillin and Clavulanate Potassium   \n",
       "2  XLCare Pharmaceuticals, Inc.                 OXYMORPHONE HYDROCHLORIDE   \n",
       "3          Advagen Pharma Ltd.,                        Carbidopa-levodopa   \n",
       "4     Shalom International Corp  Spatherapy Antibacterial French Lavender   \n",
       "\n",
       "                                  active_ingredients  finished  \\\n",
       "0    [{'name': 'IBUPROFEN', 'strength': '800 mg/1'}]      True   \n",
       "1  [{'name': 'AMOXICILLIN', 'strength': '500 mg/1...      True   \n",
       "2  [{'name': 'OXYMORPHONE HYDROCHLORIDE', 'streng...      True   \n",
       "3  [{'name': 'CARBIDOPA', 'strength': '10 mg/1'},...      True   \n",
       "4   [{'name': 'ALCOHOL', 'strength': '62 mL/100mL'}]      True   \n",
       "\n",
       "                                           packaging listing_expiration_date  \\\n",
       "0  [{'package_ndc': '72789-186-30', 'description'...                20251231   \n",
       "1  [{'package_ndc': '72789-418-14', 'description'...                20251231   \n",
       "2  [{'package_ndc': '72865-130-01', 'description'...                20241231   \n",
       "3  [{'package_ndc': '72888-106-00', 'description'...                20241231   \n",
       "4  [{'package_ndc': '73025-169-00', 'description'...                20241231   \n",
       "\n",
       "   marketing_category          dosage_form  ...  \\\n",
       "0                ANDA  TABLET, FILM COATED  ...   \n",
       "1                ANDA  TABLET, FILM COATED  ...   \n",
       "2                ANDA               TABLET  ...   \n",
       "3                ANDA               TABLET  ...   \n",
       "4  OTC MONOGRAPH DRUG                  GEL  ...   \n",
       "\n",
       "                                         openfda.nui  \\\n",
       "0               [N0000000160, M0001335, N0000175722]   \n",
       "1                                                NaN   \n",
       "2                                                NaN   \n",
       "3  [N0000193220, M0370111, N0000175754, N0000175755]   \n",
       "4                                                NaN   \n",
       "\n",
       "                 openfda.pharm_class_moa  \\\n",
       "0      [Cyclooxygenase Inhibitors [MoA]]   \n",
       "1                                    NaN   \n",
       "2                                    NaN   \n",
       "3  [DOPA Decarboxylase Inhibitors [MoA]]   \n",
       "4                                    NaN   \n",
       "\n",
       "                           openfda.pharm_class_cs  \\\n",
       "0  [Anti-Inflammatory Agents, Non-Steroidal [CS]]   \n",
       "1                                             NaN   \n",
       "2                                             NaN   \n",
       "3                    [Amino Acids, Aromatic [CS]]   \n",
       "4                                             NaN   \n",
       "\n",
       "                             openfda.pharm_class_epc  \\\n",
       "0        [Nonsteroidal Anti-inflammatory Drug [EPC]]   \n",
       "1                                                NaN   \n",
       "2                                                NaN   \n",
       "3  [Aromatic Amino Acid [EPC], Aromatic Amino Aci...   \n",
       "4                                                NaN   \n",
       "\n",
       "               openfda.unii dea_schedule openfda.is_original_packager  \\\n",
       "0              [WK2XYI10QM]          NaN                          NaN   \n",
       "1  [804826J2HU, Q42OMW3AT8]          NaN                          NaN   \n",
       "2              [5Y2EI94NBC]          CII                       [True]   \n",
       "3  [46627O600J, MNX7R8C5VO]          NaN                       [True]   \n",
       "4              [3K9958V90M]          NaN                       [True]   \n",
       "\n",
       "  openfda.pharm_class_pe marketing_end_date brand_name_suffix  \n",
       "0                    NaN                NaN               NaN  \n",
       "1                    NaN                NaN               NaN  \n",
       "2                    NaN                NaN               NaN  \n",
       "3                    NaN                NaN               NaN  \n",
       "4                    NaN                NaN               NaN  \n",
       "\n",
       "[5 rows x 32 columns]"
      ]
     },
     "execution_count": 18,
     "metadata": {},
     "output_type": "execute_result"
    }
   ],
   "source": [
    "# OpenFDA API endpoint for fetching drug label data\n",
    "BASE_URL = 'https://api.fda.gov/drug/ndc.json'\n",
    "\n",
    "# Parameters for the API request\n",
    "params = {\n",
    "    'limit': 1000,  # Maximum limit per request\n",
    "    'skip': 0      # Starting point for fetching records\n",
    "}\n",
    "\n",
    "# Function to pause execution to avoid overwhelming the server\n",
    "def pause_execution():\n",
    "    time.sleep(0.2727 + 0.1 * random.random())\n",
    "\n",
    "# Function to fetch data from the OpenFDA API\n",
    "def fetch_data(max_requests):\n",
    "    manus = []\n",
    "    request_count = 0  # Initialize request counter\n",
    "    \n",
    "    while request_count < max_requests:\n",
    "        response = requests.get(BASE_URL, params=params)\n",
    "        #print(f\"Requesting data with params: {params}\")  # Debugging statement\n",
    "        #print(f\"Response status code: {response.status_code}\")  # Debugging statement\n",
    "\n",
    "        if response.status_code != 200:\n",
    "            print(f\"Failed to fetch data: {response.status_code}\")  # Debugging statement\n",
    "            break\n",
    "        \n",
    "        data = response.json()\n",
    "        results = data.get('results', [])\n",
    "        if not results:\n",
    "            print(\"No more results found.\")  # Debugging statement\n",
    "            break\n",
    "\n",
    "        for item in results:\n",
    "            manus.append(item)\n",
    "        \n",
    "        params['skip'] += params['limit']\n",
    "        request_count += 1  # Increment request counter\n",
    "        pause_execution()\n",
    "        \n",
    "        print(f\".\")\n",
    "\n",
    "    return manus\n",
    "\n",
    "# Fetch the data\n",
    "manus = fetch_data(max_requests=2)\n",
    "\n",
    "# Convert the data to a pandas DataFrame\n",
    "manus_df = pd.json_normalize(manus)\n",
    "\n",
    "# Display the first few rows of the DataFrame\n",
    "manus_df.head()"
   ]
  },
  {
   "cell_type": "code",
   "execution_count": 19,
   "id": "6a662cd8-a164-497c-a7d6-f1a85855628f",
   "metadata": {},
   "outputs": [
    {
     "name": "stdout",
     "output_type": "stream",
     "text": [
      "<class 'pandas.core.frame.DataFrame'>\n",
      "RangeIndex: 2000 entries, 0 to 1999\n",
      "Data columns (total 32 columns):\n",
      " #   Column                        Non-Null Count  Dtype \n",
      "---  ------                        --------------  ----- \n",
      " 0   product_ndc                   2000 non-null   object\n",
      " 1   generic_name                  2000 non-null   object\n",
      " 2   labeler_name                  2000 non-null   object\n",
      " 3   brand_name                    1690 non-null   object\n",
      " 4   active_ingredients            1962 non-null   object\n",
      " 5   finished                      2000 non-null   bool  \n",
      " 6   packaging                     2000 non-null   object\n",
      " 7   listing_expiration_date       1947 non-null   object\n",
      " 8   marketing_category            2000 non-null   object\n",
      " 9   dosage_form                   2000 non-null   object\n",
      " 10  spl_id                        2000 non-null   object\n",
      " 11  product_type                  2000 non-null   object\n",
      " 12  route                         1661 non-null   object\n",
      " 13  marketing_start_date          2000 non-null   object\n",
      " 14  product_id                    2000 non-null   object\n",
      " 15  application_number            1432 non-null   object\n",
      " 16  brand_name_base               1690 non-null   object\n",
      " 17  pharm_class                   1019 non-null   object\n",
      " 18  openfda.manufacturer_name     1648 non-null   object\n",
      " 19  openfda.rxcui                 1223 non-null   object\n",
      " 20  openfda.spl_set_id            1648 non-null   object\n",
      " 21  openfda.upc                   527 non-null    object\n",
      " 22  openfda.nui                   506 non-null    object\n",
      " 23  openfda.pharm_class_moa       235 non-null    object\n",
      " 24  openfda.pharm_class_cs        256 non-null    object\n",
      " 25  openfda.pharm_class_epc       476 non-null    object\n",
      " 26  openfda.unii                  1617 non-null   object\n",
      " 27  dea_schedule                  76 non-null     object\n",
      " 28  openfda.is_original_packager  1313 non-null   object\n",
      " 29  openfda.pharm_class_pe        204 non-null    object\n",
      " 30  marketing_end_date            53 non-null     object\n",
      " 31  brand_name_suffix             124 non-null    object\n",
      "dtypes: bool(1), object(31)\n",
      "memory usage: 486.5+ KB\n"
     ]
    }
   ],
   "source": [
    "pd.set_option('display.max_info_columns', 40)\n",
    "manus_df.info()"
   ]
  },
  {
   "cell_type": "code",
   "execution_count": null,
   "id": "a5ae7bb8-1e70-4dc6-9a0c-6d5ca62b6078",
   "metadata": {},
   "outputs": [],
   "source": []
  },
  {
   "cell_type": "markdown",
   "id": "43480a2a-0c5a-4188-9ae7-5c01020bf786",
   "metadata": {},
   "source": [
    "# National Library of Medicine - Standardized Drug Names and Information"
   ]
  },
  {
   "cell_type": "markdown",
   "id": "dbe1f239-8f79-49b5-90ad-a94da9cecf8a",
   "metadata": {},
   "source": [
    "## API Request for RxNorm"
   ]
  },
  {
   "cell_type": "markdown",
   "id": "aeba4eaf-88b1-4629-8330-efa1a4877378",
   "metadata": {},
   "source": [
    "https://lhncbc.nlm.nih.gov/RxNav/APIs/RxNormAPIs.html"
   ]
  },
  {
   "cell_type": "code",
   "execution_count": 20,
   "id": "6d03aafd-7f75-4e7d-80f6-61cc120b8524",
   "metadata": {},
   "outputs": [],
   "source": [
    "# Base URL for RxTerms API to get all drug names\n",
    "#BASE_URL = 'https://rxnav.nlm.nih.gov/REST/RxTerms/rxcui'\n",
    "\n",
    "# Function to pause execution to avoid overwhelming the server\n",
    "#def pause_execution():\n",
    "#    time.sleep(1 + 2 * random.random())\n",
    "\n",
    "# Function to fetch data from the RxTerms API\n",
    "#def fetch_data(max_requests):\n",
    "#    drugs = []\n",
    "#    start_rxcui = 1  # Starting RxCUI for the search\n",
    "#    step = 500      # Step size to iterate through RxCUIs\n",
    "#    request_count = 0  # Initialize request counter\n",
    "\n",
    "#    while request_count < max_requests:\n",
    "#        batch_drugs = []\n",
    "#        for i in range(start_rxcui, start_rxcui + step):\n",
    "#            url = f\"{BASE_URL}/{i}/allinfo.json\"\n",
    "#            response = requests.get(url)\n",
    "\n",
    "#            if response.status_code != 200:\n",
    "#                print(f\"Failed to fetch data: {response.status_code}\")  # Debugging statement\n",
    "#                continue\n",
    "\n",
    "#            if response.content.strip():  # Check if the response content is not empty\n",
    "#                data = response.json()\n",
    "#                properties = data.get('rxtermsProperties', {})\n",
    "\n",
    "#                if properties:\n",
    "#                    if properties.get('marketed', '').lower() == 'true':\n",
    "#                        properties['rxcui'] = i\n",
    "#                        batch_drugs.append(properties)\n",
    "\n",
    "#        drugs.extend(batch_drugs)  # Add the batch results to the main list\n",
    "#        print(f\"Processed batch starting with RxCUI: {start_rxcui}\")  # Debugging statement for each batch\n",
    "\n",
    "        # Update the start_rxcui for the next batch\n",
    " #       start_rxcui += step\n",
    "#      request_count += 1  # Increment request counter\n",
    "\n",
    "        # Break condition to stop if no more data in the batch\n",
    "#        if not batch_drugs:\n",
    "#            break\n",
    "\n",
    "#        pause_execution()\n",
    "\n",
    "#    return drugs\n",
    "\n",
    "# Fetch the data\n",
    "#drugs = fetch_data(max_requests=1)\n",
    "\n",
    "# Convert the data to a pandas DataFrame\n",
    "#drugs_df = pd.DataFrame(drugs)\n",
    "\n",
    "# Display the first few rows of the DataFrame\n",
    "#drugs_df.head()"
   ]
  },
  {
   "cell_type": "code",
   "execution_count": 21,
   "id": "1eddf171-e936-4c49-b499-164be604ca8d",
   "metadata": {},
   "outputs": [],
   "source": [
    "# Save the data to a JSON file\n",
    "#json_file_path = 'DataLibrary/rxterms_drugs.json'\n",
    "#with open(json_file_path, 'w') as json_file:\n",
    "#    json.dump(drugs, json_file, indent=4)\n",
    "\n",
    "# Save the data to a CSV file\n",
    "#csv_file_path = 'DataLibrary/rxterms_drugs.csv'\n",
    "#drugs_df.to_csv(csv_file_path, index=False)\n",
    "\n",
    "#print(f\"Data saved to {csv_file_path} and {json_file_path}\")"
   ]
  },
  {
   "cell_type": "markdown",
   "id": "bd3412b1-ecea-46b3-9e33-a5515f19ba13",
   "metadata": {},
   "source": [
    "# ADReCS Database for Standardized Drug and ADR Term Labeling"
   ]
  },
  {
   "cell_type": "code",
   "execution_count": 22,
   "id": "494897fd-c7e4-4746-af65-b72c1d4d1c59",
   "metadata": {},
   "outputs": [
    {
     "data": {
      "text/html": [
       "<div>\n",
       "<style scoped>\n",
       "    .dataframe tbody tr th:only-of-type {\n",
       "        vertical-align: middle;\n",
       "    }\n",
       "\n",
       "    .dataframe tbody tr th {\n",
       "        vertical-align: top;\n",
       "    }\n",
       "\n",
       "    .dataframe thead th {\n",
       "        text-align: right;\n",
       "    }\n",
       "</style>\n",
       "<table border=\"1\" class=\"dataframe\">\n",
       "  <thead>\n",
       "    <tr style=\"text-align: right;\">\n",
       "      <th></th>\n",
       "      <th>DRUG_ID</th>\n",
       "      <th>DRUG_NAME</th>\n",
       "      <th>DRUG_SYNONYMS</th>\n",
       "      <th>DrugBank_ID</th>\n",
       "      <th>PubChem_ID</th>\n",
       "      <th>MESH_ID</th>\n",
       "      <th>KEGG_ID</th>\n",
       "      <th>TTD_ID</th>\n",
       "    </tr>\n",
       "  </thead>\n",
       "  <tbody>\n",
       "    <tr>\n",
       "      <th>0</th>\n",
       "      <td>BADD_D00001</td>\n",
       "      <td>1,2-hexanediol</td>\n",
       "      <td>1,2-hexanediol</td>\n",
       "      <td>DB14108</td>\n",
       "      <td>94335</td>\n",
       "      <td>C119102</td>\n",
       "      <td>Not Available</td>\n",
       "      <td>Not Available</td>\n",
       "    </tr>\n",
       "    <tr>\n",
       "      <th>1</th>\n",
       "      <td>BADD_D00002</td>\n",
       "      <td>2-hydroxy-3-phenylpropanoic acid</td>\n",
       "      <td>3-phenyllactic acid | 3-phenyllactic acid, mon...</td>\n",
       "      <td>Not Available</td>\n",
       "      <td>3848</td>\n",
       "      <td>C017648</td>\n",
       "      <td>Not Available</td>\n",
       "      <td>Not Available</td>\n",
       "    </tr>\n",
       "    <tr>\n",
       "      <th>2</th>\n",
       "      <td>BADD_D00003</td>\n",
       "      <td>2-phenylbutyric acid</td>\n",
       "      <td>2-phenylbutyric acid | 2-phenylbutanoic acid</td>\n",
       "      <td>Not Available</td>\n",
       "      <td>7012</td>\n",
       "      <td>C039714</td>\n",
       "      <td>Not Available</td>\n",
       "      <td>Not Available</td>\n",
       "    </tr>\n",
       "    <tr>\n",
       "      <th>3</th>\n",
       "      <td>BADD_D00004</td>\n",
       "      <td>2-[1-methyl-5-(4-methylbenzoyl)pyrrol-2-yl]ace...</td>\n",
       "      <td>Tolmetin | Tolectin | Tolmetin Sodium, Anhydro...</td>\n",
       "      <td>DB00500</td>\n",
       "      <td>5508</td>\n",
       "      <td>D014046</td>\n",
       "      <td>D00158; D02355</td>\n",
       "      <td>D09BHB</td>\n",
       "    </tr>\n",
       "    <tr>\n",
       "      <th>4</th>\n",
       "      <td>BADD_D00005</td>\n",
       "      <td>4-oxo-3-(3-oxo-1-phenylbutyl)chromen-2-olate</td>\n",
       "      <td>Warfarin | 4-Hydroxy-3-(3-oxo-1-phenylbutyl)-2...</td>\n",
       "      <td>DB00682</td>\n",
       "      <td>23690541</td>\n",
       "      <td>D014859</td>\n",
       "      <td>D00564; D08682; D01280</td>\n",
       "      <td>D0E3OF</td>\n",
       "    </tr>\n",
       "  </tbody>\n",
       "</table>\n",
       "</div>"
      ],
      "text/plain": [
       "       DRUG_ID                                          DRUG_NAME  \\\n",
       "0  BADD_D00001                                     1,2-hexanediol   \n",
       "1  BADD_D00002                   2-hydroxy-3-phenylpropanoic acid   \n",
       "2  BADD_D00003                               2-phenylbutyric acid   \n",
       "3  BADD_D00004  2-[1-methyl-5-(4-methylbenzoyl)pyrrol-2-yl]ace...   \n",
       "4  BADD_D00005       4-oxo-3-(3-oxo-1-phenylbutyl)chromen-2-olate   \n",
       "\n",
       "                                       DRUG_SYNONYMS    DrugBank_ID  \\\n",
       "0                                     1,2-hexanediol        DB14108   \n",
       "1  3-phenyllactic acid | 3-phenyllactic acid, mon...  Not Available   \n",
       "2       2-phenylbutyric acid | 2-phenylbutanoic acid  Not Available   \n",
       "3  Tolmetin | Tolectin | Tolmetin Sodium, Anhydro...        DB00500   \n",
       "4  Warfarin | 4-Hydroxy-3-(3-oxo-1-phenylbutyl)-2...        DB00682   \n",
       "\n",
       "  PubChem_ID  MESH_ID                 KEGG_ID         TTD_ID  \n",
       "0      94335  C119102           Not Available  Not Available  \n",
       "1       3848  C017648           Not Available  Not Available  \n",
       "2       7012  C039714           Not Available  Not Available  \n",
       "3       5508  D014046          D00158; D02355         D09BHB  \n",
       "4   23690541  D014859  D00564; D08682; D01280         D0E3OF  "
      ]
     },
     "execution_count": 22,
     "metadata": {},
     "output_type": "execute_result"
    }
   ],
   "source": [
    "# load in static files\n",
    "adrecs_drug = pd.read_excel('ADReCS/Drug_information_v3.3.xlsx')\n",
    "adrecs_drug.head()"
   ]
  },
  {
   "cell_type": "code",
   "execution_count": 23,
   "id": "c491ac9d-c97a-4da3-ac16-77669c6b5e4d",
   "metadata": {},
   "outputs": [
    {
     "data": {
      "text/html": [
       "<div>\n",
       "<style scoped>\n",
       "    .dataframe tbody tr th:only-of-type {\n",
       "        vertical-align: middle;\n",
       "    }\n",
       "\n",
       "    .dataframe tbody tr th {\n",
       "        vertical-align: top;\n",
       "    }\n",
       "\n",
       "    .dataframe thead th {\n",
       "        text-align: right;\n",
       "    }\n",
       "</style>\n",
       "<table border=\"1\" class=\"dataframe\">\n",
       "  <thead>\n",
       "    <tr style=\"text-align: right;\">\n",
       "      <th></th>\n",
       "      <th>ADRECS_ID</th>\n",
       "      <th>ADR_ID</th>\n",
       "      <th>ADR_TERM</th>\n",
       "      <th>ADR_SYNONYMS</th>\n",
       "      <th>MEDDRA_CODE</th>\n",
       "    </tr>\n",
       "  </thead>\n",
       "  <tbody>\n",
       "    <tr>\n",
       "      <th>0</th>\n",
       "      <td>01</td>\n",
       "      <td>BADD_A00503</td>\n",
       "      <td>Blood and lymphatic system disorders</td>\n",
       "      <td>Not Available</td>\n",
       "      <td>10005329</td>\n",
       "    </tr>\n",
       "    <tr>\n",
       "      <th>1</th>\n",
       "      <td>01.01</td>\n",
       "      <td>BADD_A06244</td>\n",
       "      <td>Coagulopathies and bleeding diatheses (excl th...</td>\n",
       "      <td>Not Available</td>\n",
       "      <td>10064477</td>\n",
       "    </tr>\n",
       "    <tr>\n",
       "      <th>2</th>\n",
       "      <td>01.01.01</td>\n",
       "      <td>BADD_A00960</td>\n",
       "      <td>Coagulation factor deficiencies</td>\n",
       "      <td>Not Available</td>\n",
       "      <td>10009737</td>\n",
       "    </tr>\n",
       "    <tr>\n",
       "      <th>3</th>\n",
       "      <td>01.01.01.001</td>\n",
       "      <td>BADD_A02211</td>\n",
       "      <td>Hypoprothrombinaemia</td>\n",
       "      <td>Exaggerated hypoprothrombinaemia | Hypoprothro...</td>\n",
       "      <td>10021085</td>\n",
       "    </tr>\n",
       "    <tr>\n",
       "      <th>4</th>\n",
       "      <td>01.01.01.002</td>\n",
       "      <td>BADD_A05294</td>\n",
       "      <td>Acquired haemophilia</td>\n",
       "      <td>Acquired haemophilia | Acquired hemophilia | A...</td>\n",
       "      <td>10053745</td>\n",
       "    </tr>\n",
       "  </tbody>\n",
       "</table>\n",
       "</div>"
      ],
      "text/plain": [
       "      ADRECS_ID       ADR_ID  \\\n",
       "0            01  BADD_A00503   \n",
       "1         01.01  BADD_A06244   \n",
       "2      01.01.01  BADD_A00960   \n",
       "3  01.01.01.001  BADD_A02211   \n",
       "4  01.01.01.002  BADD_A05294   \n",
       "\n",
       "                                            ADR_TERM  \\\n",
       "0               Blood and lymphatic system disorders   \n",
       "1  Coagulopathies and bleeding diatheses (excl th...   \n",
       "2                    Coagulation factor deficiencies   \n",
       "3                               Hypoprothrombinaemia   \n",
       "4                               Acquired haemophilia   \n",
       "\n",
       "                                        ADR_SYNONYMS  MEDDRA_CODE  \n",
       "0                                      Not Available     10005329  \n",
       "1                                      Not Available     10064477  \n",
       "2                                      Not Available     10009737  \n",
       "3  Exaggerated hypoprothrombinaemia | Hypoprothro...     10021085  \n",
       "4  Acquired haemophilia | Acquired hemophilia | A...     10053745  "
      ]
     },
     "execution_count": 23,
     "metadata": {},
     "output_type": "execute_result"
    }
   ],
   "source": [
    "adrecs_ont = pd.read_excel('ADReCS/ADR_ontology_v3.3.xlsx')\n",
    "adrecs_ont.head()"
   ]
  },
  {
   "cell_type": "code",
   "execution_count": 24,
   "id": "c0e1e01d-76d7-4f8b-8739-9b255c117300",
   "metadata": {},
   "outputs": [
    {
     "data": {
      "text/plain": [
       "((2601, 8), (15317, 5))"
      ]
     },
     "execution_count": 24,
     "metadata": {},
     "output_type": "execute_result"
    }
   ],
   "source": [
    "# 2601 drugs, and 15317 ADR terms\n",
    "adrecs_drug.shape, adrecs_ont.shape"
   ]
  },
  {
   "cell_type": "markdown",
   "id": "bd220fd5-7ee8-496c-afd6-78294f2d89f1",
   "metadata": {},
   "source": [
    "# Medicaid "
   ]
  },
  {
   "cell_type": "markdown",
   "id": "22e2e9f0-7c35-4abf-af14-a945ed4e7091",
   "metadata": {},
   "source": [
    "## API Drug Prices - NADAC - 2024 Report \n",
    "\n",
    "https://data.medicaid.gov/dataset/99315a95-37ac-4eee-946a-3c523b4c481e#data-table"
   ]
  },
  {
   "cell_type": "code",
   "execution_count": 25,
   "id": "883e2498-2976-40a6-a6c9-2d5dbef06060",
   "metadata": {},
   "outputs": [
    {
     "name": "stdout",
     "output_type": "stream",
     "text": [
      ".\n",
      ".\n"
     ]
    },
    {
     "data": {
      "text/html": [
       "<div>\n",
       "<style scoped>\n",
       "    .dataframe tbody tr th:only-of-type {\n",
       "        vertical-align: middle;\n",
       "    }\n",
       "\n",
       "    .dataframe tbody tr th {\n",
       "        vertical-align: top;\n",
       "    }\n",
       "\n",
       "    .dataframe thead th {\n",
       "        text-align: right;\n",
       "    }\n",
       "</style>\n",
       "<table border=\"1\" class=\"dataframe\">\n",
       "  <thead>\n",
       "    <tr style=\"text-align: right;\">\n",
       "      <th></th>\n",
       "      <th>NDC Description</th>\n",
       "      <th>NDC</th>\n",
       "      <th>NADAC_Per_Unit</th>\n",
       "      <th>Effective Date</th>\n",
       "      <th>Pricing_Unit</th>\n",
       "      <th>Pharmacy_Type_Indicator</th>\n",
       "      <th>OTC</th>\n",
       "      <th>Explanation_Code</th>\n",
       "      <th>Classification_for_Rate_Setting</th>\n",
       "      <th>Corresponding_Generic_Drug_NADAC_Per_Unit</th>\n",
       "      <th>Corresponding_Generic_Drug_Effective_Date</th>\n",
       "      <th>As of Date</th>\n",
       "    </tr>\n",
       "  </thead>\n",
       "  <tbody>\n",
       "    <tr>\n",
       "      <th>0</th>\n",
       "      <td>12HR NASAL DECONGEST ER 120 MG</td>\n",
       "      <td>24385005452</td>\n",
       "      <td>0.28255</td>\n",
       "      <td>2022-12-21</td>\n",
       "      <td>EA</td>\n",
       "      <td>C/I</td>\n",
       "      <td>Y</td>\n",
       "      <td>1</td>\n",
       "      <td>G</td>\n",
       "      <td></td>\n",
       "      <td></td>\n",
       "      <td>2023-01-04</td>\n",
       "    </tr>\n",
       "    <tr>\n",
       "      <th>1</th>\n",
       "      <td>12HR NASAL DECONGEST ER 120 MG</td>\n",
       "      <td>70000047501</td>\n",
       "      <td>0.28255</td>\n",
       "      <td>2022-12-21</td>\n",
       "      <td>EA</td>\n",
       "      <td>C/I</td>\n",
       "      <td>Y</td>\n",
       "      <td>1</td>\n",
       "      <td>G</td>\n",
       "      <td></td>\n",
       "      <td></td>\n",
       "      <td>2023-01-04</td>\n",
       "    </tr>\n",
       "    <tr>\n",
       "      <th>2</th>\n",
       "      <td>24H NASAL ALLERGY 55 MCG SPRAY</td>\n",
       "      <td>46122038576</td>\n",
       "      <td>0.78326</td>\n",
       "      <td>2022-12-21</td>\n",
       "      <td>ML</td>\n",
       "      <td>C/I</td>\n",
       "      <td>Y</td>\n",
       "      <td>1, 5</td>\n",
       "      <td>G</td>\n",
       "      <td></td>\n",
       "      <td></td>\n",
       "      <td>2023-01-04</td>\n",
       "    </tr>\n",
       "    <tr>\n",
       "      <th>3</th>\n",
       "      <td>24HR ALLERGY(LEVOCETIRZN) 5 MG</td>\n",
       "      <td>70000036201</td>\n",
       "      <td>0.15365</td>\n",
       "      <td>2022-12-21</td>\n",
       "      <td>EA</td>\n",
       "      <td>C/I</td>\n",
       "      <td>Y</td>\n",
       "      <td>1</td>\n",
       "      <td>G</td>\n",
       "      <td></td>\n",
       "      <td></td>\n",
       "      <td>2023-01-04</td>\n",
       "    </tr>\n",
       "    <tr>\n",
       "      <th>4</th>\n",
       "      <td>24HR ALLERGY(LEVOCETIRZN) 5 MG</td>\n",
       "      <td>70000036202</td>\n",
       "      <td>0.15365</td>\n",
       "      <td>2022-12-21</td>\n",
       "      <td>EA</td>\n",
       "      <td>C/I</td>\n",
       "      <td>Y</td>\n",
       "      <td>1</td>\n",
       "      <td>G</td>\n",
       "      <td></td>\n",
       "      <td></td>\n",
       "      <td>2023-01-04</td>\n",
       "    </tr>\n",
       "  </tbody>\n",
       "</table>\n",
       "</div>"
      ],
      "text/plain": [
       "                  NDC Description          NDC NADAC_Per_Unit Effective Date  \\\n",
       "0  12HR NASAL DECONGEST ER 120 MG  24385005452        0.28255     2022-12-21   \n",
       "1  12HR NASAL DECONGEST ER 120 MG  70000047501        0.28255     2022-12-21   \n",
       "2  24H NASAL ALLERGY 55 MCG SPRAY  46122038576        0.78326     2022-12-21   \n",
       "3  24HR ALLERGY(LEVOCETIRZN) 5 MG  70000036201        0.15365     2022-12-21   \n",
       "4  24HR ALLERGY(LEVOCETIRZN) 5 MG  70000036202        0.15365     2022-12-21   \n",
       "\n",
       "  Pricing_Unit Pharmacy_Type_Indicator OTC Explanation_Code  \\\n",
       "0           EA                     C/I   Y                1   \n",
       "1           EA                     C/I   Y                1   \n",
       "2           ML                     C/I   Y             1, 5   \n",
       "3           EA                     C/I   Y                1   \n",
       "4           EA                     C/I   Y                1   \n",
       "\n",
       "  Classification_for_Rate_Setting Corresponding_Generic_Drug_NADAC_Per_Unit  \\\n",
       "0                               G                                             \n",
       "1                               G                                             \n",
       "2                               G                                             \n",
       "3                               G                                             \n",
       "4                               G                                             \n",
       "\n",
       "  Corresponding_Generic_Drug_Effective_Date  As of Date  \n",
       "0                                            2023-01-04  \n",
       "1                                            2023-01-04  \n",
       "2                                            2023-01-04  \n",
       "3                                            2023-01-04  \n",
       "4                                            2023-01-04  "
      ]
     },
     "execution_count": 25,
     "metadata": {},
     "output_type": "execute_result"
    }
   ],
   "source": [
    "# Base URL for the Medicaid API for NADAC data\n",
    "BASE_URL = 'https://data.medicaid.gov/api/1/datastore/sql'\n",
    "\n",
    "# Initial SQL query to fetch data with a limit of 500 and initial offset 0\n",
    "# Queries 2024 Database\n",
    "query_template = '[SELECT * FROM f3b5cf6b-07cc-5f75-8d7b-0a1090b3f7e9][LIMIT 500 OFFSET {}]'\n",
    "\n",
    "# Function to pause execution to avoid overwhelming the server\n",
    "def pause_execution():\n",
    "    # Pause execution for a random time between 1 and 3 seconds to avoid hitting the server too hard\n",
    "    time.sleep(1 + 2 * random.random())\n",
    "\n",
    "# Function to fetch data from the Medicaid API in batches\n",
    "def fetch_nadac_data():\n",
    "    all_data = []  # Initialize an empty list to store all fetched data\n",
    "    offset = 0  # Starting offset for pagination\n",
    "    max_requests = 2  # Maximum number of requests to fetch 1000 records\n",
    "    \n",
    "    for _ in range(max_requests):  # Loop to fetch data in batches\n",
    "        # Modify the query to include the current offset for pagination\n",
    "        query = query_template.format(offset)\n",
    "        params = {'query': query}  # Set the parameters for the API request\n",
    "\n",
    "        response = requests.get(BASE_URL, params=params)  # Send the request to the API\n",
    "        #print(f\"Requesting data with offset: {offset}\")  # Debugging statement to show current offset\n",
    "        #print(f\"Response status code: {response.status_code}\")  # Debugging statement to show response status\n",
    "\n",
    "        if response.status_code != 200:  # Check if the request was unsuccessful\n",
    "            print(f\"Failed to fetch data: {response.status_code}\")  # Debugging statement for error status\n",
    "            try:\n",
    "                error_details = response.json()\n",
    "                print(f\"Error message: {error_details.get('message', 'No message provided')}\")  # Print the error message\n",
    "                print(f\"Error details: {error_details.get('data', 'No additional data provided')}\")  # Print additional error details\n",
    "            except ValueError:\n",
    "                print(\"Failed to decode JSON error response.\")  # Debugging statement for JSON error\n",
    "            break  # Exit the loop if there was an error\n",
    "\n",
    "        try:\n",
    "            data = response.json()  # Parse the response JSON\n",
    "            #print(f\"Raw response data: {data}\")  # Debugging statement to show raw response data\n",
    "            \n",
    "            if not isinstance(data, list):  # Check if the response is an array\n",
    "                print(\"Expected a list but got a different structure.\")\n",
    "                break\n",
    "\n",
    "            if not data:  # Check if the list is empty\n",
    "                print(\"No more results found.\")  # Debugging statement to indicate no more data\n",
    "                break  # Exit the loop if no more data is found\n",
    "\n",
    "            all_data.extend(data)  # Append the fetched data to the main list\n",
    "            offset += len(data)  # Increment the offset by the number of records fetched\n",
    "            #print(f\"Fetched {len(data)} records. Total so far: {len(all_data)}\")  # Debugging statement to show fetched data count\n",
    "            print(f\".\")\n",
    "        except ValueError:  # Handle any JSON decoding errors\n",
    "            print(\"Failed to decode JSON response.\")  # Debugging statement for JSON error\n",
    "            break  # Exit the loop if there was an error decoding JSON\n",
    "        \n",
    "        pause_execution()  # Pause before the next request to avoid overwhelming the server\n",
    "\n",
    "    return all_data  # Return the collected data\n",
    "\n",
    "# Fetch the data\n",
    "prices = fetch_nadac_data()\n",
    "\n",
    "# Convert the data to a pandas DataFrame\n",
    "prices_df = pd.DataFrame(prices)\n",
    "\n",
    "# Display the first few rows of the DataFrame\n",
    "prices_df.head()\n",
    "#print(f\"Total records fetched: {len(prices_df)}\")  # Debugging statement"
   ]
  },
  {
   "cell_type": "code",
   "execution_count": 26,
   "id": "033a2dd3-7137-48b3-b0c9-569a813b121b",
   "metadata": {},
   "outputs": [
    {
     "name": "stdout",
     "output_type": "stream",
     "text": [
      "<class 'pandas.core.frame.DataFrame'>\n",
      "RangeIndex: 1000 entries, 0 to 999\n",
      "Data columns (total 12 columns):\n",
      " #   Column                                     Non-Null Count  Dtype \n",
      "---  ------                                     --------------  ----- \n",
      " 0   NDC Description                            1000 non-null   object\n",
      " 1   NDC                                        1000 non-null   object\n",
      " 2   NADAC_Per_Unit                             1000 non-null   object\n",
      " 3   Effective Date                             1000 non-null   object\n",
      " 4   Pricing_Unit                               1000 non-null   object\n",
      " 5   Pharmacy_Type_Indicator                    1000 non-null   object\n",
      " 6   OTC                                        1000 non-null   object\n",
      " 7   Explanation_Code                           1000 non-null   object\n",
      " 8   Classification_for_Rate_Setting            1000 non-null   object\n",
      " 9   Corresponding_Generic_Drug_NADAC_Per_Unit  1000 non-null   object\n",
      " 10  Corresponding_Generic_Drug_Effective_Date  1000 non-null   object\n",
      " 11  As of Date                                 1000 non-null   object\n",
      "dtypes: object(12)\n",
      "memory usage: 93.9+ KB\n"
     ]
    }
   ],
   "source": [
    "prices_df.info()"
   ]
  },
  {
   "cell_type": "code",
   "execution_count": 27,
   "id": "0819a2a3-896e-48a8-98c7-bf609de957d6",
   "metadata": {},
   "outputs": [
    {
     "data": {
      "text/html": [
       "<div>\n",
       "<style scoped>\n",
       "    .dataframe tbody tr th:only-of-type {\n",
       "        vertical-align: middle;\n",
       "    }\n",
       "\n",
       "    .dataframe tbody tr th {\n",
       "        vertical-align: top;\n",
       "    }\n",
       "\n",
       "    .dataframe thead th {\n",
       "        text-align: right;\n",
       "    }\n",
       "</style>\n",
       "<table border=\"1\" class=\"dataframe\">\n",
       "  <thead>\n",
       "    <tr style=\"text-align: right;\">\n",
       "      <th></th>\n",
       "      <th>NDC Description</th>\n",
       "      <th>NDC</th>\n",
       "      <th>NADAC_Per_Unit</th>\n",
       "      <th>Effective Date</th>\n",
       "      <th>Pricing_Unit</th>\n",
       "      <th>Pharmacy_Type_Indicator</th>\n",
       "      <th>OTC</th>\n",
       "      <th>Explanation_Code</th>\n",
       "      <th>Classification_for_Rate_Setting</th>\n",
       "      <th>Corresponding_Generic_Drug_NADAC_Per_Unit</th>\n",
       "      <th>Corresponding_Generic_Drug_Effective_Date</th>\n",
       "      <th>As of Date</th>\n",
       "    </tr>\n",
       "  </thead>\n",
       "  <tbody>\n",
       "    <tr>\n",
       "      <th>0</th>\n",
       "      <td>12HR NASAL DECONGEST ER 120 MG</td>\n",
       "      <td>24385005452</td>\n",
       "      <td>0.28255</td>\n",
       "      <td>2022-12-21</td>\n",
       "      <td>EA</td>\n",
       "      <td>C/I</td>\n",
       "      <td>Y</td>\n",
       "      <td>1</td>\n",
       "      <td>G</td>\n",
       "      <td></td>\n",
       "      <td></td>\n",
       "      <td>2023-01-04</td>\n",
       "    </tr>\n",
       "    <tr>\n",
       "      <th>1</th>\n",
       "      <td>12HR NASAL DECONGEST ER 120 MG</td>\n",
       "      <td>70000047501</td>\n",
       "      <td>0.28255</td>\n",
       "      <td>2022-12-21</td>\n",
       "      <td>EA</td>\n",
       "      <td>C/I</td>\n",
       "      <td>Y</td>\n",
       "      <td>1</td>\n",
       "      <td>G</td>\n",
       "      <td></td>\n",
       "      <td></td>\n",
       "      <td>2023-01-04</td>\n",
       "    </tr>\n",
       "    <tr>\n",
       "      <th>2</th>\n",
       "      <td>24H NASAL ALLERGY 55 MCG SPRAY</td>\n",
       "      <td>46122038576</td>\n",
       "      <td>0.78326</td>\n",
       "      <td>2022-12-21</td>\n",
       "      <td>ML</td>\n",
       "      <td>C/I</td>\n",
       "      <td>Y</td>\n",
       "      <td>1, 5</td>\n",
       "      <td>G</td>\n",
       "      <td></td>\n",
       "      <td></td>\n",
       "      <td>2023-01-04</td>\n",
       "    </tr>\n",
       "    <tr>\n",
       "      <th>3</th>\n",
       "      <td>24HR ALLERGY(LEVOCETIRZN) 5 MG</td>\n",
       "      <td>70000036201</td>\n",
       "      <td>0.15365</td>\n",
       "      <td>2022-12-21</td>\n",
       "      <td>EA</td>\n",
       "      <td>C/I</td>\n",
       "      <td>Y</td>\n",
       "      <td>1</td>\n",
       "      <td>G</td>\n",
       "      <td></td>\n",
       "      <td></td>\n",
       "      <td>2023-01-04</td>\n",
       "    </tr>\n",
       "    <tr>\n",
       "      <th>4</th>\n",
       "      <td>24HR ALLERGY(LEVOCETIRZN) 5 MG</td>\n",
       "      <td>70000036202</td>\n",
       "      <td>0.15365</td>\n",
       "      <td>2022-12-21</td>\n",
       "      <td>EA</td>\n",
       "      <td>C/I</td>\n",
       "      <td>Y</td>\n",
       "      <td>1</td>\n",
       "      <td>G</td>\n",
       "      <td></td>\n",
       "      <td></td>\n",
       "      <td>2023-01-04</td>\n",
       "    </tr>\n",
       "  </tbody>\n",
       "</table>\n",
       "</div>"
      ],
      "text/plain": [
       "                  NDC Description          NDC NADAC_Per_Unit Effective Date  \\\n",
       "0  12HR NASAL DECONGEST ER 120 MG  24385005452        0.28255     2022-12-21   \n",
       "1  12HR NASAL DECONGEST ER 120 MG  70000047501        0.28255     2022-12-21   \n",
       "2  24H NASAL ALLERGY 55 MCG SPRAY  46122038576        0.78326     2022-12-21   \n",
       "3  24HR ALLERGY(LEVOCETIRZN) 5 MG  70000036201        0.15365     2022-12-21   \n",
       "4  24HR ALLERGY(LEVOCETIRZN) 5 MG  70000036202        0.15365     2022-12-21   \n",
       "\n",
       "  Pricing_Unit Pharmacy_Type_Indicator OTC Explanation_Code  \\\n",
       "0           EA                     C/I   Y                1   \n",
       "1           EA                     C/I   Y                1   \n",
       "2           ML                     C/I   Y             1, 5   \n",
       "3           EA                     C/I   Y                1   \n",
       "4           EA                     C/I   Y                1   \n",
       "\n",
       "  Classification_for_Rate_Setting Corresponding_Generic_Drug_NADAC_Per_Unit  \\\n",
       "0                               G                                             \n",
       "1                               G                                             \n",
       "2                               G                                             \n",
       "3                               G                                             \n",
       "4                               G                                             \n",
       "\n",
       "  Corresponding_Generic_Drug_Effective_Date  As of Date  \n",
       "0                                            2023-01-04  \n",
       "1                                            2023-01-04  \n",
       "2                                            2023-01-04  \n",
       "3                                            2023-01-04  \n",
       "4                                            2023-01-04  "
      ]
     },
     "execution_count": 27,
     "metadata": {},
     "output_type": "execute_result"
    }
   ],
   "source": [
    "prices_df.head()"
   ]
  },
  {
   "cell_type": "markdown",
   "id": "9143a717-8e91-4004-b3ae-2adb0bf94122",
   "metadata": {},
   "source": [
    "# Preprocessing"
   ]
  },
  {
   "cell_type": "markdown",
   "id": "d01774b7-0fc0-4ba2-aa6e-f65514226e82",
   "metadata": {},
   "source": [
    "## PreProcess Labels Table"
   ]
  },
  {
   "cell_type": "markdown",
   "id": "585add60-4561-428d-8baf-f142d498f59d",
   "metadata": {},
   "source": [
    "#### Select Columns"
   ]
  },
  {
   "cell_type": "code",
   "execution_count": 28,
   "id": "581268fd-d98f-4632-9dc6-575b3472b6e3",
   "metadata": {},
   "outputs": [],
   "source": [
    "labels_table = pd.DataFrame(labels_df, \n",
    "                            columns = [\"effective_time\",\n",
    "                                       #\"inactive_ingredient\",  # Included in spl_product_data_elements\n",
    "                                       \"purpose\",\n",
    "                                       \"warnings\",  # Combine text with contraindications and precautions\n",
    "                                        #\"questions\",  # Too much missing data\n",
    "                                       \"spl_product_data_elements\",  # Contains both active and inactive ingredients\n",
    "                                        #\"version\",  # Label version, not needed since ndc code captures this information\n",
    "                                        #\"package_label_principal_display_panel\",  # Package label text, redundant information\n",
    "                                        #\"active_ingredient\",  # Included in spl_product_data_elements\n",
    "                                        \"openfda.brand_name\",  # Combine into list with generic\n",
    "                                        \"openfda.generic_name\",  # Combine into list with brand\n",
    "                                        \"openfda.manufacturer_name\",  # Company that produces the drug\n",
    "                                        #\"openfda.product_type\",  # Denotes whether OTC and prescription, and human or animal, redundant with events\n",
    "                                        \"openfda.substance_name\",  # Combine with brand and generic\n",
    "                                        \"openfda.product_ndc\",  # Do NOT tokenize, NDC Product code, use as database key, already a list\n",
    "                                        #\"openfda.package_ndc\",  # Product NDC code plus one extra number for package type, Redundant\n",
    "                                        \"openfda.rxcui\",  # Do NOT tokenize, normed drug code number, retain for database keys\n",
    "                                        \"contraindications\",  # Combine with warnings and precautions\n",
    "                                        \"precautions\"  # Combine with warnings and contraindications\n",
    "                                        ])"
   ]
  },
  {
   "cell_type": "code",
   "execution_count": 29,
   "id": "07ac7a6d-4b5d-4db8-b2e5-08ab6083c197",
   "metadata": {},
   "outputs": [
    {
     "data": {
      "text/html": [
       "<div>\n",
       "<style scoped>\n",
       "    .dataframe tbody tr th:only-of-type {\n",
       "        vertical-align: middle;\n",
       "    }\n",
       "\n",
       "    .dataframe tbody tr th {\n",
       "        vertical-align: top;\n",
       "    }\n",
       "\n",
       "    .dataframe thead th {\n",
       "        text-align: right;\n",
       "    }\n",
       "</style>\n",
       "<table border=\"1\" class=\"dataframe\">\n",
       "  <thead>\n",
       "    <tr style=\"text-align: right;\">\n",
       "      <th></th>\n",
       "      <th>effective_time</th>\n",
       "      <th>purpose</th>\n",
       "      <th>warnings</th>\n",
       "      <th>spl_product_data_elements</th>\n",
       "      <th>openfda.brand_name</th>\n",
       "      <th>openfda.generic_name</th>\n",
       "      <th>openfda.manufacturer_name</th>\n",
       "      <th>openfda.substance_name</th>\n",
       "      <th>openfda.product_ndc</th>\n",
       "      <th>openfda.rxcui</th>\n",
       "      <th>contraindications</th>\n",
       "      <th>precautions</th>\n",
       "    </tr>\n",
       "  </thead>\n",
       "  <tbody>\n",
       "    <tr>\n",
       "      <th>0</th>\n",
       "      <td>20210902</td>\n",
       "      <td>[USES USES: Temporary Relief - Acne, Boils* * ...</td>\n",
       "      <td>[WARNINGS This product is to be used for self-...</td>\n",
       "      <td>[SILICEA SILICEA SUCROSE SILICON DIOXIDE SILIC...</td>\n",
       "      <td>[SILICEA]</td>\n",
       "      <td>[SILICEA]</td>\n",
       "      <td>[Rxhomeo Private Limited d.b.a. Rxhomeo, Inc]</td>\n",
       "      <td>[SILICON DIOXIDE]</td>\n",
       "      <td>[15631-0404]</td>\n",
       "      <td>NaN</td>\n",
       "      <td>NaN</td>\n",
       "      <td>NaN</td>\n",
       "    </tr>\n",
       "    <tr>\n",
       "      <th>1</th>\n",
       "      <td>20150109</td>\n",
       "      <td>[Purpose Sunscreen]</td>\n",
       "      <td>[Warnings For external use only.]</td>\n",
       "      <td>[CHANTECAILLE PROTECTION NATURELLE BRONZE SPF ...</td>\n",
       "      <td>NaN</td>\n",
       "      <td>NaN</td>\n",
       "      <td>NaN</td>\n",
       "      <td>NaN</td>\n",
       "      <td>NaN</td>\n",
       "      <td>NaN</td>\n",
       "      <td>NaN</td>\n",
       "      <td>NaN</td>\n",
       "    </tr>\n",
       "    <tr>\n",
       "      <th>2</th>\n",
       "      <td>20230802</td>\n",
       "      <td>[USES To relieve the symptoms of itching.]</td>\n",
       "      <td>[STOP USE AND ASK DOCTOR If symptoms persist/w...</td>\n",
       "      <td>[Mezereum DAPHNE MEZEREUM BARK SUCROSE LACTOSE...</td>\n",
       "      <td>NaN</td>\n",
       "      <td>NaN</td>\n",
       "      <td>NaN</td>\n",
       "      <td>NaN</td>\n",
       "      <td>NaN</td>\n",
       "      <td>NaN</td>\n",
       "      <td>NaN</td>\n",
       "      <td>NaN</td>\n",
       "    </tr>\n",
       "    <tr>\n",
       "      <th>3</th>\n",
       "      <td>20230905</td>\n",
       "      <td>NaN</td>\n",
       "      <td>[WARNINGS NOT FOR INJECTION. Ofloxacin ophthal...</td>\n",
       "      <td>[Ofloxacin Ofloxacin OFLOXACIN OFLOXACIN Sodiu...</td>\n",
       "      <td>NaN</td>\n",
       "      <td>NaN</td>\n",
       "      <td>NaN</td>\n",
       "      <td>NaN</td>\n",
       "      <td>NaN</td>\n",
       "      <td>NaN</td>\n",
       "      <td>[CONTRAINDICATIONS Ofloxacin ophthalmic soluti...</td>\n",
       "      <td>[PRECAUTIONS General: As with other anti-infec...</td>\n",
       "    </tr>\n",
       "    <tr>\n",
       "      <th>4</th>\n",
       "      <td>20230403</td>\n",
       "      <td>NaN</td>\n",
       "      <td>NaN</td>\n",
       "      <td>[Naproxen Naproxen NAPROXEN NAPROXEN CROSCARME...</td>\n",
       "      <td>[Naproxen]</td>\n",
       "      <td>[NAPROXEN]</td>\n",
       "      <td>[A-S Medication Solutions]</td>\n",
       "      <td>[NAPROXEN]</td>\n",
       "      <td>[50090-0481]</td>\n",
       "      <td>[198014]</td>\n",
       "      <td>[4 CONTRAINDICATIONS Naproxen tablets and napr...</td>\n",
       "      <td>NaN</td>\n",
       "    </tr>\n",
       "  </tbody>\n",
       "</table>\n",
       "</div>"
      ],
      "text/plain": [
       "  effective_time                                            purpose  \\\n",
       "0       20210902  [USES USES: Temporary Relief - Acne, Boils* * ...   \n",
       "1       20150109                                [Purpose Sunscreen]   \n",
       "2       20230802         [USES To relieve the symptoms of itching.]   \n",
       "3       20230905                                                NaN   \n",
       "4       20230403                                                NaN   \n",
       "\n",
       "                                            warnings  \\\n",
       "0  [WARNINGS This product is to be used for self-...   \n",
       "1                  [Warnings For external use only.]   \n",
       "2  [STOP USE AND ASK DOCTOR If symptoms persist/w...   \n",
       "3  [WARNINGS NOT FOR INJECTION. Ofloxacin ophthal...   \n",
       "4                                                NaN   \n",
       "\n",
       "                           spl_product_data_elements openfda.brand_name  \\\n",
       "0  [SILICEA SILICEA SUCROSE SILICON DIOXIDE SILIC...          [SILICEA]   \n",
       "1  [CHANTECAILLE PROTECTION NATURELLE BRONZE SPF ...                NaN   \n",
       "2  [Mezereum DAPHNE MEZEREUM BARK SUCROSE LACTOSE...                NaN   \n",
       "3  [Ofloxacin Ofloxacin OFLOXACIN OFLOXACIN Sodiu...                NaN   \n",
       "4  [Naproxen Naproxen NAPROXEN NAPROXEN CROSCARME...         [Naproxen]   \n",
       "\n",
       "  openfda.generic_name                      openfda.manufacturer_name  \\\n",
       "0            [SILICEA]  [Rxhomeo Private Limited d.b.a. Rxhomeo, Inc]   \n",
       "1                  NaN                                            NaN   \n",
       "2                  NaN                                            NaN   \n",
       "3                  NaN                                            NaN   \n",
       "4           [NAPROXEN]                     [A-S Medication Solutions]   \n",
       "\n",
       "  openfda.substance_name openfda.product_ndc openfda.rxcui  \\\n",
       "0      [SILICON DIOXIDE]        [15631-0404]           NaN   \n",
       "1                    NaN                 NaN           NaN   \n",
       "2                    NaN                 NaN           NaN   \n",
       "3                    NaN                 NaN           NaN   \n",
       "4             [NAPROXEN]        [50090-0481]      [198014]   \n",
       "\n",
       "                                   contraindications  \\\n",
       "0                                                NaN   \n",
       "1                                                NaN   \n",
       "2                                                NaN   \n",
       "3  [CONTRAINDICATIONS Ofloxacin ophthalmic soluti...   \n",
       "4  [4 CONTRAINDICATIONS Naproxen tablets and napr...   \n",
       "\n",
       "                                         precautions  \n",
       "0                                                NaN  \n",
       "1                                                NaN  \n",
       "2                                                NaN  \n",
       "3  [PRECAUTIONS General: As with other anti-infec...  \n",
       "4                                                NaN  "
      ]
     },
     "execution_count": 29,
     "metadata": {},
     "output_type": "execute_result"
    }
   ],
   "source": [
    "labels_table.head()"
   ]
  },
  {
   "cell_type": "markdown",
   "id": "fe23934b-7c8c-4d4e-82ea-673ae5f10696",
   "metadata": {},
   "source": [
    "## LIST OF UNIQUE DRUG NAMES"
   ]
  },
  {
   "cell_type": "markdown",
   "id": "670aba14-517e-42d7-bdd3-6416e51e2ff7",
   "metadata": {},
   "source": [
    "will move functions into functions later"
   ]
  },
  {
   "cell_type": "code",
   "execution_count": 30,
   "id": "5fb0c7a8-e5a6-4b63-a61b-752fd34b53b9",
   "metadata": {},
   "outputs": [],
   "source": [
    "import pandas as pd\n",
    "\n",
    "# drugs are currently in list format, clean to work with\n",
    "def clean_data(column):\n",
    "    cleaned_column = column.apply(lambda x: ','.join(x) if isinstance(x, list) else x)\n",
    "    return cleaned_column\n",
    "\n",
    "# match text\n",
    "def contains_unique_value(text, unique_values_lower):\n",
    "    matched_texts = []\n",
    "    text_lower = text.lower()\n",
    "    for value in unique_values_lower:\n",
    "        if value in text_lower:\n",
    "            matched_texts.append(value)\n",
    "    return matched_texts\n",
    "\n",
    "# use clean_data function to join list together\n",
    "labels_table['openfda.brand_name'] = clean_data(labels_table['openfda.brand_name'])\n",
    "labels_table['openfda.generic_name'] = clean_data(labels_table['openfda.generic_name'])\n",
    "\n",
    "# extract unique list values\n",
    "unique_brand_names = labels_table['openfda.brand_name'].dropna().unique()\n",
    "unique_generic_names = labels_table['openfda.generic_name'].dropna().unique()\n",
    "\n",
    "# combine the brand and generic columns to account for all possibl enames\n",
    "unique_drug_names = set(unique_brand_names).union(set(unique_generic_names))\n",
    "\n",
    "# convert to lowercase, could probably just add to clean data function\n",
    "unique_drug_names = [str(value).lower() for value in unique_drug_names]"
   ]
  },
  {
   "cell_type": "code",
   "execution_count": null,
   "id": "62b85928-2f09-4270-9748-d95b13bc8cca",
   "metadata": {},
   "outputs": [
    {
     "name": "stderr",
     "output_type": "stream",
     "text": [
      "Process SpawnPoolWorker-10:\n",
      "Traceback (most recent call last):\n",
      "  File \"/Users/vicky/opt/anaconda3/lib/python3.8/multiprocessing/process.py\", line 315, in _bootstrap\n",
      "    self.run()\n",
      "  File \"/Users/vicky/opt/anaconda3/lib/python3.8/multiprocessing/process.py\", line 108, in run\n",
      "    self._target(*self._args, **self._kwargs)\n",
      "  File \"/Users/vicky/opt/anaconda3/lib/python3.8/multiprocessing/pool.py\", line 114, in worker\n",
      "    task = get()\n",
      "  File \"/Users/vicky/opt/anaconda3/lib/python3.8/multiprocessing/queues.py\", line 358, in get\n",
      "    return _ForkingPickler.loads(res)\n",
      "AttributeError: Can't get attribute 'clean_data' on <module '__main__' (built-in)>\n",
      "Process SpawnPoolWorker-12:\n",
      "Traceback (most recent call last):\n",
      "  File \"/Users/vicky/opt/anaconda3/lib/python3.8/multiprocessing/process.py\", line 315, in _bootstrap\n",
      "    self.run()\n",
      "  File \"/Users/vicky/opt/anaconda3/lib/python3.8/multiprocessing/process.py\", line 108, in run\n",
      "    self._target(*self._args, **self._kwargs)\n",
      "  File \"/Users/vicky/opt/anaconda3/lib/python3.8/multiprocessing/pool.py\", line 114, in worker\n",
      "    task = get()\n",
      "  File \"/Users/vicky/opt/anaconda3/lib/python3.8/multiprocessing/queues.py\", line 358, in get\n",
      "    return _ForkingPickler.loads(res)\n",
      "AttributeError: Can't get attribute 'clean_data' on <module '__main__' (built-in)>\n",
      "Process SpawnPoolWorker-11:\n",
      "Traceback (most recent call last):\n",
      "  File \"/Users/vicky/opt/anaconda3/lib/python3.8/multiprocessing/process.py\", line 315, in _bootstrap\n",
      "    self.run()\n",
      "  File \"/Users/vicky/opt/anaconda3/lib/python3.8/multiprocessing/process.py\", line 108, in run\n",
      "    self._target(*self._args, **self._kwargs)\n",
      "  File \"/Users/vicky/opt/anaconda3/lib/python3.8/multiprocessing/pool.py\", line 114, in worker\n",
      "    task = get()\n",
      "  File \"/Users/vicky/opt/anaconda3/lib/python3.8/multiprocessing/queues.py\", line 358, in get\n",
      "    return _ForkingPickler.loads(res)\n",
      "AttributeError: Can't get attribute 'clean_data' on <module '__main__' (built-in)>\n",
      "Process SpawnPoolWorker-9:\n",
      "Traceback (most recent call last):\n",
      "  File \"/Users/vicky/opt/anaconda3/lib/python3.8/multiprocessing/process.py\", line 315, in _bootstrap\n",
      "    self.run()\n",
      "  File \"/Users/vicky/opt/anaconda3/lib/python3.8/multiprocessing/process.py\", line 108, in run\n",
      "    self._target(*self._args, **self._kwargs)\n",
      "  File \"/Users/vicky/opt/anaconda3/lib/python3.8/multiprocessing/pool.py\", line 114, in worker\n",
      "    task = get()\n",
      "  File \"/Users/vicky/opt/anaconda3/lib/python3.8/multiprocessing/queues.py\", line 358, in get\n",
      "    return _ForkingPickler.loads(res)\n",
      "AttributeError: Can't get attribute 'clean_data' on <module '__main__' (built-in)>\n",
      "Process SpawnPoolWorker-13:\n",
      "Traceback (most recent call last):\n",
      "  File \"/Users/vicky/opt/anaconda3/lib/python3.8/multiprocessing/process.py\", line 315, in _bootstrap\n",
      "    self.run()\n",
      "  File \"/Users/vicky/opt/anaconda3/lib/python3.8/multiprocessing/process.py\", line 108, in run\n",
      "    self._target(*self._args, **self._kwargs)\n",
      "  File \"/Users/vicky/opt/anaconda3/lib/python3.8/multiprocessing/pool.py\", line 114, in worker\n",
      "    task = get()\n",
      "  File \"/Users/vicky/opt/anaconda3/lib/python3.8/multiprocessing/queues.py\", line 358, in get\n",
      "    return _ForkingPickler.loads(res)\n",
      "AttributeError: Can't get attribute 'clean_data' on <module '__main__' (built-in)>\n",
      "Process SpawnPoolWorker-14:\n",
      "Traceback (most recent call last):\n",
      "  File \"/Users/vicky/opt/anaconda3/lib/python3.8/multiprocessing/process.py\", line 315, in _bootstrap\n",
      "    self.run()\n",
      "  File \"/Users/vicky/opt/anaconda3/lib/python3.8/multiprocessing/process.py\", line 108, in run\n",
      "    self._target(*self._args, **self._kwargs)\n",
      "  File \"/Users/vicky/opt/anaconda3/lib/python3.8/multiprocessing/pool.py\", line 114, in worker\n",
      "    task = get()\n",
      "  File \"/Users/vicky/opt/anaconda3/lib/python3.8/multiprocessing/queues.py\", line 358, in get\n",
      "    return _ForkingPickler.loads(res)\n",
      "AttributeError: Can't get attribute 'clean_data' on <module '__main__' (built-in)>\n",
      "Process SpawnPoolWorker-15:\n",
      "Traceback (most recent call last):\n",
      "  File \"/Users/vicky/opt/anaconda3/lib/python3.8/multiprocessing/process.py\", line 315, in _bootstrap\n",
      "    self.run()\n",
      "  File \"/Users/vicky/opt/anaconda3/lib/python3.8/multiprocessing/process.py\", line 108, in run\n",
      "    self._target(*self._args, **self._kwargs)\n",
      "  File \"/Users/vicky/opt/anaconda3/lib/python3.8/multiprocessing/pool.py\", line 114, in worker\n",
      "    task = get()\n",
      "  File \"/Users/vicky/opt/anaconda3/lib/python3.8/multiprocessing/queues.py\", line 358, in get\n",
      "    return _ForkingPickler.loads(res)\n",
      "AttributeError: Can't get attribute 'clean_data' on <module '__main__' (built-in)>\n",
      "Process SpawnPoolWorker-16:\n",
      "Traceback (most recent call last):\n",
      "  File \"/Users/vicky/opt/anaconda3/lib/python3.8/multiprocessing/process.py\", line 315, in _bootstrap\n",
      "    self.run()\n",
      "  File \"/Users/vicky/opt/anaconda3/lib/python3.8/multiprocessing/process.py\", line 108, in run\n",
      "    self._target(*self._args, **self._kwargs)\n",
      "  File \"/Users/vicky/opt/anaconda3/lib/python3.8/multiprocessing/pool.py\", line 114, in worker\n",
      "    task = get()\n",
      "  File \"/Users/vicky/opt/anaconda3/lib/python3.8/multiprocessing/queues.py\", line 358, in get\n",
      "    return _ForkingPickler.loads(res)\n",
      "AttributeError: Can't get attribute 'clean_data' on <module '__main__' (built-in)>\n",
      "Process SpawnPoolWorker-17:\n",
      "Traceback (most recent call last):\n",
      "  File \"/Users/vicky/opt/anaconda3/lib/python3.8/multiprocessing/process.py\", line 315, in _bootstrap\n",
      "    self.run()\n",
      "  File \"/Users/vicky/opt/anaconda3/lib/python3.8/multiprocessing/process.py\", line 108, in run\n",
      "    self._target(*self._args, **self._kwargs)\n",
      "  File \"/Users/vicky/opt/anaconda3/lib/python3.8/multiprocessing/pool.py\", line 114, in worker\n",
      "    task = get()\n",
      "  File \"/Users/vicky/opt/anaconda3/lib/python3.8/multiprocessing/queues.py\", line 358, in get\n",
      "    return _ForkingPickler.loads(res)\n",
      "AttributeError: Can't get attribute 'clean_data' on <module '__main__' (built-in)>\n",
      "Process SpawnPoolWorker-18:\n",
      "Traceback (most recent call last):\n",
      "  File \"/Users/vicky/opt/anaconda3/lib/python3.8/multiprocessing/process.py\", line 315, in _bootstrap\n",
      "    self.run()\n",
      "  File \"/Users/vicky/opt/anaconda3/lib/python3.8/multiprocessing/process.py\", line 108, in run\n",
      "    self._target(*self._args, **self._kwargs)\n",
      "  File \"/Users/vicky/opt/anaconda3/lib/python3.8/multiprocessing/pool.py\", line 114, in worker\n",
      "    task = get()\n",
      "  File \"/Users/vicky/opt/anaconda3/lib/python3.8/multiprocessing/queues.py\", line 358, in get\n",
      "    return _ForkingPickler.loads(res)\n",
      "AttributeError: Can't get attribute 'clean_data' on <module '__main__' (built-in)>\n",
      "Process SpawnPoolWorker-19:\n",
      "Traceback (most recent call last):\n",
      "  File \"/Users/vicky/opt/anaconda3/lib/python3.8/multiprocessing/process.py\", line 315, in _bootstrap\n",
      "    self.run()\n",
      "  File \"/Users/vicky/opt/anaconda3/lib/python3.8/multiprocessing/process.py\", line 108, in run\n",
      "    self._target(*self._args, **self._kwargs)\n",
      "  File \"/Users/vicky/opt/anaconda3/lib/python3.8/multiprocessing/pool.py\", line 114, in worker\n",
      "    task = get()\n",
      "  File \"/Users/vicky/opt/anaconda3/lib/python3.8/multiprocessing/queues.py\", line 358, in get\n",
      "    return _ForkingPickler.loads(res)\n",
      "AttributeError: Can't get attribute 'clean_data' on <module '__main__' (built-in)>\n",
      "Process SpawnPoolWorker-20:\n",
      "Traceback (most recent call last):\n",
      "  File \"/Users/vicky/opt/anaconda3/lib/python3.8/multiprocessing/process.py\", line 315, in _bootstrap\n",
      "    self.run()\n",
      "  File \"/Users/vicky/opt/anaconda3/lib/python3.8/multiprocessing/process.py\", line 108, in run\n",
      "    self._target(*self._args, **self._kwargs)\n",
      "  File \"/Users/vicky/opt/anaconda3/lib/python3.8/multiprocessing/pool.py\", line 114, in worker\n",
      "    task = get()\n",
      "  File \"/Users/vicky/opt/anaconda3/lib/python3.8/multiprocessing/queues.py\", line 358, in get\n",
      "    return _ForkingPickler.loads(res)\n",
      "AttributeError: Can't get attribute 'clean_data' on <module '__main__' (built-in)>\n",
      "Process SpawnPoolWorker-21:\n",
      "Traceback (most recent call last):\n",
      "  File \"/Users/vicky/opt/anaconda3/lib/python3.8/multiprocessing/process.py\", line 315, in _bootstrap\n",
      "    self.run()\n",
      "  File \"/Users/vicky/opt/anaconda3/lib/python3.8/multiprocessing/process.py\", line 108, in run\n",
      "    self._target(*self._args, **self._kwargs)\n",
      "  File \"/Users/vicky/opt/anaconda3/lib/python3.8/multiprocessing/pool.py\", line 114, in worker\n",
      "    task = get()\n",
      "  File \"/Users/vicky/opt/anaconda3/lib/python3.8/multiprocessing/queues.py\", line 358, in get\n",
      "    return _ForkingPickler.loads(res)\n",
      "AttributeError: Can't get attribute 'clean_data' on <module '__main__' (built-in)>\n",
      "Process SpawnPoolWorker-22:\n",
      "Traceback (most recent call last):\n",
      "  File \"/Users/vicky/opt/anaconda3/lib/python3.8/multiprocessing/process.py\", line 315, in _bootstrap\n",
      "    self.run()\n",
      "  File \"/Users/vicky/opt/anaconda3/lib/python3.8/multiprocessing/process.py\", line 108, in run\n",
      "    self._target(*self._args, **self._kwargs)\n",
      "  File \"/Users/vicky/opt/anaconda3/lib/python3.8/multiprocessing/pool.py\", line 114, in worker\n",
      "    task = get()\n",
      "  File \"/Users/vicky/opt/anaconda3/lib/python3.8/multiprocessing/queues.py\", line 358, in get\n",
      "    return _ForkingPickler.loads(res)\n",
      "AttributeError: Can't get attribute 'clean_data' on <module '__main__' (built-in)>\n",
      "Process SpawnPoolWorker-23:\n",
      "Traceback (most recent call last):\n",
      "  File \"/Users/vicky/opt/anaconda3/lib/python3.8/multiprocessing/process.py\", line 315, in _bootstrap\n",
      "    self.run()\n",
      "  File \"/Users/vicky/opt/anaconda3/lib/python3.8/multiprocessing/process.py\", line 108, in run\n",
      "    self._target(*self._args, **self._kwargs)\n",
      "  File \"/Users/vicky/opt/anaconda3/lib/python3.8/multiprocessing/pool.py\", line 114, in worker\n",
      "    task = get()\n",
      "  File \"/Users/vicky/opt/anaconda3/lib/python3.8/multiprocessing/queues.py\", line 358, in get\n",
      "    return _ForkingPickler.loads(res)\n",
      "AttributeError: Can't get attribute 'clean_data' on <module '__main__' (built-in)>\n",
      "Process SpawnPoolWorker-24:\n",
      "Traceback (most recent call last):\n",
      "  File \"/Users/vicky/opt/anaconda3/lib/python3.8/multiprocessing/process.py\", line 315, in _bootstrap\n",
      "    self.run()\n",
      "  File \"/Users/vicky/opt/anaconda3/lib/python3.8/multiprocessing/process.py\", line 108, in run\n",
      "    self._target(*self._args, **self._kwargs)\n",
      "  File \"/Users/vicky/opt/anaconda3/lib/python3.8/multiprocessing/pool.py\", line 114, in worker\n",
      "    task = get()\n",
      "  File \"/Users/vicky/opt/anaconda3/lib/python3.8/multiprocessing/queues.py\", line 358, in get\n",
      "    return _ForkingPickler.loads(res)\n",
      "AttributeError: Can't get attribute 'clean_data' on <module '__main__' (built-in)>\n",
      "Process SpawnPoolWorker-25:\n",
      "Traceback (most recent call last):\n",
      "  File \"/Users/vicky/opt/anaconda3/lib/python3.8/multiprocessing/process.py\", line 315, in _bootstrap\n",
      "    self.run()\n",
      "  File \"/Users/vicky/opt/anaconda3/lib/python3.8/multiprocessing/process.py\", line 108, in run\n",
      "    self._target(*self._args, **self._kwargs)\n",
      "  File \"/Users/vicky/opt/anaconda3/lib/python3.8/multiprocessing/pool.py\", line 114, in worker\n",
      "    task = get()\n",
      "  File \"/Users/vicky/opt/anaconda3/lib/python3.8/multiprocessing/queues.py\", line 358, in get\n",
      "    return _ForkingPickler.loads(res)\n",
      "AttributeError: Can't get attribute 'clean_data' on <module '__main__' (built-in)>\n",
      "Process SpawnPoolWorker-26:\n",
      "Traceback (most recent call last):\n",
      "  File \"/Users/vicky/opt/anaconda3/lib/python3.8/multiprocessing/process.py\", line 315, in _bootstrap\n",
      "    self.run()\n",
      "  File \"/Users/vicky/opt/anaconda3/lib/python3.8/multiprocessing/process.py\", line 108, in run\n",
      "    self._target(*self._args, **self._kwargs)\n",
      "  File \"/Users/vicky/opt/anaconda3/lib/python3.8/multiprocessing/pool.py\", line 114, in worker\n",
      "    task = get()\n",
      "  File \"/Users/vicky/opt/anaconda3/lib/python3.8/multiprocessing/queues.py\", line 358, in get\n",
      "    return _ForkingPickler.loads(res)\n",
      "AttributeError: Can't get attribute 'clean_data' on <module '__main__' (built-in)>\n",
      "Process SpawnPoolWorker-27:\n",
      "Traceback (most recent call last):\n",
      "  File \"/Users/vicky/opt/anaconda3/lib/python3.8/multiprocessing/process.py\", line 315, in _bootstrap\n",
      "    self.run()\n",
      "  File \"/Users/vicky/opt/anaconda3/lib/python3.8/multiprocessing/process.py\", line 108, in run\n",
      "    self._target(*self._args, **self._kwargs)\n",
      "  File \"/Users/vicky/opt/anaconda3/lib/python3.8/multiprocessing/pool.py\", line 114, in worker\n",
      "    task = get()\n",
      "  File \"/Users/vicky/opt/anaconda3/lib/python3.8/multiprocessing/queues.py\", line 358, in get\n",
      "    return _ForkingPickler.loads(res)\n",
      "AttributeError: Can't get attribute 'clean_data' on <module '__main__' (built-in)>\n",
      "Process SpawnPoolWorker-28:\n",
      "Traceback (most recent call last):\n",
      "  File \"/Users/vicky/opt/anaconda3/lib/python3.8/multiprocessing/process.py\", line 315, in _bootstrap\n",
      "    self.run()\n",
      "  File \"/Users/vicky/opt/anaconda3/lib/python3.8/multiprocessing/process.py\", line 108, in run\n",
      "    self._target(*self._args, **self._kwargs)\n",
      "  File \"/Users/vicky/opt/anaconda3/lib/python3.8/multiprocessing/pool.py\", line 114, in worker\n",
      "    task = get()\n",
      "  File \"/Users/vicky/opt/anaconda3/lib/python3.8/multiprocessing/queues.py\", line 358, in get\n",
      "    return _ForkingPickler.loads(res)\n",
      "AttributeError: Can't get attribute 'clean_data' on <module '__main__' (built-in)>\n",
      "Process SpawnPoolWorker-29:\n",
      "Traceback (most recent call last):\n",
      "  File \"/Users/vicky/opt/anaconda3/lib/python3.8/multiprocessing/process.py\", line 315, in _bootstrap\n",
      "    self.run()\n",
      "  File \"/Users/vicky/opt/anaconda3/lib/python3.8/multiprocessing/process.py\", line 108, in run\n",
      "    self._target(*self._args, **self._kwargs)\n",
      "  File \"/Users/vicky/opt/anaconda3/lib/python3.8/multiprocessing/pool.py\", line 114, in worker\n",
      "    task = get()\n",
      "  File \"/Users/vicky/opt/anaconda3/lib/python3.8/multiprocessing/queues.py\", line 358, in get\n",
      "    return _ForkingPickler.loads(res)\n",
      "AttributeError: Can't get attribute 'clean_data' on <module '__main__' (built-in)>\n",
      "Process SpawnPoolWorker-30:\n",
      "Traceback (most recent call last):\n",
      "  File \"/Users/vicky/opt/anaconda3/lib/python3.8/multiprocessing/process.py\", line 315, in _bootstrap\n",
      "    self.run()\n",
      "  File \"/Users/vicky/opt/anaconda3/lib/python3.8/multiprocessing/process.py\", line 108, in run\n",
      "    self._target(*self._args, **self._kwargs)\n",
      "  File \"/Users/vicky/opt/anaconda3/lib/python3.8/multiprocessing/pool.py\", line 114, in worker\n",
      "    task = get()\n",
      "  File \"/Users/vicky/opt/anaconda3/lib/python3.8/multiprocessing/queues.py\", line 358, in get\n",
      "    return _ForkingPickler.loads(res)\n",
      "AttributeError: Can't get attribute 'clean_data' on <module '__main__' (built-in)>\n",
      "Process SpawnPoolWorker-31:\n",
      "Traceback (most recent call last):\n",
      "  File \"/Users/vicky/opt/anaconda3/lib/python3.8/multiprocessing/process.py\", line 315, in _bootstrap\n",
      "    self.run()\n",
      "  File \"/Users/vicky/opt/anaconda3/lib/python3.8/multiprocessing/process.py\", line 108, in run\n",
      "    self._target(*self._args, **self._kwargs)\n",
      "  File \"/Users/vicky/opt/anaconda3/lib/python3.8/multiprocessing/pool.py\", line 114, in worker\n",
      "    task = get()\n",
      "  File \"/Users/vicky/opt/anaconda3/lib/python3.8/multiprocessing/queues.py\", line 358, in get\n",
      "    return _ForkingPickler.loads(res)\n",
      "AttributeError: Can't get attribute 'clean_data' on <module '__main__' (built-in)>\n",
      "Process SpawnPoolWorker-32:\n",
      "Traceback (most recent call last):\n",
      "  File \"/Users/vicky/opt/anaconda3/lib/python3.8/multiprocessing/process.py\", line 315, in _bootstrap\n",
      "    self.run()\n",
      "  File \"/Users/vicky/opt/anaconda3/lib/python3.8/multiprocessing/process.py\", line 108, in run\n",
      "    self._target(*self._args, **self._kwargs)\n",
      "  File \"/Users/vicky/opt/anaconda3/lib/python3.8/multiprocessing/pool.py\", line 114, in worker\n",
      "    task = get()\n",
      "  File \"/Users/vicky/opt/anaconda3/lib/python3.8/multiprocessing/queues.py\", line 358, in get\n",
      "    return _ForkingPickler.loads(res)\n",
      "AttributeError: Can't get attribute 'clean_data' on <module '__main__' (built-in)>\n",
      "Process SpawnPoolWorker-33:\n",
      "Traceback (most recent call last):\n",
      "  File \"/Users/vicky/opt/anaconda3/lib/python3.8/multiprocessing/process.py\", line 315, in _bootstrap\n",
      "    self.run()\n",
      "  File \"/Users/vicky/opt/anaconda3/lib/python3.8/multiprocessing/process.py\", line 108, in run\n",
      "    self._target(*self._args, **self._kwargs)\n",
      "  File \"/Users/vicky/opt/anaconda3/lib/python3.8/multiprocessing/pool.py\", line 114, in worker\n",
      "    task = get()\n",
      "  File \"/Users/vicky/opt/anaconda3/lib/python3.8/multiprocessing/queues.py\", line 358, in get\n",
      "    return _ForkingPickler.loads(res)\n",
      "AttributeError: Can't get attribute 'clean_data' on <module '__main__' (built-in)>\n",
      "Process SpawnPoolWorker-34:\n",
      "Traceback (most recent call last):\n",
      "  File \"/Users/vicky/opt/anaconda3/lib/python3.8/multiprocessing/process.py\", line 315, in _bootstrap\n",
      "    self.run()\n",
      "  File \"/Users/vicky/opt/anaconda3/lib/python3.8/multiprocessing/process.py\", line 108, in run\n",
      "    self._target(*self._args, **self._kwargs)\n",
      "  File \"/Users/vicky/opt/anaconda3/lib/python3.8/multiprocessing/pool.py\", line 114, in worker\n",
      "    task = get()\n",
      "  File \"/Users/vicky/opt/anaconda3/lib/python3.8/multiprocessing/queues.py\", line 358, in get\n",
      "    return _ForkingPickler.loads(res)\n",
      "AttributeError: Can't get attribute 'clean_data' on <module '__main__' (built-in)>\n",
      "Process SpawnPoolWorker-35:\n",
      "Traceback (most recent call last):\n",
      "  File \"/Users/vicky/opt/anaconda3/lib/python3.8/multiprocessing/process.py\", line 315, in _bootstrap\n",
      "    self.run()\n",
      "  File \"/Users/vicky/opt/anaconda3/lib/python3.8/multiprocessing/process.py\", line 108, in run\n",
      "    self._target(*self._args, **self._kwargs)\n",
      "  File \"/Users/vicky/opt/anaconda3/lib/python3.8/multiprocessing/pool.py\", line 114, in worker\n",
      "    task = get()\n",
      "  File \"/Users/vicky/opt/anaconda3/lib/python3.8/multiprocessing/queues.py\", line 358, in get\n",
      "    return _ForkingPickler.loads(res)\n",
      "AttributeError: Can't get attribute 'clean_data' on <module '__main__' (built-in)>\n",
      "Process SpawnPoolWorker-36:\n",
      "Traceback (most recent call last):\n",
      "  File \"/Users/vicky/opt/anaconda3/lib/python3.8/multiprocessing/process.py\", line 315, in _bootstrap\n",
      "    self.run()\n",
      "  File \"/Users/vicky/opt/anaconda3/lib/python3.8/multiprocessing/process.py\", line 108, in run\n",
      "    self._target(*self._args, **self._kwargs)\n",
      "  File \"/Users/vicky/opt/anaconda3/lib/python3.8/multiprocessing/pool.py\", line 114, in worker\n",
      "    task = get()\n",
      "  File \"/Users/vicky/opt/anaconda3/lib/python3.8/multiprocessing/queues.py\", line 358, in get\n",
      "    return _ForkingPickler.loads(res)\n",
      "AttributeError: Can't get attribute 'clean_data' on <module '__main__' (built-in)>\n",
      "Process SpawnPoolWorker-37:\n",
      "Traceback (most recent call last):\n",
      "  File \"/Users/vicky/opt/anaconda3/lib/python3.8/multiprocessing/process.py\", line 315, in _bootstrap\n",
      "    self.run()\n",
      "  File \"/Users/vicky/opt/anaconda3/lib/python3.8/multiprocessing/process.py\", line 108, in run\n",
      "    self._target(*self._args, **self._kwargs)\n",
      "  File \"/Users/vicky/opt/anaconda3/lib/python3.8/multiprocessing/pool.py\", line 114, in worker\n",
      "    task = get()\n",
      "  File \"/Users/vicky/opt/anaconda3/lib/python3.8/multiprocessing/queues.py\", line 358, in get\n",
      "    return _ForkingPickler.loads(res)\n",
      "AttributeError: Can't get attribute 'clean_data' on <module '__main__' (built-in)>\n",
      "Process SpawnPoolWorker-38:\n",
      "Traceback (most recent call last):\n",
      "  File \"/Users/vicky/opt/anaconda3/lib/python3.8/multiprocessing/process.py\", line 315, in _bootstrap\n",
      "    self.run()\n",
      "  File \"/Users/vicky/opt/anaconda3/lib/python3.8/multiprocessing/process.py\", line 108, in run\n",
      "    self._target(*self._args, **self._kwargs)\n",
      "  File \"/Users/vicky/opt/anaconda3/lib/python3.8/multiprocessing/pool.py\", line 114, in worker\n",
      "    task = get()\n",
      "  File \"/Users/vicky/opt/anaconda3/lib/python3.8/multiprocessing/queues.py\", line 358, in get\n",
      "    return _ForkingPickler.loads(res)\n",
      "AttributeError: Can't get attribute 'clean_data' on <module '__main__' (built-in)>\n",
      "Process SpawnPoolWorker-39:\n",
      "Traceback (most recent call last):\n",
      "  File \"/Users/vicky/opt/anaconda3/lib/python3.8/multiprocessing/process.py\", line 315, in _bootstrap\n",
      "    self.run()\n",
      "  File \"/Users/vicky/opt/anaconda3/lib/python3.8/multiprocessing/process.py\", line 108, in run\n",
      "    self._target(*self._args, **self._kwargs)\n",
      "  File \"/Users/vicky/opt/anaconda3/lib/python3.8/multiprocessing/pool.py\", line 114, in worker\n",
      "    task = get()\n",
      "  File \"/Users/vicky/opt/anaconda3/lib/python3.8/multiprocessing/queues.py\", line 358, in get\n",
      "    return _ForkingPickler.loads(res)\n",
      "AttributeError: Can't get attribute 'clean_data' on <module '__main__' (built-in)>\n",
      "Process SpawnPoolWorker-40:\n",
      "Traceback (most recent call last):\n",
      "  File \"/Users/vicky/opt/anaconda3/lib/python3.8/multiprocessing/process.py\", line 315, in _bootstrap\n",
      "    self.run()\n",
      "  File \"/Users/vicky/opt/anaconda3/lib/python3.8/multiprocessing/process.py\", line 108, in run\n",
      "    self._target(*self._args, **self._kwargs)\n",
      "  File \"/Users/vicky/opt/anaconda3/lib/python3.8/multiprocessing/pool.py\", line 114, in worker\n",
      "    task = get()\n",
      "  File \"/Users/vicky/opt/anaconda3/lib/python3.8/multiprocessing/queues.py\", line 358, in get\n",
      "    return _ForkingPickler.loads(res)\n",
      "AttributeError: Can't get attribute 'clean_data' on <module '__main__' (built-in)>\n"
     ]
    }
   ],
   "source": [
    "# Incorporate parallel processing - need to finish\n",
    "# Create a pool with the same number of workers as CPU cores\n",
    "with multiprocessing.Pool(num_cores) as p:\n",
    "    result['var'] = p.map(clean_data, labels_table['openfda.brand_name'])"
   ]
  },
  {
   "cell_type": "markdown",
   "id": "92c0019a-d199-433e-961b-421d1e93c912",
   "metadata": {},
   "source": [
    "### Examine Nulls"
   ]
  },
  {
   "cell_type": "code",
   "execution_count": 32,
   "id": "19b644da-111c-4db1-b5fc-704a94f9de50",
   "metadata": {},
   "outputs": [
    {
     "data": {
      "text/html": [
       "<div>\n",
       "<style scoped>\n",
       "    .dataframe tbody tr th:only-of-type {\n",
       "        vertical-align: middle;\n",
       "    }\n",
       "\n",
       "    .dataframe tbody tr th {\n",
       "        vertical-align: top;\n",
       "    }\n",
       "\n",
       "    .dataframe thead th {\n",
       "        text-align: right;\n",
       "    }\n",
       "</style>\n",
       "<table border=\"1\" class=\"dataframe\">\n",
       "  <thead>\n",
       "    <tr style=\"text-align: right;\">\n",
       "      <th></th>\n",
       "      <th>column_name</th>\n",
       "      <th>null_count</th>\n",
       "      <th>null_proportion</th>\n",
       "    </tr>\n",
       "  </thead>\n",
       "  <tbody>\n",
       "    <tr>\n",
       "      <th>0</th>\n",
       "      <td>effective_time</td>\n",
       "      <td>0</td>\n",
       "      <td>0.00</td>\n",
       "    </tr>\n",
       "    <tr>\n",
       "      <th>1</th>\n",
       "      <td>purpose</td>\n",
       "      <td>810</td>\n",
       "      <td>40.50</td>\n",
       "    </tr>\n",
       "    <tr>\n",
       "      <th>2</th>\n",
       "      <td>warnings</td>\n",
       "      <td>416</td>\n",
       "      <td>20.80</td>\n",
       "    </tr>\n",
       "    <tr>\n",
       "      <th>3</th>\n",
       "      <td>spl_product_data_elements</td>\n",
       "      <td>1</td>\n",
       "      <td>0.05</td>\n",
       "    </tr>\n",
       "    <tr>\n",
       "      <th>4</th>\n",
       "      <td>openfda.brand_name</td>\n",
       "      <td>1021</td>\n",
       "      <td>51.05</td>\n",
       "    </tr>\n",
       "    <tr>\n",
       "      <th>5</th>\n",
       "      <td>openfda.generic_name</td>\n",
       "      <td>1021</td>\n",
       "      <td>51.05</td>\n",
       "    </tr>\n",
       "    <tr>\n",
       "      <th>6</th>\n",
       "      <td>openfda.manufacturer_name</td>\n",
       "      <td>1021</td>\n",
       "      <td>51.05</td>\n",
       "    </tr>\n",
       "    <tr>\n",
       "      <th>7</th>\n",
       "      <td>openfda.substance_name</td>\n",
       "      <td>1031</td>\n",
       "      <td>51.55</td>\n",
       "    </tr>\n",
       "    <tr>\n",
       "      <th>8</th>\n",
       "      <td>openfda.product_ndc</td>\n",
       "      <td>1021</td>\n",
       "      <td>51.05</td>\n",
       "    </tr>\n",
       "    <tr>\n",
       "      <th>9</th>\n",
       "      <td>openfda.rxcui</td>\n",
       "      <td>1268</td>\n",
       "      <td>63.40</td>\n",
       "    </tr>\n",
       "    <tr>\n",
       "      <th>10</th>\n",
       "      <td>contraindications</td>\n",
       "      <td>1248</td>\n",
       "      <td>62.40</td>\n",
       "    </tr>\n",
       "    <tr>\n",
       "      <th>11</th>\n",
       "      <td>precautions</td>\n",
       "      <td>1581</td>\n",
       "      <td>79.05</td>\n",
       "    </tr>\n",
       "  </tbody>\n",
       "</table>\n",
       "</div>"
      ],
      "text/plain": [
       "                  column_name  null_count  null_proportion\n",
       "0              effective_time           0             0.00\n",
       "1                     purpose         810            40.50\n",
       "2                    warnings         416            20.80\n",
       "3   spl_product_data_elements           1             0.05\n",
       "4          openfda.brand_name        1021            51.05\n",
       "5        openfda.generic_name        1021            51.05\n",
       "6   openfda.manufacturer_name        1021            51.05\n",
       "7      openfda.substance_name        1031            51.55\n",
       "8         openfda.product_ndc        1021            51.05\n",
       "9               openfda.rxcui        1268            63.40\n",
       "10          contraindications        1248            62.40\n",
       "11                precautions        1581            79.05"
      ]
     },
     "execution_count": 32,
     "metadata": {},
     "output_type": "execute_result"
    }
   ],
   "source": [
    "labels_nan = nan_info(labels_table)\n",
    "labels_nan"
   ]
  },
  {
   "cell_type": "markdown",
   "id": "2a184b90-0cd3-4a28-bad6-1c357423ae71",
   "metadata": {},
   "source": [
    "### Fix Dtypes"
   ]
  },
  {
   "cell_type": "code",
   "execution_count": null,
   "id": "92c79508-a1aa-4d62-a4e7-da83df76a6b6",
   "metadata": {},
   "outputs": [],
   "source": [
    "labels_table['effective_time'] = pd.to_datetime(labels_table['effective_time'], format='%Y%m%d')"
   ]
  },
  {
   "cell_type": "markdown",
   "id": "81c531f9-948e-498b-9b9f-4f94032ddc79",
   "metadata": {},
   "source": [
    "### Process Text Columns"
   ]
  },
  {
   "cell_type": "markdown",
   "id": "61083c97-ba0b-42e2-a90e-c56776d47e8e",
   "metadata": {},
   "source": [
    "<span style=\"background-color:yellow\">**Delete below chunk after multiprocessing works. Kept original for now to avoid errors**</span>\n"
   ]
  },
  {
   "cell_type": "code",
   "execution_count": null,
   "id": "96942942-aa70-4efb-a5bc-69d092161156",
   "metadata": {},
   "outputs": [],
   "source": [
    "# Define text columns\n",
    "object_columns = labels_table.select_dtypes(include=['object']).columns\n",
    "\n",
    "# Exclude columns that should not be tokenized, index codes\n",
    "object_columns = object_columns.drop(['label_id', 'openfda.product_ndc', 'openfda.rxcui'], errors='ignore')\n",
    "labels_table[object_columns] = labels_table[object_columns].astype(str)\n",
    "\n",
    "# Apply text processing to the selected text columns and add new processed columns to dataframe\n",
    "for col in object_columns:\n",
    "    new_col_name = col + '_processed'\n",
    "    labels_table[new_col_name] = labels_table[col].apply(process_label_text)"
   ]
  },
  {
   "cell_type": "code",
   "execution_count": null,
   "id": "20dc9e1f-a053-4e22-95cf-5d67bcfeabae",
   "metadata": {},
   "outputs": [],
   "source": [
    "# Define text columns\n",
    "object_columns = labels_table.select_dtypes(include=['object']).columns\n",
    "\n",
    "# Exclude columns that should not be tokenized, index codes\n",
    "object_columns = object_columns.drop(['label_id', 'openfda.product_ndc', 'openfda.rxcui'], errors='ignore')\n",
    "labels_table[object_columns] = labels_table[object_columns].astype(str)\n",
    "\n",
    "# Apply text processing to the selected text columns and add new processed columns to dataframe\n",
    "with multiprocessing.Pool(num_cores) as p:\n",
    "    for col in object_columns:\n",
    "        new_col_name = col + '_processed'\n",
    "    # Incorporate parallel processing - need to finish\n",
    "    # Create a pool with the same number of workers as CPU cores\n",
    "        labels_table[new_col_name] = p.map(process_label_text, labels_table[col])"
   ]
  },
  {
   "cell_type": "markdown",
   "id": "577068ab-f113-4788-8d21-6cb9ddd73ea3",
   "metadata": {},
   "source": [
    "### Examine all variables for quality, content, and redundancy"
   ]
  },
  {
   "cell_type": "code",
   "execution_count": null,
   "id": "db34c299-72c6-4759-849b-892eecc4b667",
   "metadata": {},
   "outputs": [],
   "source": [
    "#labels_table['spl_product_data_elements_processed'].head(5)"
   ]
  },
  {
   "cell_type": "code",
   "execution_count": null,
   "id": "8b7e6caf-7316-4c84-9a30-bb66edff4804",
   "metadata": {},
   "outputs": [],
   "source": [
    "#labels_table['purpose'].head()"
   ]
  },
  {
   "cell_type": "code",
   "execution_count": null,
   "id": "f2e3ffed-b40b-45ff-a20e-ca3554f6d8ce",
   "metadata": {},
   "outputs": [],
   "source": [
    "#labels_table['purpose_processed'].info()"
   ]
  },
  {
   "cell_type": "code",
   "execution_count": null,
   "id": "3ce47173-7682-4aef-a94e-38fd405e3fd5",
   "metadata": {},
   "outputs": [],
   "source": [
    "#labels_table['purpose_processed'].head(5)"
   ]
  },
  {
   "cell_type": "code",
   "execution_count": null,
   "id": "a5d1a078-e543-4036-9754-9f2cd4b8f4fd",
   "metadata": {},
   "outputs": [],
   "source": [
    "#labels_table['warnings'].head()"
   ]
  },
  {
   "cell_type": "code",
   "execution_count": null,
   "id": "894c82c9-cc63-4ada-b1bf-d7ac5cd04ebc",
   "metadata": {},
   "outputs": [],
   "source": [
    "#labels_table['warnings_processed'].head()"
   ]
  },
  {
   "cell_type": "code",
   "execution_count": null,
   "id": "b4e9d5d3-1032-440e-8030-80fdd8769886",
   "metadata": {},
   "outputs": [],
   "source": [
    "#labels_table['contraindications'].head()"
   ]
  },
  {
   "cell_type": "code",
   "execution_count": null,
   "id": "e03f6be9-3277-431c-88e9-3c8e62f58c61",
   "metadata": {},
   "outputs": [],
   "source": [
    "#labels_table['contraindications_processed'].head()"
   ]
  },
  {
   "cell_type": "code",
   "execution_count": null,
   "id": "f92f971e-f933-4591-a6fa-06189f1b34e8",
   "metadata": {},
   "outputs": [],
   "source": [
    "#labels_table['precautions'].head()"
   ]
  },
  {
   "cell_type": "code",
   "execution_count": null,
   "id": "4fd41024-b7da-4f0e-bc60-f759c5d78365",
   "metadata": {},
   "outputs": [],
   "source": [
    "#labels_table['precautions_processed'].head()"
   ]
  },
  {
   "cell_type": "code",
   "execution_count": null,
   "id": "18369ea2-e18c-45fd-9101-e0ae61fcc4aa",
   "metadata": {},
   "outputs": [],
   "source": [
    "#labels_table['openfda.brand_name_processed'].head()"
   ]
  },
  {
   "cell_type": "code",
   "execution_count": null,
   "id": "ec70dc04-f578-4f44-bdd2-1f51270e3728",
   "metadata": {},
   "outputs": [],
   "source": [
    "#labels_table['openfda.generic_name_processed'].head()"
   ]
  },
  {
   "cell_type": "code",
   "execution_count": null,
   "id": "52410717-0977-4154-8352-5fbefdef1182",
   "metadata": {},
   "outputs": [],
   "source": [
    "#labels_table['openfda.manufacturer_name_processed'].head()"
   ]
  },
  {
   "cell_type": "code",
   "execution_count": null,
   "id": "016454b9-156b-4c9d-98cb-70a78892b0e2",
   "metadata": {},
   "outputs": [],
   "source": [
    "#labels_table['openfda.product_type_processed'].head()"
   ]
  },
  {
   "cell_type": "code",
   "execution_count": null,
   "id": "2d28cb18-8a53-4eaf-b117-eb4f563f3903",
   "metadata": {},
   "outputs": [],
   "source": [
    "#labels_table['openfda.substance_name_processed'].head()"
   ]
  },
  {
   "cell_type": "code",
   "execution_count": null,
   "id": "134e7d9a-adb2-4797-b2f1-0041e7a7f83e",
   "metadata": {},
   "outputs": [],
   "source": [
    "#labels_table['openfda.product_ndc'].head()"
   ]
  },
  {
   "cell_type": "markdown",
   "id": "9297339d-f4fe-4175-992d-17f426a00f9e",
   "metadata": {},
   "source": [
    "### Feature Creation for Labels Data"
   ]
  },
  {
   "cell_type": "code",
   "execution_count": null,
   "id": "ff8ab2ac-5a96-4916-aad6-b719a3d9edae",
   "metadata": {},
   "outputs": [],
   "source": [
    "# Add index column\n",
    "labels_table = add_sequential_index(labels_table,'label_id')\n",
    "\n",
    "# Combine warnings, contraindications, and precautions text\n",
    "labels_table['all_warnings_processed'] = labels_table['warnings_processed'] + labels_table['contraindications_processed'] + labels_table['precautions_processed']\n",
    "# Remove duplicate tokens from combination list\n",
    "labels_table['all_warnings_processed'] = labels_table['all_warnings_processed'].apply(remove_duplicates_nan)\n",
    " \n",
    "# Combine brand name, generic name, and substance name\n",
    "labels_table['all_name_processed'] = labels_table['openfda.brand_name_processed'] + labels_table['openfda.generic_name_processed'] + labels_table['openfda.substance_name_processed']\n",
    "# Remove duplicate tokens to retain unique descriptors only\n",
    "labels_table['all_name_processed'] = labels_table['all_name_processed'].apply(remove_duplicates_nan)"
   ]
  },
  {
   "cell_type": "markdown",
   "id": "88a24842-450c-44a1-8f26-dccad9a99cb8",
   "metadata": {},
   "source": [
    "### Final List of Features for Labels Data"
   ]
  },
  {
   "cell_type": "code",
   "execution_count": null,
   "id": "6b7a3d9c-b774-42f8-8543-93d1b0387cc0",
   "metadata": {},
   "outputs": [],
   "source": [
    "labels_table.columns"
   ]
  },
  {
   "cell_type": "code",
   "execution_count": null,
   "id": "58d4787e-b241-485b-891b-cbf591de28cb",
   "metadata": {},
   "outputs": [],
   "source": [
    "labels_table = labels_table[['label_id', \n",
    "                             'openfda.product_ndc',\n",
    "                             'openfda.rxcui',\n",
    "                             'effective_time',\n",
    "                            'spl_product_data_elements_processed', \n",
    "                             'all_warnings_processed', \n",
    "                             'all_name_processed', \n",
    "                            'purpose_processed']]"
   ]
  },
  {
   "cell_type": "code",
   "execution_count": null,
   "id": "83c14227-0ee5-4a10-9641-6f3838b25ff4",
   "metadata": {},
   "outputs": [],
   "source": [
    "labels_table.head(2)"
   ]
  },
  {
   "cell_type": "markdown",
   "id": "659c6aed-8a92-42a3-9f46-ece321d968d4",
   "metadata": {},
   "source": [
    "### Assess Text Field Lengths"
   ]
  },
  {
   "cell_type": "code",
   "execution_count": null,
   "id": "ce4b4cc6-263c-4467-9249-3f73930c8c5a",
   "metadata": {},
   "outputs": [],
   "source": [
    "plot_character_length(labels_table, 'labels_table')"
   ]
  },
  {
   "cell_type": "markdown",
   "id": "b909fe7e-2f9d-4d68-bd85-066fe4438aec",
   "metadata": {},
   "source": [
    "### Examine Outlier Text Lengths to Help with VARCHAR Limits"
   ]
  },
  {
   "cell_type": "markdown",
   "id": "ff3419fd-e588-4500-a109-dcaee61ee30d",
   "metadata": {},
   "source": [
    "### Rename Columns"
   ]
  },
  {
   "cell_type": "code",
   "execution_count": null,
   "id": "b9a0ae6d-6576-4f65-8104-f85d917f0b71",
   "metadata": {},
   "outputs": [],
   "source": [
    "labels_table = labels_table.rename(columns = {'openfda.product_ndc': 'ndc',\n",
    "                                              'openfda.rxcui': 'rxcui',\n",
    "                         'effective_time': 'label_date',\n",
    "                         'spl_product_data_elements_processed': 'ingredients',\n",
    "                         'all_warnings_processed': 'warnings',\n",
    "                         'all_name_processed': 'drug_names',\n",
    "                         'openfda.manufacturer_name_processed': 'manufacturer',\n",
    "                         'purpose_processed': 'purpose'})"
   ]
  },
  {
   "cell_type": "code",
   "execution_count": null,
   "id": "81e0ea93-25de-48e9-a31b-3bcf200eab29",
   "metadata": {
    "scrolled": true
   },
   "outputs": [],
   "source": [
    "labels_table.info()"
   ]
  },
  {
   "cell_type": "code",
   "execution_count": null,
   "id": "afc941b2-1234-4a04-b5f2-09864d3b4869",
   "metadata": {},
   "outputs": [],
   "source": [
    "# Write the DataFrame to a CSV file\n",
    "labels_table.to_csv('DataLibrary/labels_table.csv', index=False)"
   ]
  },
  {
   "cell_type": "markdown",
   "id": "9ae4b044-e8e0-45b2-abb9-3d2d2d69baa3",
   "metadata": {},
   "source": [
    "## PreProcess Events Table"
   ]
  },
  {
   "cell_type": "markdown",
   "id": "43f8b089-fe61-429f-bcaa-e1cf407518ff",
   "metadata": {},
   "source": [
    "#### Select Columns"
   ]
  },
  {
   "cell_type": "code",
   "execution_count": null,
   "id": "75bc693d-5c4c-4d15-b030-70c62faa0172",
   "metadata": {},
   "outputs": [],
   "source": [
    "events_table = pd.DataFrame(events_df, \n",
    "                            columns = [\"safetyreportid\", #case report number\n",
    "                                        \"transmissiondate\", # date the record was created\n",
    "                                        \"serious\", # seriousness - 1 = result in death, lifethreatening,hospital,etc. 2 = not in the above\n",
    "                                        \"fulfillexpeditecriteria\",  # 1 - Yes, 2 - No\n",
    "                                        \"primarysource.qualification\",  # 1-MD, 2-Pharmacist, 3-Health Prof, 4-Lawyer, 5-Consumer/NonHealth\n",
    "                                        \"safetyreportversion\",  # Indicates updated reports, with 1 being first, and increasing numbers as new \n",
    "                                        \"companynumb\",  # Company making report\n",
    "                                        #\"seriousnessdeath\", # 1 = death, redundant with serious\n",
    "                                        #  \"receivedateformat\", #always YYYYMMDD\n",
    "                                        #  \"receivedate\", #date report received by FDA\n",
    "                                        \"primarysource.reportercountry\", # country of the reporter of this event\n",
    "                                        \"patient.patientonsetage\", # age of patient when event occured\n",
    "                                        \"patient.patientonsetageunit\",  # 801: Y, 802: M, 803: W, 804: D, 805: H \n",
    "                                        \"patient.patientsex\", # sex of patient. 0=unknown, 1=male, 2=female\n",
    "                                        \"patient.reaction\", # Dictionary list - expanded as seperate table\n",
    "                                        \"patient.drug\", # Dictionary list - expanded as separate table\n",
    "                                        # \"patient.patientagegroup\", #1 = neonate, 2 = infant, 3=child, 4=adolescent, 5=adult, 6=elderly\n",
    "                                        # \"patient.patientweight\", # weight in kg\n",
    "                                        # \"seriousnesscongentialanomali\", # 1 if congenital anomaly (fetal abnormality),absent otherwise\n",
    "                                        # \"authoritynumb\", #regulatory authority case #\n",
    "                                        # \"reportduplicate\"\n",
    "                                      ])"
   ]
  },
  {
   "cell_type": "code",
   "execution_count": null,
   "id": "3b404501-32b7-416a-abd7-1f622369fa18",
   "metadata": {},
   "outputs": [],
   "source": [
    "events_table.head(1)"
   ]
  },
  {
   "cell_type": "markdown",
   "id": "dc51b3ad-fdd5-47fd-8953-c3771bae341f",
   "metadata": {},
   "source": [
    "#### Fix Dtypes"
   ]
  },
  {
   "cell_type": "code",
   "execution_count": null,
   "id": "99879ad3-b352-4e1d-8c24-cccf8e6349d1",
   "metadata": {},
   "outputs": [],
   "source": [
    "events_table['transmissiondate'] = pd.to_datetime(events_table['transmissiondate'], format='%Y%m%d')\n",
    "events_table['serious'] = events_table['serious'].astype(int)\n",
    "events_table['fulfillexpeditecriteria'] = events_table['fulfillexpeditecriteria'].astype(int)\n",
    "\n",
    "events_table['primarysource.qualification'].replace({np.nan: None}, inplace=True)\n",
    "events_table['primarysource.qualification'] = events_table['primarysource.qualification'].astype(pd.Int64Dtype())\n",
    "\n",
    "events_table['patient.patientonsetage'].replace({np.nan: None}, inplace=True)\n",
    "events_table['patient.patientonsetage'] = events_table['patient.patientonsetage'].astype(pd.Int64Dtype())\n",
    "\n",
    "events_table['patient.patientonsetageunit'].replace({np.nan: None}, inplace=True)\n",
    "events_table['patient.patientonsetageunit'] = events_table['patient.patientonsetageunit'].astype(pd.Int64Dtype())\n",
    "\n",
    "events_table['patient.patientsex'].replace({np.nan: None}, inplace=True)\n",
    "events_table['patient.patientsex'] = events_table['patient.patientsex'].astype(pd.Int64Dtype())\n",
    "\n",
    "events_table.info()"
   ]
  },
  {
   "cell_type": "markdown",
   "id": "40e0e6e2-6328-4a67-875a-d08ba2e9f606",
   "metadata": {},
   "source": [
    "### Standardize Age"
   ]
  },
  {
   "cell_type": "code",
   "execution_count": null,
   "id": "f99d282f-2088-49d7-af45-b18b21dcf5d3",
   "metadata": {},
   "outputs": [],
   "source": [
    "events_table['patient.patientonsetage'] = events_table.apply(lambda row: convert_to_years(row['patient.patientonsetage'], row['patient.patientonsetageunit']), axis=1)\n",
    "events_table.drop(columns=['patient.patientonsetageunit'], inplace=True)\n",
    "events_table.head(1)"
   ]
  },
  {
   "cell_type": "markdown",
   "id": "afe872e4-f779-4aa5-b5f3-7170c75b7da1",
   "metadata": {},
   "source": [
    "### Feature Engineering"
   ]
  },
  {
   "cell_type": "code",
   "execution_count": null,
   "id": "2541253c-3b0a-4063-b146-a007dba6597d",
   "metadata": {},
   "outputs": [],
   "source": [
    "# Serious prior to mapping\n",
    "events_table['serious'].value_counts()"
   ]
  },
  {
   "cell_type": "code",
   "execution_count": null,
   "id": "63cc3bfd-3f50-4d50-b7cc-b4f702fd46d0",
   "metadata": {},
   "outputs": [],
   "source": [
    "events_table = add_sequential_index(events_table,'event_id')\n",
    "\n",
    "# Save 1 as death, life threatening, hospitalization, disability, congenital anomaly, or serious condition, 0 as not that\n",
    "events_table['serious'] = events_table['serious'].replace({1: 1, 2: 0})"
   ]
  },
  {
   "cell_type": "code",
   "execution_count": null,
   "id": "3ee65490-b099-4669-912d-fbec90be1ede",
   "metadata": {},
   "outputs": [],
   "source": [
    "# Serious post-mapping\n",
    "events_table['serious'].value_counts()"
   ]
  },
  {
   "cell_type": "markdown",
   "id": "61d411c8-3356-40b9-a89a-9f711aad9892",
   "metadata": {},
   "source": [
    "### Check for Report Duplicates"
   ]
  },
  {
   "cell_type": "code",
   "execution_count": null,
   "id": "63f0f14b-3072-4570-a8b7-3e087107fa04",
   "metadata": {},
   "outputs": [],
   "source": [
    "# Check for safety report # duplicates\n",
    "duplicates = events_table.duplicated(subset=['safetyreportid']).sum()\n",
    "\n",
    "print(\"Duplicates: \", duplicates) "
   ]
  },
  {
   "cell_type": "markdown",
   "id": "3736f0bd-b15e-476c-bce1-0ec92333f97c",
   "metadata": {},
   "source": [
    "### Examine and Handle Nulls"
   ]
  },
  {
   "cell_type": "code",
   "execution_count": null,
   "id": "a80b313c-d99f-42e2-8467-7b0df8f2bc07",
   "metadata": {},
   "outputs": [],
   "source": [
    "events_nan = nan_info(events_table)\n",
    "events_nan"
   ]
  },
  {
   "cell_type": "code",
   "execution_count": null,
   "id": "ddac0f57-f52d-428a-8af9-171ccc0525f9",
   "metadata": {},
   "outputs": [],
   "source": [
    "sex_value_counts = events_table['patient.patientsex'].value_counts()\n",
    "print(sex_value_counts)\n",
    "\n",
    "#For sex, 0=unknown, 1=male, 2=female. fill missing values with 0.\n",
    "events_table['patient.patientsex'] = events_table['patient.patientsex'].fillna(0)"
   ]
  },
  {
   "cell_type": "markdown",
   "id": "eda82ff7-e3b8-4f2f-9ad9-62a1a992aa4b",
   "metadata": {},
   "source": [
    "### Filter Events for Quality Data\n",
    "* Remove events that have consumer and lawyer reports\n",
    "* Verify that API called only most recent version of reports"
   ]
  },
  {
   "cell_type": "code",
   "execution_count": null,
   "id": "f0e085f8-b70c-4847-9ed9-2cf21ab16f0b",
   "metadata": {},
   "outputs": [],
   "source": [
    "# Drop NaN values in 'primarysource.qualification'\n",
    "events_table.dropna(subset=['primarysource.qualification'], inplace=True)\n",
    "\n",
    "# Convert 'primarysource.qualification' to integer\n",
    "events_table['primarysource.qualification'] = events_table['primarysource.qualification'].astype(int)\n",
    "\n",
    "# Filter out values 4 and 5\n",
    "events_table = events_table[~events_table['primarysource.qualification'].isin([4, 5])]\n",
    "\n",
    "events_table.shape"
   ]
  },
  {
   "cell_type": "code",
   "execution_count": null,
   "id": "ca704ca6-d0c0-4fbe-8249-418eb503442c",
   "metadata": {},
   "outputs": [],
   "source": [
    "# Verified that version control exists in API request\n",
    "events_table[['safetyreportid', 'safetyreportversion']].head(10)"
   ]
  },
  {
   "cell_type": "markdown",
   "id": "f32cd922-1b17-4fd9-873e-11052e4f5462",
   "metadata": {},
   "source": [
    "### Rename Columns"
   ]
  },
  {
   "cell_type": "code",
   "execution_count": null,
   "id": "96fc848f-494c-437c-84f4-1bea80eb2391",
   "metadata": {},
   "outputs": [],
   "source": [
    "# Rename some columns\n",
    "events_table = events_table.rename(columns={\n",
    "    'primarysource.reportercountry': 'country',\n",
    "    'patient.patientsex': 'sex',\n",
    "    'patient.patientonsetage': 'age',\n",
    "    'patient.reaction': 'reaction',\n",
    "    'patient.drug': 'drug',\n",
    "    'transmissiondate': 'event_date',\n",
    "    'fulfillexpeditecriteria': 'expedited',\n",
    "    'primarysource.qualification': 'report_source',\n",
    "    'companynumb': 'company'\n",
    "})"
   ]
  },
  {
   "cell_type": "code",
   "execution_count": null,
   "id": "808efe58-481f-410d-860e-0dd216eb9fc1",
   "metadata": {},
   "outputs": [],
   "source": [
    "#pd.reset_option('display.max_colwidth')\n",
    "events_table.head()"
   ]
  },
  {
   "cell_type": "markdown",
   "id": "db74d03c-2aec-4999-b2e9-0dacbf65fc6c",
   "metadata": {},
   "source": [
    "### Examine Variables in Reaction Nested Dataframe - Multiple Reaction Reports for Each Symptom for Each Person"
   ]
  },
  {
   "cell_type": "code",
   "execution_count": null,
   "id": "b958d041-3fe3-42cf-94ea-036ae928691d",
   "metadata": {},
   "outputs": [],
   "source": [
    "test_record = events_table['reaction'].loc[events_table['event_id'] == 2000]\n",
    "# Patient Reaction is an array containing:\n",
    "    # reactionmeddrapt: Patient reaction, as a MedDRA term. \n",
    "    # reactionmeddraversionpt: The version of MedDRA from which the term in reactionmeddrapt is drawn.\n",
    "    # reactionoutcome: Outcome of the reaction in reactionmeddrapt at the time of last observation.\n",
    "        # 1= Recovered/resolved, 2=recovering/resolving, 3 = Not recovered/not resolved, 4=Recovered/resolved with consequent health issues\n",
    "        # 5 = fatal, 6 = Unknown\n",
    "\n",
    "# First, want to individualzie these fields. Will actually save these as a NEW table, called PatientReactions"
   ]
  },
  {
   "cell_type": "code",
   "execution_count": null,
   "id": "d19e07bc-fe5e-4952-97f6-de927ebfc89c",
   "metadata": {},
   "outputs": [],
   "source": [
    "# Set pandas option to display full content of columns\n",
    "print(test_record)"
   ]
  },
  {
   "cell_type": "markdown",
   "id": "2ce23bcd-537c-49c3-a164-9f3884f1e6fd",
   "metadata": {},
   "source": [
    "### Make new table for PatientDrugs - nested dataframe"
   ]
  },
  {
   "cell_type": "code",
   "execution_count": null,
   "id": "3db28f0b-8ad9-4d1d-800b-4e7e0ec9ee8b",
   "metadata": {},
   "outputs": [],
   "source": [
    "expanded_patient_drugs = []\n",
    "\n",
    "# Iterate through each row of the original DataFrame\n",
    "for _, row in events_table.iterrows():\n",
    "    event_id = row['event_id']\n",
    "    \n",
    "    # Iterate through each drug entry in 'patient.drug' list\n",
    "    for drug_entry in row['drug']:\n",
    "        # Flatten nested JSON into columns\n",
    "        flattened_entry = json_normalize(drug_entry)\n",
    "        \n",
    "        # Add event_id to the flattened entry\n",
    "        flattened_entry['event_id'] = event_id\n",
    "        \n",
    "        # Append the flattened entry to the list\n",
    "        expanded_patient_drugs.append(flattened_entry)\n",
    "\n",
    "# Concatenate all entries into a new DataFrame\n",
    "patient_drugs_df = pd.concat(expanded_patient_drugs, ignore_index=True)\n",
    "patient_drugs_df = patient_drugs_df[['event_id'] + [col for col in patient_drugs_df.columns if col != 'event_id']]\n",
    "\n",
    "\n",
    "patient_drugs_df.tail()"
   ]
  },
  {
   "cell_type": "markdown",
   "id": "9cd0909c-6d06-426c-b535-f39a6f8c4c7d",
   "metadata": {},
   "source": [
    "#### Parallel Processing Version - need to test - can move function to other file"
   ]
  },
  {
   "cell_type": "markdown",
   "id": "0180e13f-50bf-47a2-a4c7-90a39e1ef3f9",
   "metadata": {},
   "source": [
    "<span style=\"background-color:yellow\">**Delete below chunk after multiprocessing complete**</span>\n"
   ]
  },
  {
   "cell_type": "code",
   "execution_count": null,
   "id": "7a2ff8db-52d0-4688-8a62-a0ca47748f14",
   "metadata": {},
   "outputs": [],
   "source": [
    "expanded_patient_drugs = []\n",
    "\n",
    "# Iterate through each row of the original DataFrame\n",
    "for _, row in events_table.iterrows():\n",
    "    event_id = row['event_id']\n",
    "    \n",
    "    # Iterate through each drug entry in 'patient.drug' list\n",
    "    for drug_entry in row['drug']:\n",
    "        # Flatten nested JSON into columns\n",
    "        flattened_entry = json_normalize(drug_entry)\n",
    "        \n",
    "        # Add event_id to the flattened entry\n",
    "        flattened_entry['event_id'] = event_id\n",
    "        \n",
    "        # Append the flattened entry to the list\n",
    "        expanded_patient_drugs.append(flattened_entry)\n",
    "\n",
    "# Concatenate all entries into a new DataFrame\n",
    "patient_drugs_table = pd.concat(expanded_patient_drugs, ignore_index=True)\n",
    "patient_drugs_table = patient_drugs_table[['event_id'] + [col for col in patient_drugs_table.columns if col != 'event_id']]\n",
    "\n",
    "\n",
    "patient_drugs_table.tail()"
   ]
  },
  {
   "cell_type": "code",
   "execution_count": null,
   "id": "aa6fa518-a617-4781-820f-0a40d114574e",
   "metadata": {},
   "outputs": [],
   "source": [
    "# Function to process each row\n",
    "def process_row(row):\n",
    "    expanded_entries = []\n",
    "    event_id = row['event_id']\n",
    "    \n",
    "    # Iterate through each drug entry in 'patient.drug' list\n",
    "    for drug_entry in row['drug']:\n",
    "        # Flatten nested JSON into columns\n",
    "        flattened_entry = json_normalize(drug_entry)\n",
    "        \n",
    "        # Add event_id to the flattened entry\n",
    "        flattened_entry['event_id'] = event_id\n",
    "        \n",
    "        # Append the flattened entry to the list\n",
    "        expanded_entries.append(flattened_entry)\n",
    "    \n",
    "    return expanded_entries\n",
    "\n",
    "# Create a pool with the same number of workers as CPU cores\n",
    "with multiprocessing.Pool(num_cores) as p:\n",
    "    expanded_patient_drugs = p.map(process_row, [row for _, row in events_table.iterrows()])\n",
    "\n",
    "# Flatten the list of lists\n",
    "expanded_patient_drugs = [item for sublist in expanded_patient_drugs for item in sublist]\n",
    "\n",
    "# Concatenate all entries into a new DataFrame\n",
    "patient_drugs_df = pd.concat(expanded_patient_drugs, ignore_index=True)\n",
    "patient_drugs_df = patient_drugs_df[['event_id'] + [col for col in patient_drugs_df.columns if col != 'event_id']]\n",
    "\n",
    "patient_drugs_df.tail()"
   ]
  },
  {
   "cell_type": "markdown",
   "id": "2fbcb0ac-7277-4f55-8da6-6d4972e185a5",
   "metadata": {},
   "source": [
    "### Make new table for PatientReactions"
   ]
  },
  {
   "cell_type": "code",
   "execution_count": null,
   "id": "34b1c1e5-2ef7-4dfe-8942-10cbbbddbbb4",
   "metadata": {},
   "outputs": [],
   "source": [
    "expanded_patient_reaction = []\n",
    "\n",
    "# Iterate through each row of the original DataFrame\n",
    "for _, row in events_table.iterrows():\n",
    "    event_id = row['event_id']\n",
    "    \n",
    "    # Iterate through each drug entry in 'patient.drug' list\n",
    "    for drug_entry in row['reaction']:\n",
    "        # Flatten nested JSON into columns\n",
    "        flattened_entry = json_normalize(drug_entry)\n",
    "        \n",
    "        # Add event_id to the flattened entry\n",
    "        flattened_entry['event_id'] = event_id\n",
    "        \n",
    "        # Append the flattened entry to the list\n",
    "        expanded_patient_reaction.append(flattened_entry)\n",
    "\n",
    "# Concatenate all entries into a new DataFrame\n",
    "patient_reactions_df = pd.concat(expanded_patient_reaction, ignore_index=True)\n",
    "patient_reactions_df = patient_reactions_df[['event_id'] + [col for col in patient_reactions_df.columns if col != 'event_id']]\n",
    "patient_reactions_df.tail()"
   ]
  },
  {
   "cell_type": "markdown",
   "id": "eba539a7-7051-4d93-b507-0c968788d94b",
   "metadata": {},
   "source": [
    "#### Parallel Processing Version - need to test - can move function to other file"
   ]
  },
  {
   "cell_type": "code",
   "execution_count": null,
   "id": "c994faff-9384-4fad-8234-3daaf009b0e0",
   "metadata": {},
   "outputs": [],
   "source": [
    "# Function to process each row\n",
    "def process_reaction_row(row):\n",
    "    expanded_entries = []\n",
    "    event_id = row['event_id']\n",
    "    \n",
    "    # Iterate through each reaction entry in 'reaction' list\n",
    "    for reaction_entry in row['reaction']:\n",
    "        # Flatten nested JSON into columns\n",
    "        flattened_entry = json_normalize(reaction_entry)\n",
    "        \n",
    "        # Add event_id to the flattened entry\n",
    "        flattened_entry['event_id'] = event_id\n",
    "        \n",
    "        # Append the flattened entry to the list\n",
    "        expanded_entries.append(flattened_entry)\n",
    "    \n",
    "    return expanded_entries\n",
    "\n",
    "# Create a pool with the same number of workers as CPU cores\n",
    "with multiprocessing.Pool(num_cores) as p:\n",
    "    expanded_patient_reaction = p.map(process_reaction_row, [row for _, row in events_table.iterrows()])\n",
    "\n",
    "# Flatten the list of lists\n",
    "expanded_patient_reaction = [item for sublist in expanded_patient_reaction for item in sublist]\n",
    "\n",
    "# Concatenate all entries into a new DataFrame\n",
    "patient_reactions_df = pd.concat(expanded_patient_reaction, ignore_index=True)\n",
    "patient_reactions_df = patient_reactions_df[['event_id'] + [col for col in patient_reactions_df.columns if col != 'event_id']]\n",
    "\n",
    "patient_reactions_df.tail()"
   ]
  },
  {
   "cell_type": "markdown",
   "id": "dc86cbee-90e1-4fab-bc01-61c5017f59c3",
   "metadata": {},
   "source": [
    "### Remove Drug and Reaction Columns as they are in new tables"
   ]
  },
  {
   "cell_type": "code",
   "execution_count": null,
   "id": "0593c8a1-3896-485c-b6d9-d9470d409a68",
   "metadata": {},
   "outputs": [],
   "source": [
    "events_table.drop(['drug', 'reaction'], axis=1, inplace=True)"
   ]
  },
  {
   "cell_type": "markdown",
   "id": "56e72607-a805-4f6b-8a9a-b9e234364a1f",
   "metadata": {},
   "source": [
    "### Assess Text Field Lengths"
   ]
  },
  {
   "cell_type": "code",
   "execution_count": null,
   "id": "58afd347-219e-400f-ab3d-fd32cf688619",
   "metadata": {},
   "outputs": [],
   "source": [
    "plot_character_length(events_table, 'events_table')"
   ]
  },
  {
   "cell_type": "markdown",
   "id": "242da5b9-3939-4b3a-9f4e-9deef5664bfa",
   "metadata": {},
   "source": [
    "### Examine Outlier Text Lengths to Help with VARCHAR Limits"
   ]
  },
  {
   "cell_type": "code",
   "execution_count": null,
   "id": "68360b11-0cf6-43ce-a493-0edddeff4cc6",
   "metadata": {},
   "outputs": [],
   "source": [
    "events_table_text_processed_outliers = examine_text_outliers(events_table['company'])\n",
    "print(events_table_text_processed_outliers.iloc[2])"
   ]
  },
  {
   "cell_type": "markdown",
   "id": "3522c2c5-88b7-48c4-b21b-c047c1f64f4e",
   "metadata": {},
   "source": [
    "#### Custom Text Processing of Company Information - Retain Name Only"
   ]
  },
  {
   "cell_type": "code",
   "execution_count": null,
   "id": "69eae2a7-d3ac-402d-b5bc-d57e8eb16574",
   "metadata": {},
   "outputs": [],
   "source": [
    "# Creat list of country abbreviations and extra abbreviations to remove from text data\n",
    "country_codes = events_table['country'].unique().tolist()\n",
    "country_codes = [i.lower() for i in country_codes]\n",
    "country_codes = ['cn' if country == 'canada' else country for country in country_codes]\n",
    "country_codes = country_codes+[\"usa\", \"isr\", \"ger\", \"tus\", \"dklu\", \"bp\", \"sp\",\n",
    "                                  \"nj\", \"aus\", \"deuct\", \"ve\", \"pomal\", \"gbr\",\n",
    "                                  \"jacan\", \"fra\", \"deu\", 'deuct']\n",
    "\n",
    "extra_abv = ['nldsp', 'usasp', 'company', 'bax', 'spo',\n",
    "                'ccaza', 'cinry']\n",
    "\n",
    "country_codes.to_csv('country_codes.csv', index=False)\n"
   ]
  },
  {
   "cell_type": "code",
   "execution_count": null,
   "id": "99815df9-a05a-4c07-9562-4142c6bcd017",
   "metadata": {},
   "outputs": [],
   "source": [
    "events_table.head()"
   ]
  },
  {
   "cell_type": "code",
   "execution_count": null,
   "id": "de6958cf-73d5-4d37-90fc-f6b971bfb9af",
   "metadata": {},
   "outputs": [],
   "source": [
    "from Functions import process_company_text\n",
    "events_table['company_name'] = events_table['company'].apply(process_company_text)"
   ]
  },
  {
   "cell_type": "code",
   "execution_count": null,
   "id": "06dbd393-26e4-409a-a4d2-adb87a721ef0",
   "metadata": {},
   "outputs": [],
   "source": [
    "events_table.head()"
   ]
  },
  {
   "cell_type": "code",
   "execution_count": null,
   "id": "e00626ea-3ed9-438d-91db-fa7ea6883bec",
   "metadata": {},
   "outputs": [],
   "source": [
    "# Need to test\n",
    "# Create a pool with the same number of workers as CPU cores\n",
    "with multiprocessing.Pool(num_cores) as p:\n",
    "    # Apply the process_company_row function to each element in the 'company' column in parallel\n",
    "    events_table['company_name'] = p.map(process_company_text, events_table['company'])"
   ]
  },
  {
   "cell_type": "code",
   "execution_count": null,
   "id": "9475f6dc-9fd6-43ad-8d2e-b6b5b5553226",
   "metadata": {},
   "outputs": [],
   "source": [
    "events_table[['company', 'company_name', 'country']].head(20) "
   ]
  },
  {
   "cell_type": "code",
   "execution_count": null,
   "id": "7536d0be-b4aa-45b0-9536-d3c4b85ba5f3",
   "metadata": {},
   "outputs": [],
   "source": [
    "# Set display option to show the full list without truncation\n",
    "pd.set_option('display.max_rows', None)\n",
    "events_table['company_name'].value_counts()\n",
    "# Reset display option to default\n",
    "#pd.reset_option('display.max_rows')"
   ]
  },
  {
   "cell_type": "markdown",
   "id": "8222e563-3594-4a80-92fb-83c185c818d4",
   "metadata": {},
   "source": [
    "#### Text Processing of Country Name"
   ]
  },
  {
   "cell_type": "code",
   "execution_count": null,
   "id": "43b03940-8cf6-4e9d-bd2d-63693806bbd0",
   "metadata": {},
   "outputs": [],
   "source": [
    "# Replace category missing label with NA and Canada\n",
    "events_table['country'] = events_table['country'].replace({\"COUNTRY NOT SPECIFIED\": pd.NA, \"CANADA\": 'CN'})\n",
    "\n",
    "# Lower case country code text\n",
    "events_table['country'] = events_table['country'].apply(lambda x: x.lower() if pd.notna(x) else x)"
   ]
  },
  {
   "cell_type": "code",
   "execution_count": null,
   "id": "d79b5bcf-0f6d-40ff-9906-1bb839060d47",
   "metadata": {},
   "outputs": [],
   "source": [
    "events_table['country'].head(20)"
   ]
  },
  {
   "cell_type": "code",
   "execution_count": null,
   "id": "feacb0cf-a0dd-43f0-9bdd-fecc68c4cf89",
   "metadata": {},
   "outputs": [],
   "source": [
    "# Drop Cryptic company information\n",
    "events_table.drop(['company'], axis = 1, inplace = True)"
   ]
  },
  {
   "cell_type": "code",
   "execution_count": null,
   "id": "628f3f7d-f21c-4ecc-8efe-4fee522424e4",
   "metadata": {},
   "outputs": [],
   "source": [
    "events_table[['company_name', 'country']].head(10) "
   ]
  },
  {
   "cell_type": "markdown",
   "id": "2f1ebc19-c903-4f2b-be86-9fad6bb1257d",
   "metadata": {},
   "source": [
    "### Reeaxmine Field Lengths"
   ]
  },
  {
   "cell_type": "code",
   "execution_count": null,
   "id": "9ac480d6-515e-4044-a468-545f8fd7cd6b",
   "metadata": {},
   "outputs": [],
   "source": [
    "plot_character_length(events_table, 'events_table')"
   ]
  },
  {
   "cell_type": "code",
   "execution_count": null,
   "id": "14f402c9-0a85-4538-b506-b3e0a07ca51c",
   "metadata": {},
   "outputs": [],
   "source": [
    "examine_text_outliers(events_table['company_name'])"
   ]
  },
  {
   "cell_type": "code",
   "execution_count": null,
   "id": "2dfa3b9e-7ec3-4730-a3ed-524f25331c1a",
   "metadata": {},
   "outputs": [],
   "source": [
    "# Write the DataFrame to a CSV file\n",
    "events_table.to_csv('DataLibrary/events_table.csv', index=False)"
   ]
  },
  {
   "cell_type": "markdown",
   "id": "f0802863-c379-4497-9a09-46211dc6072e",
   "metadata": {},
   "source": [
    "## PreProcess Patient Drugs Table"
   ]
  },
  {
   "cell_type": "code",
   "execution_count": null,
   "id": "21f06a91-4557-4448-be2f-41aabb12a146",
   "metadata": {},
   "outputs": [],
   "source": [
    "patient_drugs_df.head()\n",
    "\n",
    "patient_drugs_df.columns"
   ]
  },
  {
   "cell_type": "markdown",
   "id": "da50ea4b-c335-48f7-bdf0-3fccdcd971ad",
   "metadata": {},
   "source": [
    "#### Select Columns"
   ]
  },
  {
   "cell_type": "code",
   "execution_count": null,
   "id": "e1aa89b8-15ec-4e62-9e59-87ddd4bae198",
   "metadata": {},
   "outputs": [],
   "source": [
    "patient_drugs_table = pd.DataFrame(patient_drugs_df, \n",
    "                               columns = [\n",
    "                                'event_id',  # Identifier for the event\n",
    "                                'drugcharacterization',  # Level of detail for the drug in the event report\n",
    "                                'medicinalproduct',  # Name of the drug\n",
    "                                # 'drugauthorizationnumb',  # Marketing authorization number of the drug\n",
    "                                # 'drugadministrationroute',  # Route of administration for the drug\n",
    "                                'drugindication',  # Indication for use of the drug\n",
    "                                # 'drugbatchnumb',  # Batch number for the drug\n",
    "                                # 'drugstructuredosagenumb',  # Structured dosage number of the drug\n",
    "                                # 'drugstructuredosageunit',  # Unit of structured dosage for the drug\n",
    "                                # 'drugdosagetext',  # Textual description of the dosage for the drug\n",
    "                                # 'drugstartdateformat',  # Date format for the start date of drug administration\n",
    "                                # 'drugstartdate',  # Start date of drug administration\n",
    "                                #'drugrecurreadministration',  # Indicator for recurring drug administration\n",
    "                                # 'drugadditional',  # Additional details about the drug\n",
    "                                # 'openfda.application_number',  # FDA application number for the drug\n",
    "                                # 'openfda.brand_name',  # Brand name for the drug\n",
    "                                'openfda.generic_name',  # Generic name for the drug\n",
    "                                'openfda.manufacturer_name',  # Manufacturer name for the drug\n",
    "                                #'openfda.product_ndc',  # NDC (National Drug Code) number for the drug product\n",
    "                                'openfda.product_type',  # Type of drug product (e.g., HUMAN PRESCRIPTION DRUG)\n",
    "                                # 'openfda.route',  # Route of administration for the drug\n",
    "                                # 'openfda.substance_name',  # Substance name associated with the drug\n",
    "                                'openfda.rxcui',  # RxNorm Concept Unique Identifier (RxCUI) for the drug\n",
    "                                # 'openfda.spl_id',  # Structured Product Labeling (SPL) ID for the drug\n",
    "                                # 'openfda.spl_set_id',  # SPL Set ID for the drug\n",
    "                                # 'openfda.package_ndc',  # NDC (National Drug Code) number for the drug package\n",
    "                                # 'openfda.nui',  # NUI (National Uniform Identifier) for the drug\n",
    "                                # 'openfda.pharm_class_moa',  # Pharmacological class (Mechanism of Action) for the drug\n",
    "                                # 'openfda.pharm_class_cs',  # Chemical structure class for the drug\n",
    "                                # 'openfda.pharm_class_epc',  # Pharmacological class (EPC) for the drug\n",
    "                                'openfda.unii',  # Unique Ingredient Identifier (UNII) for the drug substance\n",
    "                                # 'actiondrug',  # Action taken with the drug\n",
    "                                # 'drugdosageform',  # Dosage form of the drug\n",
    "                                # 'openfda.pharm_class_pe',  # Pharmacological class (Physiologic Effect) for the drug\n",
    "                                # 'activesubstance.activesubstancename',  # Name of the active substance in the drug\n",
    "                                # 'drugenddateformat',  # Date format for the end date of drug administration\n",
    "                                # 'drugenddate',  # End date of drug administration\n",
    "                                #'drugseparatedosagenumb',  # Separated dosage number for the drug\n",
    "                                # 'drugintervaldosageunitnumb',  # Interval dosage unit number for the drug\n",
    "                                # 'drugintervaldosagedefinition',  # Definition of interval dosage for the drug\n",
    "                                # 'drugcumulativedosagenumb',  # Cumulative dosage number for the drug\n",
    "                                # 'drugcumulativedosageunit'  # Unit of cumulative dosage for the drug\n",
    "                            ])\n"
   ]
  },
  {
   "cell_type": "code",
   "execution_count": null,
   "id": "8f781552-8f74-4098-a514-62e268f0b933",
   "metadata": {},
   "outputs": [],
   "source": [
    "patient_drugs_table.head(5)"
   ]
  },
  {
   "cell_type": "markdown",
   "id": "17f581d3-a5cf-47bc-8581-429686a0a9b4",
   "metadata": {},
   "source": [
    "#### Fix Dtypes"
   ]
  },
  {
   "cell_type": "code",
   "execution_count": null,
   "id": "9b84379f-6879-4657-825b-e590ee60a6f1",
   "metadata": {},
   "outputs": [],
   "source": [
    "patient_drugs_table['drugcharacterization'] = patient_drugs_table['drugcharacterization'].astype(int)"
   ]
  },
  {
   "cell_type": "markdown",
   "id": "1f6bd505-54e7-4abb-83aa-9097e505e4fb",
   "metadata": {},
   "source": [
    "#### Filter for Quality Data"
   ]
  },
  {
   "cell_type": "code",
   "execution_count": null,
   "id": "45fcc807-4957-4448-b1ce-10c2fbc00eb8",
   "metadata": {},
   "outputs": [],
   "source": [
    "patient_drugs_table['drugcharacterization'].value_counts()"
   ]
  },
  {
   "cell_type": "code",
   "execution_count": null,
   "id": "7bacb7ef-cce8-44b2-a41d-81a8bca11aec",
   "metadata": {},
   "outputs": [],
   "source": [
    "# Add unique ID\n",
    "patient_drugs_table = add_sequential_index(patient_drugs_table,'patient_drug_id')\n",
    "\n",
    "# Keep only primary drug suspects\n",
    "patient_drugs_table = patient_drugs_table.loc[patient_drugs_table['drugcharacterization'] == 1]"
   ]
  },
  {
   "cell_type": "markdown",
   "id": "8338d150-31d0-4185-b96b-52c9d6c15b32",
   "metadata": {},
   "source": [
    "#### Examining Variables of Interest\n",
    "* Drugcharacterization: 1-suspect(drug primary cause), 2-concomitant(drug taken with primary cause), 3-interation(drug interact with primary cause)\n",
    "* Medicinalproduct: generic or brand name\n",
    "* Drugindication: official drug purpose\n",
    "* openfda.rxcui : Rx cui code\n",
    "* openfda.unii : unique ingredient identifier"
   ]
  },
  {
   "cell_type": "code",
   "execution_count": null,
   "id": "6affcc58-6f0a-4dac-809e-e4022ea91463",
   "metadata": {},
   "outputs": [],
   "source": [
    "patient_drugs_table['drugcharacterization'].value_counts()"
   ]
  },
  {
   "cell_type": "markdown",
   "id": "0b844dc1-f686-42c1-af53-3290b4131b7e",
   "metadata": {},
   "source": [
    "### Examine Nulls"
   ]
  },
  {
   "cell_type": "code",
   "execution_count": null,
   "id": "6d1a937d-5fb7-4144-b45c-e41455256203",
   "metadata": {},
   "outputs": [],
   "source": [
    "patient_drugs_table_nan_info = nan_info(patient_drugs_table)\n",
    "patient_drugs_table_nan_info"
   ]
  },
  {
   "cell_type": "markdown",
   "id": "befbc9b8-c178-46ca-a70a-e4b769a38a71",
   "metadata": {},
   "source": [
    "### Text Processing"
   ]
  },
  {
   "cell_type": "code",
   "execution_count": null,
   "id": "5875fb17-2828-4dba-bc3e-d14f72542062",
   "metadata": {},
   "outputs": [],
   "source": [
    "# Apply the clean_text function\n",
    "patient_drugs_table['manu_list'] = patient_drugs_table['openfda.manufacturer_name'].apply(clean_manufacturer_text)"
   ]
  },
  {
   "cell_type": "code",
   "execution_count": null,
   "id": "ffc793d3-c0a6-4104-a0e0-32458bce43e9",
   "metadata": {},
   "outputs": [],
   "source": [
    "# Need to test\n",
    "# Create a pool with the same number of workers as CPU cores\n",
    "with multiprocessing.Pool(num_cores) as p:\n",
    "    patient_drugs_table['manu_list'] = p.map(clean_manufacturer_text, patient_drugs_table['openfda.manufacturer_name'])"
   ]
  },
  {
   "cell_type": "code",
   "execution_count": null,
   "id": "9621fe89-2f43-4912-b480-004c858c46e8",
   "metadata": {},
   "outputs": [],
   "source": [
    "# Count the number of manufacturers that produce the drug\n",
    "patient_drugs_table['manu_num'] = patient_drugs_table['manu_list'].apply(lambda x: len(x) if np.all(pd.notna(x))==True else 0)"
   ]
  },
  {
   "cell_type": "code",
   "execution_count": null,
   "id": "186c3f29-ae80-48c6-8b32-258e06341955",
   "metadata": {},
   "outputs": [],
   "source": [
    "# Count the number of rxcui associated with drug\n",
    "patient_drugs_table['rxcui_num'] = patient_drugs_table['openfda.rxcui'].apply(lambda x: len(x) if np.all(pd.notna(x))==True else 0)"
   ]
  },
  {
   "cell_type": "code",
   "execution_count": null,
   "id": "2495f28c-c8dc-484b-a367-eaf766ddfc74",
   "metadata": {},
   "outputs": [],
   "source": [
    "patient_drugs_table[['openfda.manufacturer_name', 'manu_list', 'manu_num', 'rxcui_num']].head(10)"
   ]
  },
  {
   "cell_type": "code",
   "execution_count": null,
   "id": "85859742-8e16-4831-9034-4f062ceed33d",
   "metadata": {},
   "outputs": [],
   "source": [
    "# Define text columns\n",
    "object_columns = patient_drugs_table.select_dtypes(include=['object']).columns\n",
    "\n",
    "# Exclude columns that should not be tokenized, index codes\n",
    "object_columns = object_columns.drop(['openfda.unii', 'openfda.rxcui', 'openfda.manufacturer_name', 'manu_list'], errors='ignore')\n",
    "patient_drugs_table[object_columns] = patient_drugs_table[object_columns].astype(str)\n",
    "\n",
    "# Apply text processing to the selected text columns and add new processed columns to dataframe\n",
    "# Create a pool with the same number of workers as CPU cores\n",
    "with multiprocessing.Pool(num_cores) as p:\n",
    "    for col in object_columns:\n",
    "        new_col_name = col + '_processed'\n",
    "        # Apply the process_column function to each column in parallel\n",
    "        patient_drugs_table[new_col_name] = p.map(process_label_text, patient_drugs_table[col])"
   ]
  },
  {
   "cell_type": "markdown",
   "id": "82823dd7-8c5c-4e87-a7de-1d3844481ad6",
   "metadata": {},
   "source": [
    "### Final list of features for Patient Drugs Table"
   ]
  },
  {
   "cell_type": "code",
   "execution_count": null,
   "id": "bead8f1a-000e-4ba9-915f-2021d8b7a37d",
   "metadata": {},
   "outputs": [],
   "source": [
    "patient_drugs_table = patient_drugs_table[['patient_drug_id',\n",
    "                                          'event_id',\n",
    "                                          #'drugcharacterization',  # Not necessary since table is filtered to value of 1 for all\n",
    "                                          'drugindication_processed',\n",
    "                                          'medicinalproduct_processed',\n",
    "                                          'openfda.generic_name_processed',\n",
    "                                          'manu_list',\n",
    "                                          'manu_num',\n",
    "                                          'openfda.product_type_processed',\n",
    "                                          'openfda.rxcui',\n",
    "                                           'rxcui_num',\n",
    "                                          'openfda.unii'\n",
    "                                          ]]"
   ]
  },
  {
   "cell_type": "markdown",
   "id": "4ec491e1-784b-4545-bc3c-ef815f65b80e",
   "metadata": {},
   "source": [
    "### Rename Columns"
   ]
  },
  {
   "cell_type": "code",
   "execution_count": null,
   "id": "8563df8d-cded-4a28-b751-ae955bd047c0",
   "metadata": {},
   "outputs": [],
   "source": [
    "patient_drugs_table = patient_drugs_table.rename(columns={\n",
    "    'medicinalproduct_processed': 'med_product',\n",
    "    'drugindication_processed': 'indication',\n",
    "    'openfda.generic_name_processed': 'generic_name',\n",
    "    'manu_list': 'manufacturers',\n",
    "    'openfda.product_type_processed': 'product_type',\n",
    "    'openfda.rxcui': 'rxcui',\n",
    "    'openfda.unii': 'unii'\n",
    "})"
   ]
  },
  {
   "cell_type": "code",
   "execution_count": null,
   "id": "30d19e18-1061-46c8-b364-63338f696b4f",
   "metadata": {},
   "outputs": [],
   "source": [
    "patient_drugs_table.info()"
   ]
  },
  {
   "cell_type": "markdown",
   "id": "fbdf50c5-c56f-4803-ab61-a2fd5209de1b",
   "metadata": {},
   "source": [
    "### Assess Text Field Lengths"
   ]
  },
  {
   "cell_type": "code",
   "execution_count": null,
   "id": "b9e8d262-17bb-4936-a6db-c2c7361759a2",
   "metadata": {},
   "outputs": [],
   "source": [
    "plot_character_length(patient_drugs_table, 'patient_drugs_table')"
   ]
  },
  {
   "cell_type": "markdown",
   "id": "304da575-5eba-4fa8-8a51-e3e2a5846715",
   "metadata": {},
   "source": [
    "### Examine Outlier Text Lengths to Help with VARCHAR Limits"
   ]
  },
  {
   "cell_type": "markdown",
   "id": "46ceb6fc-2f2a-4f02-8aa6-48f6f0c41a59",
   "metadata": {},
   "source": [
    "**Examine 'Manufacturer' Outliers**\n",
    "Reports contain manufacturers, distributors, and retail"
   ]
  },
  {
   "cell_type": "code",
   "execution_count": null,
   "id": "3ed51838-8ff8-4ba6-9689-f838051e8180",
   "metadata": {},
   "outputs": [],
   "source": [
    "patient_drugs_table_manufacturer_outliers = examine_text_outliers(patient_drugs_table['manufacturers'])\n",
    "print(patient_drugs_table_manufacturer_outliers.iloc[2])"
   ]
  },
  {
   "cell_type": "markdown",
   "id": "67aaa29d-7dbc-4a98-9e27-6ea712ebeb2c",
   "metadata": {},
   "source": [
    "**Examine 'rxcui' outliers**"
   ]
  },
  {
   "cell_type": "code",
   "execution_count": null,
   "id": "d18b57f3-0158-403a-9226-afcf804c114f",
   "metadata": {},
   "outputs": [],
   "source": [
    "patient_drugs_table_rxcui_outliers = examine_text_outliers(patient_drugs_table['rxcui'])\n",
    "print(patient_drugs_table_rxcui_outliers.iloc[1])"
   ]
  },
  {
   "cell_type": "code",
   "execution_count": null,
   "id": "b5232500-61a0-4f1c-8e5f-1e255bbd1e78",
   "metadata": {},
   "outputs": [],
   "source": []
  },
  {
   "cell_type": "code",
   "execution_count": null,
   "id": "fe27be3b-4365-49c1-b6f3-e355c81097f1",
   "metadata": {},
   "outputs": [],
   "source": [
    "# Write the DataFrame to a CSV file\n",
    "patient_drugs_table.to_csv('DataLibrary/drugs_table.csv', index=False)"
   ]
  },
  {
   "cell_type": "code",
   "execution_count": null,
   "id": "87fbf718-03b5-4a4b-b060-e3f09ccbfb10",
   "metadata": {},
   "outputs": [],
   "source": []
  },
  {
   "cell_type": "markdown",
   "id": "7bdbd9f3-83e0-44f5-88b7-869cf1ddbf69",
   "metadata": {},
   "source": [
    "## PreProcess Patient Reactions Table"
   ]
  },
  {
   "cell_type": "markdown",
   "id": "6c6bca90-f2af-41ca-9910-6b1920836948",
   "metadata": {},
   "source": [
    "### Rename Columns"
   ]
  },
  {
   "cell_type": "code",
   "execution_count": null,
   "id": "e298356f-7e42-4263-86cb-f6cc7fa40c1b",
   "metadata": {},
   "outputs": [],
   "source": [
    "patient_reactions_table = patient_reactions_df.rename(columns={\n",
    "    'reactionmeddrapt': 'reaction',\n",
    "    'reactionmeddraversionpt': 'version_medDRA',\n",
    "    'reactionoutcome': 'outcome'\n",
    "})"
   ]
  },
  {
   "cell_type": "markdown",
   "id": "79e80a0e-59a1-4528-a9d7-05f1fbe22bf0",
   "metadata": {},
   "source": [
    "### Fix Dtypes"
   ]
  },
  {
   "cell_type": "code",
   "execution_count": null,
   "id": "7e81a44b-5401-48f6-b2be-7a1c2834f948",
   "metadata": {},
   "outputs": [],
   "source": [
    "#n/a\n",
    "#patient_reactions_table.head(10)\n",
    "#patient_reactions_table.info()"
   ]
  },
  {
   "cell_type": "markdown",
   "id": "f9957025-08d4-4168-bb69-b4e823711cfd",
   "metadata": {},
   "source": [
    "### Feature Engineering"
   ]
  },
  {
   "cell_type": "code",
   "execution_count": null,
   "id": "286c977e-a662-4db4-b99c-b97455e13a01",
   "metadata": {},
   "outputs": [],
   "source": [
    "patient_reactions_table = add_sequential_index(patient_reactions_table,'patient_reaction_id')"
   ]
  },
  {
   "cell_type": "markdown",
   "id": "53497aa9-171f-4d52-a3e5-b01e6de9d18e",
   "metadata": {},
   "source": [
    "### Map Features"
   ]
  },
  {
   "cell_type": "code",
   "execution_count": null,
   "id": "ad6baa23-2ea7-4d8e-987f-758b03484f51",
   "metadata": {},
   "outputs": [],
   "source": [
    "#map outcomes to text categories\n",
    "\n",
    "outcome_mapping = {\n",
    "    1: 'Recovered',\n",
    "    2: 'Recovering',\n",
    "    3: 'NotRecovered',\n",
    "    4: 'RecoveredWithSequelae',\n",
    "    5: 'Fatal',\n",
    "    6: 'Unknown'\n",
    "}\n",
    "\n",
    "# if outcome is 'Unknown', change to 6 (which will map to unknown again). Necessary that this column is int for mapping\n",
    "patient_reactions_table.loc[patient_reactions_table['outcome'] == 'Unknown', 'outcome'] = 6\n",
    "\n",
    "# Perform mapping by outcome mapping\n",
    "patient_reactions_table['outcome'] = patient_reactions_table['outcome'].fillna(0).astype(int).map(outcome_mapping)\n",
    "\n",
    "patient_reactions_table.tail()"
   ]
  },
  {
   "cell_type": "markdown",
   "id": "f9d55851-10ad-4068-8bfc-188fdeb34809",
   "metadata": {},
   "source": [
    "## LIST OF UNIQUE REACTIONS"
   ]
  },
  {
   "cell_type": "code",
   "execution_count": null,
   "id": "4eff870c-5f65-45f7-856e-140c6381001b",
   "metadata": {},
   "outputs": [],
   "source": [
    "# Get unique values from the 'reaction' column\n",
    "unique_reactions = patient_reactions_table['reaction'].unique().tolist()\n",
    "unique_reactions = [reaction.lower() for reaction in unique_reactions]\n",
    "\n",
    "# Display unique values\n",
    "print(unique_reactions)"
   ]
  },
  {
   "cell_type": "markdown",
   "id": "aefcd297-e09c-48e3-b036-a417d2282234",
   "metadata": {},
   "source": [
    "### Text Processing"
   ]
  },
  {
   "cell_type": "code",
   "execution_count": null,
   "id": "6d4ba2d3-a875-49e4-89cf-1580531ef2e5",
   "metadata": {},
   "outputs": [],
   "source": [
    "#patient_reactions_table['reaction_processed'] = patient_reactions_table['reaction'].apply(process_label_text)\n",
    "patient_reactions_table['reaction_processed'] = patient_reactions_table['reaction'].apply(process_label_text)\n",
    "\n",
    "patient_reactions_table = patient_reactions_table.drop('reaction', axis = 1)"
   ]
  },
  {
   "cell_type": "code",
   "execution_count": null,
   "id": "e505c4a5-c35a-4096-aa65-26f8fb040beb",
   "metadata": {},
   "outputs": [],
   "source": [
    "# Need to test\n",
    "with multiprocessing.Pool(num_cores) as p:\n",
    "    # Apply the process_reaction function to each element in the 'reaction' column in parallel\n",
    "    patient_reactions_table['reaction_processed'] = p.map(process_reaction, patient_reactions_table['reaction'])\n",
    "\n",
    "patient_reactions_table = patient_reactions_table.drop('reaction', axis = 1)"
   ]
  },
  {
   "cell_type": "code",
   "execution_count": null,
   "id": "28d0c440-13b9-41c2-9d0b-28f6a7af42fd",
   "metadata": {},
   "outputs": [],
   "source": []
  },
  {
   "cell_type": "markdown",
   "id": "8997ef9f-d1b1-4314-9bb3-d87280a87090",
   "metadata": {},
   "source": [
    "### Examine Nulls"
   ]
  },
  {
   "cell_type": "code",
   "execution_count": null,
   "id": "858822cc-d588-46f8-9beb-8eb4d72a542d",
   "metadata": {},
   "outputs": [],
   "source": [
    "patient_reactions_table_nan_info = nan_info(patient_reactions_table)\n",
    "patient_reactions_table_nan_info\n",
    "\n",
    "#fill the missing values in the outcome table with 'Unknown'\n",
    "patient_reactions_table['outcome'] = patient_reactions_table['outcome'].fillna('Unknown')\n",
    "\n",
    "patient_reactions_table_nan_info = nan_info(patient_reactions_table)\n",
    "patient_reactions_table_nan_info\n"
   ]
  },
  {
   "cell_type": "markdown",
   "id": "bc795e24-b1ac-49bc-8298-566c43a3ad2b",
   "metadata": {},
   "source": [
    "### Filter for Data Quality"
   ]
  },
  {
   "cell_type": "code",
   "execution_count": null,
   "id": "bee1b668-69e3-492f-92a8-ee4fe8d8ec82",
   "metadata": {},
   "outputs": [],
   "source": [
    "# Drop cases with \"unknown\" outcomes\n",
    "patient_reactions_table = patient_reactions_table.loc[patient_reactions_table['outcome'] != 'Unknown']"
   ]
  },
  {
   "cell_type": "markdown",
   "id": "df03593e-fb50-4f4b-9192-446fea9a119a",
   "metadata": {},
   "source": [
    "### Assess Text Field Lengths"
   ]
  },
  {
   "cell_type": "code",
   "execution_count": null,
   "id": "cd256bd2-09dd-49dd-9f0e-71be4d4bcb2f",
   "metadata": {},
   "outputs": [],
   "source": [
    "plot_character_length(patient_reactions_table, 'patient_reactions_table')"
   ]
  },
  {
   "cell_type": "markdown",
   "id": "f9aa8f89-dc57-4ce7-8c72-d3b1129b0c63",
   "metadata": {},
   "source": [
    "### Examine Outlier Text Lengths to Help with VARCHAR Limits"
   ]
  },
  {
   "cell_type": "code",
   "execution_count": null,
   "id": "f5bba430-cd00-495f-b93e-625aad125e5b",
   "metadata": {},
   "outputs": [],
   "source": []
  },
  {
   "cell_type": "code",
   "execution_count": null,
   "id": "cd554c3f-332c-44ae-9a2d-563e88e41d9e",
   "metadata": {},
   "outputs": [],
   "source": []
  },
  {
   "cell_type": "code",
   "execution_count": null,
   "id": "1cae1a4d-e999-4a79-bfc3-a82dc636a6b9",
   "metadata": {},
   "outputs": [],
   "source": [
    "# Write the DataFrame to a CSV file\n",
    "patient_reactions_table.to_csv('DataLibrary/reactions_table.csv', index=False)"
   ]
  },
  {
   "cell_type": "markdown",
   "id": "ec93225d-e36c-4149-aa61-133473aaf29d",
   "metadata": {},
   "source": [
    "## PreProcess Prices Table"
   ]
  },
  {
   "cell_type": "markdown",
   "id": "4192e542-f927-4d37-bd27-8efcbb10f63f",
   "metadata": {},
   "source": [
    "### Select Columns"
   ]
  },
  {
   "cell_type": "code",
   "execution_count": null,
   "id": "6047a92d-b7f9-4166-93eb-8e9dd577bd20",
   "metadata": {},
   "outputs": [],
   "source": [
    "prices_table = pd.DataFrame(prices_df, \n",
    "                            columns = [#\"NDC Description\",  # Identifies the drug name/dosage, Redundant Information with labels_table\n",
    "                                       \"NDC\",  # 11 character FDA code, Do NOT Tokenize, database key\n",
    "                                       \"NADAC_Per_Unit\",  #  The National Average Drug Acquisition Cost per unit, do NOT tokenize\n",
    "                                       \"Effective Date\",  # The effective date of the NADAC Per Unit cost\n",
    "                                        #\"Pricing_Unit\",  # Pricing unit for NDC ('ML', 'GM 'or 'EA'), Not necessary, just use price\n",
    "                                        #\"Pharmacy_Type_Indicator\",  # 'C/I' data from Chain/Independent pharmacies, does not provide helpful info\n",
    "                                        #\"OTC\",  # Indicates whether NDC is over-the-counter (OTC), redundant with labels_table\n",
    "                                        #\"Explanation Code\",  # NADAC Calculation Method, not necessary for this project, too much missing data\n",
    "                                                                       # Code 1: Inform from most recent survey.\n",
    "                                                                       # Code 2: Cost within ± 2%, carried forward from previous\n",
    "                                                                       # Code 3: Published pricing, or help desk inquiry\n",
    "                                                                       # Code 4: Carried forward from previous year\n",
    "                                                                       # Code 5: Based on package size.\n",
    "                                                                       # Code 6: CMS Covered Outpatient Drug Product File drug category \n",
    "                                        \"Classification_for_Rate_Setting\",  # B: brand, \n",
    "                                                                            # G: generic\n",
    "                                                                            # B-ANDA: brand under ANDA\n",
    "                                                                            # B-BIO: biosimilar brand  \n",
    "                                        #\"Corresponding_Generic_Drug_NADAC_Per_Unit\",\n",
    "                                        #\"Corresponding_Generic_Drug_Effective_Date\"\n",
    "                                        #\"As of Date\"\n",
    "                                      ])\n",
    "\n",
    "#prices_table = prices_table[['NDC', 'NADAC_Per_Unit', 'Effective Date', 'Classification_for_Rate_Setting', \n",
    "#                             'Corresponding_Generic_Drug_NADAC_Per_Unit', 'Corresponding_Generic_Drug_Effective_Date']]\n"
   ]
  },
  {
   "cell_type": "markdown",
   "id": "9521129b-a470-4e08-8d4f-8aef30f24f64",
   "metadata": {},
   "source": [
    "### Fix Dtypes"
   ]
  },
  {
   "cell_type": "code",
   "execution_count": null,
   "id": "25a40b41-ae0b-439b-b220-a8500c3af4c5",
   "metadata": {},
   "outputs": [],
   "source": [
    "prices_table['Effective Date'] = pd.to_datetime(prices_table['Effective Date'])\n",
    "#prices_table['Corresponding_Generic_Drug_Effective_Date'] = pd.to_datetime(prices_table['Corresponding_Generic_Drug_Effective_Date'])\n",
    "prices_table['NADAC_Per_Unit'] = prices_table['NADAC_Per_Unit'].astype(float)"
   ]
  },
  {
   "cell_type": "markdown",
   "id": "fcb944a0-8337-433f-a0ba-4ce924f3e953",
   "metadata": {},
   "source": [
    "### Examine Nulls"
   ]
  },
  {
   "cell_type": "code",
   "execution_count": null,
   "id": "58ba4cbf-e376-4391-b794-045b93d6ea45",
   "metadata": {},
   "outputs": [],
   "source": [
    "# replace empty strings with nan\n",
    "prices_table = prices_table.replace(r'^\\s*$', np.nan, regex=True)\n",
    "\n",
    "prices_nan = nan_info(prices_table)\n",
    "prices_nan"
   ]
  },
  {
   "cell_type": "markdown",
   "id": "597efcfa-9426-4cd9-8b7d-5e41e62328c0",
   "metadata": {},
   "source": [
    "### Feature Engineering "
   ]
  },
  {
   "cell_type": "code",
   "execution_count": null,
   "id": "76fa6feb-0844-4552-aca3-11370c34e67e",
   "metadata": {},
   "outputs": [],
   "source": [
    "prices_table['Classification_for_Rate_Setting'].value_counts()"
   ]
  },
  {
   "cell_type": "code",
   "execution_count": null,
   "id": "89751cd5-58fd-41cf-b882-79a851fe6724",
   "metadata": {},
   "outputs": [],
   "source": [
    "# Update classification to binary generic/brand, G:1 B:0\n",
    "prices_table['Classification_for_Rate_Setting'] = prices_table['Classification_for_Rate_Setting'].apply(lambda x: 1 if x == 'G' else 0)"
   ]
  },
  {
   "cell_type": "code",
   "execution_count": null,
   "id": "e479843f-10dc-4d8e-a9ea-8a115a7d9b60",
   "metadata": {},
   "outputs": [],
   "source": [
    "# Add index column\n",
    "prices_table = add_sequential_index(prices_table, 'price_id')"
   ]
  },
  {
   "cell_type": "markdown",
   "id": "33329428-f64c-485f-b139-19cae9524203",
   "metadata": {},
   "source": [
    "### Rename Columns"
   ]
  },
  {
   "cell_type": "code",
   "execution_count": null,
   "id": "8e9cfd4d-ab09-4771-b800-025c9101169b",
   "metadata": {},
   "outputs": [],
   "source": [
    "prices_table = prices_table.rename(columns = {'NDC': 'ndc',\n",
    "                         'NADAC_Per_Unit': 'unit_price',\n",
    "                         'Effective Date': 'price_date',\n",
    "                         'Classification_for_Rate_Setting': 'generic_brand',\n",
    "                         'Corresponding_Generic_Drug_NADAC_Per_Unit': 'generic_price',\n",
    "                         'Corresponding_Generic_Drug_Effective_Date': 'generic_date'})"
   ]
  },
  {
   "cell_type": "code",
   "execution_count": null,
   "id": "cf1add5b-bdf8-4bed-87bf-93f701285bb8",
   "metadata": {},
   "outputs": [],
   "source": [
    "prices_table.info()"
   ]
  },
  {
   "cell_type": "code",
   "execution_count": null,
   "id": "b1d53213-7de1-4611-9b85-c573ce9eff87",
   "metadata": {},
   "outputs": [],
   "source": [
    "# Write the DataFrame to a CSV file\n",
    "prices_table.to_csv('DataLibrary/prices_table.csv', index=False)"
   ]
  },
  {
   "cell_type": "markdown",
   "id": "e3f7210d-ba69-488f-9ba3-f7ddee6d0dc6",
   "metadata": {},
   "source": [
    "## Preprocess Documents Table"
   ]
  },
  {
   "cell_type": "markdown",
   "id": "b1de154c-b24f-495f-83a3-4fdb8a0026aa",
   "metadata": {},
   "source": [
    "### Select Columns"
   ]
  },
  {
   "cell_type": "code",
   "execution_count": null,
   "id": "c45fa0e9-d061-40c0-8db2-aaaa48ce32dc",
   "metadata": {},
   "outputs": [],
   "source": [
    "documents_table = pd.DataFrame(documents_df, columns=[\"doc_type\", \"year\", \"text\"])\n",
    "\n",
    "documents_table = add_sequential_index(documents_table,'doc_id')\n"
   ]
  },
  {
   "cell_type": "markdown",
   "id": "d5e09f16-f99e-4163-85cb-89a501f26006",
   "metadata": {},
   "source": [
    "### Fix Dtypes"
   ]
  },
  {
   "cell_type": "markdown",
   "id": "d0aa26fb-5fce-4d8f-9baa-03fae29b2b20",
   "metadata": {},
   "source": [
    "### Match Drugs Present in Text"
   ]
  },
  {
   "cell_type": "code",
   "execution_count": null,
   "id": "1732f70d-73eb-435c-9165-fbbf3a8abfa9",
   "metadata": {},
   "outputs": [],
   "source": [
    "def find_matching_drugs(text, unique_drug_names):\n",
    "    matched_drugs = []\n",
    "    for drug in unique_drug_names:\n",
    "        if drug.lower() in text.lower():\n",
    "            matched_drugs.append(drug)\n",
    "    return matched_drugs\n",
    "\n",
    "# Create 'matching_drugs' column using apply\n",
    "documents_table['matching_drugs'] = documents_table['text'].apply(lambda x: find_matching_drugs(x, unique_drug_names))\n"
   ]
  },
  {
   "cell_type": "code",
   "execution_count": null,
   "id": "4638b1a4-d6e8-4ccf-afc7-332598549cf7",
   "metadata": {},
   "outputs": [],
   "source": [
    "# Figure out how to apply\n",
    "# Create a pool with the same number of workers as CPU cores\n",
    "with multiprocessing.Pool(num_cores) as p:\n",
    "    # Apply the process_document function to each element in the 'text' column in parallel\n",
    "    documents_table['matching_drugs'] = p.map(find_matching_drugs, (documents_table['text'], unique_drug_names))\n",
    "\n"
   ]
  },
  {
   "cell_type": "markdown",
   "id": "7587af59-5d01-435f-9233-0d76234598d6",
   "metadata": {},
   "source": [
    "### Match Reactions Present in Text"
   ]
  },
  {
   "cell_type": "markdown",
   "id": "6e1f346e-b053-490b-a0c1-e51b3bb07f9b",
   "metadata": {},
   "source": [
    "\n"
   ]
  },
  {
   "cell_type": "code",
   "execution_count": null,
   "id": "76567cdf-03fb-4047-a8b8-61794f2bb2ef",
   "metadata": {},
   "outputs": [],
   "source": [
    "# Function to check for matches between text and unique_reactions\n",
    "def check_reactions(text, unique_reactions):\n",
    "    text_lower = text.lower()\n",
    "    matches = [1 if reaction.lower() in text_lower else 0 for reaction in unique_reactions]\n",
    "    return matches\n",
    "\n"
   ]
  },
  {
   "cell_type": "code",
   "execution_count": null,
   "id": "36a6eadd-0709-493e-9989-26085ce32c6d",
   "metadata": {},
   "outputs": [],
   "source": [
    "# Figure out how to apply\n",
    "# Create a pool with the same number of workers as CPU cores\n",
    "with multiprocessing.Pool(num_cores) as p:\n",
    "    # Apply the process_document function to each element in the 'text' column in parallel\n",
    "    documents_table['matching_reactions'] = p.map(check_reactions, (documents_table['text'], unique_reaction_names))\n"
   ]
  },
  {
   "cell_type": "markdown",
   "id": "8e5f004e-3d2b-4128-a2a2-beb97f994476",
   "metadata": {},
   "source": [
    "### Generate binary column for each reaction"
   ]
  },
  {
   "cell_type": "code",
   "execution_count": null,
   "id": "ef4e49b4-5a04-4b25-ac9d-178b930bfafb",
   "metadata": {},
   "outputs": [],
   "source": [
    "# Apply the function across the dataframe to populate binary columns\n",
    "documents_table[unique_reactions] = documents_table['text'].apply(lambda x: pd.Series(check_reactions(x, unique_reactions)))\n",
    "\n",
    "# Text column no longer needed\n",
    "documents_table.drop(columns=['text'], inplace=True)\n",
    "\n",
    "# Function to return matching reactions as a list\n",
    "def get_matching_reactions(row, unique_reactions):\n",
    "    matching_reactions = [reaction for reaction in unique_reactions if row[reaction] == 1]\n",
    "    return matching_reactions\n",
    "\n",
    "# Create 'all_reactions' column by applying the function row-wise\n",
    "documents_table['all_reactions'] = documents_table.apply(lambda row: get_matching_reactions(row, unique_reactions), axis=1)\n",
    "\n",
    "documents_table.head()"
   ]
  },
  {
   "cell_type": "code",
   "execution_count": null,
   "id": "824c7997-f277-463e-b1a1-520ad8f4b4d1",
   "metadata": {},
   "outputs": [],
   "source": [
    "# apply parallel processing"
   ]
  },
  {
   "cell_type": "code",
   "execution_count": null,
   "id": "03b677d5-5087-4d33-97eb-cbcf80d6315c",
   "metadata": {},
   "outputs": [],
   "source": []
  },
  {
   "cell_type": "markdown",
   "id": "70a9a7a7-b0a8-47e6-b5ff-75844308faca",
   "metadata": {},
   "source": [
    "### Explode Table by Reaction "
   ]
  },
  {
   "cell_type": "code",
   "execution_count": null,
   "id": "49fa44bd-6c03-406a-8b91-7f9291c428b3",
   "metadata": {},
   "outputs": [],
   "source": [
    "# Explode the dataframe based on reaction; makes a new row for each reaction in the list\n",
    "documents_table = documents_table.explode('matching_drugs').reset_index(drop=True)"
   ]
  },
  {
   "cell_type": "markdown",
   "id": "4e0c70a1-039b-4dfa-9092-ffa612b91b22",
   "metadata": {},
   "source": [
    "### Rename columns"
   ]
  },
  {
   "cell_type": "code",
   "execution_count": null,
   "id": "076609eb-e703-42c0-9dd5-ee913bad03b4",
   "metadata": {},
   "outputs": [],
   "source": [
    "documents_table.rename(columns={'matching_drugs': 'drug'}, inplace=True)"
   ]
  },
  {
   "cell_type": "markdown",
   "id": "e9a884fe-8748-46a0-af33-c46bfd231380",
   "metadata": {},
   "source": [
    "### Fix Dtypes"
   ]
  },
  {
   "cell_type": "code",
   "execution_count": null,
   "id": "df977bd7-a37f-4b39-94cc-2dddb7ac5290",
   "metadata": {},
   "outputs": [],
   "source": [
    "numeric_columns = documents_table.drop(columns=['doc_id', 'doc_type', 'year', 'drug', 'all_reactions'])\n",
    "numeric_columns = numeric_columns.apply(pd.to_numeric, errors='coerce')  # Convert to numeric, coerce errors to NaN"
   ]
  },
  {
   "cell_type": "markdown",
   "id": "7e1631ed-89b3-45f6-b135-33393f647f96",
   "metadata": {},
   "source": [
    "### Save as CSV for Data Exploration"
   ]
  },
  {
   "cell_type": "code",
   "execution_count": null,
   "id": "c4a81799-d87f-460e-a4a1-a701157053d8",
   "metadata": {},
   "outputs": [],
   "source": [
    "documents_table.to_csv('documents_table.csv', index=False)\n"
   ]
  },
  {
   "cell_type": "markdown",
   "id": "8a426e9a-43c8-47b8-9b73-dfe0b0a408d0",
   "metadata": {},
   "source": [
    "## Preprocess Manufacturers Table"
   ]
  },
  {
   "cell_type": "code",
   "execution_count": null,
   "id": "0fafd9ac-3b81-4cd0-87f8-569acde5913c",
   "metadata": {},
   "outputs": [],
   "source": [
    "manus_df.columns"
   ]
  },
  {
   "cell_type": "code",
   "execution_count": null,
   "id": "e415ea3f-7094-43a4-b95a-36036e95a846",
   "metadata": {},
   "outputs": [],
   "source": [
    "manus_df.info()"
   ]
  },
  {
   "cell_type": "markdown",
   "id": "beb15a0a-b3a6-49d5-bf92-18c8ebcfdf3a",
   "metadata": {},
   "source": [
    "### Select Columns"
   ]
  },
  {
   "cell_type": "code",
   "execution_count": null,
   "id": "e82456bc-ea70-44a0-898f-f5f9ecd0c218",
   "metadata": {},
   "outputs": [],
   "source": [
    "# Choose values to help fill in missing data from other tables\n",
    "manus_table = pd.DataFrame(manus_df, \n",
    "                           columns=[\"product_ndc\",\n",
    "                                    \"generic_name\",\n",
    "                                    \"brand_name\",\n",
    "                                    \"labeler_name\",\n",
    "                                    \"openfda.manufacturer_name\"])"
   ]
  },
  {
   "cell_type": "markdown",
   "id": "5c037373-f113-46e6-b2f9-7b8208572b4b",
   "metadata": {},
   "source": [
    "### Feature Engineering"
   ]
  },
  {
   "cell_type": "code",
   "execution_count": null,
   "id": "1f511cf2-5bbc-4ffc-903f-155c7499bf8c",
   "metadata": {},
   "outputs": [],
   "source": [
    "manus_table = add_sequential_index(manus_table,'manu_id')"
   ]
  },
  {
   "cell_type": "markdown",
   "id": "89c26344-a069-4d2d-803b-a62050191591",
   "metadata": {},
   "source": [
    "### Examine Nulls"
   ]
  },
  {
   "cell_type": "code",
   "execution_count": null,
   "id": "bdbd6fe2-1ac3-4738-b100-a94bd65934b5",
   "metadata": {},
   "outputs": [],
   "source": [
    "manus_nan = nan_info(manus_table)\n",
    "manus_nan"
   ]
  },
  {
   "cell_type": "markdown",
   "id": "05aa746a-c6c8-437b-a74d-9045d92ddd7f",
   "metadata": {},
   "source": [
    "### Fix Dtypes"
   ]
  },
  {
   "cell_type": "code",
   "execution_count": null,
   "id": "85fadd67-7e69-4fcd-866f-9aa028c35bd7",
   "metadata": {},
   "outputs": [],
   "source": []
  },
  {
   "cell_type": "markdown",
   "id": "3b893ea6-26f5-4c4f-9528-b424b9bfa3e1",
   "metadata": {},
   "source": [
    "### Text Processing"
   ]
  },
  {
   "cell_type": "code",
   "execution_count": null,
   "id": "7866fc70-af94-44c1-9cad-756e1ac31bcd",
   "metadata": {},
   "outputs": [],
   "source": [
    "# apply parallel processing"
   ]
  },
  {
   "cell_type": "markdown",
   "id": "47afbac2-e05e-44a4-90d1-49099e3f9af9",
   "metadata": {},
   "source": [
    "### Rename Columns"
   ]
  },
  {
   "cell_type": "code",
   "execution_count": null,
   "id": "f6ddc018-0599-45d2-b23a-cfdc7e163f52",
   "metadata": {},
   "outputs": [],
   "source": []
  },
  {
   "cell_type": "markdown",
   "id": "feb13460-6b8f-4145-b3d8-70ea89f474d2",
   "metadata": {},
   "source": [
    "### Assess Text Field Lenghts"
   ]
  },
  {
   "cell_type": "code",
   "execution_count": null,
   "id": "755cda63-9f4d-4364-a18f-6da2bde623d7",
   "metadata": {},
   "outputs": [],
   "source": []
  },
  {
   "cell_type": "code",
   "execution_count": null,
   "id": "94653fdf-5016-40ad-9fd2-071c4206917b",
   "metadata": {},
   "outputs": [],
   "source": [
    "# save .csv for EDA for now"
   ]
  },
  {
   "cell_type": "markdown",
   "id": "d2aa8327-4498-40f4-9fc0-3d8e8b18636d",
   "metadata": {},
   "source": [
    "# Standardization and Normalization\n",
    "* Use Parallel Processing"
   ]
  },
  {
   "cell_type": "markdown",
   "id": "a5063d3d-e771-4404-84e4-9648248767c0",
   "metadata": {},
   "source": [
    "## Read in ADReCS Files"
   ]
  },
  {
   "cell_type": "code",
   "execution_count": null,
   "id": "47689ac1-b686-4c7b-b8f6-256b363b5dcd",
   "metadata": {},
   "outputs": [],
   "source": [
    "adrecs_drugs = pd.read_excel('ADReCS/Drug_information_v3.3.xlsx')\n",
    "adrecs_drugs.head()"
   ]
  },
  {
   "cell_type": "code",
   "execution_count": null,
   "id": "17ce8a06-8819-49d7-af04-69ee5ceecb35",
   "metadata": {},
   "outputs": [],
   "source": [
    "adrecs_ont = pd.read_excel('ADReCS/ADR_ontology_v3.3.xlsx')\n",
    "adrecs_ont.head()"
   ]
  },
  {
   "cell_type": "code",
   "execution_count": null,
   "id": "64211904-8829-4e36-81d4-e1c208dc08e1",
   "metadata": {},
   "outputs": [],
   "source": []
  },
  {
   "cell_type": "markdown",
   "id": "2a46cc06-1a32-4263-a3f9-cf6ad3641d41",
   "metadata": {},
   "source": [
    "### Clean Text into Tokens with Bigrams"
   ]
  },
  {
   "cell_type": "code",
   "execution_count": null,
   "id": "db9e837b-5282-4085-8ebe-f4464914f9ac",
   "metadata": {},
   "outputs": [],
   "source": []
  },
  {
   "cell_type": "markdown",
   "id": "65c3bdf4-eac9-48ac-b890-aaccd2c0748d",
   "metadata": {},
   "source": [
    "### Create Mapping Dictionaries"
   ]
  },
  {
   "cell_type": "code",
   "execution_count": null,
   "id": "b3f6fe90-2f73-45fa-a402-81bc7be57efc",
   "metadata": {},
   "outputs": [],
   "source": []
  },
  {
   "cell_type": "markdown",
   "id": "98cc33cb-7557-4e45-80f6-5910782972d9",
   "metadata": {},
   "source": [
    "## Standardize Drug Names into Primary Ingredient Compounds"
   ]
  },
  {
   "cell_type": "code",
   "execution_count": null,
   "id": "563a579c-c711-44f2-ac45-744e784880ae",
   "metadata": {},
   "outputs": [],
   "source": []
  },
  {
   "cell_type": "markdown",
   "id": "3d7ffea5-d47c-4da4-b7c8-6a94d6b91393",
   "metadata": {},
   "source": [
    "## Standardize Adverse Event Terms"
   ]
  },
  {
   "cell_type": "code",
   "execution_count": null,
   "id": "42de7f34-b4aa-400f-82a1-d03128a62112",
   "metadata": {},
   "outputs": [],
   "source": []
  },
  {
   "cell_type": "markdown",
   "id": "96924bcb-89fd-44ce-948c-dd0f6763220e",
   "metadata": {},
   "source": [
    "## Standardize Manufacturer Names"
   ]
  },
  {
   "cell_type": "code",
   "execution_count": null,
   "id": "26fcdc7a-d3d9-4cf6-86d4-8ba750a69699",
   "metadata": {},
   "outputs": [],
   "source": [
    "# create custom compiled list and do string matching at 80% to standardize with NDC data"
   ]
  },
  {
   "cell_type": "code",
   "execution_count": null,
   "id": "120cf7d8-93db-4587-aacd-ed46c8bb0e56",
   "metadata": {},
   "outputs": [],
   "source": []
  },
  {
   "cell_type": "code",
   "execution_count": null,
   "id": "a94e94de-8b33-4ffe-82d9-f0d56058fc37",
   "metadata": {},
   "outputs": [],
   "source": []
  },
  {
   "cell_type": "markdown",
   "id": "91118bc7-5879-4623-9217-b0c7125ad73c",
   "metadata": {},
   "source": [
    "# Combining Data into SQL Database Based on Keys"
   ]
  },
  {
   "cell_type": "markdown",
   "id": "9c19c181-f1de-451e-8025-db80011054df",
   "metadata": {},
   "source": [
    "## Create new database to store data"
   ]
  },
  {
   "cell_type": "code",
   "execution_count": null,
   "id": "8d9fcb45-d27c-48ce-9456-9395792dad3d",
   "metadata": {},
   "outputs": [],
   "source": [
    "# connect to MySQL server\n",
    "connection = mysql.connector.connect(host=\"localhost\", user=\"root\", password=PASSWORD)\n",
    "\n",
    "# Create a cursor object\n",
    "cursor = connection.cursor()\n",
    "\n",
    "# Drop the database if it exists - this is so we can start fresh (at least while developing)\n",
    "cursor.execute(\"DROP DATABASE IF EXISTS pharma_db\")\n",
    "\n",
    "# Create the 'covid_db' database\n",
    "cursor.execute(\"CREATE DATABASE pharma_db\")\n",
    "\n",
    "# Switch to the 'covid_db' database\n",
    "cursor.execute(\"USE pharma_db\")\n",
    "\n",
    "# Commit the changes\n",
    "connection.commit()\n",
    "\n",
    "# Close the cursor and connection\n",
    "cursor.close()\n",
    "connection.close()"
   ]
  },
  {
   "cell_type": "markdown",
   "id": "aa0f7a24-bb48-42ae-ab08-459f262ad559",
   "metadata": {},
   "source": [
    "### Create Read-Only User Access for Public"
   ]
  },
  {
   "cell_type": "code",
   "execution_count": null,
   "id": "d6f89c08-22a9-418f-83bf-c011bd4d27c2",
   "metadata": {},
   "outputs": [],
   "source": [
    "# public username and password"
   ]
  },
  {
   "cell_type": "markdown",
   "id": "2343dcab-d1f6-4112-896e-37fc0dc77d45",
   "metadata": {},
   "source": [
    "### Create Edit Privelages for Us"
   ]
  },
  {
   "cell_type": "code",
   "execution_count": null,
   "id": "8b62420b-c28a-4c30-9e51-11e4df6d3f3d",
   "metadata": {},
   "outputs": [],
   "source": [
    "# private username and password"
   ]
  },
  {
   "cell_type": "markdown",
   "id": "83ea8ce1-a63e-4d3c-99e0-35329958a7ea",
   "metadata": {},
   "source": [
    "## Create dataframes from API request dataframes"
   ]
  },
  {
   "cell_type": "code",
   "execution_count": null,
   "id": "e1f22dba-6b3a-4cbe-bfa2-77609a1daffb",
   "metadata": {},
   "outputs": [],
   "source": [
    "# Connect to the MySQL server\n",
    "connection = mysql.connector.connect(\n",
    "    host=\"localhost\", user=\"root\", password=PASSWORD, database=\"pharma_db\"\n",
    ")\n",
    "\n",
    "# Create a cursor object\n",
    "cursor = connection.cursor()\n",
    "\n",
    "# Create documents table\n",
    "create_documents_table_query = \"\"\"\n",
    "CREATE TABLE IF NOT EXISTS `documents` (\n",
    "  `doc_id` INT NOT NULL,\n",
    "  `doc_type` VARCHAR(4),\n",
    "  `doc_year` INT(4),\n",
    "  `doc_text` VARCHAR(50000),\n",
    "  PRIMARY KEY(`doc_id`)\n",
    ") ENGINE=InnoDB;\n",
    "\"\"\"\n",
    "cursor.execute(create_documents_table_query)\n",
    "\n",
    "# Create adverse events table\n",
    "create_events_query = \"\"\"\n",
    "CREATE TABLE IF NOT EXISTS `adverse_events` (\n",
    "  `event_id` INT NOT NULL,\n",
    "  `safetyreportid` VARCHAR(9),\n",
    "  `event_date` DATE,\n",
    "  `serious` BOOLEAN,\n",
    "  `expedited` BOOLEAN,\n",
    "  `report_source` INT,\n",
    "  `company` VARCHAR(60),\n",
    "  `country` VARCHAR(25),\n",
    "  `sex` INT,\n",
    "  PRIMARY KEY (`event_id`)\n",
    ") ENGINE=InnoDB;\n",
    "\"\"\"\n",
    "cursor.execute(create_events_query)\n",
    "\n",
    "# Create patient_reactions table\n",
    "create_patient_reactions_query = \"\"\"\n",
    "CREATE TABLE IF NOT EXISTS `patient_reactions` (\n",
    " `patient_reaction_id` INT NOT NULL,\n",
    "  `event_id` INT,\n",
    "  `reaction_processed` VARCHAR(100),\n",
    "  `version_medRNA` VARCHAR(4),\n",
    "  `outcome` VARCHAR(50),\n",
    "  PRIMARY KEY(`patient_reaction_id`),\n",
    "  FOREIGN KEY (`event_id`) REFERENCES `adverse_events` (`event_id`)\n",
    "  ON DELETE CASCADE,\n",
    "  INDEX(`event_id`)\n",
    "  ) ENGINE=InnoDB;\n",
    "\"\"\"\n",
    "cursor.execute(create_patient_reactions_query)\n",
    "\n",
    "# Create labels table\n",
    "create_labels_query = \"\"\"\n",
    "CREATE TABLE IF NOT EXISTS `labels` (\n",
    "  `label_id` INT NOT NULL AUTO_INCREMENT,\n",
    "  `rxcui` VARCHAR(700),\n",
    "  `ndc` VARCHAR(700), \n",
    "  `label_date` DATE,\n",
    "  `ingredients` VARCHAR(3000),\n",
    "  `warnings` VARCHAR(1000),\n",
    "  `manufacturer` VARCHAR(1000),\n",
    "  `drug_names` VARCHAR(2600),\n",
    "  `purpose` VARCHAR(900),\n",
    "  PRIMARY KEY(`label_id`),\n",
    "  INDEX(`ndc`),\n",
    "  INDEX(`rxcui`)\n",
    ") ENGINE=InnoDB;\n",
    "\"\"\"\n",
    "cursor.execute(create_labels_query)\n",
    "\n",
    "# Create patient_drugs table\n",
    "create_patient_drugs_query = \"\"\"\n",
    "CREATE TABLE IF NOT EXISTS `patient_drugs` (\n",
    " `patient_drug_id` INT NOT NULL AUTO_INCREMENT,\n",
    "  `event_id` INT,\n",
    "  `med_product` VARCHAR(100),\n",
    "  `indication` VARCHAR(60),\n",
    "  `generic_name` VARCHAR(110),\n",
    "  `manufacturer` VARCHAR(9000),\n",
    "  `product_type` VARCHAR(50),\n",
    "  `rxcui` VARCHAR(700),\n",
    "  `unii` VARCHAR(130),\n",
    "  PRIMARY KEY(`patient_drug_id`),\n",
    "  FOREIGN KEY (`event_id`) REFERENCES `adverse_events` (`event_id`)\n",
    "    ON DELETE CASCADE,\n",
    "  INDEX(`event_id`),\n",
    "  INDEX(`rxcui`)\n",
    "  ) ENGINE=InnoDB;\n",
    "\"\"\"\n",
    "cursor.execute(create_patient_drugs_query)\n",
    "\n",
    "create_prices_query = \"\"\"\n",
    "CREATE TABLE IF NOT EXISTS `prices` (\n",
    " `price_id` INT NOT NULL AUTO_INCREMENT,\n",
    "  `ndc` VARCHAR(120),\n",
    "  `unit_price` VARCHAR(20),\n",
    "  `price_date` DATE,\n",
    "  `generic_brand` BOOLEAN,\n",
    "  `generic_price` VARCHAR(20),\n",
    "  `generic_date` DATE,\n",
    "  PRIMARY KEY(`price_id`),\n",
    "  FOREIGN KEY (`ndc`) REFERENCES `labels` (`ndc`)\n",
    "  ON DELETE CASCADE,\n",
    "  INDEX(`ndc`)\n",
    ") ENGINE=InnoDB;\n",
    "\"\"\"\n",
    "cursor.execute(create_prices_query)\n",
    "\n",
    "# show tables below\n",
    "cursor.execute(\"SHOW TABLES\")\n",
    "\n",
    "# Fetch all the rows\n",
    "tables = cursor.fetchall()\n",
    "\n",
    "# Print the list of tables\n",
    "for table in tables:\n",
    "    print(table[0])\n",
    "\n",
    "# Commit the changes\n",
    "connection.commit()\n",
    "\n",
    "# Close the cursor and connection\n",
    "cursor.close()\n",
    "connection.close()"
   ]
  },
  {
   "cell_type": "markdown",
   "id": "7289cb8e-5621-4726-b77a-01e8d7add79e",
   "metadata": {},
   "source": [
    "## Bulk Import Data from Dataframes"
   ]
  },
  {
   "cell_type": "markdown",
   "id": "008a63e3-820b-476a-a25f-ed83d9c1abaf",
   "metadata": {},
   "source": [
    "### Documents Table"
   ]
  },
  {
   "cell_type": "code",
   "execution_count": null,
   "id": "f81290b5-ee68-49d7-b56d-8f38eff87d35",
   "metadata": {},
   "outputs": [],
   "source": [
    "# Connect to the MySQL server\n",
    "connection = mysql.connector.connect(\n",
    "    host=\"localhost\", user=\"root\", password=PASSWORD, database=\"pharma_db\"\n",
    ")\n",
    "\n",
    "# Create list of data inputs\n",
    "documents_list = documents_table.values.tolist()\n",
    "\n",
    "# Connect to database table and bulk insert data\n",
    "with connection:\n",
    "    sql_bulk = \"\"\"INSERT INTO documents \n",
    "    (`doc_id`, `doc_type`, `doc_year`, `doc_text`) \n",
    "    VALUES (%s, %s, %s, %s)\"\"\"\n",
    "    cursor = connection.cursor()\n",
    "    cursor.executemany(sql_bulk, documents_list)\n",
    "    connection.commit()\n",
    "\n",
    "# Close the cursor and connection\n",
    "cursor.close()\n",
    "connection.close()"
   ]
  },
  {
   "cell_type": "markdown",
   "id": "d312e6c9-5104-435e-a84b-869c95ef5042",
   "metadata": {},
   "source": [
    "### Events Table"
   ]
  },
  {
   "cell_type": "code",
   "execution_count": null,
   "id": "f5c51f36-8660-4cf7-9aa3-b232a021a47a",
   "metadata": {},
   "outputs": [],
   "source": [
    "# Connect to the MySQL server\n",
    "connection = mysql.connector.connect(\n",
    "    host=\"localhost\", user=\"root\", password=PASSWORD, database=\"pharma_db\"\n",
    ")\n",
    "\n",
    "# Create list of data inputs\n",
    "events_list = events_table.values.tolist()\n",
    "\n",
    "# Connect to database table and bulk insert data\n",
    "with connection:\n",
    "    sql_bulk = \"\"\"INSERT INTO adverse_events \n",
    "    (`event_id`, `safetyreportid`, `event_date`, \n",
    "    `serious`, `expedited`, `report_source`,\n",
    "    `company`, `country`, `age`, `sex`) \n",
    "    VALUES (%s, %s, %s, %s, %s, %s, %s, %s, %s)\"\"\"\n",
    "    cursor = connection.cursor()\n",
    "    cursor.executemany(sql_bulk, events_list)\n",
    "    connection.commit()\n",
    "\n",
    "# Close the cursor and connection\n",
    "cursor.close()\n",
    "connection.close()"
   ]
  },
  {
   "cell_type": "markdown",
   "id": "9e44b829-55e1-44df-b5f2-d4567604f44a",
   "metadata": {},
   "source": [
    "### Patient Drugs Table"
   ]
  },
  {
   "cell_type": "code",
   "execution_count": null,
   "id": "bdea11ea-c9c4-434a-bb79-d4c56ead7298",
   "metadata": {},
   "outputs": [],
   "source": [
    "# Connect to the MySQL server\n",
    "connection = mysql.connector.connect(\n",
    "    host=\"localhost\", user=\"root\", password=PASSWORD, database=\"pharma_db\"\n",
    ")\n",
    "\n",
    "# Create list of data inputs\n",
    "drugs_list = patient_drugs_table.values.tolist()\n",
    "\n",
    "# Connect to database table and bulk insert data\n",
    "with connection:\n",
    "    sql_bulk = \"\"\"INSERT INTO patient_drugs\n",
    "    (`patient_drug_id`, `event_id`, `med_product`, \n",
    "    `indication`, `generic_name`, `manufacturer`,\n",
    "    `product_type`, `rxcui`, `unii`) \n",
    "    VALUES (%s, %s, %s, %s, %s, %s, %s, %s, %s)\"\"\"\n",
    "    cursor = connection.cursor()\n",
    "    cursor.executemany(sql_bulk, drugs_list)\n",
    "    connection.commit()\n",
    "\n",
    "# Close the cursor and connection\n",
    "cursor.close()\n",
    "connection.close()"
   ]
  },
  {
   "cell_type": "markdown",
   "id": "5486f8eb-23e3-4528-837b-1c1113e1d7fb",
   "metadata": {},
   "source": [
    "### Patient Reactions Table"
   ]
  },
  {
   "cell_type": "code",
   "execution_count": null,
   "id": "97f63d01-2849-47a5-aa9f-7b227e4332ad",
   "metadata": {},
   "outputs": [],
   "source": [
    "# Connect to the MySQL server\n",
    "connection = mysql.connector.connect(\n",
    "    host=\"localhost\", user=\"root\", password=PASSWORD, database=\"pharma_db\"\n",
    ")\n",
    "\n",
    "# Create list of data inputs\n",
    "reactions_list = patient_reactions_table.values.tolist()\n",
    "\n",
    "# Connect to database table and bulk insert data\n",
    "with connection:\n",
    "    sql_bulk = \"\"\"INSERT INTO patient_reactions\n",
    "    (`patient_reaction_id`, `event_id`, `version_meDRA`, \n",
    "    `outcome`, `reaction_processed`) \n",
    "    VALUES (%s, %s, %s, %s, %s)\"\"\"\n",
    "    cursor = connection.cursor()\n",
    "    cursor.executemany(sql_bulk, reactions_list)\n",
    "    connection.commit()\n",
    "\n",
    "# Close the cursor and connection\n",
    "cursor.close()\n",
    "connection.close()"
   ]
  },
  {
   "cell_type": "markdown",
   "id": "1219c017-df1f-4bbe-934f-c96c01dbc26f",
   "metadata": {},
   "source": [
    "### Labels Table"
   ]
  },
  {
   "cell_type": "code",
   "execution_count": null,
   "id": "a83843a5-86df-4161-b892-8b6de27ca1fc",
   "metadata": {},
   "outputs": [],
   "source": [
    "# Connect to the MySQL server\n",
    "connection = mysql.connector.connect(\n",
    "    host=\"localhost\", user=\"root\", password=PASSWORD, database=\"pharma_db\"\n",
    ")\n",
    "\n",
    "# Create list of data inputs\n",
    "labels_list = labels_table.values.tolist()\n",
    "\n",
    "# Connect to database table and bulk insert data\n",
    "with connection:\n",
    "    sql_bulk = \"\"\"INSERT INTO labels\n",
    "    (`label_id`, `ndc`, `label_date`, \n",
    "    `ingredients`, `warnings`, `drug_names`,\n",
    "    `manufacturer`, `purpose`, `rxcui`) \n",
    "    VALUES (%s, %s, %s, %s, %s, %s, %s, %s, %s)\"\"\"\n",
    "    cursor = connection.cursor()\n",
    "    cursor.executemany(sql_bulk, labels_list)\n",
    "    connection.commit()\n",
    "\n",
    "# Close the cursor and connection\n",
    "cursor.close()\n",
    "connection.close()"
   ]
  },
  {
   "cell_type": "markdown",
   "id": "7974d059-8377-4557-9a83-010067929bb7",
   "metadata": {},
   "source": [
    "### Prices Table"
   ]
  },
  {
   "cell_type": "code",
   "execution_count": null,
   "id": "16ffa722-f8d2-42ac-85d1-84dd2fb2779b",
   "metadata": {},
   "outputs": [],
   "source": [
    "# Connect to the MySQL server\n",
    "connection = mysql.connector.connect(\n",
    "    host=\"localhost\", user=\"root\", password=PASSWORD, database=\"pharma_db\"\n",
    ")\n",
    "\n",
    "# Create list of data inputs\n",
    "prices_list = prices_table.values.tolist()\n",
    "\n",
    "# Connect to database table and bulk insert data\n",
    "with connection:\n",
    "    sql_bulk = \"\"\"INSERT INTO prices\n",
    "    (`price_id`, `ndc`, `unit_price`, \n",
    "    `price_date`, `generic_brand`, `generic_price`,\n",
    "    `generic_date`) \n",
    "    VALUES (%s, %s, %s, %s, %s, %s, %s)\"\"\"\n",
    "    cursor = connection.cursor()\n",
    "    cursor.executemany(sql_bulk, prices_list)\n",
    "    connection.commit()\n",
    "\n",
    "# Close the cursor and connection\n",
    "cursor.close()\n",
    "connection.close()"
   ]
  },
  {
   "cell_type": "code",
   "execution_count": null,
   "id": "5ce03922-b4ed-47bd-96b3-7dbc21247446",
   "metadata": {},
   "outputs": [],
   "source": []
  },
  {
   "cell_type": "code",
   "execution_count": null,
   "id": "bcc11ecc-48f0-4fb1-9908-8193905270e4",
   "metadata": {},
   "outputs": [],
   "source": []
  },
  {
   "cell_type": "code",
   "execution_count": null,
   "id": "fd97af83-bfbb-405b-a993-010c0f05584c",
   "metadata": {},
   "outputs": [],
   "source": []
  },
  {
   "cell_type": "code",
   "execution_count": null,
   "id": "45568cec-c825-4dac-8a9c-5be509b5a5d1",
   "metadata": {},
   "outputs": [],
   "source": []
  },
  {
   "cell_type": "code",
   "execution_count": null,
   "id": "853e5724-d1f9-4b5f-8030-fe1b9b2ca282",
   "metadata": {},
   "outputs": [],
   "source": []
  }
 ],
 "metadata": {
  "kernelspec": {
   "display_name": "Python 3 (ipykernel)",
   "language": "python",
   "name": "python3"
  },
  "language_info": {
   "codemirror_mode": {
    "name": "ipython",
    "version": 3
   },
   "file_extension": ".py",
   "mimetype": "text/x-python",
   "name": "python",
   "nbconvert_exporter": "python",
   "pygments_lexer": "ipython3",
   "version": "3.8.8"
  }
 },
 "nbformat": 4,
 "nbformat_minor": 5
}
